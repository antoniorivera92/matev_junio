{
 "cells": [
  {
   "cell_type": "markdown",
   "metadata": {},
   "source": [
    "# Geometría analítica"
   ]
  },
  {
   "cell_type": "markdown",
   "metadata": {},
   "source": [
    "# Clase 1"
   ]
  },
  {
   "cell_type": "markdown",
   "metadata": {},
   "source": [
    "## Plano cartesiano"
   ]
  },
  {
   "cell_type": "markdown",
   "metadata": {},
   "source": [
    "https://www.desmos.com/calculator"
   ]
  },
  {
   "cell_type": "markdown",
   "metadata": {},
   "source": [
    "### Ejes coordenados"
   ]
  },
  {
   "cell_type": "markdown",
   "metadata": {},
   "source": [
    "Eje $x$ (eje de las abscisas): es una línea horizontal que toma valores desde $-\\infty$ hasta $\\infty$\n",
    "\n",
    "Eje $y$ (eje de las ordenadas): es una línea vertical que toma valores desde $-\\infty$ hasta $\\infty$"
   ]
  },
  {
   "cell_type": "markdown",
   "metadata": {},
   "source": [
    "**¿Cómo nos movemos en el plano cartesiano?**"
   ]
  },
  {
   "cell_type": "markdown",
   "metadata": {},
   "source": [
    "Para empezar a movernos en el plano cartesiano tenemos que partir del origen $O(0,0)$. El origen es la intersección los ejes coordenados."
   ]
  },
  {
   "cell_type": "markdown",
   "metadata": {},
   "source": [
    "Si las coordenadas son $(x,y)$, la primera coordenada (la abscisa $x$) nos indica cuántas unidades movernos sobre el eje de las $x$ (si es positivo nos movemos hacia la derecha; si es negativo, hacia la izquierda)."
   ]
  },
  {
   "cell_type": "markdown",
   "metadata": {},
   "source": [
    "La segunda coordenada (la ordenada $y$) nos indica cuántas unidades movernos sobre el eje de las $y$ (si es positivo nos movemos hacia arriba; si es negativo, hacia abajo)."
   ]
  },
  {
   "cell_type": "markdown",
   "metadata": {},
   "source": [
    "$P_1(1,3)$, $P_2(-2,2)$, $P_3(-4,-3)$, $P_4(2,-4)$"
   ]
  },
  {
   "cell_type": "markdown",
   "metadata": {},
   "source": [
    "$Q_1(1,0)$, $Q_2(-2,0)$, $Q_3(0,-3)$, $Q_4(0,4)$"
   ]
  },
  {
   "cell_type": "markdown",
   "metadata": {},
   "source": [
    "<img src=\"plano_cartesiano.png\" align=\"middle\" width=\"1000\">"
   ]
  },
  {
   "cell_type": "markdown",
   "metadata": {},
   "source": [
    "**Cuadrantes:**\n",
    "* Primer cuadrante $(+,+)$\n",
    "* Segundo cuadrante $(-,+)$\n",
    "* Tercer cuadrante $(-,-)$\n",
    "* Cuarto cuadrante $(+,-)$\n"
   ]
  },
  {
   "cell_type": "markdown",
   "metadata": {},
   "source": [
    "## Distancia entre dos puntos"
   ]
  },
  {
   "cell_type": "markdown",
   "metadata": {},
   "source": [
    "Si tenemos dos puntos $P(x_1,y_1)$ y $Q(x_2,y_2)$, la longitud del segmento entre estos puntos es\n",
    "\n",
    "$$ d(P,Q)=\\overline{PQ}=\\sqrt{(x_1-x_2)^2+(y_1-y_2)^2} $$"
   ]
  },
  {
   "cell_type": "markdown",
   "metadata": {},
   "source": [
    "* ***Ejemplo:*** Determine la distancia entre los puntos $A(-2,1)$, y $B(1,5)$"
   ]
  },
  {
   "cell_type": "markdown",
   "metadata": {},
   "source": [
    "$$ \\overline{AB}=\\sqrt{[(-2)-(1)]^2+[(1)-(5)]^2} $$"
   ]
  },
  {
   "cell_type": "markdown",
   "metadata": {},
   "source": [
    "$$ \\overline{AB}=\\sqrt{[-2-1]^2+[1-5]^2} $$"
   ]
  },
  {
   "cell_type": "markdown",
   "metadata": {},
   "source": [
    "$$ \\overline{AB}=\\sqrt{[-3]^2+[-4]^2} $$"
   ]
  },
  {
   "cell_type": "markdown",
   "metadata": {},
   "source": [
    "$$ \\overline{AB}=\\sqrt{9+16} $$"
   ]
  },
  {
   "cell_type": "markdown",
   "metadata": {},
   "source": [
    "$$ \\overline{AB}=\\sqrt{25} $$"
   ]
  },
  {
   "cell_type": "markdown",
   "metadata": {},
   "source": [
    "$$ \\overline{AB}=5 $$"
   ]
  },
  {
   "cell_type": "markdown",
   "metadata": {},
   "source": [
    "$$\\circledast$$"
   ]
  },
  {
   "cell_type": "markdown",
   "metadata": {},
   "source": [
    "* ***Ejemplo:*** Determina si el triángulo formado por los puntos $A(0,0)$, $B(6,5)$, y $C(1,6)$ es escaleno, isósceles o equilátero."
   ]
  },
  {
   "cell_type": "markdown",
   "metadata": {},
   "source": [
    "* **Escaleno:** Ninguno de sus lados son iguales.\n",
    "* **Isósceles:** Dos lados son iguales.\n",
    "* **Equilátero:** Todos los lados son iguales."
   ]
  },
  {
   "cell_type": "markdown",
   "metadata": {},
   "source": [
    "$$ \\overline{AB}=\\sqrt{(0-6)^2+(0-5)^2}=\\sqrt{36+25}=\\sqrt{61} $$"
   ]
  },
  {
   "cell_type": "markdown",
   "metadata": {},
   "source": [
    "$$ \\overline{AC}=\\sqrt{(0-1)^2+(0-6)^2}=\\sqrt{37} $$"
   ]
  },
  {
   "cell_type": "markdown",
   "metadata": {},
   "source": [
    "$$ \\overline{BC}=\\sqrt{(6-1)^2+(5-6)^2}=\\sqrt{26} $$"
   ]
  },
  {
   "cell_type": "markdown",
   "metadata": {},
   "source": [
    "Se trata de un triángulo escaleno."
   ]
  },
  {
   "cell_type": "markdown",
   "metadata": {},
   "source": [
    "$$\\circledast$$"
   ]
  },
  {
   "cell_type": "markdown",
   "metadata": {},
   "source": [
    "## División de un segmento en una razón dada"
   ]
  },
  {
   "cell_type": "markdown",
   "metadata": {},
   "source": [
    "### Punto medio"
   ]
  },
  {
   "cell_type": "markdown",
   "metadata": {},
   "source": [
    "Si tenemos dos puntos, $P_1(x_1,y_1)$ y $P_2(x_2,y_2)$, el punto medio $M(x_0,y_0)$ tiene coordenadas"
   ]
  },
  {
   "cell_type": "markdown",
   "metadata": {},
   "source": [
    "$$x_0=\\dfrac{x_1+x_2}{2}$$"
   ]
  },
  {
   "cell_type": "markdown",
   "metadata": {},
   "source": [
    "$$y_0=\\dfrac{y_1+y_2}{2}$$"
   ]
  },
  {
   "cell_type": "markdown",
   "metadata": {},
   "source": [
    "* ***Ejemplo:*** Si tuviéramos los puntos $A(-3,-4)$ y $B(5,-6)$, ¿cuáles son las coordenadas del punto que está a la mitad?"
   ]
  },
  {
   "cell_type": "markdown",
   "metadata": {},
   "source": [
    "$$x_0=\\dfrac{(-3)+(5)}{2}=1$$"
   ]
  },
  {
   "cell_type": "markdown",
   "metadata": {},
   "source": [
    "$$y_0=\\dfrac{(-4)+(-6)}{2}=-5$$"
   ]
  },
  {
   "cell_type": "markdown",
   "metadata": {},
   "source": [
    "El punto medio entre $A$ y $B$ es $M(1,-5)$."
   ]
  },
  {
   "cell_type": "markdown",
   "metadata": {},
   "source": [
    "$$ \\circledast $$"
   ]
  },
  {
   "cell_type": "markdown",
   "metadata": {},
   "source": [
    "### Razón"
   ]
  },
  {
   "cell_type": "markdown",
   "metadata": {},
   "source": [
    "Nuevamente tenemos dos puntos, $P_1(x_1,y_1)$ y $P_2(x_2,y_2)$. Imaginemos un tercer punto, $R(x_0,y_0)$, entre estos dos puntos (pero no necesariamente a la mitad). Llamaremos *razón* al valor de la fracción \n",
    "\n",
    "$$r=\\dfrac{\\overline{P_1R}}{\\overline{P_2R}}$$"
   ]
  },
  {
   "cell_type": "markdown",
   "metadata": {},
   "source": [
    "* ***Ejemplo:*** Tenemos los puntos $A(1,1)$, $B(3, 3)$, $C(7,7)$. ¿Cuál es el valor de la razón\n",
    "$$\\dfrac{\\overline{AB}}{\\overline{BC}}?$$"
   ]
  },
  {
   "cell_type": "markdown",
   "metadata": {},
   "source": [
    "$$ \\overline{AB}=\\sqrt{(1-3)^2+(1-3)^2}=\\sqrt{8} $$"
   ]
  },
  {
   "cell_type": "markdown",
   "metadata": {},
   "source": [
    "$$ \\overline{CB}=\\sqrt{(7-3)^2+(7-3)^2}=\\sqrt{32} $$"
   ]
  },
  {
   "cell_type": "markdown",
   "metadata": {},
   "source": [
    "$$\\dfrac{\\overline{AB}}{\\overline{BC}}=\\dfrac{\\sqrt{8}}{\\sqrt{32}}=\\dfrac{1}{2}$$"
   ]
  },
  {
   "cell_type": "markdown",
   "metadata": {},
   "source": [
    "Si buscamos cuántas veces cabe $\\overline{BC}$ en $\\overline{AB}$, la razón es $1/2$."
   ]
  },
  {
   "cell_type": "markdown",
   "metadata": {},
   "source": [
    "Si buscamos cuántas veces cabe $\\overline{AB}$ en $\\overline{BC}$, la razón es $2$."
   ]
  },
  {
   "cell_type": "markdown",
   "metadata": {},
   "source": [
    "$$ \\circledast $$"
   ]
  },
  {
   "cell_type": "markdown",
   "metadata": {},
   "source": [
    "### Coordenadas para una razón $r$ dada"
   ]
  },
  {
   "cell_type": "markdown",
   "metadata": {},
   "source": [
    "Nuevamente tenemos dos puntos, $P_1(x_1,y_1)$ y $P_2(x_2,y_2)$. Llamaremos *razón* a una cantidad escrita como fracción $r=\\dfrac{a}{b}.$ Esta fracción nos dice que el  segmento $\\overline{P_1P_2}$ se tiene que dividir en $a+b$ partes."
   ]
  },
  {
   "cell_type": "markdown",
   "metadata": {},
   "source": [
    "Entonces, el punto $R(x_0,y_0)$ que aparece en esa razón dada, tiene coordenadas"
   ]
  },
  {
   "cell_type": "markdown",
   "metadata": {},
   "source": [
    "$$x_0=\\dfrac{x_1+rx_2}{1+r}$$"
   ]
  },
  {
   "cell_type": "markdown",
   "metadata": {},
   "source": [
    "$$y_0=\\dfrac{y_1+ry_2}{1+r}$$"
   ]
  },
  {
   "cell_type": "markdown",
   "metadata": {},
   "source": [
    "* ***Ejemplo:*** Tenemos los puntos $A(-2,4)$ y $B(4, -8)$. Encuentra el punto que divide al segmento con la razón $r=2=\\dfrac{2}{1}$."
   ]
  },
  {
   "cell_type": "markdown",
   "metadata": {},
   "source": [
    "$$x_0=\\dfrac{x_1+rx_2}{1+r}=\\dfrac{(-2)+2(4)}{1+2}=2$$"
   ]
  },
  {
   "cell_type": "markdown",
   "metadata": {},
   "source": [
    "$$y_0=\\dfrac{y_1+ry_2}{1+r}=\\dfrac{(4)+2(-8)}{1+2}=-4$$"
   ]
  },
  {
   "cell_type": "markdown",
   "metadata": {},
   "source": [
    "Las coordenadas del punto que se encuentra a una razón de $r=2$ en el segmento $\\overline{AB}$ son $R(2,-4)$."
   ]
  },
  {
   "cell_type": "markdown",
   "metadata": {},
   "source": [
    "La razón es $r=\\dfrac{a}{b}$, con $a=2$ y $b=1$"
   ]
  },
  {
   "cell_type": "markdown",
   "metadata": {},
   "source": [
    "$$x_0=\\dfrac{x_1+rx_2}{1+r}=\\dfrac{(-2)+(2)(4)}{1+(2)}=2$$"
   ]
  },
  {
   "cell_type": "markdown",
   "metadata": {},
   "source": [
    "$$y_0=\\dfrac{y_1+ry_2}{1+r}=\\dfrac{(4)+(2)(-8)}{1+(2)}=-4$$"
   ]
  },
  {
   "cell_type": "markdown",
   "metadata": {},
   "source": [
    "El punto $R(2,-4)$ es tal que $\\overline{AR}$ representa $\\dfrac{a}{a+b}=\\dfrac{2}{2+1}=\\dfrac{2}{3}$ del segmento $\\overline{AB}$."
   ]
  },
  {
   "cell_type": "markdown",
   "metadata": {},
   "source": [
    "El punto $R(2,-4)$ es tal que $\\overline{BR}$ representa $\\dfrac{b}{a+b}=\\dfrac{1}{2+1}=\\dfrac{1}{3}$ del segmento $\\overline{AB}$."
   ]
  },
  {
   "cell_type": "markdown",
   "metadata": {},
   "source": [
    "$$x=\\dfrac{x_1+rx_2}{1+r}=\\dfrac{(-2)+2(4)}{1+2}=\\dfrac{-2+8}{3}=\\dfrac{6}{3}=2$$"
   ]
  },
  {
   "cell_type": "markdown",
   "metadata": {},
   "source": [
    "$$y=\\dfrac{y_1+ry_2}{1+r}=\\dfrac{(4)+2(-8)}{1+2}=\\dfrac{4-16}{3}=\\dfrac{-12}{3}=-4$$"
   ]
  },
  {
   "cell_type": "markdown",
   "metadata": {},
   "source": [
    "Este punto me divide al segmento en $2+1=3$ partes: $2$ partes desde $A$ hasta $C$ y una parte desde $C$ hasta $B$."
   ]
  },
  {
   "cell_type": "markdown",
   "metadata": {},
   "source": [
    "$$ \\circledast $$"
   ]
  },
  {
   "cell_type": "markdown",
   "metadata": {},
   "source": [
    "### ¿Cómo partir un segmento en $n$ partes?"
   ]
  },
  {
   "cell_type": "markdown",
   "metadata": {},
   "source": [
    "1. Necesitamos tener las coordenadas de los extremos: $P_1(x_1,y_1)$ y $P_2(x_2,y_2)$.\n",
    "2. Buscaremos dos números enteros positivos cuya suma sea el número de partes en que queremos dividir el segmento.\n",
    "3. Los números los dividimos entre sí, obteniendo la razón $r$. Tenemos que obtener $n-1$ razones.\n",
    "4. Con las fórmulas\n",
    "\\begin{align*}\n",
    "x=\\dfrac{x_1+rx_2}{1+r}\\\\\n",
    "y=\\dfrac{y_1+ry_2}{1+r}\n",
    "\\end{align*}\n",
    "    obtenemos las coordenadas para cada razón."
   ]
  },
  {
   "cell_type": "markdown",
   "metadata": {},
   "source": [
    "* ***Ejemplo:*** Si tuviéramos los puntos $A(1,1)$ y $B(5,9)$, ¿cómo partimos esto en tres partes?"
   ]
  },
  {
   "cell_type": "markdown",
   "metadata": {},
   "source": [
    "* $a=1$ y $b=2$, $r=\\dfrac{a}{b}=\\dfrac{1}{2}$"
   ]
  },
  {
   "cell_type": "markdown",
   "metadata": {},
   "source": [
    "$$x=\\dfrac{x_1+rx_2}{1+r}=\\dfrac{(1)+\\dfrac{1}{2}(5)}{1+\\dfrac{1}{2}}=\\dfrac{7}{3}$$"
   ]
  },
  {
   "cell_type": "markdown",
   "metadata": {},
   "source": [
    "$$y=\\dfrac{y_1+ry_2}{1+r}=\\dfrac{(1)+\\dfrac{1}{2}(9)}{1+\\dfrac{1}{2}}=\\dfrac{11}{3}$$"
   ]
  },
  {
   "cell_type": "markdown",
   "metadata": {},
   "source": [
    "Entonces el punto que divide al segmento $\\overline{AB}$ con una razón $r=\\dfrac{1}{2}$ es $R_1\\left(\\dfrac{7}{3},\\dfrac{11}{3}\\right)$"
   ]
  },
  {
   "cell_type": "markdown",
   "metadata": {},
   "source": [
    "Dicho de otra manera, el segmento $\\overline{AR_1}$ representa $\\dfrac{a}{a+b}=\\dfrac{1}{1+2}=\\dfrac{1}{3}$ del segmento $\\overline{AB}$. "
   ]
  },
  {
   "cell_type": "markdown",
   "metadata": {},
   "source": [
    "* $a=2$ y $b=1$, $r=\\dfrac{a}{b}=\\dfrac{2}{1}$"
   ]
  },
  {
   "cell_type": "markdown",
   "metadata": {},
   "source": [
    "$$x=\\dfrac{x_1+rx_2}{1+r}=\\dfrac{(1)+2(5)}{1+2}=\\dfrac{11}{3}$$"
   ]
  },
  {
   "cell_type": "markdown",
   "metadata": {},
   "source": [
    "$$y=\\dfrac{y_1+ry_2}{1+r}=\\dfrac{(1)+2(9)}{1+2}=\\dfrac{19}{3}$$"
   ]
  },
  {
   "cell_type": "markdown",
   "metadata": {},
   "source": [
    "Entonces el punto que divide al segmento $\\overline{AB}$ con una razón $r=2$ es $R_2\\left(\\dfrac{11}{3},\\dfrac{19}{3}\\right)$"
   ]
  },
  {
   "cell_type": "markdown",
   "metadata": {},
   "source": [
    "Dicho de otra manera, el segmento $\\overline{AR_2}$ representa $\\dfrac{b}{a+b}=\\dfrac{2}{1+2}=\\dfrac{2}{3}$ del segmento $\\overline{AB}$. "
   ]
  },
  {
   "cell_type": "markdown",
   "metadata": {},
   "source": [
    "$$ \\circledast $$"
   ]
  },
  {
   "cell_type": "markdown",
   "metadata": {},
   "source": [
    "### Tarea:"
   ]
  },
  {
   "cell_type": "markdown",
   "metadata": {},
   "source": [
    "* ***Ejemplo:*** Hallar el punto medio y los puntos que dividen en $4$ partes al segmento cuyos extremos son los puntos $A(-2,3)$ y $B(6,-3)$. Comprueba que lo hiciste bien obteniendo todas las distancias."
   ]
  }
 ],
 "metadata": {
  "kernelspec": {
   "display_name": "Julia 1.5.0",
   "language": "julia",
   "name": "julia-1.5"
  },
  "language_info": {
   "file_extension": ".jl",
   "mimetype": "application/julia",
   "name": "julia",
   "version": "1.5.0"
  }
 },
 "nbformat": 4,
 "nbformat_minor": 4
}
