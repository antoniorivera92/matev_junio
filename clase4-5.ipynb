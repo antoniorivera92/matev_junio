{
 "cells": [
  {
   "cell_type": "markdown",
   "metadata": {},
   "source": [
    "# Funciones para modelar la relación entre variables"
   ]
  },
  {
   "cell_type": "markdown",
   "metadata": {},
   "source": [
    "# Clase 5"
   ]
  },
  {
   "cell_type": "markdown",
   "metadata": {},
   "source": [
    "## Tipos de funciones"
   ]
  },
  {
   "cell_type": "markdown",
   "metadata": {},
   "source": [
    "* Lineal, $f(x)=mx+b$\n",
    "* Cuadrática, $f(x)=ax^2+bx+c$\n",
    "* Racional, $f(x)=\\dfrac{\\text{polinomio}}{\\text{polinomio}}$\n",
    "* Exponencial, $f(x)=Ab^x+c$\n",
    "* Logarítmica, $f(x)=A\\log(x)+b$"
   ]
  },
  {
   "cell_type": "markdown",
   "metadata": {},
   "source": [
    "## Función polinomial"
   ]
  },
  {
   "cell_type": "markdown",
   "metadata": {},
   "source": [
    "Recordemos que un polinomio es la suma de términos de que tiene una variable elevada a una potencia entera positiva."
   ]
  },
  {
   "cell_type": "markdown",
   "metadata": {},
   "source": [
    "$$ x^5-6x^4+19x^2-x+109 $$"
   ]
  },
  {
   "cell_type": "markdown",
   "metadata": {},
   "source": [
    "Una función polinomial tiene la forma"
   ]
  },
  {
   "cell_type": "markdown",
   "metadata": {},
   "source": [
    "$$ f(x)=ax^4+bx^3+cx^2+dx+e $$"
   ]
  },
  {
   "cell_type": "markdown",
   "metadata": {},
   "source": [
    "El dominio máximo de cualquier función polinomial es $\\mathbb{R}$."
   ]
  },
  {
   "cell_type": "markdown",
   "metadata": {},
   "source": [
    "## Función lineal o polinomial de primer grado"
   ]
  },
  {
   "cell_type": "markdown",
   "metadata": {},
   "source": [
    "$$ f(x)=mx+b $$"
   ]
  },
  {
   "cell_type": "markdown",
   "metadata": {},
   "source": [
    "$$ y=mx+b $$"
   ]
  },
  {
   "cell_type": "markdown",
   "metadata": {},
   "source": [
    "**¿A qué se parece?** A la ecuación de la recta."
   ]
  },
  {
   "cell_type": "markdown",
   "metadata": {},
   "source": [
    "### Gráfica de una función lineal"
   ]
  },
  {
   "cell_type": "markdown",
   "metadata": {},
   "source": [
    "*Para encontrar el valor de la ordenada al origen de la función lineal, necesito preguntarme cuánto vale la función cuando la variable independiente se hace cero.*"
   ]
  },
  {
   "cell_type": "markdown",
   "metadata": {},
   "source": [
    "Las relaciones entre funciones lineales y líneas rectas\n",
    "1. La fórmula para funciones lineales es\n",
    "$$ y=\\text{(pendiente)}\\cdot x+\\text{(Valor inicial)} $$\n",
    "2. La gráfica de una función lineal en una línea recta\n",
    "3. La pendiente de la función lineal es la misma que la pendiente de su gráfica.\n",
    "4. La ordenada al origen de la gráfica corresponde con el valor inicial $b$ de la función lineal, esto es, el valor de la función cuando la variables es cero.\n",
    "5. La abscisa al origen de la gráfica es el valor de la variable cuando la función lineal es cero. Ésta es la solución de la ecuación\n",
    "$$ \\text{función lineal}=0 $$\n"
   ]
  },
  {
   "cell_type": "markdown",
   "metadata": {},
   "source": [
    "Si conocemos dos puntos de la función lineal, usamos la fórmula\n",
    "$$ m=\\dfrac{\\text{Cambio en la función}}{\\text{Cambio en la variable independiente}}=\\dfrac{y_2-y_1}{x_2-x_1}=\\dfrac{f(x_2)-f(x_1)}{x_2-x_1} $$"
   ]
  },
  {
   "cell_type": "markdown",
   "metadata": {},
   "source": [
    "El dominio máximo de una función lineal es $\\mathbb{R}$."
   ]
  },
  {
   "cell_type": "markdown",
   "metadata": {},
   "source": [
    "**¿Cuándo usar funciones lineales?**"
   ]
  },
  {
   "cell_type": "markdown",
   "metadata": {},
   "source": [
    "Cuando, desde un cierto valor, algo parece aumentar en la misma proporción."
   ]
  },
  {
   "cell_type": "markdown",
   "metadata": {},
   "source": [
    "* ***Ejemplo:*** En Estados Unidos se suele usar la escala Fahrenheit para medir la temperatura. En esta escala, el punto de congelación del agua se alcanza a los $32^\\circ F$ y el de ebullición a los $212^\\circ F$. El resto del mundo usa la escala Celsius en la que esos puntos se alcanzan a los $0^\\circ C$ y $100^\\circ C$, respectivamente."
   ]
  },
  {
   "cell_type": "markdown",
   "metadata": {},
   "source": [
    "* Datos:\n",
    "    * $F$ : temperatura en grados Fahrenheit, variable dependiente, ordenadas\n",
    "    * $C$ : temperatura en grados Celsius, variable independiente, abscisas\n",
    "    * $(0,32)$\n",
    "    * $(100,212)$"
   ]
  },
  {
   "cell_type": "markdown",
   "metadata": {},
   "source": [
    "**a) Expresa la temperatura en grados Fahrenheit en función de la temperatura en grados Celsius.**"
   ]
  },
  {
   "cell_type": "markdown",
   "metadata": {},
   "source": [
    "$$ F(C)=\\dfrac{9}{5}C+32 $$"
   ]
  },
  {
   "cell_type": "markdown",
   "metadata": {},
   "source": [
    "$$ F(C)=1.8C+32 $$"
   ]
  },
  {
   "cell_type": "markdown",
   "metadata": {},
   "source": [
    "$$ F(0)=1.8\\cdot0+32=32 $$"
   ]
  },
  {
   "cell_type": "markdown",
   "metadata": {},
   "source": [
    "$$ F(100)=1.8\\cdot100+32=212 $$"
   ]
  },
  {
   "cell_type": "markdown",
   "metadata": {},
   "source": [
    "**b) Expresa la temperatura en grados Celsius en función de la temperatura en grados Fahrenheit.**"
   ]
  },
  {
   "cell_type": "markdown",
   "metadata": {},
   "source": [
    "$$ C(F)=\\dfrac{F-32}{1.8} $$"
   ]
  },
  {
   "cell_type": "markdown",
   "metadata": {},
   "source": [
    "$$ C(F)=\\dfrac{5}{9}F-\\dfrac{160}{9} $$"
   ]
  },
  {
   "cell_type": "markdown",
   "metadata": {},
   "source": [
    "**c) Dominio natural de ambas funciones y el respectivo rango (recorrido).**"
   ]
  },
  {
   "cell_type": "markdown",
   "metadata": {},
   "source": [
    "No cualquier temperatura se puede obtener."
   ]
  },
  {
   "cell_type": "markdown",
   "metadata": {},
   "source": [
    "$$ F(C)=1.8C+32 $$"
   ]
  },
  {
   "cell_type": "markdown",
   "metadata": {},
   "source": [
    "$$ F(-273.15)=1.8(-273.15)+32=-459.67 $$"
   ]
  },
  {
   "cell_type": "markdown",
   "metadata": {},
   "source": [
    "$$ \\text{Dominio}=(-273.15,\\infty) $$"
   ]
  },
  {
   "cell_type": "markdown",
   "metadata": {},
   "source": [
    "$$ \\text{Rango}=(-459.67,\\infty) $$"
   ]
  },
  {
   "cell_type": "markdown",
   "metadata": {},
   "source": [
    "$$ \\circledast $$"
   ]
  },
  {
   "cell_type": "markdown",
   "metadata": {},
   "source": [
    "# Situación: Cantidad de combustible en una moto"
   ]
  },
  {
   "cell_type": "markdown",
   "metadata": {},
   "source": [
    "**El rendimiento de un vehículo expresado como la cantidad de litros de gasolina que consume por kilómetro es una medida útil para saber el gasto necesario derivado del uso de éste. Mientras mayor es el rendimiento se obtiene un ahorro mayor de combustible, en consecuencia, su uso resulta menos costoso y puede tener un\n",
    "impacto menor en el ambiente. En general, las motocicletas presentan un rendimiento mayor en relación con un automóvil cuando se trata de transportar a uno o dos pasajeros. Existe un modelo de motocicleta con un tanque con capacidad de 15 litros, que cuenta con un rendimiento de 24 kilómetros por litro.**"
   ]
  },
  {
   "cell_type": "markdown",
   "metadata": {},
   "source": [
    "**Se desea conocer la cantidad de gasolina en el tanque, a partir de la distancia en kilómetros recorrida, indicada por la variable $k$, al iniciar un viaje con tanque lleno y sin recargar éste.**"
   ]
  },
  {
   "cell_type": "markdown",
   "metadata": {},
   "source": [
    "**1. A partir de la información de la cantidad de gasolina en el tanque y los kilómetros recorridos mostrada en la siguiente tabla. ¿Cuál es la función que relaciona ambas variables?**\n"
   ]
  },
  {
   "cell_type": "markdown",
   "metadata": {},
   "source": [
    "| Kilómetros | Cantidad de gasolina consumida | Cantidad de gasolina en el tanque |\n",
    "|------------|--------------------------------|-----------------------------------|\n",
    "| $ 0 $      | $ 0 $                          | $ 15 $                            |\n",
    "| $ 12 $     | $ 0.5 $                        | $ 14.5 $                          |\n",
    "| $ 30.6 $   | $ 1.275 $                      | $ 13.725 $                        |\n",
    "| $ 60 $     | $ 2.5 $                        | $ 12.5 $                          |\n",
    "| $ 250.2 $  | $ 10.425 $                     | $ 4.575 $                         |\n",
    "| $ 360 $    | $ 15 $                         | $ 0 $                             |"
   ]
  },
  {
   "cell_type": "markdown",
   "metadata": {},
   "source": [
    "A) $G(k)=15+\\dfrac{1}{24}k$\n",
    "\n",
    "B) $G(k)=15+24k$\n",
    "\n",
    "C) $G(k)=15-\\dfrac{1}{24}k$\n",
    "\n",
    "D) $G(k)=15-24k$"
   ]
  },
  {
   "cell_type": "markdown",
   "metadata": {},
   "source": [
    "$ $"
   ]
  },
  {
   "cell_type": "markdown",
   "metadata": {},
   "source": [
    "$ $"
   ]
  },
  {
   "cell_type": "markdown",
   "metadata": {},
   "source": [
    "$ $"
   ]
  },
  {
   "cell_type": "markdown",
   "metadata": {},
   "source": [
    "$ $"
   ]
  },
  {
   "cell_type": "markdown",
   "metadata": {},
   "source": [
    "$ $"
   ]
  },
  {
   "cell_type": "markdown",
   "metadata": {},
   "source": [
    "$ $"
   ]
  },
  {
   "cell_type": "markdown",
   "metadata": {},
   "source": [
    "$ $"
   ]
  },
  {
   "cell_type": "markdown",
   "metadata": {},
   "source": [
    "$ $"
   ]
  },
  {
   "cell_type": "markdown",
   "metadata": {},
   "source": [
    "$ $"
   ]
  },
  {
   "cell_type": "markdown",
   "metadata": {},
   "source": [
    "$ $"
   ]
  },
  {
   "cell_type": "markdown",
   "metadata": {},
   "source": [
    "$ $"
   ]
  },
  {
   "cell_type": "markdown",
   "metadata": {},
   "source": [
    "$ $"
   ]
  },
  {
   "cell_type": "markdown",
   "metadata": {},
   "source": [
    "A) $G(k)=15+\\dfrac{1}{24}k$\n",
    "\n",
    "B) $G(k)=15+24k$\n",
    "\n",
    "C) $G(k)=15-\\dfrac{1}{24}k$\n",
    "\n",
    "D) $G(k)=15-24k$"
   ]
  },
  {
   "cell_type": "markdown",
   "metadata": {},
   "source": [
    "**Solución:** "
   ]
  },
  {
   "cell_type": "markdown",
   "metadata": {},
   "source": [
    "**2. Es la cantidad en litros que quedan en el tanque cuando la moto ha recorrido 48\n",
    "kilómetros:**"
   ]
  },
  {
   "cell_type": "markdown",
   "metadata": {},
   "source": [
    "A) $17$\n",
    "\n",
    "B) $2$\n",
    "\n",
    "C) $13$\n",
    "\n",
    "D) $6$"
   ]
  },
  {
   "cell_type": "markdown",
   "metadata": {},
   "source": [
    "$ $"
   ]
  },
  {
   "cell_type": "markdown",
   "metadata": {},
   "source": [
    "$ $"
   ]
  },
  {
   "cell_type": "markdown",
   "metadata": {},
   "source": [
    "$ $"
   ]
  },
  {
   "cell_type": "markdown",
   "metadata": {},
   "source": [
    "$ $"
   ]
  },
  {
   "cell_type": "markdown",
   "metadata": {},
   "source": [
    "$ $"
   ]
  },
  {
   "cell_type": "markdown",
   "metadata": {},
   "source": [
    "$ $"
   ]
  },
  {
   "cell_type": "markdown",
   "metadata": {},
   "source": [
    "$ $"
   ]
  },
  {
   "cell_type": "markdown",
   "metadata": {},
   "source": [
    "$ $"
   ]
  },
  {
   "cell_type": "markdown",
   "metadata": {},
   "source": [
    "$ $"
   ]
  },
  {
   "cell_type": "markdown",
   "metadata": {},
   "source": [
    "$ $"
   ]
  },
  {
   "cell_type": "markdown",
   "metadata": {},
   "source": [
    "$ $"
   ]
  },
  {
   "cell_type": "markdown",
   "metadata": {},
   "source": [
    "$ $"
   ]
  },
  {
   "cell_type": "markdown",
   "metadata": {},
   "source": [
    "A) $17$\n",
    "\n",
    "B) $2$\n",
    "\n",
    "C) $13$\n",
    "\n",
    "D) $6$"
   ]
  },
  {
   "cell_type": "markdown",
   "metadata": {},
   "source": [
    "**Solución:** "
   ]
  },
  {
   "cell_type": "markdown",
   "metadata": {},
   "source": [
    "**3. ¿Cuántos kilómetros ha recorrido la motocicleta si hay 7 litros de gasolina restantes en el tanque?**\n"
   ]
  },
  {
   "cell_type": "markdown",
   "metadata": {},
   "source": [
    "A) $14.9$\n",
    "\n",
    "B) $360$\n",
    "\n",
    "C) $192$\n",
    "\n",
    "D) $353$"
   ]
  },
  {
   "cell_type": "markdown",
   "metadata": {},
   "source": [
    "$ $"
   ]
  },
  {
   "cell_type": "markdown",
   "metadata": {},
   "source": [
    "$ $"
   ]
  },
  {
   "cell_type": "markdown",
   "metadata": {},
   "source": [
    "$ $"
   ]
  },
  {
   "cell_type": "markdown",
   "metadata": {},
   "source": [
    "$ $"
   ]
  },
  {
   "cell_type": "markdown",
   "metadata": {},
   "source": [
    "$ $"
   ]
  },
  {
   "cell_type": "markdown",
   "metadata": {},
   "source": [
    "$ $"
   ]
  },
  {
   "cell_type": "markdown",
   "metadata": {},
   "source": [
    "$ $"
   ]
  },
  {
   "cell_type": "markdown",
   "metadata": {},
   "source": [
    "$ $"
   ]
  },
  {
   "cell_type": "markdown",
   "metadata": {},
   "source": [
    "$ $"
   ]
  },
  {
   "cell_type": "markdown",
   "metadata": {},
   "source": [
    "$ $"
   ]
  },
  {
   "cell_type": "markdown",
   "metadata": {},
   "source": [
    "$ $"
   ]
  },
  {
   "cell_type": "markdown",
   "metadata": {},
   "source": [
    "$ $"
   ]
  },
  {
   "cell_type": "markdown",
   "metadata": {},
   "source": [
    "$ $"
   ]
  },
  {
   "cell_type": "markdown",
   "metadata": {},
   "source": [
    "A) $14.9$\n",
    "\n",
    "B) $360$\n",
    "\n",
    "C) $192$\n",
    "\n",
    "D) $353$"
   ]
  },
  {
   "cell_type": "markdown",
   "metadata": {},
   "source": [
    "**Solución:** "
   ]
  },
  {
   "cell_type": "markdown",
   "metadata": {},
   "source": [
    "**4. ¿Cuál es el máximo dominio de la función?**"
   ]
  },
  {
   "cell_type": "markdown",
   "metadata": {},
   "source": [
    "A) $(-\\infty, \\infty)$\n",
    "\n",
    "B) $[0,15)$\n",
    "\n",
    "C) $(0, \\infty)$\n",
    "\n",
    "D) $[0, 360)$\n"
   ]
  },
  {
   "cell_type": "markdown",
   "metadata": {},
   "source": [
    "$ $"
   ]
  },
  {
   "cell_type": "markdown",
   "metadata": {},
   "source": [
    "$ $"
   ]
  },
  {
   "cell_type": "markdown",
   "metadata": {},
   "source": [
    "$ $"
   ]
  },
  {
   "cell_type": "markdown",
   "metadata": {},
   "source": [
    "$ $"
   ]
  },
  {
   "cell_type": "markdown",
   "metadata": {},
   "source": [
    "$ $"
   ]
  },
  {
   "cell_type": "markdown",
   "metadata": {},
   "source": [
    "$ $"
   ]
  },
  {
   "cell_type": "markdown",
   "metadata": {},
   "source": [
    "$ $"
   ]
  },
  {
   "cell_type": "markdown",
   "metadata": {},
   "source": [
    "$ $"
   ]
  },
  {
   "cell_type": "markdown",
   "metadata": {},
   "source": [
    "$ $"
   ]
  },
  {
   "cell_type": "markdown",
   "metadata": {},
   "source": [
    "$ $"
   ]
  },
  {
   "cell_type": "markdown",
   "metadata": {},
   "source": [
    "$ $"
   ]
  },
  {
   "cell_type": "markdown",
   "metadata": {},
   "source": [
    "$ $"
   ]
  },
  {
   "cell_type": "markdown",
   "metadata": {},
   "source": [
    "$ $"
   ]
  },
  {
   "cell_type": "markdown",
   "metadata": {},
   "source": [
    "A) $(-\\infty, \\infty)$\n",
    "\n",
    "B) $[0,15)$\n",
    "\n",
    "C) $(0, \\infty)$\n",
    "\n",
    "D) $[0, 360)$\n"
   ]
  },
  {
   "cell_type": "markdown",
   "metadata": {},
   "source": [
    "**Solución:** "
   ]
  },
  {
   "cell_type": "markdown",
   "metadata": {},
   "source": [
    "**5. ¿Cuál es el dominio natural de la función?**"
   ]
  },
  {
   "cell_type": "markdown",
   "metadata": {},
   "source": [
    "A) $(-\\infty, \\infty)$\n",
    "\n",
    "B) $[0,15)$\n",
    "\n",
    "C) $(0, \\infty)$\n",
    "\n",
    "D) $[0, 360)$\n"
   ]
  },
  {
   "cell_type": "markdown",
   "metadata": {},
   "source": [
    "$ $"
   ]
  },
  {
   "cell_type": "markdown",
   "metadata": {},
   "source": [
    "$ $"
   ]
  },
  {
   "cell_type": "markdown",
   "metadata": {},
   "source": [
    "$ $"
   ]
  },
  {
   "cell_type": "markdown",
   "metadata": {},
   "source": [
    "$ $"
   ]
  },
  {
   "cell_type": "markdown",
   "metadata": {},
   "source": [
    "$ $"
   ]
  },
  {
   "cell_type": "markdown",
   "metadata": {},
   "source": [
    "$ $"
   ]
  },
  {
   "cell_type": "markdown",
   "metadata": {},
   "source": [
    "$ $"
   ]
  },
  {
   "cell_type": "markdown",
   "metadata": {},
   "source": [
    "$ $"
   ]
  },
  {
   "cell_type": "markdown",
   "metadata": {},
   "source": [
    "$ $"
   ]
  },
  {
   "cell_type": "markdown",
   "metadata": {},
   "source": [
    "$ $"
   ]
  },
  {
   "cell_type": "markdown",
   "metadata": {},
   "source": [
    "$ $"
   ]
  },
  {
   "cell_type": "markdown",
   "metadata": {},
   "source": [
    "$ $"
   ]
  },
  {
   "cell_type": "markdown",
   "metadata": {},
   "source": [
    "$ $"
   ]
  },
  {
   "cell_type": "markdown",
   "metadata": {},
   "source": [
    "A) $(-\\infty, \\infty)$\n",
    "\n",
    "B) $[0,15)$\n",
    "\n",
    "C) $(0, \\infty)$\n",
    "\n",
    "D) $[0, 360)$\n"
   ]
  },
  {
   "cell_type": "markdown",
   "metadata": {},
   "source": [
    "**Solución:** "
   ]
  },
  {
   "cell_type": "markdown",
   "metadata": {},
   "source": [
    "**6. ¿Cuál es el recorrido (rango) para el máximo dominio de la función?**"
   ]
  },
  {
   "cell_type": "markdown",
   "metadata": {},
   "source": [
    "A) $(-\\infty, \\infty)$\n",
    "\n",
    "B) $[0,15)$\n",
    "\n",
    "C) $(0, \\infty)$\n",
    "\n",
    "D) $[0, 360)$\n"
   ]
  },
  {
   "cell_type": "markdown",
   "metadata": {},
   "source": [
    "$ $"
   ]
  },
  {
   "cell_type": "markdown",
   "metadata": {},
   "source": [
    "$ $"
   ]
  },
  {
   "cell_type": "markdown",
   "metadata": {},
   "source": [
    "$ $"
   ]
  },
  {
   "cell_type": "markdown",
   "metadata": {},
   "source": [
    "$ $"
   ]
  },
  {
   "cell_type": "markdown",
   "metadata": {},
   "source": [
    "$ $"
   ]
  },
  {
   "cell_type": "markdown",
   "metadata": {},
   "source": [
    "$ $"
   ]
  },
  {
   "cell_type": "markdown",
   "metadata": {},
   "source": [
    "$ $"
   ]
  },
  {
   "cell_type": "markdown",
   "metadata": {},
   "source": [
    "$ $"
   ]
  },
  {
   "cell_type": "markdown",
   "metadata": {},
   "source": [
    "$ $"
   ]
  },
  {
   "cell_type": "markdown",
   "metadata": {},
   "source": [
    "$ $"
   ]
  },
  {
   "cell_type": "markdown",
   "metadata": {},
   "source": [
    "$ $"
   ]
  },
  {
   "cell_type": "markdown",
   "metadata": {},
   "source": [
    "$ $"
   ]
  },
  {
   "cell_type": "markdown",
   "metadata": {},
   "source": [
    "$ $"
   ]
  },
  {
   "cell_type": "markdown",
   "metadata": {},
   "source": [
    "A) $(-\\infty, \\infty)$\n",
    "\n",
    "B) $[0,15)$\n",
    "\n",
    "C) $(0, \\infty)$\n",
    "\n",
    "D) $[0, 360)$\n"
   ]
  },
  {
   "cell_type": "markdown",
   "metadata": {},
   "source": [
    "**Solución:** "
   ]
  },
  {
   "cell_type": "markdown",
   "metadata": {},
   "source": [
    "**7. ¿Cuál es el recorrido (rango) para el dominio natural de la función?**"
   ]
  },
  {
   "cell_type": "markdown",
   "metadata": {},
   "source": [
    "A) $(-\\infty, \\infty)$\n",
    "\n",
    "B) $[0,15)$\n",
    "\n",
    "C) $(0, \\infty)$\n",
    "\n",
    "D) $[0, 360)$\n"
   ]
  },
  {
   "cell_type": "markdown",
   "metadata": {},
   "source": [
    "$ $"
   ]
  },
  {
   "cell_type": "markdown",
   "metadata": {},
   "source": [
    "$ $"
   ]
  },
  {
   "cell_type": "markdown",
   "metadata": {},
   "source": [
    "$ $"
   ]
  },
  {
   "cell_type": "markdown",
   "metadata": {},
   "source": [
    "$ $"
   ]
  },
  {
   "cell_type": "markdown",
   "metadata": {},
   "source": [
    "$ $"
   ]
  },
  {
   "cell_type": "markdown",
   "metadata": {},
   "source": [
    "$ $"
   ]
  },
  {
   "cell_type": "markdown",
   "metadata": {},
   "source": [
    "$ $"
   ]
  },
  {
   "cell_type": "markdown",
   "metadata": {},
   "source": [
    "$ $"
   ]
  },
  {
   "cell_type": "markdown",
   "metadata": {},
   "source": [
    "$ $"
   ]
  },
  {
   "cell_type": "markdown",
   "metadata": {},
   "source": [
    "$ $"
   ]
  },
  {
   "cell_type": "markdown",
   "metadata": {},
   "source": [
    "$ $"
   ]
  },
  {
   "cell_type": "markdown",
   "metadata": {},
   "source": [
    "$ $"
   ]
  },
  {
   "cell_type": "markdown",
   "metadata": {},
   "source": [
    "$ $"
   ]
  },
  {
   "cell_type": "markdown",
   "metadata": {},
   "source": [
    "A) $(-\\infty, \\infty)$\n",
    "\n",
    "B) $[0,15)$\n",
    "\n",
    "C) $(0, \\infty)$\n",
    "\n",
    "D) $[0, 360)$\n"
   ]
  },
  {
   "cell_type": "markdown",
   "metadata": {},
   "source": [
    "**Solución:** "
   ]
  },
  {
   "cell_type": "markdown",
   "metadata": {},
   "source": [
    "## Pendiente"
   ]
  },
  {
   "cell_type": "markdown",
   "metadata": {},
   "source": [
    "Si conocemos dos puntos de una función lineal, usamos la fórmula"
   ]
  },
  {
   "cell_type": "markdown",
   "metadata": {},
   "source": [
    "$$ m=\\dfrac{\\text{Cambio en la función}}{\\text{Cambio en la variable independiente}}=\\dfrac{y_2-y_1}{x_2-x_1}=\\dfrac{f(x_2)-f(x_1)}{x_2-x_1} $$"
   ]
  },
  {
   "cell_type": "markdown",
   "metadata": {},
   "source": [
    "### Tasa media de cambio"
   ]
  },
  {
   "cell_type": "markdown",
   "metadata": {},
   "source": [
    "También le llaman tasa de crecimiento"
   ]
  },
  {
   "cell_type": "markdown",
   "metadata": {},
   "source": [
    "$$ m=\\dfrac{f(x_2)-f(x_1)}{x_2-x_1} $$"
   ]
  },
  {
   "cell_type": "markdown",
   "metadata": {},
   "source": [
    "## Función cuadrática o polinomial de segundo grado"
   ]
  },
  {
   "cell_type": "markdown",
   "metadata": {},
   "source": [
    "$$ f(x)=ax^2+bx+c $$"
   ]
  },
  {
   "cell_type": "markdown",
   "metadata": {},
   "source": [
    "Al igual que en las funciones lineales, el valor de $c$ lo podemos conocer al saber qué sucede en $x=0$. Si no tenemos este conocimiento, extrapolamos de los datos que tengamos."
   ]
  },
  {
   "cell_type": "markdown",
   "metadata": {},
   "source": [
    "Para una función polinomial (lineal, cuadrática, cúbica,...) el dominio máximo de la función $(-\\infty,\\infty).$"
   ]
  },
  {
   "cell_type": "markdown",
   "metadata": {},
   "source": [
    "### Gráfica de una función cuadrática"
   ]
  },
  {
   "cell_type": "markdown",
   "metadata": {},
   "source": [
    "Para las funciones cuadráticas\n",
    "\n",
    "$$ f(x)=ax^2+bx+c $$\n",
    "\n",
    "tendremos un punto importante conocido como vértice y que tiene coordenadas"
   ]
  },
  {
   "cell_type": "markdown",
   "metadata": {},
   "source": [
    "$$ V\\left(-\\dfrac{b}{2a},-\\dfrac{b^2-4ac}{4a}\\right) $$"
   ]
  },
  {
   "cell_type": "markdown",
   "metadata": {},
   "source": [
    "**1er caso:** $a>0$: parábola que abre hacia arriba (tiene un valor mínimo)"
   ]
  },
  {
   "cell_type": "markdown",
   "metadata": {},
   "source": [
    "Entonces el rango de la función es"
   ]
  },
  {
   "cell_type": "markdown",
   "metadata": {},
   "source": [
    "$$ \\left[-\\dfrac{b^2-4ac}{4a},\\infty\\right) $$"
   ]
  },
  {
   "cell_type": "markdown",
   "metadata": {},
   "source": [
    "**2do caso:** $a<0$: parábola que abre hacia abajo (tiene un valor máximo)"
   ]
  },
  {
   "cell_type": "markdown",
   "metadata": {},
   "source": [
    "Entonces el rango de la función es"
   ]
  },
  {
   "cell_type": "markdown",
   "metadata": {},
   "source": [
    "$$ \\left(-\\infty,-\\dfrac{b^2-4ac}{4a}\\right] $$"
   ]
  },
  {
   "cell_type": "markdown",
   "metadata": {},
   "source": [
    "### Forma de la función cuadrática"
   ]
  },
  {
   "cell_type": "markdown",
   "metadata": {},
   "source": [
    "Si sabemos que la función cuadrática pasa por el eje de horizontal en dos puntos ($B$ y $C$), podemos decir que la forma de la función cuadrática es"
   ]
  },
  {
   "cell_type": "markdown",
   "metadata": {},
   "source": [
    "$$ f(x)=A(x-B)(x-C) $$"
   ]
  },
  {
   "cell_type": "markdown",
   "metadata": {},
   "source": [
    "## Situación. Ventana triangular"
   ]
  },
  {
   "cell_type": "markdown",
   "metadata": {},
   "source": [
    "Para un nuevo centro comercial se diseñan ventanas con forma de triángulo isósceles, cuya altura es el doble de la base menos un metro."
   ]
  },
  {
   "cell_type": "markdown",
   "metadata": {},
   "source": [
    "**1. El área del vidrio de cada ventana, expresado en función de la longitud $x$ de la base es**"
   ]
  },
  {
   "cell_type": "markdown",
   "metadata": {},
   "source": [
    "A) $A(x)=\\dfrac{x(x-1)}{2}$\n",
    "\n",
    "B) $A(x)=\\dfrac{x(1-2x)}{2}$\n",
    "\n",
    "C) $A(x)=\\dfrac{x(1-x)}{2}$\n",
    "\n",
    "D) $A(x)=\\dfrac{x(2x-1)}{2}$"
   ]
  },
  {
   "cell_type": "markdown",
   "metadata": {},
   "source": [
    "A) $A(x)=\\dfrac{x(x-1)}{2}$\n",
    "\n",
    "B) $A(x)=\\dfrac{x(1-2x)}{2}$\n",
    "\n",
    "C) $A(x)=\\dfrac{x(1-x)}{2}$\n",
    "\n",
    "D) $A(x)=\\dfrac{x(2x-1)}{2}$"
   ]
  },
  {
   "cell_type": "markdown",
   "metadata": {},
   "source": [
    "**Solución:** D)"
   ]
  },
  {
   "cell_type": "markdown",
   "metadata": {},
   "source": [
    "**2. Al determinar $A(2)$, se obtiene**"
   ]
  },
  {
   "cell_type": "markdown",
   "metadata": {},
   "source": [
    "A) El doble del área de la ventana\n",
    "\n",
    "B) La base de la ventana para un área de $2$ metros cuadrados\n",
    "\n",
    "C) La altura de la ventana para una base de $2$ metros\n",
    "\n",
    "D) El área de la ventana para una base de $2$ metros"
   ]
  },
  {
   "cell_type": "markdown",
   "metadata": {},
   "source": [
    "A) El doble del área de la ventana\n",
    "\n",
    "B) La base de la ventana para un área de $2$ metros cuadrados\n",
    "\n",
    "C) La altura de la ventana para una base de $2$ metros\n",
    "\n",
    "D) El área de la ventana para una base de $2$ metros"
   ]
  },
  {
   "cell_type": "markdown",
   "metadata": {},
   "source": [
    "**Solución:** D)"
   ]
  },
  {
   "cell_type": "markdown",
   "metadata": {},
   "source": [
    "**3. El valor de $A(2)$ es**"
   ]
  },
  {
   "cell_type": "markdown",
   "metadata": {},
   "source": [
    "A) $3\\ \\rm{m}^2$\n",
    "\n",
    "B) $1\\ \\rm{m}$\n",
    "\n",
    "C) $3\\ \\rm{m}$\n",
    "\n",
    "D) $4\\ \\rm{m}^2$"
   ]
  },
  {
   "cell_type": "markdown",
   "metadata": {},
   "source": [
    "$$ A(x)=\\dfrac{x(2x-1)}{2} $$"
   ]
  },
  {
   "cell_type": "markdown",
   "metadata": {},
   "source": [
    "$$ A(2)=\\dfrac{2(2\\cdot2-1)}{2}=3 $$"
   ]
  },
  {
   "cell_type": "markdown",
   "metadata": {},
   "source": [
    "A) $3\\ \\rm{m}^2$\n",
    "\n",
    "B) $1\\ \\rm{m}$\n",
    "\n",
    "C) $3\\ \\rm{m}$\n",
    "\n",
    "D) $4\\ \\rm{m}^2$"
   ]
  },
  {
   "cell_type": "markdown",
   "metadata": {},
   "source": [
    "**Solución:** C)"
   ]
  },
  {
   "cell_type": "markdown",
   "metadata": {},
   "source": [
    "**4. El dominio de la función es**"
   ]
  },
  {
   "cell_type": "markdown",
   "metadata": {},
   "source": [
    "A) $x\\in(-\\infty,\\infty)$\n",
    "\n",
    "B) $x\\in\\mathbb{R},\\ x\\neq0$\n",
    "\n",
    "C) $x\\in[0,\\infty)$\n",
    "\n",
    "D) $x\\in[2,\\infty)$"
   ]
  },
  {
   "cell_type": "markdown",
   "metadata": {},
   "source": [
    "$$ A(x)=\\dfrac{x(2x-1)}{2}=\\dfrac{2x^2-x}{2}=x^2-\\dfrac{x}{2} $$"
   ]
  },
  {
   "cell_type": "markdown",
   "metadata": {},
   "source": [
    "A) $x\\in(-\\infty,\\infty)$\n",
    "\n",
    "B) $x\\in\\mathbb{R},\\ x\\neq0$\n",
    "\n",
    "C) $x\\in[0,\\infty)$\n",
    "\n",
    "D) $x\\in[2,\\infty)$"
   ]
  },
  {
   "cell_type": "markdown",
   "metadata": {},
   "source": [
    "**Solución:** A)"
   ]
  },
  {
   "cell_type": "markdown",
   "metadata": {},
   "source": [
    "**5. La función $A(x)=\\dfrac{x(2x-1)}{2}$ también se puede expresar como $A(x)=\\left(x-\\dfrac{1}{4}\\right)^2-\\dfrac{1}{16}$. La gráfica de la función es una parábola vertical cuyas características son**"
   ]
  },
  {
   "cell_type": "markdown",
   "metadata": {},
   "source": [
    "A) $V\\left(\\dfrac{1}{4},\\dfrac{1}{16}\\right)$, abre hacia abajo.\n",
    "\n",
    "B) $V\\left(\\dfrac{1}{4},-\\dfrac{1}{16}\\right)$, abre hacia arriba.\n",
    "\n",
    "C) $V\\left(-\\dfrac{1}{4},-\\dfrac{1}{16}\\right)$, abre hacia abajo.\n",
    "\n",
    "D) $V\\left(-\\dfrac{1}{4},\\dfrac{1}{16}\\right)$, abre hacia arriba."
   ]
  },
  {
   "cell_type": "markdown",
   "metadata": {},
   "source": [
    "$$ A(x)=\\dfrac{x(2x-1)}{2}=\\dfrac{2x^2-x}{2}=x^2-\\dfrac{x}{2} $$"
   ]
  },
  {
   "cell_type": "markdown",
   "metadata": {},
   "source": [
    "$a=1$, $b=-\\dfrac{1}{2}$, $c=0$"
   ]
  },
  {
   "cell_type": "markdown",
   "metadata": {},
   "source": [
    "$$ V\\left(-\\dfrac{b}{2a},-\\dfrac{b^2-4ac}{4a}\\right) $$"
   ]
  },
  {
   "cell_type": "markdown",
   "metadata": {},
   "source": [
    "$$ V\\left(-\\dfrac{(-0.5)}{2(1)},-\\dfrac{(-0.5)^2}{4(1)}\\right) $$"
   ]
  },
  {
   "cell_type": "markdown",
   "metadata": {},
   "source": [
    "$$ V\\left(\\dfrac{1}{4},-\\dfrac{1}{16}\\right) $$"
   ]
  },
  {
   "cell_type": "markdown",
   "metadata": {},
   "source": [
    "A) $V\\left(\\dfrac{1}{4},\\dfrac{1}{16}\\right)$, abre hacia abajo.\n",
    "\n",
    "B) $V\\left(\\dfrac{1}{4},-\\dfrac{1}{16}\\right)$, abre hacia arriba.\n",
    "\n",
    "C) $V\\left(-\\dfrac{1}{4},-\\dfrac{1}{16}\\right)$, abre hacia abajo.\n",
    "\n",
    "D) $V\\left(-\\dfrac{1}{4},\\dfrac{1}{16}\\right)$, abre hacia arriba."
   ]
  },
  {
   "cell_type": "markdown",
   "metadata": {},
   "source": [
    "**Solución:** B)"
   ]
  },
  {
   "cell_type": "markdown",
   "metadata": {},
   "source": [
    "## Situación. Gravedad en Marte"
   ]
  },
  {
   "cell_type": "markdown",
   "metadata": {},
   "source": [
    "La exploración de Marte ha requerido del uso de nuevas estrategias a fin de superar\n",
    "obstáculos con los que se han enfrentado los vehículos destinados a navegar por el\n",
    "planeta. Algunos de los retos son: el conseguir que los vehículos exploradores\n",
    "recorran más terreno en menos tiempo, evitando el problema de corrosión de las\n",
    "ruedas, las tormentas de arena que bloquean los paneles solares y el cambio en las\n",
    "estaciones del clima en Marte que modifican la incidencia de rayos solares sobre\n",
    "los paneles.\n",
    "\n",
    "Para resolver el problema de cubrir más área explorada en menos tiempo, se han\n",
    "propuesto nuevas ideas como el uso de helicópteros en este planeta o robots\n",
    "denominados PUH (por sus siglas en inglés) que significa \"Saltador Urbano de\n",
    "Precisión\", robots que son capaces de saltar, ahorrando energía en comparación\n",
    "con volar.\n",
    "\n",
    "La función que describe el lanzamiento vertical de un objeto como función del\n",
    "tiempo, es de gran utilidad al momento de determinar la posición del robot PUH\n",
    "dada su altura inicial, en cualquier cuerpo celeste del que se conoce su gravedad.\n",
    "Cuando un objeto se lanza hacia arriba desde una altura inicial $h_0$, con una\n",
    "velocidad inicial $v_0$, la función para determinar su altura es $H(t)$ en el tiempo $t$ está dada por\n",
    "\n",
    "$$H(t)=h_0+ v_0t −\\dfrac{1}{2}gt^2$$\n",
    "\n",
    "donde $g$ es el valor de la aceleración gravitacional de Marte.\n",
    "\n",
    "En el esquema de la figura se ilustra el salto en vertical de un robot desde\n",
    "una altura inicial $h_0$, con una velocidad inicial $v_0$, que alcanza una altura máxima $H(t_\\text{max})=\\text{max}$, en el tiempo $t_\\text{max}$ , para después caer a la superficie del planeta, alcanzando así una altura final $H(t_f)=0$, en el tiempo final $t_f$.\n"
   ]
  },
  {
   "cell_type": "markdown",
   "metadata": {},
   "source": [
    "<img src=\"marte1.png\" align=\"middle\" width=\"400\">"
   ]
  },
  {
   "cell_type": "markdown",
   "metadata": {},
   "source": [
    "**1. El modelo que describe la altura del objeto en lanzamiento vertical como función\n",
    "del tiempo es una:**"
   ]
  },
  {
   "cell_type": "markdown",
   "metadata": {},
   "source": [
    "A) Función de primer grado\n",
    "\n",
    "B) Función de segundo grado\n",
    "\n",
    "C) Función trigonométrica\n",
    "\n",
    "D) Función exponencial"
   ]
  },
  {
   "cell_type": "markdown",
   "metadata": {},
   "source": [
    "$ $"
   ]
  },
  {
   "cell_type": "markdown",
   "metadata": {},
   "source": [
    "$ $"
   ]
  },
  {
   "cell_type": "markdown",
   "metadata": {},
   "source": [
    "$ $"
   ]
  },
  {
   "cell_type": "markdown",
   "metadata": {},
   "source": [
    "$ $"
   ]
  },
  {
   "cell_type": "markdown",
   "metadata": {},
   "source": [
    "$ $"
   ]
  },
  {
   "cell_type": "markdown",
   "metadata": {},
   "source": [
    "$ $"
   ]
  },
  {
   "cell_type": "markdown",
   "metadata": {},
   "source": [
    "$ $"
   ]
  },
  {
   "cell_type": "markdown",
   "metadata": {},
   "source": [
    "$ $"
   ]
  },
  {
   "cell_type": "markdown",
   "metadata": {},
   "source": [
    "$ $"
   ]
  },
  {
   "cell_type": "markdown",
   "metadata": {},
   "source": [
    "$ $"
   ]
  },
  {
   "cell_type": "markdown",
   "metadata": {},
   "source": [
    "$ $"
   ]
  },
  {
   "cell_type": "markdown",
   "metadata": {},
   "source": [
    "A) Función de primer grado\n",
    "\n",
    "B) Función de segundo grado\n",
    "\n",
    "C) Función trigonométrica\n",
    "\n",
    "D) Función exponencial"
   ]
  },
  {
   "cell_type": "markdown",
   "metadata": {},
   "source": [
    "**Solución:** B)"
   ]
  },
  {
   "cell_type": "markdown",
   "metadata": {},
   "source": [
    "**2. ¿Cuál es el dominio máximo de definición de la función?**"
   ]
  },
  {
   "cell_type": "markdown",
   "metadata": {},
   "source": [
    "A) $(-\\infty,\\infty)$\n",
    "\n",
    "B) $[0,15)$\n",
    "\n",
    "C) $(0,\\infty)$\n",
    "\n",
    "D) $[0, 360)$"
   ]
  },
  {
   "cell_type": "markdown",
   "metadata": {},
   "source": [
    "$ $"
   ]
  },
  {
   "cell_type": "markdown",
   "metadata": {},
   "source": [
    "$ $"
   ]
  },
  {
   "cell_type": "markdown",
   "metadata": {},
   "source": [
    "$ $"
   ]
  },
  {
   "cell_type": "markdown",
   "metadata": {},
   "source": [
    "$ $"
   ]
  },
  {
   "cell_type": "markdown",
   "metadata": {},
   "source": [
    "$ $"
   ]
  },
  {
   "cell_type": "markdown",
   "metadata": {},
   "source": [
    "$ $"
   ]
  },
  {
   "cell_type": "markdown",
   "metadata": {},
   "source": [
    "$ $"
   ]
  },
  {
   "cell_type": "markdown",
   "metadata": {},
   "source": [
    "$ $"
   ]
  },
  {
   "cell_type": "markdown",
   "metadata": {},
   "source": [
    "$ $"
   ]
  },
  {
   "cell_type": "markdown",
   "metadata": {},
   "source": [
    "$ $"
   ]
  },
  {
   "cell_type": "markdown",
   "metadata": {},
   "source": [
    "$ $"
   ]
  },
  {
   "cell_type": "markdown",
   "metadata": {},
   "source": [
    "A) $(-\\infty,\\infty)$\n",
    "\n",
    "B) $[0,15)$\n",
    "\n",
    "C) $(0,\\infty)$\n",
    "\n",
    "D) $[0, 360)$"
   ]
  },
  {
   "cell_type": "markdown",
   "metadata": {},
   "source": [
    "**Solución:** A)"
   ]
  },
  {
   "cell_type": "markdown",
   "metadata": {},
   "source": [
    "**3. Si en el planeta Marte, desde una plataforma situada a una altura $h_0=1.5\\ \\rm{m}$ un robot salta verticalmente con una velocidad inicial $v_0=20\\ \\dfrac{\\rm{m}}{\\rm{s}}$ y al considerar que la aceleración gravitacional en Marte es de $g=3.71\\ \\dfrac{\\rm{m}}{\\rm{s}^2}$.**\n",
    "\n",
    "**¿Cuál es la altura en metros, que el robot alcanza a los dos segundos de su lanzamiento hacia arriba?**"
   ]
  },
  {
   "cell_type": "markdown",
   "metadata": {},
   "source": [
    "A) 45.92\n",
    "\n",
    "B) 34.08\n",
    "\n",
    "C) 31.08\n",
    "\n",
    "D) 48.92"
   ]
  },
  {
   "cell_type": "markdown",
   "metadata": {},
   "source": [
    "$ $"
   ]
  },
  {
   "cell_type": "markdown",
   "metadata": {},
   "source": [
    "$ $"
   ]
  },
  {
   "cell_type": "markdown",
   "metadata": {},
   "source": [
    "$ $"
   ]
  },
  {
   "cell_type": "markdown",
   "metadata": {},
   "source": [
    "$ $"
   ]
  },
  {
   "cell_type": "markdown",
   "metadata": {},
   "source": [
    "$ $"
   ]
  },
  {
   "cell_type": "markdown",
   "metadata": {},
   "source": [
    "$ $"
   ]
  },
  {
   "cell_type": "markdown",
   "metadata": {},
   "source": [
    "$ $"
   ]
  },
  {
   "cell_type": "markdown",
   "metadata": {},
   "source": [
    "$ $"
   ]
  },
  {
   "cell_type": "markdown",
   "metadata": {},
   "source": [
    "$ $"
   ]
  },
  {
   "cell_type": "markdown",
   "metadata": {},
   "source": [
    "$ $"
   ]
  },
  {
   "cell_type": "markdown",
   "metadata": {},
   "source": [
    "$ $"
   ]
  },
  {
   "cell_type": "markdown",
   "metadata": {},
   "source": [
    "A) 45.92\n",
    "\n",
    "B) 34.08\n",
    "\n",
    "C) 31.08\n",
    "\n",
    "D) 48.92"
   ]
  },
  {
   "cell_type": "markdown",
   "metadata": {},
   "source": [
    "**Solución:** B)"
   ]
  },
  {
   "cell_type": "markdown",
   "metadata": {},
   "source": [
    "**4. Considerando las circunstancias en la pregunta anterior ¿Cuál es el tiempo\n",
    "aproximado, en segundos en el que el robot toca la superficie del planeta después\n",
    "de su salto vertical desde la plataforma?**"
   ]
  },
  {
   "cell_type": "markdown",
   "metadata": {},
   "source": [
    "A) 5.46\n",
    "\n",
    "B) 5.31\n",
    "\n",
    "C) 10.70\n",
    "\n",
    "D) 10.856"
   ]
  },
  {
   "cell_type": "markdown",
   "metadata": {},
   "source": [
    "$ $"
   ]
  },
  {
   "cell_type": "markdown",
   "metadata": {},
   "source": [
    "$ $"
   ]
  },
  {
   "cell_type": "markdown",
   "metadata": {},
   "source": [
    "$ $"
   ]
  },
  {
   "cell_type": "markdown",
   "metadata": {},
   "source": [
    "$ $"
   ]
  },
  {
   "cell_type": "markdown",
   "metadata": {},
   "source": [
    "$ $"
   ]
  },
  {
   "cell_type": "markdown",
   "metadata": {},
   "source": [
    "$ $"
   ]
  },
  {
   "cell_type": "markdown",
   "metadata": {},
   "source": [
    "$ $"
   ]
  },
  {
   "cell_type": "markdown",
   "metadata": {},
   "source": [
    "$ $"
   ]
  },
  {
   "cell_type": "markdown",
   "metadata": {},
   "source": [
    "$ $"
   ]
  },
  {
   "cell_type": "markdown",
   "metadata": {},
   "source": [
    "$ $"
   ]
  },
  {
   "cell_type": "markdown",
   "metadata": {},
   "source": [
    "$ $"
   ]
  },
  {
   "cell_type": "markdown",
   "metadata": {},
   "source": [
    "A) 5.46\n",
    "\n",
    "B) 5.31\n",
    "\n",
    "C) 10.70\n",
    "\n",
    "D) 10.856"
   ]
  },
  {
   "cell_type": "markdown",
   "metadata": {},
   "source": [
    "**Solución:** D)"
   ]
  },
  {
   "cell_type": "markdown",
   "metadata": {},
   "source": [
    "**5. De las siguientes gráficas, ¿cuál representa un esbozo de la gráfica de la función correspondiente al lanzamiento vertical descrito en la pregunta 3?**"
   ]
  },
  {
   "cell_type": "markdown",
   "metadata": {},
   "source": [
    "A)\n",
    "<img src=\"cuadratica5A.png\" align=\"middle\" width=\"400\">"
   ]
  },
  {
   "cell_type": "markdown",
   "metadata": {},
   "source": [
    "B)\n",
    "<img src=\"cuadratica5B.png\" align=\"middle\" width=\"400\">"
   ]
  },
  {
   "cell_type": "markdown",
   "metadata": {},
   "source": [
    "C)\n",
    "<img src=\"cuadratica5C.png\" align=\"middle\" width=\"400\">"
   ]
  },
  {
   "cell_type": "markdown",
   "metadata": {},
   "source": [
    "D)\n",
    "<img src=\"cuadratica5D.png\" align=\"middle\" width=\"400\">"
   ]
  },
  {
   "cell_type": "markdown",
   "metadata": {},
   "source": [
    "$ $"
   ]
  },
  {
   "cell_type": "markdown",
   "metadata": {},
   "source": [
    "$ $"
   ]
  },
  {
   "cell_type": "markdown",
   "metadata": {},
   "source": [
    "$ $"
   ]
  },
  {
   "cell_type": "markdown",
   "metadata": {},
   "source": [
    "$ $"
   ]
  },
  {
   "cell_type": "markdown",
   "metadata": {},
   "source": [
    "$ $"
   ]
  },
  {
   "cell_type": "markdown",
   "metadata": {},
   "source": [
    "$ $"
   ]
  },
  {
   "cell_type": "markdown",
   "metadata": {},
   "source": [
    "$ $"
   ]
  },
  {
   "cell_type": "markdown",
   "metadata": {},
   "source": [
    "$ $"
   ]
  },
  {
   "cell_type": "markdown",
   "metadata": {},
   "source": [
    "$ $"
   ]
  },
  {
   "cell_type": "markdown",
   "metadata": {},
   "source": [
    "$ $"
   ]
  },
  {
   "cell_type": "markdown",
   "metadata": {},
   "source": [
    "$ $"
   ]
  },
  {
   "cell_type": "markdown",
   "metadata": {},
   "source": [
    "**Solución:**"
   ]
  },
  {
   "cell_type": "markdown",
   "metadata": {},
   "source": [
    "**6. La figura muestra la gráfica de la expresión matemática que describe la altura del robot en función del tiempo, cuando éste realiza un salto vertical desde la luna, donde hay una aceleración gravitacional $g=1.6\\ \\dfrac{\\rm{m}}{\\rm{s}^2}$ , inicia dicho salto a nivel del suelo y a una velocidad inicial de $v_0=40\\ \\dfrac{\\rm{m}}{\\rm{s}}$.**\n",
    "\n",
    "**¿Cuáles son los puntos A y B de dicha gráfica?**\n"
   ]
  },
  {
   "cell_type": "markdown",
   "metadata": {},
   "source": [
    "<img src=\"marte2.png\" align=\"middle\" width=\"500\">"
   ]
  },
  {
   "cell_type": "markdown",
   "metadata": {},
   "source": [
    "A) $A(0,0),\\ B(0,50)$\n",
    "\n",
    "B) $A(0,0),\\ B(50,0)$\n",
    "\n",
    "C) $A(0,0),\\ B(25,0)$\n",
    "\n",
    "D) $A(0,0), B(0,25)$"
   ]
  },
  {
   "cell_type": "markdown",
   "metadata": {},
   "source": [
    "$ $"
   ]
  },
  {
   "cell_type": "markdown",
   "metadata": {},
   "source": [
    "$ $"
   ]
  },
  {
   "cell_type": "markdown",
   "metadata": {},
   "source": [
    "$ $"
   ]
  },
  {
   "cell_type": "markdown",
   "metadata": {},
   "source": [
    "$ $"
   ]
  },
  {
   "cell_type": "markdown",
   "metadata": {},
   "source": [
    "$ $"
   ]
  },
  {
   "cell_type": "markdown",
   "metadata": {},
   "source": [
    "$ $"
   ]
  },
  {
   "cell_type": "markdown",
   "metadata": {},
   "source": [
    "$ $"
   ]
  },
  {
   "cell_type": "markdown",
   "metadata": {},
   "source": [
    "$ $"
   ]
  },
  {
   "cell_type": "markdown",
   "metadata": {},
   "source": [
    "$ $"
   ]
  },
  {
   "cell_type": "markdown",
   "metadata": {},
   "source": [
    "$ $"
   ]
  },
  {
   "cell_type": "markdown",
   "metadata": {},
   "source": [
    "$ $"
   ]
  },
  {
   "cell_type": "markdown",
   "metadata": {},
   "source": [
    "A) $A(0,0),\\ B(0,50)$\n",
    "\n",
    "B) $A(0,0),\\ B(50,0)$\n",
    "\n",
    "C) $A(0,0),\\ B(25,0)$\n",
    "\n",
    "D) $A(0,0), B(0,25)$"
   ]
  },
  {
   "cell_type": "markdown",
   "metadata": {},
   "source": [
    "**Solución:** B)"
   ]
  },
  {
   "cell_type": "markdown",
   "metadata": {},
   "source": [
    "**7. De acuerdo con la información de la gráfica asociada con la gráfica de la figura anterior, ¿cuál es el dominio natural de la función?**"
   ]
  },
  {
   "cell_type": "markdown",
   "metadata": {},
   "source": [
    "A) $[0, 25]$\n",
    "\n",
    "B) $[25, 0]$\n",
    "\n",
    "C) $[0, 50]$\n",
    "\n",
    "D) $[50, 0]$"
   ]
  },
  {
   "cell_type": "markdown",
   "metadata": {},
   "source": [
    "$ $"
   ]
  },
  {
   "cell_type": "markdown",
   "metadata": {},
   "source": [
    "$ $"
   ]
  },
  {
   "cell_type": "markdown",
   "metadata": {},
   "source": [
    "$ $"
   ]
  },
  {
   "cell_type": "markdown",
   "metadata": {},
   "source": [
    "$ $"
   ]
  },
  {
   "cell_type": "markdown",
   "metadata": {},
   "source": [
    "$ $"
   ]
  },
  {
   "cell_type": "markdown",
   "metadata": {},
   "source": [
    "$ $"
   ]
  },
  {
   "cell_type": "markdown",
   "metadata": {},
   "source": [
    "$ $"
   ]
  },
  {
   "cell_type": "markdown",
   "metadata": {},
   "source": [
    "$ $"
   ]
  },
  {
   "cell_type": "markdown",
   "metadata": {},
   "source": [
    "$ $"
   ]
  },
  {
   "cell_type": "markdown",
   "metadata": {},
   "source": [
    "$ $"
   ]
  },
  {
   "cell_type": "markdown",
   "metadata": {},
   "source": [
    "$ $"
   ]
  },
  {
   "cell_type": "markdown",
   "metadata": {},
   "source": [
    "A) $[0, 25]$\n",
    "\n",
    "B) $[25, 0]$\n",
    "\n",
    "C) $[0, 50]$\n",
    "\n",
    "D) $[50, 0]$"
   ]
  },
  {
   "cell_type": "markdown",
   "metadata": {},
   "source": [
    "**Solución:** C)"
   ]
  },
  {
   "cell_type": "markdown",
   "metadata": {},
   "source": [
    "**8. La siguiente figura muestra la gráfica de la expresión matemática que describe la\n",
    "altura del robot en función del tiempo, cuando éste realiza un salto vertical desde la\n",
    "luna, e inicia dicho salto a nivel del suelo.**\n",
    "\n",
    "**¿Cuál es la expresión matemática que modela la gráfica de la figura?**"
   ]
  },
  {
   "cell_type": "markdown",
   "metadata": {},
   "source": [
    "<img src=\"marte3.png\" align=\"middle\" width=\"500\">"
   ]
  },
  {
   "cell_type": "markdown",
   "metadata": {},
   "source": [
    "A) $H (t) = 0.8(t − 0)(t − 62.5)$\n",
    "\n",
    "B) $H (t) = − 0.8(t − 0)(t − 62.5)$\n",
    "\n",
    "C) $H (t) = − 0.8(t + 0)(t + 62.5)$\n",
    "\n",
    "D) C) $H (t) = 0.8(t + 0)(t + 62.5)$"
   ]
  },
  {
   "cell_type": "markdown",
   "metadata": {},
   "source": [
    "$ $"
   ]
  },
  {
   "cell_type": "markdown",
   "metadata": {},
   "source": [
    "$ $"
   ]
  },
  {
   "cell_type": "markdown",
   "metadata": {},
   "source": [
    "$ $"
   ]
  },
  {
   "cell_type": "markdown",
   "metadata": {},
   "source": [
    "$ $"
   ]
  },
  {
   "cell_type": "markdown",
   "metadata": {},
   "source": [
    "$ $"
   ]
  },
  {
   "cell_type": "markdown",
   "metadata": {},
   "source": [
    "$ $"
   ]
  },
  {
   "cell_type": "markdown",
   "metadata": {},
   "source": [
    "$ $"
   ]
  },
  {
   "cell_type": "markdown",
   "metadata": {},
   "source": [
    "$ $"
   ]
  },
  {
   "cell_type": "markdown",
   "metadata": {},
   "source": [
    "$ $"
   ]
  },
  {
   "cell_type": "markdown",
   "metadata": {},
   "source": [
    "$ $"
   ]
  },
  {
   "cell_type": "markdown",
   "metadata": {},
   "source": [
    "$ $"
   ]
  },
  {
   "cell_type": "markdown",
   "metadata": {},
   "source": [
    "A) $H (t) = 0.8(t − 0)(t − 62.5)$\n",
    "\n",
    "B) $H (t) = − 0.8(t − 0)(t − 62.5)$\n",
    "\n",
    "C) $H (t) = − 0.8(t + 0)(t + 62.5)$\n",
    "\n",
    "D) C) $H (t) = 0.8(t + 0)(t + 62.5)$"
   ]
  },
  {
   "cell_type": "markdown",
   "metadata": {},
   "source": [
    "**Solución:** B)"
   ]
  },
  {
   "cell_type": "markdown",
   "metadata": {},
   "source": [
    "**9. La siguiente figura corresponde a la gráfica de la altura de un robot lanzado en la luna, desde una altura de $1.2\\ \\rm{m}$, como función del tiempo ¿Cuál es la expresión que corresponde a dicha gráfica?**"
   ]
  },
  {
   "cell_type": "markdown",
   "metadata": {},
   "source": [
    "<img src=\"marte3.png\" align=\"middle\" width=\"500\">"
   ]
  },
  {
   "cell_type": "markdown",
   "metadata": {},
   "source": [
    "A) $H ( t ) = −0.8(t + 2.58)2 + 1.2$\n",
    "\n",
    "B) $H ( t ) = − 0.8( t +1)2 + 2$\n",
    "\n",
    "C) $H ( t ) = −0.8(t − 2.58)2 + 1.2$\n",
    "\n",
    "D) $H ( t ) = − 0.8( t −1)2 + 2$"
   ]
  },
  {
   "cell_type": "markdown",
   "metadata": {},
   "source": [
    "$ $"
   ]
  },
  {
   "cell_type": "markdown",
   "metadata": {},
   "source": [
    "$ $"
   ]
  },
  {
   "cell_type": "markdown",
   "metadata": {},
   "source": [
    "$ $"
   ]
  },
  {
   "cell_type": "markdown",
   "metadata": {},
   "source": [
    "$ $"
   ]
  },
  {
   "cell_type": "markdown",
   "metadata": {},
   "source": [
    "$ $"
   ]
  },
  {
   "cell_type": "markdown",
   "metadata": {},
   "source": [
    "$ $"
   ]
  },
  {
   "cell_type": "markdown",
   "metadata": {},
   "source": [
    "$ $"
   ]
  },
  {
   "cell_type": "markdown",
   "metadata": {},
   "source": [
    "$ $"
   ]
  },
  {
   "cell_type": "markdown",
   "metadata": {},
   "source": [
    "$ $"
   ]
  },
  {
   "cell_type": "markdown",
   "metadata": {},
   "source": [
    "$ $"
   ]
  },
  {
   "cell_type": "markdown",
   "metadata": {},
   "source": [
    "$ $"
   ]
  },
  {
   "cell_type": "markdown",
   "metadata": {},
   "source": [
    "A) $H ( t ) = −0.8(t + 2.58)2 + 1.2$\n",
    "\n",
    "B) $H ( t ) = − 0.8( t +1)2 + 2$\n",
    "\n",
    "C) $H ( t ) = −0.8(t − 2.58)2 + 1.2$\n",
    "\n",
    "D) $H ( t ) = − 0.8( t −1)2 + 2$"
   ]
  },
  {
   "cell_type": "markdown",
   "metadata": {},
   "source": [
    "**Solución:** "
   ]
  },
  {
   "cell_type": "markdown",
   "metadata": {},
   "source": [
    "**10. ¿Cuál es el recorrido (rango) de la función asociado con el lanzamiento vertical de un robot en el planeta Marte a una altura inicial de $2.145\\ \\rm{m}$, con una velocidad inicial de $3.71\\ \\dfrac{\\rm{m}}{\\rm{s}}$, al considerar el dominio máximo de la misma?**"
   ]
  },
  {
   "cell_type": "markdown",
   "metadata": {},
   "source": [
    "A) $(-\\infty, 4]$\n",
    "\n",
    "B) $(1, \\infty)$\n",
    "\n",
    "C) $[1, \\infty)$\n",
    "\n",
    "D) $(-\\infty, 4)$"
   ]
  },
  {
   "cell_type": "markdown",
   "metadata": {},
   "source": [
    "$ $"
   ]
  },
  {
   "cell_type": "markdown",
   "metadata": {},
   "source": [
    "$ $"
   ]
  },
  {
   "cell_type": "markdown",
   "metadata": {},
   "source": [
    "$ $"
   ]
  },
  {
   "cell_type": "markdown",
   "metadata": {},
   "source": [
    "$ $"
   ]
  },
  {
   "cell_type": "markdown",
   "metadata": {},
   "source": [
    "$ $"
   ]
  },
  {
   "cell_type": "markdown",
   "metadata": {},
   "source": [
    "$ $"
   ]
  },
  {
   "cell_type": "markdown",
   "metadata": {},
   "source": [
    "$ $"
   ]
  },
  {
   "cell_type": "markdown",
   "metadata": {},
   "source": [
    "$ $"
   ]
  },
  {
   "cell_type": "markdown",
   "metadata": {},
   "source": [
    "$ $"
   ]
  },
  {
   "cell_type": "markdown",
   "metadata": {},
   "source": [
    "$ $"
   ]
  },
  {
   "cell_type": "markdown",
   "metadata": {},
   "source": [
    "$ $"
   ]
  },
  {
   "cell_type": "markdown",
   "metadata": {},
   "source": [
    "A) $(-\\infty, 4]$\n",
    "\n",
    "B) $(1, \\infty)$\n",
    "\n",
    "C) $[1, \\infty)$\n",
    "\n",
    "D) $(-\\infty, 4)$"
   ]
  },
  {
   "cell_type": "markdown",
   "metadata": {},
   "source": [
    "**Solución:** A)"
   ]
  },
  {
   "cell_type": "markdown",
   "metadata": {},
   "source": [
    "**11. ¿Cuál es el recorrido (rango) de la función considerando el dominio natural de la misma, para la situación planteada en la pregunta anterior?**"
   ]
  },
  {
   "cell_type": "markdown",
   "metadata": {},
   "source": [
    "A) $[4,\\infty)$\n",
    "\n",
    "B) $[-\\infty,4)$\n",
    "\n",
    "C) $(0,4)$\n",
    "\n",
    "D) $[0,4]$"
   ]
  },
  {
   "cell_type": "markdown",
   "metadata": {},
   "source": [
    "$ $"
   ]
  },
  {
   "cell_type": "markdown",
   "metadata": {},
   "source": [
    "$ $"
   ]
  },
  {
   "cell_type": "markdown",
   "metadata": {},
   "source": [
    "$ $"
   ]
  },
  {
   "cell_type": "markdown",
   "metadata": {},
   "source": [
    "$ $"
   ]
  },
  {
   "cell_type": "markdown",
   "metadata": {},
   "source": [
    "$ $"
   ]
  },
  {
   "cell_type": "markdown",
   "metadata": {},
   "source": [
    "$ $"
   ]
  },
  {
   "cell_type": "markdown",
   "metadata": {},
   "source": [
    "$ $"
   ]
  },
  {
   "cell_type": "markdown",
   "metadata": {},
   "source": [
    "$ $"
   ]
  },
  {
   "cell_type": "markdown",
   "metadata": {},
   "source": [
    "$ $"
   ]
  },
  {
   "cell_type": "markdown",
   "metadata": {},
   "source": [
    "$ $"
   ]
  },
  {
   "cell_type": "markdown",
   "metadata": {},
   "source": [
    "$ $"
   ]
  },
  {
   "cell_type": "markdown",
   "metadata": {},
   "source": [
    "A) $[4,\\infty)$\n",
    "\n",
    "B) $[-\\infty,4)$\n",
    "\n",
    "C) $(0,4)$\n",
    "\n",
    "D) $[0,4]$"
   ]
  },
  {
   "cell_type": "markdown",
   "metadata": {},
   "source": [
    "**Solución:** D)"
   ]
  },
  {
   "cell_type": "markdown",
   "metadata": {},
   "source": [
    "**12. ¿Cuál es la ecuación del eje de simetría de la parábola en la figura de la pregunta 8 que describe la altura del robot en función del tiempo, cuando éste realiza un salto vertical desde la luna, e inicia dicho salto a nivel del suelo?**"
   ]
  },
  {
   "cell_type": "markdown",
   "metadata": {},
   "source": [
    "<img src=\"marte4.png\" align=\"middle\" width=\"500\">"
   ]
  },
  {
   "cell_type": "markdown",
   "metadata": {},
   "source": [
    "A) $H (t ) = 62.5$\n",
    "\n",
    "B) $t = 62.5$\n",
    "\n",
    "C) $t = 31.25$\n",
    "\n",
    "D) $H (t ) = 31.25$"
   ]
  },
  {
   "cell_type": "markdown",
   "metadata": {},
   "source": [
    "$ $"
   ]
  },
  {
   "cell_type": "markdown",
   "metadata": {},
   "source": [
    "$ $"
   ]
  },
  {
   "cell_type": "markdown",
   "metadata": {},
   "source": [
    "$ $"
   ]
  },
  {
   "cell_type": "markdown",
   "metadata": {},
   "source": [
    "$ $"
   ]
  },
  {
   "cell_type": "markdown",
   "metadata": {},
   "source": [
    "$ $"
   ]
  },
  {
   "cell_type": "markdown",
   "metadata": {},
   "source": [
    "$ $"
   ]
  },
  {
   "cell_type": "markdown",
   "metadata": {},
   "source": [
    "$ $"
   ]
  },
  {
   "cell_type": "markdown",
   "metadata": {},
   "source": [
    "$ $"
   ]
  },
  {
   "cell_type": "markdown",
   "metadata": {},
   "source": [
    "$ $"
   ]
  },
  {
   "cell_type": "markdown",
   "metadata": {},
   "source": [
    "$ $"
   ]
  },
  {
   "cell_type": "markdown",
   "metadata": {},
   "source": [
    "$ $"
   ]
  },
  {
   "cell_type": "markdown",
   "metadata": {},
   "source": [
    "A) $H (t ) = 62.5$\n",
    "\n",
    "B) $t = 62.5$\n",
    "\n",
    "C) $t = 31.25$\n",
    "\n",
    "D) $H (t ) = 31.25$"
   ]
  },
  {
   "cell_type": "markdown",
   "metadata": {},
   "source": [
    "**Solución:** "
   ]
  },
  {
   "cell_type": "markdown",
   "metadata": {},
   "source": [
    "**13. Al considerar el valor de la aceleración gravitacional en Marte y en la luna, selecciona el planteamiento que se puede resolver mediante la siguiente igualdad**\n",
    "\n",
    "$$ H(t_a)=40t_a-\\dfrac{1.6}{2}{t_a}^2=10 $$"
   ]
  },
  {
   "cell_type": "markdown",
   "metadata": {},
   "source": [
    "A) La altura $H(t_a)$ que alcanza un robot al ser lanzado hacia arriba, en vertical, desde la luna, a una altura inicial de $10\\ \\rm{m}$.\n",
    "\n",
    "B) El tiempo $t_a$ en que un robot alcanza la altura de $10\\ \\rm{m}$, al ser lanzado hacia arriba, en vertical, desde la superficie lunar a una altura inicial de $0\\ \\rm{m}$\n",
    "\n",
    "C) La altura $H(t_a)$ que alcanza un robot al ser lanzado hacia arriba, en vertical, desde el planeta Marte, a una altura inicial de $10\\ \\rm{m}$.\n",
    "\n",
    "D) El tiempo $t_a$ en que un robot alcanza la altura de $10\\ \\rm{m}$, al ser lanzado hacia arriba, en vertical, desde la superficie marciana a una altura inicial de $0\\ \\rm{m}$"
   ]
  },
  {
   "cell_type": "markdown",
   "metadata": {},
   "source": [
    "$ $"
   ]
  },
  {
   "cell_type": "markdown",
   "metadata": {},
   "source": [
    "$ $"
   ]
  },
  {
   "cell_type": "markdown",
   "metadata": {},
   "source": [
    "$ $"
   ]
  },
  {
   "cell_type": "markdown",
   "metadata": {},
   "source": [
    "$ $"
   ]
  },
  {
   "cell_type": "markdown",
   "metadata": {},
   "source": [
    "$ $"
   ]
  },
  {
   "cell_type": "markdown",
   "metadata": {},
   "source": [
    "$ $"
   ]
  },
  {
   "cell_type": "markdown",
   "metadata": {},
   "source": [
    "$ $"
   ]
  },
  {
   "cell_type": "markdown",
   "metadata": {},
   "source": [
    "$ $"
   ]
  },
  {
   "cell_type": "markdown",
   "metadata": {},
   "source": [
    "$ $"
   ]
  },
  {
   "cell_type": "markdown",
   "metadata": {},
   "source": [
    "$ $"
   ]
  },
  {
   "cell_type": "markdown",
   "metadata": {},
   "source": [
    "$ $"
   ]
  },
  {
   "cell_type": "markdown",
   "metadata": {},
   "source": [
    "A) La altura $H(t_a)$ que alcanza un robot al ser lanzado hacia arriba, en vertical, desde la luna, a una altura inicial de $10\\ \\rm{m}$.\n",
    "\n",
    "B) El tiempo $t_a$ en que un robot alcanza la altura de $10\\ \\rm{m}$, al ser lanzado hacia arriba, en vertical, desde la superficie lunar a una altura inicial de $0\\ \\rm{m}$\n",
    "\n",
    "C) La altura $H(t_a)$ que alcanza un robot al ser lanzado hacia arriba, en vertical, desde el planeta Marte, a una altura inicial de $10\\ \\rm{m}$.\n",
    "\n",
    "D) El tiempo $t_a$ en que un robot alcanza la altura de $10\\ \\rm{m}$, al ser lanzado hacia arriba, en vertical, desde la superficie marciana a una altura inicial de $0\\ \\rm{m}$"
   ]
  },
  {
   "cell_type": "markdown",
   "metadata": {},
   "source": [
    "**Solución:** "
   ]
  },
  {
   "cell_type": "markdown",
   "metadata": {},
   "source": [
    "## Asíntota"
   ]
  },
  {
   "cell_type": "markdown",
   "metadata": {},
   "source": [
    "*Recta a la cual una función se aproxima pero nunca toca.*"
   ]
  },
  {
   "cell_type": "markdown",
   "metadata": {},
   "source": [
    "## Función racional"
   ]
  },
  {
   "cell_type": "markdown",
   "metadata": {},
   "source": [
    "$$ f(x)=\\dfrac{\\text{polinomio}}{\\text{polinomio}} $$"
   ]
  },
  {
   "cell_type": "markdown",
   "metadata": {},
   "source": [
    "Los puntos donde el denominador se hace cero **NO** están en el dominio de la función."
   ]
  },
  {
   "cell_type": "markdown",
   "metadata": {},
   "source": [
    "La asíntota vertical es $x=a$, donde $a$ es un valor para el cual el denominador se hace cero."
   ]
  },
  {
   "cell_type": "markdown",
   "metadata": {},
   "source": [
    "Si los polinomios del numerador y del denominador son del mismo grado, tendremos una asíntota horizontal con ecuación $y=b$, donde $b$ es el cociente de los coeficientes de los términos de mayor grado para cada polinomio."
   ]
  },
  {
   "cell_type": "markdown",
   "metadata": {},
   "source": [
    "* ***Ejemplo:*** $f(x)=\\dfrac{2x-3}{3x-12}$"
   ]
  },
  {
   "cell_type": "markdown",
   "metadata": {},
   "source": [
    "¿Cuándo el denominador se hace cero?"
   ]
  },
  {
   "cell_type": "markdown",
   "metadata": {},
   "source": [
    "$$ 3x-12=0 $$"
   ]
  },
  {
   "cell_type": "markdown",
   "metadata": {},
   "source": [
    "$$ x=4 $$"
   ]
  },
  {
   "cell_type": "markdown",
   "metadata": {},
   "source": [
    "$$\\text{Dominio}=(-\\infty,4)\\cup(4,\\infty)$$"
   ]
  },
  {
   "cell_type": "markdown",
   "metadata": {},
   "source": [
    "La función tiene una asíntota vertical en $x=4$."
   ]
  },
  {
   "cell_type": "markdown",
   "metadata": {},
   "source": [
    "$$\\text{Rango}=(-\\infty,\\frac{2}{3})\\cup(\\frac{2}{3},\\infty) $$"
   ]
  },
  {
   "cell_type": "markdown",
   "metadata": {},
   "source": [
    "La función tiene una asíntota horizontal en $y=\\dfrac{2}{3}$."
   ]
  },
  {
   "cell_type": "markdown",
   "metadata": {},
   "source": [
    "$$ \\text{Codominio}=(-\\infty,\\infty) $$"
   ]
  },
  {
   "cell_type": "markdown",
   "metadata": {},
   "source": [
    "## Leyes de logaritmos"
   ]
  },
  {
   "cell_type": "markdown",
   "metadata": {},
   "source": [
    "* $\\log_a(1)=0 $"
   ]
  },
  {
   "cell_type": "markdown",
   "metadata": {},
   "source": [
    "* $\\log_a(a)=1$"
   ]
  },
  {
   "cell_type": "markdown",
   "metadata": {},
   "source": [
    "* $\\log_a(x)+\\log_a(y)=\\log_a(xy)$"
   ]
  },
  {
   "cell_type": "markdown",
   "metadata": {},
   "source": [
    "* $\\log_a(x)-\\log_a(y)=\\log_a\\left(\\dfrac{x}{y}\\right)$"
   ]
  },
  {
   "cell_type": "markdown",
   "metadata": {},
   "source": [
    "* $\\log_a(x^n)=n\\log_a(x)$"
   ]
  },
  {
   "cell_type": "markdown",
   "metadata": {},
   "source": [
    "* $\\log_a(b)\\log_b(c)=\\log_a(c)$"
   ]
  },
  {
   "cell_type": "markdown",
   "metadata": {},
   "source": [
    "* $\\log_b(c)=\\dfrac{\\log_a(c)}{\\log_a(b)}$"
   ]
  },
  {
   "cell_type": "markdown",
   "metadata": {},
   "source": [
    "* ***Ejemplo:*** Calculemos $\\log_3(97628)$"
   ]
  },
  {
   "cell_type": "markdown",
   "metadata": {},
   "source": [
    "$$\\log_3(97628)\\approx10.45766\\dots$$"
   ]
  },
  {
   "cell_type": "markdown",
   "metadata": {},
   "source": [
    "$$\\log_b(c)=\\dfrac{\\log_a(c)}{\\log_a(b)}$$"
   ]
  },
  {
   "cell_type": "markdown",
   "metadata": {},
   "source": [
    "$b=3$, $c=97628$, $a=10$"
   ]
  },
  {
   "cell_type": "markdown",
   "metadata": {},
   "source": [
    "$$\\log_3(97628)=\\dfrac{\\log_{10}(97628)}{\\log_{10}(3)}=10.45766\\dots$$"
   ]
  },
  {
   "cell_type": "markdown",
   "metadata": {},
   "source": [
    "$$ \\circledast $$"
   ]
  },
  {
   "cell_type": "markdown",
   "metadata": {},
   "source": [
    "**¿Cómo se despeja un logaritmo?**"
   ]
  },
  {
   "cell_type": "markdown",
   "metadata": {},
   "source": [
    "$$y=\\log_a(x)\\quad \\leftrightarrow\\quad a^y=x $$"
   ]
  },
  {
   "cell_type": "markdown",
   "metadata": {},
   "source": [
    "## Funciones exponenciales"
   ]
  },
  {
   "cell_type": "markdown",
   "metadata": {},
   "source": [
    "$$ f(x)=a\\cdot b^x+c $$"
   ]
  },
  {
   "cell_type": "markdown",
   "metadata": {},
   "source": [
    "* Si $b>1$, decimos que se trata de un crecimiento exponencial.\n",
    "* Si $0<b<1$, decimos que se trata de un decaimiento exponencial.\n",
    "* Si $b=1$, línea horizontal (función constante)"
   ]
  },
  {
   "cell_type": "markdown",
   "metadata": {},
   "source": [
    "El dominio máximo de estas funciones es $\\mathbb{R}=(-\\infty,\\infty)$."
   ]
  },
  {
   "cell_type": "markdown",
   "metadata": {},
   "source": [
    "Si $a>0$, el rango de la función es $(c,\\infty)$.\n",
    "\n",
    "Si $a<0$, el rango de la función es $(-\\infty,c)$."
   ]
  },
  {
   "cell_type": "markdown",
   "metadata": {},
   "source": [
    "Las funciones exponenciales presentan una asíntota horizontal en $y=c$."
   ]
  },
  {
   "cell_type": "markdown",
   "metadata": {},
   "source": [
    "* ***Ejemplo:*** **El ajedrez**\n",
    "\n",
    "\"Si se colocase sobre un tablero de ajedrez (lo suficientemente grande) un grano de trigo en el primer casillero, dos en el segundo, cuatro en el tercero y así sucesivamente, doblando la cantidad de granos en cada casilla, ¿cuántos granos de trigo habría en el tablero al final?\" https://es.wikipedia.org/wiki/Problema_del_trigo_y_del_tablero_de_ajedrez"
   ]
  },
  {
   "cell_type": "markdown",
   "metadata": {},
   "source": [
    "$$ f(x)=2^x $$"
   ]
  },
  {
   "cell_type": "markdown",
   "metadata": {},
   "source": [
    "Para la primera casilla:"
   ]
  },
  {
   "cell_type": "markdown",
   "metadata": {},
   "source": [
    "$$ f(0)=2^0=1 $$"
   ]
  },
  {
   "cell_type": "markdown",
   "metadata": {},
   "source": [
    "Para la segunda casilla:"
   ]
  },
  {
   "cell_type": "markdown",
   "metadata": {},
   "source": [
    "$$ f(1)=2^1=2 $$"
   ]
  },
  {
   "cell_type": "markdown",
   "metadata": {},
   "source": [
    "Para la tercera casilla:"
   ]
  },
  {
   "cell_type": "markdown",
   "metadata": {},
   "source": [
    "$$ f(2)=2^2=4 $$"
   ]
  },
  {
   "cell_type": "markdown",
   "metadata": {},
   "source": [
    "Para la cuarta casilla:"
   ]
  },
  {
   "cell_type": "markdown",
   "metadata": {},
   "source": [
    "$$ f(3)=2^3=8 $$"
   ]
  },
  {
   "cell_type": "markdown",
   "metadata": {},
   "source": [
    "Para la décima casilla:"
   ]
  },
  {
   "cell_type": "markdown",
   "metadata": {},
   "source": [
    "$$ f(10)=2^{10}=1024 $$"
   ]
  },
  {
   "cell_type": "code",
   "execution_count": 1,
   "metadata": {},
   "outputs": [
    {
     "data": {
      "text/plain": [
       "1024"
      ]
     },
     "execution_count": 1,
     "metadata": {},
     "output_type": "execute_result"
    }
   ],
   "source": [
    "2^10"
   ]
  },
  {
   "cell_type": "markdown",
   "metadata": {},
   "source": [
    "Para la sexagésima tercera casilla:"
   ]
  },
  {
   "cell_type": "markdown",
   "metadata": {},
   "source": [
    "$$ f(63)=2^{63}=9223372036854775808 $$"
   ]
  },
  {
   "cell_type": "code",
   "execution_count": 2,
   "metadata": {},
   "outputs": [
    {
     "data": {
      "text/plain": [
       "9223372036854775808"
      ]
     },
     "execution_count": 2,
     "metadata": {},
     "output_type": "execute_result"
    }
   ],
   "source": [
    "big(2)^63"
   ]
  },
  {
   "cell_type": "markdown",
   "metadata": {},
   "source": [
    "O sea que el valor final es más grande que la cantidad de trigo que hay en todo el mundo."
   ]
  },
  {
   "cell_type": "markdown",
   "metadata": {},
   "source": [
    "### Forma alternativa de las funciones exponenciales"
   ]
  },
  {
   "cell_type": "markdown",
   "metadata": {},
   "source": [
    "$$ f(x)=A\\,e^{kx}+c $$"
   ]
  },
  {
   "cell_type": "markdown",
   "metadata": {},
   "source": [
    "* Si $k>0$, decimos que se trata de un crecimiento exponencial.\n",
    "* Si $k<0$, decimos que se trata de un decaimiento exponencial.\n",
    "* Si $k=0$, línea horizontal"
   ]
  },
  {
   "cell_type": "markdown",
   "metadata": {},
   "source": [
    "$$ \\log_e=\\ln $$"
   ]
  },
  {
   "cell_type": "markdown",
   "metadata": {},
   "source": [
    "## Funciones logarítmicas"
   ]
  },
  {
   "cell_type": "markdown",
   "metadata": {},
   "source": [
    "$$ f(x)=a\\cdot\\log(x+b)+c$$"
   ]
  },
  {
   "cell_type": "markdown",
   "metadata": {},
   "source": [
    "El dominio máximo de estas funciones es $(-b,\\infty)$."
   ]
  },
  {
   "cell_type": "markdown",
   "metadata": {},
   "source": [
    "$$ f(x)=a\\cdot\\log(x)+c$$"
   ]
  },
  {
   "cell_type": "markdown",
   "metadata": {},
   "source": [
    "El dominio máximo de estas funciones es $(0,\\infty)$."
   ]
  },
  {
   "cell_type": "markdown",
   "metadata": {},
   "source": [
    "El rango para este dominio máximo es $\\mathbb{R}=(-\\infty,\\infty)$."
   ]
  },
  {
   "cell_type": "markdown",
   "metadata": {},
   "source": [
    "Las funciones logarítmicas presentan una asíntota vertical en $x=-b$."
   ]
  },
  {
   "cell_type": "markdown",
   "metadata": {},
   "source": [
    "## ¿Quién gana?"
   ]
  },
  {
   "cell_type": "markdown",
   "metadata": {},
   "source": [
    "Si te ofrecen una chamba diciéndote que te ofrecerán un sueldo como función del tiempo trabajado, y te dan a escoger entre las siguientes opciones, ¿cuál te conviene elegir?"
   ]
  },
  {
   "cell_type": "markdown",
   "metadata": {},
   "source": [
    "* $ S_1(t)=100t $"
   ]
  },
  {
   "cell_type": "markdown",
   "metadata": {},
   "source": [
    "$$ S_1(8)=100(8)=800 $$"
   ]
  },
  {
   "cell_type": "markdown",
   "metadata": {},
   "source": [
    "* $ S_2(t)=100t^2 $"
   ]
  },
  {
   "cell_type": "markdown",
   "metadata": {},
   "source": [
    "$$ S_2(8)=100(8)^2=6400 $$"
   ]
  },
  {
   "cell_type": "markdown",
   "metadata": {},
   "source": [
    "* $ S_3(t)=100\\ln(t) $"
   ]
  },
  {
   "cell_type": "markdown",
   "metadata": {},
   "source": [
    "$$ S_3(8)=100\\ln(8)=207.94 $$"
   ]
  },
  {
   "cell_type": "code",
   "execution_count": null,
   "metadata": {},
   "outputs": [],
   "source": [
    "100*log(8)"
   ]
  },
  {
   "cell_type": "markdown",
   "metadata": {},
   "source": [
    "* $ S_4(t)=100\\,e^t $"
   ]
  },
  {
   "cell_type": "markdown",
   "metadata": {},
   "source": [
    "$$ S_4(8)=100\\,e^8=298095.80 $$"
   ]
  },
  {
   "cell_type": "code",
   "execution_count": null,
   "metadata": {},
   "outputs": [],
   "source": [
    "100*exp(8)"
   ]
  },
  {
   "cell_type": "markdown",
   "metadata": {},
   "source": [
    "https://www.desmos.com/calculator/vse1cmyayl"
   ]
  },
  {
   "cell_type": "markdown",
   "metadata": {},
   "source": [
    "* ***Ejemplo:*** Pensemos que tenemos una función exponencial de la forma $f(x)=a\\cdot b^x$. Si $f(20)=88.2$ y $f(23)=91.4$, encuentra \n",
    "\n",
    "(a) la base, \n",
    "\n",
    "(b) $f(25)$ y, \n",
    "\n",
    "(c) la tasa media de cambio entre los puntos del principio."
   ]
  },
  {
   "cell_type": "markdown",
   "metadata": {},
   "source": [
    "**(a) la base**"
   ]
  },
  {
   "cell_type": "markdown",
   "metadata": {},
   "source": [
    "Buscamos una función de la forma"
   ]
  },
  {
   "cell_type": "markdown",
   "metadata": {},
   "source": [
    "$$ f(x)=a\\cdot b^x $$"
   ]
  },
  {
   "cell_type": "markdown",
   "metadata": {},
   "source": [
    "$$ f(20)=a\\cdot b^{20}=88.2 $$"
   ]
  },
  {
   "cell_type": "markdown",
   "metadata": {},
   "source": [
    "$$ f(23)=a\\cdot b^{23}=91.4 $$"
   ]
  },
  {
   "cell_type": "markdown",
   "metadata": {},
   "source": [
    "$$ \\begin{cases}a\\cdot b^{20}=88.2\\\\a\\cdot b^{23}=91.4\\end{cases} $$"
   ]
  },
  {
   "cell_type": "markdown",
   "metadata": {},
   "source": [
    "$$ a=\\dfrac{88.2}{b^{20}} $$"
   ]
  },
  {
   "cell_type": "markdown",
   "metadata": {},
   "source": [
    "Vamos a sustituir la $a$ despejada de la primera ecuación en la segunda ecuación:"
   ]
  },
  {
   "cell_type": "markdown",
   "metadata": {},
   "source": [
    "$$ a\\cdot b^{23}=91.4 $$"
   ]
  },
  {
   "cell_type": "markdown",
   "metadata": {},
   "source": [
    "$$ \\dfrac{88.2}{b^{20}}\\cdot b^{23}=91.4 $$"
   ]
  },
  {
   "cell_type": "markdown",
   "metadata": {},
   "source": [
    "$$ 88.2\\cdot\\dfrac{b^{23}}{b^{20}}=91.4 $$"
   ]
  },
  {
   "cell_type": "markdown",
   "metadata": {},
   "source": [
    "$$ 88.2\\ b^{3}=91.4 $$"
   ]
  },
  {
   "cell_type": "markdown",
   "metadata": {},
   "source": [
    "$$ b^{3}=\\dfrac{91.4}{88.2} $$"
   ]
  },
  {
   "cell_type": "markdown",
   "metadata": {},
   "source": [
    "$$ b=\\sqrt[3]{\\dfrac{91.4}{88.2}}\\approx1.011 $$"
   ]
  },
  {
   "cell_type": "code",
   "execution_count": null,
   "metadata": {},
   "outputs": [],
   "source": [
    "∛(91.4/88.2)"
   ]
  },
  {
   "cell_type": "markdown",
   "metadata": {},
   "source": [
    "**(b) $f(25)$** "
   ]
  },
  {
   "cell_type": "markdown",
   "metadata": {},
   "source": [
    "$$ f(x)=a\\cdot (1.011)^x $$"
   ]
  },
  {
   "cell_type": "markdown",
   "metadata": {},
   "source": [
    "$$ a=\\dfrac{88.2}{(1.011)^{20}}\\approx70.87 $$"
   ]
  },
  {
   "cell_type": "markdown",
   "metadata": {},
   "source": [
    "$$ f(x)=(70.87)\\cdot (1.011)^x $$"
   ]
  },
  {
   "cell_type": "markdown",
   "metadata": {},
   "source": [
    "$$ f(25)=(70.87)\\cdot (1.011)^{25}\\approx93.16 $$"
   ]
  },
  {
   "cell_type": "markdown",
   "metadata": {},
   "source": [
    "**(c) la tasa media de cambio entre los puntos del principio.**"
   ]
  },
  {
   "cell_type": "markdown",
   "metadata": {},
   "source": [
    "$$ f(20)=a\\cdot b^{20}=88.2 $$"
   ]
  },
  {
   "cell_type": "markdown",
   "metadata": {},
   "source": [
    "$$ f(23)=a\\cdot b^{23}=91.4 $$"
   ]
  },
  {
   "cell_type": "markdown",
   "metadata": {},
   "source": [
    "$$ m=\\dfrac{f(x_2)-f(x_1)}{x_2-x_1} $$"
   ]
  },
  {
   "cell_type": "markdown",
   "metadata": {},
   "source": [
    "$$ m=\\dfrac{f(23)-f(20)}{23-20} $$"
   ]
  },
  {
   "cell_type": "markdown",
   "metadata": {},
   "source": [
    "$$ =\\dfrac{91.4-88.2}{23-20}=1.06 $$"
   ]
  },
  {
   "cell_type": "markdown",
   "metadata": {},
   "source": []
  },
  {
   "cell_type": "markdown",
   "metadata": {},
   "source": []
  },
  {
   "cell_type": "code",
   "execution_count": null,
   "metadata": {},
   "outputs": [],
   "source": []
  },
  {
   "cell_type": "markdown",
   "metadata": {},
   "source": []
  },
  {
   "cell_type": "markdown",
   "metadata": {},
   "source": []
  },
  {
   "cell_type": "code",
   "execution_count": null,
   "metadata": {},
   "outputs": [],
   "source": []
  },
  {
   "cell_type": "markdown",
   "metadata": {},
   "source": []
  },
  {
   "cell_type": "markdown",
   "metadata": {},
   "source": [
    "**(b)** Queremos encontrar el valor de $f(25)$. Para esto nos conviene obtener el valor de $a$. Podemos obtener esto con cualquiera de los dos despejes:"
   ]
  },
  {
   "cell_type": "markdown",
   "metadata": {},
   "source": [
    "$$ a=\\dfrac{88.2}{b^{20}}\\approx69.548 $$"
   ]
  },
  {
   "cell_type": "markdown",
   "metadata": {},
   "source": [
    "$$ a=\\dfrac{91.4}{b^{23}}\\approx69.548 $$"
   ]
  },
  {
   "cell_type": "code",
   "execution_count": null,
   "metadata": {},
   "outputs": [],
   "source": [
    "88.2/(1.011950346713399^20)"
   ]
  },
  {
   "cell_type": "code",
   "execution_count": null,
   "metadata": {},
   "outputs": [],
   "source": [
    "91.4/(1.011950346713399^23)"
   ]
  },
  {
   "cell_type": "markdown",
   "metadata": {},
   "source": [
    "Entonces la función toma los valores encontrados:"
   ]
  },
  {
   "cell_type": "markdown",
   "metadata": {},
   "source": [
    "$$ f(x)=(69.548)\\cdot(1.012)^x $$"
   ]
  },
  {
   "cell_type": "markdown",
   "metadata": {},
   "source": [
    "$$ f(25)=(69.548)\\cdot(1.012)^{25}\\approx93.712 $$"
   ]
  },
  {
   "cell_type": "code",
   "execution_count": null,
   "metadata": {},
   "outputs": [],
   "source": [
    "(69.548)*(1.012)^25"
   ]
  },
  {
   "cell_type": "markdown",
   "metadata": {},
   "source": [
    "**(c)** Como $f(20)=88.2$ y $f(23)=91.4$ tenemos dos puntos, $(20,88.2)$ y $(23,91.4)$, podemos encontrar la tasa (media) de cambio como una pendiente"
   ]
  },
  {
   "cell_type": "markdown",
   "metadata": {},
   "source": [
    "$$ \\dfrac{91.4-88.2}{23-20}=1.06 $$"
   ]
  },
  {
   "cell_type": "code",
   "execution_count": null,
   "metadata": {},
   "outputs": [],
   "source": [
    "(91.4-88.2)/(23-20)"
   ]
  },
  {
   "cell_type": "markdown",
   "metadata": {},
   "source": [
    "¿Qué significa este valor? Es el crecimiento promedio que experimenta la función."
   ]
  },
  {
   "cell_type": "markdown",
   "metadata": {},
   "source": [
    "## Situación. Población de Michoacán"
   ]
  },
  {
   "cell_type": "markdown",
   "metadata": {},
   "source": [
    "En la Tabla se muestra la relación de la población de Michoacán de 1880 a 2010. La tercera columna nos indica la proporción, la cual fue obtenida de dividir la población de determinada década entre la población de la década precedente."
   ]
  },
  {
   "cell_type": "markdown",
   "metadata": {},
   "source": [
    "| Año  | Población (millones) | Proporción |\n",
    "|------|----------------------|------------|\n",
    "| 1880 | 1.48                 |        |\n",
    "| 1890 | 1.84                 | 1.24       |\n",
    "| 1900 | 2.28                 | 1.24       |\n",
    "| 1910 | 2.82                 | 1.24       |\n",
    "| 1920 | 3.49                 | 1.24       |\n",
    "| 1930 | 4.33                 | 1.24       |\n",
    "| 1940 | 5.36                 | 1.24       |\n",
    "| 1950 | 6.64                 | 1.24       |\n",
    "| 1960 | 8.22                 | 1.24       |\n",
    "| 1970 | 10.18                | 1.24       |\n",
    "| 1980 | 12.62                | 1.24       |\n",
    "| 1990 | 15.63                | 1.24       |\n",
    "| 2000 | 19.35                | 1.24       |\n",
    "| 2010 | 23.97                | 1.24       |"
   ]
  },
  {
   "cell_type": "markdown",
   "metadata": {},
   "source": [
    "**1. ¿Cuál de las siguientes afirmaciones es verdadera? [1 punto]**"
   ]
  },
  {
   "cell_type": "markdown",
   "metadata": {},
   "source": [
    "A) El año es el dominio y la proporción el codominio de la relación.\n",
    "\n",
    "B) La población es el dominio y la proporción el codominio de la relación.\n",
    "\n",
    "C) El año es el dominio y la población el codominio de la relación.\n",
    "\n",
    "D) La población es el dominio y el año el codominio de la relación."
   ]
  },
  {
   "cell_type": "markdown",
   "metadata": {},
   "source": [
    "$ $"
   ]
  },
  {
   "cell_type": "markdown",
   "metadata": {},
   "source": [
    "$ $"
   ]
  },
  {
   "cell_type": "markdown",
   "metadata": {},
   "source": [
    "$ $"
   ]
  },
  {
   "cell_type": "markdown",
   "metadata": {},
   "source": [
    "$ $"
   ]
  },
  {
   "cell_type": "markdown",
   "metadata": {},
   "source": [
    "$ $"
   ]
  },
  {
   "cell_type": "markdown",
   "metadata": {},
   "source": [
    "$ $"
   ]
  },
  {
   "cell_type": "markdown",
   "metadata": {},
   "source": [
    "$ $"
   ]
  },
  {
   "cell_type": "markdown",
   "metadata": {},
   "source": [
    "$ $"
   ]
  },
  {
   "cell_type": "markdown",
   "metadata": {},
   "source": [
    "$ $"
   ]
  },
  {
   "cell_type": "markdown",
   "metadata": {},
   "source": [
    "$ $"
   ]
  },
  {
   "cell_type": "markdown",
   "metadata": {},
   "source": [
    "$ $"
   ]
  },
  {
   "cell_type": "markdown",
   "metadata": {},
   "source": [
    "$ $"
   ]
  },
  {
   "cell_type": "markdown",
   "metadata": {},
   "source": [
    "$ $"
   ]
  },
  {
   "cell_type": "markdown",
   "metadata": {},
   "source": [
    "Como la proporción no cambia nos centraremos en la primera y segunda columna. Notamos que la forma en la que cambia la población depende del año.\n",
    "\n",
    "*\"depende de\"* $=$ *\"en función de\"*"
   ]
  },
  {
   "cell_type": "markdown",
   "metadata": {},
   "source": [
    "Población $=$ variable dependiente (porque depende del año)"
   ]
  },
  {
   "cell_type": "markdown",
   "metadata": {},
   "source": [
    "Año $=$ variable independiente"
   ]
  },
  {
   "cell_type": "markdown",
   "metadata": {},
   "source": [
    "La variable independiente se relaciona con el dominio."
   ]
  },
  {
   "cell_type": "markdown",
   "metadata": {},
   "source": [
    "La variable dependiente se relaciona con el rango o codominio."
   ]
  },
  {
   "cell_type": "markdown",
   "metadata": {},
   "source": [
    "A) El año es el dominio y la proporción el codominio de la relación.\n",
    "\n",
    "B) La población es el dominio y la proporción el codominio de la relación.\n",
    "\n",
    "C) El año es el dominio y la población el codominio de la relación.\n",
    "\n",
    "D) La población es el dominio y el año el codominio de la relación."
   ]
  },
  {
   "cell_type": "markdown",
   "metadata": {},
   "source": [
    "**Solución:** C)"
   ]
  },
  {
   "cell_type": "markdown",
   "metadata": {},
   "source": [
    "**2.  La tasa de crecimiento de 1990 al 2010 de la población de Michoacán es: [2 puntos]**"
   ]
  },
  {
   "cell_type": "markdown",
   "metadata": {},
   "source": [
    "A) $1.24$\n",
    "\n",
    "B) $0.417$\n",
    "\n",
    "C) $2.4$\n",
    "\n",
    "D) $0.24$"
   ]
  },
  {
   "cell_type": "markdown",
   "metadata": {},
   "source": [
    "$ $"
   ]
  },
  {
   "cell_type": "markdown",
   "metadata": {},
   "source": [
    "$ $"
   ]
  },
  {
   "cell_type": "markdown",
   "metadata": {},
   "source": [
    "$ $"
   ]
  },
  {
   "cell_type": "markdown",
   "metadata": {},
   "source": [
    "$ $"
   ]
  },
  {
   "cell_type": "markdown",
   "metadata": {},
   "source": [
    "$ $"
   ]
  },
  {
   "cell_type": "markdown",
   "metadata": {},
   "source": [
    "$ $"
   ]
  },
  {
   "cell_type": "markdown",
   "metadata": {},
   "source": [
    "$ $"
   ]
  },
  {
   "cell_type": "markdown",
   "metadata": {},
   "source": [
    "$ $"
   ]
  },
  {
   "cell_type": "markdown",
   "metadata": {},
   "source": [
    "$ $"
   ]
  },
  {
   "cell_type": "markdown",
   "metadata": {},
   "source": [
    "$ $"
   ]
  },
  {
   "cell_type": "markdown",
   "metadata": {},
   "source": [
    "$ $"
   ]
  },
  {
   "cell_type": "markdown",
   "metadata": {},
   "source": [
    "$ $"
   ]
  },
  {
   "cell_type": "markdown",
   "metadata": {},
   "source": [
    "$ $"
   ]
  },
  {
   "cell_type": "markdown",
   "metadata": {},
   "source": [
    "**(c)** Como tenemos dos puntos, $(1990,15.63)$ y $(2010,23.97)$, podemos encontrar la tasa (media) de cambio como una pendiente"
   ]
  },
  {
   "cell_type": "markdown",
   "metadata": {},
   "source": [
    "$$ \\dfrac{23.97-15.63}{2010-1990}=0.417 $$"
   ]
  },
  {
   "cell_type": "code",
   "execution_count": null,
   "metadata": {},
   "outputs": [],
   "source": [
    "(23.97-15.63)/(2010-1990)"
   ]
  },
  {
   "cell_type": "markdown",
   "metadata": {},
   "source": [
    "A) $1.24$\n",
    "\n",
    "B) $0.417$\n",
    "\n",
    "C) $2.4$\n",
    "\n",
    "D) $0.24$"
   ]
  },
  {
   "cell_type": "markdown",
   "metadata": {},
   "source": [
    "**Solución:** B)"
   ]
  },
  {
   "cell_type": "markdown",
   "metadata": {},
   "source": [
    "**3. Los datos de la tabla 1 se encuentran modelados por una función del tipo $f(x)=Aa^{Bx}$ donde $A$ y $B$ son constantes, la función es: [1 punto]**"
   ]
  },
  {
   "cell_type": "markdown",
   "metadata": {},
   "source": [
    "A) Lineal\n",
    "\n",
    "B) Polinomial\n",
    "\n",
    "C) Exponencial\n",
    "\n",
    "D) Logarítmica"
   ]
  },
  {
   "cell_type": "markdown",
   "metadata": {},
   "source": [
    "$ $"
   ]
  },
  {
   "cell_type": "markdown",
   "metadata": {},
   "source": [
    "$ $"
   ]
  },
  {
   "cell_type": "markdown",
   "metadata": {},
   "source": [
    "$ $"
   ]
  },
  {
   "cell_type": "markdown",
   "metadata": {},
   "source": [
    "$ $"
   ]
  },
  {
   "cell_type": "markdown",
   "metadata": {},
   "source": [
    "$ $"
   ]
  },
  {
   "cell_type": "markdown",
   "metadata": {},
   "source": [
    "$ $"
   ]
  },
  {
   "cell_type": "markdown",
   "metadata": {},
   "source": [
    "$ $"
   ]
  },
  {
   "cell_type": "markdown",
   "metadata": {},
   "source": [
    "$ $"
   ]
  },
  {
   "cell_type": "markdown",
   "metadata": {},
   "source": [
    "$ $"
   ]
  },
  {
   "cell_type": "markdown",
   "metadata": {},
   "source": [
    "$ $"
   ]
  },
  {
   "cell_type": "markdown",
   "metadata": {},
   "source": [
    "$ $"
   ]
  },
  {
   "cell_type": "markdown",
   "metadata": {},
   "source": [
    "$ $"
   ]
  },
  {
   "cell_type": "markdown",
   "metadata": {},
   "source": [
    "$ $"
   ]
  },
  {
   "cell_type": "markdown",
   "metadata": {},
   "source": [
    "Como la variable independiente se encuentra como un exponente, debe tratarse de una función exponencial."
   ]
  },
  {
   "cell_type": "markdown",
   "metadata": {},
   "source": [
    "A) Lineal\n",
    "\n",
    "B) Polinomial\n",
    "\n",
    "C) Exponencial\n",
    "\n",
    "D) Logarítmica"
   ]
  },
  {
   "cell_type": "markdown",
   "metadata": {},
   "source": [
    "**Solución:** C)"
   ]
  },
  {
   "cell_type": "markdown",
   "metadata": {},
   "source": [
    "## Situación. Decaimiento del plomo"
   ]
  },
  {
   "cell_type": "markdown",
   "metadata": {},
   "source": [
    "**La radiactividad es un fenómeno químico en el que el núcleo de un elemento poco estable se modifica en otro núcleo más estable de otro elemento químico. En un laboratorio, una muestra de $250$ gramos de plomo ${}^{210}\\rm{Pb}$ radiactivo se convierte en polonio ${}^{210}\\rm{Po}$. La función $A(t)=250(2^{-0.125\\,t})$ permite determinar la cantidad $A(t)$ de plomo radiactivo restante (en gramos) en función del tiempo $t$, en años.**"
   ]
  },
  {
   "cell_type": "markdown",
   "metadata": {},
   "source": [
    "**1. Si el tiempo $t$ se representa en el eje de las abscisas y $A(t)$ en el eje de las ordenadas, la gráfica que describe con mayor exactitud el fenómeno descrito es [1 punto]**"
   ]
  },
  {
   "cell_type": "markdown",
   "metadata": {},
   "source": [
    "<img src=\"graficas_decaimiento.jpeg\" align=\"middle\" width=\"700\">"
   ]
  },
  {
   "cell_type": "markdown",
   "metadata": {},
   "source": [
    "**2. Después de $16$ años, ¿cuántos gramos quedarán de la sustancia radiactiva?**"
   ]
  },
  {
   "cell_type": "markdown",
   "metadata": {},
   "source": [
    "A) 62.5 g\n",
    "\n",
    "B) 125 g\n",
    "\n",
    "C) 0.002 g\n",
    "\n",
    "D) 1000 g"
   ]
  },
  {
   "cell_type": "markdown",
   "metadata": {},
   "source": [
    "$ $"
   ]
  },
  {
   "cell_type": "markdown",
   "metadata": {},
   "source": [
    "$ $"
   ]
  },
  {
   "cell_type": "markdown",
   "metadata": {},
   "source": [
    "$ $"
   ]
  },
  {
   "cell_type": "markdown",
   "metadata": {},
   "source": [
    "$ $"
   ]
  },
  {
   "cell_type": "markdown",
   "metadata": {},
   "source": [
    "$ $"
   ]
  },
  {
   "cell_type": "markdown",
   "metadata": {},
   "source": [
    "$ $"
   ]
  },
  {
   "cell_type": "markdown",
   "metadata": {},
   "source": [
    "$ $"
   ]
  },
  {
   "cell_type": "markdown",
   "metadata": {},
   "source": [
    "$ $"
   ]
  },
  {
   "cell_type": "markdown",
   "metadata": {},
   "source": [
    "$ $"
   ]
  },
  {
   "cell_type": "markdown",
   "metadata": {},
   "source": [
    "$ $"
   ]
  },
  {
   "cell_type": "markdown",
   "metadata": {},
   "source": [
    "$ $"
   ]
  },
  {
   "cell_type": "markdown",
   "metadata": {},
   "source": [
    "$ $"
   ]
  },
  {
   "cell_type": "markdown",
   "metadata": {},
   "source": [
    "A) 62.5 g\n",
    "\n",
    "B) 125 g\n",
    "\n",
    "C) 0.002 g\n",
    "\n",
    "D) 1000 g"
   ]
  },
  {
   "cell_type": "markdown",
   "metadata": {},
   "source": [
    "**Solución:** A) "
   ]
  },
  {
   "cell_type": "markdown",
   "metadata": {},
   "source": [
    "**3. Un parámetro importante para clasificar la velocidad de decaimiento de un elemento radiactio es la vida media, que es el tiempo que tiene que transcurrir para que la masa inicial decaiga la mitad. La vida media del plomo 210, en años, es**"
   ]
  },
  {
   "cell_type": "markdown",
   "metadata": {},
   "source": [
    "A) 2\n",
    "\n",
    "B) 4\n",
    "\n",
    "C) 8\n",
    "\n",
    "D) 16"
   ]
  },
  {
   "cell_type": "markdown",
   "metadata": {},
   "source": [
    "$ $"
   ]
  },
  {
   "cell_type": "markdown",
   "metadata": {},
   "source": [
    "$ $"
   ]
  },
  {
   "cell_type": "markdown",
   "metadata": {},
   "source": [
    "$ $"
   ]
  },
  {
   "cell_type": "markdown",
   "metadata": {},
   "source": [
    "$ $"
   ]
  },
  {
   "cell_type": "markdown",
   "metadata": {},
   "source": [
    "$ $"
   ]
  },
  {
   "cell_type": "markdown",
   "metadata": {},
   "source": [
    "$ $"
   ]
  },
  {
   "cell_type": "markdown",
   "metadata": {},
   "source": [
    "$ $"
   ]
  },
  {
   "cell_type": "markdown",
   "metadata": {},
   "source": [
    "$ $"
   ]
  },
  {
   "cell_type": "markdown",
   "metadata": {},
   "source": [
    "$ $"
   ]
  },
  {
   "cell_type": "markdown",
   "metadata": {},
   "source": [
    "$ $"
   ]
  },
  {
   "cell_type": "markdown",
   "metadata": {},
   "source": [
    "$ $"
   ]
  },
  {
   "cell_type": "markdown",
   "metadata": {},
   "source": [
    "$ $"
   ]
  },
  {
   "cell_type": "markdown",
   "metadata": {},
   "source": [
    "A) 2\n",
    "\n",
    "B) 4\n",
    "\n",
    "C) 8\n",
    "\n",
    "D) 16"
   ]
  },
  {
   "cell_type": "markdown",
   "metadata": {},
   "source": [
    "**Solución:** C)"
   ]
  },
  {
   "cell_type": "markdown",
   "metadata": {},
   "source": [
    "**4. En el laboratorio, con frecuencia se requiere determinar el tiempo que debe transcurrir para que reste una cantidad conocida de material radiactivo. La expresión que permite calcular dicho tiempo para la muestra del plomo 210 es**"
   ]
  },
  {
   "cell_type": "markdown",
   "metadata": {},
   "source": [
    "A) $t=\\dfrac{\\ln\\dfrac{A(t)}{250}}{0.125\\ln2}$\n",
    "\n",
    "B) $t=-\\dfrac{\\ln\\left(\\dfrac{A(t)}{250}\\right)}{0.125\\ln(2)}$\n",
    "\n",
    "C) $t=-\\dfrac{\\sqrt{250A(t)}}{0.125}$\n",
    "\n",
    "D) $t=\\dfrac{1}{0.125}\\sqrt{\\dfrac{A(t)}{250}}$"
   ]
  },
  {
   "cell_type": "markdown",
   "metadata": {},
   "source": [
    "$ $"
   ]
  },
  {
   "cell_type": "markdown",
   "metadata": {},
   "source": [
    "$ $"
   ]
  },
  {
   "cell_type": "markdown",
   "metadata": {},
   "source": [
    "$ $"
   ]
  },
  {
   "cell_type": "markdown",
   "metadata": {},
   "source": [
    "$ $"
   ]
  },
  {
   "cell_type": "markdown",
   "metadata": {},
   "source": [
    "$ $"
   ]
  },
  {
   "cell_type": "markdown",
   "metadata": {},
   "source": [
    "$ $"
   ]
  },
  {
   "cell_type": "markdown",
   "metadata": {},
   "source": [
    "$ $"
   ]
  },
  {
   "cell_type": "markdown",
   "metadata": {},
   "source": [
    "$ $"
   ]
  },
  {
   "cell_type": "markdown",
   "metadata": {},
   "source": [
    "$ $"
   ]
  },
  {
   "cell_type": "markdown",
   "metadata": {},
   "source": [
    "$ $"
   ]
  },
  {
   "cell_type": "markdown",
   "metadata": {},
   "source": [
    "$ $"
   ]
  },
  {
   "cell_type": "markdown",
   "metadata": {},
   "source": [
    "$ $"
   ]
  },
  {
   "cell_type": "markdown",
   "metadata": {},
   "source": [
    "A) $t=\\dfrac{\\ln\\dfrac{A(t)}{250}}{0.125\\ln2}$\n",
    "\n",
    "B) $t=-\\dfrac{\\ln\\left(\\dfrac{A(t)}{250}\\right)}{0.125\\ln(2)}$\n",
    "\n",
    "C) $t=-\\dfrac{\\sqrt{250A(t)}}{0.125}$\n",
    "\n",
    "D) $t=\\dfrac{1}{0.125}\\sqrt{\\dfrac{A(t)}{250}}$"
   ]
  },
  {
   "cell_type": "markdown",
   "metadata": {},
   "source": [
    "**Solución:** B)"
   ]
  },
  {
   "cell_type": "markdown",
   "metadata": {},
   "source": [
    "# Situación: ¿Cuánto aumentó la población en México?"
   ]
  },
  {
   "cell_type": "markdown",
   "metadata": {},
   "source": [
    "**Durante los últimos 65 años, la población en México ha crecido poco más de cuatro veces. En 1950 había 25.8 millones de personas, en 2015 hay 119.5 millones. De 2010 a 2015, la población se incrementó en 7 millones de habitantes, lo que representa un crecimiento promedio anual de 1.4 por ciento *(Tomado de http://cuentame.inegi.org.mx/poblacion/habitantes.aspx?tema=P)***\n"
   ]
  },
  {
   "cell_type": "markdown",
   "metadata": {},
   "source": [
    "<img src=\"poblacion.jpeg\" align=\"middle\" width=\"800\">"
   ]
  },
  {
   "cell_type": "markdown",
   "metadata": {},
   "source": [
    "**9. Con base en la gráfica, para modelar una función que describa el comportamiento de la población mexicana, la variable independiente es [1 punto]**"
   ]
  },
  {
   "cell_type": "markdown",
   "metadata": {},
   "source": [
    "A. Número de personas\n",
    "\n",
    "B. Población total\n",
    "\n",
    "C. Tiempo\n",
    "\n",
    "D. Índice de crecimiento"
   ]
  },
  {
   "cell_type": "markdown",
   "metadata": {},
   "source": [
    "$ $"
   ]
  },
  {
   "cell_type": "markdown",
   "metadata": {},
   "source": [
    "$ $"
   ]
  },
  {
   "cell_type": "markdown",
   "metadata": {},
   "source": [
    "$ $"
   ]
  },
  {
   "cell_type": "markdown",
   "metadata": {},
   "source": [
    "$ $"
   ]
  },
  {
   "cell_type": "markdown",
   "metadata": {},
   "source": [
    "$ $"
   ]
  },
  {
   "cell_type": "markdown",
   "metadata": {},
   "source": [
    "$ $"
   ]
  },
  {
   "cell_type": "markdown",
   "metadata": {},
   "source": [
    "$ $"
   ]
  },
  {
   "cell_type": "markdown",
   "metadata": {},
   "source": [
    "$ $"
   ]
  },
  {
   "cell_type": "markdown",
   "metadata": {},
   "source": [
    "$ $"
   ]
  },
  {
   "cell_type": "markdown",
   "metadata": {},
   "source": [
    "$ $"
   ]
  },
  {
   "cell_type": "markdown",
   "metadata": {},
   "source": [
    "$ $"
   ]
  },
  {
   "cell_type": "markdown",
   "metadata": {},
   "source": [
    "$ $"
   ]
  },
  {
   "cell_type": "markdown",
   "metadata": {},
   "source": [
    "A. Número de personas\n",
    "\n",
    "B. Población total\n",
    "\n",
    "C. Tiempo\n",
    "\n",
    "D. Índice de crecimiento"
   ]
  },
  {
   "cell_type": "markdown",
   "metadata": {},
   "source": [
    "**Solución:** "
   ]
  },
  {
   "cell_type": "markdown",
   "metadata": {},
   "source": [
    "**10. Si se considera que el crecimiento es constante en la población meixcana, la razón de cambio entre los años 2000 y 2010 es [2 puntos]**"
   ]
  },
  {
   "cell_type": "markdown",
   "metadata": {},
   "source": [
    "A. $1.48\\times10^6\\ \\dfrac{\\text{personas}}{\\text{año}}$\n",
    "\n",
    "B. $1.48\\%$\n",
    "\n",
    "C. $14.8\\%$\n",
    "\n",
    "D. $14.8\\ \\dfrac{\\text{millones de personas}}{\\text{año}}$"
   ]
  },
  {
   "cell_type": "markdown",
   "metadata": {},
   "source": [
    "$ $"
   ]
  },
  {
   "cell_type": "markdown",
   "metadata": {},
   "source": [
    "$ $"
   ]
  },
  {
   "cell_type": "markdown",
   "metadata": {},
   "source": [
    "$ $"
   ]
  },
  {
   "cell_type": "markdown",
   "metadata": {},
   "source": [
    "$ $"
   ]
  },
  {
   "cell_type": "markdown",
   "metadata": {},
   "source": [
    "$ $"
   ]
  },
  {
   "cell_type": "markdown",
   "metadata": {},
   "source": [
    "$ $"
   ]
  },
  {
   "cell_type": "markdown",
   "metadata": {},
   "source": [
    "$ $"
   ]
  },
  {
   "cell_type": "markdown",
   "metadata": {},
   "source": [
    "$ $"
   ]
  },
  {
   "cell_type": "markdown",
   "metadata": {},
   "source": [
    "$ $"
   ]
  },
  {
   "cell_type": "markdown",
   "metadata": {},
   "source": [
    "$ $"
   ]
  },
  {
   "cell_type": "markdown",
   "metadata": {},
   "source": [
    "$ $"
   ]
  },
  {
   "cell_type": "markdown",
   "metadata": {},
   "source": [
    "$ $"
   ]
  },
  {
   "cell_type": "markdown",
   "metadata": {},
   "source": [
    "A. $1.48\\times10^6\\ \\dfrac{\\text{personas}}{\\text{año}}$\n",
    "\n",
    "B. $1.48\\%$\n",
    "\n",
    "C. $14.8\\%$\n",
    "\n",
    "D. $14.8\\ \\dfrac{\\text{millones de personas}}{\\text{año}}$"
   ]
  },
  {
   "cell_type": "markdown",
   "metadata": {},
   "source": [
    "**Solución:** "
   ]
  },
  {
   "cell_type": "markdown",
   "metadata": {},
   "source": [
    "**11. Suponiendo que el crecimiento de la población es constante, y considerando que el año 1950 corresponde a $t=0$, la función que modela la población en función del tiempo $P(t)$, en millones de personas, entre 1950 y 2015, es**"
   ]
  },
  {
   "cell_type": "markdown",
   "metadata": {},
   "source": [
    "A. $P(t)=25.8t-0.69$\n",
    "\n",
    "B. $P(t)=119.5t-1.44$\n",
    "\n",
    "C. $P(t)=0.69t+119.5$\n",
    "\n",
    "D. $P(t)=1.44t+25.8$"
   ]
  },
  {
   "cell_type": "markdown",
   "metadata": {},
   "source": [
    "$ $"
   ]
  },
  {
   "cell_type": "markdown",
   "metadata": {},
   "source": [
    "$ $"
   ]
  },
  {
   "cell_type": "markdown",
   "metadata": {},
   "source": [
    "$ $"
   ]
  },
  {
   "cell_type": "markdown",
   "metadata": {},
   "source": [
    "$ $"
   ]
  },
  {
   "cell_type": "markdown",
   "metadata": {},
   "source": [
    "$ $"
   ]
  },
  {
   "cell_type": "markdown",
   "metadata": {},
   "source": [
    "$ $"
   ]
  },
  {
   "cell_type": "markdown",
   "metadata": {},
   "source": [
    "$ $"
   ]
  },
  {
   "cell_type": "markdown",
   "metadata": {},
   "source": [
    "$ $"
   ]
  },
  {
   "cell_type": "markdown",
   "metadata": {},
   "source": [
    "$ $"
   ]
  },
  {
   "cell_type": "markdown",
   "metadata": {},
   "source": [
    "$ $"
   ]
  },
  {
   "cell_type": "markdown",
   "metadata": {},
   "source": [
    "$ $"
   ]
  },
  {
   "cell_type": "markdown",
   "metadata": {},
   "source": [
    "$ $"
   ]
  },
  {
   "cell_type": "markdown",
   "metadata": {},
   "source": [
    "A. $P(t)=25.8t-0.69$\n",
    "\n",
    "B. $P(t)=119.5t-1.44$\n",
    "\n",
    "C. $P(t)=0.69t+119.5$\n",
    "\n",
    "D. $P(t)=1.44t+25.8$"
   ]
  },
  {
   "cell_type": "markdown",
   "metadata": {},
   "source": [
    "**Solución:** "
   ]
  },
  {
   "cell_type": "markdown",
   "metadata": {},
   "source": [
    "**12. Si se utiliza el siguiente modelo de crecimiento poblacional:\n",
    "$$ P(t)=P_0(1+r)^t $$\n",
    "donde $P_0$ es la población inicial, $r$ es la tasa de crecimiento, $t$ es el tiempo y $t=0$ corresponde a 1950, la expresión que permite determinar el tiempo que tardará la población mexicanaen alcanzar los 150 millones de habitantes, con una tasa de crecimiento del $2.38\\%$ anual, y para una población inicial de 25.8 millones de habitantes, es**"
   ]
  },
  {
   "cell_type": "markdown",
   "metadata": {},
   "source": [
    "A. $t=\\ln\\dfrac{(1.238)(25.8)}{150}$\n",
    "\n",
    "B. $t=\\dfrac{\\ln\\left(\\dfrac{150}{25.8}\\right)}{\\ln(1.0238)}$\n",
    "\n",
    "C. $t=\\ln\\dfrac{150}{(3.38)(25.8)}$\n",
    "\n",
    "D. $t=\\dfrac{150}{25.8\\ln(2.38)}$"
   ]
  },
  {
   "cell_type": "markdown",
   "metadata": {},
   "source": [
    "$ $"
   ]
  },
  {
   "cell_type": "markdown",
   "metadata": {},
   "source": [
    "$ $"
   ]
  },
  {
   "cell_type": "markdown",
   "metadata": {},
   "source": [
    "$ $"
   ]
  },
  {
   "cell_type": "markdown",
   "metadata": {},
   "source": [
    "$ $"
   ]
  },
  {
   "cell_type": "markdown",
   "metadata": {},
   "source": [
    "$ $"
   ]
  },
  {
   "cell_type": "markdown",
   "metadata": {},
   "source": [
    "$ $"
   ]
  },
  {
   "cell_type": "markdown",
   "metadata": {},
   "source": [
    "$ $"
   ]
  },
  {
   "cell_type": "markdown",
   "metadata": {},
   "source": [
    "$ $"
   ]
  },
  {
   "cell_type": "markdown",
   "metadata": {},
   "source": [
    "$ $"
   ]
  },
  {
   "cell_type": "markdown",
   "metadata": {},
   "source": [
    "$ $"
   ]
  },
  {
   "cell_type": "markdown",
   "metadata": {},
   "source": [
    "$ $"
   ]
  },
  {
   "cell_type": "markdown",
   "metadata": {},
   "source": [
    "$ $"
   ]
  },
  {
   "cell_type": "markdown",
   "metadata": {},
   "source": [
    "A. $t=\\ln\\dfrac{(1.238)(25.8)}{150}$\n",
    "\n",
    "B. $t=\\dfrac{\\ln\\left(\\dfrac{150}{25.8}\\right)}{\\ln(1.0238)}$\n",
    "\n",
    "C. $t=\\ln\\dfrac{150}{(3.38)(25.8)}$\n",
    "\n",
    "D. $t=\\dfrac{150}{25.8\\ln(2.38)}$"
   ]
  },
  {
   "cell_type": "markdown",
   "metadata": {},
   "source": [
    "**Solución:** "
   ]
  },
  {
   "cell_type": "markdown",
   "metadata": {},
   "source": [
    "## Situación: Fragmentos de Bosque y Hormigas"
   ]
  },
  {
   "cell_type": "markdown",
   "metadata": {},
   "source": [
    "Como parte de un análisis del efecto de la fragmentación sobre las relaciones especies-área, se registró el número de especies de hormigas para ciertos\n",
    "fragmentos de bosque seco tropical. En el siguiente gráfico se presenta la relación\n",
    "entre el área de los fragmentos de bosque seco tropical en la cuenca media del río\n",
    "Cauca, Colombia, medida en hectáreas (h) , con el número de especies de hormigas\n",
    "encontradas en cada fragmento N (h) .\n"
   ]
  },
  {
   "cell_type": "markdown",
   "metadata": {},
   "source": [
    "**1. Es el tipo de función que mejor describe la asociación entre el área y el número\n",
    "de especies que se representa en la figura.**"
   ]
  },
  {
   "cell_type": "markdown",
   "metadata": {},
   "source": [
    "A) $N(h)=13e^h+76$\n",
    "\n",
    "B) $N(h)=76e^h+13$\n",
    "\n",
    "C) $N(h)=13\\log(h)+76$\n",
    "\n",
    "D) $N(h)=76\\log(h)+13$"
   ]
  },
  {
   "cell_type": "markdown",
   "metadata": {},
   "source": [
    "<img src=\"bosque1.png\" align=\"middle\" width=\"500\">"
   ]
  },
  {
   "cell_type": "markdown",
   "metadata": {},
   "source": [
    "$ $"
   ]
  },
  {
   "cell_type": "markdown",
   "metadata": {},
   "source": [
    "$ $"
   ]
  },
  {
   "cell_type": "markdown",
   "metadata": {},
   "source": [
    "$ $"
   ]
  },
  {
   "cell_type": "markdown",
   "metadata": {},
   "source": [
    "$ $"
   ]
  },
  {
   "cell_type": "markdown",
   "metadata": {},
   "source": [
    "$ $"
   ]
  },
  {
   "cell_type": "markdown",
   "metadata": {},
   "source": [
    "$ $"
   ]
  },
  {
   "cell_type": "markdown",
   "metadata": {},
   "source": [
    "$ $"
   ]
  },
  {
   "cell_type": "markdown",
   "metadata": {},
   "source": [
    "$ $"
   ]
  },
  {
   "cell_type": "markdown",
   "metadata": {},
   "source": [
    "$ $"
   ]
  },
  {
   "cell_type": "markdown",
   "metadata": {},
   "source": [
    "$ $"
   ]
  },
  {
   "cell_type": "markdown",
   "metadata": {},
   "source": [
    "$ $"
   ]
  },
  {
   "cell_type": "markdown",
   "metadata": {},
   "source": [
    "$ $"
   ]
  },
  {
   "cell_type": "markdown",
   "metadata": {},
   "source": [
    "Podemos darnos cuenta de que se trata de una \n",
    "\n",
    "Nos dan una coordenada"
   ]
  },
  {
   "cell_type": "markdown",
   "metadata": {},
   "source": [
    "A) $N(h)=13e^h+76$\n",
    "\n",
    "B) $N(h)=76e^h+13$\n",
    "\n",
    "C) $N(h)=13\\log(h)+76$\n",
    "\n",
    "D) $N(h)=76\\log(h)+13$"
   ]
  },
  {
   "cell_type": "markdown",
   "metadata": {},
   "source": [
    "**Solución:** C)"
   ]
  },
  {
   "cell_type": "markdown",
   "metadata": {},
   "source": [
    "**2. Si el modelo que ajusta a los datos planteados en la situación para otra zona de\n",
    "bosque es $N(h)=7.9\\cdot\\ln(h)+100$, ¿cuál es el dominio máximo de la función?**"
   ]
  },
  {
   "cell_type": "markdown",
   "metadata": {},
   "source": [
    "A) $(0,\\infty)$\n",
    "\n",
    "B) $(-\\infty,\\infty)$\n",
    "\n",
    "C) $[7.9, 100]$\n",
    "\n",
    "D) $[100, \\infty)$"
   ]
  },
  {
   "cell_type": "markdown",
   "metadata": {},
   "source": [
    "$ $"
   ]
  },
  {
   "cell_type": "markdown",
   "metadata": {},
   "source": [
    "$ $"
   ]
  },
  {
   "cell_type": "markdown",
   "metadata": {},
   "source": [
    "$ $"
   ]
  },
  {
   "cell_type": "markdown",
   "metadata": {},
   "source": [
    "$ $"
   ]
  },
  {
   "cell_type": "markdown",
   "metadata": {},
   "source": [
    "$ $"
   ]
  },
  {
   "cell_type": "markdown",
   "metadata": {},
   "source": [
    "$ $"
   ]
  },
  {
   "cell_type": "markdown",
   "metadata": {},
   "source": [
    "$ $"
   ]
  },
  {
   "cell_type": "markdown",
   "metadata": {},
   "source": [
    "$ $"
   ]
  },
  {
   "cell_type": "markdown",
   "metadata": {},
   "source": [
    "$ $"
   ]
  },
  {
   "cell_type": "markdown",
   "metadata": {},
   "source": [
    "$ $"
   ]
  },
  {
   "cell_type": "markdown",
   "metadata": {},
   "source": [
    "$ $"
   ]
  },
  {
   "cell_type": "markdown",
   "metadata": {},
   "source": [
    "$ $"
   ]
  },
  {
   "cell_type": "markdown",
   "metadata": {},
   "source": [
    "A) $(0,\\infty)$\n",
    "\n",
    "B) $(-\\infty,\\infty)$\n",
    "\n",
    "C) $[7.9, 100]$\n",
    "\n",
    "D) $[100, \\infty)$"
   ]
  },
  {
   "cell_type": "markdown",
   "metadata": {},
   "source": [
    "**Solución:** A)"
   ]
  },
  {
   "cell_type": "markdown",
   "metadata": {},
   "source": [
    "**3. Si para una zona especial la relación descrita en la situación está dada por $N (h) = 11.37\\cdot\\ln(h ) + 75.9$, ¿cuál es el despeje para poder determinar el número de hectáreas de un fragmento de bosque donde se encuentran $89$ especies de hormigas?**"
   ]
  },
  {
   "cell_type": "markdown",
   "metadata": {},
   "source": [
    "A) $h=e^{\\dfrac{89-75.9}{11.37}}$\n",
    "\n",
    "B) $h=\\ln\\left(\\dfrac{89-75.9}{11.37}\\right)$\n",
    "\n",
    "C) $h=\\ln\\left(\\dfrac{11.37}{89-75.9}\\right)$\n",
    "\n",
    "D) $h=e^{\\dfrac{11.37}{89-75.9}}$"
   ]
  },
  {
   "cell_type": "markdown",
   "metadata": {},
   "source": [
    "$ $"
   ]
  },
  {
   "cell_type": "markdown",
   "metadata": {},
   "source": [
    "$ $"
   ]
  },
  {
   "cell_type": "markdown",
   "metadata": {},
   "source": [
    "$ $"
   ]
  },
  {
   "cell_type": "markdown",
   "metadata": {},
   "source": [
    "$ $"
   ]
  },
  {
   "cell_type": "markdown",
   "metadata": {},
   "source": [
    "$ $"
   ]
  },
  {
   "cell_type": "markdown",
   "metadata": {},
   "source": [
    "$ $"
   ]
  },
  {
   "cell_type": "markdown",
   "metadata": {},
   "source": [
    "$ $"
   ]
  },
  {
   "cell_type": "markdown",
   "metadata": {},
   "source": [
    "$ $"
   ]
  },
  {
   "cell_type": "markdown",
   "metadata": {},
   "source": [
    "$ $"
   ]
  },
  {
   "cell_type": "markdown",
   "metadata": {},
   "source": [
    "$ $"
   ]
  },
  {
   "cell_type": "markdown",
   "metadata": {},
   "source": [
    "$ $"
   ]
  },
  {
   "cell_type": "markdown",
   "metadata": {},
   "source": [
    "$ $"
   ]
  },
  {
   "cell_type": "markdown",
   "metadata": {},
   "source": [
    "$N$: número de hormigas\n",
    "\n",
    "$h$: número de hectáreas$$ \\dfrac{89-75.9}{11.37}=\\ln(h )$$"
   ]
  },
  {
   "cell_type": "markdown",
   "metadata": {},
   "source": [
    "$N (h) = 11.37\\cdot\\ln(h ) + 75.9$"
   ]
  },
  {
   "cell_type": "markdown",
   "metadata": {},
   "source": [
    "$$ 89 = 11.37\\cdot\\ln(h ) + 75.9$$"
   ]
  },
  {
   "cell_type": "markdown",
   "metadata": {},
   "source": [
    "$$ 89-75.9 = 11.37\\cdot\\ln(h )$$"
   ]
  },
  {
   "cell_type": "markdown",
   "metadata": {},
   "source": [
    "$$ \\dfrac{89-75.9}{11.37}=\\ln(h )$$"
   ]
  },
  {
   "cell_type": "markdown",
   "metadata": {},
   "source": [
    "$$ e^{\\dfrac{89-75.9}{11.37}}=h$$"
   ]
  },
  {
   "cell_type": "markdown",
   "metadata": {},
   "source": [
    "A) $h=e^{\\dfrac{89-75.9}{11.37}}$\n",
    "\n",
    "B) $h=\\ln\\left(\\dfrac{89-75.9}{11.37}\\right)$\n",
    "\n",
    "C) $h=\\ln\\left(\\dfrac{11.37}{89-75.9}\\right)$\n",
    "\n",
    "D) $h=e^{\\dfrac{11.37}{89-75.9}}$"
   ]
  }
 ],
 "metadata": {
  "kernelspec": {
   "display_name": "Julia 1.1.0",
   "language": "julia",
   "name": "julia-1.1"
  },
  "language_info": {
   "file_extension": ".jl",
   "mimetype": "application/julia",
   "name": "julia",
   "version": "1.1.0"
  }
 },
 "nbformat": 4,
 "nbformat_minor": 4
}
