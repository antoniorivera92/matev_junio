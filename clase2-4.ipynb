{
 "cells": [
  {
   "cell_type": "markdown",
   "metadata": {},
   "source": [
    "# Pensamiento geométrico para visualizar y argumentar"
   ]
  },
  {
   "cell_type": "markdown",
   "metadata": {},
   "source": [
    "# Clase 4"
   ]
  },
  {
   "cell_type": "markdown",
   "metadata": {},
   "source": [
    "**Caso #3:** Es un problema donde sólo nos dan un dato explícitamente, y otro dato no explícitamente."
   ]
  },
  {
   "cell_type": "markdown",
   "metadata": {},
   "source": [
    "* ***Ejemplo:*** Una persona ve la cima de una montaña cuando le apunta con un telescopio que forma $30^\\circ$ con el piso. Se aleja $2\\ \\rm{km}$ y ahora apunta el telescopio de tal manera que mantenga un ángulo de $25^\\circ$ con el piso. Si la altura del telescopio respecto del piso es de $0.5\\ \\rm{m}$, ¿podemos saber la altura de la montaña?"
   ]
  },
  {
   "cell_type": "markdown",
   "metadata": {},
   "source": [
    "<img src=\"montana.png\" align=\"middle\" width=\"900\">"
   ]
  },
  {
   "cell_type": "markdown",
   "metadata": {},
   "source": [
    "Para el triángulo verde (el chico):\n",
    "* $A=30^\\circ$\n",
    "* $\\text{cateto opuesto}=x$\n",
    "* $\\text{cateto adyacente}=d$\n",
    "* $\\text{hipotenusa}=h$"
   ]
  },
  {
   "cell_type": "markdown",
   "metadata": {},
   "source": [
    "$$ 0.578=\\tan 30^\\circ=\\dfrac{x}{d} $$"
   ]
  },
  {
   "cell_type": "markdown",
   "metadata": {},
   "source": [
    "Para el triángulo rojo (el grande):\n",
    "* $B=25^\\circ$\n",
    "* $\\text{cateto opuesto}=x$\n",
    "* $\\text{cateto adyacente}=d+2$\n",
    "* $\\text{hipotenusa}=H$"
   ]
  },
  {
   "cell_type": "markdown",
   "metadata": {},
   "source": [
    "$$ 0.466=\\tan 25^\\circ=\\dfrac{x}{d+2} $$"
   ]
  },
  {
   "cell_type": "markdown",
   "metadata": {},
   "source": [
    "Obtuvimos un sistema de ecuaciones:"
   ]
  },
  {
   "cell_type": "markdown",
   "metadata": {},
   "source": [
    "$$ x=0.578d $$"
   ]
  },
  {
   "cell_type": "markdown",
   "metadata": {},
   "source": [
    "$$x=0.466(d+2)$$"
   ]
  },
  {
   "cell_type": "markdown",
   "metadata": {},
   "source": [
    "Vamos a resolver nuestro sistema mediante sustitución:"
   ]
  },
  {
   "cell_type": "markdown",
   "metadata": {},
   "source": [
    "$$ \\dfrac{x}{0.578}=d $$"
   ]
  },
  {
   "cell_type": "markdown",
   "metadata": {},
   "source": [
    "Ya sustituí la variable cuyo valor no quiero conocer ($d$)"
   ]
  },
  {
   "cell_type": "markdown",
   "metadata": {},
   "source": [
    "$$x=0.466\\left(\\dfrac{x}{0.578}+2\\right)$$"
   ]
  },
  {
   "cell_type": "markdown",
   "metadata": {},
   "source": [
    "$$0.578x=0.466\\left(x+1.156\\right)$$"
   ]
  },
  {
   "cell_type": "markdown",
   "metadata": {},
   "source": [
    "$$0.578x=0.466x+0.538696$$"
   ]
  },
  {
   "cell_type": "code",
   "execution_count": 1,
   "metadata": {},
   "outputs": [
    {
     "data": {
      "text/plain": [
       "0.538696"
      ]
     },
     "execution_count": 1,
     "metadata": {},
     "output_type": "execute_result"
    }
   ],
   "source": [
    "0.466*1.156"
   ]
  },
  {
   "cell_type": "markdown",
   "metadata": {},
   "source": [
    "$$0.578x-0.466x=0.538696$$"
   ]
  },
  {
   "cell_type": "code",
   "execution_count": 2,
   "metadata": {},
   "outputs": [
    {
     "data": {
      "text/plain": [
       "0.11199999999999993"
      ]
     },
     "execution_count": 2,
     "metadata": {},
     "output_type": "execute_result"
    }
   ],
   "source": [
    "0.578-0.466"
   ]
  },
  {
   "cell_type": "markdown",
   "metadata": {},
   "source": [
    "$$0.112x=0.538696$$"
   ]
  },
  {
   "cell_type": "markdown",
   "metadata": {},
   "source": [
    "$$x=\\dfrac{0.538696}{0.112}=4.810$$"
   ]
  },
  {
   "cell_type": "code",
   "execution_count": 3,
   "metadata": {},
   "outputs": [
    {
     "data": {
      "text/plain": [
       "4.809785714285714"
      ]
     },
     "execution_count": 3,
     "metadata": {},
     "output_type": "execute_result"
    }
   ],
   "source": [
    "0.538696/0.112"
   ]
  },
  {
   "cell_type": "markdown",
   "metadata": {},
   "source": [
    "La distancia vertical que hay de la altura a la que se encuentra el telescopio hasta la cima de la montaña 4.810 km=4810 m."
   ]
  },
  {
   "cell_type": "markdown",
   "metadata": {},
   "source": [
    "La altura total de la montaña es 4815 m."
   ]
  },
  {
   "cell_type": "markdown",
   "metadata": {},
   "source": [
    "## Rectas importantes de un triángulo"
   ]
  },
  {
   "cell_type": "markdown",
   "metadata": {},
   "source": [
    "### La altura de cualquier triángulo"
   ]
  },
  {
   "cell_type": "markdown",
   "metadata": {},
   "source": [
    "<img src=\"triangulo.png\" align=\"middle\" width=\"300\">"
   ]
  },
  {
   "cell_type": "markdown",
   "metadata": {},
   "source": [
    "<img src=\"triangulo_altura.png\" align=\"middle\" width=\"300\">"
   ]
  },
  {
   "cell_type": "markdown",
   "metadata": {},
   "source": [
    "*La altura siempre es perpendicular a la base.*"
   ]
  },
  {
   "cell_type": "markdown",
   "metadata": {},
   "source": [
    "**Para el triángulo (rectángulo) $ \\Delta ABD $:**"
   ]
  },
  {
   "cell_type": "markdown",
   "metadata": {},
   "source": [
    "$$ \\sin A=\\dfrac{h}{c} $$"
   ]
  },
  {
   "cell_type": "markdown",
   "metadata": {},
   "source": [
    "$$ h=c\\;\\sin A $$"
   ]
  },
  {
   "cell_type": "markdown",
   "metadata": {},
   "source": [
    "**Para el triángulo (rectángulo) $\\Delta BCD$:**"
   ]
  },
  {
   "cell_type": "markdown",
   "metadata": {},
   "source": [
    "$$ \\sin C=\\dfrac{h}{a} $$"
   ]
  },
  {
   "cell_type": "markdown",
   "metadata": {},
   "source": [
    "$$ h=a\\;\\sin C $$"
   ]
  },
  {
   "cell_type": "markdown",
   "metadata": {},
   "source": [
    "*En general tendremos que la altura de cualquier triángulo (perpendicular a algún cateto al que llamaremos \"base\") es el producto de un cateto (que no sea la base) y el seno del ángulo que forma dicho cateto con la base.*"
   ]
  },
  {
   "cell_type": "markdown",
   "metadata": {},
   "source": [
    "### El área de cualquier triángulo"
   ]
  },
  {
   "cell_type": "markdown",
   "metadata": {},
   "source": [
    "<img src=\"triangulo.png\" align=\"middle\" width=\"300\">"
   ]
  },
  {
   "cell_type": "markdown",
   "metadata": {},
   "source": [
    "*\"Para cualquier triángulo el área es la mitad del producto de dos catetos y el seno del ángulo entre estos dos catetos.\"*"
   ]
  },
  {
   "cell_type": "markdown",
   "metadata": {},
   "source": [
    "$$ \\text{Area}=\\dfrac{ab\\sin C}{2}=\\dfrac{bc\\sin A}{2}=\\dfrac{ac\\sin B}{2} $$"
   ]
  },
  {
   "cell_type": "markdown",
   "metadata": {},
   "source": [
    "* ***Ejemplo:*** Considera un triángulo oblicuángulo con $a=1200\\ mm$, $c=700\\ mm$, y $B=108^\\circ$. \n",
    "\n",
    "a) Calcula su área."
   ]
  },
  {
   "cell_type": "markdown",
   "metadata": {},
   "source": [
    "* Datos:\n",
    "    * $a=1200$\n",
    "    * $c=700$\n",
    "    * $B=108^\\circ$\n",
    "    * $\\text{Area}=?$"
   ]
  },
  {
   "cell_type": "markdown",
   "metadata": {},
   "source": [
    "* Fórmulas:"
   ]
  },
  {
   "cell_type": "markdown",
   "metadata": {},
   "source": [
    "$$ \\text{Area}=\\dfrac{ac\\sin B}{2} $$"
   ]
  },
  {
   "cell_type": "markdown",
   "metadata": {},
   "source": [
    "* Sustitución:"
   ]
  },
  {
   "cell_type": "markdown",
   "metadata": {},
   "source": [
    "$$ \\text{Area}=\\dfrac{(1200)(700)\\sin108^\\circ}{2}=399443.74\\ mm^2 $$"
   ]
  },
  {
   "cell_type": "markdown",
   "metadata": {},
   "source": [
    "## Triángulos oblicuángulos"
   ]
  },
  {
   "cell_type": "markdown",
   "metadata": {},
   "source": [
    "### Ley de senos\n",
    "\n",
    "Ésta nos sirve cuando:\n",
    "* conocemos dos lados y un ángulo opuesto, y queremos conocer el otro ángulo opuesto\n",
    "* conocemos dos ángulos y un lado opuesto, y queremos conocer el otro lado opuesto"
   ]
  },
  {
   "cell_type": "markdown",
   "metadata": {},
   "source": [
    "$$ \\dfrac{\\sin A}{a}=\\dfrac{\\sin B}{b}=\\dfrac{\\sin C}{c} $$"
   ]
  },
  {
   "cell_type": "markdown",
   "metadata": {},
   "source": [
    "<img src=\"triangulo.png\" align=\"middle\" width=\"300\">"
   ]
  },
  {
   "cell_type": "markdown",
   "metadata": {},
   "source": [
    "### Ley de cosenos\n",
    "\n",
    "Ésta nos sirve cuando:\n",
    "* conocemos los tres lados y queremos conocer el ángulo opuesto a cualquiera de los lados\n",
    "* conocemos dos lados y el ángulo entre estos lados, y queremos conocer el lado opuesto a este ángulo."
   ]
  },
  {
   "cell_type": "markdown",
   "metadata": {},
   "source": [
    "*El cuadrado de un lado es igual a la diferencia de la suma de los cuadrados de los otros lados y el doble del producto de los otros lados con el coseno del ángulo opuesto al lado inicial.*"
   ]
  },
  {
   "cell_type": "markdown",
   "metadata": {},
   "source": [
    "$$ a^2=b^2+c^2-2bc\\cos A $$"
   ]
  },
  {
   "cell_type": "markdown",
   "metadata": {},
   "source": [
    "$$ b^2=a^2+c^2-2ac\\cos B $$"
   ]
  },
  {
   "cell_type": "markdown",
   "metadata": {},
   "source": [
    "$$ c^2=a^2+b^2-2ab\\cos C $$"
   ]
  },
  {
   "cell_type": "markdown",
   "metadata": {},
   "source": [
    "* ***Ejemplo:*** Considera un triángulo oblicuángulo con $a=4$, $b=5$, y $B=30^\\circ$.\n",
    "    \n",
    "    a) Encuentra $c$."
   ]
  },
  {
   "cell_type": "markdown",
   "metadata": {},
   "source": [
    "* Datos:\n",
    "    * $a=4$\n",
    "    * $b=5$\n",
    "    * $B=30^\\circ$\n",
    "    * $A=23.58^\\circ$\n",
    "    * $C=126.42^\\circ$"
   ]
  },
  {
   "cell_type": "markdown",
   "metadata": {},
   "source": [
    "* Fórmulas:"
   ]
  },
  {
   "cell_type": "markdown",
   "metadata": {},
   "source": [
    "$$ \\dfrac{\\sin A}{a}=\\dfrac{\\sin C}{c} $$"
   ]
  },
  {
   "cell_type": "markdown",
   "metadata": {},
   "source": [
    "$$ \\dfrac{a}{\\sin A}=\\dfrac{c}{\\sin C} $$"
   ]
  },
  {
   "cell_type": "markdown",
   "metadata": {},
   "source": [
    "$$ c=\\dfrac{a}{\\sin A}\\sin C $$"
   ]
  },
  {
   "cell_type": "markdown",
   "metadata": {},
   "source": [
    "* Sustitución:"
   ]
  },
  {
   "cell_type": "markdown",
   "metadata": {},
   "source": [
    "$$ c=\\dfrac{4}{\\sin 23.58^\\circ}\\sin 126.42^\\circ=8.046 $$"
   ]
  },
  {
   "cell_type": "code",
   "execution_count": 6,
   "metadata": {},
   "outputs": [
    {
     "data": {
      "text/plain": [
       "8.046279944629305"
      ]
     },
     "execution_count": 6,
     "metadata": {},
     "output_type": "execute_result"
    }
   ],
   "source": [
    "4*sind(126.42)/sind(23.58)"
   ]
  },
  {
   "cell_type": "markdown",
   "metadata": {},
   "source": [
    "b) Encuentra $A$."
   ]
  },
  {
   "cell_type": "markdown",
   "metadata": {},
   "source": [
    "* Datos:\n",
    "    * $a=4$\n",
    "    * $b=5$\n",
    "    * $B=30^\\circ$\n",
    "    * $A=?$"
   ]
  },
  {
   "cell_type": "markdown",
   "metadata": {},
   "source": [
    "* Fórmulas:"
   ]
  },
  {
   "cell_type": "markdown",
   "metadata": {},
   "source": [
    "$$ \\dfrac{\\sin A}{a}=\\dfrac{\\sin B}{b} $$"
   ]
  },
  {
   "cell_type": "markdown",
   "metadata": {},
   "source": [
    "$$ \\sin A=a\\dfrac{\\sin B}{b} $$"
   ]
  },
  {
   "cell_type": "markdown",
   "metadata": {},
   "source": [
    "$$ A=\\sin^{-1}\\left(a\\dfrac{\\sin B}{b}\\right) $$"
   ]
  },
  {
   "cell_type": "markdown",
   "metadata": {},
   "source": [
    "* Sustitución:"
   ]
  },
  {
   "cell_type": "markdown",
   "metadata": {},
   "source": [
    "$$ A=\\sin^{-1}\\left((4)\\dfrac{\\sin 30^\\circ}{5}\\right)=23.58^\\circ $$"
   ]
  },
  {
   "cell_type": "code",
   "execution_count": 4,
   "metadata": {},
   "outputs": [
    {
     "data": {
      "text/plain": [
       "0.4"
      ]
     },
     "execution_count": 4,
     "metadata": {},
     "output_type": "execute_result"
    }
   ],
   "source": [
    "4*sind(30)/5"
   ]
  },
  {
   "cell_type": "code",
   "execution_count": 5,
   "metadata": {},
   "outputs": [
    {
     "data": {
      "text/plain": [
       "23.578178478201835"
      ]
     },
     "execution_count": 5,
     "metadata": {},
     "output_type": "execute_result"
    }
   ],
   "source": [
    "asind(0.4)"
   ]
  },
  {
   "cell_type": "markdown",
   "metadata": {},
   "source": [
    "c) Encuentra $C$."
   ]
  },
  {
   "cell_type": "markdown",
   "metadata": {},
   "source": [
    "* Datos:\n",
    "    * $a=4$\n",
    "    * $b=5$\n",
    "    * $B=30^\\circ$\n",
    "    * $A=23.58^\\circ$"
   ]
  },
  {
   "cell_type": "markdown",
   "metadata": {},
   "source": [
    "* Fórmula:"
   ]
  },
  {
   "cell_type": "markdown",
   "metadata": {},
   "source": [
    "$$ A+B+C=180^\\circ $$"
   ]
  },
  {
   "cell_type": "markdown",
   "metadata": {},
   "source": [
    "<img src=\"triangulo.png\" align=\"middle\" width=\"200\">"
   ]
  },
  {
   "cell_type": "markdown",
   "metadata": {},
   "source": [
    "* ***Ejemplo:*** Considera un triángulo oblicuángulo con $a=1200$, $c=700$, y $B=108^\\circ$.\n",
    "    \n",
    "a) Encuentra $b$."
   ]
  },
  {
   "cell_type": "markdown",
   "metadata": {},
   "source": [
    "* Datos:\n",
    "    * $a=1200$\n",
    "    * $c=700$\n",
    "    * $B=108^\\circ$\n",
    "    * $b=?$"
   ]
  },
  {
   "cell_type": "markdown",
   "metadata": {},
   "source": [
    "* Fórmulas:"
   ]
  },
  {
   "cell_type": "markdown",
   "metadata": {},
   "source": [
    "$$ b^2=a^2+c^2-2ac\\;\\cos B $$"
   ]
  },
  {
   "cell_type": "markdown",
   "metadata": {},
   "source": [
    "$$ b=\\sqrt{a^2+c^2-2ac\\;\\cos B} $$"
   ]
  },
  {
   "cell_type": "markdown",
   "metadata": {},
   "source": [
    "* Sustitución:"
   ]
  },
  {
   "cell_type": "markdown",
   "metadata": {},
   "source": [
    "$$ b=\\sqrt{(1200)^2+(700)^2-2(1200)(700)\\;\\cos 108^\\circ}=1564.96 $$"
   ]
  },
  {
   "cell_type": "code",
   "execution_count": 7,
   "metadata": {},
   "outputs": [
    {
     "data": {
      "text/plain": [
       "2.449148550549912e6"
      ]
     },
     "execution_count": 7,
     "metadata": {},
     "output_type": "execute_result"
    }
   ],
   "source": [
    "1200^2+700^2-2(1200)*(700)*cosd(108)"
   ]
  },
  {
   "cell_type": "code",
   "execution_count": 8,
   "metadata": {},
   "outputs": [
    {
     "data": {
      "text/plain": [
       "1564.975575064963"
      ]
     },
     "execution_count": 8,
     "metadata": {},
     "output_type": "execute_result"
    }
   ],
   "source": [
    "√(1200^2+700^2-2(1200)*(700)*cosd(108))"
   ]
  },
  {
   "cell_type": "markdown",
   "metadata": {},
   "source": [
    "b) Encuentra $A$."
   ]
  },
  {
   "cell_type": "markdown",
   "metadata": {},
   "source": [
    "* Datos:\n",
    "    * $a=1200$\n",
    "    * $c=700$\n",
    "    * $B=108^\\circ$\n",
    "    * $b=1564.96$\n",
    "    * $A=?$"
   ]
  },
  {
   "cell_type": "markdown",
   "metadata": {},
   "source": [
    "* Fórmulas:"
   ]
  },
  {
   "cell_type": "markdown",
   "metadata": {},
   "source": [
    "$$ a^2=b^2+c^2-2bc\\;\\cos A $$"
   ]
  },
  {
   "cell_type": "markdown",
   "metadata": {},
   "source": [
    "$$ a^2-b^2-c^2=-2bc\\;\\cos A $$"
   ]
  },
  {
   "cell_type": "markdown",
   "metadata": {},
   "source": [
    "$$ \\dfrac{a^2-b^2-c^2}{-2bc}=\\;\\cos A $$"
   ]
  },
  {
   "cell_type": "markdown",
   "metadata": {},
   "source": [
    "$$ \\cos A=\\dfrac{a^2-b^2-c^2}{-2bc} $$"
   ]
  },
  {
   "cell_type": "markdown",
   "metadata": {},
   "source": [
    "$$ A=\\cos^{-1}\\left(\\dfrac{a^2-b^2-c^2}{-2bc}\\right) $$"
   ]
  },
  {
   "cell_type": "markdown",
   "metadata": {},
   "source": [
    "* Sustitución:"
   ]
  },
  {
   "cell_type": "markdown",
   "metadata": {},
   "source": [
    "$$ A=\\cos^{-1}\\left(\\dfrac{(1200)^2-(1564.96)^2-(700)^2}{-2(1564.96)(700)}\\right)=46.82^\\circ $$"
   ]
  },
  {
   "cell_type": "code",
   "execution_count": 9,
   "metadata": {},
   "outputs": [
    {
     "data": {
      "text/plain": [
       "0.6842255217842171"
      ]
     },
     "execution_count": 9,
     "metadata": {},
     "output_type": "execute_result"
    }
   ],
   "source": [
    "(1200^2-1564.96^2-700^2)/(-2*1564.96*700)"
   ]
  },
  {
   "cell_type": "code",
   "execution_count": 10,
   "metadata": {},
   "outputs": [
    {
     "data": {
      "text/plain": [
       "46.825270771883446"
      ]
     },
     "execution_count": 10,
     "metadata": {},
     "output_type": "execute_result"
    }
   ],
   "source": [
    "acosd((1200^2-1564.96^2-700^2)/(-2*1564.96*700))"
   ]
  },
  {
   "cell_type": "markdown",
   "metadata": {},
   "source": [
    "c) Encuentra $C$."
   ]
  },
  {
   "cell_type": "markdown",
   "metadata": {},
   "source": [
    "* Datos:\n",
    "    * $a=1200$\n",
    "    * $c=700$\n",
    "    * $B=108^\\circ$\n",
    "    * $b=1564.96$\n",
    "    * $A=46.82^\\circ$\n",
    "    * $C=?$"
   ]
  },
  {
   "cell_type": "markdown",
   "metadata": {},
   "source": [
    "$ $"
   ]
  },
  {
   "cell_type": "markdown",
   "metadata": {},
   "source": [
    "## Círculos II"
   ]
  },
  {
   "cell_type": "raw",
   "metadata": {},
   "source": [
    "Preguntar sobre partes del circulo"
   ]
  },
  {
   "cell_type": "markdown",
   "metadata": {},
   "source": [
    "<img src=\"circ1.png\" align=\"middle\" width=\"300\">"
   ]
  },
  {
   "cell_type": "markdown",
   "metadata": {},
   "source": [
    "<img src=\"circ2.png\" align=\"middle\" width=\"300\">"
   ]
  },
  {
   "cell_type": "markdown",
   "metadata": {},
   "source": [
    "### Longitud de cuerda"
   ]
  },
  {
   "cell_type": "markdown",
   "metadata": {},
   "source": [
    "<img src=\"cuerda.png\" align=\"middle\" width=\"300\">"
   ]
  },
  {
   "cell_type": "markdown",
   "metadata": {},
   "source": [
    "$$ \\ell=2R\\sin\\left(\\dfrac{\\theta}{2}\\right) $$"
   ]
  },
  {
   "cell_type": "markdown",
   "metadata": {},
   "source": [
    "$$ \\ell=2R\\sin\\left(\\dfrac{\\pi t}{360}\\right) $$"
   ]
  },
  {
   "cell_type": "markdown",
   "metadata": {},
   "source": [
    "* $\\ell$ : longitud de cuerda\n",
    "* $R$ : radio\n",
    "* $\\theta$ : ángulo (radianes)\n",
    "* $t$ : ángulo (grados)"
   ]
  },
  {
   "cell_type": "markdown",
   "metadata": {},
   "source": [
    "### Segmento circular"
   ]
  },
  {
   "cell_type": "markdown",
   "metadata": {},
   "source": [
    "<img src=\"segmento.png\" align=\"middle\" width=\"300\">"
   ]
  },
  {
   "cell_type": "markdown",
   "metadata": {},
   "source": [
    "$$ A=\\dfrac{\\theta R^2}{2}-\\dfrac{R^2\\sin\\theta}{2} $$"
   ]
  },
  {
   "cell_type": "markdown",
   "metadata": {},
   "source": [
    "$$ A=\\dfrac{R^2}{2}(\\theta-\\sin\\theta) $$"
   ]
  },
  {
   "cell_type": "markdown",
   "metadata": {},
   "source": [
    "$$ A=\\dfrac{R^2}{2}\\left[\\dfrac{\\pi t}{180}-\\sin\\left(\\dfrac{\\pi t}{180}\\right)\\right] $$"
   ]
  },
  {
   "cell_type": "markdown",
   "metadata": {},
   "source": [
    "## Situación: El arte Burkina"
   ]
  },
  {
   "cell_type": "markdown",
   "metadata": {},
   "source": [
    "**En un pueblo africano llamado Tiebele en Burkina Faso la corte real se aloja en pequeñas estructuras de adobe (arcilla y arena), que están decoradas con pinturas naturales que forman patrones geométricos. El propósito, además de estético, es para diferenciarlas de las casas de la gente común.**\n",
    "\n",
    "**Tlahuilmalitzin es una artesana mexicana la cual admira el arte de cualquier región. Y quiere pintar una pared con un diseño parecido al de Burkina Faso. Pero ha notado que el tipo de figuras que adornan las paredes en Burkina son sencillas. Lo único que tiene que hacer es decidir su diseño de acuerdo con su presupuesto.**"
   ]
  },
  {
   "cell_type": "markdown",
   "metadata": {},
   "source": [
    "<img src=\"extra1-1.png\" align=\"middle\" width=\"300\">"
   ]
  },
  {
   "cell_type": "markdown",
   "metadata": {},
   "source": [
    "**1. Dado que los anillos están separados a la misma distancia, Tlahuilmalitzin se pregunta si el área gris que se muestra en la siguiente figura, es: [1 punto]**"
   ]
  },
  {
   "cell_type": "markdown",
   "metadata": {},
   "source": [
    "a)  $\\dfrac{1}{2}$ de área del círculo mayor\n",
    "\n",
    "b)  $\\dfrac{3}{4}$ de área del círculo mayor\n",
    "\n",
    "c)  $\\dfrac{3}{8}$ de área del círculo mayor\n",
    "\n",
    "d)  $\\dfrac{5}{8}$ de área del círculo mayor"
   ]
  },
  {
   "cell_type": "markdown",
   "metadata": {},
   "source": [
    "**Solución:** "
   ]
  },
  {
   "cell_type": "markdown",
   "metadata": {},
   "source": [
    "**2. Tlahuilmalitzin hizo otro diseño con las mismas circunferencias del modelo anterior, donde el punto $A$ está sobre la bisectriz del $\\angle CBE$ , si $BC$ mide $1\\ \\rm{dm}$, el área de la estrella es: [2 puntos]**"
   ]
  },
  {
   "cell_type": "markdown",
   "metadata": {},
   "source": [
    "<img src=\"extra1-2.png\" align=\"middle\" width=\"300\">"
   ]
  },
  {
   "cell_type": "markdown",
   "metadata": {},
   "source": [
    "a)  $\\dfrac{\\sqrt{2}}{2}\\ \\rm{dm}^2$\n",
    "\n",
    "b)  $\\sqrt{2}\\ \\rm{dm}^2$\n",
    "\n",
    "c)  $2\\sqrt{2}\\ \\rm{dm}^2$\n",
    "\n",
    "d)  $\\dfrac{\\sqrt{2}}{4}\\ \\rm{dm}^2$"
   ]
  },
  {
   "cell_type": "markdown",
   "metadata": {},
   "source": [
    "**Solución:** "
   ]
  },
  {
   "cell_type": "markdown",
   "metadata": {},
   "source": [
    "**3. Tlahuilmalitzin se pregunta ¿cómo son las áreas grises de ambas figuras? [2 puntos]**"
   ]
  },
  {
   "cell_type": "markdown",
   "metadata": {},
   "source": [
    "<img src=\"extra1-3.png\" align=\"middle\" width=\"300\">"
   ]
  },
  {
   "cell_type": "markdown",
   "metadata": {},
   "source": [
    "a)  El área de los anillos es la mitad que el área de la estrella.\n",
    "\n",
    "b)  El área de los anillos es mayor que la mitad del área de la estrella.\n",
    "\n",
    "c)  El área de los anillos es igual que el área de la estrella.\n",
    "\n",
    "d)  El área de los anillos es menor que la mitad del área de la estrella."
   ]
  },
  {
   "cell_type": "markdown",
   "metadata": {},
   "source": [
    "**Solución:** "
   ]
  },
  {
   "cell_type": "markdown",
   "metadata": {},
   "source": [
    "**4. Tlahuilmalitzin quiere adornar las paredes exteriores de su casa que construirá en Cuernavaca al estilo de las casas de Burkina Faso, ella tiene dos diseños combinando el de los anillos y las estrellas. ¿Cuál es el área en $\\rm{m}^2$ que ocupan todos los añillos de ambos diseños? [3 puntos]**"
   ]
  },
  {
   "cell_type": "markdown",
   "metadata": {},
   "source": [
    "<img src=\"extra1-4.png\" align=\"middle\" width=\"500\">"
   ]
  },
  {
   "cell_type": "markdown",
   "metadata": {},
   "source": [
    "<img src=\"extra1-5.png\" align=\"middle\" width=\"500\">"
   ]
  },
  {
   "cell_type": "markdown",
   "metadata": {},
   "source": [
    "a)  $\\dfrac{5\\pi}{4}\\ \\rm{m}^2$\n",
    "\n",
    "b)  $\\dfrac{13\\pi}{80}\\ \\rm{m}^2$\n",
    "\n",
    "c)  $\\dfrac{13\\pi}{5}\\ \\rm{m}^2$\n",
    "\n",
    "d)  $\\dfrac{\\pi}{8}\\ \\rm{m}^2$"
   ]
  },
  {
   "cell_type": "markdown",
   "metadata": {},
   "source": [
    "**Solución:** "
   ]
  },
  {
   "cell_type": "markdown",
   "metadata": {},
   "source": [
    "## Situación: Satélites artificiales"
   ]
  },
  {
   "cell_type": "markdown",
   "metadata": {},
   "source": [
    "**Un satélite artificial es un ingenio enviado en una lanzadera espacial que se mantiene en órbita alrededor de cuerpos del espacio. Los satélites artificiales orbitan alrededor de satélites naturales, asteroides o planetas. Tras su vida útil, pueden quedar orbitando como basura espacial, o pueden desintegrarse reingresando en la atmósfera (cosa que ocurre solamente si su órbita es de poca altura).**\n",
    "\n",
    "**Fuente: https://es.wikipedia.org/wiki/Sat%C3%A9lite_artificial**"
   ]
  },
  {
   "cell_type": "markdown",
   "metadata": {},
   "source": [
    "a)  $\\dfrac{40000}{\\pi}$\n",
    "\n",
    "b)  $\\dfrac{20000}{\\pi}$\n",
    "\n",
    "c)  $40000\\pi$\n",
    "\n",
    "d)  $20000\\pi$"
   ]
  },
  {
   "cell_type": "markdown",
   "metadata": {},
   "source": [
    "**Solución:** "
   ]
  },
  {
   "cell_type": "markdown",
   "metadata": {},
   "source": [
    "**2. Si un satélite orbita circularmente a $2000\\ \\rm{km}$ de la superficie terrestre, ¿cuántos kilómetros mide la circunferencia de su órbita? [2 puntos]**\n"
   ]
  },
  {
   "cell_type": "markdown",
   "metadata": {},
   "source": [
    "a)  $40000+4000\\pi$\n",
    "\n",
    "b)  $40000-4000\\pi$\n",
    "\n",
    "c)  $\\dfrac{20000+2000\\pi}{\\pi}$\n",
    "\n",
    "d)  $\\dfrac{20000-2000\\pi}{\\pi}$"
   ]
  },
  {
   "cell_type": "markdown",
   "metadata": {},
   "source": [
    "***Solución:***\n"
   ]
  },
  {
   "cell_type": "markdown",
   "metadata": {},
   "source": [
    "**3. Si cada día un satélite recorre un ángulo de $\\dfrac{\\pi}{12}\\ \\rm{rad}$ , ¿cuántos días transcurren para que de una vuelta completa a la Tierra? [2 puntos]**"
   ]
  },
  {
   "cell_type": "markdown",
   "metadata": {},
   "source": [
    "a)  $24$\n",
    "\n",
    "b)  $12$\n",
    "\n",
    "c)  $\\dfrac{1}{24}$\n",
    "\n",
    "d)  $\\dfrac{1}{12}$"
   ]
  },
  {
   "cell_type": "markdown",
   "metadata": {},
   "source": [
    "***Solución:***\n"
   ]
  },
  {
   "cell_type": "markdown",
   "metadata": {},
   "source": [
    "**4.  Se planea lanzar un satélite a una altura de $1,000\\ \\rm{km}$ sobre la superficie terrestre, si este da una vuelta a la Tierra en $10$ días, ¿cuántos kilómetros sobre la superficie terrestre recorrerá cada día el satélite? [3 puntos]**"
   ]
  },
  {
   "cell_type": "markdown",
   "metadata": {},
   "source": [
    "a)  $4000+200\\pi$\n",
    "\n",
    "b)  $200\\pi$\n",
    "\n",
    "c)  $\\dfrac{720000+36000\\pi}{\\pi}$\n",
    "\n",
    "d)  $36000$"
   ]
  },
  {
   "cell_type": "markdown",
   "metadata": {},
   "source": [
    "***Solución:***\n"
   ]
  },
  {
   "cell_type": "markdown",
   "metadata": {},
   "source": [
    "## Situación: Funámbulo"
   ]
  },
  {
   "cell_type": "markdown",
   "metadata": {},
   "source": [
    "Un funámbulo o funambulista es un equilibrista que camina sobre un alambre o cuerda tensada.\n",
    "\n",
    "Paul, que es uno de estos acróbatas, realiza un espectáculo de equilibrio a una altura de $5$ metros sobre el nivel del suelo, caminando sobre un cable de acero tenso entre los puntos $B$ y $C$ de las paredes de dos edificios separadas por $10$ metros, como se puede ver en la figura. Mientras camina del punto $B$ al punto $C$, lo sigue un reflector que se encuentra a $15$ metros de altura, en el punto $R$ de la figura, que provoca que genere una sombra en el piso."
   ]
  },
  {
   "cell_type": "markdown",
   "metadata": {},
   "source": [
    "<img src=\"extra4-1.png\" align=\"middle\" width=\"200\">"
   ]
  },
  {
   "cell_type": "markdown",
   "metadata": {},
   "source": [
    "<img src=\"extra_sol1.png\" align=\"middle\" width=\"300\">"
   ]
  },
  {
   "cell_type": "markdown",
   "metadata": {},
   "source": [
    "**1. Cuando Paul ha recorrido la mitad del cable, la distancia $\\overline{AS}$ que ha recorrido su sombra, redondeada a una décima, es**"
   ]
  },
  {
   "cell_type": "raw",
   "metadata": {},
   "source": [
    "<img src=\"extra_sol2.png\" align=\"middle\" width=\"300\">"
   ]
  },
  {
   "cell_type": "markdown",
   "metadata": {},
   "source": [
    "**Solución:** "
   ]
  },
  {
   "cell_type": "markdown",
   "metadata": {},
   "source": [
    "**2. Cuando el punto sombra $S$ del piso, alcanza la base del edificio en el punto $D$, la distancia que Paul ha recorrido desde el punto $B$ es**"
   ]
  },
  {
   "cell_type": "raw",
   "metadata": {},
   "source": [
    "<img src=\"extra_sol3.png\" align=\"middle\" width=\"300\">"
   ]
  },
  {
   "cell_type": "markdown",
   "metadata": {},
   "source": [
    "**Solución:** "
   ]
  },
  {
   "cell_type": "markdown",
   "metadata": {},
   "source": [
    "**3. Cuando el punto sombra $S$ del piso llega al punto $D$, en ese instante se apaga el proyector que está en el punto $R$ y se prende otro proyector en el punto $A$ del piso y también provoca el punto $P$ de apoyo de Paul un punto sombra $S^{\\prime}$, pero ahora sobre la pared $DG$ ¿A qué altura de la pared $DG$ (medida desde el piso), se encuentra el punto sombra en el instante en que se prende el proyector que se encuentra en $A$?**"
   ]
  },
  {
   "cell_type": "raw",
   "metadata": {},
   "source": [
    "<img src=\"extra_sol4.png\" align=\"middle\" width=\"300\">"
   ]
  },
  {
   "cell_type": "markdown",
   "metadata": {},
   "source": [
    "**Solución:** "
   ]
  },
  {
   "cell_type": "markdown",
   "metadata": {},
   "source": [
    "## Situación: Estrellas\n",
    "\n",
    "**1. El lado de un triángulo equilátero mide $x$ unidades. Su área, en unidades cuadradas, es (2 puntos)**"
   ]
  },
  {
   "cell_type": "markdown",
   "metadata": {},
   "source": [
    "<img src=\"equi.png\" align=\"middle\" width=\"200\">"
   ]
  },
  {
   "cell_type": "markdown",
   "metadata": {},
   "source": [
    "a)  $\\dfrac{3x^2}{2}$\n",
    "\n",
    "b)  $\\dfrac{\\sqrt{3}x^2}{4}$\n",
    "\n",
    "c)  $\\dfrac{x^2}{2}$\n",
    "\n",
    "d)  $\\dfrac{\\sqrt{3}x^2}{2}$"
   ]
  },
  {
   "cell_type": "markdown",
   "metadata": {},
   "source": [
    "**Solución:** "
   ]
  },
  {
   "cell_type": "markdown",
   "metadata": {},
   "source": [
    "<img src=\"extra2-1.png\" align=\"middle\" width=\"200\">"
   ]
  },
  {
   "cell_type": "markdown",
   "metadata": {},
   "source": [
    "a)  $\\dfrac{1}{3}$\n",
    "\n",
    "b)  $\\dfrac{1}{8}$\n",
    "\n",
    "c)  $\\dfrac{1}{4}$\n",
    "\n",
    "d)  $\\dfrac{1}{9}$"
   ]
  },
  {
   "cell_type": "markdown",
   "metadata": {},
   "source": [
    "**Solución:** "
   ]
  },
  {
   "cell_type": "markdown",
   "metadata": {},
   "source": [
    "**3. En la siguiente figura se muestra un segmento $AB$, cuya longitud vale $a$ unidades. El área sombreada, en unidades cuadradas, es (2 puntos)**"
   ]
  },
  {
   "cell_type": "markdown",
   "metadata": {},
   "source": [
    "<img src=\"extra2-2.png\" align=\"middle\" width=\"200\">"
   ]
  },
  {
   "cell_type": "markdown",
   "metadata": {},
   "source": [
    "a)  $\\dfrac{\\sqrt{3}a^2}{3}$\n",
    "\n",
    "b)  $\\dfrac{2\\sqrt{3}a^2}{3}$\n",
    "\n",
    "c)  $\\dfrac{\\sqrt{3}a^2}{4}$\n",
    "\n",
    "d)  $\\dfrac{3\\sqrt{3}a^2}{4}$"
   ]
  },
  {
   "cell_type": "markdown",
   "metadata": {},
   "source": [
    "**Solución:** "
   ]
  },
  {
   "cell_type": "markdown",
   "metadata": {},
   "source": [
    "**4. El segmento $AB$ de la siguiente figura tiene una longitud $a$. Entonces el área de la figura sombreada es (2 puntos)**"
   ]
  },
  {
   "cell_type": "markdown",
   "metadata": {},
   "source": [
    "<img src=\"extra2-3.png\" align=\"middle\" width=\"200\">"
   ]
  },
  {
   "cell_type": "markdown",
   "metadata": {},
   "source": [
    "a)  $\\dfrac{10\\sqrt{3}a^2}{27}$\n",
    "\n",
    "b)  $\\dfrac{14\\sqrt{3}a^2}{27}$\n",
    "\n",
    "c)  $\\dfrac{5\\sqrt{3}a^2}{9}$\n",
    "\n",
    "d)  $\\dfrac{7\\sqrt{3}a^2}{9}$"
   ]
  },
  {
   "cell_type": "markdown",
   "metadata": {},
   "source": [
    "**Solución:** "
   ]
  }
 ],
 "metadata": {
  "kernelspec": {
   "display_name": "Julia 1.1.0",
   "language": "julia",
   "name": "julia-1.1"
  },
  "language_info": {
   "file_extension": ".jl",
   "mimetype": "application/julia",
   "name": "julia",
   "version": "1.1.0"
  }
 },
 "nbformat": 4,
 "nbformat_minor": 4
}
