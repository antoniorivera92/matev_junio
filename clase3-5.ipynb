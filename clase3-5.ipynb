{
 "cells": [
  {
   "cell_type": "markdown",
   "metadata": {},
   "source": [
    "# Álgebra para analizar objetos geométricos"
   ]
  },
  {
   "cell_type": "markdown",
   "metadata": {},
   "source": [
    "# Clase 5"
   ]
  },
  {
   "cell_type": "markdown",
   "metadata": {},
   "source": [
    "## El área de cualquier triángulo"
   ]
  },
  {
   "cell_type": "markdown",
   "metadata": {},
   "source": [
    "### El área conociendo tres lados (Fórmula de Herón)"
   ]
  },
  {
   "cell_type": "markdown",
   "metadata": {},
   "source": [
    "<img src=\"triangulo.png\" align=\"middle\" width=\"300\">"
   ]
  },
  {
   "cell_type": "markdown",
   "metadata": {},
   "source": [
    "$$ \\text{Area}=\\sqrt {s\\left(s-a\\right)\\left(s-b\\right)\\left(s-c\\right)}\\ ,$$"
   ]
  },
  {
   "cell_type": "markdown",
   "metadata": {},
   "source": [
    "donde $s=\\dfrac{a+b+c}{2}=\\dfrac{P}{2}$ es el semiperímetro (la mitad del perímetro)."
   ]
  },
  {
   "cell_type": "markdown",
   "metadata": {},
   "source": [
    "## Rectas importantes en un triángulo"
   ]
  },
  {
   "cell_type": "markdown",
   "metadata": {},
   "source": [
    "* *Mediana*: la recta que va del vértice al punto medio del cateto opuesto. El punto donde se unen las medianas se conoce como *baricentro*."
   ]
  },
  {
   "cell_type": "markdown",
   "metadata": {},
   "source": [
    "<img src=\"baricentro.png\" align=\"middle\" width=\"400\">"
   ]
  },
  {
   "cell_type": "markdown",
   "metadata": {},
   "source": [
    "* *Mediatriz*: la recta perpendicular al cateto y que pasa por el punto medio de éste. El punto donde se unen las mediatrices se conoce como *circuncentro*."
   ]
  },
  {
   "cell_type": "markdown",
   "metadata": {},
   "source": [
    "<img src=\"circuncentro.png\" align=\"middle\" width=\"400\">"
   ]
  },
  {
   "cell_type": "markdown",
   "metadata": {},
   "source": [
    "* *Altura*: la recta perpendicular que pasa por el vértice. El punto donde se unen las alturas se conoce como *ortocentro*."
   ]
  },
  {
   "cell_type": "markdown",
   "metadata": {},
   "source": [
    "<img src=\"ortocentro.png\" align=\"middle\" width=\"400\">"
   ]
  },
  {
   "cell_type": "markdown",
   "metadata": {},
   "source": [
    "* *Recta de Euler*: es una recta que, sin importar el triángulo del que se trate, pasa por el baricentro, circuncentro y ortocentro de dicho triángulo."
   ]
  },
  {
   "cell_type": "markdown",
   "metadata": {},
   "source": [
    "<img src=\"euler.png\" align=\"middle\" width=\"400\">"
   ]
  },
  {
   "cell_type": "markdown",
   "metadata": {},
   "source": [
    "**Propiedades:**\n",
    "* En un triángulo equilátero el baricentro, el circuncentro y el ortocentro coinciden en el mismo punto."
   ]
  },
  {
   "cell_type": "markdown",
   "metadata": {},
   "source": [
    "Si tenemos un triángulo con vértices $A(x_1,y_1)$, $B(x_2,y_2)$, y $C(x_3,y_3)$, las coordenadas del"
   ]
  },
  {
   "cell_type": "markdown",
   "metadata": {},
   "source": [
    "* baricentro son $(x_b,y_b)$, donde"
   ]
  },
  {
   "cell_type": "markdown",
   "metadata": {},
   "source": [
    "\\begin{align*}\n",
    "x_b=\\dfrac{x_1+x_2+x_3}{3}\\\\\n",
    "y_b=\\dfrac{y_1+y_2+y_3}{3}\n",
    "\\end{align*}"
   ]
  },
  {
   "cell_type": "markdown",
   "metadata": {},
   "source": [
    "* circuncentro son $(x_c,y_c)$, donde"
   ]
  },
  {
   "cell_type": "markdown",
   "metadata": {},
   "source": [
    "$$ x_c=\\frac{x_1 \\sin(2A)+ x_2 \\sin(2B) + x_3 \\sin(2C)}{\\sin(2A)+\\sin(2B)+ \\sin (2C)} $$"
   ]
  },
  {
   "cell_type": "markdown",
   "metadata": {},
   "source": [
    "$$ y_c=\\frac{y_1 \\sin(2A)+ y_2 \\sin(2B) + y_3 \\sin(2C)}{\\sin(2A)+\\sin(2B)+ \\sin (2C)} $$"
   ]
  },
  {
   "cell_type": "markdown",
   "metadata": {},
   "source": [
    "y $A$, $B$, y $C$ son los ángulos en los vértices."
   ]
  },
  {
   "cell_type": "markdown",
   "metadata": {},
   "source": [
    "* ortocentro son $(x_o,y_o)$, donde"
   ]
  },
  {
   "cell_type": "markdown",
   "metadata": {},
   "source": [
    "\\begin{align*}\n",
    "x_o=\\dfrac{[x_2(x_1-x_3)+y_2(y_1-y_3)](y_3-y_2)-(y_3-y_1)[x_1(x_2-x_3)+y_1(y_2-y_3)]}{(x_3-x_2)(y_3-y_1)-(y_3-y_2)(x_3-x_1)}\\\\\n",
    "y_o=\\dfrac{[x_2(x_1-x_3)+y_2(y_1-y_3)](x_3-x_2)-(x_3-x_1)[x_1(x_2-x_3)+y_1(y_2-y_3)]}{(y_3-y_2)(x_3-x_1)-(x_3-x_2)(y_3-y_1)}\n",
    "\\end{align*}"
   ]
  },
  {
   "cell_type": "markdown",
   "metadata": {},
   "source": [
    "* ***Ejemplo:*** Consideremos un triángulo con vértices $A(-6,10)$, $B(8,6)$, y $C(8,-1)$.\n",
    "  * Encuentra la ecuación de la recta que pasa por cada lado del triángulo en la forma ordenada-pendiente y en la forma general.\n",
    "  * Encuentra la longitud de cada lado del triángulo.\n",
    "  * Calcula el perímetro del triángulo.\n",
    "  * Encuentra los ángulos internos del triángulo mediante ángulo entre pendientes.\n",
    "  * Encuentra el valor de la altura para cada lado del triángulo.\n",
    "  * Calcula el área del triángulo de todas las formas que puedas.\n",
    "  * Encuentra la ecuación de todas las medianas del triángulo.\n",
    "  * Obtén las coordenadas del baricentro (usando intersección de medianas).\n",
    "  * Encuentra la ecuación de todas las mediatrices del triángulo.\n",
    "  * Obtén las coordenadas del circuncentro (usando intersección de mediatrices).\n",
    "  * Encuentra la ecuación de todas las alturas del triángulo.\n",
    "  * Obtén las coordenadas del ortocentro (usando intersección de alturas).\n",
    "  * Encuentra la ecuación de la recta de Euler.\n",
    "  * Corrobora tus resultados con `Desmos`."
   ]
  },
  {
   "cell_type": "markdown",
   "metadata": {},
   "source": [
    "<img src=\"triangulo_euler.png\" align=\"middle\" width=\"700\">"
   ]
  },
  {
   "cell_type": "markdown",
   "metadata": {},
   "source": [
    "* **Encuentra la ecuación de la recta que pasa por cada lado del triángulo en la forma ordenada-pendiente y en la forma general.**"
   ]
  },
  {
   "cell_type": "markdown",
   "metadata": {},
   "source": [
    " $A(-6,10)$, $B(8,6)$, y $C(8,-1)$"
   ]
  },
  {
   "cell_type": "markdown",
   "metadata": {},
   "source": [
    "**Ecuación de la recta que pasa por $A$ y $B$**"
   ]
  },
  {
   "cell_type": "markdown",
   "metadata": {},
   "source": [
    "$$ m=\\dfrac{y_2-y_1}{x_2-x_1}=\\dfrac{(6)-(10)}{(8)-(-6)}=\\dfrac{-4}{14}=-\\dfrac{2}{7} $$"
   ]
  },
  {
   "cell_type": "markdown",
   "metadata": {},
   "source": [
    "Sustituimos el punto $A$ para encontrar la ordenada al origen"
   ]
  },
  {
   "cell_type": "markdown",
   "metadata": {},
   "source": [
    "$$ b=y-mx=(10)-\\left(-\\dfrac{2}{7}\\right)(-6)=10-\\dfrac{12}{7}=\\dfrac{58}{7} $$"
   ]
  },
  {
   "cell_type": "markdown",
   "metadata": {},
   "source": [
    "$$ y=-\\dfrac{2}{7}x+\\dfrac{58}{7} $$"
   ]
  },
  {
   "cell_type": "markdown",
   "metadata": {},
   "source": [
    "En su forma general"
   ]
  },
  {
   "cell_type": "markdown",
   "metadata": {},
   "source": [
    "$$ \\dfrac{2}{7}x+y-\\dfrac{58}{7}=0 $$"
   ]
  },
  {
   "cell_type": "markdown",
   "metadata": {},
   "source": [
    "$$ 2x+7y-58=0 $$"
   ]
  },
  {
   "cell_type": "markdown",
   "metadata": {},
   "source": [
    "**Ecuación de la recta que pasa por $B$ y $C$**"
   ]
  },
  {
   "cell_type": "markdown",
   "metadata": {},
   "source": [
    "$$ m=\\dfrac{(-1)-(6)}{(8)-(8)}=\\dfrac{-7}{0}=\\text{N.D.} $$"
   ]
  },
  {
   "cell_type": "markdown",
   "metadata": {},
   "source": [
    "Como la pendiente no está definida, notamos que la recta que pasa por $B$ y $C$ es vertical por lo que su ecuación es"
   ]
  },
  {
   "cell_type": "markdown",
   "metadata": {},
   "source": [
    "$$ x=8 $$"
   ]
  },
  {
   "cell_type": "markdown",
   "metadata": {},
   "source": [
    "En su forma general"
   ]
  },
  {
   "cell_type": "markdown",
   "metadata": {},
   "source": [
    "$$ x-8=0 $$"
   ]
  },
  {
   "cell_type": "markdown",
   "metadata": {},
   "source": [
    "**Ecuación de la recta que pasa por $C$ y $A$**"
   ]
  },
  {
   "cell_type": "markdown",
   "metadata": {},
   "source": [
    "$$ m=\\dfrac{(-1)-(10)}{(8)-(-6)}=-\\dfrac{11}{14} $$"
   ]
  },
  {
   "cell_type": "markdown",
   "metadata": {},
   "source": [
    "$$ b=y-mx=(10)-\\left(-\\dfrac{11}{14}\\right)(-6)=\\dfrac{74}{14}=\\dfrac{37}{7} $$"
   ]
  },
  {
   "cell_type": "markdown",
   "metadata": {},
   "source": [
    "$$ y=-\\dfrac{11}{14}x+\\dfrac{67}{14} $$"
   ]
  },
  {
   "cell_type": "markdown",
   "metadata": {},
   "source": [
    "En su forma general"
   ]
  },
  {
   "cell_type": "markdown",
   "metadata": {},
   "source": [
    "$$ \\dfrac{11}{14}x+y-\\dfrac{67}{14}=0 $$"
   ]
  },
  {
   "cell_type": "markdown",
   "metadata": {},
   "source": [
    "$$ 11x+14y-67=0 $$"
   ]
  },
  {
   "cell_type": "markdown",
   "metadata": {},
   "source": [
    "* **Encuentra la longitud de cada lado del triángulo.**"
   ]
  },
  {
   "cell_type": "markdown",
   "metadata": {},
   "source": [
    "$$ d=\\sqrt{(x_1-x_2)^2+(y_1-y_2)^2} $$"
   ]
  },
  {
   "cell_type": "markdown",
   "metadata": {},
   "source": [
    " $A(-6,10)$, $B(8,6)$, y $C(8,-1)$"
   ]
  },
  {
   "cell_type": "markdown",
   "metadata": {},
   "source": [
    "$$ c=\\overline{AB}=d(A,B)=\\sqrt{[(10)-(6)]^2+[(-6)-(8)]^2}=\\sqrt{212} $$"
   ]
  },
  {
   "cell_type": "markdown",
   "metadata": {},
   "source": [
    "$$ a=\\overline{BC}=d(B,C)=\\sqrt{[(8)-(8)]^2+[(6)-(-1)]^2}=\\sqrt{49}=7$$"
   ]
  },
  {
   "cell_type": "markdown",
   "metadata": {},
   "source": [
    "$$ b=\\overline{CA}=d(C,A)=\\sqrt{[(8)-(-6)]^2+[(-1)-(10)]^2}=\\sqrt{317} $$"
   ]
  },
  {
   "cell_type": "markdown",
   "metadata": {},
   "source": [
    "**Nota:** Para recuperar un poco lo que vimos la semana pasada, estoy usando la letra minúscula del vértice para llamar al cateto opuesto al vértice."
   ]
  },
  {
   "cell_type": "markdown",
   "metadata": {},
   "source": [
    "<img src=\"triangulo_euler_ejemplo.png\" align=\"middle\" width=\"700\">"
   ]
  },
  {
   "cell_type": "markdown",
   "metadata": {},
   "source": [
    "* **Encuentra los ángulos internos del triángulo mediante ángulo entre pendientes.**"
   ]
  },
  {
   "cell_type": "markdown",
   "metadata": {},
   "source": [
    "$$ \\theta=\\tan^{-1}\\left(\\dfrac{m_2-m_1}{1+m_2m_1}\\right) $$"
   ]
  },
  {
   "cell_type": "markdown",
   "metadata": {},
   "source": [
    "**Ángulo $A$ (que se forma entre la recta que pasa por $A$ y $B$, y la recta que pasa por $C$ y $A$)**"
   ]
  },
  {
   "cell_type": "markdown",
   "metadata": {},
   "source": [
    "* $m_{AB}=-\\dfrac{2}{7}$\n",
    "* $m_{AC}=-\\dfrac{11}{14}$"
   ]
  },
  {
   "cell_type": "markdown",
   "metadata": {},
   "source": [
    "$$ \\theta=\\tan^{-1}\\left(\\dfrac{m_{AC}-m_{AB}}{1+m_{AC}m_{AB}}\\right) $$"
   ]
  },
  {
   "cell_type": "markdown",
   "metadata": {},
   "source": [
    "$$ \\theta=\\tan^{-1}\\left(\\dfrac{\\left(-\\dfrac{11}{14}\\right)-\\left(-\\dfrac{2}{7}\\right)}{1+\\left(-\\dfrac{11}{14}\\right)\\left(-\\dfrac{2}{7}\\right)}\\right)=-22.21^\\circ $$"
   ]
  },
  {
   "cell_type": "code",
   "execution_count": 1,
   "metadata": {},
   "outputs": [
    {
     "data": {
      "text/plain": [
       "-0.5"
      ]
     },
     "execution_count": 1,
     "metadata": {},
     "output_type": "execute_result"
    }
   ],
   "source": [
    "-11/14+2/7"
   ]
  },
  {
   "cell_type": "code",
   "execution_count": 3,
   "metadata": {},
   "outputs": [
    {
     "data": {
      "text/plain": [
       "1.2244897959183674"
      ]
     },
     "execution_count": 3,
     "metadata": {},
     "output_type": "execute_result"
    }
   ],
   "source": [
    "1+(11/14)*(2/7)"
   ]
  },
  {
   "cell_type": "code",
   "execution_count": 4,
   "metadata": {},
   "outputs": [
    {
     "data": {
      "text/plain": [
       "-0.4083333333333333"
      ]
     },
     "execution_count": 4,
     "metadata": {},
     "output_type": "execute_result"
    }
   ],
   "source": [
    "-0.5/1.2244897959183674"
   ]
  },
  {
   "cell_type": "code",
   "execution_count": 5,
   "metadata": {},
   "outputs": [
    {
     "data": {
      "text/plain": [
       "-22.211830686446206"
      ]
     },
     "execution_count": 5,
     "metadata": {},
     "output_type": "execute_result"
    }
   ],
   "source": [
    "atand(-0.4083333333333333)"
   ]
  },
  {
   "cell_type": "markdown",
   "metadata": {},
   "source": [
    "$$ A=22.21^\\circ $$"
   ]
  },
  {
   "cell_type": "markdown",
   "metadata": {},
   "source": [
    "**Ángulo $C$ (que se forma entre la recta que pasa por $B$ y $C$, y la recta que pasa por $C$ y $A$)**"
   ]
  },
  {
   "cell_type": "markdown",
   "metadata": {},
   "source": [
    "Como una de las pendientes se indefine, trabajaremos con el ángulo de inclinación de la recta que pasa por $A$ y $C$:"
   ]
  },
  {
   "cell_type": "markdown",
   "metadata": {},
   "source": [
    "$$ \\theta=\\tan^{-1}(m) $$"
   ]
  },
  {
   "cell_type": "markdown",
   "metadata": {},
   "source": [
    "$$ \\theta=\\tan^{-1}(m_{AC}) $$"
   ]
  },
  {
   "cell_type": "markdown",
   "metadata": {},
   "source": [
    "$$ \\theta=\\tan^{-1}\\left(-\\dfrac{11}{14}\\right)=-38.15^\\circ $$"
   ]
  },
  {
   "cell_type": "markdown",
   "metadata": {},
   "source": [
    "Éste ángulo se forma entre la recta que pasa por $A$ y $C$ y la horizontal, por lo que el ángulo que buscamos será el complementario a éste."
   ]
  },
  {
   "cell_type": "markdown",
   "metadata": {},
   "source": [
    "$$ C=90^\\circ-38-15^\\circ=51.85^\\circ $$"
   ]
  },
  {
   "cell_type": "markdown",
   "metadata": {},
   "source": [
    "**Ángulo que se forma entre la recta que pasa por $A$ y $B$, y la recta que pasa por $B$ y $C$**"
   ]
  },
  {
   "cell_type": "markdown",
   "metadata": {},
   "source": [
    "**Ángulo $B$ (que se forma entre la recta que pasa por $A$ y $B$, y la recta que pasa por $B$ y $C$)**"
   ]
  },
  {
   "cell_type": "markdown",
   "metadata": {},
   "source": [
    "Como para cualquier triángulo $A+B+C=180^\\circ$,"
   ]
  },
  {
   "cell_type": "markdown",
   "metadata": {},
   "source": [
    "$$ B=180^\\circ-A-B=105.94^\\circ $$"
   ]
  },
  {
   "cell_type": "markdown",
   "metadata": {},
   "source": [
    "* **Encuentra el valor de la altura para cada lado del triángulo.**"
   ]
  },
  {
   "cell_type": "markdown",
   "metadata": {},
   "source": [
    "$$ d=\\dfrac{|Ax_0+By_0+C|}{\\sqrt{A^2+B^2}} $$"
   ]
  },
  {
   "cell_type": "markdown",
   "metadata": {},
   "source": [
    " $A(-6,10)$, $B(8,6)$, y $C(8,-1)$"
   ]
  },
  {
   "cell_type": "markdown",
   "metadata": {},
   "source": [
    "**Altura (distancia) entre el punto $A$ y la recta que pasa por $B$ y $C$ (lado $a$)**"
   ]
  },
  {
   "cell_type": "markdown",
   "metadata": {},
   "source": [
    "$$ x=8 $$"
   ]
  },
  {
   "cell_type": "markdown",
   "metadata": {},
   "source": [
    "$$ x-8=0 $$"
   ]
  },
  {
   "cell_type": "markdown",
   "metadata": {},
   "source": [
    "$A=1$, $B=0$, $C=-8$"
   ]
  },
  {
   "cell_type": "markdown",
   "metadata": {},
   "source": [
    "$$ d=\\dfrac{|(-2)(8)+(-7)(-1)+(58)|}{\\sqrt{(-2)^2+(-7)^2}}=\\dfrac{49}{\\sqrt{53}} $$"
   ]
  },
  {
   "cell_type": "markdown",
   "metadata": {},
   "source": [
    "**Altura (distancia) entre el punto $B$ y la recta que pasa por $C$ y $A$ (lado $b$)**"
   ]
  },
  {
   "cell_type": "markdown",
   "metadata": {},
   "source": [
    "$$ -2x-7y+58=0 $$"
   ]
  },
  {
   "cell_type": "markdown",
   "metadata": {},
   "source": [
    "$A=-2$, $B=-7$, $C=58$"
   ]
  },
  {
   "cell_type": "markdown",
   "metadata": {},
   "source": [
    "$$ d=\\dfrac{|(-2)(8)+(-7)(-1)+(58)|}{\\sqrt{(-2)^2+(-7)^2}}=\\dfrac{49}{\\sqrt{53}} $$"
   ]
  },
  {
   "cell_type": "markdown",
   "metadata": {},
   "source": [
    "**Altura (distancia) entre el punto $C$ y la recta que pasa por $A$ y $B$ (lado $c$)**"
   ]
  },
  {
   "cell_type": "markdown",
   "metadata": {},
   "source": [
    "$$ -2x-7y+58=0 $$"
   ]
  },
  {
   "cell_type": "markdown",
   "metadata": {},
   "source": [
    "$A=-2$, $B=-7$, $C=58$"
   ]
  },
  {
   "cell_type": "markdown",
   "metadata": {},
   "source": [
    "$$ d=\\dfrac{|(-2)(8)+(-7)(-1)+(58)|}{\\sqrt{(-2)^2+(-7)^2}}=\\dfrac{49}{\\sqrt{53}} $$"
   ]
  },
  {
   "cell_type": "markdown",
   "metadata": {},
   "source": [
    "**Altura entre el punto $A$ y la recta que pasa por $B$ y $C$**"
   ]
  },
  {
   "cell_type": "markdown",
   "metadata": {},
   "source": [
    "**Altura entre el punto $B$ y la recta que pasa por $A$ y $C$**"
   ]
  },
  {
   "cell_type": "markdown",
   "metadata": {},
   "source": [
    "$$ y=-\\dfrac{11}{14}x+\\dfrac{67}{14} $$"
   ]
  },
  {
   "cell_type": "markdown",
   "metadata": {},
   "source": [
    "* **Calcula el área del triángulo de todas las formas que puedas.**"
   ]
  },
  {
   "cell_type": "markdown",
   "metadata": {},
   "source": [
    "**Con fórmula de primaria**"
   ]
  },
  {
   "cell_type": "markdown",
   "metadata": {},
   "source": [
    "$$ \\text{Area}=\\dfrac{\\text{base}\\cdot\\text{altura}}{2}=\\dfrac{\\sqrt{212}\\cdot\\frac{49}{\\sqrt{53}}}{2}=49\\ \\text{unidades}^2 $$"
   ]
  },
  {
   "cell_type": "code",
   "execution_count": 6,
   "metadata": {},
   "outputs": [
    {
     "data": {
      "text/plain": [
       "49.0"
      ]
     },
     "execution_count": 6,
     "metadata": {},
     "output_type": "execute_result"
    }
   ],
   "source": [
    "(√212)*(49/(√53))/2"
   ]
  },
  {
   "cell_type": "markdown",
   "metadata": {},
   "source": [
    "**Conociendo todos los lados de mi triángulo**"
   ]
  },
  {
   "cell_type": "markdown",
   "metadata": {},
   "source": [
    "Este es el perímetro del triángulo"
   ]
  },
  {
   "cell_type": "code",
   "execution_count": 7,
   "metadata": {},
   "outputs": [
    {
     "data": {
      "text/plain": [
       "39.36471359332589"
      ]
     },
     "execution_count": 7,
     "metadata": {},
     "output_type": "execute_result"
    }
   ],
   "source": [
    "(√212)+(7)+(√317)"
   ]
  },
  {
   "cell_type": "markdown",
   "metadata": {},
   "source": [
    "$s=\\dfrac{a+b+c}{2}=\\dfrac{P}{2}$"
   ]
  },
  {
   "cell_type": "code",
   "execution_count": 8,
   "metadata": {},
   "outputs": [
    {
     "data": {
      "text/plain": [
       "19.682356796662944"
      ]
     },
     "execution_count": 8,
     "metadata": {},
     "output_type": "execute_result"
    }
   ],
   "source": [
    "39.36471359332589/2"
   ]
  },
  {
   "cell_type": "markdown",
   "metadata": {},
   "source": [
    "$$ \\text{Area}=\\sqrt {s\\left(s-a\\right)\\left(s-b\\right)\\left(s-c\\right)}=49\\ \\text{unidades}^2$$"
   ]
  },
  {
   "cell_type": "code",
   "execution_count": 9,
   "metadata": {},
   "outputs": [
    {
     "data": {
      "text/plain": [
       "48.99999999999994"
      ]
     },
     "execution_count": 9,
     "metadata": {},
     "output_type": "execute_result"
    }
   ],
   "source": [
    "√(19.682356796662944*(19.682356796662944-√212)*(19.682356796662944-7)*(19.682356796662944-√317))"
   ]
  },
  {
   "cell_type": "markdown",
   "metadata": {},
   "source": [
    "**Conociendo dos los lados y el ángulo entre ellos**"
   ]
  },
  {
   "cell_type": "markdown",
   "metadata": {},
   "source": [
    "$$ C=51.85^\\circ $$"
   ]
  },
  {
   "cell_type": "markdown",
   "metadata": {},
   "source": [
    "$$ \\text{Area}=\\dfrac{ab\\sin C}{2}=\\dfrac{7\\sqrt{317}\\sin(51.85^\\circ)}{2}\\approx 49\\ \\text{unidades}^2$$"
   ]
  },
  {
   "cell_type": "code",
   "execution_count": 10,
   "metadata": {},
   "outputs": [
    {
     "data": {
      "text/plain": [
       "49.00485552835206"
      ]
     },
     "execution_count": 10,
     "metadata": {},
     "output_type": "execute_result"
    }
   ],
   "source": [
    "7*(√317)*sind(51.85)/2"
   ]
  },
  {
   "cell_type": "markdown",
   "metadata": {},
   "source": [
    "* **Encuentra la ecuación de todas las medianas del triángulo.**"
   ]
  },
  {
   "cell_type": "markdown",
   "metadata": {},
   "source": [
    " $A(-6,10)$, $B(8,6)$, y $C(8,-1)$"
   ]
  },
  {
   "cell_type": "markdown",
   "metadata": {},
   "source": [
    "**Mediana que pasa por el punto medio a $A$ y $B$, y el vértice $C$**"
   ]
  },
  {
   "cell_type": "markdown",
   "metadata": {},
   "source": [
    "$$ x=\\dfrac{x_1+x_2}{2}=\\dfrac{(-6)+(8)}{2}=1 $$"
   ]
  },
  {
   "cell_type": "markdown",
   "metadata": {},
   "source": [
    "$$ y=\\dfrac{y_1+y_2}{2}=\\dfrac{(10)+(6)}{2}=8 $$"
   ]
  },
  {
   "cell_type": "markdown",
   "metadata": {},
   "source": [
    "Es que las coordenadas del punto medio a $A$ y $B$ son $M_{AB}(1,8)$"
   ]
  },
  {
   "cell_type": "markdown",
   "metadata": {},
   "source": [
    "$$ m=\\dfrac{(8)-(-1)}{(1)-(8)}=-\\dfrac{9}{7} $$"
   ]
  },
  {
   "cell_type": "markdown",
   "metadata": {},
   "source": [
    "$$y=mx+b$$"
   ]
  },
  {
   "cell_type": "markdown",
   "metadata": {},
   "source": [
    "$$b=y-mx$$"
   ]
  },
  {
   "cell_type": "markdown",
   "metadata": {},
   "source": [
    "$$b=(8)-\\left(-\\dfrac{9}{7}\\right)(1)=\\dfrac{65}{7}$$"
   ]
  },
  {
   "cell_type": "markdown",
   "metadata": {},
   "source": [
    "$$y=-\\dfrac{9}{7}x+\\dfrac{65}{7}$$"
   ]
  },
  {
   "cell_type": "markdown",
   "metadata": {},
   "source": [
    "* **Obtén las coordenadas del baricentro (usando intersección de medianas).**"
   ]
  },
  {
   "cell_type": "markdown",
   "metadata": {},
   "source": [
    " $A(-6,10)$, $B(8,6)$, y $C(8,-1)$"
   ]
  },
  {
   "cell_type": "markdown",
   "metadata": {},
   "source": [
    "**Mediatriz que pasa por el punto medio de $A$ y $C$**"
   ]
  },
  {
   "cell_type": "markdown",
   "metadata": {},
   "source": [
    "$$ x=\\dfrac{x_1+x_2}{2}=\\dfrac{(-6)+(8)}{2}=1 $$"
   ]
  },
  {
   "cell_type": "markdown",
   "metadata": {},
   "source": [
    "$$ y=\\dfrac{y_1+y_2}{2}=\\dfrac{(10)+(-1)}{2}=\\dfrac{9}{2} $$"
   ]
  },
  {
   "cell_type": "markdown",
   "metadata": {},
   "source": [
    "Es que las coordenadas del punto medio a $A$ y $C$ son $M_{AC}(1,4.5)$"
   ]
  },
  {
   "cell_type": "markdown",
   "metadata": {},
   "source": [
    "Me fijo en la pendiente de la recta que pasa por $A$ y $C$, $m_{AC}=-\\dfrac{11}{14}$"
   ]
  },
  {
   "cell_type": "markdown",
   "metadata": {},
   "source": [
    "La pendiente perpendicular es $m=\\dfrac{14}{11}$"
   ]
  },
  {
   "cell_type": "markdown",
   "metadata": {},
   "source": [
    "$$ b=y-mx=\\left(\\dfrac{9}{2}\\right)-\\left(\\dfrac{14}{11}\\right)(1)=\\dfrac{71}{22} $$"
   ]
  },
  {
   "cell_type": "markdown",
   "metadata": {},
   "source": [
    "$$ y=\\dfrac{14}{11}x+\\dfrac{71}{22} $$"
   ]
  },
  {
   "cell_type": "markdown",
   "metadata": {},
   "source": [
    "* **Encuentra la ecuación de todas las mediatrices del triángulo.**"
   ]
  },
  {
   "cell_type": "markdown",
   "metadata": {},
   "source": [
    "* **Obtén las coordenadas del circuncentro (usando intersección de mediatrices).**"
   ]
  },
  {
   "cell_type": "markdown",
   "metadata": {},
   "source": [
    "* **Encuentra la ecuación de todas las alturas del triángulo.**"
   ]
  },
  {
   "cell_type": "markdown",
   "metadata": {},
   "source": [
    "* **Obtén las coordenadas del ortocentro (usando intersección de alturas).**"
   ]
  },
  {
   "cell_type": "markdown",
   "metadata": {},
   "source": [
    "* **Encuentra la ecuación de la recta de Euler.**"
   ]
  },
  {
   "cell_type": "markdown",
   "metadata": {},
   "source": [
    "* **Corrobora tus resultados con `Desmos`.**"
   ]
  },
  {
   "cell_type": "markdown",
   "metadata": {},
   "source": [
    "En este link podrán ver todos los puntos del triángulo:\n",
    "\n",
    "https://www.desmos.com/calculator/wtivsqoik1"
   ]
  },
  {
   "cell_type": "markdown",
   "metadata": {},
   "source": [
    "## Cónicas"
   ]
  },
  {
   "cell_type": "markdown",
   "metadata": {},
   "source": [
    "Las cónicas son:\n",
    "* circunferencia\n",
    "* elipse\n",
    "* parábola\n",
    "* hipérbola"
   ]
  },
  {
   "cell_type": "markdown",
   "metadata": {},
   "source": [
    "<img src=\"conicas.png\" align=\"middle\" width=\"700\">"
   ]
  },
  {
   "cell_type": "markdown",
   "metadata": {},
   "source": [
    "<img src=\"conic_sections.gif\" align=\"middle\" width=\"700\">"
   ]
  },
  {
   "cell_type": "markdown",
   "metadata": {},
   "source": [
    "<img src=\"conics_wolfram.gif\" align=\"middle\" width=\"500\">"
   ]
  },
  {
   "cell_type": "markdown",
   "metadata": {},
   "source": [
    "### Ecuación general de segundo grado"
   ]
  },
  {
   "cell_type": "markdown",
   "metadata": {},
   "source": [
    "La ecuación general de las cónicas es:"
   ]
  },
  {
   "cell_type": "markdown",
   "metadata": {},
   "source": [
    "$$ Ax^2+Bxy+Cy^2+Dx+Ey+F=0 $$"
   ]
  },
  {
   "cell_type": "markdown",
   "metadata": {},
   "source": [
    "### Criterios para distinguir la cónica a partir de la ecuación de segundo grado"
   ]
  },
  {
   "cell_type": "markdown",
   "metadata": {},
   "source": [
    "Cuando $B=0$ tendremos una:\n",
    "* circunferencia si $A=C$\n",
    "* parábola si $A=0$ ó $C=0$\n",
    "* elipse si $A\\neq C$ pero del mismo signo\n",
    "* hiperbola si $A$ y $C$ tienen signos contrarios"
   ]
  },
  {
   "cell_type": "markdown",
   "metadata": {},
   "source": [
    "* ***Ejemplo:*** ¿Cuál cónica representa la ecuación $2x^2+2y^2=7$?"
   ]
  },
  {
   "cell_type": "markdown",
   "metadata": {},
   "source": [
    "$$  2x^2+2y^2-7=0 $$"
   ]
  },
  {
   "cell_type": "markdown",
   "metadata": {},
   "source": [
    "$$ Ax^2+Bxy+Cy^2+Dx+Ey+F=0 $$"
   ]
  },
  {
   "cell_type": "markdown",
   "metadata": {},
   "source": [
    "$A=2$, $B=0$, $C=2$, $D=0$, $E=0$, $F=-7$"
   ]
  },
  {
   "cell_type": "markdown",
   "metadata": {},
   "source": [
    "Como $A$ y $C$ tienen el mismo valor, se trata de una circunferencia."
   ]
  },
  {
   "cell_type": "markdown",
   "metadata": {},
   "source": [
    "* ***Ejemplo:*** ¿Cuál cónica representa la ecuación $y^2=1+x^2$?"
   ]
  },
  {
   "cell_type": "markdown",
   "metadata": {},
   "source": [
    "$$ y^2=1+x^2 $$"
   ]
  },
  {
   "cell_type": "markdown",
   "metadata": {},
   "source": [
    "$$ -x^2+y^2-1=0 $$"
   ]
  },
  {
   "cell_type": "markdown",
   "metadata": {},
   "source": [
    "$$ Ax^2+Bxy+Cy^2+Dx+Ey+F=0 $$"
   ]
  },
  {
   "cell_type": "markdown",
   "metadata": {},
   "source": [
    "$A=-1$, $B=0$, $C=1$, $D=0$, $E=0$, $F=-1$"
   ]
  },
  {
   "cell_type": "markdown",
   "metadata": {},
   "source": [
    "Como $A$ y $C$ tienen signo contrario, se trata de una hipérbola."
   ]
  },
  {
   "cell_type": "markdown",
   "metadata": {},
   "source": [
    "* ***Ejemplo:*** ¿Cuál cónica representa la ecuación $x^2=8y$?"
   ]
  },
  {
   "cell_type": "markdown",
   "metadata": {},
   "source": [
    "$$  x^2-8y=0 $$"
   ]
  },
  {
   "cell_type": "markdown",
   "metadata": {},
   "source": [
    "$$ Ax^2+Bxy+Cy^2+Dx+Ey+F=0 $$"
   ]
  },
  {
   "cell_type": "markdown",
   "metadata": {},
   "source": [
    "$A=1$, $B=0$, $C=0$"
   ]
  },
  {
   "cell_type": "markdown",
   "metadata": {},
   "source": [
    "Como $C$ vale cero se trata de una parábola."
   ]
  },
  {
   "cell_type": "markdown",
   "metadata": {},
   "source": [
    "* ***Ejemplo:*** ¿Cuál cónica representa la ecuación $1=\\dfrac{12-4y^2}{3x^2}$?"
   ]
  },
  {
   "cell_type": "markdown",
   "metadata": {},
   "source": [
    "$$1=\\dfrac{12-4y^2}{3x^2}$$"
   ]
  },
  {
   "cell_type": "markdown",
   "metadata": {},
   "source": [
    "$$3x^2=12-4y^2$$"
   ]
  },
  {
   "cell_type": "markdown",
   "metadata": {},
   "source": [
    "$$3x^2+4y^2-12=0$$"
   ]
  },
  {
   "cell_type": "markdown",
   "metadata": {},
   "source": [
    "$$ Ax^2+Bxy+Cy^2+Dx+Ey+F=0 $$"
   ]
  },
  {
   "cell_type": "markdown",
   "metadata": {},
   "source": [
    "$A=3$, $B=0$, $C=4$"
   ]
  },
  {
   "cell_type": "markdown",
   "metadata": {},
   "source": [
    "Como $A$ y $C$ son diferentes pero del mismo signo, se trata de una elipse."
   ]
  },
  {
   "cell_type": "markdown",
   "metadata": {},
   "source": [
    "**¿Qué pasa cuando $B$ no es cero?**\n",
    "\n",
    "Llamamos a $I=B^2-4AC$ el indicador.\n",
    "\n",
    "Entonces, cuando $B\\neq0$ ($B$ significa que la figura está rotada) tendremos una:\n",
    "* parábola si $I=0$\n",
    "* elipse si $I<0$ (es decir, un indicador negativo)\n",
    "* hiperbola si $I>0$ (es decir, un indicador positivo)"
   ]
  },
  {
   "cell_type": "markdown",
   "metadata": {},
   "source": [
    "* ***Ejemplo:*** ¿Cuál cónica representa la ecuación $2x^2-4xy+2y^2-40x+20y=0$?"
   ]
  },
  {
   "cell_type": "markdown",
   "metadata": {},
   "source": [
    "$$ Ax^2+Bxy+Cy^2+Dx+Ey+F=0 $$"
   ]
  },
  {
   "cell_type": "markdown",
   "metadata": {},
   "source": [
    "$A=2$, $B=-4$ ,$C=2$"
   ]
  },
  {
   "cell_type": "markdown",
   "metadata": {},
   "source": [
    "$$ I=B^2-4AC=(-4)^2-4(2)(2)=16-16=0 $$"
   ]
  },
  {
   "cell_type": "markdown",
   "metadata": {},
   "source": [
    "Como el indicador es cero, se trata de una parábola."
   ]
  },
  {
   "cell_type": "markdown",
   "metadata": {},
   "source": [
    "* ***Ejemplo:*** ¿Cuál cónica representa la ecuación $3x^2+2xy+3y^2-8y-2=0$?"
   ]
  },
  {
   "cell_type": "markdown",
   "metadata": {},
   "source": [
    "$$ Ax^2+Bxy+Cy^2+Dx+Ey+F=0 $$"
   ]
  },
  {
   "cell_type": "markdown",
   "metadata": {},
   "source": [
    "$A=3$, $B=2$, $C=3$"
   ]
  },
  {
   "cell_type": "markdown",
   "metadata": {},
   "source": [
    "$$ I=-32 $$"
   ]
  },
  {
   "cell_type": "markdown",
   "metadata": {},
   "source": [
    "Como el indicador es negativo, se trata de una elipse."
   ]
  },
  {
   "cell_type": "markdown",
   "metadata": {},
   "source": [
    "# Problemas de extra"
   ]
  },
  {
   "cell_type": "markdown",
   "metadata": {},
   "source": [
    "# Situación 1. Vuelo por México"
   ]
  },
  {
   "cell_type": "markdown",
   "metadata": {},
   "source": [
    "La Secretaría de Turismo (SECTUR) ha reportado que los turistas extranjeros se concentran en siete lugares principales: Monterrey, Los Cabos, Puerto Vallarta, Guadalajara, Ciudad de México, Cancún y Cozumel."
   ]
  },
  {
   "cell_type": "markdown",
   "metadata": {},
   "source": [
    "<img src=\"mapa1.png\" align=\"middle\" width=\"400\">"
   ]
  },
  {
   "cell_type": "markdown",
   "metadata": {},
   "source": [
    "**1. De acuerdo al mapa, Nuevo León (NL) se localiza en las coordenadas: [1 punto]**"
   ]
  },
  {
   "cell_type": "markdown",
   "metadata": {},
   "source": [
    "A) $(8, 6)$\n",
    "\n",
    "B) $(6, 8)$\n",
    "\n",
    "C) $(8, 1)$\n",
    "\n",
    "D) $(1, 8)$"
   ]
  },
  {
   "cell_type": "markdown",
   "metadata": {},
   "source": [
    "A) $(8, 6)$\n",
    "\n",
    "B) $(6, 8)$\n",
    "\n",
    "C) $(8, 1)$\n",
    "\n",
    "D) $(1, 8)$"
   ]
  },
  {
   "cell_type": "markdown",
   "metadata": {},
   "source": [
    "**Solución:** "
   ]
  },
  {
   "cell_type": "markdown",
   "metadata": {},
   "source": [
    "**2.  Si deseas realizar un viaje en avión de Yucatán a Guerrero y el vuelo toma una\n",
    "trayectoria en línea recta, ¿a cuántos kilómetros se encuentran estos dos estados? Considera que el mapa está a una escala de $1: 200\\ \\rm{km}$. [2 puntos]**"
   ]
  },
  {
   "cell_type": "markdown",
   "metadata": {},
   "source": [
    "<img src=\"mapa1.png\" align=\"middle\" width=\"400\">"
   ]
  },
  {
   "cell_type": "markdown",
   "metadata": {},
   "source": [
    "A) $200\\sqrt{45}$\n",
    "\n",
    "B) $200\\sqrt{509}$\n",
    "\n",
    "C) $\\dfrac{200}{\\sqrt{45}}$\n",
    "\n",
    "D) $200\\sqrt{405}$"
   ]
  },
  {
   "cell_type": "markdown",
   "metadata": {},
   "source": [
    "A) $200\\sqrt{45}$\n",
    "\n",
    "B) $200\\sqrt{509}$\n",
    "\n",
    "C) $\\dfrac{200}{\\sqrt{45}}$\n",
    "\n",
    "D) $200\\sqrt{405}$"
   ]
  },
  {
   "cell_type": "markdown",
   "metadata": {},
   "source": [
    "**Solución:** "
   ]
  },
  {
   "cell_type": "markdown",
   "metadata": {},
   "source": [
    "**3. Un avión vuela en línea recta desde Baja California Sur (BCS) a Guerrero, ¿cuál de las siguientes expresiones modela el trayecto del viaje? [3 puntos]**"
   ]
  },
  {
   "cell_type": "markdown",
   "metadata": {},
   "source": [
    "<img src=\"mapa1.png\" align=\"middle\" width=\"400\">"
   ]
  },
  {
   "cell_type": "markdown",
   "metadata": {},
   "source": [
    "A) $4x+5y-37=0$\n",
    "\n",
    "B) $5x+4y-35=0$\n",
    "\n",
    "C) $4x+5y-35=0$\n",
    "\n",
    "D) $5x+4y-37=0$"
   ]
  },
  {
   "cell_type": "markdown",
   "metadata": {},
   "source": [
    "A) $4x+5y-37=0$\n",
    "\n",
    "B) $5x+4y-35=0$\n",
    "\n",
    "C) $4x+5y-35=0$\n",
    "\n",
    "D) $5x+4y-37=0$"
   ]
  },
  {
   "cell_type": "markdown",
   "metadata": {},
   "source": [
    "**Solución:** "
   ]
  },
  {
   "cell_type": "markdown",
   "metadata": {},
   "source": [
    "**4. Al tomar un vuelo de NL a Guerrero, un avión viaja según la siguiente trayectoria:**\n",
    "$$ 9x^2-2xy-y^2-115x+23y+338=0 $$\n",
    "**¿Qué tipo de cónica representa la ecuación anterior? [2 puntos]**"
   ]
  },
  {
   "cell_type": "markdown",
   "metadata": {},
   "source": [
    "A) Elipse\n",
    "\n",
    "B) Parábola\n",
    "\n",
    "C) Hipérbola\n",
    "\n",
    "D) Recta"
   ]
  },
  {
   "cell_type": "markdown",
   "metadata": {},
   "source": [
    "A) Elipse\n",
    "\n",
    "B) Parábola\n",
    "\n",
    "C) Hipérbola\n",
    "\n",
    "D) Recta"
   ]
  },
  {
   "cell_type": "markdown",
   "metadata": {},
   "source": [
    "**Solución:** "
   ]
  },
  {
   "cell_type": "markdown",
   "metadata": {},
   "source": [
    "# Situación 3. Vuelo transatlántico"
   ]
  },
  {
   "cell_type": "markdown",
   "metadata": {},
   "source": [
    "**Un vuelo transatlántico es el vuelo de una aeronave, ya sea de un avión, globo u otra, que incluye atravesar el Océano Atlántico, empezando desde América del Norte o América del Sur y terminando en Europa o África, o viceversa.**"
   ]
  },
  {
   "cell_type": "markdown",
   "metadata": {},
   "source": [
    "<img src=\"mapa3.png\" align=\"middle\" width=\"600\">"
   ]
  },
  {
   "cell_type": "markdown",
   "metadata": {},
   "source": [
    "**1. De acuerdo al mapa anterior, ¿en qué coordenadas se localiza Inglaterra? [1 punto]**"
   ]
  },
  {
   "cell_type": "markdown",
   "metadata": {},
   "source": [
    "A) $(7, 6)$\n",
    "\n",
    "B) $(6, 7)$\n",
    "\n",
    "C) $(7, 5)$\n",
    "\n",
    "D) $(5, 7)$"
   ]
  },
  {
   "cell_type": "markdown",
   "metadata": {},
   "source": [
    "A) $(7, 6)$\n",
    "\n",
    "B) $(6, 7)$\n",
    "\n",
    "C) $(7, 5)$\n",
    "\n",
    "D) $(5, 7)$"
   ]
  },
  {
   "cell_type": "markdown",
   "metadata": {},
   "source": [
    "**Solución:** "
   ]
  },
  {
   "cell_type": "markdown",
   "metadata": {},
   "source": [
    "**2. Si deseas realizar un viaje transatlántico desde México a España y el vuelo toma una\n",
    "trayectoria en línea recta, ¿a cuántos kilómetros se encuentran estos dos países? Considera que el mapa está a una escala de $1:2200\\ \\rm{km}$. [2 puntos]**"
   ]
  },
  {
   "cell_type": "markdown",
   "metadata": {},
   "source": [
    "A) $2200\\sqrt{17}$\n",
    "\n",
    "B) $2200\\sqrt{181}$\n",
    "\n",
    "C) $\\dfrac{2200}{\\sqrt{17}}$\n",
    "\n",
    "D) $2200\\sqrt{5}$"
   ]
  },
  {
   "cell_type": "markdown",
   "metadata": {},
   "source": [
    "A) $2200\\sqrt{17}$\n",
    "\n",
    "B) $2200\\sqrt{181}$\n",
    "\n",
    "C) $\\dfrac{2200}{\\sqrt{17}}$\n",
    "\n",
    "D) $2200\\sqrt{5}$"
   ]
  },
  {
   "cell_type": "markdown",
   "metadata": {},
   "source": [
    "**Solución:** "
   ]
  },
  {
   "cell_type": "markdown",
   "metadata": {},
   "source": [
    "**3. Si un avión vuela en línea recta desde México a Madagascar, ¿cuál de las siguientes\n",
    "expresiones modela el trayecto del viaje transatlántico? [3 puntos]**"
   ]
  },
  {
   "cell_type": "markdown",
   "metadata": {},
   "source": [
    "A) $x+3y-15=0$\n",
    "\n",
    "B) $3x+y-13=0$\n",
    "\n",
    "C) $x+3y-13=0$\n",
    "\n",
    "D) $3x+y-15=0$"
   ]
  },
  {
   "cell_type": "markdown",
   "metadata": {},
   "source": [
    "A) $x+3y-15=0$\n",
    "\n",
    "B) $3x+y-13=0$\n",
    "\n",
    "C) $x+3y-13=0$\n",
    "\n",
    "D) $3x+y-15=0$"
   ]
  },
  {
   "cell_type": "markdown",
   "metadata": {},
   "source": [
    "**Solución:** "
   ]
  },
  {
   "cell_type": "markdown",
   "metadata": {},
   "source": [
    "**4. Al tomar un vuelo transatlántico de México a Inglaterra, un avión viaja según la\n",
    "siguiente trayectoria:**\n",
    "$$ x^2-2xy+2y^2+x-12y+28=0 $$\n",
    "**¿Qué tipo de cónica representa la ecuación anterior? [2 puntos]**"
   ]
  },
  {
   "cell_type": "markdown",
   "metadata": {},
   "source": [
    "A) Elipse\n",
    "\n",
    "B) Parábola\n",
    "\n",
    "C) Hipérbola\n",
    "\n",
    "D) Recta"
   ]
  },
  {
   "cell_type": "markdown",
   "metadata": {},
   "source": [
    "A) Elipse\n",
    "\n",
    "B) Parábola\n",
    "\n",
    "C) Hipérbola\n",
    "\n",
    "D) Recta"
   ]
  },
  {
   "cell_type": "markdown",
   "metadata": {},
   "source": [
    "**Solución:** "
   ]
  }
 ],
 "metadata": {
  "kernelspec": {
   "display_name": "Julia 1.1.0",
   "language": "julia",
   "name": "julia-1.1"
  },
  "language_info": {
   "file_extension": ".jl",
   "mimetype": "application/julia",
   "name": "julia",
   "version": "1.1.0"
  }
 },
 "nbformat": 4,
 "nbformat_minor": 4
}
