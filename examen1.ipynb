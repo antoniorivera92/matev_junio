{
 "cells": [
  {
   "cell_type": "markdown",
   "metadata": {},
   "source": [
    "# Examen 1"
   ]
  },
  {
   "cell_type": "markdown",
   "metadata": {},
   "source": [
    "## Situación 1: Caída libre"
   ]
  },
  {
   "cell_type": "markdown",
   "metadata": {},
   "source": [
    "**En física, el *tiro vertical* puede ser descrito mediante la fórmula\n",
    "$$h=vt-\\dfrac{1}{2}gt^2\\ ,$$\n",
    "donde $v$ es la rapidez inicial del objeto lanzado y $g$ es la aceleración de un objeto cayendo en la Tierra. Tomaremos $g=10\\ \\text{m}/\\text{s}^2$.**\n",
    "\n",
    "**En el laboratorio de física de la ENP 6 fabrican un *lanzapapas* que logra lanzar objetos con una rapidez inicial de hasta $50\\ \\text{m}/\\text{s}$. El grupo sale a la explanada del campus para probar su máquina.**"
   ]
  },
  {
   "cell_type": "markdown",
   "metadata": {},
   "source": [
    "**1. ¿Cuál es la altura que alcanzará la papa $3\\ \\text{s}$ después de haber sido lanzada?**\n",
    "\n",
    "**(2 puntos)**"
   ]
  },
  {
   "cell_type": "markdown",
   "metadata": {},
   "source": [
    "A. $38\\ \\text{m}$\n",
    "\n",
    "B. $62\\ \\text{m}$\n",
    "\n",
    "C. $105\\ \\text{m}$\n",
    "\n",
    "D. $134\\ \\text{m}$"
   ]
  },
  {
   "cell_type": "markdown",
   "metadata": {},
   "source": [
    "Simplemente usamos la ecuación y sustituimos los datos que nos dan:"
   ]
  },
  {
   "cell_type": "markdown",
   "metadata": {},
   "source": [
    "$$h=v_0t-\\dfrac{1}{2}gt^2=50(3)-\\dfrac{1}{2}10(3)^2=105$$"
   ]
  },
  {
   "cell_type": "code",
   "execution_count": 23,
   "metadata": {},
   "outputs": [
    {
     "data": {
      "text/plain": [
       "105"
      ]
     },
     "execution_count": 23,
     "metadata": {},
     "output_type": "execute_result"
    }
   ],
   "source": [
    "50*(3)-5*(3)^2"
   ]
  },
  {
   "cell_type": "markdown",
   "metadata": {},
   "source": [
    "Entonces, a los $3\\ \\text{s}$, la papa se encuentra aproximadamente a $105\\ \\text{m}$ sobre el suelo."
   ]
  },
  {
   "cell_type": "markdown",
   "metadata": {},
   "source": [
    "A. $38\\ \\text{m}$\n",
    "\n",
    "B. $62\\ \\text{m}$\n",
    "\n",
    "C. $105\\ \\text{m}$\n",
    "\n",
    "D. $134\\ \\text{m}$"
   ]
  },
  {
   "cell_type": "markdown",
   "metadata": {},
   "source": [
    "**Solución:** C."
   ]
  },
  {
   "cell_type": "markdown",
   "metadata": {},
   "source": [
    "**2. ¿A cuáles tiempos la pelota se encuentra a una altura de $80\\ \\text{m}$ con respecto al piso?**\n",
    "\n",
    "**(3 puntos)**"
   ]
  },
  {
   "cell_type": "markdown",
   "metadata": {},
   "source": [
    "A. $1\\ \\text{s}$ y $9\\ \\text{s}$\n",
    "\n",
    "B. $2\\ \\text{s}$ y $8\\ \\text{s}$\n",
    "\n",
    "C. $6\\ \\text{s}$ y $9\\ \\text{s}$\n",
    "\n",
    "B. $7\\ \\text{s}$ y $8\\ \\text{s}$"
   ]
  },
  {
   "cell_type": "markdown",
   "metadata": {},
   "source": [
    "**1ra manera:**"
   ]
  },
  {
   "cell_type": "markdown",
   "metadata": {},
   "source": [
    "Sustituimos cada tiempo en la ecuación hasta encontrar cuáles son los valores que hacen que la altura sea de $80\\ \\text{m}:$"
   ]
  },
  {
   "cell_type": "markdown",
   "metadata": {},
   "source": [
    "Para $t=1$"
   ]
  },
  {
   "cell_type": "markdown",
   "metadata": {},
   "source": [
    "$$h=50(1)-\\dfrac{1}{2}10(1)^2=45$$"
   ]
  },
  {
   "cell_type": "code",
   "execution_count": 24,
   "metadata": {},
   "outputs": [
    {
     "data": {
      "text/plain": [
       "45"
      ]
     },
     "execution_count": 24,
     "metadata": {},
     "output_type": "execute_result"
    }
   ],
   "source": [
    "50*(1)-5*(1)^2"
   ]
  },
  {
   "cell_type": "markdown",
   "metadata": {},
   "source": [
    "Para $t=2$"
   ]
  },
  {
   "cell_type": "markdown",
   "metadata": {},
   "source": [
    "$$h=50(2)-\\dfrac{1}{2}10(2)^2=80$$"
   ]
  },
  {
   "cell_type": "code",
   "execution_count": 25,
   "metadata": {},
   "outputs": [
    {
     "data": {
      "text/plain": [
       "80"
      ]
     },
     "execution_count": 25,
     "metadata": {},
     "output_type": "execute_result"
    }
   ],
   "source": [
    "50*(2)-5*(2)^2"
   ]
  },
  {
   "cell_type": "markdown",
   "metadata": {},
   "source": [
    "Para $t=6$"
   ]
  },
  {
   "cell_type": "markdown",
   "metadata": {},
   "source": [
    "$$h=50(6)-\\dfrac{1}{2}10(6)^2=120$$"
   ]
  },
  {
   "cell_type": "code",
   "execution_count": 26,
   "metadata": {},
   "outputs": [
    {
     "data": {
      "text/plain": [
       "120"
      ]
     },
     "execution_count": 26,
     "metadata": {},
     "output_type": "execute_result"
    }
   ],
   "source": [
    "50*(6)-5*(6)^2"
   ]
  },
  {
   "cell_type": "markdown",
   "metadata": {},
   "source": [
    "Para $t=7$"
   ]
  },
  {
   "cell_type": "markdown",
   "metadata": {},
   "source": [
    "$$h=50(7)-\\dfrac{1}{2}10(7)^2=105$$"
   ]
  },
  {
   "cell_type": "code",
   "execution_count": 27,
   "metadata": {},
   "outputs": [
    {
     "data": {
      "text/plain": [
       "105"
      ]
     },
     "execution_count": 27,
     "metadata": {},
     "output_type": "execute_result"
    }
   ],
   "source": [
    "50*(7)-5*(7)^2"
   ]
  },
  {
   "cell_type": "markdown",
   "metadata": {},
   "source": [
    "Para $t=8$"
   ]
  },
  {
   "cell_type": "markdown",
   "metadata": {},
   "source": [
    "$$h=50(8)-\\dfrac{1}{2}10(8)^2=80$$"
   ]
  },
  {
   "cell_type": "code",
   "execution_count": 28,
   "metadata": {},
   "outputs": [
    {
     "data": {
      "text/plain": [
       "80"
      ]
     },
     "execution_count": 28,
     "metadata": {},
     "output_type": "execute_result"
    }
   ],
   "source": [
    "50*(8)-5*(8)^2"
   ]
  },
  {
   "cell_type": "markdown",
   "metadata": {},
   "source": [
    "Para $t=9$"
   ]
  },
  {
   "cell_type": "markdown",
   "metadata": {},
   "source": [
    "$$h=50(9)-\\dfrac{1}{2}10(9)^2=45$$"
   ]
  },
  {
   "cell_type": "code",
   "execution_count": 29,
   "metadata": {},
   "outputs": [
    {
     "data": {
      "text/plain": [
       "45"
      ]
     },
     "execution_count": 29,
     "metadata": {},
     "output_type": "execute_result"
    }
   ],
   "source": [
    "50*(9)-5*(9)^2"
   ]
  },
  {
   "cell_type": "markdown",
   "metadata": {},
   "source": [
    "**2ra manera:**"
   ]
  },
  {
   "cell_type": "markdown",
   "metadata": {},
   "source": [
    "Simplemente usamos la ecuación y sustituimos los datos que nos dan:"
   ]
  },
  {
   "cell_type": "markdown",
   "metadata": {},
   "source": [
    "$$ 80=50t-\\dfrac{1}{2}10t^2 $$"
   ]
  },
  {
   "cell_type": "markdown",
   "metadata": {},
   "source": [
    "Ésta es una ecuación cuadrática. La manipularemos para poder resolverla."
   ]
  },
  {
   "cell_type": "markdown",
   "metadata": {},
   "source": [
    "$$ 80=50t-5t^2 $$"
   ]
  },
  {
   "cell_type": "markdown",
   "metadata": {},
   "source": [
    "$$ 16=10t-t^2 $$"
   ]
  },
  {
   "cell_type": "markdown",
   "metadata": {},
   "source": [
    "$$ t^2-10t+16=0 $$"
   ]
  },
  {
   "cell_type": "markdown",
   "metadata": {},
   "source": [
    "$$ (t-2)(t-8)=0 $$"
   ]
  },
  {
   "cell_type": "markdown",
   "metadata": {},
   "source": [
    "Entonces, la ecuación cuadrática tiene soluciones $t=2$ y $t=8$, es decir, cuando el tiempo es $0$ y $10\\ \\text{s}$, la papa está a $80\\ \\text{m}$ sobre el piso."
   ]
  },
  {
   "cell_type": "markdown",
   "metadata": {},
   "source": [
    "A. $1\\ \\text{s}$ y $9\\ \\text{s}$\n",
    "\n",
    "B. $2\\ \\text{s}$ y $8\\ \\text{s}$\n",
    "\n",
    "C. $3\\ \\text{s}$ y $12\\ \\text{s}$\n",
    "\n",
    "B. $4\\ \\text{s}$ y $11\\ \\text{s}$"
   ]
  },
  {
   "cell_type": "markdown",
   "metadata": {},
   "source": [
    "**Solución:** B."
   ]
  },
  {
   "cell_type": "markdown",
   "metadata": {},
   "source": [
    "**3. ¿Cuánto tiempo tarda la pelota en regresar al piso después de ser lanzada?**\n",
    "\n",
    "***Pista: ¿Cuál es la altura de la pelota cuando regresa al piso?***\n",
    "\n",
    "**(2 puntos)**"
   ]
  },
  {
   "cell_type": "markdown",
   "metadata": {},
   "source": [
    "A. $5\\ \\text{s}$\n",
    "\n",
    "B. $10\\ \\text{s}$\n",
    "\n",
    "C. $15\\ \\text{s}$\n",
    "\n",
    "D. $20\\ \\text{s}$"
   ]
  },
  {
   "cell_type": "markdown",
   "metadata": {},
   "source": [
    "**1ra manera:**"
   ]
  },
  {
   "cell_type": "markdown",
   "metadata": {},
   "source": [
    "Sustituimos cada tiempo en la ecuación hasta encontrar cuáles son los valores que hacen que la altura sea de $0\\ \\text{m}:$"
   ]
  },
  {
   "cell_type": "markdown",
   "metadata": {},
   "source": [
    "Para $t=5$"
   ]
  },
  {
   "cell_type": "markdown",
   "metadata": {},
   "source": [
    "$$h=50(5)-\\dfrac{1}{2}10(5)^2=125$$"
   ]
  },
  {
   "cell_type": "code",
   "execution_count": 30,
   "metadata": {},
   "outputs": [
    {
     "data": {
      "text/plain": [
       "125"
      ]
     },
     "execution_count": 30,
     "metadata": {},
     "output_type": "execute_result"
    }
   ],
   "source": [
    "50*(5)-5*(5)^2"
   ]
  },
  {
   "cell_type": "markdown",
   "metadata": {},
   "source": [
    "Para $t=10$"
   ]
  },
  {
   "cell_type": "markdown",
   "metadata": {},
   "source": [
    "$$h=50(10)-\\dfrac{1}{2}10(10)^2=0$$"
   ]
  },
  {
   "cell_type": "code",
   "execution_count": 31,
   "metadata": {},
   "outputs": [
    {
     "data": {
      "text/plain": [
       "0"
      ]
     },
     "execution_count": 31,
     "metadata": {},
     "output_type": "execute_result"
    }
   ],
   "source": [
    "50*(10)-5*(10)^2"
   ]
  },
  {
   "cell_type": "markdown",
   "metadata": {},
   "source": [
    "Para $t=15$"
   ]
  },
  {
   "cell_type": "markdown",
   "metadata": {},
   "source": [
    "$$h=50(15)-\\dfrac{1}{2}10(15)^2=-375$$"
   ]
  },
  {
   "cell_type": "code",
   "execution_count": 32,
   "metadata": {},
   "outputs": [
    {
     "data": {
      "text/plain": [
       "-375"
      ]
     },
     "execution_count": 32,
     "metadata": {},
     "output_type": "execute_result"
    }
   ],
   "source": [
    "50*(15)-5*(15)^2"
   ]
  },
  {
   "cell_type": "markdown",
   "metadata": {},
   "source": [
    "Para $t=20$"
   ]
  },
  {
   "cell_type": "markdown",
   "metadata": {},
   "source": [
    "$$h=50(20)-\\dfrac{1}{2}10(20)^2=-1000$$"
   ]
  },
  {
   "cell_type": "code",
   "execution_count": 33,
   "metadata": {},
   "outputs": [
    {
     "data": {
      "text/plain": [
       "-1000"
      ]
     },
     "execution_count": 33,
     "metadata": {},
     "output_type": "execute_result"
    }
   ],
   "source": [
    "50*(20)-5*(20)^2"
   ]
  },
  {
   "cell_type": "markdown",
   "metadata": {},
   "source": [
    "**2ra manera:**"
   ]
  },
  {
   "cell_type": "markdown",
   "metadata": {},
   "source": [
    "Simplemente usamos la ecuación y sustituimos los datos que nos dan:"
   ]
  },
  {
   "cell_type": "markdown",
   "metadata": {},
   "source": [
    "$$ 0=50t-\\dfrac{1}{2}10t^2 $$"
   ]
  },
  {
   "cell_type": "markdown",
   "metadata": {},
   "source": [
    "Ésta es una ecuación cuadrática. La manipularemos para poder resolverla."
   ]
  },
  {
   "cell_type": "markdown",
   "metadata": {},
   "source": [
    "$$ 0=50t-5t^2 $$"
   ]
  },
  {
   "cell_type": "markdown",
   "metadata": {},
   "source": [
    "$$ 0=10t-t^2 $$"
   ]
  },
  {
   "cell_type": "markdown",
   "metadata": {},
   "source": [
    "$$ t^2-10t=0 $$"
   ]
  },
  {
   "cell_type": "markdown",
   "metadata": {},
   "source": [
    "$$ t(t-10)=0 $$"
   ]
  },
  {
   "cell_type": "markdown",
   "metadata": {},
   "source": [
    "Entonces, la ecuación cuadrática tiene soluciones $t=0$ y $t=10$, es decir, cuando el tiempo es $0$ y $10\\ \\text{s}$, la papa está sobre el piso."
   ]
  },
  {
   "cell_type": "markdown",
   "metadata": {},
   "source": [
    "A. $5\\ \\text{s}$\n",
    "\n",
    "B. $10\\ \\text{s}$\n",
    "\n",
    "C. $15\\ \\text{s}$\n",
    "\n",
    "D. $20\\ \\text{s}$"
   ]
  },
  {
   "cell_type": "markdown",
   "metadata": {},
   "source": [
    "**Solución:** B."
   ]
  },
  {
   "cell_type": "markdown",
   "metadata": {},
   "source": [
    "**4. Si la papa alcanza su altura máxima a la mitad del tiempo que tarda en regresar al piso, ¿cuál es el valor de dicha altura?**\n",
    "\n",
    "**(2 puntos)**"
   ]
  },
  {
   "cell_type": "markdown",
   "metadata": {},
   "source": [
    "A. $0\\ \\text{m}$\n",
    "\n",
    "B. $93.75\\ \\text{m}$\n",
    "\n",
    "C. $125\\ \\text{m}$\n",
    "\n",
    "D. No se puede saber."
   ]
  },
  {
   "cell_type": "markdown",
   "metadata": {},
   "source": [
    "Como ya sabemos que la papa tarda $10\\ \\text{s}$ en volver al piso, su altura máxima sucede a la mitad de este tiempo."
   ]
  },
  {
   "cell_type": "markdown",
   "metadata": {},
   "source": [
    "$$h=50(5)-\\dfrac{1}{2}10(5)^2=125$$"
   ]
  },
  {
   "cell_type": "markdown",
   "metadata": {},
   "source": [
    "A. $0\\ \\text{m}$\n",
    "\n",
    "B. $93.75\\ \\text{m}$\n",
    "\n",
    "C. $125\\ \\text{m}$\n",
    "\n",
    "D. No se puede saber."
   ]
  },
  {
   "cell_type": "markdown",
   "metadata": {},
   "source": [
    "**Solución:** C."
   ]
  },
  {
   "cell_type": "markdown",
   "metadata": {},
   "source": [
    "## Situación 2: Pequeño hotel"
   ]
  },
  {
   "cell_type": "markdown",
   "metadata": {},
   "source": [
    "**Durante una escuela de verano de matemáticas con sede en el Instituto de Matemáticas de la UNAM, el comité organizador decide reservar habitaciones de un pequeño hotel sobre Copilco. En éste hay un total de $76$ camas individuales distribuidas en $48$ habitaciones dobles y sencillas.**"
   ]
  },
  {
   "cell_type": "markdown",
   "metadata": {},
   "source": [
    "**5. Si usamos las letras $x$ y $y$ para representar el número de habitaciones sencillas y dobles, respectivamente, ¿cuál de los siguientes sistemas de ecuaciones representa la información sobre el hotel?**\n",
    "\n",
    "**(2 puntos)**"
   ]
  },
  {
   "cell_type": "markdown",
   "metadata": {},
   "source": [
    "A. $\\begin{cases}x+y=76\\\\x+2y=48\\end{cases}$\n",
    "\n",
    "B. $\\begin{cases}x+2y=76\\\\2x+y=48\\end{cases}$\n",
    "\n",
    "C. $\\begin{cases}x+2y=76\\\\x+y=48\\end{cases}$\n",
    "\n",
    "D. $\\begin{cases}2x+2y=76\\\\x+y=48\\end{cases}$"
   ]
  },
  {
   "cell_type": "markdown",
   "metadata": {},
   "source": [
    "Como hay 48 habitaciones, esto tiene que ser la suma de los dos tipos de habitaciones:\n",
    "\n",
    "$$ x+y=48 $$"
   ]
  },
  {
   "cell_type": "markdown",
   "metadata": {},
   "source": [
    "En las habitaciones sencillas hay sólo una cama por lo que, si hay $x$ habitaciones sencillas, hay $1\\cdot x$ camas.\n",
    "\n",
    "En las habitaciones dobles hay dos camas por lo que, si hay $y$ habitaciones dobles, hay $2\\cdot y$ camas.\n",
    "\n",
    "En total\n",
    "\n",
    "$$ x+2y=76 $$"
   ]
  },
  {
   "cell_type": "markdown",
   "metadata": {},
   "source": [
    "A. $\\begin{cases}x+y=76\\\\x+2y=48\\end{cases}$\n",
    "\n",
    "B. $\\begin{cases}x+2y=76\\\\2x+y=48\\end{cases}$\n",
    "\n",
    "C. $\\begin{cases}x+2y=76\\\\x+y=48\\end{cases}$\n",
    "\n",
    "D. $\\begin{cases}2x+2y=76\\\\x+y=48\\end{cases}$"
   ]
  },
  {
   "cell_type": "markdown",
   "metadata": {},
   "source": [
    "**Solución:** C."
   ]
  },
  {
   "cell_type": "markdown",
   "metadata": {},
   "source": [
    "**6. ¿Cuál es la cantidad de habitaciones sencillas en el hotel?**\n",
    "\n",
    "**(2 puntos)**"
   ]
  },
  {
   "cell_type": "markdown",
   "metadata": {},
   "source": [
    "A. 44\n",
    "\n",
    "B. 36\n",
    "\n",
    "C. 28\n",
    "\n",
    "D. 20"
   ]
  },
  {
   "cell_type": "markdown",
   "metadata": {},
   "source": [
    "Esto se hace resolviendo el sistema de ecuaciones. Con regla de Cramer (determinantes) esto sería"
   ]
  },
  {
   "cell_type": "markdown",
   "metadata": {},
   "source": [
    "$$ \\Delta=\\begin{pmatrix} 1&2\\\\1&1\\end{pmatrix}=+(1)(1)-(1)(2)=-1 $$"
   ]
  },
  {
   "cell_type": "markdown",
   "metadata": {},
   "source": [
    "$$ \\Delta_x=\\begin{pmatrix} 76&2\\\\48&1\\end{pmatrix}=+(76)(1)-(2)(48)=76-96=-20 $$"
   ]
  },
  {
   "cell_type": "markdown",
   "metadata": {},
   "source": [
    "$$ x=\\dfrac{\\Delta_x}{\\Delta}=20 $$"
   ]
  },
  {
   "cell_type": "markdown",
   "metadata": {},
   "source": [
    "A. 44\n",
    "\n",
    "B. 36\n",
    "\n",
    "C. 28\n",
    "\n",
    "D. 20"
   ]
  },
  {
   "cell_type": "markdown",
   "metadata": {},
   "source": [
    "**Solución:** D."
   ]
  },
  {
   "cell_type": "markdown",
   "metadata": {},
   "source": [
    "**7. Si el comité organizador reserva $75\\%$ de las habitaciones dobles, ¿cuántos estudiantes foráneos se espera recibir en la escuela de verano?**\n",
    "\n",
    "***Pista: Recuerden que para obtener el porcentaje de una cantidad es equivalente a multiplicar por el porcentaje y dividir entre $100$.***\n",
    "\n",
    "**(3 puntos)**"
   ]
  },
  {
   "cell_type": "markdown",
   "metadata": {},
   "source": [
    "A. 56\n",
    "\n",
    "B. 42\n",
    "\n",
    "C. 28\n",
    "\n",
    "D. 21"
   ]
  },
  {
   "cell_type": "markdown",
   "metadata": {},
   "source": [
    "Esto se hace resolviendo el sistema de ecuaciones. Con regla de Cramer (determinantes) esto sería"
   ]
  },
  {
   "cell_type": "markdown",
   "metadata": {},
   "source": [
    "$$ \\Delta_y=\\begin{pmatrix} 1&76\\\\1&48\\end{pmatrix}=+(1)(48)-(1)(76)=48-76=-28 $$"
   ]
  },
  {
   "cell_type": "markdown",
   "metadata": {},
   "source": [
    "$$ y=\\dfrac{\\Delta_y}{\\Delta}=28 $$"
   ]
  },
  {
   "cell_type": "markdown",
   "metadata": {},
   "source": [
    "Entonces, hay 28 habitaciones dobles. Para obtener el número de habitaciones reservadas hacemos"
   ]
  },
  {
   "cell_type": "markdown",
   "metadata": {},
   "source": [
    "$$ \\dfrac{28\\cdot75}{100}=21 $$"
   ]
  },
  {
   "cell_type": "markdown",
   "metadata": {},
   "source": [
    "Pero en cada habitación doble caben dos personas por lo que el número total de estudiantes que se espera recibir debe ser $2\\cdot21=42$."
   ]
  },
  {
   "cell_type": "markdown",
   "metadata": {},
   "source": [
    "A. 56\n",
    "\n",
    "B. 42\n",
    "\n",
    "C. 28\n",
    "\n",
    "D. 21"
   ]
  },
  {
   "cell_type": "markdown",
   "metadata": {},
   "source": [
    "**Solución:** B."
   ]
  },
  {
   "cell_type": "markdown",
   "metadata": {},
   "source": [
    "**8. Debido a que la escuela de verano aumentó sus reservaciones, deciden realizar una remodelación de sus habitaciones. Si a diez de las habitaciones dobles se les agrega una cama para convertirlas en habitaciones triples, ¿cuál de las siguientes ecuaciones representa esta información? Estamos usando $z$ para representar el número de habitaciones triples.**\n",
    "\n",
    "**(2 puntos)**"
   ]
  },
  {
   "cell_type": "markdown",
   "metadata": {},
   "source": [
    "A. $x+2y+3z=48$\n",
    "\n",
    "B. $x+y+z=76$\n",
    "\n",
    "C. $x+2y+3z=58$\n",
    "\n",
    "D. $x+y+3z=86$"
   ]
  },
  {
   "cell_type": "markdown",
   "metadata": {},
   "source": [
    "Como sólo se agregan $10$ camas, el número de habitaciones totales debe mantener se igual por lo que"
   ]
  },
  {
   "cell_type": "markdown",
   "metadata": {},
   "source": [
    "$$ x+y+z=48 $$"
   ]
  },
  {
   "cell_type": "markdown",
   "metadata": {},
   "source": [
    "Como sólo se agregan $10$ camas, el número de camas totales debe aumentar en 10 y ahora debemos tener $1\\cdot x$ camas para las habitaciones individuales, $2\\cdot y$ camas para las habitaciones dobles, y $3\\cdot z$ camas para la habitaciones triples, dando un total de"
   ]
  },
  {
   "cell_type": "markdown",
   "metadata": {},
   "source": [
    "$$ x+2y+3z=86 $$"
   ]
  },
  {
   "cell_type": "markdown",
   "metadata": {},
   "source": [
    "A. $x+2y+3z=86$\n",
    "\n",
    "B. $x+y+z=48$\n",
    "\n",
    "C. $x+2y+3z=58$\n",
    "\n",
    "D. $x+y+3z=76$"
   ]
  },
  {
   "cell_type": "markdown",
   "metadata": {},
   "source": [
    "**Solución:** A. y B."
   ]
  },
  {
   "cell_type": "markdown",
   "metadata": {},
   "source": [
    "## Situación 3: Dinero ahorrado"
   ]
  },
  {
   "cell_type": "markdown",
   "metadata": {},
   "source": [
    "**Víctor tiene un \"guardadito\" en su alcancía. El día que rompe el cochinito usa la mitad del dinero ahorrado para comprarse un nuevo celular y una tercera del dinero ahorrado se lo presta a su hermana. Cuando hace cuentas se percata que sólo le quedan $\\$1395.$**"
   ]
  },
  {
   "cell_type": "markdown",
   "metadata": {},
   "source": [
    "**9. ¿Cuánto dinero tenía Víctor ahorrado en su \"guardadito\"?**\n",
    "\n",
    "**(2 puntos)**"
   ]
  },
  {
   "cell_type": "markdown",
   "metadata": {},
   "source": [
    "A. $\\$12555$\n",
    "\n",
    "B. $\\$8370$\n",
    "\n",
    "C. $\\$5580$\n",
    "\n",
    "D. $\\$4185$"
   ]
  },
  {
   "cell_type": "markdown",
   "metadata": {},
   "source": [
    "Pensemos que al principio Víctor tenía $x$ dinero ahorrado."
   ]
  },
  {
   "cell_type": "markdown",
   "metadata": {},
   "source": [
    "Entonces, gasta $\\dfrac{x}{2}$ en el celular y presta $\\dfrac{x}{3}$ dinero a su hermana. Como sabemos cuánto dinero le sobra obtenemos la ecuación"
   ]
  },
  {
   "cell_type": "markdown",
   "metadata": {},
   "source": [
    "$$ x-\\dfrac{x}{2}-\\dfrac{x}{3}=1395 $$"
   ]
  },
  {
   "cell_type": "markdown",
   "metadata": {},
   "source": [
    "Multiplicamos toda la ecuación por 6 para quitar los denominadores con lo que obtenemos"
   ]
  },
  {
   "cell_type": "markdown",
   "metadata": {},
   "source": [
    "$$ 6x-3x-2x=8370 $$"
   ]
  },
  {
   "cell_type": "markdown",
   "metadata": {},
   "source": [
    "$$ x=8370 $$"
   ]
  },
  {
   "cell_type": "markdown",
   "metadata": {},
   "source": [
    "Entonces tenía $\\$8370$ ahorrados."
   ]
  },
  {
   "cell_type": "markdown",
   "metadata": {},
   "source": [
    "A. $\\$12555$\n",
    "\n",
    "B. $\\$8370$\n",
    "\n",
    "C. $\\$5580$\n",
    "\n",
    "D. $\\$4185$"
   ]
  },
  {
   "cell_type": "markdown",
   "metadata": {},
   "source": [
    "**Solución:** B."
   ]
  },
  {
   "cell_type": "markdown",
   "metadata": {},
   "source": [
    "**10. Si la tienda donde compró los celulares tiene una promoción de $3\\times2$, ¿cuánto costaría comprar esos tres celulares con la promoción?**\n",
    "\n",
    "**(3 puntos)**"
   ]
  },
  {
   "cell_type": "markdown",
   "metadata": {},
   "source": [
    "A. $\\$12555$\n",
    "\n",
    "B. $\\$8370$\n",
    "\n",
    "C. $\\$5580$\n",
    "\n",
    "D. $\\$4185$"
   ]
  },
  {
   "cell_type": "markdown",
   "metadata": {},
   "source": [
    "Como un celular cuesta $\\dfrac{x}{2}=\\dfrac{8370}{2}=4185$ pero la promoción dice \"llévate tres y paga dos\", el total es $2\\cdot4185$, es decir, nuevamente $\\$8370$."
   ]
  },
  {
   "cell_type": "markdown",
   "metadata": {},
   "source": [
    "A. $\\$12555$\n",
    "\n",
    "B. $\\$8370$\n",
    "\n",
    "C. $\\$5580$\n",
    "\n",
    "D. $\\$4185$"
   ]
  },
  {
   "cell_type": "markdown",
   "metadata": {},
   "source": [
    "**Solución:** B."
   ]
  },
  {
   "cell_type": "markdown",
   "metadata": {},
   "source": [
    "**11. Si su hermana le paga el dinero prestado junto con el $10\\%$ extra como agradecimiento, ¿cuánto le regresa en total?**\n",
    "\n",
    "***Pista: Recuerden que obtener el porcentaje de una cantidad es equivalente a multiplicar por el porcentaje y dividir entre $100$.***\n",
    "\n",
    "**(2 puntos)**"
   ]
  },
  {
   "cell_type": "markdown",
   "metadata": {},
   "source": [
    "A. $\\$4464$\n",
    "\n",
    "B. $\\$3069$\n",
    "\n",
    "C. $\\$2800$\n",
    "\n",
    "D. $\\$1674$"
   ]
  },
  {
   "cell_type": "markdown",
   "metadata": {},
   "source": [
    "Como un celular cuesta $\\dfrac{x}{3}=\\dfrac{8370}{3}=2790$ y el $10\\%$ de esta cantidad es"
   ]
  },
  {
   "cell_type": "markdown",
   "metadata": {},
   "source": [
    "$$ \\dfrac{2790\\cdot10}{100}=279 $$"
   ]
  },
  {
   "cell_type": "markdown",
   "metadata": {},
   "source": [
    "Entonces, el total que le regresa su hermana es $\\$2790+\\$279=\\$3069$"
   ]
  },
  {
   "cell_type": "markdown",
   "metadata": {},
   "source": [
    "A. $\\$4464$\n",
    "\n",
    "B. $\\$3069$\n",
    "\n",
    "C. $\\$2800$\n",
    "\n",
    "D. $\\$1674$"
   ]
  },
  {
   "cell_type": "markdown",
   "metadata": {},
   "source": [
    "**Solución:** B."
   ]
  },
  {
   "cell_type": "markdown",
   "metadata": {},
   "source": [
    "## Situación 4: Despejes"
   ]
  },
  {
   "cell_type": "markdown",
   "metadata": {},
   "source": [
    "**Consideremos la siguiente ecuación**"
   ]
  },
  {
   "cell_type": "markdown",
   "metadata": {},
   "source": [
    "$$ -5x^2+24+7x^2z=2\\cdot10^y $$"
   ]
  },
  {
   "cell_type": "markdown",
   "metadata": {},
   "source": [
    "**12. Despeja $z$.**\n",
    "\n",
    "**(2 puntos)**"
   ]
  },
  {
   "cell_type": "markdown",
   "metadata": {},
   "source": [
    "A. $ z=\\dfrac{2\\cdot10^y+5x^2-24}{7x^2} $\n",
    "\n",
    "B. $ z=20^y+5x^2-24-7x^2 $\n",
    "\n",
    "C. $ z=\\dfrac{20^y-24}{2x^2} $\n",
    "\n",
    "D. $ z=\\dfrac{2\\cdot10^y}{5x^2-24-7x^2} $"
   ]
  },
  {
   "cell_type": "markdown",
   "metadata": {},
   "source": [
    "$$ -5x^2+24+7x^2z=2\\cdot10^y $$"
   ]
  },
  {
   "cell_type": "markdown",
   "metadata": {},
   "source": [
    "$$ 7x^2z=2\\cdot10^y+5x^2-24 $$"
   ]
  },
  {
   "cell_type": "markdown",
   "metadata": {},
   "source": [
    "$$ z=\\dfrac{2\\cdot10^y+5x^2-24}{7x^2} $$"
   ]
  },
  {
   "cell_type": "markdown",
   "metadata": {},
   "source": [
    "A. $ z=\\dfrac{2\\cdot10^y+5x^2-24}{7x^2} $\n",
    "\n",
    "B. $ z=20^y+5x^2-24-7x^2 $\n",
    "\n",
    "C. $ z=\\dfrac{20^y-24}{2x^2} $\n",
    "\n",
    "D. $ z=\\dfrac{2\\cdot10^y}{5x^2-24-7x^2} $"
   ]
  },
  {
   "cell_type": "markdown",
   "metadata": {},
   "source": [
    "**Solución:** A."
   ]
  },
  {
   "cell_type": "markdown",
   "metadata": {},
   "source": [
    "**13. Despeja $y$.**\n",
    "\n",
    "**(2 puntos)**"
   ]
  },
  {
   "cell_type": "markdown",
   "metadata": {},
   "source": [
    "A. $ y=\\log_{10}\\left(\\dfrac{-5x^2+24+7x^2z}{2}\\right) $\n",
    "\n",
    "B. $ y=\\log_{2}\\left(\\dfrac{-5x^2+24+7x^2z}{10}\\right) $\n",
    "\n",
    "C. $ y=\\log_{20}\\left(-5x^2+24+7x^2z\\right) $\n",
    "\n",
    "D. $ y=\\log_{20}\\left(\\dfrac{-5x^2+24+7x^2z}{20}\\right) $"
   ]
  },
  {
   "cell_type": "markdown",
   "metadata": {},
   "source": [
    "$$ -5x^2+24+7x^2z=2\\cdot10^y $$"
   ]
  },
  {
   "cell_type": "markdown",
   "metadata": {},
   "source": [
    "$$ \\dfrac{-5x^2+24+7x^2z}{2}=10^y $$"
   ]
  },
  {
   "cell_type": "markdown",
   "metadata": {},
   "source": [
    "$$ \\log_{10}\\left(\\dfrac{-5x^2+24+7x^2z}{2}\\right)=y $$"
   ]
  },
  {
   "cell_type": "markdown",
   "metadata": {},
   "source": [
    "A. $ y=\\log_{10}\\left(\\dfrac{-5x^2+24+7x^2z}{2}\\right) $\n",
    "\n",
    "B. $ y=\\log_{2}\\left(\\dfrac{-5x^2+24+7x^2z}{10}\\right) $\n",
    "\n",
    "C. $ y=\\log_{20}\\left(-5x^2+24+7x^2z\\right) $\n",
    "\n",
    "D. $ y=\\log_{20}\\left(\\dfrac{-5x^2+24+7x^2z}{20}\\right) $"
   ]
  },
  {
   "cell_type": "markdown",
   "metadata": {},
   "source": [
    "**Solución:** A."
   ]
  },
  {
   "cell_type": "markdown",
   "metadata": {},
   "source": [
    "**14. Despeja $x$.**\n",
    "\n",
    "**(3 puntos)**"
   ]
  },
  {
   "cell_type": "markdown",
   "metadata": {},
   "source": [
    "A. $ x=\\sqrt{20^y-29+7z} $\n",
    "\n",
    "B. $ x=\\left(\\dfrac{2\\cdot10^y-24}{7z-5}\\right)^2 $\n",
    "\n",
    "C. $ x=\\dfrac{20^y-24}{14z-10} $\n",
    "\n",
    "D. $ x=\\sqrt{\\dfrac{2\\cdot10^y-24}{7z-5}} $"
   ]
  },
  {
   "cell_type": "markdown",
   "metadata": {},
   "source": [
    "$$ -5x^2+24+7x^2z=2\\cdot10^y $$"
   ]
  },
  {
   "cell_type": "markdown",
   "metadata": {},
   "source": [
    "$$ -5x^2+7x^2z=2\\cdot10^y-24 $$"
   ]
  },
  {
   "cell_type": "markdown",
   "metadata": {},
   "source": [
    "$$ (7z-5)x^2=2\\cdot10^y-24 $$"
   ]
  },
  {
   "cell_type": "markdown",
   "metadata": {},
   "source": [
    "$$ x^2=\\dfrac{2\\cdot10^y-24}{7z-5} $$"
   ]
  },
  {
   "cell_type": "markdown",
   "metadata": {},
   "source": [
    "$$ x=\\sqrt{\\dfrac{2\\cdot10^y-24}{7z-5}} $$"
   ]
  },
  {
   "cell_type": "markdown",
   "metadata": {},
   "source": [
    "$$ x=\\sqrt{\\dfrac{2\\cdot10^2-24}{7(7)-5}} $$"
   ]
  },
  {
   "cell_type": "markdown",
   "metadata": {},
   "source": [
    "A. $ x=\\sqrt{20^y-29+7z} $\n",
    "\n",
    "B. $ x=\\left(\\dfrac{2\\cdot10^y-24}{7z-5}\\right)^2 $\n",
    "\n",
    "C. $ x=\\dfrac{20^y-24}{14z-10} $\n",
    "\n",
    "D. $ x=\\sqrt{\\dfrac{2\\cdot10^y-24}{7z-5}} $"
   ]
  },
  {
   "cell_type": "markdown",
   "metadata": {},
   "source": [
    "**Solución:** D."
   ]
  },
  {
   "cell_type": "markdown",
   "metadata": {},
   "source": [
    "**15. ¿Cuál es el valor de $x$ cuando $y=2$ y $z=7$?**"
   ]
  },
  {
   "cell_type": "markdown",
   "metadata": {},
   "source": [
    "A. $ 2\\sqrt{105} $\n",
    "\n",
    "B. $ 16 $\n",
    "\n",
    "C. $ \\dfrac{89}{44} $\n",
    "\n",
    "D. $ 2 $"
   ]
  },
  {
   "cell_type": "markdown",
   "metadata": {},
   "source": [
    "$$ x=\\sqrt{\\dfrac{2\\cdot10^y-24}{7z-5}} $$"
   ]
  },
  {
   "cell_type": "markdown",
   "metadata": {},
   "source": [
    "$$ x=\\sqrt{\\dfrac{2\\cdot10^2-24}{7(7)-5}} $$"
   ]
  },
  {
   "cell_type": "markdown",
   "metadata": {},
   "source": [
    "A. $ 2\\sqrt{105} $\n",
    "\n",
    "B. $ 16 $\n",
    "\n",
    "C. $ \\dfrac{89}{44} $\n",
    "\n",
    "D. $ 2 $"
   ]
  },
  {
   "cell_type": "markdown",
   "metadata": {},
   "source": [
    "**Solución:** D."
   ]
  },
  {
   "cell_type": "markdown",
   "metadata": {},
   "source": [
    "| Problema | Respuesta | Puntaje | Problema | Respuesta | Puntaje |\n",
    "|----------|-----------|---------|----------|-----------|---------|\n",
    "| 1        | C         | 2       | 9        | B         | 2       |\n",
    "| 2        | B         | 3       | 10       | B         | 3       |\n",
    "| 3        | B         | 2       | 11       | B         | 2       |\n",
    "| 4        | C         | 2       | 12       | A         | 2       |\n",
    "| 5        | C         | 2       | 13       | A         | 2       |\n",
    "| 6        | D         | 2       | 14       | D         | 3       |\n",
    "| 7        | B         | 3       | 15       | D         | 2       |\n",
    "| 8        | A y B        | 2       | $ $      | $ $       | $ $     |"
   ]
  }
 ],
 "metadata": {
  "@webio": {
   "lastCommId": null,
   "lastKernelId": null
  },
  "kernelspec": {
   "display_name": "Julia 1.1.0",
   "language": "julia",
   "name": "julia-1.1"
  },
  "language_info": {
   "file_extension": ".jl",
   "mimetype": "application/julia",
   "name": "julia",
   "version": "1.1.0"
  }
 },
 "nbformat": 4,
 "nbformat_minor": 2
}
