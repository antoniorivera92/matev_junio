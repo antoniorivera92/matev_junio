{
 "cells": [
  {
   "cell_type": "markdown",
   "metadata": {},
   "source": [
    "# Geometría analítica"
   ]
  },
  {
   "cell_type": "markdown",
   "metadata": {},
   "source": [
    "# Clase 8"
   ]
  },
  {
   "cell_type": "markdown",
   "metadata": {},
   "source": [
    "## Cónicas"
   ]
  },
  {
   "cell_type": "markdown",
   "metadata": {},
   "source": [
    "Las cónicas son:\n",
    "* circunferencia\n",
    "* elipse\n",
    "* parábola\n",
    "* hipérbola"
   ]
  },
  {
   "cell_type": "markdown",
   "metadata": {},
   "source": [
    "<img src=\"conicas.png\" align=\"middle\" width=\"700\">"
   ]
  },
  {
   "cell_type": "markdown",
   "metadata": {},
   "source": [
    "<img src=\"conic_sections.gif\" align=\"middle\" width=\"700\">"
   ]
  },
  {
   "cell_type": "markdown",
   "metadata": {},
   "source": [
    "<img src=\"conics_wolfram.gif\" align=\"middle\" width=\"500\">"
   ]
  },
  {
   "cell_type": "markdown",
   "metadata": {},
   "source": [
    "### Elementos importantes"
   ]
  },
  {
   "cell_type": "markdown",
   "metadata": {},
   "source": [
    "* **Circunferencia:** centro, radio\n",
    "* **Parábola:** foco, vértice, lado recto, directriz\n",
    "* **Elipse:** focos, centro, semieje mayor y menor"
   ]
  },
  {
   "cell_type": "markdown",
   "metadata": {},
   "source": [
    "### Circunferencia"
   ]
  },
  {
   "cell_type": "markdown",
   "metadata": {},
   "source": [
    "Empecemos con la definición:\n",
    "\n",
    "*La circunferencia es el conjunto de los puntos del plano que equidistan (tienen la misma distancia) de un punto fijo llamado centro.*"
   ]
  },
  {
   "cell_type": "markdown",
   "metadata": {},
   "source": [
    "* ***Ejemplo:*** Pensemos en el origen $P_0=(0,0)$ y todos los puntos que se encuentren a una distancia de $5$ de éste. Es bastante obvio que los puntos $P_1=(0,5)$, $P_2=(5,0)$, $P_3=(-5,0)$ y $P_4=(0,-5)$ se encuentran a esta distancia del origen. ¿Cuáles otros puntos cumplen estar a una distancia de $5$?"
   ]
  },
  {
   "cell_type": "markdown",
   "metadata": {},
   "source": [
    "Otro punto es el $P_5(3,4)$."
   ]
  },
  {
   "cell_type": "markdown",
   "metadata": {},
   "source": [
    "$$ d(P_0,P_5)=\\overline{P_0P_5}=\\sqrt{(x_1-x_2)^2+(y_1-y_2)^2}=\\sqrt{(0-3)^2+(0-4)^2}=5 $$"
   ]
  },
  {
   "cell_type": "markdown",
   "metadata": {},
   "source": [
    "Otro punto **NO** es el $P_6(8,3)$."
   ]
  },
  {
   "cell_type": "markdown",
   "metadata": {},
   "source": [
    "$$ d(P_0,P_6)=\\overline{P_0P_6}=\\sqrt{(x_1-x_2)^2+(y_1-y_2)^2}=\\sqrt{(0-8)^2+(0-3)^2}\\neq5 $$"
   ]
  },
  {
   "cell_type": "markdown",
   "metadata": {},
   "source": [
    "Usamos un punto general: $P(x,y)$."
   ]
  },
  {
   "cell_type": "markdown",
   "metadata": {},
   "source": [
    "$$ d(P_0,P)=\\overline{P_0P}=\\sqrt{(x_1-x_2)^2+(y_1-y_2)^2}=\\sqrt{(0-x)^2+(0-y)^2}=\\sqrt{x^2+y^2}=5 $$"
   ]
  },
  {
   "cell_type": "markdown",
   "metadata": {},
   "source": [
    "<img src=\"ej_circ.png\" align=\"middle\" width=\"800\">"
   ]
  },
  {
   "cell_type": "markdown",
   "metadata": {},
   "source": [
    "$$ \\circledast $$"
   ]
  },
  {
   "cell_type": "markdown",
   "metadata": {},
   "source": [
    "#### Ecuación ordinaria de la circunferencia"
   ]
  },
  {
   "cell_type": "markdown",
   "metadata": {},
   "source": [
    "La ecuación de una circunferencia con centro $C(h,k)$ y radio $r$ será"
   ]
  },
  {
   "cell_type": "markdown",
   "metadata": {},
   "source": [
    "$$ (x-h)^2+(y-k)^2=r^2 $$"
   ]
  },
  {
   "cell_type": "markdown",
   "metadata": {},
   "source": [
    "A esta forma de la ecuación de la circunferencia se le conoce como *forma ordinaria*."
   ]
  },
  {
   "cell_type": "markdown",
   "metadata": {},
   "source": [
    "Aquí podemos revisar una imagen de la circunferencia:\n",
    "\n",
    "https://www.desmos.com/calculator/vwcn6su7n7?lang=es"
   ]
  },
  {
   "cell_type": "markdown",
   "metadata": {},
   "source": [
    "* ***Ejemplo:*** ¿Cuál es la ecuación (ordinaria) de la circunferencia con centro en $(2,-4)$ y radio $3$?"
   ]
  },
  {
   "cell_type": "markdown",
   "metadata": {},
   "source": [
    "$$ (x-h)^2+(y-k)^2=r^2 $$"
   ]
  },
  {
   "cell_type": "markdown",
   "metadata": {},
   "source": [
    "$$ (x-2)^2+(y-(-4))^2=3^2 $$"
   ]
  },
  {
   "cell_type": "markdown",
   "metadata": {},
   "source": [
    "$$ (x-2)^2+(y+4)^2=9 $$"
   ]
  },
  {
   "cell_type": "markdown",
   "metadata": {},
   "source": [
    "$$ \\circledast $$"
   ]
  },
  {
   "cell_type": "markdown",
   "metadata": {},
   "source": [
    "#### Ecuación general de la circunferencia"
   ]
  },
  {
   "cell_type": "markdown",
   "metadata": {},
   "source": [
    "La ecuación general de una circunferencia es\n",
    "\\begin{equation}\n",
    " Ax^2+Cy^2+Dx+Ey+F=0\\ ,\n",
    "\\end{equation}\n",
    "con $A=C$."
   ]
  },
  {
   "cell_type": "markdown",
   "metadata": {},
   "source": [
    "* ***Ejemplo:*** Expresa la ecuación del ejemplo anterior en la forma general."
   ]
  },
  {
   "cell_type": "markdown",
   "metadata": {},
   "source": [
    "$$ (x-2)^2+(y+4)^2=9 $$"
   ]
  },
  {
   "cell_type": "markdown",
   "metadata": {},
   "source": [
    "$$ (x-2)^2+(y+4)^2-9=0 $$"
   ]
  },
  {
   "cell_type": "markdown",
   "metadata": {},
   "source": [
    "$$ (x^2-2x-2x+4)+(y^2+4y+4y+16)-9=0 $$"
   ]
  },
  {
   "cell_type": "markdown",
   "metadata": {},
   "source": [
    "$$ x^2+y^2-4x+8y+11=0 $$"
   ]
  },
  {
   "cell_type": "markdown",
   "metadata": {},
   "source": [
    "$$ \\circledast $$"
   ]
  },
  {
   "cell_type": "markdown",
   "metadata": {},
   "source": [
    "#### ¿Cómo obtener la ecuación ordinaria de la circunferencia a partir de la forma general?"
   ]
  },
  {
   "cell_type": "markdown",
   "metadata": {},
   "source": [
    "1. Agrupamos los términos de $x$ y de $y$ por separado."
   ]
  },
  {
   "cell_type": "markdown",
   "metadata": {},
   "source": [
    "* ***Ejemplo:*** Obtenga el centro y el radio de la circunferencia $$x^2+y^2+2x+6y-33=0\\ .$$"
   ]
  },
  {
   "cell_type": "markdown",
   "metadata": {},
   "source": [
    "$$ x^2+y^2+2x+6y-33=0 $$"
   ]
  },
  {
   "cell_type": "markdown",
   "metadata": {},
   "source": [
    "$$ (x^2+2x)+(y^2+6y)-33=0 $$"
   ]
  },
  {
   "cell_type": "markdown",
   "metadata": {},
   "source": [
    "$$ (x^2+2x+1-1)+(y^2+6y+9-9)-33=0 $$"
   ]
  },
  {
   "cell_type": "markdown",
   "metadata": {},
   "source": [
    "$$ (x^2+2x+1)+(y^2+6y+9)-33-1-9=0 $$"
   ]
  },
  {
   "cell_type": "markdown",
   "metadata": {},
   "source": [
    "$$ (x+1)^2+(y+3)^2-43=0 $$"
   ]
  },
  {
   "cell_type": "markdown",
   "metadata": {},
   "source": [
    "$$ (x+1)^2+(y+3)^2=43$$"
   ]
  },
  {
   "cell_type": "markdown",
   "metadata": {},
   "source": [
    "$$ (x+1)^2+(y+3)^2=(\\sqrt{43})^2$$"
   ]
  },
  {
   "cell_type": "markdown",
   "metadata": {},
   "source": [
    "Comparando con la ecuación ordinaria de la circunferencia"
   ]
  },
  {
   "cell_type": "markdown",
   "metadata": {},
   "source": [
    "$$ (x-h)^2+(y-k)^2=r^2 $$"
   ]
  },
  {
   "cell_type": "markdown",
   "metadata": {},
   "source": [
    "obtenemos centro $C(h,k)=C(-1,-3)$ y radio $r=\\sqrt{43}\\approx6.55$."
   ]
  },
  {
   "cell_type": "markdown",
   "metadata": {},
   "source": [
    "$$ \\circledast $$"
   ]
  },
  {
   "cell_type": "markdown",
   "metadata": {},
   "source": [
    "### Parábola"
   ]
  },
  {
   "cell_type": "markdown",
   "metadata": {},
   "source": [
    "Empecemos con la definición:\n",
    "\n",
    "*La parábola es el conjunto de puntos para los cuales la distancia a un punto $F$ (foco) y la distancia a una recta $r$ (directriz) es la misma.*"
   ]
  },
  {
   "cell_type": "markdown",
   "metadata": {},
   "source": [
    "\"La parábola abraza al foco y se aleja de la directriz.\""
   ]
  },
  {
   "cell_type": "markdown",
   "metadata": {},
   "source": [
    "#### Ecuación ordinaria de la parábola"
   ]
  },
  {
   "cell_type": "markdown",
   "metadata": {},
   "source": [
    "La ecuación ordinaria de una parábola vertical es\n",
    "$$ 4p(y-k)=(x-h)^2 $$\n",
    "donde:\n",
    "* el *vértice* es $V(h,k)$\n",
    "* el *foco* es $F(h,k+p)$.\n",
    "    * Si $p$ es positivo la parábola abre hacia arriba.\n",
    "    * Si $p$ es negativo la parábola abre hacia abajo.\n",
    "* la *directriz* es $y=k-p$\n",
    "* la *longitud del lado recto* es $LLP=|4p|$\n",
    "\n",
    "Para visualizar la parábola vertical:\n",
    "\n",
    "https://www.desmos.com/calculator/qdpxz4flrq"
   ]
  },
  {
   "cell_type": "markdown",
   "metadata": {},
   "source": [
    "La ecuación ordinaria de una parábola horizontal es\n",
    "$$ 4p(x-h)=(y-k)^2 $$\n",
    "donde:\n",
    "* el *vértice* es $V(h,k)$\n",
    "* el *foco* es $F(h+p,k)$\n",
    "    * Si $p$ es positivo la parábola abre hacia la derecha.\n",
    "    * Si $p$ es negativo la parábola abre hacia la izquierda.\n",
    "* la *directriz* es $x=h-p$\n",
    "* la *longitud del lado recto* es $LLP=|4p|$\n",
    "\n",
    "Para visualizar la parábola horizontal:\n",
    "\n",
    "https://www.desmos.com/calculator/1whhx8f0z3"
   ]
  },
  {
   "cell_type": "markdown",
   "metadata": {},
   "source": [
    "* ***Ejemplo:*** Encuentre la ecuación de la parábola con vértice en $(0,2)$ y foco $(0,6)$."
   ]
  },
  {
   "cell_type": "markdown",
   "metadata": {},
   "source": [
    "Al dibujar estos puntos en el plano cartesiano sabemos que se trata de una parábola vertical."
   ]
  },
  {
   "cell_type": "markdown",
   "metadata": {},
   "source": [
    "$$ V(h,k)=(0,2)$$\n",
    "* $h=0$\n",
    "* $k=2$"
   ]
  },
  {
   "cell_type": "markdown",
   "metadata": {},
   "source": [
    "$$F(h,k+p)=(0,6)$$\n",
    "* $h=0$\n",
    "* $k+p=6\\ \\Rightarrow p=6-k=6-2=4$"
   ]
  },
  {
   "cell_type": "markdown",
   "metadata": {},
   "source": [
    "La ecuación ordinaria de una parábola vertical es\n",
    "$$ 4p(y-k)=(x-h)^2 $$\n",
    "$$ 4(4)(y-2)=(x-0)^2 $$\n",
    "$$ 16(y-2)=x^2 $$\n",
    "$$ 16y-32=x^2 $$\n",
    "y ecuación general\n",
    "$$ -x^2+16y-32=0 $$\n",
    "donde:\n",
    "* el *vértice* es $V(0,2)$\n",
    "* el *foco* es $F(0,6)$.\n",
    "* la *directriz* es $y=k-p=2-4=-2$\n",
    "* la *longitud del lado recto* es $LLP=|4p|=|4(4)|=16$"
   ]
  },
  {
   "cell_type": "markdown",
   "metadata": {},
   "source": [
    "$$ \\circledast $$"
   ]
  },
  {
   "cell_type": "markdown",
   "metadata": {},
   "source": [
    "#### Ecuación general de la parábola"
   ]
  },
  {
   "cell_type": "markdown",
   "metadata": {},
   "source": [
    "La ecuación general de una parábola es\n",
    "\\begin{equation}\n",
    " Ax^2+Cy^2+Dx+Ey+F=0\\ ,\n",
    "\\end{equation}\n",
    "con $A=0$ ó $C=0$."
   ]
  },
  {
   "cell_type": "markdown",
   "metadata": {},
   "source": [
    "* Si nos dan la ecuación general de una parábola y tiene un término con $x^2$, es una parábola vertical.\n",
    "* Si nos dan la ecuación general de una parábola y tiene un término con $y^2$, es una parábola horizontal."
   ]
  },
  {
   "cell_type": "markdown",
   "metadata": {},
   "source": [
    "1. Agrupamos los términos de la cuadrática.\n",
    "2. Si la variable cuadrática viene acompañada de un coeficiente, lo factorizamos.\n",
    "3. Completamos cuadrados para averiguar que término falta.\n",
    "4. Sumamos y restamos ese término dentro del paréntesis del término cuadrático.\n",
    "5. Reagrupamos para obtener el binomio al cuadrado.\n",
    "6. Pasamos las otras varibles del otro lado de la ecuación.\n",
    "7. Pasamos el coeficiente que factorizamos al término cuadrático del otro lado de la ecuación.\n",
    "8. Factorizamos el coeficiente sobre la variable no cuadrática.\n",
    "9. Dividimos ese coeficiente entre $4$ para encontrar $p$."
   ]
  },
  {
   "cell_type": "markdown",
   "metadata": {},
   "source": [
    "* ***Ejemplo:*** Transforme $$3x^2+12x-9y+3=0$$ a su forma ordinaria."
   ]
  },
  {
   "cell_type": "markdown",
   "metadata": {},
   "source": [
    "$$3x^2+12x-9y+3=0$$"
   ]
  },
  {
   "cell_type": "markdown",
   "metadata": {},
   "source": [
    "$$(3x^2+12x)-9y+3=0$$"
   ]
  },
  {
   "cell_type": "markdown",
   "metadata": {},
   "source": [
    "$$ 3(x^2+4x)-9y+3=0$$"
   ]
  },
  {
   "cell_type": "markdown",
   "metadata": {},
   "source": [
    "$$ 3(x^2+4x+4-4)-9y+3=0$$"
   ]
  },
  {
   "cell_type": "markdown",
   "metadata": {},
   "source": [
    "$$ 3(x^2+4x+4)-3(4)-9y+3=0$$"
   ]
  },
  {
   "cell_type": "markdown",
   "metadata": {},
   "source": [
    "$$ 3(x^2+4x+4)-9y-9=0$$"
   ]
  },
  {
   "cell_type": "markdown",
   "metadata": {},
   "source": [
    "$$ 3(x+2)^2-9y-9=0$$"
   ]
  },
  {
   "cell_type": "markdown",
   "metadata": {},
   "source": [
    "$$ 3(x+2)^2=9y+9$$"
   ]
  },
  {
   "cell_type": "markdown",
   "metadata": {},
   "source": [
    "$$ (x+2)^2=\\dfrac{9y+9}{3}$$"
   ]
  },
  {
   "cell_type": "markdown",
   "metadata": {},
   "source": [
    "$$ (x+2)^2=3y+3$$"
   ]
  },
  {
   "cell_type": "markdown",
   "metadata": {},
   "source": [
    "$$ (x+2)^2=3(y+1)$$"
   ]
  },
  {
   "cell_type": "markdown",
   "metadata": {},
   "source": [
    "$$ (x+2)^2=\\dfrac{4}{4}[3(y+1)]$$"
   ]
  },
  {
   "cell_type": "markdown",
   "metadata": {},
   "source": [
    "$$ (x+2)^2=4\\left(\\dfrac{3}{4}\\right)(y+1)$$"
   ]
  },
  {
   "cell_type": "markdown",
   "metadata": {},
   "source": [
    "Ahora podemos identificar que\n",
    "* $p=3/4$\n",
    "* $h=-2$\n",
    "* $k=-1$"
   ]
  },
  {
   "cell_type": "markdown",
   "metadata": {},
   "source": [
    "Identificamos que se trata de una parábola vertical."
   ]
  },
  {
   "cell_type": "markdown",
   "metadata": {},
   "source": [
    "* el *vértice* es $V(h,k)=(-2,-1)$\n",
    "* el *foco* es $F(h,k+p)=(-2,-1+3/4)=(-2,-1/4)$.\n",
    "* la *directriz* es $y=k-p=(-1)-(3/4)=-7/4$\n",
    "* la *longitud del lado recto* es $LLP=|4p|=|4(3/4)|=3$"
   ]
  },
  {
   "cell_type": "markdown",
   "metadata": {},
   "source": [
    "$$ \\circledast $$"
   ]
  },
  {
   "cell_type": "markdown",
   "metadata": {},
   "source": [
    "### Elipse"
   ]
  },
  {
   "cell_type": "markdown",
   "metadata": {},
   "source": [
    "Empecemos con la definición:\n",
    "\n",
    "*La elipse es el conjunto de puntos del plano tales que la suma de sus distancias a otros dos puntos, llamados focos, es constante.*"
   ]
  },
  {
   "cell_type": "markdown",
   "metadata": {},
   "source": [
    "#### Ecuación ordinaria de la elipse"
   ]
  },
  {
   "cell_type": "markdown",
   "metadata": {},
   "source": [
    "La ecuación ordinaria de una elipse horizontal es\n",
    "$$ \\frac{(x-h)^2}{a^2}+\\frac{(y-k)^2}{b^2}=1 $$\n",
    "donde:\n",
    "* el *centro* es $C(h,k)$\n",
    "* se cumple la relación $a^2=b^2+c^2$, donde $a$ es el semieje mayor, $b$ es el semieje menor, y $c$ es la distancia del centro a cualquiera de los dos focos\n",
    "* los *focos* son $F_1(h+c,k)$ y $F_2(h-c,k)$\n",
    "* los *vértices* son $V_1(h+a,k)$, $V_2(h,k+b)$, $V_3(h-a,k)$, y $V_4(h,k-b)$\n",
    "* la *excentricidad* $e=c/a$\n",
    "* la *recta focal* es $y=k$\n",
    "\n",
    "Para visualizar la elipse horizontal:\n",
    "\n",
    "https://www.desmos.com/calculator/87lnuce2k2"
   ]
  },
  {
   "cell_type": "markdown",
   "metadata": {},
   "source": [
    "La ecuación ordinaria de una elipse vertical es\n",
    "$$ \\frac{(x-h)^2}{b^2}+\\frac{(y-k)^2}{a^2}=1 $$\n",
    "donde:\n",
    "* el *centro* es $C(h,k)$\n",
    "* se cumple la relación $a^2=b^2+c^2$, donde $a$ es el semieje mayor, $b$ es el semieje menor, y $c$ es la distancia del centro a cualquiera de los dos focos\n",
    "* los *focos* son $F_1(h,k+c)$ y $F_2(h,k-c)$\n",
    "* los *vértices* son $V_1(h,k+a)$, $V_2(h+b,k)$, $V_3(h,k-a)$, y $V_4(h-b,k)$\n",
    "* la *excentricidad* $e=c/a$\n",
    "* la *recta focal* es $x=h$\n",
    "\n",
    "Para visualizar la elipse vertical:\n",
    "\n",
    "https://www.desmos.com/calculator/etxwxn1gha"
   ]
  },
  {
   "cell_type": "markdown",
   "metadata": {},
   "source": [
    "\"Para identificar si la ecuación que corresponde a una elipse horizontal o una vertical tenemos que ver cual de las variables, $x$ o $y$, tiene el mayor semieje. Si es $x$, la elipse es horizontal; si es $y$, es vertical.\""
   ]
  },
  {
   "cell_type": "markdown",
   "metadata": {},
   "source": [
    "* ***Ejemplo:*** Hallar vértices, focos, eje focal, graficar y calcular excentricidad de la elipse $$ \\dfrac{x^2}{4}+\\dfrac{y^2}{10}=1$$\n"
   ]
  },
  {
   "cell_type": "markdown",
   "metadata": {},
   "source": [
    "* $h=0$\n",
    "* $k=0$\n",
    "* $b=2$\n",
    "* $a=\\sqrt{10}$"
   ]
  },
  {
   "cell_type": "markdown",
   "metadata": {},
   "source": [
    "$$ a^2=b^2+c^2 $$"
   ]
  },
  {
   "cell_type": "markdown",
   "metadata": {},
   "source": [
    "$$ c^2=a^2-b^2 $$"
   ]
  },
  {
   "cell_type": "markdown",
   "metadata": {},
   "source": [
    "$$ c=\\sqrt{ a^2-b^2}=\\sqrt{(\\sqrt{10})^2-(2)^2}=\\sqrt{10-4}=\\sqrt{6} $$"
   ]
  },
  {
   "cell_type": "markdown",
   "metadata": {},
   "source": [
    "* el *centro* es $C(h,k)=(0,0)$\n",
    "* los *focos* son $F_1(h,k+c)=(0,\\sqrt{6})$ y $F_2(h,k-c)=(0,-\\sqrt{6})$\n",
    "* los *vértices* son $V_1(h,k+a)=(0,\\sqrt{10})$, $V_2(h+b,k)=(2,0)$, $V_3(h,k-a)=(0,-\\sqrt{10})$, y $V_4(h-b,k)=(-2,0)$\n",
    "* la *excentricidad* $e=\\dfrac{c}{a}=\\dfrac{\\sqrt{15}}{5}$\n",
    "* la *recta focal* es $x=h=0$"
   ]
  },
  {
   "cell_type": "markdown",
   "metadata": {},
   "source": [
    "<img src=\"ej_elip_1.png\" align=\"middle\" width=\"500\">"
   ]
  },
  {
   "cell_type": "markdown",
   "metadata": {},
   "source": [
    "$$ \\circledast $$"
   ]
  },
  {
   "cell_type": "markdown",
   "metadata": {},
   "source": [
    "* ***Ejemplo:*** Hallar la ecuación de una elipse con focos $F_1=(1,-1)$ y $F_2=(1,3)$ y excentricidad $e=0.4$ y graficar.\n"
   ]
  },
  {
   "cell_type": "markdown",
   "metadata": {},
   "source": [
    "Identificamos que se trata de una elipse vertical porque los focos se encuentran acomodados verticalmente."
   ]
  },
  {
   "cell_type": "markdown",
   "metadata": {},
   "source": [
    "Podemos obtener el centro al buscar el punto medio entre los focos por lo que $C(h,k)=(1,1)$."
   ]
  },
  {
   "cell_type": "markdown",
   "metadata": {},
   "source": [
    "Como las coordenadas de los focos son $F_1(h,k-c)=(1,-1)$ y $F_2(h,k+c)=(1,3)$. Entonces, $c=2$."
   ]
  },
  {
   "cell_type": "markdown",
   "metadata": {},
   "source": [
    "$$e=\\dfrac{c}{a}$$"
   ]
  },
  {
   "cell_type": "markdown",
   "metadata": {},
   "source": [
    "$$ea=c$$"
   ]
  },
  {
   "cell_type": "markdown",
   "metadata": {},
   "source": [
    "$$a=\\dfrac{c}{e}=\\dfrac{2}{0.4}=5$$"
   ]
  },
  {
   "cell_type": "markdown",
   "metadata": {},
   "source": [
    "Ahora"
   ]
  },
  {
   "cell_type": "markdown",
   "metadata": {},
   "source": [
    "$$ a^2=b^2+c^2 $$"
   ]
  },
  {
   "cell_type": "markdown",
   "metadata": {},
   "source": [
    "$$ b^2=a^2-c^2 $$"
   ]
  },
  {
   "cell_type": "markdown",
   "metadata": {},
   "source": [
    "$$ b=\\sqrt{a^2-c^2}=\\sqrt{(5)^2-(2)^2}=\\sqrt{21} $$"
   ]
  },
  {
   "cell_type": "markdown",
   "metadata": {},
   "source": [
    "$$ \\frac{(x-h)^2}{b^2}+\\frac{(y-k)^2}{a^2}=1 $$"
   ]
  },
  {
   "cell_type": "markdown",
   "metadata": {},
   "source": [
    "$$ \\frac{(x-1)^2}{21}+\\frac{(y-1)^2}{25}=1 $$"
   ]
  },
  {
   "cell_type": "markdown",
   "metadata": {},
   "source": [
    "<img src=\"ej_elip_2.png\" align=\"middle\" width=\"600\">"
   ]
  },
  {
   "cell_type": "markdown",
   "metadata": {},
   "source": [
    "$$ \\circledast $$"
   ]
  },
  {
   "cell_type": "markdown",
   "metadata": {},
   "source": [
    "#### Ecuación general de la elipse"
   ]
  },
  {
   "cell_type": "markdown",
   "metadata": {},
   "source": [
    "La ecuación general de una elipse es\n",
    "\\begin{equation}\n",
    " Ax^2+Cy^2+Dx+Ey+F=0\\ ,\n",
    "\\end{equation}\n",
    "con $A$ y $C$ diferentes pero del mismo signo."
   ]
  },
  {
   "cell_type": "markdown",
   "metadata": {},
   "source": [
    "* ***Ejemplo:*** Hallar la ecuación ordinaria de la elipse a partir de la ecuación general definida por $x^2+2y^2+2x-8y+7=0$.\n"
   ]
  },
  {
   "cell_type": "markdown",
   "metadata": {},
   "source": [
    "$$ \\circledast $$"
   ]
  },
  {
   "cell_type": "markdown",
   "metadata": {},
   "source": [
    "### Circunferencia"
   ]
  },
  {
   "cell_type": "markdown",
   "metadata": {},
   "source": [
    "* ***Ejemplo:*** ¿Cuáles son las coordenadas del centro y el radio de la circunferencia $$(x-3)^2+(y+2)^2=1$$?"
   ]
  },
  {
   "cell_type": "markdown",
   "metadata": {},
   "source": [
    "$$ \\circledast $$"
   ]
  },
  {
   "cell_type": "markdown",
   "metadata": {},
   "source": [
    "* ***Ejemplo:*** ¿Cuál es la ecuación de la circunferencia con centro en $(-1,2)$ y $r=3$?"
   ]
  },
  {
   "cell_type": "markdown",
   "metadata": {},
   "source": [
    "$$ \\circledast $$"
   ]
  },
  {
   "cell_type": "markdown",
   "metadata": {},
   "source": [
    "* ***Ejemplo:*** ¿Cuál es la ecuación ordinaria de una circunferencia con centro en $(3,-1)$ y tiene $r=2$?"
   ]
  },
  {
   "cell_type": "markdown",
   "metadata": {},
   "source": [
    "$$ \\circledast $$"
   ]
  },
  {
   "cell_type": "markdown",
   "metadata": {},
   "source": [
    "* ***Ejemplo:*** ¿Cuál es la ecuación general de una circunferencia con $C(3,0)$ y $r=\\sqrt{3}$?"
   ]
  },
  {
   "cell_type": "markdown",
   "metadata": {},
   "source": [
    "$$ \\circledast $$"
   ]
  },
  {
   "cell_type": "markdown",
   "metadata": {},
   "source": [
    "* ***Ejemplo:*** ¿Cuál es la ecuación de la circunferencia con $C(2,-1)$ y $r=4$?"
   ]
  },
  {
   "cell_type": "markdown",
   "metadata": {},
   "source": [
    "$$ \\circledast $$"
   ]
  },
  {
   "cell_type": "markdown",
   "metadata": {},
   "source": [
    "* ***Ejemplo:*** ¿Cuál es la ecuación de la circunferencia con $C(2,-2)$ que pasa por el origen?"
   ]
  },
  {
   "cell_type": "markdown",
   "metadata": {},
   "source": [
    "$$ \\circledast $$"
   ]
  },
  {
   "cell_type": "markdown",
   "metadata": {},
   "source": [
    "* ***Ejemplo:*** ¿Cuál es el centro y el radio de la circunferencia $$x^2+y^2-6x+4y+9=0$$?"
   ]
  },
  {
   "cell_type": "markdown",
   "metadata": {},
   "source": [
    "$$ \\circledast $$"
   ]
  },
  {
   "cell_type": "markdown",
   "metadata": {},
   "source": [
    "* ***Ejemplo:*** ¿Cuál es el centro y el radio de la circunferencia $$x^2+y^2-4x-21=0$$?"
   ]
  },
  {
   "cell_type": "markdown",
   "metadata": {},
   "source": [
    "$$ \\circledast $$"
   ]
  },
  {
   "cell_type": "markdown",
   "metadata": {},
   "source": [
    "* ***Ejemplo:*** ¿Cuál es el centro y el radio de la circunferencia $$x^2+y^2-9=0$$?"
   ]
  },
  {
   "cell_type": "markdown",
   "metadata": {},
   "source": [
    "$$ \\circledast $$"
   ]
  },
  {
   "cell_type": "markdown",
   "metadata": {},
   "source": [
    "* ***Ejemplo:*** ¿Cuál es la ecuación de la circunferencia con centro en el origen y que pase por el punto $(2,-3)$? (¡importante!)"
   ]
  },
  {
   "cell_type": "markdown",
   "metadata": {},
   "source": [
    "$$ \\circledast $$"
   ]
  },
  {
   "cell_type": "markdown",
   "metadata": {},
   "source": [
    "* ***Ejemplo:*** ¿Cuál es la ecuación que corresponde a la gráfica?\n",
    "<img src=\"ej_circ_grafica.png\" align=\"middle\" width=\"400\">"
   ]
  },
  {
   "cell_type": "markdown",
   "metadata": {},
   "source": [
    "$$ \\circledast $$"
   ]
  },
  {
   "cell_type": "markdown",
   "metadata": {},
   "source": [
    "### Parábola"
   ]
  },
  {
   "cell_type": "markdown",
   "metadata": {},
   "source": [
    "* ***Ejemplo:*** Encuentre el vértice y el foco de la parábola $$2y^2+8y+x+1=0\\ .$$"
   ]
  },
  {
   "cell_type": "markdown",
   "metadata": {},
   "source": [
    "$$ \\circledast $$"
   ]
  },
  {
   "cell_type": "markdown",
   "metadata": {},
   "source": [
    "* ***Ejemplo:*** ¿Cuál es la ecuación de la parábola con vértice en el origen y foco $(0,3)$?"
   ]
  },
  {
   "cell_type": "markdown",
   "metadata": {},
   "source": [
    "$$ \\circledast $$"
   ]
  },
  {
   "cell_type": "markdown",
   "metadata": {},
   "source": [
    "* ***Ejemplo:*** ¿Cuáles son las coordenadas del vértice y el foco en la parábola $$x^2-6x+32y-55=0$$?"
   ]
  },
  {
   "cell_type": "markdown",
   "metadata": {},
   "source": [
    "$$ \\circledast $$"
   ]
  },
  {
   "cell_type": "markdown",
   "metadata": {},
   "source": [
    "* ***Ejemplo:*** ¿Cuál es la ecuación de la parábola con $V(-2,1)$ y directriz $y=4$?"
   ]
  },
  {
   "cell_type": "markdown",
   "metadata": {},
   "source": [
    "$$ \\circledast $$"
   ]
  },
  {
   "cell_type": "markdown",
   "metadata": {},
   "source": [
    "* ***Ejemplo:*** ¿Cuál es la ecuación de la parábola con $V(-2,3)$ y $F(0,3)$?"
   ]
  },
  {
   "cell_type": "markdown",
   "metadata": {},
   "source": [
    "$$ \\circledast $$"
   ]
  },
  {
   "cell_type": "markdown",
   "metadata": {},
   "source": [
    "### Elipse"
   ]
  },
  {
   "cell_type": "markdown",
   "metadata": {},
   "source": [
    "* ***Ejemplo:*** Encuentre las coordenadas de los focos de $$9x^2+4y^2=36\\ .$$"
   ]
  },
  {
   "cell_type": "markdown",
   "metadata": {},
   "source": [
    "$$ \\circledast $$"
   ]
  },
  {
   "cell_type": "markdown",
   "metadata": {},
   "source": [
    "* ***Ejemplo:*** Reduzca la ecuación $$x^2+4y^2-6x+16y+21=0$$ a su forma ordinaria."
   ]
  },
  {
   "cell_type": "markdown",
   "metadata": {},
   "source": [
    "$$ \\circledast $$"
   ]
  },
  {
   "cell_type": "markdown",
   "metadata": {},
   "source": [
    "* ***Ejemplo:*** ¿Cuál es la ecuación ordinaria de la elipse con vértice en $(5,0)$ y pasa por el punto $(2,3)$?"
   ]
  },
  {
   "cell_type": "markdown",
   "metadata": {},
   "source": [
    "$$ \\circledast $$"
   ]
  }
 ],
 "metadata": {
  "kernelspec": {
   "display_name": "Julia 1.5.0",
   "language": "julia",
   "name": "julia-1.5"
  },
  "language_info": {
   "file_extension": ".jl",
   "mimetype": "application/julia",
   "name": "julia",
   "version": "1.5.0"
  }
 },
 "nbformat": 4,
 "nbformat_minor": 4
}
