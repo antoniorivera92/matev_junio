{
 "cells": [
  {
   "cell_type": "markdown",
   "metadata": {},
   "source": [
    "# Examen 1"
   ]
  },
  {
   "cell_type": "markdown",
   "metadata": {},
   "source": [
    "## Situación 1: Triángulo de Sierpinski"
   ]
  },
  {
   "cell_type": "markdown",
   "metadata": {},
   "source": [
    "**1. ¿Cuál es el área de un triángulo equilátero de lado $a$?**\n",
    "\n",
    "**(2 puntos)**"
   ]
  },
  {
   "cell_type": "markdown",
   "metadata": {},
   "source": [
    "<img src=\"sierpinski1.png\" align=\"middle\" width=\"300\">"
   ]
  },
  {
   "cell_type": "markdown",
   "metadata": {},
   "source": [
    "A. $\\dfrac{1}{2}a^2$\n",
    "\n",
    "B. $\\dfrac{3}{4}a^2$\n",
    "\n",
    "C. $\\dfrac{\\sqrt{3}}{2}a^2$\n",
    "\n",
    "D. $\\dfrac{\\sqrt{3}}{4}a^2$"
   ]
  },
  {
   "cell_type": "markdown",
   "metadata": {},
   "source": [
    "El área de este triángulo se puede calcular mendiante la fórmula del área para cualquier triángulo:"
   ]
  },
  {
   "cell_type": "markdown",
   "metadata": {},
   "source": [
    "$$ A=\\dfrac{(\\text{cateto 1})\\cdot(\\text{cateto 2})\\cdot\\sin\\,(\\text{ángulo entre ambos catetos})}{2} $$"
   ]
  },
  {
   "cell_type": "markdown",
   "metadata": {},
   "source": [
    "Pero, como se trata de un triángulo, todo los lados valen $a$ y todos los ángulos valen $60^\\circ$."
   ]
  },
  {
   "cell_type": "markdown",
   "metadata": {},
   "source": [
    "$$ A_\\Delta=\\dfrac{a^2\\sin60^\\circ}{2} $$"
   ]
  },
  {
   "cell_type": "code",
   "execution_count": 1,
   "metadata": {},
   "outputs": [
    {
     "data": {
      "text/plain": [
       "0.4330127018922193"
      ]
     },
     "execution_count": 1,
     "metadata": {},
     "output_type": "execute_result"
    }
   ],
   "source": [
    "sind(60)/2"
   ]
  },
  {
   "cell_type": "markdown",
   "metadata": {},
   "source": [
    "Entonces, podemos calcular $\\dfrac{\\sin 60^\\circ}{2}=0.433\\dots$ con los coeficientes de las opciones:"
   ]
  },
  {
   "cell_type": "markdown",
   "metadata": {},
   "source": [
    "Para A. el coeficiente es $\\dfrac{1}{2}=0.5$"
   ]
  },
  {
   "cell_type": "markdown",
   "metadata": {},
   "source": [
    "Para B. el coeficiente es $\\dfrac{3}{4}=0.75$"
   ]
  },
  {
   "cell_type": "markdown",
   "metadata": {},
   "source": [
    "Para C. el coeficiente es $\\dfrac{\\sqrt{3}}{2}=0.866\\dots$"
   ]
  },
  {
   "cell_type": "code",
   "execution_count": 2,
   "metadata": {},
   "outputs": [
    {
     "data": {
      "text/plain": [
       "0.8660254037844386"
      ]
     },
     "execution_count": 2,
     "metadata": {},
     "output_type": "execute_result"
    }
   ],
   "source": [
    "(√3)/2"
   ]
  },
  {
   "cell_type": "markdown",
   "metadata": {},
   "source": [
    "Para D. el coeficiente es $\\dfrac{\\sqrt{3}}{4}=0.433\\dots$"
   ]
  },
  {
   "cell_type": "code",
   "execution_count": 3,
   "metadata": {},
   "outputs": [
    {
     "data": {
      "text/plain": [
       "0.4330127018922193"
      ]
     },
     "execution_count": 3,
     "metadata": {},
     "output_type": "execute_result"
    }
   ],
   "source": [
    "(√3)/4"
   ]
  },
  {
   "cell_type": "markdown",
   "metadata": {},
   "source": [
    "Entonces el área del triángulo equilátero es"
   ]
  },
  {
   "cell_type": "markdown",
   "metadata": {},
   "source": [
    "$$ A_\\Delta=\\dfrac{\\sqrt{3}}{4}a^2 $$"
   ]
  },
  {
   "cell_type": "markdown",
   "metadata": {},
   "source": [
    "A. $\\dfrac{1}{2}a^2$\n",
    "\n",
    "B. $\\dfrac{3}{4}a^2$\n",
    "\n",
    "C. $\\dfrac{\\sqrt{3}}{2}a^2$\n",
    "\n",
    "D. $\\dfrac{\\sqrt{3}}{4}a^2$"
   ]
  },
  {
   "cell_type": "markdown",
   "metadata": {},
   "source": [
    "**Solución:** D."
   ]
  },
  {
   "cell_type": "markdown",
   "metadata": {},
   "source": [
    "**2. El triángulo de Sierpinski es un fractal que se puede construir a partir de cualquier triángulo. Su primera fase se construye calculando el punto medio de todos sus lados de manera que podamos encontrar cuatro triángulos semejantes que caben perfectamente dentro del triángulo original. Al construir la primera fase del triángulo de Sierpinski con un triángulo equilátero de lado $a$, ¿con qué expresión calculamos el área sombreada?**\n",
    "\n",
    "**(2 puntos)**"
   ]
  },
  {
   "cell_type": "markdown",
   "metadata": {},
   "source": [
    "<img src=\"sierpinski2.png\" align=\"middle\" width=\"300\">"
   ]
  },
  {
   "cell_type": "markdown",
   "metadata": {},
   "source": [
    "A. $\\dfrac{3\\sqrt{3}}{4}a^2$\n",
    "\n",
    "B. $\\dfrac{9}{4}a^2$\n",
    "\n",
    "C. $\\dfrac{3\\sqrt{3}}{16}a^2$\n",
    "\n",
    "D. $\\dfrac{3}{16}a^2$"
   ]
  },
  {
   "cell_type": "markdown",
   "metadata": {},
   "source": [
    "Como dividimos el triángulo en cuatro partes y tomamos tres, el área de la primera fase del triángulo de Sierpinski es"
   ]
  },
  {
   "cell_type": "markdown",
   "metadata": {},
   "source": [
    "$$ \\dfrac{3}{4}A_\\Delta=\\dfrac{3}{4}\\cdot\\dfrac{\\sqrt{3}}{4}a^2=\\dfrac{3\\sqrt{3}}{16}a^2 $$"
   ]
  },
  {
   "cell_type": "markdown",
   "metadata": {},
   "source": [
    "A. $\\dfrac{3\\sqrt{3}}{4}a^2$\n",
    "\n",
    "B. $\\dfrac{9}{4}a^2$\n",
    "\n",
    "C. $\\dfrac{3\\sqrt{3}}{16}a^2$\n",
    "\n",
    "D. $\\dfrac{3}{16}a^2$"
   ]
  },
  {
   "cell_type": "markdown",
   "metadata": {},
   "source": [
    "**Solución:** C."
   ]
  },
  {
   "cell_type": "markdown",
   "metadata": {},
   "source": [
    "**3.  Al tratarse de un fractal, se puede repetir el proceso de la primera fase tantas veces como queramos. ¿Cuál es la proporción entre el área sombreada de la primera fase y la segunda fase (en la figura adjunta)?**\n",
    "\n",
    "**(3 puntos)**"
   ]
  },
  {
   "cell_type": "markdown",
   "metadata": {},
   "source": [
    "<img src=\"sierpinski3.png\" align=\"middle\" width=\"300\">"
   ]
  },
  {
   "cell_type": "markdown",
   "metadata": {},
   "source": [
    "A. $\\dfrac{3}{2}$\n",
    "\n",
    "B. $\\dfrac{4}{3}$\n",
    "\n",
    "C. $\\dfrac{4}{5}$\n",
    "\n",
    "D. $\\dfrac{9}{16}$"
   ]
  },
  {
   "cell_type": "markdown",
   "metadata": {},
   "source": [
    "Ya vimos que el área de la primera fase es"
   ]
  },
  {
   "cell_type": "markdown",
   "metadata": {},
   "source": [
    "$$ \\dfrac{3}{4}A_\\Delta $$"
   ]
  },
  {
   "cell_type": "markdown",
   "metadata": {},
   "source": [
    "Notemos que para la segunda fase es como si separaramos el triángulo original en dieciséis partes y tomamos nueve. Entonces el área de la segunda fase es"
   ]
  },
  {
   "cell_type": "markdown",
   "metadata": {},
   "source": [
    "$$ \\dfrac{9}{16}A_\\Delta $$"
   ]
  },
  {
   "cell_type": "markdown",
   "metadata": {},
   "source": [
    "Finalmente, la proporción de la primera fase respecto de la segunda es"
   ]
  },
  {
   "cell_type": "markdown",
   "metadata": {},
   "source": [
    "$$ \\dfrac{\\dfrac{3}{4}A_\\Delta}{\\dfrac{9}{16}A_\\Delta}=\\dfrac{3\\cdot16}{9\\cdot4}=\\dfrac{4}{3} $$"
   ]
  },
  {
   "cell_type": "markdown",
   "metadata": {},
   "source": [
    "A. $\\dfrac{3}{2}$\n",
    "\n",
    "B. $\\dfrac{4}{3}$\n",
    "\n",
    "C. $\\dfrac{4}{5}$\n",
    "\n",
    "D. $\\dfrac{9}{16}$"
   ]
  },
  {
   "cell_type": "markdown",
   "metadata": {},
   "source": [
    "**Solución:** B."
   ]
  },
  {
   "cell_type": "markdown",
   "metadata": {},
   "source": [
    "**4. Suponiendo que el triángulo original tiene 10 pulgadas (in en inglés) de lado, ¿cuál es el área sombreada de la tercera fase?**\n",
    "\n",
    "**(3 puntos)**"
   ]
  },
  {
   "cell_type": "markdown",
   "metadata": {},
   "source": [
    "<img src=\"sierpinski4.png\" align=\"middle\" width=\"300\">"
   ]
  },
  {
   "cell_type": "markdown",
   "metadata": {},
   "source": [
    "A. $\\dfrac{675\\sqrt{3}}{64}\\ \\text{in}^2$\n",
    "\n",
    "B. $\\dfrac{675\\sqrt{3}}{16}\\ \\text{in}^2$\n",
    "\n",
    "C. $\\dfrac{365\\sqrt{3}}{64}\\ \\text{in}^2$\n",
    "\n",
    "D. $\\dfrac{365\\sqrt{3}}{16}\\ \\text{in}^2$"
   ]
  },
  {
   "cell_type": "markdown",
   "metadata": {},
   "source": [
    "Para este punto podemos notar que cada fase representa tres cuartas partes de la anterior, por lo que, para la tercera fase el area será"
   ]
  },
  {
   "cell_type": "markdown",
   "metadata": {},
   "source": [
    "$$ \\left(\\dfrac{3}{4}\\right)^3A_\\Delta=\\dfrac{3^3}{4^3}A_\\Delta=\\dfrac{27}{64}A_\\Delta=\\dfrac{27}{64}\\cdot\\dfrac{\\sqrt{3}}{4}a^2=\\dfrac{27\\sqrt{3}}{256}a^2 $$"
   ]
  },
  {
   "cell_type": "markdown",
   "metadata": {},
   "source": [
    "Si $a=10\\ \\text{in}$, el área de la tercera fase es"
   ]
  },
  {
   "cell_type": "markdown",
   "metadata": {},
   "source": [
    "$$ \\dfrac{27\\sqrt{3}}{256}a^2=\\dfrac{27\\sqrt{3}}{256}(10\\ \\text{in})^2=\\dfrac{2700\\sqrt{3}}{256}\\ \\text{in}^2=\\dfrac{675\\sqrt{3}}{64}\\ \\text{in}^2 $$"
   ]
  },
  {
   "cell_type": "markdown",
   "metadata": {},
   "source": [
    "A. $\\dfrac{675\\sqrt{3}}{64}\\ \\text{in}^2$\n",
    "\n",
    "B. $\\dfrac{675\\sqrt{3}}{16}\\ \\text{in}^2$\n",
    "\n",
    "C. $\\dfrac{365\\sqrt{3}}{64}\\ \\text{in}^2$\n",
    "\n",
    "D. $\\dfrac{365\\sqrt{3}}{16}\\ \\text{in}^2$"
   ]
  },
  {
   "cell_type": "markdown",
   "metadata": {},
   "source": [
    "**Solución:** A."
   ]
  },
  {
   "cell_type": "markdown",
   "metadata": {},
   "source": [
    "## Situación 2: Área y perímetro"
   ]
  },
  {
   "cell_type": "markdown",
   "metadata": {},
   "source": [
    "**5. La figura muestra tres cuadrados consecutivos de $5$, $4$, y $3$ pulgadas (in) de lado, respectivamente. Encuentra el área de la región negra.**\n",
    "\n",
    "**(2 puntos)**"
   ]
  },
  {
   "cell_type": "markdown",
   "metadata": {},
   "source": [
    "<img src=\"negro.png\" align=\"middle\" width=\"550\">"
   ]
  },
  {
   "cell_type": "markdown",
   "metadata": {},
   "source": [
    "A. $40\\ \\text{in}^2$\n",
    "\n",
    "B. $20\\ \\text{in}^2$\n",
    "\n",
    "C. $30\\ \\text{in}^2$\n",
    "\n",
    "D. $50\\ \\text{in}^2$"
   ]
  },
  {
   "cell_type": "markdown",
   "metadata": {},
   "source": [
    "La manera más fácil de hacer esto es usando el triángulo blanco de base 12 y altura 5, y quitarle lo que le falta a la región negra."
   ]
  },
  {
   "cell_type": "markdown",
   "metadata": {},
   "source": [
    "Para que el triángulo blanco se vuelva el negro, necesitamos quitarle dos rectángulos: uno de 4 por 1, y otro de 3 por 2."
   ]
  },
  {
   "cell_type": "markdown",
   "metadata": {},
   "source": [
    "Entonces"
   ]
  },
  {
   "cell_type": "markdown",
   "metadata": {},
   "source": [
    "$$ A=A_\\text{triangulo}-A_\\text{rectangulo 1}-A_\\text{rectangulo 2}=\\dfrac{12\\cdot5}{2}-4\\cdot1-3\\cdot2=20 $$"
   ]
  },
  {
   "cell_type": "markdown",
   "metadata": {},
   "source": [
    "**Solución:** B."
   ]
  },
  {
   "cell_type": "markdown",
   "metadata": {},
   "source": [
    "**6. Encuentra el perímetro de la misma región negra.**\n",
    "\n",
    "**(2 puntos)**"
   ]
  },
  {
   "cell_type": "markdown",
   "metadata": {},
   "source": [
    "A. $48\\ \\text{in}$\n",
    "\n",
    "B. $13\\ \\text{in}$\n",
    "\n",
    "C. $30\\ \\text{in}$\n",
    "\n",
    "D. $37\\ \\text{in}$"
   ]
  },
  {
   "cell_type": "markdown",
   "metadata": {},
   "source": [
    "Primero obtenemos el valor de la diagonal. Esto se puede hacer muy simple con Pitágoras."
   ]
  },
  {
   "cell_type": "markdown",
   "metadata": {},
   "source": [
    "$$ \\text{(c.o.)}^2+\\text{(c.a.)}^2=\\text{(hip.)}^2 $$"
   ]
  },
  {
   "cell_type": "markdown",
   "metadata": {},
   "source": [
    "Entonces"
   ]
  },
  {
   "cell_type": "markdown",
   "metadata": {},
   "source": [
    "$$ \\text{hip.}=\\sqrt{\\text{(c.o.)}^2+\\text{(c.a.)}^2}=\\sqrt{(5)^2+(12)^2}=\\sqrt{25+144}=\\sqrt{169}=13 $$"
   ]
  },
  {
   "cell_type": "markdown",
   "metadata": {},
   "source": [
    "Luego, yendo de izquierda a derecha por arriba y luego de derecha a izquierda por abajo, el perimetro es (ya no fui más específico con esto porque me habría tardado más haciendo imágenes al respecto pero ojalá puedan entenderle y, si no, pueden preguntarme en la clase)"
   ]
  },
  {
   "cell_type": "markdown",
   "metadata": {},
   "source": [
    "$$ P=5+1+4+1+3+3+13=30 $$"
   ]
  },
  {
   "cell_type": "markdown",
   "metadata": {},
   "source": [
    "A. $48\\ \\text{in}$\n",
    "\n",
    "B. $13\\ \\text{in}$\n",
    "\n",
    "C. $30\\ \\text{in}$\n",
    "\n",
    "D. $37\\ \\text{in}$"
   ]
  },
  {
   "cell_type": "markdown",
   "metadata": {},
   "source": [
    "**Solución:** C."
   ]
  },
  {
   "cell_type": "markdown",
   "metadata": {},
   "source": [
    "**7. La figura muestra dos circunferencias dentro de un rectángulo de 10 por 20 pulgadas (in). Encuentra el área de la región roja.**\n",
    "\n",
    "**(2 puntos)**"
   ]
  },
  {
   "cell_type": "markdown",
   "metadata": {},
   "source": [
    "<img src=\"rojo.png\" align=\"middle\" width=\"350\">"
   ]
  },
  {
   "cell_type": "markdown",
   "metadata": {},
   "source": [
    "A. $(200-100\\pi)\\ \\text{in}^2$\n",
    "\n",
    "B. $(100-25\\pi)\\ \\text{in}^2$\n",
    "\n",
    "C. $(40+10\\pi)\\ \\text{in}^2$\n",
    "\n",
    "D. $(150+20\\pi)\\ \\text{in}^2$"
   ]
  },
  {
   "cell_type": "markdown",
   "metadata": {},
   "source": [
    "Veamos que el área de la región roja es la mitad de la diferencia del área del rectángulo y el área de los dos círculos de radio $5\\ \\text{in}$. Entonces,"
   ]
  },
  {
   "cell_type": "markdown",
   "metadata": {},
   "source": [
    "$$ A=\\dfrac{A_\\text{rectangulo}-A_\\text{2 circunferencias}}{2}=\\dfrac{(20\\cdot10)-(\\pi\\cdot5^2+\\pi\\cdot5^2)}{2}=100-25\\pi $$"
   ]
  },
  {
   "cell_type": "markdown",
   "metadata": {},
   "source": [
    "A. $(200-100\\pi)\\ \\text{in}^2$\n",
    "\n",
    "B. $(100-25\\pi)\\ \\text{in}^2$\n",
    "\n",
    "C. $(40+10\\pi)\\ \\text{in}^2$\n",
    "\n",
    "D. $(150+20\\pi)\\ \\text{in}^2$"
   ]
  },
  {
   "cell_type": "markdown",
   "metadata": {},
   "source": [
    "**Solución:** B."
   ]
  },
  {
   "cell_type": "markdown",
   "metadata": {},
   "source": [
    "**8. Calcula la longitud de la cuerda azul en la imagen, redondeada a dos décimas. *Pista: Nos falta el ángulo de la cuerda respecto al centro del círculo. Para encontrarlo, dibuja una recta paralela a la base del rectángulo y que pase por el punto medio de su altura.***\n",
    "\n",
    "**(3 puntos)**"
   ]
  },
  {
   "cell_type": "markdown",
   "metadata": {},
   "source": [
    "<img src=\"rojo_cuerda.png\" align=\"middle\" width=\"350\">"
   ]
  },
  {
   "cell_type": "markdown",
   "metadata": {},
   "source": [
    "A. $17.10\\ \\text{in}$\n",
    "\n",
    "B. $14.08\\ \\text{in}$\n",
    "\n",
    "C. $8.94\\ \\text{in}$\n",
    "\n",
    "D. $9.67\\ \\text{in}$"
   ]
  },
  {
   "cell_type": "markdown",
   "metadata": {},
   "source": [
    "Notemos que hay un triángulo rectángulo de altura 10 y base 20. El ángulo que se forma a la izquierda de éste es"
   ]
  },
  {
   "cell_type": "code",
   "execution_count": 4,
   "metadata": {},
   "outputs": [
    {
     "data": {
      "text/plain": [
       "26.56505117707799"
      ]
     },
     "execution_count": 4,
     "metadata": {},
     "output_type": "execute_result"
    }
   ],
   "source": [
    "atand(10/20)"
   ]
  },
  {
   "cell_type": "markdown",
   "metadata": {},
   "source": [
    "Notemos que el triángulo que se forma en el centro del círculo es un triángulo oblicuángulo cuyos lados son dos radios y el otro lado es la cuerda."
   ]
  },
  {
   "cell_type": "markdown",
   "metadata": {},
   "source": [
    "<img src=\"cuerda_sol.png\" align=\"middle\" width=\"500\">"
   ]
  },
  {
   "cell_type": "markdown",
   "metadata": {},
   "source": [
    "Entonces, el ángulo que se forma en el centro del círculo es"
   ]
  },
  {
   "cell_type": "code",
   "execution_count": 5,
   "metadata": {},
   "outputs": [
    {
     "data": {
      "text/plain": [
       "126.86989764584402"
      ]
     },
     "execution_count": 5,
     "metadata": {},
     "output_type": "execute_result"
    }
   ],
   "source": [
    "180-2*26.56505117707799"
   ]
  },
  {
   "cell_type": "markdown",
   "metadata": {},
   "source": [
    "Podemos usar ley de cosenos para calcular la longitud de la cuerda:"
   ]
  },
  {
   "cell_type": "markdown",
   "metadata": {},
   "source": [
    "$$ \\ell^2=R^2+R^2-2R^2\\cos\\theta $$"
   ]
  },
  {
   "cell_type": "markdown",
   "metadata": {},
   "source": [
    "$$ \\ell=\\sqrt{2R^2(1-\\cos\\theta)} $$"
   ]
  },
  {
   "cell_type": "code",
   "execution_count": 6,
   "metadata": {},
   "outputs": [
    {
     "data": {
      "text/plain": [
       "8.94427190999916"
      ]
     },
     "execution_count": 6,
     "metadata": {},
     "output_type": "execute_result"
    }
   ],
   "source": [
    "√(2(5)^2*(1-cosd(126.86989764584402)))"
   ]
  },
  {
   "cell_type": "markdown",
   "metadata": {},
   "source": [
    "A. $17.10\\ \\text{in}$\n",
    "\n",
    "B. $14.08\\ \\text{in}$\n",
    "\n",
    "C. $8.94\\ \\text{in}$\n",
    "\n",
    "D. $9.67\\ \\text{in}$"
   ]
  },
  {
   "cell_type": "markdown",
   "metadata": {},
   "source": [
    "**Solución:** C."
   ]
  },
  {
   "cell_type": "markdown",
   "metadata": {},
   "source": [
    "**9. Encuentra el perímetro de la región roja redondeada a dos décimas.**\n",
    "\n",
    "**(3 puntos)**"
   ]
  },
  {
   "cell_type": "markdown",
   "metadata": {},
   "source": [
    "A. $65.89\\ \\text{in}$\n",
    "\n",
    "B. $70.41\\ \\text{in}$\n",
    "\n",
    "C. $78.45\\ \\text{in}$\n",
    "\n",
    "D. $80.71\\ \\text{in}$"
   ]
  },
  {
   "cell_type": "markdown",
   "metadata": {},
   "source": [
    "Veamos que el perímetro de la región roja es la mitad de la suma del perímetro del rectángulo y el perímetro de los dos círculos de radio 5 y la diagonal del rectángulo menos las cuerdas de los círculos."
   ]
  },
  {
   "cell_type": "markdown",
   "metadata": {},
   "source": [
    "$$ \\dfrac{P_\\text{rectangulo}+P_\\text{2 circunferencias}}{2}=\\dfrac{(20+10+20+10)+(2\\pi\\cdot5+2\\pi\\cdot5)}{2}=30+10\\pi $$"
   ]
  },
  {
   "cell_type": "markdown",
   "metadata": {},
   "source": [
    "Notemos que la diagonal mide"
   ]
  },
  {
   "cell_type": "markdown",
   "metadata": {},
   "source": [
    "$$ \\sqrt{10^2+20^2}=\\sqrt{500} $$"
   ]
  },
  {
   "cell_type": "markdown",
   "metadata": {},
   "source": [
    "por lo que, quitándole las dos cuerdas que se forman, obtenemos"
   ]
  },
  {
   "cell_type": "code",
   "execution_count": 7,
   "metadata": {},
   "outputs": [
    {
     "data": {
      "text/plain": [
       "4.47213595499958"
      ]
     },
     "execution_count": 7,
     "metadata": {},
     "output_type": "execute_result"
    }
   ],
   "source": [
    "(√500)-2*8.94427190999916"
   ]
  },
  {
   "cell_type": "markdown",
   "metadata": {},
   "source": [
    "<img src=\"rojo.png\" align=\"middle\" width=\"350\">"
   ]
  },
  {
   "cell_type": "code",
   "execution_count": 8,
   "metadata": {},
   "outputs": [
    {
     "data": {
      "text/plain": [
       "65.88806249089751"
      ]
     },
     "execution_count": 8,
     "metadata": {},
     "output_type": "execute_result"
    }
   ],
   "source": [
    "30+10π+4.47213595499958"
   ]
  },
  {
   "cell_type": "markdown",
   "metadata": {},
   "source": [
    "A. $65.89\\ \\text{in}$\n",
    "\n",
    "B. $70.41\\ \\text{in}$\n",
    "\n",
    "C. $78.45\\ \\text{in}$\n",
    "\n",
    "D. $80.71\\ \\text{in}$"
   ]
  },
  {
   "cell_type": "markdown",
   "metadata": {},
   "source": [
    "**Solución:** A."
   ]
  },
  {
   "cell_type": "markdown",
   "metadata": {},
   "source": [
    "## Situación 3: Cisterna"
   ]
  },
  {
   "cell_type": "markdown",
   "metadata": {},
   "source": [
    "**Una cisterna tiene 2.4 m de ancho y una persona se sitúa a 1.3 m del borde. Desde una altura de 1.8 m (donde se encuentran sus ojos), la persona observa que el borde de la cisterna coincide con la\n",
    "línea del fondo como se muestra en la figura.**"
   ]
  },
  {
   "cell_type": "markdown",
   "metadata": {},
   "source": [
    "<img src=\"cisterna_profunda.png\" align=\"middle\" width=\"350\">"
   ]
  },
  {
   "cell_type": "markdown",
   "metadata": {},
   "source": [
    "**10. ¿Qué profundidad tiene la cisterna? Redondea el valor a dos décimas.**\n",
    "\n",
    "**(2 puntos)**"
   ]
  },
  {
   "cell_type": "markdown",
   "metadata": {},
   "source": [
    "A. $4.02\\ \\text{m}$\n",
    "\n",
    "B. $3.78\\ \\text{m}$\n",
    "\n",
    "C. $3.32\\ \\text{m}$\n",
    "\n",
    "D. $4.64\\ \\text{m}$"
   ]
  },
  {
   "cell_type": "markdown",
   "metadata": {},
   "source": [
    "Podemos identificar esto con triángulos semejantes y usar Tales:"
   ]
  },
  {
   "cell_type": "markdown",
   "metadata": {},
   "source": [
    "$$ \\dfrac{\\text{profundidad de la cisterna}}{\\text{altura de los ojos de la persona}}=\\dfrac{\\text{ancho de la cisterna}}{\\text{distancia de la persona a la orilla}} $$"
   ]
  },
  {
   "cell_type": "markdown",
   "metadata": {},
   "source": [
    "$$ \\text{profundidad de la cisterna}=\\dfrac{2.4}{1.3}\\cdot1.8\\approx3.32 $$"
   ]
  },
  {
   "cell_type": "code",
   "execution_count": 9,
   "metadata": {},
   "outputs": [
    {
     "data": {
      "text/plain": [
       "3.3230769230769233"
      ]
     },
     "execution_count": 9,
     "metadata": {},
     "output_type": "execute_result"
    }
   ],
   "source": [
    "2.4*1.8/1.3"
   ]
  },
  {
   "cell_type": "markdown",
   "metadata": {},
   "source": [
    "A. $4.02\\ \\text{m}$\n",
    "\n",
    "B. $3.78\\ \\text{m}$\n",
    "\n",
    "C. $3.32\\ \\text{m}$\n",
    "\n",
    "D. $4.64\\ \\text{m}$"
   ]
  },
  {
   "cell_type": "markdown",
   "metadata": {},
   "source": [
    "**Solución:** C."
   ]
  },
  {
   "cell_type": "markdown",
   "metadata": {},
   "source": [
    "**11. ¿A qué distancia debe situarse la persona de la orilla, para que al observar el borde de la cisterna coincida justo con la mitad de su profundidad?**\n",
    "\n",
    "**(2 puntos)**"
   ]
  },
  {
   "cell_type": "markdown",
   "metadata": {},
   "source": [
    "A. $1\\ \\text{m}$\n",
    "\n",
    "B. $2.2\\ \\text{m}$\n",
    "\n",
    "C. $3.1\\ \\text{m}$\n",
    "\n",
    "D. $2.6\\ \\text{m}$"
   ]
  },
  {
   "cell_type": "markdown",
   "metadata": {},
   "source": [
    "Podemos identificar esto con triángulos semejantes y usar Tales:"
   ]
  },
  {
   "cell_type": "markdown",
   "metadata": {},
   "source": [
    "$$ \\dfrac{\\text{distancia de la persona a la orilla}}{\\text{ancho de la cisterna}}=\\dfrac{\\text{altura de los ojos de la persona}}{\\text{mitad de la profundidad de la cisterna}} $$"
   ]
  },
  {
   "cell_type": "markdown",
   "metadata": {},
   "source": [
    "$$ \\text{distancia de la persona a la orilla}=\\dfrac{1.8}{1.66}\\cdot2.4 $$"
   ]
  },
  {
   "cell_type": "code",
   "execution_count": 10,
   "metadata": {},
   "outputs": [
    {
     "data": {
      "text/plain": [
       "1.6615384615384616"
      ]
     },
     "execution_count": 10,
     "metadata": {},
     "output_type": "execute_result"
    }
   ],
   "source": [
    "3.3230769230769233/2"
   ]
  },
  {
   "cell_type": "code",
   "execution_count": 11,
   "metadata": {},
   "outputs": [
    {
     "data": {
      "text/plain": [
       "2.6"
      ]
     },
     "execution_count": 11,
     "metadata": {},
     "output_type": "execute_result"
    }
   ],
   "source": [
    "1.8*2.4/1.6615384615384616"
   ]
  },
  {
   "cell_type": "markdown",
   "metadata": {},
   "source": [
    "A. $1\\ \\text{m}$\n",
    "\n",
    "B. $2.2\\ \\text{m}$\n",
    "\n",
    "C. $3.1\\ \\text{m}$\n",
    "\n",
    "D. $2.6\\ \\text{m}$"
   ]
  },
  {
   "cell_type": "markdown",
   "metadata": {},
   "source": [
    "**Solución:** D."
   ]
  },
  {
   "cell_type": "markdown",
   "metadata": {},
   "source": [
    "**12. Después de observar la mitad de la profundidad, ¿qué distancia a la izquierda debe recorrer la persona desde el punto donde se encuentra para que al observar el borde de la cisterna coincida justo con la mitad del fondo de la cisterna (punto B)?**\n",
    "\n",
    "**(3 puntos)**"
   ]
  },
  {
   "cell_type": "markdown",
   "metadata": {},
   "source": [
    "A. $1.95\\ \\text{m}$\n",
    "\n",
    "B. $2.15\\ \\text{m}$\n",
    "\n",
    "C. $0.84\\ \\text{m}$\n",
    "\n",
    "D. $2.56\\ \\text{m}$"
   ]
  },
  {
   "cell_type": "markdown",
   "metadata": {},
   "source": [
    "$$ \\dfrac{\\text{distancia de la persona a la orilla}}{\\text{mitad del ancho de la cisterna}}=\\dfrac{\\text{altura de los ojos de la persona}}{\\text{profundidad de la cisterna}} $$"
   ]
  },
  {
   "cell_type": "markdown",
   "metadata": {},
   "source": [
    "$$ \\text{distancia de la persona a la orilla}=\\dfrac{1.8}{3.32}\\cdot1.2 $$"
   ]
  },
  {
   "cell_type": "code",
   "execution_count": 12,
   "metadata": {},
   "outputs": [
    {
     "data": {
      "text/plain": [
       "0.65"
      ]
     },
     "execution_count": 12,
     "metadata": {},
     "output_type": "execute_result"
    }
   ],
   "source": [
    "1.8*1.2/3.3230769230769233"
   ]
  },
  {
   "cell_type": "markdown",
   "metadata": {},
   "source": [
    "Entonces, la diferencia de esta cantidad y la del ejercicio anterior es"
   ]
  },
  {
   "cell_type": "code",
   "execution_count": 13,
   "metadata": {},
   "outputs": [
    {
     "data": {
      "text/plain": [
       "1.9500000000000002"
      ]
     },
     "execution_count": 13,
     "metadata": {},
     "output_type": "execute_result"
    }
   ],
   "source": [
    "2.6-0.65"
   ]
  },
  {
   "cell_type": "markdown",
   "metadata": {},
   "source": [
    "A. $1.95\\ \\text{m}$\n",
    "\n",
    "B. $2.15\\ \\text{m}$\n",
    "\n",
    "C. $0.84\\ \\text{m}$\n",
    "\n",
    "D. $2.56\\ \\text{m}$"
   ]
  },
  {
   "cell_type": "markdown",
   "metadata": {},
   "source": [
    "**Solución:** A."
   ]
  },
  {
   "cell_type": "markdown",
   "metadata": {},
   "source": [
    "| Problema | Respuesta | Puntaje | Problema | Respuesta | Puntaje |\n",
    "|----------|-----------|---------|----------|-----------|---------|\n",
    "| 1        | D         | 2       | 7        | B         | 2       |\n",
    "| 2        | C         | 2       | 8        | C         | 3       |\n",
    "| 3        | B         | 3       | 9        | A         | 3       |\n",
    "| 4        | A         | 3       | 10       | C         | 2       |\n",
    "| 5        | B         | 2       | 11       | D         | 2       |\n",
    "| 6        | C         | 2       | 12       | A         | 3       |\n",
    " "
   ]
  }
 ],
 "metadata": {
  "@webio": {
   "lastCommId": null,
   "lastKernelId": null
  },
  "kernelspec": {
   "display_name": "Julia 1.1.0",
   "language": "julia",
   "name": "julia-1.1"
  },
  "language_info": {
   "file_extension": ".jl",
   "mimetype": "application/julia",
   "name": "julia",
   "version": "1.1.0"
  }
 },
 "nbformat": 4,
 "nbformat_minor": 2
}
