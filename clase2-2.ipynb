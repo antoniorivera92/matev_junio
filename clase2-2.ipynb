{
 "cells": [
  {
   "cell_type": "markdown",
   "metadata": {},
   "source": [
    "# Pensamiento geométrico para visualizar y argumentar"
   ]
  },
  {
   "cell_type": "markdown",
   "metadata": {},
   "source": [
    "# Clase 2"
   ]
  },
  {
   "cell_type": "markdown",
   "metadata": {},
   "source": [
    "### Sectores circulares"
   ]
  },
  {
   "cell_type": "markdown",
   "metadata": {},
   "source": [
    "El área de un sector circular es\n",
    "\n",
    "$$ A= \\dfrac{\\theta R^2}{2} $$"
   ]
  },
  {
   "cell_type": "markdown",
   "metadata": {},
   "source": [
    "El área de un sector circular es\n",
    "\n",
    "$$ A= \\dfrac{t\\pi R^2}{360} $$"
   ]
  },
  {
   "cell_type": "markdown",
   "metadata": {},
   "source": [
    "**Nota importante:** Aquí el ángulo $\\theta$ se mide en radianes y el ángulo $t$ se mide en grados."
   ]
  },
  {
   "cell_type": "markdown",
   "metadata": {},
   "source": [
    "<img src=\"seg_circular1.png\" align=\"middle\" width=\"300\">"
   ]
  },
  {
   "cell_type": "markdown",
   "metadata": {},
   "source": [
    "El perímetro de un sector circular se mide como\n",
    "$$ P=R(\\theta+2) $$"
   ]
  },
  {
   "cell_type": "markdown",
   "metadata": {},
   "source": [
    "El perímetro de un sector circular se mide como\n",
    "$$ P=R\\left(\\dfrac{\\pi t}{180}+2\\right) $$"
   ]
  },
  {
   "cell_type": "markdown",
   "metadata": {},
   "source": [
    "**Nota importante:** Aquí el ángulo $\\theta$ se mide en radianes y el ángulo $t$ se mide en grados."
   ]
  },
  {
   "cell_type": "markdown",
   "metadata": {},
   "source": [
    "* ***Ejemplo:*** Calcular el área de un sector circular de radio 3 cm y ángulo de $30\\,{}^\\circ$."
   ]
  },
  {
   "cell_type": "markdown",
   "metadata": {},
   "source": [
    "<img src=\"seg_circular1.png\" align=\"middle\" width=\"300\">"
   ]
  },
  {
   "cell_type": "markdown",
   "metadata": {},
   "source": [
    "* Datos:\n",
    "    * $R=3$\n",
    "    * $t=30^\\circ$\n",
    "    * $\\theta=\\dfrac{\\pi}{6}\\ rad$\n",
    "    * $A=?$"
   ]
  },
  {
   "cell_type": "markdown",
   "metadata": {},
   "source": [
    "$$ 30^\\circ=\\dfrac{30\\pi}{180}\\ rad=\\dfrac{\\pi}{6}\\ rad $$"
   ]
  },
  {
   "cell_type": "markdown",
   "metadata": {},
   "source": [
    "* Fórmula:"
   ]
  },
  {
   "cell_type": "markdown",
   "metadata": {},
   "source": [
    "$$ A=\\dfrac{\\theta R^2}{2} $$"
   ]
  },
  {
   "cell_type": "markdown",
   "metadata": {},
   "source": [
    "* Sustitución:"
   ]
  },
  {
   "cell_type": "markdown",
   "metadata": {},
   "source": [
    "$$ A=\\dfrac{\\frac{\\pi}{6} (3)^2}{2} $$"
   ]
  },
  {
   "cell_type": "markdown",
   "metadata": {},
   "source": [
    "$$ =\\dfrac{\\frac{\\pi}{6} 9}{2} $$"
   ]
  },
  {
   "cell_type": "markdown",
   "metadata": {},
   "source": [
    "$$ =\\dfrac{\\frac{9\\pi}{6}}{2} $$"
   ]
  },
  {
   "cell_type": "markdown",
   "metadata": {},
   "source": [
    "$$ =\\dfrac{\\frac{3\\pi}{2}}{\\frac{2}{1}} $$"
   ]
  },
  {
   "cell_type": "markdown",
   "metadata": {},
   "source": [
    "$$ =\\dfrac{3\\pi}{4} $$"
   ]
  },
  {
   "cell_type": "code",
   "execution_count": 1,
   "metadata": {},
   "outputs": [
    {
     "data": {
      "text/plain": [
       "2.356194490192345"
      ]
     },
     "execution_count": 1,
     "metadata": {},
     "output_type": "execute_result"
    }
   ],
   "source": [
    "3π/4"
   ]
  },
  {
   "cell_type": "markdown",
   "metadata": {},
   "source": [
    "El área es $\\dfrac{3\\pi}{4}\\ \\text{cm}^2=2.356\\ \\text{cm}^2$"
   ]
  },
  {
   "cell_type": "markdown",
   "metadata": {},
   "source": [
    "* ***Ejemplo:*** Calcular el área y perímetro de un sector circular de radio 5 pulgadas (in) y ángulo de $\\dfrac{3}{4}\\pi\\ \\rm{rad}$."
   ]
  },
  {
   "cell_type": "markdown",
   "metadata": {},
   "source": [
    "* Datos:\n",
    "    * $R=5$\n",
    "    * $\\theta=\\dfrac{3}{4}\\pi\\ \\rm{rad}$\n",
    "    * $A=?$"
   ]
  },
  {
   "cell_type": "markdown",
   "metadata": {},
   "source": [
    "* Fórmula:"
   ]
  },
  {
   "cell_type": "markdown",
   "metadata": {},
   "source": [
    "$$ A=\\dfrac{\\theta R^2}{2} $$"
   ]
  },
  {
   "cell_type": "markdown",
   "metadata": {},
   "source": [
    "* Sustitución:"
   ]
  },
  {
   "cell_type": "markdown",
   "metadata": {},
   "source": [
    "$$ A=\\dfrac{\\frac{3}{4}\\pi (5)^2}{2} $$"
   ]
  },
  {
   "cell_type": "markdown",
   "metadata": {},
   "source": [
    "$$ =\\dfrac{\\frac{3}{4}\\pi 25}{2} $$"
   ]
  },
  {
   "cell_type": "markdown",
   "metadata": {},
   "source": [
    "$$ =\\dfrac{\\frac{3}{4}\\pi \\frac{25}{1}}{2} $$"
   ]
  },
  {
   "cell_type": "markdown",
   "metadata": {},
   "source": [
    "$$ =\\dfrac{\\frac{75}{4}}{\\frac{2}{1}}\\pi $$"
   ]
  },
  {
   "cell_type": "markdown",
   "metadata": {},
   "source": [
    "$$ =\\dfrac{75}{8}\\pi $$"
   ]
  },
  {
   "cell_type": "markdown",
   "metadata": {},
   "source": [
    "El área es $\\dfrac{75\\pi}{8}\\ \\text{in}^2$"
   ]
  },
  {
   "cell_type": "markdown",
   "metadata": {},
   "source": [
    "* ***Ejemplo:*** Calcular el perímetro de un sector circular de radio 5 pies (ft) y ángulo de $\\dfrac{3}{4}\\pi\\ \\rm{rad}$."
   ]
  },
  {
   "cell_type": "markdown",
   "metadata": {},
   "source": [
    "<img src=\"seg_circular1.png\" align=\"middle\" width=\"300\">"
   ]
  },
  {
   "cell_type": "markdown",
   "metadata": {},
   "source": [
    "* Datos:\n",
    "    * $R=5$\n",
    "    * $\\theta=\\dfrac{3}{4}\\pi\\ \\rm{rad}$\n",
    "    * $P=?$"
   ]
  },
  {
   "cell_type": "markdown",
   "metadata": {},
   "source": [
    "* Fórmula:"
   ]
  },
  {
   "cell_type": "markdown",
   "metadata": {},
   "source": [
    "$$ P=R(2+\\theta) $$"
   ]
  },
  {
   "cell_type": "markdown",
   "metadata": {},
   "source": [
    "* Sustitución:"
   ]
  },
  {
   "cell_type": "markdown",
   "metadata": {},
   "source": [
    "$$ P=5\\left(2+\\dfrac{3}{4}\\pi\\right)=10+\\dfrac{15}{4}\\pi=21.78 $$"
   ]
  },
  {
   "cell_type": "code",
   "execution_count": 2,
   "metadata": {},
   "outputs": [
    {
     "data": {
      "text/plain": [
       "21.780972450961723"
      ]
     },
     "execution_count": 2,
     "metadata": {},
     "output_type": "execute_result"
    }
   ],
   "source": [
    "10+15π/4"
   ]
  },
  {
   "cell_type": "markdown",
   "metadata": {},
   "source": [
    "El perímetro del sector circular es $\\left(10+\\dfrac{15}{4}\\pi\\right)\\ \\text{ft}=21.78\\ \\text{ft}$"
   ]
  },
  {
   "cell_type": "markdown",
   "metadata": {},
   "source": [
    "* ***Ejemplo:*** Calcular el perímetro de un sector circular de radio 3 y ángulo de $30\\,{}^\\circ$."
   ]
  },
  {
   "cell_type": "markdown",
   "metadata": {},
   "source": [
    "* Datos:"
   ]
  },
  {
   "cell_type": "markdown",
   "metadata": {},
   "source": [
    "* Fórmula:"
   ]
  },
  {
   "cell_type": "markdown",
   "metadata": {},
   "source": [
    "* Sustitución:"
   ]
  },
  {
   "cell_type": "markdown",
   "metadata": {},
   "source": [
    "<img src=\"seg_circular1.png\" align=\"middle\" width=\"200\">"
   ]
  },
  {
   "cell_type": "markdown",
   "metadata": {},
   "source": [
    "## Triángulo"
   ]
  },
  {
   "cell_type": "markdown",
   "metadata": {},
   "source": [
    "<img src=\"triangulo.png\" align=\"middle\" width=\"300\">"
   ]
  },
  {
   "cell_type": "markdown",
   "metadata": {},
   "source": [
    "**¿Qué es un triángulo (también trigono)?**\n",
    "* Una figura geométrica que tiene 3 ángulos.\n",
    "* Una figura geométrica que tiene 3 vértices no colineales.\n",
    "* Un *polígono* (figura geométrica que tiene muchos lados) que tiene 3 lados (o también llamados catetos). "
   ]
  },
  {
   "cell_type": "markdown",
   "metadata": {},
   "source": [
    "**Importante:** La suma de los ángulos internos de cualquier triángulo es un ángulo llano:\n",
    "\n",
    "$$ A+B+C=180^\\circ=\\pi\\ \\rm{rad} $$"
   ]
  },
  {
   "cell_type": "markdown",
   "metadata": {},
   "source": [
    "**¿Qué es el cateto opuesto?**\n",
    "\n",
    "Imaginemos un cuarto que tiene forma de triángulo. Ponemos una linterna en el ángulo $A$. El *cateto opuesto* es la pared que se ilumina."
   ]
  },
  {
   "cell_type": "markdown",
   "metadata": {},
   "source": [
    "<img src=\"cateto_opuesto.png\" align=\"middle\" width=\"300\">"
   ]
  },
  {
   "cell_type": "markdown",
   "metadata": {},
   "source": [
    "Entonces, cuando escribimos un triángulo como en las dos figuras anteriores tenemos que:\n",
    "* \"$a$ es el cateto opuesto al ángulo $A$\"  ó  \"$A$ es el ángulo opuesto al cateto $a$\"\n",
    "* \"$b$ es el cateto opuesto al ángulo $B$\" ó \"$B$ es el ángulo opuesto al cateto $b$\"\n",
    "* \"$c$ es el cateto opuesto al ángulo $C$\" ó \"$C$ es el ángulo opuesto al cateto $c$\""
   ]
  },
  {
   "cell_type": "markdown",
   "metadata": {},
   "source": [
    "### Tipos de triángulos"
   ]
  },
  {
   "cell_type": "markdown",
   "metadata": {},
   "source": [
    "<img src=\"triangulo.png\" align=\"middle\" width=\"300\">"
   ]
  },
  {
   "cell_type": "markdown",
   "metadata": {},
   "source": [
    "i) **Equilátero:** Tres lados iguales ($a=b=c$) ó tres ángulos iguales ($A=B=C=60^\\circ=\\dfrac{\\pi}{3}\\ rad$)\n",
    "\n",
    "ii) **Isósceles:** Dos lados iguales (p.ej. $a=c$) ó dos ángulos iguales (p.ej. $A=C$)\n",
    "\n",
    "iii) **Escaleno:** Ningún lado igual ($a\\neq b\\neq c$) ó ningún ángulo igual ($A\\neq B\\neq C$)"
   ]
  },
  {
   "cell_type": "markdown",
   "metadata": {},
   "source": [
    "<img src=\"tipos_triang1.png\" align=\"middle\" width=\"700\">"
   ]
  },
  {
   "cell_type": "markdown",
   "metadata": {},
   "source": [
    "i) **Rectángulo:** Uno de sus ángulos es recto (vale $90^\\circ$ ó $\\dfrac{\\pi}{2}\\ \\rm{rad}$)\n",
    "\n",
    "ii) **Oblicuángulo:** Ninguno de sus ángulos es recto"
   ]
  },
  {
   "cell_type": "markdown",
   "metadata": {},
   "source": [
    "<img src=\"tipos_triang2.png\" align=\"middle\" width=\"500\">"
   ]
  },
  {
   "cell_type": "markdown",
   "metadata": {},
   "source": [
    "Noten que:\n",
    "* Un triángulo rectángulo puede ser un triángulo isósceles.\n",
    "* Un triángulo rectángulo puede ser un triángulo escaleno.\n",
    "* Un triángulo rectángulo **NO** puede ser un triángulo equilátero.\n",
    "* Un triángulo oblicuángulo puede ser un triángulo isósceles.\n",
    "* Un triángulo oblicuángulo puede ser un triángulo escaleno.\n",
    "* Un triángulo oblicuángulo puede ser un triángulo equilátero."
   ]
  },
  {
   "cell_type": "markdown",
   "metadata": {},
   "source": [
    "### Teorema de Tales y triángulos"
   ]
  },
  {
   "cell_type": "markdown",
   "metadata": {},
   "source": [
    "<img src=\"tales.png\" align=\"middle\" width=\"300\">"
   ]
  },
  {
   "cell_type": "markdown",
   "metadata": {},
   "source": [
    "*Si tenemos tres rectas paralelas y estas cortan a dos rectas que no son paralelas se producen segmentos proporcionales:*\n",
    "\n",
    "$$ \\dfrac{\\overline{AB}}{\\overline{AC}}=\\dfrac{\\overline{DE}}{\\overline{DF}} $$"
   ]
  },
  {
   "cell_type": "markdown",
   "metadata": {},
   "source": [
    "También se cumple que\n",
    "\n",
    "$$ \\dfrac{\\overline{AB}}{\\overline{BC}}=\\dfrac{\\overline{DE}}{\\overline{EF}} $$"
   ]
  },
  {
   "cell_type": "markdown",
   "metadata": {},
   "source": [
    "### Semejanza"
   ]
  },
  {
   "cell_type": "markdown",
   "metadata": {},
   "source": [
    "Dos cosas semejantes si son de la misma forma aunque tengan distinto tamaño."
   ]
  },
  {
   "cell_type": "markdown",
   "metadata": {},
   "source": [
    "<img src=\"minime.jpg\" align=\"middle\" width=\"300\">"
   ]
  },
  {
   "cell_type": "markdown",
   "metadata": {},
   "source": [
    "### Triángulos semejantes"
   ]
  },
  {
   "cell_type": "markdown",
   "metadata": {},
   "source": [
    "Dos triángulos son semejantes si tienen la misma forma pero distinto tamaño. Dicho de otra forma, dos triángulos son semejantes si los triángulos tienen los mismo ángulos y los lados son proporcionales. La manera en que nos aseguramos que sean semejantes es:\n",
    "* si tienen todos sus ángulos iguales entre sí\n",
    "* si tienen dos ángulos iguales entre sí\n",
    "* si tienen un ángulo igual entre sí y sus dos de sus lados son proporcionales con los lados correspondientes del otro triángulo\n",
    "* si todos sus lados son proporcionales entre sí"
   ]
  },
  {
   "cell_type": "markdown",
   "metadata": {},
   "source": [
    "### Ejemplos de semejanza de triángulos"
   ]
  },
  {
   "cell_type": "markdown",
   "metadata": {},
   "source": [
    "* ***Ejemplo:***"
   ]
  },
  {
   "cell_type": "markdown",
   "metadata": {},
   "source": [
    "<img src=\"triangulo.png\" align=\"middle\" width=\"300\">"
   ]
  },
  {
   "cell_type": "markdown",
   "metadata": {},
   "source": [
    "Pinto una línea paralela y genero dos triángulos:\n",
    "* $\\Delta ABC$\n",
    "* $\\Delta DBE$"
   ]
  },
  {
   "cell_type": "markdown",
   "metadata": {},
   "source": [
    "<img src=\"triang_sem1.png\" align=\"middle\" width=\"400\">"
   ]
  },
  {
   "cell_type": "markdown",
   "metadata": {},
   "source": [
    "Los separo:"
   ]
  },
  {
   "cell_type": "markdown",
   "metadata": {},
   "source": [
    "<img src=\"triang_sem2.png\" align=\"middle\" width=\"550\">"
   ]
  },
  {
   "cell_type": "markdown",
   "metadata": {},
   "source": [
    "**¿Qué podemos decir?**"
   ]
  },
  {
   "cell_type": "markdown",
   "metadata": {},
   "source": [
    "$$ \\dfrac{\\overline{AB}}{\\overline{BD}}=\\dfrac{\\overline{BC}}{\\overline{BE}}=\\dfrac{\\overline{AC}}{\\overline{DE}} $$"
   ]
  },
  {
   "cell_type": "markdown",
   "metadata": {},
   "source": [
    "**¿Qué podemos decir también?**"
   ]
  },
  {
   "cell_type": "markdown",
   "metadata": {},
   "source": [
    "$$ \\dfrac{\\overline{AC}}{\\overline{AB}}=\\dfrac{\\overline{DE}}{\\overline{BD}} $$"
   ]
  },
  {
   "cell_type": "markdown",
   "metadata": {},
   "source": [
    "***Ejemplo:*** Pensemos que los triángulos semejantes son:"
   ]
  },
  {
   "cell_type": "markdown",
   "metadata": {},
   "source": [
    "<img src=\"semejanza1.png\" align=\"middle\" width=\"500\">"
   ]
  },
  {
   "cell_type": "markdown",
   "metadata": {},
   "source": [
    "$$ \\dfrac{x+1}{4}=\\dfrac{12}{6} $$"
   ]
  },
  {
   "cell_type": "markdown",
   "metadata": {},
   "source": [
    "$$ \\dfrac{x+1}{4}=2 $$"
   ]
  },
  {
   "cell_type": "markdown",
   "metadata": {},
   "source": [
    "$$ x+1=2\\cdot4=8 $$"
   ]
  },
  {
   "cell_type": "markdown",
   "metadata": {},
   "source": [
    "$$ x=7 $$"
   ]
  },
  {
   "cell_type": "markdown",
   "metadata": {},
   "source": [
    "$$ \\dfrac{y-1}{8}=\\dfrac{6}{12} $$"
   ]
  },
  {
   "cell_type": "markdown",
   "metadata": {},
   "source": [
    "$$ \\dfrac{8}{y-1}=\\dfrac{12}{6} $$"
   ]
  },
  {
   "cell_type": "markdown",
   "metadata": {},
   "source": [
    "$$ \\dfrac{8}{y-1}=2 $$"
   ]
  },
  {
   "cell_type": "markdown",
   "metadata": {},
   "source": [
    "$$ 8=2(y-1) $$"
   ]
  },
  {
   "cell_type": "markdown",
   "metadata": {},
   "source": [
    "$$ \\dfrac{8}{2}=y-1 $$"
   ]
  },
  {
   "cell_type": "markdown",
   "metadata": {},
   "source": [
    "$$ 4=y-1 $$"
   ]
  },
  {
   "cell_type": "markdown",
   "metadata": {},
   "source": [
    "$$ 5=y $$"
   ]
  }
 ],
 "metadata": {
  "kernelspec": {
   "display_name": "Julia 1.1.0",
   "language": "julia",
   "name": "julia-1.1"
  },
  "language_info": {
   "file_extension": ".jl",
   "mimetype": "application/julia",
   "name": "julia",
   "version": "1.1.0"
  }
 },
 "nbformat": 4,
 "nbformat_minor": 4
}
