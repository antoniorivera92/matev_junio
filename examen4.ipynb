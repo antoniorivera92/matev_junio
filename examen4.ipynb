{
 "cells": [
  {
   "cell_type": "markdown",
   "metadata": {},
   "source": [
    "# Examen 3"
   ]
  },
  {
   "cell_type": "markdown",
   "metadata": {},
   "source": [
    "## Situación 1: Área de un trapecio"
   ]
  },
  {
   "cell_type": "markdown",
   "metadata": {},
   "source": [
    "**Dentro de un semicírculo de 5 cm de radio se encuentra inscrito un trapecio con base menor $x$, base mayor $y$, y altura $h$. Pensemos que la base mayor siempre es el doble de la base menor.**"
   ]
  },
  {
   "cell_type": "markdown",
   "metadata": {},
   "source": [
    "<img src=\"trapecio_x.png\" align=\"middle\" width=\"500\">"
   ]
  },
  {
   "cell_type": "markdown",
   "metadata": {},
   "source": [
    "**1. Selecciona la opción que describe la altura, $h$, del trapecio como función de su base menor, $x$.**\n",
    "\n",
    "**(3 puntos)**"
   ]
  },
  {
   "cell_type": "markdown",
   "metadata": {},
   "source": [
    "A. $ h(x)=\\dfrac{\\sqrt{100+x^2}+\\sqrt{100+4x^2}}{2} $\n",
    "\n",
    "B. $ h(x)=\\dfrac{\\sqrt{100+x^2}-\\sqrt{100+4x^2}}{2} $\n",
    "\n",
    "C. $ h(x)=\\dfrac{\\sqrt{100-x^2}+\\sqrt{100-4x^2}}{2} $\n",
    "\n",
    "D. $ h(x)=\\dfrac{\\sqrt{100-x^2}-\\sqrt{100-4x^2}}{2} $"
   ]
  },
  {
   "cell_type": "markdown",
   "metadata": {},
   "source": [
    "**1ra manera:**"
   ]
  },
  {
   "cell_type": "markdown",
   "metadata": {},
   "source": [
    "Algo que debería ser muy claro es que, cuando la base menor es $x=0$, la altura debe ser $h=0$. Las únicas opciones que cumplen con esto son B. y D."
   ]
  },
  {
   "cell_type": "markdown",
   "metadata": {},
   "source": [
    "La otra opción que tal vez no es tan clara es que, cuando la base menor es $x=5$, se nos forman tres triángulos equiláteros, por lo que la altura del trapecio debe ser $h=\\dfrac{5\\sqrt{3}}{2}$. Para verlo revisen la siguiente imagen:"
   ]
  },
  {
   "cell_type": "markdown",
   "metadata": {},
   "source": [
    "<img src=\"trapecio_caso2.png\" align=\"middle\" width=\"500\">"
   ]
  },
  {
   "cell_type": "markdown",
   "metadata": {},
   "source": [
    "La única opción que cumple con esto es D."
   ]
  },
  {
   "cell_type": "markdown",
   "metadata": {},
   "source": [
    "Tal vez la visualización ayude:"
   ]
  },
  {
   "cell_type": "markdown",
   "metadata": {},
   "source": [
    "https://www.desmos.com/calculator/wxgpr5gc1i"
   ]
  },
  {
   "cell_type": "markdown",
   "metadata": {},
   "source": [
    "**2da manera:**"
   ]
  },
  {
   "cell_type": "markdown",
   "metadata": {},
   "source": [
    "<img src=\"trapecio_x.png\" align=\"middle\" width=\"500\">"
   ]
  },
  {
   "cell_type": "markdown",
   "metadata": {},
   "source": [
    "<img src=\"trapecio_alturas.png\" align=\"middle\" width=\"500\">"
   ]
  },
  {
   "cell_type": "markdown",
   "metadata": {},
   "source": [
    "Usaremos el teorema de Pitágoras:"
   ]
  },
  {
   "cell_type": "markdown",
   "metadata": {},
   "source": [
    "$$(\\text{c.o.})^2+(\\text{c.a.})^2=(\\text{hip.})^2$$"
   ]
  },
  {
   "cell_type": "markdown",
   "metadata": {},
   "source": [
    "Para el triángulo azul tenemos:"
   ]
  },
  {
   "cell_type": "markdown",
   "metadata": {},
   "source": [
    "$$ \\left(\\dfrac{x}{2}\\right)^2+(h_1)^2=(5)^2 $$"
   ]
  },
  {
   "cell_type": "markdown",
   "metadata": {},
   "source": [
    "$$ h_1=\\sqrt{25-\\dfrac{x^2}{4}}$$"
   ]
  },
  {
   "cell_type": "markdown",
   "metadata": {},
   "source": [
    "Para el triángulo verde tenemos:"
   ]
  },
  {
   "cell_type": "markdown",
   "metadata": {},
   "source": [
    "$$ \\left(\\dfrac{y}{2}\\right)^2+(h_2)^2=(5)^2 $$"
   ]
  },
  {
   "cell_type": "markdown",
   "metadata": {},
   "source": [
    "$$ h_2=\\sqrt{25-\\dfrac{y^2}{4}} $$"
   ]
  },
  {
   "cell_type": "markdown",
   "metadata": {},
   "source": [
    "$$ y=2x $$"
   ]
  },
  {
   "cell_type": "markdown",
   "metadata": {},
   "source": [
    "$$ h_2=\\sqrt{25-\\dfrac{(2x)^2}{4}} $$"
   ]
  },
  {
   "cell_type": "markdown",
   "metadata": {},
   "source": [
    "$$ h_2=\\sqrt{25-x^2} $$"
   ]
  },
  {
   "cell_type": "markdown",
   "metadata": {},
   "source": [
    "La altura es"
   ]
  },
  {
   "cell_type": "markdown",
   "metadata": {},
   "source": [
    "$$ h=h_1-h_2=\\sqrt{25-\\dfrac{x^2}{4}}-\\sqrt{25-x^2}=\\sqrt{\\dfrac{100}{4}-\\dfrac{x^2}{4}}-\\sqrt{25-x^2} $$"
   ]
  },
  {
   "cell_type": "markdown",
   "metadata": {},
   "source": [
    "$$ =\\sqrt{\\dfrac{100-x^2}{4}}-\\sqrt{25-x^2}=\\dfrac{\\sqrt{100-x^2}}{\\sqrt{4}}-\\sqrt{25-x^2} $$"
   ]
  },
  {
   "cell_type": "markdown",
   "metadata": {},
   "source": [
    "$$ =\\dfrac{\\sqrt{100-x^2}}{2}-\\sqrt{25-x^2}=\\dfrac{\\sqrt{100-x^2}}{2}-\\dfrac{2\\sqrt{25-x^2}}{2} $$"
   ]
  },
  {
   "cell_type": "markdown",
   "metadata": {},
   "source": [
    "$$ =\\dfrac{\\sqrt{100-x^2}}{2}-\\dfrac{\\sqrt{4}\\sqrt{25-x^2}}{2}=\\dfrac{\\sqrt{100-x^2}}{2}-\\dfrac{\\sqrt{4(25-x^2)}}{2} $$"
   ]
  },
  {
   "cell_type": "markdown",
   "metadata": {},
   "source": [
    "$$ =\\dfrac{\\sqrt{100-x^2}-\\sqrt{100-4x^2}}{2} $$"
   ]
  },
  {
   "cell_type": "markdown",
   "metadata": {},
   "source": [
    "A. $ h(x)=\\dfrac{\\sqrt{100+x^2}+\\sqrt{100+4x^2}}{2} $\n",
    "\n",
    "B. $ h(x)=\\dfrac{\\sqrt{100+x^2}-\\sqrt{100+4x^2}}{2} $\n",
    "\n",
    "C. $ h(x)=\\dfrac{\\sqrt{100-x^2}+\\sqrt{100-4x^2}}{2} $\n",
    "\n",
    "D. $ h(x)=\\dfrac{\\sqrt{100-x^2}-\\sqrt{100-4x^2}}{2} $"
   ]
  },
  {
   "cell_type": "markdown",
   "metadata": {},
   "source": [
    "**Solución:** D."
   ]
  },
  {
   "cell_type": "markdown",
   "metadata": {},
   "source": [
    "**2. Selecciona la opción que describe el promedio de la base mayor y la base menor.**\n",
    "\n",
    "**(1 punto)**"
   ]
  },
  {
   "cell_type": "markdown",
   "metadata": {},
   "source": [
    "A. $ \\dfrac{3x}{2} $\n",
    "\n",
    "B. $ \\dfrac{3x}{4} $\n",
    "\n",
    "C. $ \\dfrac{x}{2} $\n",
    "\n",
    "D. $3x$"
   ]
  },
  {
   "cell_type": "markdown",
   "metadata": {},
   "source": [
    "Como sabemos que la base mayor siempre es el doble de la base menor,"
   ]
  },
  {
   "cell_type": "markdown",
   "metadata": {},
   "source": [
    "$$ \\dfrac{B+b}{2}=\\dfrac{y+x}{2}=\\dfrac{2x+x}{2}=\\dfrac{3x}{2} $$"
   ]
  },
  {
   "cell_type": "markdown",
   "metadata": {},
   "source": [
    "A. $ \\dfrac{3x}{2} $\n",
    "\n",
    "B. $ \\dfrac{3x}{4} $\n",
    "\n",
    "C. $ \\dfrac{x}{2} $\n",
    "\n",
    "D. $3x$"
   ]
  },
  {
   "cell_type": "markdown",
   "metadata": {},
   "source": [
    "**Solución:** A."
   ]
  },
  {
   "cell_type": "markdown",
   "metadata": {},
   "source": [
    "**3. Selecciona la opción que describe el área del trapecio como función de su base menor, $x$.**\n",
    "\n",
    "**(2 puntos)**"
   ]
  },
  {
   "cell_type": "markdown",
   "metadata": {},
   "source": [
    "A. $ A(x)=\\dfrac{3x\\left(\\sqrt{100-x^2}-\\sqrt{100-4x^2}\\right)}{4} $\n",
    "\n",
    "B. $ A(x)=\\dfrac{3x\\left(\\sqrt{100+x^2}+\\sqrt{100+4x^2}\\right)}{8} $\n",
    "\n",
    "C. $ A(x)=\\dfrac{3x\\left(\\sqrt{100-x^2}+\\sqrt{100-4x^2}\\right)}{2} $\n",
    "\n",
    "D. $ A(x)=\\dfrac{x\\left(\\sqrt{100+x^2}-\\sqrt{100+4x^2}\\right)}{4} $"
   ]
  },
  {
   "cell_type": "markdown",
   "metadata": {},
   "source": [
    "Como el área de un trapecio es"
   ]
  },
  {
   "cell_type": "markdown",
   "metadata": {},
   "source": [
    "$$ A=\\dfrac{B+b}{2}\\cdot h= \\dfrac{3x}{2}\\cdot\\dfrac{\\sqrt{100-x^2}-\\sqrt{100-4x^2}}{2}=\\dfrac{3x\\left(\\sqrt{100-x^2}-\\sqrt{100-4x^2}\\right)}{4}$$"
   ]
  },
  {
   "cell_type": "markdown",
   "metadata": {},
   "source": [
    "A. $ A(x)=\\dfrac{3x\\left(\\sqrt{100-x^2}-\\sqrt{100-4x^2}\\right)}{4} $\n",
    "\n",
    "B. $ A(x)=\\dfrac{3x\\left(\\sqrt{100+x^2}+\\sqrt{100+4x^2}\\right)}{8} $\n",
    "\n",
    "C. $ A(x)=\\dfrac{3x\\left(\\sqrt{100-x^2}+\\sqrt{100-4x^2}\\right)}{2} $\n",
    "\n",
    "D. $ A(x)=\\dfrac{x\\left(\\sqrt{100+x^2}-\\sqrt{100+4x^2}\\right)}{4} $"
   ]
  },
  {
   "cell_type": "markdown",
   "metadata": {},
   "source": [
    "**Solución:** A."
   ]
  },
  {
   "cell_type": "markdown",
   "metadata": {},
   "source": [
    "**4. ¿Cuál es el área del trapecio cuando la base menor mide 2 cm?**\n",
    "\n",
    "**(2 puntos)**"
   ]
  },
  {
   "cell_type": "markdown",
   "metadata": {},
   "source": [
    "A. $ 12\\sqrt{6}+6\\sqrt{21} $\n",
    "\n",
    "B. $ \\sqrt{26}-\\sqrt{29} $\n",
    "\n",
    "C. $ 6\\sqrt{6}-3\\sqrt{21} $\n",
    "\n",
    "D. $ \\dfrac{3}{2}\\left(\\sqrt{26}+\\sqrt{29}\\right) $"
   ]
  },
  {
   "cell_type": "markdown",
   "metadata": {},
   "source": [
    "Para hacer esto simplemente usamos la función que encontramos"
   ]
  },
  {
   "cell_type": "markdown",
   "metadata": {},
   "source": [
    "$$ A(x)=\\dfrac{3x\\left(\\sqrt{100-x^2}-\\sqrt{100-4x^2}\\right)}{4}$$"
   ]
  },
  {
   "cell_type": "markdown",
   "metadata": {},
   "source": [
    "pero evaluada en $x=2$ :"
   ]
  },
  {
   "cell_type": "markdown",
   "metadata": {},
   "source": [
    "$$ A(2)=\\dfrac{3(2)\\left[\\sqrt{100-(2)^2}-\\sqrt{100-4(2)^2}\\right]}{4}=\\dfrac{6\\left(\\sqrt{100-4}-\\sqrt{100-16}\\right)}{4}=\\dfrac{3\\left(\\sqrt{96}-\\sqrt{84}\\right)}{2}$$"
   ]
  },
  {
   "cell_type": "markdown",
   "metadata": {},
   "source": [
    "$$ =\\dfrac{3\\left(\\sqrt{6\\cdot16}-\\sqrt{4\\cdot21}\\right)}{2}=\\dfrac{3\\left(4\\sqrt{6}-2\\sqrt{21}\\right)}{2}=3\\left(2\\sqrt{6}-\\sqrt{21}\\right)=6\\sqrt{6}-3\\sqrt{21}$$"
   ]
  },
  {
   "cell_type": "markdown",
   "metadata": {},
   "source": [
    "A. $ 12\\sqrt{6}+6\\sqrt{21} $\n",
    "\n",
    "B. $ \\sqrt{26}-\\sqrt{29} $\n",
    "\n",
    "C. $ 6\\sqrt{6}-3\\sqrt{21} $\n",
    "\n",
    "D. $ \\dfrac{3}{2}\\left(\\sqrt{26}+\\sqrt{29}\\right) $"
   ]
  },
  {
   "cell_type": "markdown",
   "metadata": {},
   "source": [
    "**Solución:** C."
   ]
  },
  {
   "cell_type": "markdown",
   "metadata": {},
   "source": [
    "**5. A continuación pensaremos en un semicírculo de radio $r$, el cual tiene inscrito un trapecio de base menor $x$ y base mayor $y$ (véase la figura). Nuevamente la base mayor será el doble de la base menor pero ahora queremos que la base mayor coincida con el diámetro de la circunferencia. Selecciona la opción que describe el área del trapecio como función del radio, $r$.**\n",
    "\n",
    "**(3 puntos)**"
   ]
  },
  {
   "cell_type": "markdown",
   "metadata": {},
   "source": [
    "<img src=\"trapecio_r.png\" align=\"middle\" width=\"500\">"
   ]
  },
  {
   "cell_type": "markdown",
   "metadata": {},
   "source": [
    "A. $ A(r)=\\dfrac{3\\sqrt{3}r^2}{4} $\n",
    "\n",
    "B. $ A(r)=\\dfrac{\\sqrt{3}r^2}{2} $\n",
    "\n",
    "C. $ A(r)=\\dfrac{\\sqrt{3}r(r+3)}{4} $\n",
    "\n",
    "D. $ A(r)=\\dfrac{3r(r+\\sqrt{3})}{2} $"
   ]
  },
  {
   "cell_type": "markdown",
   "metadata": {},
   "source": [
    "<img src=\"trapecio_r_sol.png\" align=\"middle\" width=\"500\">"
   ]
  },
  {
   "cell_type": "markdown",
   "metadata": {},
   "source": [
    "Por la figura y el enunciado sabemos que $y=2r$ y $x=r$. Usando el teorema de Pitágoras podemos averiguar que la altura es"
   ]
  },
  {
   "cell_type": "markdown",
   "metadata": {},
   "source": [
    "$$ \\text{(c.o.)}^2+\\text{(c.a.)}^2=\\text{(hip.)}^2 $$"
   ]
  },
  {
   "cell_type": "markdown",
   "metadata": {},
   "source": [
    "$$ h^2+\\left(\\dfrac{x}{2}\\right)^2=r^2 $$"
   ]
  },
  {
   "cell_type": "markdown",
   "metadata": {},
   "source": [
    "$$ h^2+\\left(\\dfrac{r}{2}\\right)^2=r^2 $$"
   ]
  },
  {
   "cell_type": "markdown",
   "metadata": {},
   "source": [
    "$$ h^2+\\dfrac{r^2}{4}=r^2 $$"
   ]
  },
  {
   "cell_type": "markdown",
   "metadata": {},
   "source": [
    "$$ h^2=\\dfrac{3r^2}{4} $$"
   ]
  },
  {
   "cell_type": "markdown",
   "metadata": {},
   "source": [
    "$$ h=\\dfrac{\\sqrt{3}r}{2} $$"
   ]
  },
  {
   "cell_type": "markdown",
   "metadata": {},
   "source": [
    "Entonces, el área del trapecio será"
   ]
  },
  {
   "cell_type": "markdown",
   "metadata": {},
   "source": [
    "$$ A=\\dfrac{B+b}{2}\\cdot h=\\dfrac{y+x}{2}\\cdot h=\\dfrac{3r}{2}\\cdot\\dfrac{\\sqrt{3}r}{2}=\\dfrac{3\\sqrt{3}r^2}{4} $$"
   ]
  },
  {
   "cell_type": "markdown",
   "metadata": {},
   "source": [
    "Una forma alternativa de hacer esto es viendo que el área del trapecio es igual al área de tres triángulos equilateros. Revisen la gráfica en Desmos:"
   ]
  },
  {
   "cell_type": "markdown",
   "metadata": {},
   "source": [
    "https://www.desmos.com/calculator/hfl34gofem"
   ]
  },
  {
   "cell_type": "markdown",
   "metadata": {},
   "source": [
    "A. $ A(r)=\\dfrac{3\\sqrt{3}r^2}{4} $\n",
    "\n",
    "B. $ A(r)=\\dfrac{\\sqrt{3}r^2}{2} $\n",
    "\n",
    "C. $ A(r)=\\dfrac{\\sqrt{3}r(r+3)}{4} $\n",
    "\n",
    "D. $ A(r)=\\dfrac{3r(r+\\sqrt{3})}{2} $"
   ]
  },
  {
   "cell_type": "markdown",
   "metadata": {},
   "source": [
    "**Solución:** A."
   ]
  },
  {
   "cell_type": "markdown",
   "metadata": {},
   "source": [
    "**6. ¿Cuál será el radio aproximado de la circunferencia para que el trapecio dentro de ésta tenga un área de 25 cm²? Redondea tu resultado a dos décimas.**\n",
    "\n",
    "**(2 puntos)**"
   ]
  },
  {
   "cell_type": "markdown",
   "metadata": {},
   "source": [
    "A. 1.75 cm\n",
    "\n",
    "B. 4.39 cm\n",
    "\n",
    "C. 5.06 cm\n",
    "\n",
    "D. 7.86 cm"
   ]
  },
  {
   "cell_type": "markdown",
   "metadata": {},
   "source": [
    "Simplemente hacemos que la función anterior valga 25 y despejamos el radio."
   ]
  },
  {
   "cell_type": "markdown",
   "metadata": {},
   "source": [
    "$$ 25=\\dfrac{3\\sqrt{3}r^2}{4} $$"
   ]
  },
  {
   "cell_type": "markdown",
   "metadata": {},
   "source": [
    "$$ r=\\sqrt{\\dfrac{4\\cdot25}{3\\sqrt{3}}}=4.3869\\dots $$"
   ]
  },
  {
   "cell_type": "code",
   "execution_count": 1,
   "metadata": {},
   "outputs": [
    {
     "data": {
      "text/plain": [
       "4.386913376508308"
      ]
     },
     "execution_count": 1,
     "metadata": {},
     "output_type": "execute_result"
    }
   ],
   "source": [
    "√(4*25/(3*√3))"
   ]
  },
  {
   "cell_type": "markdown",
   "metadata": {},
   "source": [
    "A. 1.75 cm\n",
    "\n",
    "B. 4.39 cm\n",
    "\n",
    "C. 5.06 cm\n",
    "\n",
    "D. 7.86 cm"
   ]
  },
  {
   "cell_type": "markdown",
   "metadata": {},
   "source": [
    "**Solución:** B."
   ]
  },
  {
   "cell_type": "markdown",
   "metadata": {},
   "source": [
    "## Situación 2: Medicamento"
   ]
  },
  {
   "cell_type": "markdown",
   "metadata": {},
   "source": [
    "**La cantidad en gramos de un medicamento en el organismo humano, después de $t$ horas de ingerido, se modela de acuerdo a la ecuación**\n",
    "\n",
    "$$M(t)=\\frac{7}{9}\\,A^{1-0.08t}\\ ,$$\n",
    "\n",
    "**donde $M$ es la cantidad de medicamento restante y $A$ es la cantidad de medicamento ingerido en gramos.**"
   ]
  },
  {
   "cell_type": "markdown",
   "metadata": {},
   "source": [
    "**7. ¿Qué tipo de función es el modelo que representa este problema?**\n",
    "\n",
    "**(1 punto)**"
   ]
  },
  {
   "cell_type": "markdown",
   "metadata": {},
   "source": [
    "A. Función lineal\n",
    "\n",
    "B. Función racional\n",
    "\n",
    "C. Función exponencial\n",
    "\n",
    "D. Función logarítmica"
   ]
  },
  {
   "cell_type": "markdown",
   "metadata": {},
   "source": [
    "Para hallar la respuesta simplemente hay que identificar la variable independiente y reconocer lo que está pasando en la estructura de la función."
   ]
  },
  {
   "cell_type": "markdown",
   "metadata": {},
   "source": [
    "Como la función es $M(t)$, la variable independiente (de la cual $M$ depende) es $t$. En la estructura de la función se encuentra como un exponente. Entonces, la función es del tipo exponencial."
   ]
  },
  {
   "cell_type": "markdown",
   "metadata": {},
   "source": [
    "A. Función lineal\n",
    "\n",
    "B. Función racional\n",
    "\n",
    "C. Función exponencial\n",
    "\n",
    "D. Función logarítmica"
   ]
  },
  {
   "cell_type": "markdown",
   "metadata": {},
   "source": [
    "**Solución:** C."
   ]
  },
  {
   "cell_type": "markdown",
   "metadata": {},
   "source": [
    "**8. Si despejamos a $t$ de la ecuación para obtener una función de la forma $t(M)$, ¿qué tipo de función obtenemos?**\n",
    "\n",
    "**(2 puntos)**"
   ]
  },
  {
   "cell_type": "markdown",
   "metadata": {},
   "source": [
    "A. Función lineal\n",
    "\n",
    "B. Función racional\n",
    "\n",
    "C. Función exponencial\n",
    "\n",
    "D. Función logarítmica"
   ]
  },
  {
   "cell_type": "markdown",
   "metadata": {},
   "source": [
    "Al despejar predecimos que obtendremos la operación contraria al tipo de función del ejercicio anterior: una función logarítmica."
   ]
  },
  {
   "cell_type": "markdown",
   "metadata": {},
   "source": [
    "$$M=\\frac{7}{9}\\,A^{1-0.08t}$$"
   ]
  },
  {
   "cell_type": "markdown",
   "metadata": {},
   "source": [
    "$$\\dfrac{9}{7}M=A^{1-0.08t}$$"
   ]
  },
  {
   "cell_type": "markdown",
   "metadata": {},
   "source": [
    "$$\\log_A\\left(\\dfrac{9}{7}M\\right)=1-0.08t$$"
   ]
  },
  {
   "cell_type": "markdown",
   "metadata": {},
   "source": [
    "$$0.08t=1-\\log_A\\left(\\dfrac{9}{7}M\\right)$$"
   ]
  },
  {
   "cell_type": "markdown",
   "metadata": {},
   "source": [
    "$$t=\\dfrac{1-\\log_A\\left(\\dfrac{9}{7}M\\right)}{0.08}$$"
   ]
  },
  {
   "cell_type": "markdown",
   "metadata": {},
   "source": [
    "$$t(M)=\\dfrac{1-\\log_A\\left(\\dfrac{9}{7}M\\right)}{0.08}$$"
   ]
  },
  {
   "cell_type": "markdown",
   "metadata": {},
   "source": [
    "Como ahora la variable independiente es $M$, y dicha variable se encuentra dentro de un logaritmo, confirmamos nuestra predicción."
   ]
  },
  {
   "cell_type": "markdown",
   "metadata": {},
   "source": [
    "A. Función lineal\n",
    "\n",
    "B. Función racional\n",
    "\n",
    "C. Función exponencial\n",
    "\n",
    "D. Función logarítmica"
   ]
  },
  {
   "cell_type": "markdown",
   "metadata": {},
   "source": [
    "**Solución:** D."
   ]
  },
  {
   "cell_type": "markdown",
   "metadata": {},
   "source": [
    "**9. ¿Cuál es la cantidad de medicamento restante en el cuerpo de una persona después de 5 horas si se ingirieron 28 gramos? (Redondeada a una décima).**\n",
    "\n",
    "**(2 puntos)**"
   ]
  },
  {
   "cell_type": "markdown",
   "metadata": {},
   "source": [
    "A. 5.7 gramos\n",
    "\n",
    "B. 7.5 gramos\n",
    "\n",
    "C. 6.2 gramos\n",
    "\n",
    "D. 2.6 gramos"
   ]
  },
  {
   "cell_type": "markdown",
   "metadata": {},
   "source": [
    "* Datos:\n",
    "    * $A=28$\n",
    "    * $t=5$\n",
    "    * $M=?$"
   ]
  },
  {
   "cell_type": "markdown",
   "metadata": {},
   "source": [
    "* Fórmulas:"
   ]
  },
  {
   "cell_type": "markdown",
   "metadata": {},
   "source": [
    "$$M(t)=\\frac{7}{9}\\,A^{1-0.08t}$$"
   ]
  },
  {
   "cell_type": "markdown",
   "metadata": {},
   "source": [
    "* Sustitución:"
   ]
  },
  {
   "cell_type": "markdown",
   "metadata": {},
   "source": [
    "$$M(5)=\\frac{7}{9}\\,(28)^{1-0.08(5)}\\approx5.7$$"
   ]
  },
  {
   "cell_type": "code",
   "execution_count": 2,
   "metadata": {},
   "outputs": [
    {
     "data": {
      "text/plain": [
       "5.743152512800283"
      ]
     },
     "execution_count": 2,
     "metadata": {},
     "output_type": "execute_result"
    }
   ],
   "source": [
    "(7/9)*28^(1-0.08*5)"
   ]
  },
  {
   "cell_type": "markdown",
   "metadata": {},
   "source": [
    "A. 5.7 gramos\n",
    "\n",
    "B. 7.5 gramos\n",
    "\n",
    "C. 6.2 gramos\n",
    "\n",
    "D. 2.6 gramos"
   ]
  },
  {
   "cell_type": "markdown",
   "metadata": {},
   "source": [
    "**Solución:** A."
   ]
  },
  {
   "cell_type": "markdown",
   "metadata": {},
   "source": [
    "**10. ¿Cuánto tiempo debe pasar para que quede 10 gramos de medicamento si de administraron 50 gramos? (Redondeado a una décima).**\n",
    "\n",
    "**(2 puntos)**"
   ]
  },
  {
   "cell_type": "markdown",
   "metadata": {},
   "source": [
    "A. 4.3 horas\n",
    "\n",
    "B. 3.4 horas\n",
    "\n",
    "C. 4.7 horas\n",
    "\n",
    "D. 3.7 horas"
   ]
  },
  {
   "cell_type": "markdown",
   "metadata": {},
   "source": [
    "* Datos:\n",
    "    * $A=50$\n",
    "    * $M=10$\n",
    "    * $t=?$"
   ]
  },
  {
   "cell_type": "markdown",
   "metadata": {},
   "source": [
    "* Fórmulas:"
   ]
  },
  {
   "cell_type": "markdown",
   "metadata": {},
   "source": [
    "$$t(M)=\\dfrac{1-\\log_A\\left(\\dfrac{9}{7}M\\right)}{0.08}$$"
   ]
  },
  {
   "cell_type": "markdown",
   "metadata": {},
   "source": [
    "* Sustitución:"
   ]
  },
  {
   "cell_type": "markdown",
   "metadata": {},
   "source": [
    "$$t(10)=\\dfrac{1-\\log_{50}\\left(\\dfrac{9}{7}(10)\\right)}{0.08}$$"
   ]
  },
  {
   "cell_type": "markdown",
   "metadata": {},
   "source": [
    "Si tienen la `CASIO fx-991ES` pueden obtener esto directamente."
   ]
  },
  {
   "cell_type": "markdown",
   "metadata": {},
   "source": [
    "Si tienen la `CASIO fx-82MS` pueden obtenerlo mediante la ley de logaritmos que les decía en clase:"
   ]
  },
  {
   "cell_type": "markdown",
   "metadata": {},
   "source": [
    "$$t(10)=\\dfrac{1-\\log_{50}\\left(\\dfrac{9}{7}(10)\\right)}{0.08}=\\dfrac{1-\\dfrac{\\log\\left(\\dfrac{9}{7}(10)\\right)}{\\log\\left(50\\right)}}{0.08}\\approx4.34$$"
   ]
  },
  {
   "cell_type": "markdown",
   "metadata": {},
   "source": [
    "A. 4.3 horas\n",
    "\n",
    "B. 3.4 horas\n",
    "\n",
    "C. 4.7 horas\n",
    "\n",
    "D. 3.7 horas"
   ]
  },
  {
   "cell_type": "markdown",
   "metadata": {},
   "source": [
    "**Solución:** A. "
   ]
  },
  {
   "cell_type": "markdown",
   "metadata": {},
   "source": [
    "**11. ¿Cuál es la tasa media de cambio después de dos horas si se ingirieron 36 gramos? (Redondeada a una décima).**\n",
    "\n",
    "**(2 puntos)**"
   ]
  },
  {
   "cell_type": "markdown",
   "metadata": {},
   "source": [
    "A. -3.4\n",
    "\n",
    "B. -6.1\n",
    "\n",
    "C. 15.8\n",
    "\n",
    "D. 20.3"
   ]
  },
  {
   "cell_type": "markdown",
   "metadata": {},
   "source": [
    "* Datos:\n",
    "    * $A=36$\n",
    "    * $t_1=0$\n",
    "    * $t_2=2$"
   ]
  },
  {
   "cell_type": "markdown",
   "metadata": {},
   "source": [
    "* Fórmulas:"
   ]
  },
  {
   "cell_type": "markdown",
   "metadata": {},
   "source": [
    "$$ \\text{Tasa media de cambio}=\\dfrac{M(t_2)-M(t_1)}{t_2-t_1} $$"
   ]
  },
  {
   "cell_type": "markdown",
   "metadata": {},
   "source": [
    "* Sustitución:"
   ]
  },
  {
   "cell_type": "markdown",
   "metadata": {},
   "source": [
    "Primero calculamos las funciones"
   ]
  },
  {
   "cell_type": "markdown",
   "metadata": {},
   "source": [
    "$$M(0)=\\frac{7}{9}\\,(36)^{1-0.08(0)}=\\frac{7}{9}\\,(36)^{1}=28$$"
   ]
  },
  {
   "cell_type": "markdown",
   "metadata": {},
   "source": [
    "$$M(2)=\\frac{7}{9}\\,(36)^{1-0.08(2)}=\\frac{7}{9}\\,(36)^{1-0.16}=\\frac{7}{9}\\,(36)^{0.84}\\approx15.78$$"
   ]
  },
  {
   "cell_type": "markdown",
   "metadata": {},
   "source": [
    "$$ \\text{Tasa media de cambio}=\\dfrac{M(2)-M(0)}{(2)-(0)}=\\dfrac{15.78-28}{2}\\approx-6.11 $$"
   ]
  },
  {
   "cell_type": "markdown",
   "metadata": {},
   "source": [
    "A. -3.4\n",
    "\n",
    "B. -6.1\n",
    "\n",
    "C. 15.8\n",
    "\n",
    "D. 20.3"
   ]
  },
  {
   "cell_type": "markdown",
   "metadata": {},
   "source": [
    "**Solución:** B."
   ]
  },
  {
   "cell_type": "markdown",
   "metadata": {},
   "source": [
    "## Situación 3: Ventana"
   ]
  },
  {
   "cell_type": "markdown",
   "metadata": {},
   "source": [
    "**Una de las más grandes catedrales de Puebla busca instalar ventanas hexagonales en su interior.**"
   ]
  },
  {
   "cell_type": "markdown",
   "metadata": {},
   "source": [
    "**12. ¿Cuál expresión muestra el área de una ventana hexagonal en función su perímetro?**\n",
    " \n",
    "**(3 puntos)**\n"
   ]
  },
  {
   "cell_type": "markdown",
   "metadata": {},
   "source": [
    "A. $A(P)=\\dfrac{\\sqrt{3}}{4}P^2$\n",
    "\n",
    "B. $A(P)=\\dfrac{3\\sqrt{3}}{2}P^2$\n",
    "\n",
    "C. $A(P)=\\dfrac{\\sqrt{3}}{24}P^2$\n",
    "\n",
    "D. $A(P)=\\dfrac{\\sqrt{3}}{144}P^2$"
   ]
  },
  {
   "cell_type": "markdown",
   "metadata": {},
   "source": [
    "* Datos:\n",
    "    * $A$, área: variable dependiente\n",
    "    * $P$, perímetro: variable independiente\n",
    "    * $\\ell$, lado"
   ]
  },
  {
   "cell_type": "markdown",
   "metadata": {},
   "source": [
    "* Fórmula:"
   ]
  },
  {
   "cell_type": "markdown",
   "metadata": {},
   "source": [
    "$$ P=6\\ell $$"
   ]
  },
  {
   "cell_type": "markdown",
   "metadata": {},
   "source": [
    "El área del hexágono es equivalente a seis triángulos equiláteros. Basta con que recodemos cuál es el área de un triángulo equilátero."
   ]
  },
  {
   "cell_type": "markdown",
   "metadata": {},
   "source": [
    "$$ A_\\triangle=\\dfrac{\\sqrt{3}}{4}\\ell^2 $$"
   ]
  },
  {
   "cell_type": "markdown",
   "metadata": {},
   "source": [
    "Entonces, el área del hexágono es"
   ]
  },
  {
   "cell_type": "markdown",
   "metadata": {},
   "source": [
    "$$ A=6A_\\triangle=\\dfrac{3\\sqrt{3}}{2}\\ell^2 $$"
   ]
  },
  {
   "cell_type": "markdown",
   "metadata": {},
   "source": [
    "* Sustitución:"
   ]
  },
  {
   "cell_type": "markdown",
   "metadata": {},
   "source": [
    "Despejamos la longitud de la fórmula del perímetro:"
   ]
  },
  {
   "cell_type": "markdown",
   "metadata": {},
   "source": [
    "$$ \\ell=\\dfrac{P}{6} $$"
   ]
  },
  {
   "cell_type": "markdown",
   "metadata": {},
   "source": [
    "Sustituimos esto es la fórmula del área:"
   ]
  },
  {
   "cell_type": "markdown",
   "metadata": {},
   "source": [
    "$$ A=\\dfrac{3\\sqrt{3}}{2}\\ell^2=\\dfrac{3\\sqrt{3}}{2}\\left(\\dfrac{P}{6}\\right)^2=\\dfrac{3\\sqrt{3}}{2}\\cdot\\dfrac{P^2}{36}=\\dfrac{3\\sqrt{3}}{72}P^2=\\dfrac{\\sqrt{3}}{24}P^2 $$"
   ]
  },
  {
   "cell_type": "markdown",
   "metadata": {},
   "source": [
    "A. $A(P)=\\dfrac{\\sqrt{3}}{4}P^2$\n",
    "\n",
    "B. $A(P)=\\dfrac{3\\sqrt{3}}{2}P^2$\n",
    "\n",
    "C. $A(P)=\\dfrac{\\sqrt{3}}{24}P^2$\n",
    "\n",
    "D. $A(P)=\\dfrac{\\sqrt{3}}{144}P^2$"
   ]
  },
  {
   "cell_type": "markdown",
   "metadata": {},
   "source": [
    "**Solución:** B."
   ]
  },
  {
   "cell_type": "markdown",
   "metadata": {},
   "source": [
    "**13. La catedral quiere colocar siete ventanas iguales. La compañía vidriera cobra $\\$50$ por metro de hierro para el marco de la ventana, $\\$20$ por metro cuadrado de vidrio, y $\\$100$ por el trabajo de poner una ventana. Escriba el costo total, $C$, de las siete ventanas en función del lado, $\\ell$, en metros, de una de las ventanas hexagonales.**\n",
    " \n",
    " **(3 puntos)**"
   ]
  },
  {
   "cell_type": "markdown",
   "metadata": {},
   "source": [
    "A. $C(\\ell)=2100\\ell+210\\sqrt{3}\\ell^2+700$\n",
    "\n",
    "B. $C(\\ell)=2100\\ell+35\\sqrt{3}\\ell^2+100$\n",
    "\n",
    "C. $C(\\ell)=350\\ell+140\\ell^2+700$\n",
    "\n",
    "D. $C(\\ell)=300\\ell+\\dfrac{7\\sqrt{3}}{4}\\ell^2+100$"
   ]
  },
  {
   "cell_type": "markdown",
   "metadata": {},
   "source": [
    "* Datos:\n",
    "    * Queremos 7 ventanas\n",
    "    * Nos cobran 50 pesos por metro (lineal) de perímetro.\n",
    "    * Nos cobran 20 pesos por metro cuadrado de área.\n",
    "    * Nos cobran 100 pesos por ventana."
   ]
  },
  {
   "cell_type": "markdown",
   "metadata": {},
   "source": [
    "$$ C=7\\cdot50\\cdot P+7\\cdot20\\cdot A+7\\cdot100 $$"
   ]
  },
  {
   "cell_type": "markdown",
   "metadata": {},
   "source": [
    "$$ C=7\\cdot50\\cdot6\\ell+7\\cdot20\\cdot\\dfrac{3\\sqrt{3}}{2}\\ell^2+7\\cdot100 $$"
   ]
  },
  {
   "cell_type": "markdown",
   "metadata": {},
   "source": [
    "$$ C(\\ell)=2100\\ell+210\\sqrt{3}\\ell^2+700 $$"
   ]
  },
  {
   "cell_type": "markdown",
   "metadata": {},
   "source": [
    "A. $C(\\ell)=2100\\ell+210\\sqrt{3}\\ell^2+700$\n",
    "\n",
    "B. $C(\\ell)=2100\\ell+35\\sqrt{3}\\ell^2+100$\n",
    "\n",
    "C. $C(\\ell)=350\\ell+140\\ell^2+700$\n",
    "\n",
    "D. $C(\\ell)=300\\ell+\\dfrac{7\\sqrt{3}}{4}\\ell^2+100$"
   ]
  },
  {
   "cell_type": "markdown",
   "metadata": {},
   "source": [
    "**Solución:** A."
   ]
  },
  {
   "cell_type": "markdown",
   "metadata": {},
   "source": [
    "**14. ¿Cuál es el rango para el dominio máximo de la función costo, $C(t)$?**\n",
    "\n",
    " **(2 puntos)**"
   ]
  },
  {
   "cell_type": "markdown",
   "metadata": {},
   "source": [
    "A. $(-\\infty,363.7)$\n",
    "\n",
    "B. $[-2331.1,\\infty)$\n",
    "\n",
    "C. $(-\\infty,1.7]$\n",
    "\n",
    "D. $[-2.9,\\infty)$"
   ]
  },
  {
   "cell_type": "markdown",
   "metadata": {},
   "source": [
    "Una función cuadrática tiene la forma"
   ]
  },
  {
   "cell_type": "markdown",
   "metadata": {},
   "source": [
    "$$ f(x)=ax^2+bx+c $$"
   ]
  },
  {
   "cell_type": "markdown",
   "metadata": {},
   "source": [
    "El vértice de esta función es"
   ]
  },
  {
   "cell_type": "markdown",
   "metadata": {},
   "source": [
    "$$ V\\left(-\\dfrac{b}{2a},-\\dfrac{b^2-4ac}{4a}\\right) $$"
   ]
  },
  {
   "cell_type": "markdown",
   "metadata": {},
   "source": [
    "Compararando la función del costo con la función cuadrática"
   ]
  },
  {
   "cell_type": "markdown",
   "metadata": {},
   "source": [
    "$$C(\\ell)=2100\\ell+210\\sqrt{3}\\ell^2+700$$"
   ]
  },
  {
   "cell_type": "markdown",
   "metadata": {},
   "source": [
    "$$C(x)=2100x+210\\sqrt{3}x^2+700$$"
   ]
  },
  {
   "cell_type": "markdown",
   "metadata": {},
   "source": []
  },
  {
   "cell_type": "markdown",
   "metadata": {},
   "source": [
    "vemos que"
   ]
  },
  {
   "cell_type": "markdown",
   "metadata": {},
   "source": [
    "$a=210\\sqrt{3}$, $b=2100$, $c=700$"
   ]
  },
  {
   "cell_type": "markdown",
   "metadata": {},
   "source": [
    "Como $a$ es positiva la gráfica es la de una parábola que abre hacia arriba y tiene un valor mínimo. Como para hablar del rango nos interesa las ordenadas, calculamos la ordenada del vértice:"
   ]
  },
  {
   "cell_type": "markdown",
   "metadata": {},
   "source": [
    "$$ -\\dfrac{b^2-4ac}{4a}=-\\dfrac{(2100)^2-4(210\\sqrt{3})(700)}{4(2100)}\\approx -2331.1 $$"
   ]
  },
  {
   "cell_type": "markdown",
   "metadata": {},
   "source": [
    "Entonces, el rango es"
   ]
  },
  {
   "cell_type": "markdown",
   "metadata": {},
   "source": [
    "$$ \\left[2331.1, \\infty\\right) $$"
   ]
  },
  {
   "cell_type": "code",
   "execution_count": 9,
   "metadata": {},
   "outputs": [
    {
     "data": {
      "text/plain": [
       "2331.088913245536"
      ]
     },
     "execution_count": 9,
     "metadata": {},
     "output_type": "execute_result"
    }
   ],
   "source": [
    "(2100^2-4*(210*√(3))*(700))/(4*(210*√(3)))"
   ]
  },
  {
   "cell_type": "code",
   "execution_count": 13,
   "metadata": {},
   "outputs": [
    {
     "data": {
      "text/plain": [
       "363.7306695894642"
      ]
     },
     "execution_count": 13,
     "metadata": {},
     "output_type": "execute_result"
    }
   ],
   "source": [
    "210*√3"
   ]
  },
  {
   "cell_type": "markdown",
   "metadata": {},
   "source": [
    "A. $(-\\infty,363.7)$\n",
    "\n",
    "B. $[-2331.1,\\infty)$\n",
    "\n",
    "C. $(-\\infty,1.7]$\n",
    "\n",
    "D. $[-2.9,\\infty)$"
   ]
  },
  {
   "cell_type": "markdown",
   "metadata": {},
   "source": [
    "**Solución:** B."
   ]
  },
  {
   "cell_type": "markdown",
   "metadata": {},
   "source": [
    "## Situación 4: Ciclistas"
   ]
  },
  {
   "cell_type": "markdown",
   "metadata": {},
   "source": [
    "**Dos ciclistas entrenan en un tramo de la carrera que conecta Cuernavaca con Tequesquitengo, cuya longitud es de 50 km. Ambos inician su recorrido a las 6:00 AM: uno de ellos viaja a Cuernavaca hacia Tequesquitengo, y el otro, por el contrario, va de Tequesquitengo a Cuernavaca. Ambos se desplazan con movimiento rectilíneo uniforme. La siguiente tabla muestra algunos datos del recorrido de cada ciclista:**"
   ]
  },
  {
   "cell_type": "markdown",
   "metadata": {},
   "source": [
    "|   Hora (AM)  |  6:00 | 6:10 | 6:20 |  6:30 |\n",
    "|:------------:|:--:|:----:|:----:|:-----:|\n",
    "| $p_C$, en km |  0 | 6.25 | 12.5 | 18.75 |\n",
    "| $p_T$, en km | 50 |  45  |  40  |   35  |"
   ]
  },
  {
   "cell_type": "markdown",
   "metadata": {},
   "source": [
    "**15. La velocidad en $\\dfrac{\\rm{km}}{\\rm{min}}$ del ciclista que sale de Cuernavaca, y la del ciclista que sale de Tequesquitengo, son, respectivamente**\n",
    "\n",
    "**(2 puntos)**"
   ]
  },
  {
   "cell_type": "markdown",
   "metadata": {},
   "source": [
    "A. $-0.625$, $0.500$\n",
    "\n",
    "B. $0.625$, $-1.500$\n",
    "\n",
    "C. $0.625$, $-0.500$\n",
    "\n",
    "D. $-0.500$, $1.500$"
   ]
  },
  {
   "cell_type": "markdown",
   "metadata": {},
   "source": [
    "Cuando nos hablan de un movimiento rectilíneo uniforme, se refieren a que viajan a rapidez constante. Pensemos que la posición de cada ciclista es una función lineal del tiempo."
   ]
  },
  {
   "cell_type": "markdown",
   "metadata": {},
   "source": [
    "* $p_C$, posición del ciclista de Cuernava en kilómetros (km)\n",
    "* $p_T$, posición del ciclista de Tequesquitengo en kilómetros (km)\n",
    "* $t$, tiempo en minutos (min) a partir de las 6:00 AM\n",
    "* $v_C$, rapidez del ciclista de Cuernava en kilómetros por minuto (km/min)\n",
    "* $v_T$, rapidez del ciclista de Tequesquitengo en kilómetros por minuto (km/min)"
   ]
  },
  {
   "cell_type": "markdown",
   "metadata": {},
   "source": [
    "Entonces, encontrar la rapidez de cada ciclista es equivalente a encontrar la pendiente de la función lineal:"
   ]
  },
  {
   "cell_type": "markdown",
   "metadata": {},
   "source": [
    "$$ v_C=\\dfrac{p_C(t_2)-p_C(t_1)}{t_2-t_1} $$"
   ]
  },
  {
   "cell_type": "markdown",
   "metadata": {},
   "source": [
    "$$ v_T=\\dfrac{p_T(t_2)-p_T(t_1)}{t_2-t_1}= $$"
   ]
  },
  {
   "cell_type": "markdown",
   "metadata": {},
   "source": [
    "Como la función es lineal (siempre cambia con la misma proporción) no importa los valores de tiempo que tomemos."
   ]
  },
  {
   "cell_type": "markdown",
   "metadata": {},
   "source": [
    "$$ v_C=\\dfrac{p_C(20)-p_C(0)}{(20)-(0)}=\\dfrac{12.5-0}{20-0}=\\dfrac{12.5}{20}=0.625 $$"
   ]
  },
  {
   "cell_type": "markdown",
   "metadata": {},
   "source": [
    "$$ v_T=\\dfrac{p_T(30)-p_T(10)}{(30)-(10)}=\\dfrac{35-45}{30-10}=\\dfrac{-10}{20}=-0.5 $$"
   ]
  },
  {
   "cell_type": "markdown",
   "metadata": {},
   "source": [
    "A. $-0.625$, $0.500$\n",
    "\n",
    "B. $0.625$, $-1.500$\n",
    "\n",
    "C. $0.625$, $-0.500$\n",
    "\n",
    "D. $-0.500$, $1.500$"
   ]
  },
  {
   "cell_type": "markdown",
   "metadata": {},
   "source": [
    "**Solución:** C."
   ]
  },
  {
   "cell_type": "markdown",
   "metadata": {},
   "source": [
    "**16. Si $t$ es el tiempo (en minutos) transcurrido desde la salida, entonces la ecuación que modela la posición (en km) del ciclista que inicia en Cuernavaca es**\n",
    "\n",
    "**(2 puntos)**"
   ]
  },
  {
   "cell_type": "markdown",
   "metadata": {},
   "source": [
    "A. $p_C=0.625t$\n",
    "\n",
    "B. $p_C=-0.625t+50$\n",
    "\n",
    "C. $p_C=1.500t$\n",
    "\n",
    "D. $p_C=-0.500t+50$"
   ]
  },
  {
   "cell_type": "markdown",
   "metadata": {},
   "source": [
    "Por lo discutido en el ejercicio anterior, al tratarse de una función lineal, debe tratarse de una función de la forma"
   ]
  },
  {
   "cell_type": "markdown",
   "metadata": {},
   "source": [
    "$$ p_C(t)=mt+b $$"
   ]
  },
  {
   "cell_type": "markdown",
   "metadata": {},
   "source": [
    "Pero su rapidez es la pendiente de dicha ecuación por lo que"
   ]
  },
  {
   "cell_type": "markdown",
   "metadata": {},
   "source": [
    "$$ p_C(t)=0.625t+b $$"
   ]
  },
  {
   "cell_type": "markdown",
   "metadata": {},
   "source": [
    "Esto debería ser suficiente para seleccionar el inciso A. Sin embargo, continuemos para confirmar cómo se haría en caso de tener otra respuesta parecida. Lo único que nos faltaría para encontrar la forma completa de la función es calcular $b$, el valor inicial. Pero el valor inicial (la posición del ciclista de Cuernavaca en el minuto cero despues de las 6:00 AM) es cero."
   ]
  },
  {
   "cell_type": "markdown",
   "metadata": {},
   "source": [
    "$$ b=0 $$"
   ]
  },
  {
   "cell_type": "markdown",
   "metadata": {},
   "source": [
    "$$ p_C(t)=0.625t $$"
   ]
  },
  {
   "cell_type": "markdown",
   "metadata": {},
   "source": [
    "A. $p_C=0.625t$\n",
    "\n",
    "B. $p_C=-0.625t+50$\n",
    "\n",
    "C. $p_C=1.500t$\n",
    "\n",
    "D. $p_C=-0.500t+50$"
   ]
  },
  {
   "cell_type": "markdown",
   "metadata": {},
   "source": [
    "**Solución:** A."
   ]
  },
  {
   "cell_type": "markdown",
   "metadata": {},
   "source": [
    "**17. La ecuación que modela la posición (en km) del ciclista que inicia en Tequesquitengo es**\n",
    "\n",
    "**(2 puntos)**"
   ]
  },
  {
   "cell_type": "markdown",
   "metadata": {},
   "source": [
    "A. $p_T=0.625t$\n",
    "\n",
    "B. $p_T=-0.625t+50$\n",
    "\n",
    "C. $p_T=1.500t$\n",
    "\n",
    "D. $p_T=-0.500t+50$"
   ]
  },
  {
   "cell_type": "markdown",
   "metadata": {},
   "source": [
    "Por lo discutido en el ejercicio anterior, al tratarse de una función lineal, debe tratarse de una función de la forma"
   ]
  },
  {
   "cell_type": "markdown",
   "metadata": {},
   "source": [
    "$$ p_T(t)=mt+b $$"
   ]
  },
  {
   "cell_type": "markdown",
   "metadata": {},
   "source": [
    "Pero su rapidez es la pendiente de dicha ecuación por lo que"
   ]
  },
  {
   "cell_type": "markdown",
   "metadata": {},
   "source": [
    "$$ p_T(t)=-0.500t+b $$"
   ]
  },
  {
   "cell_type": "markdown",
   "metadata": {},
   "source": [
    "Esto debería ser suficiente para seleccionar el inciso D. Sin embargo, continuemos para confirmar cómo se haría en caso de tener otra respuesta parecida. Lo único que nos faltaría para encontrar la forma completa de la función es calcular $b$, el valor inicial. Pero el valor inicial (la posición del ciclista de Tequesquitengo en el minuto cero despues de las 6:00 AM) es cincuenta."
   ]
  },
  {
   "cell_type": "markdown",
   "metadata": {},
   "source": [
    "$$ b=50 $$"
   ]
  },
  {
   "cell_type": "markdown",
   "metadata": {},
   "source": [
    "$$ p_T(t)=-0.500t+50 $$"
   ]
  },
  {
   "cell_type": "markdown",
   "metadata": {},
   "source": [
    "A. $p_T=0.625t$\n",
    "\n",
    "B. $p_T=-0.625t+50$\n",
    "\n",
    "C. $p_T=1.500t$\n",
    "\n",
    "D. $p_T=-0.500t+50$"
   ]
  },
  {
   "cell_type": "markdown",
   "metadata": {},
   "source": [
    "**Solución:** D."
   ]
  },
  {
   "cell_type": "markdown",
   "metadata": {},
   "source": [
    "**18. La hora en que ambos ciclistas se cruzan es**\n",
    "\n",
    "**(2 puntos)**"
   ]
  },
  {
   "cell_type": "markdown",
   "metadata": {},
   "source": [
    "A. 6:40 AM\n",
    "\n",
    "B. 6:44 AM\n",
    "\n",
    "C. 6:50 AM\n",
    "\n",
    "D. 6:54 AM"
   ]
  },
  {
   "cell_type": "markdown",
   "metadata": {},
   "source": [
    "Como queremos que los ciclistas se crucen, necesitamos que sus posiciones sean iguales:"
   ]
  },
  {
   "cell_type": "markdown",
   "metadata": {},
   "source": [
    "$$ p_C(t)=p_T(t) $$"
   ]
  },
  {
   "cell_type": "markdown",
   "metadata": {},
   "source": [
    "$$ 0.625t=-0.500t+50 $$"
   ]
  },
  {
   "cell_type": "markdown",
   "metadata": {},
   "source": [
    "$$ 0.625t+0.500t=50 $$"
   ]
  },
  {
   "cell_type": "markdown",
   "metadata": {},
   "source": [
    "$$ 1.125t=50 $$"
   ]
  },
  {
   "cell_type": "markdown",
   "metadata": {},
   "source": [
    "$$ t=\\dfrac{50}{1.125}\\approx44.44 $$"
   ]
  },
  {
   "cell_type": "code",
   "execution_count": 1,
   "metadata": {},
   "outputs": [
    {
     "data": {
      "text/plain": [
       "44.44444444444444"
      ]
     },
     "execution_count": 1,
     "metadata": {},
     "output_type": "execute_result"
    }
   ],
   "source": [
    "50/1.125"
   ]
  },
  {
   "cell_type": "markdown",
   "metadata": {},
   "source": [
    "Este tiempo representa, aproximadamente, 44 minutos después de las 6:00 AM, o sea, a las 6:44 AM."
   ]
  },
  {
   "cell_type": "markdown",
   "metadata": {},
   "source": [
    "A. 6:40 AM\n",
    "\n",
    "B. 6:44 AM\n",
    "\n",
    "C. 6:50 AM\n",
    "\n",
    "D. 6:54 AM"
   ]
  },
  {
   "cell_type": "markdown",
   "metadata": {},
   "source": [
    "**Solución:** B."
   ]
  },
  {
   "cell_type": "markdown",
   "metadata": {},
   "source": [
    "| Problema | Respuesta | Puntaje | Problema | Respuesta | Puntaje |\n",
    "|----------|-----------|---------|----------|-----------|---------|\n",
    "| 1        | D         | 3       | 10       | A         | 2       |\n",
    "| 2        | A         | 1       | 11       | B         | 2       |\n",
    "| 3        | A         | 2       | 12       | B         | 3       |\n",
    "| 4        | C         | 2       | 13       | A         | 3       |\n",
    "| 5        | A         | 3       | 14       | B         | 2       |\n",
    "| 6        | B         | 2       | 15       | C         | 2       |\n",
    "| 7        | C         | 1       | 16       | A         | 2       |\n",
    "| 8        | D         | 2       | 17       | D         | 2       |\n",
    "| 9        | A         | 2       | 18       | B         | 2       |"
   ]
  }
 ],
 "metadata": {
  "@webio": {
   "lastCommId": null,
   "lastKernelId": null
  },
  "kernelspec": {
   "display_name": "Julia 1.1.0",
   "language": "julia",
   "name": "julia-1.1"
  },
  "language_info": {
   "file_extension": ".jl",
   "mimetype": "application/julia",
   "name": "julia",
   "version": "1.1.0"
  }
 },
 "nbformat": 4,
 "nbformat_minor": 4
}
