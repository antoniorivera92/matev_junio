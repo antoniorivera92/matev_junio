{
 "cells": [
  {
   "cell_type": "markdown",
   "metadata": {},
   "source": [
    "# Geometría analítica"
   ]
  },
  {
   "cell_type": "markdown",
   "metadata": {},
   "source": [
    "# Clase 7"
   ]
  },
  {
   "cell_type": "markdown",
   "metadata": {},
   "source": [
    "## Rectas importantes en un triángulo"
   ]
  },
  {
   "cell_type": "markdown",
   "metadata": {},
   "source": [
    "* *Mediana*: la recta que va del vértice al punto medio del cateto opuesto. El punto donde se unen las medianas se conoce como *baricentro*."
   ]
  },
  {
   "cell_type": "markdown",
   "metadata": {},
   "source": [
    "<img src=\"baricentro.png\" align=\"middle\" width=\"400\">"
   ]
  },
  {
   "cell_type": "markdown",
   "metadata": {},
   "source": [
    "* *Mediatriz*: la recta perpendicular al cateto y que pasa por el punto medio de éste. El punto donde se unen las mediatrices se conoce como *circuncentro*."
   ]
  },
  {
   "cell_type": "markdown",
   "metadata": {},
   "source": [
    "<img src=\"circuncentro.png\" align=\"middle\" width=\"400\">"
   ]
  },
  {
   "cell_type": "markdown",
   "metadata": {},
   "source": [
    "* *Altura*: la recta perpendicular a un cateto que pasa por el vértice opuesto. El punto donde se unen las alturas se conoce como *ortocentro*."
   ]
  },
  {
   "cell_type": "markdown",
   "metadata": {},
   "source": [
    "<img src=\"ortocentro.png\" align=\"middle\" width=\"400\">"
   ]
  },
  {
   "cell_type": "markdown",
   "metadata": {},
   "source": [
    "**Propiedades:**\n",
    "* En un triángulo equilátero el baricentro, el circuncentro y el ortocentro coinciden en el mismo punto."
   ]
  },
  {
   "cell_type": "markdown",
   "metadata": {},
   "source": [
    "Si tenemos un triángulo con vértices $A(x_1,y_1)$, $B(x_2,y_2)$, y $C(x_3,y_3)$, las coordenadas del"
   ]
  },
  {
   "cell_type": "markdown",
   "metadata": {},
   "source": [
    "* baricentro son $(x_b,y_b)$, donde"
   ]
  },
  {
   "cell_type": "markdown",
   "metadata": {},
   "source": [
    "\\begin{align*}\n",
    "x_b=\\dfrac{x_1+x_2+x_3}{3}\\\\\n",
    "y_b=\\dfrac{y_1+y_2+y_3}{3}\n",
    "\\end{align*}"
   ]
  },
  {
   "cell_type": "markdown",
   "metadata": {},
   "source": [
    "* ***Ejemplo:*** Consideremos un triángulo con vértices $A(-6,10)$, $B(8,6)$, y $C(8,-1)$.\n",
    "  * Encuentra la ecuación de la recta que pasa por cada lado del triángulo.\n",
    "  * Calcula el perímetro del triángulo.\n",
    "  * Encuentra los ángulos internos del triángulo mediante ángulo entre pendientes.\n",
    "  * Calcula el área del triángulo.\n",
    "  * Encuentra la ecuación de todas las medianas del triángulo.\n",
    "  * Obtén las coordenadas del baricentro (usando intersección de medianas).\n",
    "  * Encuentra la ecuación de todas las mediatrices del triángulo.\n",
    "  * Obtén las coordenadas del circuncentro (usando intersección de mediatrices).\n",
    "  * Encuentra la ecuación de todas las alturas del triángulo.\n",
    "  * Obtén las coordenadas del ortocentro (usando intersección de alturas).\n",
    "  * Corrobora tus resultados con `Desmos`."
   ]
  },
  {
   "cell_type": "markdown",
   "metadata": {},
   "source": [
    "<img src=\"triangulo_euler.png\" align=\"middle\" width=\"400\">"
   ]
  },
  {
   "cell_type": "markdown",
   "metadata": {},
   "source": [
    "* **Encuentra la ecuación de la recta que pasa por cada lado del triángulo.**"
   ]
  },
  {
   "cell_type": "markdown",
   "metadata": {},
   "source": [
    "$A(-6,10)$, $B(8,6)$, $C(8,-1)$"
   ]
  },
  {
   "cell_type": "markdown",
   "metadata": {},
   "source": [
    "* La ecuación de la recta que pasa por $A$ y $B$:"
   ]
  },
  {
   "cell_type": "markdown",
   "metadata": {},
   "source": [
    "$$ y=mx+b $$"
   ]
  },
  {
   "cell_type": "markdown",
   "metadata": {},
   "source": [
    "$$ m_{AB}=\\dfrac{y_2-y_1}{x_2-x_1}=\\dfrac{(6)-(10)}{(8)-(-6)}=\\dfrac{-4}{14}=-\\dfrac{2}{7} $$"
   ]
  },
  {
   "cell_type": "markdown",
   "metadata": {},
   "source": [
    "$$ b=y-mx=(6)-\\left(-\\dfrac{2}{7}\\right)(8)=\\dfrac{58}{7} $$"
   ]
  },
  {
   "cell_type": "markdown",
   "metadata": {},
   "source": [
    "$$ y=-\\dfrac{2}{7}x+\\dfrac{58}{7} $$"
   ]
  },
  {
   "cell_type": "markdown",
   "metadata": {},
   "source": [
    "$$ y-(10)=-\\dfrac{2}{7}(x-(-6)) $$"
   ]
  },
  {
   "cell_type": "markdown",
   "metadata": {},
   "source": [
    "* La ecuación de la recta que pasa por $A$ y $C$:"
   ]
  },
  {
   "cell_type": "markdown",
   "metadata": {},
   "source": [
    "$$ y=mx+b $$"
   ]
  },
  {
   "cell_type": "markdown",
   "metadata": {},
   "source": [
    "$$ m_{AC}=\\dfrac{y_2-y_1}{x_2-x_1}=\\dfrac{(-1)-(10)}{(8)-(-6)}=\\dfrac{-11}{14}=-\\dfrac{11}{14} $$"
   ]
  },
  {
   "cell_type": "markdown",
   "metadata": {},
   "source": [
    "$$ b=y-mx=(-1)-\\left(-\\dfrac{11}{14}\\right)(8)=\\dfrac{37}{7} $$"
   ]
  },
  {
   "cell_type": "markdown",
   "metadata": {},
   "source": [
    "$$ y=-\\dfrac{11}{14}x+\\dfrac{37}{7} $$"
   ]
  },
  {
   "cell_type": "markdown",
   "metadata": {},
   "source": [
    "* La ecuación de la recta que pasa por $B$ y $C$:"
   ]
  },
  {
   "cell_type": "markdown",
   "metadata": {},
   "source": [
    "$$ y=mx+b $$"
   ]
  },
  {
   "cell_type": "markdown",
   "metadata": {},
   "source": [
    "$$ m_{BC}=\\dfrac{y_2-y_1}{x_2-x_1}=\\dfrac{(-1)-(6)}{(8)-(8)}=\\dfrac{-7}{0}=\\text{N.D.} $$"
   ]
  },
  {
   "cell_type": "markdown",
   "metadata": {},
   "source": [
    "$$ x=8 $$"
   ]
  },
  {
   "cell_type": "markdown",
   "metadata": {},
   "source": [
    "* **Calcula el perímetro del triángulo.**"
   ]
  },
  {
   "cell_type": "markdown",
   "metadata": {},
   "source": [
    "$A(-6,10)$, $B(8,6)$, $C(8,-1)$"
   ]
  },
  {
   "cell_type": "markdown",
   "metadata": {},
   "source": [
    "$$ \\overline{AB}=\\sqrt{(y_1-y_2)^2+(x_1-x_2)^2} $$"
   ]
  },
  {
   "cell_type": "markdown",
   "metadata": {},
   "source": [
    "$$ =\\sqrt{[(10)-(6)]^2+[(-6)-(8)]^2}=\\sqrt{16+196}=\\sqrt{212} $$"
   ]
  },
  {
   "cell_type": "markdown",
   "metadata": {},
   "source": [
    "$$ \\overline{BC}=\\sqrt{(y_1-y_2)^2+(x_1-x_2)^2}  $$"
   ]
  },
  {
   "cell_type": "markdown",
   "metadata": {},
   "source": [
    "$$ =\\sqrt{[(6)-(-1)]^2+[(8)-(8)]^2}=\\sqrt{49}=7 $$"
   ]
  },
  {
   "cell_type": "markdown",
   "metadata": {},
   "source": [
    "$$ \\overline{AC}=\\sqrt{(y_1-y_2)^2+(x_1-x_2)^2}  $$"
   ]
  },
  {
   "cell_type": "markdown",
   "metadata": {},
   "source": [
    "$$ =\\sqrt{[(10)-(-1)]^2+[(-6)-(8)]^2}=\\sqrt{121+196}=\\sqrt{317} $$"
   ]
  },
  {
   "cell_type": "markdown",
   "metadata": {},
   "source": [
    "$$ \\text{Perímetro}=\\overline{AB}+\\overline{BC}+\\overline{AC}=\\sqrt{212}+7+\\sqrt{317} $$"
   ]
  },
  {
   "cell_type": "markdown",
   "metadata": {},
   "source": [
    "* **Encuentra los ángulos internos del triángulo mediante ángulo entre pendientes.**"
   ]
  },
  {
   "cell_type": "markdown",
   "metadata": {},
   "source": [
    "<img src=\"triangulo_euler.png\" align=\"middle\" width=\"400\">"
   ]
  },
  {
   "cell_type": "markdown",
   "metadata": {},
   "source": [
    "* Ángulo $A$:"
   ]
  },
  {
   "cell_type": "markdown",
   "metadata": {},
   "source": [
    "$$ m_{AB}=-\\dfrac{2}{7} $$"
   ]
  },
  {
   "cell_type": "markdown",
   "metadata": {},
   "source": [
    "$$ m_{AC}=-\\dfrac{11}{14} $$"
   ]
  },
  {
   "cell_type": "markdown",
   "metadata": {},
   "source": [
    "$$ \\theta =\\tan^{-1}\\left[\\dfrac{\\left(-\\dfrac{11}{14}\\right)-\\left(-\\dfrac{2}{7}\\right)}{1+\\left(-\\dfrac{11}{14}\\right)\\left(-\\dfrac{2}{7}\\right)}\\right]=\\tan^{-1}\\left(\\dfrac{-\\dfrac{1}{2}}{\\dfrac{60}{49}}\\right)=22.21^\\circ $$"
   ]
  },
  {
   "cell_type": "markdown",
   "metadata": {},
   "source": [
    "* Ángulo $B$:"
   ]
  },
  {
   "cell_type": "markdown",
   "metadata": {},
   "source": [
    "El ángulo que forma la recta que pasa por $A$ y $B$ con respecto a la horizontal es"
   ]
  },
  {
   "cell_type": "markdown",
   "metadata": {},
   "source": [
    "$$ \\theta=\\tan^{-1}(m_{AB})=\\tan^{-1}(-2/7)\\approx-15.94 $$"
   ]
  },
  {
   "cell_type": "markdown",
   "metadata": {},
   "source": [
    "De nuestro análisis vemos que el ángulo tiene que ser"
   ]
  },
  {
   "cell_type": "markdown",
   "metadata": {},
   "source": [
    "$$ B=90^\\circ+15.94^\\circ=105.94^\\circ $$"
   ]
  },
  {
   "cell_type": "markdown",
   "metadata": {},
   "source": [
    "* Ángulo $C$:"
   ]
  },
  {
   "cell_type": "markdown",
   "metadata": {},
   "source": [
    "Como la suma de los ángulos internos de cualquier triángulo debe ser $180^\\circ$ tenemos"
   ]
  },
  {
   "cell_type": "markdown",
   "metadata": {},
   "source": [
    "$$ A+B+C=180^\\circ $$"
   ]
  },
  {
   "cell_type": "markdown",
   "metadata": {},
   "source": [
    "$$ C=180^\\circ-A-B=51.84^\\circ $$"
   ]
  },
  {
   "cell_type": "markdown",
   "metadata": {},
   "source": [
    "* **Calcula el área del triángulo.**"
   ]
  },
  {
   "cell_type": "markdown",
   "metadata": {},
   "source": [
    "$$ \\text{Área}=\\dfrac{1}{2}\\overline{AB}\\cdot\\overline{AC}\\cdot\\sin(A)=\\sqrt{212}\\cdot\\sqrt{317}\\cdot\\sin(22.21^\\circ)=49\\ u^2 $$"
   ]
  },
  {
   "cell_type": "code",
   "execution_count": 1,
   "metadata": {},
   "outputs": [
    {
     "data": {
      "text/plain": [
       "48.996165794261685"
      ]
     },
     "execution_count": 1,
     "metadata": {},
     "output_type": "execute_result"
    }
   ],
   "source": [
    "(√212)*(√317)*sind(22.21)/2"
   ]
  },
  {
   "cell_type": "markdown",
   "metadata": {},
   "source": [
    "* **Encuentra la ecuación de todas las medianas del triángulo.**"
   ]
  },
  {
   "cell_type": "markdown",
   "metadata": {},
   "source": [
    "<img src=\"triangulo_euler.png\" align=\"middle\" width=\"400\">"
   ]
  },
  {
   "cell_type": "markdown",
   "metadata": {},
   "source": [
    "La mediana es la recta que va del vértice al punto medio del cateto opuesto:\n",
    "1. Obtener el punto medio del cateto opuesto.\n",
    "2. Obtener la ecuación de la recta entre dos puntos: punto medio y vértice."
   ]
  },
  {
   "cell_type": "markdown",
   "metadata": {},
   "source": [
    "* Mediana entre el vértice $A$ y el cateto opuesto $\\overline{BC}$"
   ]
  },
  {
   "cell_type": "markdown",
   "metadata": {},
   "source": [
    "$A(-6,10)$, $B(8,6)$, $C(8,-1)$"
   ]
  },
  {
   "cell_type": "markdown",
   "metadata": {},
   "source": [
    "El punto medio es $M_{BC}(x,y)$, con "
   ]
  },
  {
   "cell_type": "markdown",
   "metadata": {},
   "source": [
    "$$ x=\\dfrac{x_1+x_2}{2}=8 $$"
   ]
  },
  {
   "cell_type": "markdown",
   "metadata": {},
   "source": [
    "$$ y=\\dfrac{y_1+y_2}{2}=2.5 $$"
   ]
  },
  {
   "cell_type": "markdown",
   "metadata": {},
   "source": [
    "Por lo tanto, $M_{BC}\\left(8,2.5\\right)$"
   ]
  },
  {
   "cell_type": "markdown",
   "metadata": {},
   "source": [
    "$$ y=mx+b $$"
   ]
  },
  {
   "cell_type": "markdown",
   "metadata": {},
   "source": [
    "$$ m=\\dfrac{(10)-(2.5)}{(-6)-(8)}=-\\dfrac{15}{28} $$"
   ]
  },
  {
   "cell_type": "markdown",
   "metadata": {},
   "source": [
    "$$ b=y-mx=(2.5)-\\left(-\\dfrac{15}{28}\\right)(8)=\\dfrac{95}{14} $$"
   ]
  },
  {
   "cell_type": "markdown",
   "metadata": {},
   "source": [
    "$$ y=-\\dfrac{15}{28}x+\\dfrac{95}{14} $$"
   ]
  },
  {
   "cell_type": "markdown",
   "metadata": {},
   "source": [
    "* Mediana entre el vértice $B$ y el cateto opuesto $\\overline{AC}$"
   ]
  },
  {
   "cell_type": "markdown",
   "metadata": {},
   "source": [
    "$A(-6,10)$, $B(8,6)$, $C(8,-1)$"
   ]
  },
  {
   "cell_type": "markdown",
   "metadata": {},
   "source": [
    "El punto medio es $M_{AC}(x,y)$, con "
   ]
  },
  {
   "cell_type": "markdown",
   "metadata": {},
   "source": [
    "$$ x=\\dfrac{x_1+x_2}{2}=1 $$"
   ]
  },
  {
   "cell_type": "markdown",
   "metadata": {},
   "source": [
    "$$ y=\\dfrac{y_1+y_2}{2}=4.5 $$"
   ]
  },
  {
   "cell_type": "markdown",
   "metadata": {},
   "source": [
    "Por lo tanto, $M_{AC}\\left(1,4.5\\right)$"
   ]
  },
  {
   "cell_type": "markdown",
   "metadata": {},
   "source": [
    "$$ y=mx+b $$"
   ]
  },
  {
   "cell_type": "markdown",
   "metadata": {},
   "source": [
    "$$ m=\\dfrac{(4.5)-(6)}{(1)-(8)}=\\dfrac{3}{14} $$"
   ]
  },
  {
   "cell_type": "markdown",
   "metadata": {},
   "source": [
    "$$ b=y-mx=(4.5)-\\left(\\dfrac{3}{14}\\right)(1)=\\dfrac{30}{7} $$"
   ]
  },
  {
   "cell_type": "markdown",
   "metadata": {},
   "source": [
    "$$ y=\\dfrac{3}{14}x+\\dfrac{30}{7} $$"
   ]
  },
  {
   "cell_type": "markdown",
   "metadata": {},
   "source": [
    "* Mediana entre el vértice $C$ y el cateto opuesto $\\overline{AB}$"
   ]
  },
  {
   "cell_type": "markdown",
   "metadata": {},
   "source": [
    "$A(-6,10)$, $B(8,6)$, $C(8,-1)$"
   ]
  },
  {
   "cell_type": "markdown",
   "metadata": {},
   "source": [
    "El punto medio es $M_{AB}(x,y)$, con "
   ]
  },
  {
   "cell_type": "markdown",
   "metadata": {},
   "source": [
    "$$ x=\\dfrac{x_1+x_2}{2}=1 $$"
   ]
  },
  {
   "cell_type": "markdown",
   "metadata": {},
   "source": [
    "$$ y=\\dfrac{y_1+y_2}{2}=8 $$"
   ]
  },
  {
   "cell_type": "markdown",
   "metadata": {},
   "source": [
    "Por lo tanto, $M_{AB}\\left(1,8\\right)$"
   ]
  },
  {
   "cell_type": "markdown",
   "metadata": {},
   "source": [
    "$$  $$"
   ]
  },
  {
   "cell_type": "markdown",
   "metadata": {},
   "source": [
    "$$  $$"
   ]
  },
  {
   "cell_type": "markdown",
   "metadata": {},
   "source": [
    "* **Obtén las coordenadas del baricentro.**"
   ]
  },
  {
   "cell_type": "markdown",
   "metadata": {},
   "source": [
    "$A(-6,10)$, $B(8,6)$, $C(8,-1)$"
   ]
  },
  {
   "cell_type": "markdown",
   "metadata": {},
   "source": [
    "\\begin{align*}\n",
    "x_b=&\\dfrac{(-6)+(8)+(8)}{3}=\\dfrac{10}{3}\\approx3.333\\\\\n",
    "y_b=&\\dfrac{(10)+(6)+(-1)}{3}=5\n",
    "\\end{align*}"
   ]
  },
  {
   "cell_type": "markdown",
   "metadata": {},
   "source": [
    "Por lo tanto, las coordenadas del baricentro son $(3.333,5)$."
   ]
  },
  {
   "cell_type": "markdown",
   "metadata": {},
   "source": [
    "* **Encuentra la ecuación de todas las mediatrices del triángulo.**"
   ]
  },
  {
   "cell_type": "markdown",
   "metadata": {},
   "source": [
    "<img src=\"triangulo_euler.png\" align=\"middle\" width=\"400\">"
   ]
  },
  {
   "cell_type": "markdown",
   "metadata": {},
   "source": [
    "La mediatriz es la recta perpendicular al cateto y que pasa por el punto medio de éste:\n",
    "1. Obtener el punto medio del cateto opuesto.\n",
    "2. Obtener la pendiente perpendicular.\n",
    "3. Obtener la ecuación de la recta conociendo un punto (el punto medio) y la pendiente."
   ]
  },
  {
   "cell_type": "markdown",
   "metadata": {},
   "source": [
    "* La mediatriz del cateto $\\overline{AB}$"
   ]
  },
  {
   "cell_type": "markdown",
   "metadata": {},
   "source": [
    "$A(-6,10)$, $B(8,6)$, $C(8,-1)$"
   ]
  },
  {
   "cell_type": "markdown",
   "metadata": {},
   "source": [
    "$M_{AB}\\left(1,8\\right)$"
   ]
  },
  {
   "cell_type": "markdown",
   "metadata": {},
   "source": [
    "$$ m_{AB}=-\\dfrac{2}{7} $$"
   ]
  },
  {
   "cell_type": "markdown",
   "metadata": {},
   "source": [
    "Entonces, la pendiente perpendicular es\n",
    "$$ m=\\dfrac{7}{2} $$"
   ]
  },
  {
   "cell_type": "markdown",
   "metadata": {},
   "source": [
    "$$ b=y-mx=(8)-\\left(\\dfrac{7}{2}\\right)(1)=\\dfrac{9}{2} $$"
   ]
  },
  {
   "cell_type": "markdown",
   "metadata": {},
   "source": [
    "$$ y=\\dfrac{7}{2}x+\\dfrac{9}{2} $$"
   ]
  },
  {
   "cell_type": "markdown",
   "metadata": {},
   "source": [
    "* La mediatriz del cateto $\\overline{BC}$"
   ]
  },
  {
   "cell_type": "markdown",
   "metadata": {},
   "source": [
    "$A(-6,10)$, $B(8,6)$, $C(8,-1)$"
   ]
  },
  {
   "cell_type": "markdown",
   "metadata": {},
   "source": [
    "$M_{BC}\\left(8,2.5\\right)$"
   ]
  },
  {
   "cell_type": "markdown",
   "metadata": {},
   "source": [
    "$$ m_{BC}=\\text{N.D.} $$"
   ]
  },
  {
   "cell_type": "markdown",
   "metadata": {},
   "source": [
    "Entonces, la pendiente perpendicular es\n",
    "$$ m=0 $$"
   ]
  },
  {
   "cell_type": "markdown",
   "metadata": {},
   "source": [
    "$$ b=y-mx=(2.5)-\\left(0\\right)(8)=2.5 $$"
   ]
  },
  {
   "cell_type": "markdown",
   "metadata": {},
   "source": [
    "$$ y=2.5 $$"
   ]
  },
  {
   "cell_type": "markdown",
   "metadata": {},
   "source": [
    "* La mediatriz del cateto $\\overline{AC}$"
   ]
  },
  {
   "cell_type": "markdown",
   "metadata": {},
   "source": [
    "$M_{AC}\\left(1,4.5\\right)$"
   ]
  },
  {
   "cell_type": "markdown",
   "metadata": {},
   "source": [
    "$$ m_{AC}=-\\dfrac{11}{14} $$"
   ]
  },
  {
   "cell_type": "markdown",
   "metadata": {},
   "source": [
    "Entonces, la pendiente perpendicular es\n",
    "$$ m=\\dfrac{14}{11} $$"
   ]
  },
  {
   "cell_type": "markdown",
   "metadata": {},
   "source": [
    "$$ b=y-mx=(4.5)-\\left(\\dfrac{14}{11}\\right)(1)=\\dfrac{71}{22} $$"
   ]
  },
  {
   "cell_type": "markdown",
   "metadata": {},
   "source": [
    "$$ y=\\dfrac{14}{11}x+\\dfrac{71}{22} $$"
   ]
  },
  {
   "cell_type": "markdown",
   "metadata": {},
   "source": [
    "* **Obtén las coordenadas del circuncentro (usando intersección de mediatrices).**"
   ]
  },
  {
   "cell_type": "markdown",
   "metadata": {},
   "source": [
    "\\begin{equation}\n",
    "\\begin{cases}\n",
    "y=\\dfrac{7}{2}x+\\dfrac{9}{2}\\\\\n",
    "y=2.5\n",
    "\\end{cases}\n",
    "\\end{equation}"
   ]
  },
  {
   "cell_type": "markdown",
   "metadata": {},
   "source": [
    "$$ 2.5=\\dfrac{7}{2}x+\\dfrac{9}{2} $$"
   ]
  },
  {
   "cell_type": "markdown",
   "metadata": {},
   "source": [
    "$$\\dfrac{7}{2}x=2.5-\\dfrac{9}{2} $$"
   ]
  },
  {
   "cell_type": "markdown",
   "metadata": {},
   "source": [
    "$$x=\\dfrac{2.5-\\dfrac{9}{2}}{\\dfrac{7}{2}}=-\\dfrac{4}{7} $$"
   ]
  },
  {
   "cell_type": "markdown",
   "metadata": {},
   "source": [
    "Por lo tanto, las coordenadas del circuncentro son $(-4/7,2.5)$"
   ]
  },
  {
   "cell_type": "markdown",
   "metadata": {},
   "source": [
    "* **Encuentra la ecuación de todas las alturas del triángulo.**"
   ]
  },
  {
   "cell_type": "markdown",
   "metadata": {},
   "source": [
    "<img src=\"triangulo_euler.png\" align=\"middle\" width=\"400\">"
   ]
  },
  {
   "cell_type": "markdown",
   "metadata": {},
   "source": [
    "La altura es la recta perpendicular a un cateto que pasa por el vértice opuesto:\n",
    "1. Obtener la pendiente perpendicular.\n",
    "3. Obtener la ecuación de la recta conociendo un punto (el vértice opuesto) y la pendiente."
   ]
  },
  {
   "cell_type": "markdown",
   "metadata": {},
   "source": [
    "* La altura del cateto $\\overline{AB}$"
   ]
  },
  {
   "cell_type": "markdown",
   "metadata": {},
   "source": [
    "$A(-6,10)$, $B(8,6)$, $C(8,-1)$"
   ]
  },
  {
   "cell_type": "markdown",
   "metadata": {},
   "source": [
    "La pendiente perpendicular es\n",
    "$$ m=\\dfrac{7}{2} $$"
   ]
  },
  {
   "cell_type": "markdown",
   "metadata": {},
   "source": [
    "$$ b=y-mx=(-1)-\\left(\\dfrac{7}{2}\\right)(8)=-29 $$"
   ]
  },
  {
   "cell_type": "markdown",
   "metadata": {},
   "source": [
    "$$ y=\\dfrac{7}{2}x-29 $$"
   ]
  },
  {
   "cell_type": "markdown",
   "metadata": {},
   "source": [
    "* La altura del cateto $\\overline{BC}$"
   ]
  },
  {
   "cell_type": "markdown",
   "metadata": {},
   "source": [
    "* La altura del cateto $\\overline{AC}$"
   ]
  },
  {
   "cell_type": "markdown",
   "metadata": {},
   "source": [
    "* **Corrobora tus resultados con `Desmos`.**"
   ]
  },
  {
   "cell_type": "markdown",
   "metadata": {},
   "source": [
    "https://www.desmos.com/calculator/wtivsqoik1"
   ]
  },
  {
   "cell_type": "markdown",
   "metadata": {},
   "source": [
    "## Cónicas"
   ]
  },
  {
   "cell_type": "markdown",
   "metadata": {},
   "source": [
    "Las cónicas son:\n",
    "* circunferencia\n",
    "* elipse\n",
    "* parábola\n",
    "* hipérbola"
   ]
  },
  {
   "cell_type": "markdown",
   "metadata": {},
   "source": [
    "<img src=\"conicas.png\" align=\"middle\" width=\"700\">"
   ]
  },
  {
   "cell_type": "markdown",
   "metadata": {},
   "source": [
    "<img src=\"conic_sections.gif\" align=\"middle\" width=\"700\">"
   ]
  },
  {
   "cell_type": "markdown",
   "metadata": {},
   "source": [
    "<img src=\"conics_wolfram.gif\" align=\"middle\" width=\"500\">"
   ]
  },
  {
   "cell_type": "markdown",
   "metadata": {},
   "source": [
    "### Elementos importantes"
   ]
  },
  {
   "cell_type": "markdown",
   "metadata": {},
   "source": [
    "* **Circunferencia:** centro, radio\n",
    "* **Parábola:** foco, vértice, lado recto, directriz\n",
    "* **Elipse:** focos, centro, semieje mayor y menor"
   ]
  },
  {
   "cell_type": "markdown",
   "metadata": {},
   "source": [
    "### Circunferencia"
   ]
  },
  {
   "cell_type": "markdown",
   "metadata": {},
   "source": [
    "Empecemos con la definición:\n",
    "\n",
    "*La circunferencia es el conjunto de los puntos del plano que equidistan (tienen la misma distancia) de un punto fijo llamado centro.*"
   ]
  },
  {
   "cell_type": "markdown",
   "metadata": {},
   "source": [
    "* ***Ejemplo:*** Pensemos en el origen $P_0=(0,0)$ y todos los puntos que se encuentren a una distancia de $5$ de éste. Es bastante obvio que los puntos $P_1=(0,5)$, $P_2=(5,0)$, $P_3=(-5,0)$ y $P_4=(0,-5)$ se encuentran a esta distancia del origen. ¿Cuáles otros puntos cumplen estar a una distancia de $5$?"
   ]
  },
  {
   "cell_type": "markdown",
   "metadata": {},
   "source": [
    "Otro punto es el $P_5(3,4)$."
   ]
  },
  {
   "cell_type": "markdown",
   "metadata": {},
   "source": [
    "$$ d(P_0,P_5)=\\overline{P_0P_5}=\\sqrt{(x_1-x_2)^2+(y_1-y_2)^2}=\\sqrt{(0-3)^2+(0-4)^2}=5 $$"
   ]
  },
  {
   "cell_type": "markdown",
   "metadata": {},
   "source": [
    "Otro punto **NO** es el $P_6(8,3)$."
   ]
  },
  {
   "cell_type": "markdown",
   "metadata": {},
   "source": [
    "$$ d(P_0,P_6)=\\overline{P_0P_6}=\\sqrt{(x_1-x_2)^2+(y_1-y_2)^2}=\\sqrt{(0-8)^2+(0-3)^2}\\neq5 $$"
   ]
  },
  {
   "cell_type": "markdown",
   "metadata": {},
   "source": [
    "Usamos un punto general: $P(x,y)$."
   ]
  },
  {
   "cell_type": "markdown",
   "metadata": {},
   "source": [
    "$$ d(P_0,P)=\\overline{P_0P}=\\sqrt{(x_1-x_2)^2+(y_1-y_2)^2}=\\sqrt{(0-x)^2+(0-y)^2}=\\sqrt{x^2+y^2}=5 $$"
   ]
  },
  {
   "cell_type": "markdown",
   "metadata": {},
   "source": [
    "<img src=\"ej_circ.png\" align=\"middle\" width=\"800\">"
   ]
  },
  {
   "cell_type": "markdown",
   "metadata": {},
   "source": [
    "$$ \\circledast $$"
   ]
  },
  {
   "cell_type": "markdown",
   "metadata": {},
   "source": [
    "#### Ecuación ordinaria de la circunferencia"
   ]
  },
  {
   "cell_type": "markdown",
   "metadata": {},
   "source": [
    "La ecuación de una circunferencia con centro $C(h,k)$ y radio $r$ será"
   ]
  },
  {
   "cell_type": "markdown",
   "metadata": {},
   "source": [
    "$$ (x-h)^2+(y-k)^2=r^2 $$"
   ]
  },
  {
   "cell_type": "markdown",
   "metadata": {},
   "source": [
    "A esta forma de la ecuación de la circunferencia se le conoce como *forma ordinaria*."
   ]
  },
  {
   "cell_type": "markdown",
   "metadata": {},
   "source": [
    "Aquí podemos revisar una imagen de la circunferencia:\n",
    "\n",
    "https://www.desmos.com/calculator/vwcn6su7n7?lang=es"
   ]
  },
  {
   "cell_type": "markdown",
   "metadata": {},
   "source": [
    "* ***Ejemplo:*** ¿Cuál es la ecuación (ordinaria) de la circunferencia con centro en $(2,-4)$ y radio $3$?"
   ]
  },
  {
   "cell_type": "markdown",
   "metadata": {},
   "source": [
    "$$ (x-h)^2+(y-k)^2=r^2 $$"
   ]
  },
  {
   "cell_type": "markdown",
   "metadata": {},
   "source": [
    "$$ (x-2)^2+(y-(-4))^2=3^2 $$"
   ]
  },
  {
   "cell_type": "markdown",
   "metadata": {},
   "source": [
    "$$ (x-2)^2+(y+4)^2=9 $$"
   ]
  },
  {
   "cell_type": "markdown",
   "metadata": {},
   "source": [
    "$$ \\circledast $$"
   ]
  },
  {
   "cell_type": "markdown",
   "metadata": {},
   "source": [
    "#### Ecuación general de la circunferencia"
   ]
  },
  {
   "cell_type": "markdown",
   "metadata": {},
   "source": [
    "La ecuación general de una circunferencia es\n",
    "\\begin{equation}\n",
    " Ax^2+Cy^2+Dx+Ey+F=0\\ ,\n",
    "\\end{equation}\n",
    "con $A=C$."
   ]
  },
  {
   "cell_type": "markdown",
   "metadata": {},
   "source": [
    "* ***Ejemplo:*** Expresa la ecuación del ejemplo anterior en la forma general."
   ]
  },
  {
   "cell_type": "markdown",
   "metadata": {},
   "source": [
    "$$ (x-2)^2+(y+4)^2=9 $$"
   ]
  },
  {
   "cell_type": "markdown",
   "metadata": {},
   "source": [
    "$$ (x-2)^2+(y+4)^2-9=0 $$"
   ]
  },
  {
   "cell_type": "markdown",
   "metadata": {},
   "source": [
    "$$ (x^2-2x-2x+4)+(y^2+4y+4y+16)-9=0 $$"
   ]
  },
  {
   "cell_type": "markdown",
   "metadata": {},
   "source": [
    "$$ x^2+y^2-4x+8y+11=0 $$"
   ]
  },
  {
   "cell_type": "markdown",
   "metadata": {},
   "source": [
    "$$ \\circledast $$"
   ]
  },
  {
   "cell_type": "markdown",
   "metadata": {},
   "source": [
    "#### ¿Cómo obtener la ecuación ordinaria de la circunferencia a partir de la forma general?"
   ]
  },
  {
   "cell_type": "markdown",
   "metadata": {},
   "source": [
    "1. Agrupamos los términos de $x$ y de $y$ por separado.\n",
    "2. Completar cuadrados."
   ]
  },
  {
   "cell_type": "markdown",
   "metadata": {},
   "source": [
    "* ***Ejemplo:*** Obtenga el centro y el radio de la circunferencia $$x^2+y^2+2x+6y-33=0\\ .$$"
   ]
  },
  {
   "cell_type": "markdown",
   "metadata": {},
   "source": [
    "$$ x^2+y^2+2x+6y-33=0 $$"
   ]
  },
  {
   "cell_type": "markdown",
   "metadata": {},
   "source": [
    "$$ (x^2+2x)+(y^2+6y)-33=0 $$"
   ]
  },
  {
   "cell_type": "markdown",
   "metadata": {},
   "source": [
    "$$ (x^2+2x+1-1)+(y^2+6y+9-9)-33=0 $$"
   ]
  },
  {
   "cell_type": "markdown",
   "metadata": {},
   "source": [
    "$$ (x^2+2x+1)+(y^2+6y+9)-33-1-9=0 $$"
   ]
  },
  {
   "cell_type": "markdown",
   "metadata": {},
   "source": [
    "$$ (x+1)^2+(y+3)^2-43=0 $$"
   ]
  },
  {
   "cell_type": "markdown",
   "metadata": {},
   "source": [
    "$$ (x+1)^2+(y+3)^2=43$$"
   ]
  },
  {
   "cell_type": "markdown",
   "metadata": {},
   "source": [
    "$$ (x+1)^2+(y+3)^2=(\\sqrt{43})^2$$"
   ]
  },
  {
   "cell_type": "markdown",
   "metadata": {},
   "source": [
    "Comparando con la ecuación ordinaria de la circunferencia"
   ]
  },
  {
   "cell_type": "markdown",
   "metadata": {},
   "source": [
    "$$ (x-h)^2+(y-k)^2=r^2 $$"
   ]
  },
  {
   "cell_type": "markdown",
   "metadata": {},
   "source": [
    "obtenemos centro $C(h,k)=C(-1,-3)$ y radio $r=\\sqrt{43}\\approx6.55$."
   ]
  },
  {
   "cell_type": "markdown",
   "metadata": {},
   "source": [
    "$$ \\circledast $$"
   ]
  },
  {
   "cell_type": "markdown",
   "metadata": {},
   "source": [
    "### Parábola"
   ]
  },
  {
   "cell_type": "markdown",
   "metadata": {},
   "source": [
    "Empecemos con la definición:\n",
    "\n",
    "*La parábola es el conjunto de puntos para los cuales la distancia a un punto $F$ (foco) y la distancia a una recta $r$ (directriz) es la misma.*"
   ]
  },
  {
   "cell_type": "markdown",
   "metadata": {},
   "source": [
    "\"La parábola abraza al foco y se aleja de la directriz.\""
   ]
  },
  {
   "cell_type": "markdown",
   "metadata": {},
   "source": [
    "#### Ecuación ordinaria de la parábola"
   ]
  },
  {
   "cell_type": "markdown",
   "metadata": {},
   "source": [
    "La ecuación ordinaria de una parábola vertical es\n",
    "$$ 4p(y-k)=(x-h)^2 $$\n",
    "donde:\n",
    "* el *vértice* es $V(h,k)$\n",
    "* el *foco* es $F(h,k+p)$.\n",
    "    * Si $p$ es positivo la parábola abre hacia arriba.\n",
    "    * Si $p$ es negativo la parábola abre hacia abajo.\n",
    "* la *directriz* es $y=k-p$\n",
    "* la *longitud del lado recto* es $LLP=|4p|$\n",
    "\n",
    "Para visualizar la parábola vertical:\n",
    "\n",
    "https://www.desmos.com/calculator/qdpxz4flrq"
   ]
  },
  {
   "cell_type": "markdown",
   "metadata": {},
   "source": [
    "La ecuación ordinaria de una parábola horizontal es\n",
    "$$ 4p(x-h)=(y-k)^2 $$\n",
    "donde:\n",
    "* el *vértice* es $V(h,k)$\n",
    "* el *foco* es $F(h+p,k)$\n",
    "    * Si $p$ es positivo la parábola abre hacia la derecha.\n",
    "    * Si $p$ es negativo la parábola abre hacia la izquierda.\n",
    "* la *directriz* es $x=h-p$\n",
    "* la *longitud del lado recto* es $LLP=|4p|$\n",
    "\n",
    "Para visualizar la parábola horizontal:\n",
    "\n",
    "https://www.desmos.com/calculator/1whhx8f0z3"
   ]
  },
  {
   "cell_type": "markdown",
   "metadata": {},
   "source": [
    "### Circunferencia"
   ]
  },
  {
   "cell_type": "markdown",
   "metadata": {},
   "source": [
    "* ***Ejemplo:*** ¿Cuáles son las coordenadas del centro y el radio de la circunferencia $$(x-3)^2+(y+2)^2=1$$?"
   ]
  },
  {
   "cell_type": "markdown",
   "metadata": {},
   "source": [
    "* ***Ejemplo:*** ¿Cuál es la ecuación de la circunferencia con centro en $(-1,2)$ y $r=3$?"
   ]
  },
  {
   "cell_type": "markdown",
   "metadata": {},
   "source": [
    "* ***Ejemplo:*** ¿Cuál es la ecuación ordinaria de una circunferencia con centro en $(3,-1)$ y tiene $r=2$?"
   ]
  },
  {
   "cell_type": "markdown",
   "metadata": {},
   "source": [
    "* ***Ejemplo:*** ¿Cuál es la ecuación general de una circunferencia con $C(3,0)$ y $r=\\sqrt{3}$?"
   ]
  },
  {
   "cell_type": "markdown",
   "metadata": {},
   "source": [
    "* ***Ejemplo:*** ¿Cuál es la ecuación de la circunferencia con $C(2,-1)$ y $r=4$?"
   ]
  },
  {
   "cell_type": "markdown",
   "metadata": {},
   "source": [
    "* ***Ejemplo:*** ¿Cuál es la ecuación de la circunferencia con $C(2,-2)$ que pasa por el origen?"
   ]
  },
  {
   "cell_type": "markdown",
   "metadata": {},
   "source": [
    "* ***Ejemplo:*** ¿Cuál es el centro y el radio de la circunferencia $$x^2+y^2-6x+4y+9=0$$?"
   ]
  },
  {
   "cell_type": "markdown",
   "metadata": {},
   "source": [
    "* ***Ejemplo:*** ¿Cuál es el centro y el radio de la circunferencia $$x^2+y^2-4x-21=0$$?"
   ]
  },
  {
   "cell_type": "markdown",
   "metadata": {},
   "source": [
    "* ***Ejemplo:*** ¿Cuál es el centro y el radio de la circunferencia $$x^2+y^2-9=0$$?"
   ]
  },
  {
   "cell_type": "markdown",
   "metadata": {},
   "source": [
    "* ***Ejemplo:*** ¿Cuál es la ecuación de la circunferencia con centro en el origen y que pase por el punto $(2,-3)$? (¡importante!)"
   ]
  },
  {
   "cell_type": "markdown",
   "metadata": {},
   "source": [
    "* ***Ejemplo:*** ¿Cuál es la ecuación que corresponde a la gráfica?\n",
    "<img src=\"ej_circ_grafica.png\" align=\"middle\" width=\"400\">"
   ]
  }
 ],
 "metadata": {
  "kernelspec": {
   "display_name": "Julia 1.5.0",
   "language": "julia",
   "name": "julia-1.5"
  },
  "language_info": {
   "file_extension": ".jl",
   "mimetype": "application/julia",
   "name": "julia",
   "version": "1.5.0"
  }
 },
 "nbformat": 4,
 "nbformat_minor": 4
}
