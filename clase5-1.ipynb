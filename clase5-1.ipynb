{
 "cells": [
  {
   "cell_type": "markdown",
   "metadata": {},
   "source": [
    "# Estadística para interpretar grandes cantidades de datos"
   ]
  },
  {
   "cell_type": "markdown",
   "metadata": {},
   "source": [
    "# Clase 1"
   ]
  },
  {
   "cell_type": "markdown",
   "metadata": {},
   "source": [
    "##  Población y muestra"
   ]
  },
  {
   "cell_type": "markdown",
   "metadata": {},
   "source": [
    "La *población* es el conjunto de individuos que son objeto de estudio. Si la población es muy grande se selecciona al azar un grupo menos numeroso llamado *muestra*. El propósito de la estadística es describir características importantes sobre esta muestra."
   ]
  },
  {
   "cell_type": "markdown",
   "metadata": {},
   "source": [
    "## Tipos de variables estadísticas"
   ]
  },
  {
   "cell_type": "markdown",
   "metadata": {},
   "source": [
    "Llamamos *variable estadística* a cualquier característica que varíe entre los distintos individuos de una población."
   ]
  },
  {
   "cell_type": "markdown",
   "metadata": {},
   "source": [
    "### Variables cuantitativas (cantidad, números)"
   ]
  },
  {
   "cell_type": "markdown",
   "metadata": {},
   "source": [
    "Son las que se describen por números. Pueden ser *continuas* o *discretas*:"
   ]
  },
  {
   "cell_type": "markdown",
   "metadata": {},
   "source": [
    "#### Variable cuantitativa continua\n",
    "\n",
    "Es aquella que puede tomar cualquier valor dentro de un intervalo de números reales."
   ]
  },
  {
   "cell_type": "markdown",
   "metadata": {},
   "source": [
    "* ***Ejemplo:*** \n",
    "    * El peso de un objeto (0.007 g, 0.90 g, 500 g, 1 tonelada)\n",
    "    * El volumen de un líquido (30 L, 1.15 L, 600 mL)\n",
    "    * Temperatura ($100^\\circ C$, $-4^\\circ C$, $36.5^\\circ C$)"
   ]
  },
  {
   "cell_type": "markdown",
   "metadata": {},
   "source": [
    "$$ \\circledast $$"
   ]
  },
  {
   "cell_type": "markdown",
   "metadata": {},
   "source": [
    "#### Variable cuantitativa discreta\n",
    "\n",
    "Es aquella relacionada con el conteo y por lo general toma valores enteros."
   ]
  },
  {
   "cell_type": "markdown",
   "metadata": {},
   "source": [
    "* ***Ejemplo:*** \n",
    "    * Número de días de la semana en la que alguien come carne\n",
    "    * Cánicas que tienen infantes de 10 años para abajo en la ciudad de México.\n",
    "    * Cantidad de hijos que tienen las familias en Querétaro"
   ]
  },
  {
   "cell_type": "markdown",
   "metadata": {},
   "source": [
    "### Variables cualitativas"
   ]
  },
  {
   "cell_type": "markdown",
   "metadata": {},
   "source": [
    "Son las que se describen mediante nombres o cualidades no numéricas. Pueden ser *ordinales* o *nominales*: "
   ]
  },
  {
   "cell_type": "markdown",
   "metadata": {},
   "source": [
    "#### Variable cualitativa ordinal (orden)\n",
    "\n",
    "Es aquella en la cual podemos establecer un **orden** entre las etiquetas."
   ]
  },
  {
   "cell_type": "markdown",
   "metadata": {},
   "source": [
    "* ***Ejemplo:*** \n",
    "    * Turno en la fila de las tortillas (primero, segundo, tercero)\n",
    "    * Qué tanto nos gusta el mole (\"nada\", \"poco\", \"más o menos\", \"mucho\", \"es lo que más me gusta\")"
   ]
  },
  {
   "cell_type": "markdown",
   "metadata": {},
   "source": [
    "#### Variable cualitativa nominal (nombre)\n",
    "\n",
    "Es aquella en la cual **NO** podemos/queremos establecer un orden entre las etiquetas (nombres)."
   ]
  },
  {
   "cell_type": "markdown",
   "metadata": {},
   "source": [
    "* ***Ejemplo:*** \n",
    "    * Colores que se ven en el cielo\n",
    "    * Tipos de cerveza"
   ]
  },
  {
   "cell_type": "markdown",
   "metadata": {},
   "source": [
    "### Periodo"
   ]
  },
  {
   "cell_type": "markdown",
   "metadata": {},
   "source": [
    "Tiempo que pasa para que una cosa se repita. "
   ]
  },
  {
   "cell_type": "markdown",
   "metadata": {},
   "source": [
    "### Frecuencia"
   ]
  },
  {
   "cell_type": "markdown",
   "metadata": {},
   "source": [
    "Cantidad que nos dice qué tan repetitivo es algo. "
   ]
  },
  {
   "cell_type": "markdown",
   "metadata": {},
   "source": [
    "### Censo"
   ]
  },
  {
   "cell_type": "markdown",
   "metadata": {},
   "source": [
    "Consiste en obtener mediciones de una población mediante diversas técnicas de recuento y se realiza cada determinado periodo."
   ]
  },
  {
   "cell_type": "markdown",
   "metadata": {},
   "source": [
    "### Muestreo"
   ]
  },
  {
   "cell_type": "markdown",
   "metadata": {},
   "source": [
    "Consiste en obtener mediciones de una muestra (significativa) de la población y se puede extender las conclusiones."
   ]
  },
  {
   "cell_type": "markdown",
   "metadata": {},
   "source": [
    "## (Notación de suma) Sumatoria, $\\sum$"
   ]
  },
  {
   "cell_type": "markdown",
   "metadata": {},
   "source": [
    "Cuando tenemos muchos datos y, por alguna razón, quiero sumar todos mis datos, puedo usar la sumatoria para escribir la suma de una manera más concisa."
   ]
  },
  {
   "cell_type": "markdown",
   "metadata": {},
   "source": [
    "Imagínense que tenemos muchos datos y la suma la expresaré de la siguiente manera:"
   ]
  },
  {
   "cell_type": "markdown",
   "metadata": {},
   "source": [
    "$$ \\sum_{i=1}^nx_i=x_1+x_2+x_3+x_4+\\cdots $$"
   ]
  },
  {
   "cell_type": "markdown",
   "metadata": {},
   "source": [
    "Mis datos son $x_i$. El número que se encuentra debajo del símbolo $\\sum$ me dice en cuál de los datos empiezo a sumar. El número que se encuentra encima del símbolo $\\sum$ me dice en cuál dato termino."
   ]
  },
  {
   "cell_type": "markdown",
   "metadata": {},
   "source": [
    "* ***Ejemplo:*** Tenemos 100 datos ($x_i$). Si yo quisiera obtener la suma de todos estos datos escribiría"
   ]
  },
  {
   "cell_type": "markdown",
   "metadata": {},
   "source": [
    "$$ x_1+x_2+x_3+\\cdots+x_{99}+x_{100}=\\sum_{i=1}^{100} x_i $$"
   ]
  },
  {
   "cell_type": "markdown",
   "metadata": {},
   "source": [
    "* ***Ejemplo:*** Tenemos las calificaciones redondeadas de una estudiante de la ENP:"
   ]
  },
  {
   "cell_type": "code",
   "execution_count": 4,
   "metadata": {},
   "outputs": [
    {
     "data": {
      "text/plain": [
       "7-element Array{Int64,1}:\n",
       " 8\n",
       " 9\n",
       " 7\n",
       " 9\n",
       " 9\n",
       " 8\n",
       " 9"
      ]
     },
     "execution_count": 4,
     "metadata": {},
     "output_type": "execute_result"
    }
   ],
   "source": [
    "rand(6:1:10,7)"
   ]
  },
  {
   "cell_type": "markdown",
   "metadata": {},
   "source": [
    "$C_1=8$, $C_2=9$, $C_3=7$, $C_4=9$, $C_5=9$, $C_6=8$, $C_7=9$"
   ]
  },
  {
   "cell_type": "markdown",
   "metadata": {},
   "source": [
    "Para expresar la suma de sus calificaciones lo escribimos con la sumatoria como"
   ]
  },
  {
   "cell_type": "markdown",
   "metadata": {},
   "source": [
    "$$ \\sum_{i=1}^7C_i=59 $$"
   ]
  },
  {
   "cell_type": "markdown",
   "metadata": {},
   "source": [
    "## Medidas de tendencia central"
   ]
  },
  {
   "cell_type": "markdown",
   "metadata": {},
   "source": [
    "Son valores numéricos que representan o resumen el conjunto total de los datos y se ubican en la parte central de la distribución de frecuencia."
   ]
  },
  {
   "cell_type": "markdown",
   "metadata": {},
   "source": [
    "### Media aritmética o media (promedio), $\\bar{x}$"
   ]
  },
  {
   "cell_type": "markdown",
   "metadata": {},
   "source": [
    "Es el promedio del conjunto de datos observados. Si tenemos $n$ datos se puede obtener mediante"
   ]
  },
  {
   "cell_type": "markdown",
   "metadata": {},
   "source": [
    "$$ \\bar{x}=\\dfrac{x_1+x_2+x_3+\\dots+x_n}{n}=\\dfrac{\\sum_{i=1}^nx_i}{n} $$"
   ]
  },
  {
   "cell_type": "markdown",
   "metadata": {},
   "source": [
    "Se puede usar para variables cuantitativas discretas o continuas."
   ]
  },
  {
   "cell_type": "markdown",
   "metadata": {},
   "source": [
    "* ***Ejemplo:*** Tenemos las calificaciones redondeadas de una estudiante de la ENP:"
   ]
  },
  {
   "cell_type": "markdown",
   "metadata": {},
   "source": [
    "$C_1=8$, $C_2=9$, $C_3=7$, $C_4=9$, $C_5=9$, $C_6=8$, $C_7=9$"
   ]
  },
  {
   "cell_type": "markdown",
   "metadata": {},
   "source": [
    "Para obtener la media aritmética de la calificación tenemos (número de calificaciones $n=7$)"
   ]
  },
  {
   "cell_type": "markdown",
   "metadata": {},
   "source": [
    "$$ \\bar{C}=\\dfrac{\\sum_{i=1}^7C_i}{7}=\\dfrac{59}{7}=8.42 $$"
   ]
  },
  {
   "cell_type": "markdown",
   "metadata": {},
   "source": [
    "### Mediana, $\\tilde{x}$"
   ]
  },
  {
   "cell_type": "markdown",
   "metadata": {},
   "source": [
    "Es el dato que se encuentra en medio de los datos ordenados. \n",
    "\n",
    "* Si tenemos un número impar de datos la mediana $\\tilde{x}$ se encuentra en la posición $\\dfrac{n+1}{2}$.\n",
    "* Si tenemos un número par de datos la mediana $\\tilde{x}$ es el promedio de los dos datos que se encuentren en las posiciones $\\dfrac{n}{2}$ y $\\dfrac{n}{2}+1$ (el promedio de los dos datos que se encuentran en medio).\n"
   ]
  },
  {
   "cell_type": "markdown",
   "metadata": {},
   "source": [
    "* **Nota:**\n",
    "    * Un número impar se refiere a una cifra que termina en 1, 3, 5, 7, ó 9.\n",
    "    * Un número par se refiere a una cifra que termina en 2, 4, 6, 8, ó 0."
   ]
  },
  {
   "cell_type": "markdown",
   "metadata": {},
   "source": [
    "Se puede usar para variables cuantitativas discretas o continuas, también cualitativo ordinal."
   ]
  },
  {
   "cell_type": "markdown",
   "metadata": {},
   "source": [
    "* ***Ejemplo:*** Tenemos las calificaciones redondeadas de una estudiante de la ENP:"
   ]
  },
  {
   "cell_type": "markdown",
   "metadata": {},
   "source": [
    "$C_1=8$, $C_2=9$, $C_3=7$, $C_4=9$, $C_5=9$, $C_6=8$, $C_7=9$"
   ]
  },
  {
   "cell_type": "markdown",
   "metadata": {},
   "source": [
    "Para obtener la mediana de la calificación (número de calificaciones $n=7$), primero acomodamos las calificaciones de menor a mayor."
   ]
  },
  {
   "cell_type": "markdown",
   "metadata": {},
   "source": [
    "Me fijo en la posición $\\dfrac{n+1}{2}=\\dfrac{7+1}{2}=4$"
   ]
  },
  {
   "cell_type": "markdown",
   "metadata": {},
   "source": [
    "| No de calificación | Valor de calificación |\n",
    "|--------------------|-----------------------|\n",
    "| 1                  | 7                     |\n",
    "| 2                  | 8                     |\n",
    "| 3                  | 8                     |\n",
    "| 4                  | 9                     |\n",
    "| 5                  | 9                     |\n",
    "| 6                  | 9                     |\n",
    "| 7                  | 9                     |"
   ]
  },
  {
   "cell_type": "markdown",
   "metadata": {},
   "source": [
    "La mediana es $\\tilde{C}=9$."
   ]
  },
  {
   "cell_type": "markdown",
   "metadata": {},
   "source": [
    "* ***Ejemplo:*** Tenemos las calificaciones redondeadas de un estudiante de CCH:"
   ]
  },
  {
   "cell_type": "markdown",
   "metadata": {},
   "source": [
    "$C_1=8$, $C_2=9$, $C_3=7$, $C_4=9$, $C_5=9$, $C_6=8$"
   ]
  },
  {
   "cell_type": "markdown",
   "metadata": {},
   "source": [
    "Para obtener la mediana de la calificación (número de calificaciones $n=6$), primero acomodamos las calificaciones de menor a mayor."
   ]
  },
  {
   "cell_type": "markdown",
   "metadata": {},
   "source": [
    "Me fijo en las posiciones:\n",
    "* $\\dfrac{n}{2}=\\dfrac{6}{2}=3$\n",
    "* $\\dfrac{n}{2}+1=\\dfrac{6}{2}+1=4$"
   ]
  },
  {
   "cell_type": "markdown",
   "metadata": {},
   "source": [
    "| No de calificación | Valor de calificación |\n",
    "|--------------------|-----------------------|\n",
    "| 1                  | 7                     |\n",
    "| 2                  | 8                     |\n",
    "| 3                  | 8                     |\n",
    "| 4                  | 9                     |\n",
    "| 5                  | 9                     |\n",
    "| 6                  | 9                     |\n"
   ]
  },
  {
   "cell_type": "markdown",
   "metadata": {},
   "source": [
    "Entonces, los datos que se encuentra en esas posiciones (en medio) son 8 y 9, su promedio es"
   ]
  },
  {
   "cell_type": "markdown",
   "metadata": {},
   "source": [
    "$$ \\dfrac{8+9}{2}=\\dfrac{17}{2}=8.5 $$"
   ]
  },
  {
   "cell_type": "markdown",
   "metadata": {},
   "source": [
    "La mediana es $\\tilde{C}=8.5$."
   ]
  },
  {
   "cell_type": "markdown",
   "metadata": {},
   "source": [
    "### Moda, $\\rm{Mo}$"
   ]
  },
  {
   "cell_type": "markdown",
   "metadata": {},
   "source": [
    " Valor del dato observado con mayor frecuencia."
   ]
  },
  {
   "cell_type": "markdown",
   "metadata": {},
   "source": [
    "Si hay más de una moda, específicamente dos modas se comportan como una *distribución bimodal*, y en caso de que haya más de dos modas, decimos que tiene una *distribibución multimodal*."
   ]
  },
  {
   "cell_type": "markdown",
   "metadata": {},
   "source": [
    "Se puede usar para cualquiera de las variables."
   ]
  },
  {
   "cell_type": "markdown",
   "metadata": {},
   "source": [
    "* ***Ejemplo:*** Tenemos las calificaciones redondeadas de una estudiante de la ENP:"
   ]
  },
  {
   "cell_type": "markdown",
   "metadata": {},
   "source": [
    "$C_1=8$, $C_2=9$, $C_3=7$, $C_4=9$, $C_5=9$, $C_6=8$, $C_7=9$"
   ]
  },
  {
   "cell_type": "markdown",
   "metadata": {},
   "source": [
    "| No de calificación | Valor de calificación |\n",
    "|--------------------|-----------------------|\n",
    "| 1                  | 7                     |\n",
    "| 2                  | 8                     |\n",
    "| 3                  | 8                     |\n",
    "| 4                  | 9                     |\n",
    "| 5                  | 9                     |\n",
    "| 6                  | 9                     |\n",
    "| 7                  | 9                     |"
   ]
  },
  {
   "cell_type": "markdown",
   "metadata": {},
   "source": [
    "La moda es\n",
    "\n",
    "$$ \\rm{Mo}=9 $$"
   ]
  },
  {
   "cell_type": "markdown",
   "metadata": {},
   "source": [
    "## Situación. Un problema de salud pública"
   ]
  },
  {
   "cell_type": "markdown",
   "metadata": {},
   "source": [
    "En la asignatura de Educación para la Salud, el grupo 501, debe investigar un problema de salud pública de su entorno. Ana decidió analizar el problema de sobrepeso y obesidad en los alumnos de quinto año de su Plantel (ENP 10). Ellos organizaron un plan para realizar su investigación.\n",
    "\n",
    "En primer lugar, se preguntaron qué variables serían interesantes para su estudio."
   ]
  },
  {
   "cell_type": "markdown",
   "metadata": {},
   "source": [
    "**1. Es una variable cualitativa nominal**"
   ]
  },
  {
   "cell_type": "markdown",
   "metadata": {},
   "source": [
    "A) Alcaldía en la que vive un estudiante\n",
    "\n",
    "B) Edad de un estudiante\n",
    " \n",
    "C) Índice de masa muscular\n",
    "\n",
    "D) Talla de ropa que usa"
   ]
  },
  {
   "cell_type": "markdown",
   "metadata": {},
   "source": [
    "**Solución:** "
   ]
  },
  {
   "cell_type": "markdown",
   "metadata": {},
   "source": [
    "**2. Los valores de la variable \"frecuencia con la que toma refresco un estudiante\" son: con mucha frecuencia, algunas veces, nunca. ¿Qué tipo de variable es?**"
   ]
  },
  {
   "cell_type": "markdown",
   "metadata": {},
   "source": [
    "A) Cualitativa nominal\n",
    "\n",
    "B) Cualitativa ordinal\n",
    "\n",
    "C) Cuantitativa discreta\n",
    "\n",
    "D) Cuantitativa continua"
   ]
  },
  {
   "cell_type": "markdown",
   "metadata": {},
   "source": [
    "**Solución:** "
   ]
  },
  {
   "cell_type": "markdown",
   "metadata": {},
   "source": [
    "**3. Es una variable numérica discreta**"
   ]
  },
  {
   "cell_type": "markdown",
   "metadata": {},
   "source": [
    "A) Cualitativa nominal\n",
    "\n",
    "B) Cualitativa ordinal\n",
    "\n",
    "C) Cuantitativa discreta\n",
    "\n",
    "D) Cuantitativa continua"
   ]
  },
  {
   "cell_type": "markdown",
   "metadata": {},
   "source": [
    "**Solución:** "
   ]
  },
  {
   "cell_type": "markdown",
   "metadata": {},
   "source": [
    "**4. La variable IMC (índice de masa corporal) es de tipo**"
   ]
  },
  {
   "cell_type": "markdown",
   "metadata": {},
   "source": [
    "A) Cualitativa nominal\n",
    "\n",
    "B) Cualitativa ordinal\n",
    "\n",
    "C) Cuantitativa discreta\n",
    "\n",
    "D) Cuantitativa continua"
   ]
  },
  {
   "cell_type": "markdown",
   "metadata": {},
   "source": [
    "**Solución:** "
   ]
  },
  {
   "cell_type": "markdown",
   "metadata": {},
   "source": [
    "## Situación: Población y muestra"
   ]
  },
  {
   "cell_type": "markdown",
   "metadata": {},
   "source": [
    "Las variables elegidas por Ana y su equipo fueron: sexo, edad, estatura y masa, con\n",
    "los dos últimos datos calcularían además el índice de masa corporal (IMC). La siguiente decisión que tomaron los estudiantes fue determinar la muestra de la cual obtendrían los datos, por lo que eligieron al azar a 10 estudiantes de su grupo."
   ]
  },
  {
   "cell_type": "markdown",
   "metadata": {},
   "source": [
    "**1. La población del estudio de Ana y su equipo es:**"
   ]
  },
  {
   "cell_type": "markdown",
   "metadata": {},
   "source": [
    "A) Los estudiantes de quinto año del bachillerato de la Ciudad de México\n",
    "\n",
    "B) Los estudiantes de quinto año de la Escuela Nacional Preparatoria\n",
    "\n",
    "C) Los estudiantes de quinto año del Plantel 10 de la Escuela Nacional\n",
    "Preparatoria\n",
    "\n",
    "D) Los estudiantes del grupo 501 del Plantel 10 de la Escuela Nacional\n",
    "Preparatoria"
   ]
  },
  {
   "cell_type": "markdown",
   "metadata": {},
   "source": [
    "**Solución:** "
   ]
  },
  {
   "cell_type": "markdown",
   "metadata": {},
   "source": [
    "**2. La muestra del estudio de Ana y su equipo es:**"
   ]
  },
  {
   "cell_type": "markdown",
   "metadata": {},
   "source": [
    "A) Los estudiantes de quinto año del grupo 501 del Plantel 10 de la Escuela Nacional Preparatoria\n",
    "\n",
    "B) Los 10 estudiantes del grupo 501 del Plantel 10 de la Escuela Nacional Preparatoria\n",
    "\n",
    "C) El conjunto de datos de sexo, edad, estatura, masa e índice de masa corporal de los estudiantes del grupo 501 del Plantel 10 de la Escuela Nacional Preparatoria\n",
    "\n",
    "D) El conjunto de datos de sexo, edad, estatura, masa e índice de masa corporal de los 10 estudiantes del grupo 501 del Plantel 10 de la Escuela Nacional Preparatoria que Ana y su equipo eligieron al azar"
   ]
  },
  {
   "cell_type": "markdown",
   "metadata": {},
   "source": [
    "**Solución:** "
   ]
  }
 ],
 "metadata": {
  "kernelspec": {
   "display_name": "Julia 1.1.0",
   "language": "julia",
   "name": "julia-1.1"
  },
  "language_info": {
   "file_extension": ".jl",
   "mimetype": "application/julia",
   "name": "julia",
   "version": "1.1.0"
  }
 },
 "nbformat": 4,
 "nbformat_minor": 4
}
