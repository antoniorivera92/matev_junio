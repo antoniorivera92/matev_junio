{
 "cells": [
  {
   "cell_type": "markdown",
   "metadata": {},
   "source": [
    "# Álgebra para analizar objetos geométricos"
   ]
  },
  {
   "cell_type": "markdown",
   "metadata": {},
   "source": [
    "# Clase 4"
   ]
  },
  {
   "cell_type": "markdown",
   "metadata": {},
   "source": [
    "### Intersección"
   ]
  },
  {
   "cell_type": "markdown",
   "metadata": {},
   "source": [
    "* ***Ejemplo:***"
   ]
  },
  {
   "cell_type": "markdown",
   "metadata": {},
   "source": [
    "Vamos a pensar que tenemos las rectas\n",
    "\\begin{equation}\n",
    "\\begin{cases}\n",
    "y=6x-2 \\\\\n",
    "y=-9x+14\n",
    "\\end{cases}\n",
    "\\end{equation}"
   ]
  },
  {
   "cell_type": "markdown",
   "metadata": {},
   "source": [
    "Las coordenadas de la intersección son $\\left(\\dfrac{16}{15},\\dfrac{22}{5}\\right)$"
   ]
  },
  {
   "cell_type": "markdown",
   "metadata": {},
   "source": [
    "¿A qué se parece?"
   ]
  },
  {
   "cell_type": "markdown",
   "metadata": {},
   "source": [
    "\\begin{equation}\n",
    "\\begin{cases}\n",
    "-6x+y=-2 \\\\\n",
    "9x+y=14\n",
    "\\end{cases}\n",
    "\\end{equation}"
   ]
  },
  {
   "cell_type": "markdown",
   "metadata": {},
   "source": [
    "$x=\\dfrac{16}{15}$, $y=\\dfrac{22}{5}$"
   ]
  },
  {
   "cell_type": "markdown",
   "metadata": {},
   "source": [
    "Que la solución del sistema de ecuaciones me da las coordenadas $(x,y)$ donde mis rectas se intersectan."
   ]
  },
  {
   "cell_type": "markdown",
   "metadata": {},
   "source": [
    "## Distancia de un punto a una recta"
   ]
  },
  {
   "cell_type": "markdown",
   "metadata": {},
   "source": [
    "Supongamos que tenemos una recta en su forma general\n",
    "$$ A_0x+B_0y+C_0=0 $$"
   ]
  },
  {
   "cell_type": "markdown",
   "metadata": {},
   "source": [
    "Pensemos que tenemos un punto $P(x_0,y_0)$"
   ]
  },
  {
   "cell_type": "markdown",
   "metadata": {},
   "source": [
    "La distancia entre el punto y la recta es"
   ]
  },
  {
   "cell_type": "markdown",
   "metadata": {},
   "source": [
    "$$ d=\\dfrac{|A_0x_0+B_0y_0+C_0|}{\\sqrt{{A_0}^2+{B_0}^2}} $$"
   ]
  },
  {
   "cell_type": "markdown",
   "metadata": {},
   "source": [
    "**Reglas:**\n",
    "1. Si me dan la ecuación de la recta en la forma ordenada-pendiente tengo que pasarla a su forma general. Si me la dan en la forma general vamos al siguiente paso\n",
    "2. Señalamos cuánto valen los coeficientes de la recta en su forma general\n",
    "3. Sustituimos las coordenadas del punto $P(x_0,y_0)$ en la forma general de la ecuación de la recta y evaluamos.\n",
    "\n",
    "    Nota: Las líneas verticales en la fórmula significa *valor absoluto*, es decir, el valor que obtengamos lo mantemos positivo."
   ]
  },
  {
   "cell_type": "markdown",
   "metadata": {},
   "source": [
    "* ***Ejemplo:*** Tenemos la recta $y=x+2$ y los puntos $P(1,1)$ y $Q(2,4)$. \n",
    "    \n",
    "    (a) ¿Cuál es la distancia entre la recta y el punto $P$?\n",
    "    \n",
    "    (b) ¿Cuál es la distancia entre la recta y el punto $Q$?"
   ]
  },
  {
   "cell_type": "markdown",
   "metadata": {},
   "source": [
    "**(a) ¿Cuál es la distancia entre la recta y el punto $P$?**"
   ]
  },
  {
   "cell_type": "markdown",
   "metadata": {},
   "source": [
    "$$ y=x+2 $$"
   ]
  },
  {
   "cell_type": "markdown",
   "metadata": {},
   "source": [
    "$$ -x+y-2=0 $$"
   ]
  },
  {
   "cell_type": "markdown",
   "metadata": {},
   "source": [
    "$A_0=-1$, $B_0=1$, $C_0=-2$"
   ]
  },
  {
   "cell_type": "markdown",
   "metadata": {},
   "source": [
    "$$ d=\\dfrac{|A_0x_0+B_0y_0+C_0|}{\\sqrt{{A_0}^2+{B_0}^2}} $$"
   ]
  },
  {
   "cell_type": "markdown",
   "metadata": {},
   "source": [
    "$$ =\\dfrac{|(-1)(1)+(1)(1)+(-2)|}{\\sqrt{(-1)^2+(1)^2}} $$"
   ]
  },
  {
   "cell_type": "markdown",
   "metadata": {},
   "source": [
    "$$ =\\dfrac{|-1+1-2|}{\\sqrt{(-1)^2+(1)^2}} $$"
   ]
  },
  {
   "cell_type": "markdown",
   "metadata": {},
   "source": [
    "$$ =\\dfrac{2}{\\sqrt{2}}=\\sqrt{2} $$"
   ]
  },
  {
   "cell_type": "markdown",
   "metadata": {},
   "source": [
    "**(b) ¿Cuál es la distancia entre la recta y el punto $Q$?**"
   ]
  },
  {
   "cell_type": "markdown",
   "metadata": {},
   "source": [
    "*\"Cualquier punto que se encuentre sobre mi recta, tiene una distancia cero a esa recta.\"*"
   ]
  },
  {
   "cell_type": "markdown",
   "metadata": {},
   "source": [
    "## Rectas importantes en un triángulo"
   ]
  },
  {
   "cell_type": "markdown",
   "metadata": {},
   "source": [
    "* *Mediana*: la recta que va del vértice al punto medio del cateto opuesto. El punto donde se unen las medianas se conoce como *baricentro*."
   ]
  },
  {
   "cell_type": "markdown",
   "metadata": {},
   "source": [
    "<img src=\"baricentro.png\" align=\"middle\" width=\"400\">"
   ]
  },
  {
   "cell_type": "markdown",
   "metadata": {},
   "source": [
    "* *Mediatriz*: la recta perpendicular al cateto y que pasa por el punto medio de éste. El punto donde se unen las mediatrices se conoce como *circuncentro*."
   ]
  },
  {
   "cell_type": "markdown",
   "metadata": {},
   "source": [
    "<img src=\"circuncentro.png\" align=\"middle\" width=\"400\">"
   ]
  },
  {
   "cell_type": "markdown",
   "metadata": {},
   "source": [
    "* *Altura*: la recta perpendicular que pasa por el vértice. El punto donde se unen las alturas se conoce como *ortocentro*."
   ]
  },
  {
   "cell_type": "markdown",
   "metadata": {},
   "source": [
    "<img src=\"ortocentro.png\" align=\"middle\" width=\"400\">"
   ]
  },
  {
   "cell_type": "markdown",
   "metadata": {},
   "source": [
    "* *Recta de Euler*: es una recta que, sin importar el triángulo del que se trate, pasa por el baricentro, circuncentro y ortocentro de dicho triángulo."
   ]
  },
  {
   "cell_type": "markdown",
   "metadata": {},
   "source": [
    "<img src=\"euler.png\" align=\"middle\" width=\"400\">"
   ]
  },
  {
   "cell_type": "markdown",
   "metadata": {},
   "source": [
    "**Propiedades:**\n",
    "* En un triángulo equilátero el baricentro, el circuncentro y el ortocentro coinciden en el mismo punto."
   ]
  },
  {
   "cell_type": "markdown",
   "metadata": {},
   "source": [
    "Si tenemos un triángulo con vértices $A(x_1,y_1)$, $B(x_2,y_2)$, y $C(x_3,y_3)$, las coordenadas del"
   ]
  },
  {
   "cell_type": "markdown",
   "metadata": {},
   "source": [
    "* baricentro son $(x_b,y_b)$, donde"
   ]
  },
  {
   "cell_type": "markdown",
   "metadata": {},
   "source": [
    "\\begin{align*}\n",
    "x_b=\\dfrac{x_1+x_2+x_3}{3}\\\\\n",
    "y_b=\\dfrac{y_1+y_2+y_3}{3}\n",
    "\\end{align*}"
   ]
  },
  {
   "cell_type": "markdown",
   "metadata": {},
   "source": [
    "* circuncentro son $(x_c,y_c)$, donde"
   ]
  },
  {
   "cell_type": "markdown",
   "metadata": {},
   "source": [
    "$$ x_c=\\frac{x_1 \\sin(2A)+ x_2 \\sin(2B) + x_3 \\sin(2C)}{\\sin(2A)+\\sin(2B)+ \\sin (2C)} $$"
   ]
  },
  {
   "cell_type": "markdown",
   "metadata": {},
   "source": [
    "$$ y_c=\\frac{y_1 \\sin(2A)+ y_2 \\sin(2B) + y_3 \\sin(2C)}{\\sin(2A)+\\sin(2B)+ \\sin (2C)} $$"
   ]
  },
  {
   "cell_type": "markdown",
   "metadata": {},
   "source": [
    "* ortocentro son $(x_o,y_o)$, donde:"
   ]
  },
  {
   "cell_type": "markdown",
   "metadata": {},
   "source": [
    "\\begin{align*}\n",
    "x_o=\\dfrac{[x_2(x_1-x_3)+y_2(y_1-y_3)](y_3-y_2)-(y_3-y_1)[x_1(x_2-x_3)+y_1(y_2-y_3)]}{(x_3-x_2)(y_3-y_1)-(y_3-y_2)(x_3-x_1)}\\\\\n",
    "y_o=\\dfrac{[x_2(x_1-x_3)+y_2(y_1-y_3)](x_3-x_2)-(x_3-x_1)[x_1(x_2-x_3)+y_1(y_2-y_3)]}{(y_3-y_2)(x_3-x_1)-(x_3-x_2)(y_3-y_1)}\n",
    "\\end{align*}"
   ]
  },
  {
   "cell_type": "markdown",
   "metadata": {},
   "source": [
    "* ***Ejemplo:*** Consideremos un triángulo con vértices $A(-6,10)$, $B(8,6)$, y $C(8,-1)$.\n",
    "  * Encuentra la ecuación de la recta que pasa por cada lado del triángulo.\n",
    "  * Calcula el perímetro del triángulo.\n",
    "  * Encuentra los ángulos internos del triángulo mediante ángulo entre pendientes.\n",
    "  * Calcula el área del triángulo.\n",
    "  * Encuentra la ecuación de todas las medianas del triángulo.\n",
    "  * Obtén las coordenadas del baricentro (usando intersección de medianas).\n",
    "  * Encuentra la ecuación de todas las mediatrices del triángulo.\n",
    "  * Obtén las coordenadas del circuncentro (usando intersección de mediatrices).\n",
    "  * Encuentra la ecuación de todas las alturas del triángulo.\n",
    "  * Obtén las coordenadas del ortocentro (usando intersección de alturas).\n",
    "  * Encuentra la ecuación de la recta de Euler.\n",
    "  * Corrobora tus resultados con `Desmos`."
   ]
  },
  {
   "cell_type": "markdown",
   "metadata": {},
   "source": [
    "<img src=\"triangulo_euler.png\" align=\"middle\" width=\"400\">"
   ]
  },
  {
   "cell_type": "markdown",
   "metadata": {},
   "source": [
    "$A(-6,10)$, $B(8,6)$, $C(8,-1)$"
   ]
  },
  {
   "cell_type": "markdown",
   "metadata": {},
   "source": [
    "* **Encuentra la ecuación de la recta que pasa por cada lado del triángulo en la forma ordenada-pendiente y en la forma general.**"
   ]
  },
  {
   "cell_type": "markdown",
   "metadata": {},
   "source": [
    "$A(-6,10)$, $B(8,6)$, $C(8,-1)$"
   ]
  },
  {
   "cell_type": "markdown",
   "metadata": {},
   "source": [
    "**Ecuación de la recta que pasa por $A$ y $B$**"
   ]
  },
  {
   "cell_type": "markdown",
   "metadata": {},
   "source": [
    "$$ m_{AB}=\\dfrac{y_2-y_1}{x_2-x_1}=\\dfrac{-4}{14}=-\\dfrac{2}{7} $$"
   ]
  },
  {
   "cell_type": "markdown",
   "metadata": {},
   "source": [
    "$$ b=y-mx=(6)-\\left(-\\dfrac{2}{7}\\right)(8)=\\dfrac{58}{7} $$"
   ]
  },
  {
   "cell_type": "markdown",
   "metadata": {},
   "source": [
    "Recta en forma ordenada-pendiente"
   ]
  },
  {
   "cell_type": "markdown",
   "metadata": {},
   "source": [
    "$$ y=-\\dfrac{2}{7}x+\\dfrac{58}{7} $$"
   ]
  },
  {
   "cell_type": "markdown",
   "metadata": {},
   "source": [
    "Recta en forma general"
   ]
  },
  {
   "cell_type": "markdown",
   "metadata": {},
   "source": [
    "$$ \\dfrac{2}{7}x+y-\\dfrac{58}{7}=0 $$"
   ]
  },
  {
   "cell_type": "markdown",
   "metadata": {},
   "source": [
    "$$ 2x+7y-58=0 $$"
   ]
  },
  {
   "cell_type": "markdown",
   "metadata": {},
   "source": [
    "$A(-6,10)$, $B(8,6)$, $C(8,-1)$"
   ]
  },
  {
   "cell_type": "markdown",
   "metadata": {},
   "source": [
    "**Ecuación de la recta que pasa por $B$ y $C$**"
   ]
  },
  {
   "cell_type": "markdown",
   "metadata": {},
   "source": [
    "$$ m_{BC}=\\dfrac{-7}{0}=\\text{N.D.} $$"
   ]
  },
  {
   "cell_type": "markdown",
   "metadata": {},
   "source": [
    "Entonces utilizo la gráfica para darme cuenta que se trata de una línea vertical que pasa por la abscisa 8:"
   ]
  },
  {
   "cell_type": "markdown",
   "metadata": {},
   "source": [
    "$$ x=8 $$"
   ]
  },
  {
   "cell_type": "markdown",
   "metadata": {},
   "source": [
    "Recta en forma general"
   ]
  },
  {
   "cell_type": "markdown",
   "metadata": {},
   "source": [
    "$$ x-8=0 $$"
   ]
  },
  {
   "cell_type": "markdown",
   "metadata": {},
   "source": [
    "$A(-6,10)$, $B(8,6)$, $C(8,-1)$"
   ]
  },
  {
   "cell_type": "markdown",
   "metadata": {},
   "source": [
    "**Ecuación de la recta que pasa por $C$ y $A$**"
   ]
  },
  {
   "cell_type": "markdown",
   "metadata": {},
   "source": [
    "$$ m_{CA}=-\\dfrac{11}{14} $$"
   ]
  },
  {
   "cell_type": "markdown",
   "metadata": {},
   "source": [
    "$$ b=y-mx=\\dfrac{37}{7} $$"
   ]
  },
  {
   "cell_type": "markdown",
   "metadata": {},
   "source": [
    "Recta en forma ordenada-pendiente"
   ]
  },
  {
   "cell_type": "markdown",
   "metadata": {},
   "source": [
    "$$ y=-\\dfrac{11}{14}x+\\dfrac{37}{7} $$"
   ]
  },
  {
   "cell_type": "markdown",
   "metadata": {},
   "source": [
    "Recta en forma general"
   ]
  },
  {
   "cell_type": "markdown",
   "metadata": {},
   "source": [
    "$$ 11x+14y-74=0 $$"
   ]
  },
  {
   "cell_type": "markdown",
   "metadata": {},
   "source": [
    "$A(-6,10)$, $B(8,6)$, $C(8,-1)$"
   ]
  },
  {
   "cell_type": "markdown",
   "metadata": {},
   "source": [
    "* **Encuentra la longitud de cada lado del triángulo.**"
   ]
  },
  {
   "cell_type": "markdown",
   "metadata": {},
   "source": [
    "$$ c=\\overline{AB}=d(A,B)=\\sqrt{212} $$"
   ]
  },
  {
   "cell_type": "markdown",
   "metadata": {},
   "source": [
    "$$ a=\\overline{BC}=d(B,C)=7 $$"
   ]
  },
  {
   "cell_type": "markdown",
   "metadata": {},
   "source": [
    "$$ b=\\overline{CA}=d(C,A)=\\sqrt{317} $$"
   ]
  },
  {
   "cell_type": "markdown",
   "metadata": {},
   "source": [
    "* **Calcula el perímetro del triángulo.**"
   ]
  },
  {
   "cell_type": "markdown",
   "metadata": {},
   "source": [
    "$$ P=a+b+c=\\sqrt{212}+7\\sqrt{317}\\approx39.36 $$"
   ]
  },
  {
   "cell_type": "markdown",
   "metadata": {},
   "source": [
    "* **Encuentra los ángulos internos del triángulo mediante ángulo entre pendientes.**"
   ]
  },
  {
   "cell_type": "markdown",
   "metadata": {},
   "source": [
    "$$ \\theta=\\tan^{-1}\\left(\\dfrac{m_2-m_1}{1+m_2m_1}\\right) $$"
   ]
  },
  {
   "cell_type": "markdown",
   "metadata": {},
   "source": [
    "**Ángulo $A$ (que se forma entre $b=\\overline{CA}$ y $c=\\overline{AB}$)**"
   ]
  },
  {
   "cell_type": "markdown",
   "metadata": {},
   "source": [
    "$$ \\theta=\\tan^{-1}\\left(\\dfrac{m_{CA}-m_{AB}}{1+m_{CA}m_{AB}}\\right)\\approx-22.21^\\circ $$"
   ]
  },
  {
   "cell_type": "markdown",
   "metadata": {},
   "source": [
    "$$ A=22.21^\\circ $$"
   ]
  },
  {
   "cell_type": "markdown",
   "metadata": {},
   "source": [
    "**Ángulo $C$ (que se forma entre $a=\\overline{BC}$ y $b=\\overline{CA}$)**"
   ]
  },
  {
   "cell_type": "markdown",
   "metadata": {},
   "source": [
    "No puedo obtenerlo porque una de las pendientes está indefinida pero puedo calcular"
   ]
  },
  {
   "cell_type": "markdown",
   "metadata": {},
   "source": [
    "$$ \\theta=\\tan^{-1}(m_{CA})\\approx-38.15^\\circ $$"
   ]
  },
  {
   "cell_type": "markdown",
   "metadata": {},
   "source": [
    "Entonces,"
   ]
  },
  {
   "cell_type": "markdown",
   "metadata": {},
   "source": [
    "$$ C=90^\\circ-38.15^\\circ=51.85^\\circ $$"
   ]
  },
  {
   "cell_type": "markdown",
   "metadata": {},
   "source": [
    "**Ángulo $B$ (que se forma entre $a=\\overline{BC}$ y $c=\\overline{AB}$)**"
   ]
  },
  {
   "cell_type": "markdown",
   "metadata": {},
   "source": [
    "No puedo obtenerlo porque una de las pendientes está indefinida pero puedo calcular"
   ]
  },
  {
   "cell_type": "markdown",
   "metadata": {},
   "source": [
    "$$ \\theta=\\tan^{-1}(m_{AB})\\approx15.94^\\circ $$"
   ]
  },
  {
   "cell_type": "markdown",
   "metadata": {},
   "source": [
    "Entonces,"
   ]
  },
  {
   "cell_type": "markdown",
   "metadata": {},
   "source": [
    "$$ B=90^\\circ+15.94^\\circ=105.94^\\circ$$"
   ]
  },
  {
   "cell_type": "markdown",
   "metadata": {},
   "source": [
    "$$ A=22.21^\\circ $$\n",
    "$$ B=105.94^\\circ$$\n",
    "$$ C=51.85^\\circ $$"
   ]
  },
  {
   "cell_type": "markdown",
   "metadata": {},
   "source": [
    "$$ m_{AB}=-\\dfrac{2}{7} $$\n",
    "$$ m_{BC}=\\text{N.D.} $$\n",
    "$$ m_{CA}=-\\dfrac{11}{14} $$"
   ]
  },
  {
   "cell_type": "markdown",
   "metadata": {},
   "source": [
    "* **Encuentra el valor de la altura para cada lado del triángulo.**"
   ]
  },
  {
   "cell_type": "markdown",
   "metadata": {},
   "source": [
    "<img src=\"triangulo_euler.png\" align=\"middle\" width=\"400\">"
   ]
  },
  {
   "cell_type": "markdown",
   "metadata": {},
   "source": [
    "* $AB$: $ 2x+7y-58=0 $\n",
    "* $BC$: $x-8=0$\n",
    "* $CA$: $ 11x+14y-74=0 $"
   ]
  },
  {
   "cell_type": "markdown",
   "metadata": {},
   "source": [
    "**Altura que pasa por el vértice $A$**"
   ]
  },
  {
   "cell_type": "markdown",
   "metadata": {},
   "source": [
    "**Altura que pasa por el vértice $B$**"
   ]
  },
  {
   "cell_type": "markdown",
   "metadata": {},
   "source": [
    "**Altura que pasa por el vértice $C$**"
   ]
  },
  {
   "cell_type": "markdown",
   "metadata": {},
   "source": [
    "* **Calcula el área del triángulo de todas las formas que puedas.**"
   ]
  },
  {
   "cell_type": "markdown",
   "metadata": {},
   "source": [
    "Debe de salir que el área es 49."
   ]
  },
  {
   "cell_type": "markdown",
   "metadata": {},
   "source": [
    "* Tres formas con cada altura\n",
    "* Fórmula de Herón\n",
    "* Tres formas, conociendo dos lados y el ángulo entre ellos"
   ]
  },
  {
   "cell_type": "markdown",
   "metadata": {},
   "source": [
    "**1ra. forma () : Conociendo**"
   ]
  },
  {
   "cell_type": "markdown",
   "metadata": {},
   "source": [
    "**2da. forma () : Conociendo**"
   ]
  },
  {
   "cell_type": "markdown",
   "metadata": {},
   "source": [
    "**3ra. forma () : Conociendo**"
   ]
  },
  {
   "cell_type": "markdown",
   "metadata": {},
   "source": [
    "**4ta. forma () : Conociendo**"
   ]
  },
  {
   "cell_type": "markdown",
   "metadata": {},
   "source": [
    "**5ta. forma () : Conociendo**"
   ]
  },
  {
   "cell_type": "markdown",
   "metadata": {},
   "source": [
    "**6ta. forma () : Conociendo**"
   ]
  },
  {
   "cell_type": "markdown",
   "metadata": {},
   "source": [
    "**7ma. forma () : Conociendo**"
   ]
  },
  {
   "cell_type": "markdown",
   "metadata": {},
   "source": [
    "* **Encuentra la ecuación de todas las medianas del triángulo.**"
   ]
  },
  {
   "cell_type": "markdown",
   "metadata": {},
   "source": [
    "$A(-6,10)$, $B(8,6)$, $C(8,-1)$"
   ]
  },
  {
   "cell_type": "markdown",
   "metadata": {},
   "source": [
    "**Mediana que pasa por el vértice $A$**"
   ]
  },
  {
   "cell_type": "markdown",
   "metadata": {},
   "source": [
    "Punto medio del cateto $a$"
   ]
  },
  {
   "cell_type": "markdown",
   "metadata": {},
   "source": [
    "$$ M_{BC}\\left(8,\\dfrac{5}{2}\\right) $$"
   ]
  },
  {
   "cell_type": "markdown",
   "metadata": {},
   "source": [
    "**Mediana que pasa por el vértice $B$**"
   ]
  },
  {
   "cell_type": "markdown",
   "metadata": {},
   "source": [
    "**Mediana que pasa por el vértice $C$**"
   ]
  },
  {
   "cell_type": "markdown",
   "metadata": {},
   "source": [
    "Entonces, el baricentro tiene coordenadas"
   ]
  },
  {
   "cell_type": "markdown",
   "metadata": {},
   "source": [
    "$$ b(x_b,y_b) $$"
   ]
  },
  {
   "cell_type": "markdown",
   "metadata": {},
   "source": [
    "* **Obtén las coordenadas del baricentro (usando intersección de medianas).**"
   ]
  },
  {
   "cell_type": "markdown",
   "metadata": {},
   "source": [
    "$$\\begin{cases}\\phantom{1}\\\\\\phantom{1}\\end{cases}$$"
   ]
  },
  {
   "cell_type": "markdown",
   "metadata": {},
   "source": [
    "**Comprobación mediante fórmulas:**"
   ]
  },
  {
   "cell_type": "markdown",
   "metadata": {},
   "source": [
    "$$ x_b=\\dfrac{x_1+x_2+x_3}{3} $$"
   ]
  },
  {
   "cell_type": "markdown",
   "metadata": {},
   "source": [
    "$$ y_b=\\dfrac{y_1+y_2+y_3}{3} $$"
   ]
  },
  {
   "cell_type": "markdown",
   "metadata": {},
   "source": [
    "Entonces, el baricentro tiene coordenadas"
   ]
  },
  {
   "cell_type": "markdown",
   "metadata": {},
   "source": [
    "$$ b(x_b,y_b) $$"
   ]
  },
  {
   "cell_type": "markdown",
   "metadata": {},
   "source": [
    "* **Encuentra la ecuación de todas las mediatrices del triángulo.**"
   ]
  },
  {
   "cell_type": "markdown",
   "metadata": {},
   "source": [
    "$$ m_{AB}=-\\dfrac{2}{7} $$\n",
    "$$ m_{BC}=\\text{N.D.} $$\n",
    "$$ m_{CA}=-\\dfrac{11}{14} $$"
   ]
  },
  {
   "cell_type": "markdown",
   "metadata": {},
   "source": [
    "**Mediatriz que pasa por el cateto $a$**"
   ]
  },
  {
   "cell_type": "markdown",
   "metadata": {},
   "source": [
    "Punto medio del cateto $a$"
   ]
  },
  {
   "cell_type": "markdown",
   "metadata": {},
   "source": [
    "$$ M_{BC}\\left(8,\\dfrac{5}{2}\\right) $$"
   ]
  },
  {
   "cell_type": "markdown",
   "metadata": {},
   "source": [
    "**Mediatriz que pasa por el cateto $b$**"
   ]
  },
  {
   "cell_type": "markdown",
   "metadata": {},
   "source": [
    "$$ m=\\dfrac{14}{11} $$"
   ]
  },
  {
   "cell_type": "markdown",
   "metadata": {},
   "source": [
    "**Mediatriz que pasa por el cateto $c$**"
   ]
  },
  {
   "cell_type": "markdown",
   "metadata": {},
   "source": [
    "* **Obtén las coordenadas del circuncentro (usando intersección de mediatrices).**"
   ]
  },
  {
   "cell_type": "markdown",
   "metadata": {},
   "source": [
    "$$\\begin{cases}\\phantom{1}\\\\\\phantom{1}\\end{cases}$$"
   ]
  },
  {
   "cell_type": "markdown",
   "metadata": {},
   "source": [
    "Entonces, el circuncentro tiene coordenadas"
   ]
  },
  {
   "cell_type": "markdown",
   "metadata": {},
   "source": [
    "$$ c(x_c,y_c) $$"
   ]
  },
  {
   "cell_type": "markdown",
   "metadata": {},
   "source": [
    "* **Encuentra la ecuación de todas las alturas del triángulo.**"
   ]
  },
  {
   "cell_type": "markdown",
   "metadata": {},
   "source": [
    "**Altura que pasa por el cateto $a$**"
   ]
  },
  {
   "cell_type": "markdown",
   "metadata": {},
   "source": [
    "$$ m=0 $$"
   ]
  },
  {
   "cell_type": "markdown",
   "metadata": {},
   "source": [
    "**Altura que pasa por el cateto $b$**"
   ]
  },
  {
   "cell_type": "markdown",
   "metadata": {},
   "source": [
    "**Altura que pasa por el cateto $c$**"
   ]
  },
  {
   "cell_type": "markdown",
   "metadata": {},
   "source": [
    "* **Obtén las coordenadas del ortocentro (usando intersección de alturas).**"
   ]
  },
  {
   "cell_type": "markdown",
   "metadata": {},
   "source": [
    "$$\\begin{cases}\\phantom{1}\\\\\\phantom{1}\\end{cases}$$"
   ]
  },
  {
   "cell_type": "markdown",
   "metadata": {},
   "source": [
    "Entonces, el ortocentro tiene coordenadas"
   ]
  },
  {
   "cell_type": "markdown",
   "metadata": {},
   "source": [
    "$$ o(x_o,y_o) $$"
   ]
  },
  {
   "cell_type": "markdown",
   "metadata": {},
   "source": [
    "* **Encuentra la ecuación de la recta de Euler.**"
   ]
  },
  {
   "cell_type": "markdown",
   "metadata": {},
   "source": [
    "$$ m= $$"
   ]
  },
  {
   "cell_type": "markdown",
   "metadata": {},
   "source": [
    "$$ b=y-mx= $$"
   ]
  },
  {
   "cell_type": "markdown",
   "metadata": {},
   "source": [
    "* **Corrobora tus resultados con `Desmos`.**"
   ]
  },
  {
   "cell_type": "markdown",
   "metadata": {},
   "source": [
    "https://www.desmos.com/calculator/wtivsqoik1"
   ]
  },
  {
   "cell_type": "markdown",
   "metadata": {},
   "source": [
    "## Cónicas"
   ]
  },
  {
   "cell_type": "markdown",
   "metadata": {},
   "source": [
    "Las cónicas son:\n",
    "* circunferencia\n",
    "* elipse\n",
    "* parábola\n",
    "* hipérbola"
   ]
  },
  {
   "cell_type": "markdown",
   "metadata": {},
   "source": [
    "<img src=\"conicas.png\" align=\"middle\" width=\"700\">"
   ]
  },
  {
   "cell_type": "markdown",
   "metadata": {},
   "source": [
    "<img src=\"conic_sections.gif\" align=\"middle\" width=\"700\">"
   ]
  },
  {
   "cell_type": "markdown",
   "metadata": {},
   "source": [
    "<img src=\"conics_wolfram.gif\" align=\"middle\" width=\"500\">"
   ]
  },
  {
   "cell_type": "markdown",
   "metadata": {},
   "source": [
    "### Ecuación general de segundo grado"
   ]
  },
  {
   "cell_type": "markdown",
   "metadata": {},
   "source": [
    "La ecuación general de las cónicas es:"
   ]
  },
  {
   "cell_type": "markdown",
   "metadata": {},
   "source": [
    "$$ Ax^2+Bxy+Cy^2+Dx+Ey+F=0 $$"
   ]
  },
  {
   "cell_type": "markdown",
   "metadata": {},
   "source": [
    "### Criterios para distinguir la cónica a partir de la ecuación de segundo grado"
   ]
  },
  {
   "cell_type": "markdown",
   "metadata": {},
   "source": [
    "Cuando $B=0$ tendremos una:\n",
    "* circunferencia si $A=C$\n",
    "* parábola si $A=0$ ó $C=0$\n",
    "* elipse si $A\\neq C$ pero del mismo signo\n",
    "* hiperbola si $A$ y $C$ tienen signos contrarios"
   ]
  },
  {
   "cell_type": "markdown",
   "metadata": {},
   "source": [
    "$$ Ax^2+Cy^2+Dx+Ey+F=0 $$"
   ]
  },
  {
   "cell_type": "markdown",
   "metadata": {},
   "source": [
    "* ***Ejemplo:*** ¿Cuál cónica representa la ecuación $2x^2+2y^2=7$?"
   ]
  },
  {
   "cell_type": "markdown",
   "metadata": {},
   "source": [
    "$$  2x^2+2y^2-7=0 $$"
   ]
  },
  {
   "cell_type": "markdown",
   "metadata": {},
   "source": [
    "$$ Ax^2+Bxy+Cy^2+Dx+Ey+F=0 $$"
   ]
  },
  {
   "cell_type": "markdown",
   "metadata": {},
   "source": [
    "$A=$, $B=$, $C=$, $D=$, $E=$, $F=$"
   ]
  },
  {
   "cell_type": "markdown",
   "metadata": {},
   "source": [
    "Como $A$ y $C$"
   ]
  },
  {
   "cell_type": "markdown",
   "metadata": {},
   "source": [
    "* ***Ejemplo:*** ¿Cuál cónica representa la ecuación $y^2=1+x^2$?"
   ]
  },
  {
   "cell_type": "markdown",
   "metadata": {},
   "source": [
    "$A=$, $B=$, $C=$, $D=$, $E=$, $F=$"
   ]
  },
  {
   "cell_type": "markdown",
   "metadata": {},
   "source": [
    "* ***Ejemplo:*** ¿Cuál cónica representa la ecuación $x^2=8y$?"
   ]
  },
  {
   "cell_type": "markdown",
   "metadata": {},
   "source": [
    "$$  x^2-8y=0 $$"
   ]
  },
  {
   "cell_type": "markdown",
   "metadata": {},
   "source": [
    "$$ Ax^2+Bxy+Cy^2+Dx+Ey+F=0 $$"
   ]
  },
  {
   "cell_type": "markdown",
   "metadata": {},
   "source": [
    "$A=$, $B=$, $C=$, $D=$, $E=$, $F=$"
   ]
  },
  {
   "cell_type": "markdown",
   "metadata": {},
   "source": [
    "Como $C=$..."
   ]
  },
  {
   "cell_type": "markdown",
   "metadata": {},
   "source": [
    "* ***Ejemplo:*** ¿Cuál cónica representa la ecuación $1=\\dfrac{12-4y^2}{3x^2}$?"
   ]
  },
  {
   "cell_type": "markdown",
   "metadata": {},
   "source": [
    "$ $"
   ]
  },
  {
   "cell_type": "markdown",
   "metadata": {},
   "source": [
    "$$ Ax^2+Bxy+Cy^2+Dx+Ey+F=0 $$"
   ]
  },
  {
   "cell_type": "markdown",
   "metadata": {},
   "source": [
    "$A=$, $B=$, $C=$"
   ]
  },
  {
   "cell_type": "markdown",
   "metadata": {},
   "source": [
    "Como $A$ y $C$ ..."
   ]
  },
  {
   "cell_type": "markdown",
   "metadata": {},
   "source": [
    "**¿Qué pasa cuando $B$ no es cero?**\n",
    "\n",
    "Llamamos a $I=B^2-4AC$ el indicador.\n",
    "\n",
    "Entonces, cuando $B\\neq0$ ($B$ significa que la figura está rotada) tendremos una:\n",
    "* parábola si $I=0$\n",
    "* elipse si $I<0$\n",
    "* hiperbola si $I>0$"
   ]
  },
  {
   "cell_type": "markdown",
   "metadata": {},
   "source": [
    "* ***Ejemplo:*** ¿Cuál cónica representa la ecuación $2x^2-4xy+2y^2-40x+20y=0$?"
   ]
  },
  {
   "cell_type": "markdown",
   "metadata": {},
   "source": [
    "$$ Ax^2+Bxy+Cy^2+Dx+Ey+F=0 $$"
   ]
  },
  {
   "cell_type": "markdown",
   "metadata": {},
   "source": [
    "$A=$, $B=$ ,$C=$"
   ]
  },
  {
   "cell_type": "markdown",
   "metadata": {},
   "source": [
    "$$ I= $$"
   ]
  },
  {
   "cell_type": "markdown",
   "metadata": {},
   "source": [
    "Como el indicador es ______, se trata de una ______."
   ]
  },
  {
   "cell_type": "markdown",
   "metadata": {},
   "source": [
    "* ***Ejemplo:*** ¿Cuál cónica representa la ecuación $3x^2+2xy+3y^2-8y-2=0$?"
   ]
  },
  {
   "cell_type": "markdown",
   "metadata": {},
   "source": [
    "$$ Ax^2+Bxy+Cy^2+Dx+Ey+F=0 $$"
   ]
  },
  {
   "cell_type": "markdown",
   "metadata": {},
   "source": [
    "$A=$, $B=$, $C=$"
   ]
  },
  {
   "cell_type": "markdown",
   "metadata": {},
   "source": [
    "$$ I= $$"
   ]
  },
  {
   "cell_type": "markdown",
   "metadata": {},
   "source": [
    "Como el indicador es ______, se trata de una ______."
   ]
  }
 ],
 "metadata": {
  "kernelspec": {
   "display_name": "Julia 1.1.0",
   "language": "julia",
   "name": "julia-1.1"
  },
  "language_info": {
   "file_extension": ".jl",
   "mimetype": "application/julia",
   "name": "julia",
   "version": "1.1.0"
  }
 },
 "nbformat": 4,
 "nbformat_minor": 4
}
