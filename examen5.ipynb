{
 "cells": [
  {
   "cell_type": "markdown",
   "metadata": {},
   "source": [
    "# Examen 5"
   ]
  },
  {
   "cell_type": "markdown",
   "metadata": {},
   "source": [
    "## Situación 1: Viajar en avión por primera vez"
   ]
  },
  {
   "cell_type": "markdown",
   "metadata": {},
   "source": [
    "**Para el nuevo *marketing* de Aeroméxico se realizó una encuesta a nivel nacional para saber las edades a las que diferentes personas se subieron a un avión por primera vez en sus vidas. Los resultados se muestran en la siguiente tabla:**"
   ]
  },
  {
   "cell_type": "markdown",
   "metadata": {},
   "source": [
    "| Intervalo de edades | Porcentaje |\n",
    "|---------------------|------------|\n",
    "| 1-5                 | $7\\%$      |\n",
    "| 6-10                | $9\\%$      |\n",
    "| 11-15               | $17\\%$     |\n",
    "| 16-18               | $18\\%$     |\n",
    "| 19-21               | $21\\%$     |\n",
    "| 22-30               | $11\\%$     |\n",
    "| 31-40               | $9\\%$      |\n",
    "| 41-50               | $4\\%$      |\n",
    "| 51-60               | $2\\%$      |\n",
    "| 61-70               | $1\\%$      |\n",
    "| 71-90               | $1\\%$      |"
   ]
  },
  {
   "cell_type": "markdown",
   "metadata": {},
   "source": [
    "**1. Si a cada persona entrevistada se le pregunta su nombre de pila, estos datos deben clasificarse como una variable**\n",
    "\n",
    "**(1 punto)**"
   ]
  },
  {
   "cell_type": "markdown",
   "metadata": {},
   "source": [
    "A. cuantitativa continua.\n",
    "\n",
    "B. cualitativa ordinal.\n",
    "\n",
    "C. cuantitativa discreta.\n",
    "\n",
    "D. cualitativa nominal."
   ]
  },
  {
   "cell_type": "markdown",
   "metadata": {},
   "source": [
    "Como no buscamos ordenar estos nombres de pila, representan una variable cualitativa nominal."
   ]
  },
  {
   "cell_type": "markdown",
   "metadata": {},
   "source": [
    "A. cuantitativa continua.\n",
    "\n",
    "B. cualitativa ordinal.\n",
    "\n",
    "C. cuantitativa discreta.\n",
    "\n",
    "D. cualitativa nominal."
   ]
  },
  {
   "cell_type": "markdown",
   "metadata": {},
   "source": [
    "**Solución:** D."
   ]
  },
  {
   "cell_type": "markdown",
   "metadata": {},
   "source": [
    "**2. Si el tamaño de la muestra es de 3700 personas, ¿cuál es la frecuencia absoluta para el grupo de edad de 19 a 21 años?** \n",
    "\n",
    "**(1 punto)**"
   ]
  },
  {
   "cell_type": "markdown",
   "metadata": {},
   "source": [
    "A. 703\n",
    "\n",
    "B. 176\n",
    "\n",
    "C. 74\n",
    "\n",
    "D. 777"
   ]
  },
  {
   "cell_type": "markdown",
   "metadata": {},
   "source": [
    "Simplemente obtenemos el 21% de 3700:"
   ]
  },
  {
   "cell_type": "markdown",
   "metadata": {},
   "source": [
    "$$ \\dfrac{3700\\cdot 21}{100}=777 $$"
   ]
  },
  {
   "cell_type": "markdown",
   "metadata": {},
   "source": [
    "A. 703\n",
    "\n",
    "B. 176\n",
    "\n",
    "C. 74\n",
    "\n",
    "D. 777"
   ]
  },
  {
   "cell_type": "markdown",
   "metadata": {},
   "source": [
    "**Solución:** D."
   ]
  },
  {
   "cell_type": "markdown",
   "metadata": {},
   "source": [
    "**3. ¿Cuál es la frecuencia relativa para el grupo de edad de 51 a 60 años?**\n",
    "\n",
    "**(1 punto)**"
   ]
  },
  {
   "cell_type": "markdown",
   "metadata": {},
   "source": [
    "A. 0.09\n",
    "\n",
    "B. 3.70\n",
    "\n",
    "C. 0.74\n",
    "\n",
    "D. 0.02"
   ]
  },
  {
   "cell_type": "markdown",
   "metadata": {},
   "source": [
    "Recordemos que para obtener el porcentaje a partir de la frecuencia relativa, se multiplica esta última por 100. Entonces, para hacer el procedimineto contrario, simplemente dividimos entre 100:"
   ]
  },
  {
   "cell_type": "markdown",
   "metadata": {},
   "source": [
    "$$ \\dfrac{2}{100}=0.02 $$"
   ]
  },
  {
   "cell_type": "markdown",
   "metadata": {},
   "source": [
    "Alternativamente (y para que se convenzan), podemos obtener la frecuencia absoluta de este grupo y luego dividir entre el total:"
   ]
  },
  {
   "cell_type": "markdown",
   "metadata": {},
   "source": [
    "$$ \\dfrac{3700\\cdot 2}{100}=74 $$"
   ]
  },
  {
   "cell_type": "markdown",
   "metadata": {},
   "source": [
    "$$ \\dfrac{74}{3700}=0.02 $$"
   ]
  },
  {
   "cell_type": "markdown",
   "metadata": {},
   "source": [
    "A. 0.09\n",
    "\n",
    "B. 3.70\n",
    "\n",
    "C. 0.74\n",
    "\n",
    "D. 0.02"
   ]
  },
  {
   "cell_type": "markdown",
   "metadata": {},
   "source": [
    "**Solución:** D."
   ]
  },
  {
   "cell_type": "markdown",
   "metadata": {},
   "source": [
    "**4. El promedio de edad, para el estudio realizado, a la que las personas se han subido a un avión por primera vez es** \n",
    "\n",
    "**(2 puntos)**"
   ]
  },
  {
   "cell_type": "markdown",
   "metadata": {},
   "source": [
    "A. 176.58 años.\n",
    "\n",
    "B. 434.51 años.\n",
    "\n",
    "C. 13.29 años.\n",
    "\n",
    "D. 20.84 años."
   ]
  },
  {
   "cell_type": "markdown",
   "metadata": {},
   "source": [
    "Es conveniente agregar a la distribución de frecuencias una columna de marca de clase y otra de las frecuencias de cada intervalo de edades:"
   ]
  },
  {
   "cell_type": "markdown",
   "metadata": {},
   "source": [
    "| $\\#$ | Intervalo de edades | Porcentaje | Marca de clase | Frecuencia |\n",
    "|------|---------------------|------------|----------------|------------|\n",
    "| 1    | 1-5                 | 7 %        |3.0|259|\n",
    "| 2    | 6-10                | 9 %        |8.0|333|\n",
    "| 3    | 11-15               | 17 %       |13.0|629|\n",
    "| 4    | 16-18               | 18 %       |17.0|666|\n",
    "| 5    | 19-21               | 21 %       |20.0|777|\n",
    "| 6    | 22-30               | 11 %       |26.0|407|\n",
    "| 7    | 31-40               | 9 %        |35.5|333|\n",
    "| 8    | 41-50               | 4 %        |45.5|148|\n",
    "| 9    | 51-60               | 2 %        |55.5|74|\n",
    "| 10   | 61-70               | 1 %        |65.5|37|\n",
    "| 11   | 71-90               | 1 %        |80.5|37|"
   ]
  },
  {
   "cell_type": "markdown",
   "metadata": {},
   "source": [
    "Ahora sí, usando la calculadora se obtiene que la media aritmética de estos datos es"
   ]
  },
  {
   "cell_type": "markdown",
   "metadata": {},
   "source": [
    "$$ \\bar{x}=20.845 $$"
   ]
  },
  {
   "cell_type": "markdown",
   "metadata": {},
   "source": [
    "A. 176.58 años.\n",
    "\n",
    "B. 434.51 años.\n",
    "\n",
    "C. 13.29 años.\n",
    "\n",
    "D. 20.84 años."
   ]
  },
  {
   "cell_type": "markdown",
   "metadata": {},
   "source": [
    "**Solución:** D."
   ]
  },
  {
   "cell_type": "markdown",
   "metadata": {},
   "source": [
    "**5. ¿Cuál es la varianza de estos datos?**\n",
    "\n",
    "**(3 puntos)**"
   ]
  },
  {
   "cell_type": "markdown",
   "metadata": {},
   "source": [
    "A. 176.58\n",
    "\n",
    "B. 434.51\n",
    "\n",
    "C. 13.29\n",
    "\n",
    "D. 20.84"
   ]
  },
  {
   "cell_type": "markdown",
   "metadata": {},
   "source": [
    "De igual manera podemos usar la calculadora. Como las 3700 personas entrevistadas representan una muestra de la población de México, encontramos el valor de la desviación estándar muestral `sx`:"
   ]
  },
  {
   "cell_type": "markdown",
   "metadata": {},
   "source": [
    "$$ s\\approx13.29 $$"
   ]
  },
  {
   "cell_type": "markdown",
   "metadata": {},
   "source": [
    "Sin embargo, buscamos el cuadrado es este valor:"
   ]
  },
  {
   "cell_type": "markdown",
   "metadata": {},
   "source": [
    "$$ s^2\\approx176.58 $$"
   ]
  },
  {
   "cell_type": "markdown",
   "metadata": {},
   "source": [
    "A. 176.58\n",
    "\n",
    "B. 434.51\n",
    "\n",
    "C. 13.29\n",
    "\n",
    "D. 20.84"
   ]
  },
  {
   "cell_type": "markdown",
   "metadata": {},
   "source": [
    "**Solución:** A."
   ]
  },
  {
   "cell_type": "markdown",
   "metadata": {},
   "source": [
    "## Situación 2: Un problema de salud"
   ]
  },
  {
   "cell_type": "markdown",
   "metadata": {},
   "source": [
    "**La diabetes es un problema de salud pública en México. Si esta enfermedad se detecta tardíamente o no se trata adecuadamente ocasiona complicaciones de salud graves, por lo que resulta importante prevenirla procurando mantener un peso adecuado, entre otras medidas. La gráfica de la figura muestra información sobre el total de personas mexicanas adultas con diagnóstico de diabetes que presentaron complicaciones causadas por esta enfermedad en 2012.**"
   ]
  },
  {
   "cell_type": "markdown",
   "metadata": {},
   "source": [
    "<img src=\"grafica1.png\" align=\"middle\" width=\"400\">"
   ]
  },
  {
   "cell_type": "markdown",
   "metadata": {},
   "source": [
    "**6. ¿Cuál es la forma en la que se pueden estudiar estos datos?**\n",
    "\n",
    "**(1 punto)**"
   ]
  },
  {
   "cell_type": "markdown",
   "metadata": {},
   "source": [
    "A. Como datos no agrupados.\n",
    "\n",
    "B. Como datos agrupados.\n",
    "\n",
    "C. Como distribución de frecuencias.\n",
    "\n",
    "D. Como porcentajes."
   ]
  },
  {
   "cell_type": "markdown",
   "metadata": {},
   "source": [
    "Las distribución de frecuencias sirve para cualquier tipo de datos. Los porcentajes también se pueden usar para cualquier tipo de datos. Notemos que la variable estadística (complicaciones presentadas por pacientes enfermos de diabetes) **NO** está separada en intervalos de clase, por lo que se trata de datos no agrupados."
   ]
  },
  {
   "cell_type": "markdown",
   "metadata": {},
   "source": [
    "A. Como datos no agrupados.\n",
    "\n",
    "B. Como datos agrupados.\n",
    "\n",
    "C. Como distribución de frecuencias.\n",
    "\n",
    "D. Como porcentajes."
   ]
  },
  {
   "cell_type": "markdown",
   "metadata": {},
   "source": [
    "**Solución:** A."
   ]
  },
  {
   "cell_type": "markdown",
   "metadata": {},
   "source": [
    "**7. La gráfica corresponde a**\n",
    "\n",
    "**(1 punto)**"
   ]
  },
  {
   "cell_type": "markdown",
   "metadata": {},
   "source": [
    "A. una gráfica de sectores o pastel.\n",
    "\n",
    "B. una gráfica de barras.\n",
    "\n",
    "C. un histograma.\n",
    "\n",
    "D. un diagrama de dispersión."
   ]
  },
  {
   "cell_type": "markdown",
   "metadata": {},
   "source": [
    "Como podemos ver barras puede tratarse de una gráfica de barras o un histograma. Pero como la gráfica de barras sólo se usa para datos no agrupados mientras que el histograma se usa para datos agrupados, se trata de una gráfica de barras."
   ]
  },
  {
   "cell_type": "markdown",
   "metadata": {},
   "source": [
    "A. una gráfica de sectores o pastel.\n",
    "\n",
    "B. una gráfica de barras.\n",
    "\n",
    "C. un histograma.\n",
    "\n",
    "D. un diagrama de dispersión."
   ]
  },
  {
   "cell_type": "markdown",
   "metadata": {},
   "source": [
    "**Solución:** B."
   ]
  },
  {
   "cell_type": "markdown",
   "metadata": {},
   "source": [
    "**8. ¿Cuál es la variable principal de la información que se muestra en la gráfica?**\n",
    "\n",
    "**(1 punto)**"
   ]
  },
  {
   "cell_type": "markdown",
   "metadata": {},
   "source": [
    "A. Años en los que se realizó la encuesta.\n",
    "\n",
    "B. Proporción de enfermos con diabetes que presentaron complicaciones.\n",
    "   \n",
    "C. Complicaciones presentadas por pacientes enfermos de diabetes.\n",
    "\n",
    "D. Millones de pesos invertidos en cada complicación reportada."
   ]
  },
  {
   "cell_type": "markdown",
   "metadata": {},
   "source": [
    "<img src=\"grafica1.png\" align=\"middle\" width=\"400\">"
   ]
  },
  {
   "cell_type": "markdown",
   "metadata": {},
   "source": [
    "Lo que notamos de la gráfica es que los valores que la variable estadística puede tomar son:\n",
    "* Ardor, dolor o pérdida de sensibilidad en...\n",
    "* Coma diabético\n",
    "* Infarto\n",
    "* Diálisis\n",
    "* Pérdida de vista\n",
    "* Daño en la retina\n",
    "* Visión disminuida\n",
    "* Amputación\n",
    "* Úlceras en piernas o pies\n",
    "\n",
    "Entonces la variable estadística es \"Complicaciones presentadas por pacientes enfermos de diabetes\"."
   ]
  },
  {
   "cell_type": "markdown",
   "metadata": {},
   "source": [
    "A. Años en los que se realizó la encuesta.\n",
    "\n",
    "B. Proporción de enfermos con diabetes que presentaron complicaciones.\n",
    "   \n",
    "C. Complicaciones presentadas por pacientes enfermos de diabetes.\n",
    "\n",
    "D. Millones de pesos invertidos en cada complicación reportada."
   ]
  },
  {
   "cell_type": "markdown",
   "metadata": {},
   "source": [
    "**Solución:** C."
   ]
  },
  {
   "cell_type": "markdown",
   "metadata": {},
   "source": [
    "**9. La frecuencia absoluta de la categoría daño en la retina es**\n",
    "\n",
    "**(2 puntos)**"
   ]
  },
  {
   "cell_type": "markdown",
   "metadata": {},
   "source": [
    "A. 14.79 millones.\n",
    "  \n",
    "B. 13.9 millones.\n",
    "  \n",
    "C. 3.04 millones.\n",
    "  \n",
    "D. 0.89 millones.\n"
   ]
  },
  {
   "cell_type": "markdown",
   "metadata": {},
   "source": [
    "Notemos que los valores que aparecen a la izquierda de cada barra se refieren al porcentaje, mientras que los valores de la derecha se refieren a los millones de personas que padecen de la complicación."
   ]
  },
  {
   "cell_type": "markdown",
   "metadata": {},
   "source": [
    "<img src=\"grafica1.png\" align=\"middle\" width=\"400\">"
   ]
  },
  {
   "cell_type": "markdown",
   "metadata": {},
   "source": [
    "Por lo tanto, entendemos que 0.89 millones de personas padecen de daño en la retina."
   ]
  },
  {
   "cell_type": "markdown",
   "metadata": {},
   "source": [
    "A. 14.79 millones.\n",
    "  \n",
    "B. 13.9 millones.\n",
    "  \n",
    "C. 3.04 millones.\n",
    "  \n",
    "D. 0.89 millones.\n"
   ]
  },
  {
   "cell_type": "markdown",
   "metadata": {},
   "source": [
    "**Solución:** D"
   ]
  },
  {
   "cell_type": "markdown",
   "metadata": {},
   "source": [
    "**10. Es la moda del estudio.**\n",
    "\n",
    "**(2 puntos)**"
   ]
  },
  {
   "cell_type": "markdown",
   "metadata": {},
   "source": [
    "A. 47.6 millones.\n",
    "\n",
    "B. 3.04 millones.\n",
    "\n",
    "C. Visión disminuida.\n",
    "\n",
    "D. Diabetes."
   ]
  },
  {
   "cell_type": "markdown",
   "metadata": {},
   "source": [
    "Simplemente nos fijamos en la barra más larga. La moda es el valor de la variable estadística con mayor frecuencia absoluta o relativa."
   ]
  },
  {
   "cell_type": "markdown",
   "metadata": {},
   "source": [
    "<img src=\"grafica1.png\" align=\"middle\" width=\"400\">"
   ]
  },
  {
   "cell_type": "markdown",
   "metadata": {},
   "source": [
    "\"Visión disminuida\" es la complicación más común presentada por pacientes enfermos de diabetes, con una frecuencia relativa de 0.467 (47.6\\%), presentada por 3.04 millones de personas."
   ]
  },
  {
   "cell_type": "markdown",
   "metadata": {},
   "source": [
    "A. 47.6 millones.\n",
    "\n",
    "B. 3.04 millones.\n",
    "\n",
    "C. Visión disminuida.\n",
    "\n",
    "D. Diabetes."
   ]
  },
  {
   "cell_type": "markdown",
   "metadata": {},
   "source": [
    "**Solución:** C."
   ]
  },
  {
   "cell_type": "markdown",
   "metadata": {},
   "source": [
    "## Situación 3: Salud alimenticia en la ciudad de México"
   ]
  },
  {
   "cell_type": "markdown",
   "metadata": {},
   "source": [
    "**Se hizo un estudio de salud en la Ciudad de México. Para esto se entrevistaron a transeúntes sobre sus hábitos alimenticios durante una semana. El equipo de especialistas preguntó a las personas sobre el tipo de alimentos que consumieron, las porciones y si mantienen este tipo de dieta. Basado en esto, el equipo hizo una estimación de la cantidad de kilocalorías (kcal) que cada persona consume a la semana. Para tener mayor facilidad al momento de trabajar los datos se realizó la siguiente tabla:**"
   ]
  },
  {
   "cell_type": "markdown",
   "metadata": {},
   "source": [
    "| Clase | Intervalo de clase     | Marca de <br>clase, $m_i$ | Frecuencia<br>absoluta, $f_i$ |\n",
    "|:-----:|:----------------------:|:--------------------------:|:-----------------------------:|\n",
    "|   1   |     $[11.07,15.15)$    |            13.11           |               50              |\n",
    "|   2   |     $[15.15,19.23)$    |            17.19           |               40              |\n",
    "|   3   |     $[19.23,23.31)$    |            21.27           |               39              |\n",
    "|   4   |     $[23.31,27.39)$    |            25.35           |               42              |\n",
    "|   5   |     $[27.39,31.47)$    |            29.43           |               37              |\n",
    "|   6   |     $[31.47,35.55)$    |            $ $           |               50              |\n",
    "|   7   |     $[35.55,39.63)$    |            37.59           |               33              |\n",
    "|   8   |     $[39.63,43.71]$    |            41.67           |               38              |"
   ]
  },
  {
   "cell_type": "markdown",
   "metadata": {},
   "source": [
    "**11. ¿A cuántas personas de entrevistaron?**\n",
    "\n",
    "**(1 punto)**"
   ]
  },
  {
   "cell_type": "markdown",
   "metadata": {},
   "source": [
    "A. 11.07\n",
    "\n",
    "B. 36\n",
    "\n",
    "C. 4.08\n",
    "\n",
    "D. 329"
   ]
  },
  {
   "cell_type": "markdown",
   "metadata": {},
   "source": [
    "Sumamos todas las frecuencias absolutas:"
   ]
  },
  {
   "cell_type": "code",
   "execution_count": 1,
   "metadata": {},
   "outputs": [
    {
     "data": {
      "text/plain": [
       "329"
      ]
     },
     "execution_count": 1,
     "metadata": {},
     "output_type": "execute_result"
    }
   ],
   "source": [
    "50+40+39+42+37+50+33+38"
   ]
  },
  {
   "cell_type": "markdown",
   "metadata": {},
   "source": [
    "A. 11.07\n",
    "\n",
    "B. 36\n",
    "\n",
    "C. 4.08\n",
    "\n",
    "D. 329"
   ]
  },
  {
   "cell_type": "markdown",
   "metadata": {},
   "source": [
    "**Solución:** D."
   ]
  },
  {
   "cell_type": "markdown",
   "metadata": {},
   "source": [
    "**12. ¿Cuál es el ancho de clase?**\n",
    "\n",
    "**(1 punto)**"
   ]
  },
  {
   "cell_type": "markdown",
   "metadata": {},
   "source": [
    "A. 11.07 kcal\n",
    "\n",
    "B. 36 kcal\n",
    "\n",
    "C. 4.08 kcal\n",
    "\n",
    "D. 329 kcal"
   ]
  },
  {
   "cell_type": "markdown",
   "metadata": {},
   "source": [
    "| Clase | Intervalo de clase     | Marca de <br>clase, $m_i$ | Frecuencia<br>absoluta, $f_i$ |\n",
    "|:-----:|:----------------------:|:--------------------------:|:-----------------------------:|\n",
    "|   1   |     $[11.07,15.15)$    |            13.11           |               50              |\n",
    "|   2   |     $[15.15,19.23)$    |            17.19           |               40              |\n",
    "|   3   |     $[19.23,23.31)$    |            21.27           |               39              |\n",
    "|   4   |     $[23.31,27.39)$    |            25.35           |               42              |\n",
    "|   5   |     $[27.39,31.47)$    |            29.43           |               37              |\n",
    "|   6   |     $[31.47,35.55)$    |            $ $           |               50              |\n",
    "|   7   |     $[35.55,39.63)$    |            37.59           |               33              |\n",
    "|   8   |     $[39.63,43.71]$    |            41.67           |               38              |"
   ]
  },
  {
   "cell_type": "markdown",
   "metadata": {},
   "source": [
    "$$ \\text{ancho de clase}=\\text{límite superior del intervalo}-\\text{límite inferior del intervalo} $$"
   ]
  },
  {
   "cell_type": "code",
   "execution_count": 2,
   "metadata": {},
   "outputs": [
    {
     "data": {
      "text/plain": [
       "4.08"
      ]
     },
     "execution_count": 2,
     "metadata": {},
     "output_type": "execute_result"
    }
   ],
   "source": [
    "15.15-11.07"
   ]
  },
  {
   "cell_type": "code",
   "execution_count": 3,
   "metadata": {},
   "outputs": [
    {
     "data": {
      "text/plain": [
       "4.08"
      ]
     },
     "execution_count": 3,
     "metadata": {},
     "output_type": "execute_result"
    }
   ],
   "source": [
    "19.23-15.15"
   ]
  },
  {
   "cell_type": "code",
   "execution_count": 4,
   "metadata": {},
   "outputs": [
    {
     "data": {
      "text/plain": [
       "4.079999999999998"
      ]
     },
     "execution_count": 4,
     "metadata": {},
     "output_type": "execute_result"
    }
   ],
   "source": [
    "23.31-19.23"
   ]
  },
  {
   "cell_type": "code",
   "execution_count": 5,
   "metadata": {},
   "outputs": [
    {
     "data": {
      "text/plain": [
       "4.080000000000002"
      ]
     },
     "execution_count": 5,
     "metadata": {},
     "output_type": "execute_result"
    }
   ],
   "source": [
    "27.39-23.31"
   ]
  },
  {
   "cell_type": "code",
   "execution_count": 6,
   "metadata": {},
   "outputs": [
    {
     "data": {
      "text/plain": [
       "4.079999999999998"
      ]
     },
     "execution_count": 6,
     "metadata": {},
     "output_type": "execute_result"
    }
   ],
   "source": [
    "31.47-27.39"
   ]
  },
  {
   "cell_type": "code",
   "execution_count": 7,
   "metadata": {},
   "outputs": [
    {
     "data": {
      "text/plain": [
       "4.079999999999998"
      ]
     },
     "execution_count": 7,
     "metadata": {},
     "output_type": "execute_result"
    }
   ],
   "source": [
    "35.55-31.47"
   ]
  },
  {
   "cell_type": "code",
   "execution_count": 8,
   "metadata": {},
   "outputs": [
    {
     "data": {
      "text/plain": [
       "4.080000000000005"
      ]
     },
     "execution_count": 8,
     "metadata": {},
     "output_type": "execute_result"
    }
   ],
   "source": [
    "39.63-35.55"
   ]
  },
  {
   "cell_type": "code",
   "execution_count": 9,
   "metadata": {},
   "outputs": [
    {
     "data": {
      "text/plain": [
       "4.079999999999998"
      ]
     },
     "execution_count": 9,
     "metadata": {},
     "output_type": "execute_result"
    }
   ],
   "source": [
    "43.71-39.63"
   ]
  },
  {
   "cell_type": "markdown",
   "metadata": {},
   "source": [
    "Con esto vemos que el ancho de clase siempre es el mismo: 4.08"
   ]
  },
  {
   "cell_type": "markdown",
   "metadata": {},
   "source": [
    "A. 11.07 kcal\n",
    "\n",
    "B. 36 kcal\n",
    "\n",
    "C. 4.08 kcal\n",
    "\n",
    "D. 329 kcal"
   ]
  },
  {
   "cell_type": "markdown",
   "metadata": {},
   "source": [
    "**Solución:** C."
   ]
  },
  {
   "cell_type": "markdown",
   "metadata": {},
   "source": [
    "**13. ¿Cuál es la marca de la sexta clase?**\n",
    "\n",
    "**(1 punto)**"
   ]
  },
  {
   "cell_type": "markdown",
   "metadata": {},
   "source": [
    "A. 2.04 kcal\n",
    "\n",
    "B. 26.91 kcal\n",
    "\n",
    "C. 33.51 kcal\n",
    "\n",
    "D. 4.08 kcal"
   ]
  },
  {
   "cell_type": "markdown",
   "metadata": {},
   "source": [
    "| Clase | Intervalo de clase     | Marca de <br>clase, $m_i$ | Frecuencia<br>absoluta, $f_i$ |\n",
    "|:-----:|:----------------------:|:--------------------------:|:-----------------------------:|\n",
    "|   1   |     $[11.07,15.15)$    |            13.11           |               50              |\n",
    "|   2   |     $[15.15,19.23)$    |            17.19           |               40              |\n",
    "|   3   |     $[19.23,23.31)$    |            21.27           |               39              |\n",
    "|   4   |     $[23.31,27.39)$    |            25.35           |               42              |\n",
    "|   5   |     $[27.39,31.47)$    |            29.43           |               37              |\n",
    "|   6   |     $[31.47,35.55)$    |            $ $           |               50              |\n",
    "|   7   |     $[35.55,39.63)$    |            37.59           |               33              |\n",
    "|   8   |     $[39.63,43.71]$    |            41.67           |               38              |"
   ]
  },
  {
   "cell_type": "markdown",
   "metadata": {},
   "source": [
    "$$ \\text{marca de clase}=\\dfrac{\\text{límite superior}+\\text{límite inferior}}{2}=\\dfrac{35.55+31.47}{2}=33.51 $$"
   ]
  },
  {
   "cell_type": "code",
   "execution_count": 10,
   "metadata": {},
   "outputs": [
    {
     "data": {
      "text/plain": [
       "33.51"
      ]
     },
     "execution_count": 10,
     "metadata": {},
     "output_type": "execute_result"
    }
   ],
   "source": [
    "(35.55+31.47)/2"
   ]
  },
  {
   "cell_type": "markdown",
   "metadata": {},
   "source": [
    "A. 2.04 kcal\n",
    "\n",
    "B. 26.91 kcal\n",
    "\n",
    "C. 33.51 kcal\n",
    "\n",
    "D. 4.08 kcal"
   ]
  },
  {
   "cell_type": "markdown",
   "metadata": {},
   "source": [
    "**Solución:** C."
   ]
  },
  {
   "cell_type": "markdown",
   "metadata": {},
   "source": [
    "**14. ¿Cuál es la desviación estándar de los datos?**\n",
    "\n",
    "**(3 puntos)**"
   ]
  },
  {
   "cell_type": "markdown",
   "metadata": {},
   "source": [
    "A. 26.82 kcal\n",
    "\n",
    "B. 27.82 kcal\n",
    "\n",
    "C. 9.40 kcal\n",
    "\n",
    "D. 9.42 kcal"
   ]
  },
  {
   "cell_type": "markdown",
   "metadata": {},
   "source": [
    "Usamos la calculadora con la distribución de frecuencias de datos ordenados."
   ]
  },
  {
   "cell_type": "markdown",
   "metadata": {},
   "source": [
    "| Clase | Intervalo de clase     | Marca de <br>clase, $m_i$ | Frecuencia<br>absoluta, $f_i$ |\n",
    "|:-----:|:----------------------:|:--------------------------:|:-----------------------------:|\n",
    "|   1   |     $[11.07,15.15)$    |            13.11           |               50              |\n",
    "|   2   |     $[15.15,19.23)$    |            17.19           |               40              |\n",
    "|   3   |     $[19.23,23.31)$    |            21.27           |               39              |\n",
    "|   4   |     $[23.31,27.39)$    |            25.35           |               42              |\n",
    "|   5   |     $[27.39,31.47)$    |            29.43           |               37              |\n",
    "|   6   |     $[31.47,35.55)$    |            33.51           |               50              |\n",
    "|   7   |     $[35.55,39.63)$    |            37.59           |               33              |\n",
    "|   8   |     $[39.63,43.71]$    |            41.67           |               38              |"
   ]
  },
  {
   "cell_type": "markdown",
   "metadata": {},
   "source": [
    "A. 26.82 kcal\n",
    "\n",
    "B. 27.82 kcal\n",
    "\n",
    "C. 9.40 kcal\n",
    "\n",
    "D. 9.42 kcal"
   ]
  },
  {
   "cell_type": "markdown",
   "metadata": {},
   "source": [
    "**Solución:** D."
   ]
  },
  {
   "cell_type": "markdown",
   "metadata": {},
   "source": [
    "**15. Completa correctamente una conclusión del estudio: \"En un estudio de salud alimenticia en la Ciudad de México se encontró que...\"**\n",
    "\n",
    "**(3 puntos)**"
   ]
  },
  {
   "cell_type": "markdown",
   "metadata": {},
   "source": [
    "A. \"... aproximadamente el $52\\%$ de la muestra consume menos de 27.39 kcal a la semana.\"\n",
    "\n",
    "B. \"..., en promedio, la ingesta semanal es de 27.82 kcal.\"\n",
    "\n",
    "C. \"... la variación en los datos recabados es menor al $10\\%$.\"\n",
    "\n",
    "D. \"... la máxima ingesta semanal es 11.07 kcal.\""
   ]
  },
  {
   "cell_type": "markdown",
   "metadata": {},
   "source": [
    "Revisemos inciso por inciso:"
   ]
  },
  {
   "cell_type": "markdown",
   "metadata": {},
   "source": [
    "* **A. \"... aproximadamente el $52\\%$ de la muestra consume menos de 27.39 kcal a la semana.\"**"
   ]
  },
  {
   "cell_type": "markdown",
   "metadata": {},
   "source": [
    "Para este inciso conviene agregar el resto de las frecuencias a la tabla"
   ]
  },
  {
   "cell_type": "markdown",
   "metadata": {},
   "source": [
    "| Clase | Intervalo de clase | $m_i$ | $f_i$ | $p_i$ | $F_i$ | $P_i$ |\n",
    "|-------|--------------------|-------|-------|-------|-------|-------|\n",
    "| 1     | $[11.07,15.15)$    | 13.11 | 50    | 0.152      | 50    | 0.152      |\n",
    "| 2     | $[15.15,19.23)$    | 17.19 | 40    | 0.122      | 90    | 0.274      |\n",
    "| 3     | $[19.23,23.31)$    | 21.27 | 39    | 0.119      | 129   | 0.392      |\n",
    "| 4     | $[23.31,27.39)$    | 25.35 | 42    | 0.128      | 171   | 0.520      |\n",
    "| 5     | $[27.39,31.47)$    | 29.43 | 37    | 0.112      | 208   | 0.632      |\n",
    "| 6     | $[31.47,35.55)$    | 33.51 | 50    | 0.152      | 258   | 0.784      |\n",
    "| 7     | $[35.55,39.63)$    | 37.59 | 33    | 0.100      | 291   | 0.884      |\n",
    "| 8     | $[39.63,43.71]$    | 41.67 | 38    | 0.116      | 329   | 1.000      |"
   ]
  },
  {
   "cell_type": "markdown",
   "metadata": {},
   "source": [
    "De aquí es claro que, hasta la cuarta clase representa un $52\\%$ de las personas entrevistadas. Por lo tanto, esta conclusión es la correcta."
   ]
  },
  {
   "cell_type": "markdown",
   "metadata": {},
   "source": [
    "* **B. \"..., en promedio, la ingesta semanal es de 27.82 kcal.\"**"
   ]
  },
  {
   "cell_type": "markdown",
   "metadata": {},
   "source": [
    "El promedio debió calcularse para el problema anterior. Su valor es 26.82 kcal por lo que esta opción es incorrecta."
   ]
  },
  {
   "cell_type": "markdown",
   "metadata": {},
   "source": [
    "* **C. \"... la variación en los datos recabados es menor al $10\\%$.\"**"
   ]
  },
  {
   "cell_type": "markdown",
   "metadata": {},
   "source": [
    "Esto es equivalente a calcular el coeficiente de variación."
   ]
  },
  {
   "cell_type": "markdown",
   "metadata": {},
   "source": [
    "$$ \\text{C.V.}=\\dfrac{s}{\\bar{x}}\\cdot100=\\dfrac{9.42}{26.82}\\cdot100=35.1\\% $$"
   ]
  },
  {
   "cell_type": "code",
   "execution_count": 53,
   "metadata": {},
   "outputs": [
    {
     "data": {
      "text/plain": [
       "35.123042505592835"
      ]
     },
     "execution_count": 53,
     "metadata": {},
     "output_type": "execute_result"
    }
   ],
   "source": [
    "9.42/26.82*100"
   ]
  },
  {
   "cell_type": "markdown",
   "metadata": {},
   "source": [
    "La variación entre los datos es mucho mayor al $10\\%$ por lo que esta opción es incorrecta."
   ]
  },
  {
   "cell_type": "markdown",
   "metadata": {},
   "source": [
    "* **\"... la máxima ingesta semanal es 11.07 kcal.\"**"
   ]
  },
  {
   "cell_type": "markdown",
   "metadata": {},
   "source": [
    "| Clase | Intervalo de clase     | Marca de <br>clase, $m_i$ | Frecuencia<br>absoluta, $f_i$ |\n",
    "|:-----:|:----------------------:|:--------------------------:|:-----------------------------:|\n",
    "|   1   |     $[11.07,15.15)$    |            13.11           |               50              |\n",
    "|   2   |     $[15.15,19.23)$    |            17.19           |               40              |\n",
    "|   3   |     $[19.23,23.31)$    |            21.27           |               39              |\n",
    "|   4   |     $[23.31,27.39)$    |            25.35           |               42              |\n",
    "|   5   |     $[27.39,31.47)$    |            29.43           |               37              |\n",
    "|   6   |     $[31.47,35.55)$    |            33.51           |               50              |\n",
    "|   7   |     $[35.55,39.63)$    |            37.59           |               33              |\n",
    "|   8   |     $[39.63,43.71]$    |            41.67           |               38              |"
   ]
  },
  {
   "cell_type": "markdown",
   "metadata": {},
   "source": [
    "De la tabla original podemos ver que la mínima ingesta semanal es de 11.07 kcal (límite inferior de la clase 1) mientras que la máxima ingesta semanal es de 43.71 kcal (límite superior de la clase 8). Por lo tanto, esta opción es incorrecta."
   ]
  },
  {
   "cell_type": "markdown",
   "metadata": {},
   "source": [
    "A. \"... aproximadamente el $52\\%$ de la muestra consume menos de 27.39 kcal a la semana.\"\n",
    "\n",
    "B. \"..., en promedio, la ingesta semanal es de 27.82 kcal.\"\n",
    "\n",
    "C. \"... la variación en los datos recabados es menor al $10\\%$.\"\n",
    "\n",
    "D. \"... la máxima ingesta semanal es 11.07 kcal.\""
   ]
  },
  {
   "cell_type": "markdown",
   "metadata": {},
   "source": [
    "**Solución:** A."
   ]
  },
  {
   "cell_type": "markdown",
   "metadata": {},
   "source": [
    "## Situación 4: Reunión de negocios"
   ]
  },
  {
   "cell_type": "markdown",
   "metadata": {},
   "source": [
    "**Mi pareja trabaja como *Data Scientist* en PiData, una empresa donde realizan análisis de ventas para diferentes compañías. Hace un mes, la farmacéutica PharmaLab contrató a PiData, para analizar las ventas de sus medicamentos en Walmart y, con base en esto, lanzar una nueva presentación de paracetamol. El equipo de trabajo que se encargo de esto realizó las siguientes gráficas (están desordenadas):**"
   ]
  },
  {
   "cell_type": "markdown",
   "metadata": {},
   "source": [
    "**16. La gráfica de barras representa la venta de paracetamol durante el mes de mayo en las sucursales dentro de Coyoacán. Basándote en esta gráfica, calcula cuál es la venta promedio de paracetamol.**\n",
    "\n",
    "**(2 puntos)**"
   ]
  },
  {
   "cell_type": "markdown",
   "metadata": {},
   "source": [
    "A. 91.9\n",
    "\n",
    "B. 116.1\n",
    "\n",
    "C. 80.7\n",
    "\n",
    "D. 102.1"
   ]
  },
  {
   "cell_type": "markdown",
   "metadata": {},
   "source": [
    "<img src=\"barras.png\" align=\"middle\" width=\"700\">"
   ]
  },
  {
   "cell_type": "markdown",
   "metadata": {},
   "source": [
    "Simplemente sumamos la \"longitud\" de cada barra y lo dividimos entre el número de barras:"
   ]
  },
  {
   "cell_type": "code",
   "execution_count": 19,
   "metadata": {
    "scrolled": true
   },
   "outputs": [
    {
     "data": {
      "text/plain": [
       "102.11111111111111"
      ]
     },
     "execution_count": 19,
     "metadata": {},
     "output_type": "execute_result"
    }
   ],
   "source": [
    "(89+144+88+136+93+121+88+57+103)/9"
   ]
  },
  {
   "cell_type": "markdown",
   "metadata": {},
   "source": [
    "A. 91.9\n",
    "\n",
    "B. 116.1\n",
    "\n",
    "C. 80.7\n",
    "\n",
    "D. 102.1"
   ]
  },
  {
   "cell_type": "markdown",
   "metadata": {},
   "source": [
    "**Solución:** D."
   ]
  },
  {
   "cell_type": "markdown",
   "metadata": {},
   "source": [
    "**17. Dado que se identificaron algunas inconsistencias en las ventas de Taxqueña, realizaron una gráfica de ojiva de las ventas de esta sucursal durante un año. ¿Entre que meses hubo mayores ventas?**\n",
    "\n",
    "**(2 puntos)**"
   ]
  },
  {
   "cell_type": "markdown",
   "metadata": {},
   "source": [
    "A. Entre abril y mayo\n",
    "\n",
    "B. Entre junio y julio\n",
    "\n",
    "C. Entre enero y febrero\n",
    "\n",
    "D. Entre diciembre y enero"
   ]
  },
  {
   "cell_type": "markdown",
   "metadata": {},
   "source": [
    "<img src=\"ojiva.png\" align=\"middle\" width=\"700\">"
   ]
  },
  {
   "cell_type": "markdown",
   "metadata": {},
   "source": [
    "Donde la curva sube más es entre diciembre y enero. Entonces, aquí es donde hubo más cajas vendidas (aproximadamente 300)."
   ]
  },
  {
   "cell_type": "markdown",
   "metadata": {},
   "source": [
    "A. Entre abril y mayo\n",
    "\n",
    "B. Entre junio y julio\n",
    "\n",
    "C. Entre enero y febrero\n",
    "\n",
    "D. Entre diciembre y enero"
   ]
  },
  {
   "cell_type": "markdown",
   "metadata": {},
   "source": [
    "**Solución:** D."
   ]
  },
  {
   "cell_type": "markdown",
   "metadata": {},
   "source": [
    "**18. Para lanzar su nueva presentación de paracetamol, *PiData* revisó todas las presentaciones de paracetamol que hay en el mercado y realizó un histograma de precios. La farmacéutica decide que el precio de la nueva presentación será la marca de clase del intervalo más común. ¿Cuál será dicho precio?**\n",
    "\n",
    "**(2 puntos)**"
   ]
  },
  {
   "cell_type": "markdown",
   "metadata": {},
   "source": [
    "A. 65\n",
    "\n",
    "B. 130\n",
    "\n",
    "C. 365\n",
    "\n",
    "D. 730"
   ]
  },
  {
   "cell_type": "markdown",
   "metadata": {},
   "source": [
    "<img src=\"histograma.png\" align=\"middle\" width=\"700\">"
   ]
  },
  {
   "cell_type": "markdown",
   "metadata": {},
   "source": [
    "El \"más común\" sería el intervalo de precios donde hay más presentaciones. Este intervalo es el que se encuentre entre 300 y 430."
   ]
  },
  {
   "cell_type": "markdown",
   "metadata": {},
   "source": [
    "Para obtener la marca de clase usamos la fórmula"
   ]
  },
  {
   "cell_type": "markdown",
   "metadata": {},
   "source": [
    "$$ \\text{marca de clase}=\\,\\dfrac{\\text{limite superior}+\\text{limite inferior}}{2}=\\dfrac{430+300}{2}=365 $$"
   ]
  },
  {
   "cell_type": "markdown",
   "metadata": {},
   "source": [
    "A. 65\n",
    "\n",
    "B. 130\n",
    "\n",
    "C. 365\n",
    "\n",
    "D. 730"
   ]
  },
  {
   "cell_type": "markdown",
   "metadata": {},
   "source": [
    "**Solución:** C."
   ]
  },
  {
   "cell_type": "markdown",
   "metadata": {},
   "source": [
    "**19. Para finalizar el estudio de mercado se trata de buscar si existe una relación entre el peso unitario del paracetamol y su precio, para lo que se utiliza la gráfica de correlación. ¿Qué tipo de correlación se puede observar en esta gráfica?**\n",
    "\n",
    "**(2 puntos)**"
   ]
  },
  {
   "cell_type": "markdown",
   "metadata": {},
   "source": [
    "A. Cuadrática, muy fuerte y positiva\n",
    "\n",
    "B. Lineal, muy fuerte y negativa\n",
    "\n",
    "C. Lineal, débil y positiva\n",
    "\n",
    "D. Cuadrática, débil y negativa"
   ]
  },
  {
   "cell_type": "markdown",
   "metadata": {},
   "source": [
    "<img src=\"correlacion.png\" align=\"middle\" width=\"700\">"
   ]
  },
  {
   "cell_type": "markdown",
   "metadata": {},
   "source": [
    "Notemos que más o menos se puede trazar una línea entre los valores (lineal), la cual tendría una pendiente positiva (positiva) pero los valores están muy dispersos (débil)."
   ]
  },
  {
   "cell_type": "markdown",
   "metadata": {},
   "source": [
    "A. Cuadrática, muy fuerte y positiva\n",
    "\n",
    "B. Lineal, muy fuerte y negativa\n",
    "\n",
    "C. Lineal, débil y positiva\n",
    "\n",
    "D. Cuadrática, débil y negativa"
   ]
  },
  {
   "cell_type": "markdown",
   "metadata": {},
   "source": [
    "**Solución:** C."
   ]
  },
  {
   "cell_type": "markdown",
   "metadata": {},
   "source": [
    "| Problema | Respuesta | Puntaje | Problema | Respuesta | Puntaje |\n",
    "|----------|-----------|---------|----------|-----------|---------|\n",
    "| 1        | D         | 1       | 11       | D         | 1       |\n",
    "| 2        | D         | 1       | 12       | C         | 1       |\n",
    "| 3        | D         | 1       | 13       | C         | 1       |\n",
    "| 4        | D         | 2       | 14       | D         | 3       |\n",
    "| 5        | A         | 3       | 15       | A         | 3       |\n",
    "| 6        | A         | 1       | 16       | D         | 2       |\n",
    "| 7        | B         | 1       | 17       | D         | 2       |\n",
    "| 8        | C         | 1       | 18       | C         | 2       |\n",
    "| 9        | D         | 2       | 19       | C         | 2       |\n",
    "| 10       | C         | 2        | $ $      | $ $       | $ $     |"
   ]
  }
 ],
 "metadata": {
  "@webio": {
   "lastCommId": null,
   "lastKernelId": null
  },
  "kernelspec": {
   "display_name": "Julia 1.1.0",
   "language": "julia",
   "name": "julia-1.1"
  },
  "language_info": {
   "file_extension": ".jl",
   "mimetype": "application/julia",
   "name": "julia",
   "version": "1.1.0"
  }
 },
 "nbformat": 4,
 "nbformat_minor": 2
}
