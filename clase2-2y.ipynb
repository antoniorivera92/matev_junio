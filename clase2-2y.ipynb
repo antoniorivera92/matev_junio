{
 "cells": [
  {
   "cell_type": "markdown",
   "metadata": {},
   "source": [
    "# Pensamiento geométrico para visualizar y argumentar"
   ]
  },
  {
   "cell_type": "markdown",
   "metadata": {},
   "source": [
    "# Clase 2"
   ]
  },
  {
   "cell_type": "markdown",
   "metadata": {},
   "source": [
    "### Sectores circulares"
   ]
  },
  {
   "cell_type": "markdown",
   "metadata": {},
   "source": [
    "El área de un sector circular es\n",
    "\n",
    "$$ A= \\dfrac{\\theta R^2}{2} $$"
   ]
  },
  {
   "cell_type": "markdown",
   "metadata": {},
   "source": [
    "El área de un sector circular es\n",
    "\n",
    "$$ A= \\dfrac{t\\pi R^2}{360} $$"
   ]
  },
  {
   "cell_type": "markdown",
   "metadata": {},
   "source": [
    "**Nota importante:** Aquí el ángulo $\\theta$ se mide en radianes y el ángulo $t$ se mide en grados."
   ]
  },
  {
   "cell_type": "markdown",
   "metadata": {},
   "source": [
    "<img src=\"seg_circular1.png\" align=\"middle\" width=\"300\">"
   ]
  },
  {
   "cell_type": "markdown",
   "metadata": {},
   "source": [
    "El perímetro de un sector circular se mide como\n",
    "$$ P=R(\\theta+2) $$"
   ]
  },
  {
   "cell_type": "markdown",
   "metadata": {},
   "source": [
    "El perímetro de un sector circular se mide como\n",
    "$$ P=R\\left(\\dfrac{\\pi t}{180}+2\\right) $$"
   ]
  },
  {
   "cell_type": "markdown",
   "metadata": {},
   "source": [
    "**Nota importante:** Aquí el ángulo $\\theta$ se mide en radianes y el ángulo $t$ se mide en grados."
   ]
  },
  {
   "cell_type": "markdown",
   "metadata": {},
   "source": [
    "* ***Ejemplo:*** Calcular el área de un sector circular de radio 3 cm y ángulo de $30\\,{}^\\circ$."
   ]
  },
  {
   "cell_type": "markdown",
   "metadata": {},
   "source": [
    "* ***Ejemplo:*** Calcular el área y perímetro de un sector circular de radio 5 pulgadas (in) y ángulo de $\\dfrac{3}{4}\\pi\\ \\rm{rad}$."
   ]
  },
  {
   "cell_type": "markdown",
   "metadata": {},
   "source": [
    "* ***Ejemplo:*** Calcular el perímetro de un sector circular de radio 5 pies (ft) y ángulo de $\\dfrac{3}{4}\\pi\\ \\rm{rad}$."
   ]
  },
  {
   "cell_type": "markdown",
   "metadata": {},
   "source": [
    "* ***Ejemplo:*** Calcular el perímetro de un sector circular de radio 3 y ángulo de $30\\,{}^\\circ$."
   ]
  },
  {
   "cell_type": "markdown",
   "metadata": {},
   "source": [
    "* Datos:"
   ]
  },
  {
   "cell_type": "markdown",
   "metadata": {},
   "source": [
    "* Fórmula:"
   ]
  },
  {
   "cell_type": "markdown",
   "metadata": {},
   "source": [
    "* Sustitución:"
   ]
  },
  {
   "cell_type": "markdown",
   "metadata": {},
   "source": [
    "<img src=\"seg_circular1.png\" align=\"middle\" width=\"200\">"
   ]
  },
  {
   "cell_type": "markdown",
   "metadata": {},
   "source": [
    "## Triángulo"
   ]
  },
  {
   "cell_type": "markdown",
   "metadata": {},
   "source": [
    "<img src=\"triangulo.png\" align=\"middle\" width=\"300\">"
   ]
  },
  {
   "cell_type": "markdown",
   "metadata": {},
   "source": [
    "**¿Qué es un triángulo (también trigono)?**\n",
    "* Una figura geométrica que tiene 3 ángulos.\n",
    "* Una figura geométrica que tiene 3 vértices no colineales.\n",
    "* Un *polígono* (figura geométrica que tiene muchos lados) que tiene 3 lados (o también llamados catetos). "
   ]
  },
  {
   "cell_type": "markdown",
   "metadata": {},
   "source": [
    "**Importante:** La suma de los ángulos internos de cualquier triángulo es un ángulo llano:\n",
    "\n",
    "$$ A+B+C=180^\\circ=\\pi\\ \\rm{rad} $$"
   ]
  },
  {
   "cell_type": "markdown",
   "metadata": {},
   "source": [
    "**¿Qué es el cateto opuesto?**\n",
    "\n",
    "Imaginemos un cuarto que tiene forma de triángulo. Ponemos una linterna en el ángulo $A$. El *cateto opuesto* es la pared que se ilumina."
   ]
  },
  {
   "cell_type": "markdown",
   "metadata": {},
   "source": [
    "<img src=\"cateto_opuesto.png\" align=\"middle\" width=\"300\">"
   ]
  },
  {
   "cell_type": "markdown",
   "metadata": {},
   "source": [
    "Entonces, cuando escribimos un triángulo como en las dos figuras anteriores tenemos que:\n",
    "* \"$a$ es el cateto opuesto al ángulo $A$\"  ó  \"$A$ es el ángulo opuesto al cateto $a$\"\n",
    "* \"$b$ es el cateto opuesto al ángulo $B$\" ó \"$B$ es el ángulo opuesto al cateto $b$\"\n",
    "* \"$c$ es el cateto opuesto al ángulo $C$\" ó \"$C$ es el ángulo opuesto al cateto $c$\""
   ]
  },
  {
   "cell_type": "markdown",
   "metadata": {},
   "source": [
    "### Tipos de triángulos"
   ]
  },
  {
   "cell_type": "markdown",
   "metadata": {},
   "source": [
    "<img src=\"triangulo.png\" align=\"middle\" width=\"300\">"
   ]
  },
  {
   "cell_type": "markdown",
   "metadata": {},
   "source": [
    "i) **Equilátero:** Tres lados iguales ($a=b=c$) ó tres ángulos iguales ($A=B=C=60^\\circ=\\dfrac{\\pi}{3}\\ rad$)\n",
    "\n",
    "ii) **Isósceles:** Dos lados iguales (p.ej. $a=c$) ó dos ángulos iguales (p.ej. $A=C$)\n",
    "\n",
    "iii) **Escaleno:** Ningún lado igual ($a\\neq b\\neq c$) ó ningún ángulo igual ($A\\neq B\\neq C$)"
   ]
  },
  {
   "cell_type": "markdown",
   "metadata": {},
   "source": [
    "<img src=\"tipos_triang1.png\" align=\"middle\" width=\"700\">"
   ]
  },
  {
   "cell_type": "markdown",
   "metadata": {},
   "source": [
    "i) **Rectángulo:** Uno de sus ángulos es recto (vale $90^\\circ$ ó $\\dfrac{\\pi}{2}\\ \\rm{rad}$)\n",
    "\n",
    "ii) **Oblicuángulo:** Ninguno de sus ángulos es recto"
   ]
  },
  {
   "cell_type": "markdown",
   "metadata": {},
   "source": [
    "<img src=\"tipos_triang2.png\" align=\"middle\" width=\"500\">"
   ]
  },
  {
   "cell_type": "markdown",
   "metadata": {},
   "source": [
    "Noten que:\n",
    "* Un triángulo rectángulo puede ser un triángulo isósceles.\n",
    "* Un triángulo rectángulo puede ser un triángulo escaleno.\n",
    "* Un triángulo rectángulo **NO** puede ser un triángulo equilátero.\n",
    "* Un triángulo oblicuángulo puede ser un triángulo isósceles.\n",
    "* Un triángulo oblicuángulo puede ser un triángulo escaleno.\n",
    "* Un triángulo oblicuángulo puede ser un triángulo equilátero."
   ]
  },
  {
   "cell_type": "markdown",
   "metadata": {},
   "source": [
    "### Teorema de Tales y triángulos"
   ]
  },
  {
   "cell_type": "markdown",
   "metadata": {},
   "source": [
    "<img src=\"tales.png\" align=\"middle\" width=\"300\">"
   ]
  },
  {
   "cell_type": "markdown",
   "metadata": {},
   "source": [
    "*Si tenemos tres rectas paralelas y estas cortan a dos rectas que no son paralelas se producen segmentos proporcionales:*\n",
    "\n",
    "$$ \\dfrac{\\overline{AB}}{\\overline{AC}}=\\dfrac{\\overline{DE}}{\\overline{DF}} $$"
   ]
  },
  {
   "cell_type": "markdown",
   "metadata": {},
   "source": [
    "También se cumple que\n",
    "\n",
    "$$ \\dfrac{\\overline{AB}}{\\overline{BC}}=\\dfrac{\\overline{DE}}{\\overline{EF}} $$"
   ]
  },
  {
   "cell_type": "markdown",
   "metadata": {},
   "source": [
    "### Semejanza"
   ]
  },
  {
   "cell_type": "markdown",
   "metadata": {},
   "source": [
    "Dos cosas semejantes si son de la misma forma aunque tengan distinto tamaño."
   ]
  },
  {
   "cell_type": "markdown",
   "metadata": {},
   "source": [
    "<img src=\"minime.jpg\" align=\"middle\" width=\"300\">"
   ]
  },
  {
   "cell_type": "markdown",
   "metadata": {},
   "source": [
    "### Triángulos semejantes"
   ]
  },
  {
   "cell_type": "markdown",
   "metadata": {},
   "source": [
    "Dos triángulos son semejantes si tienen la misma forma pero distinto tamaño. Dicho de otra forma, dos triángulos son semejantes si los triángulos tienen los mismo ángulos y los lados son proporcionales. La manera en que nos aseguramos que sean semejantes es:\n",
    "* si tienen todos sus ángulos iguales entre sí\n",
    "* si tienen dos ángulos iguales entre sí\n",
    "* si tienen un ángulo igual entre sí y sus dos de sus lados son proporcionales con los lados correspondientes del otro triángulo\n",
    "* si todos sus lados son proporcionales entre sí"
   ]
  },
  {
   "cell_type": "markdown",
   "metadata": {},
   "source": [
    "<img src=\"triangulo.png\" align=\"middle\" width=\"200\">"
   ]
  },
  {
   "cell_type": "markdown",
   "metadata": {},
   "source": [
    "<img src=\"triangulo.png\" align=\"middle\" width=\"100\">"
   ]
  },
  {
   "cell_type": "markdown",
   "metadata": {},
   "source": [
    "### Ejemplos de semejanza de triángulos"
   ]
  },
  {
   "cell_type": "markdown",
   "metadata": {},
   "source": [
    "* ***Ejemplo:***"
   ]
  },
  {
   "cell_type": "markdown",
   "metadata": {},
   "source": [
    "<img src=\"triangulo.png\" align=\"middle\" width=\"300\">"
   ]
  },
  {
   "cell_type": "markdown",
   "metadata": {},
   "source": [
    "Pinto una línea paralela y genero dos triángulos:\n",
    "* $\\Delta ABC$\n",
    "* $\\Delta DBE$"
   ]
  },
  {
   "cell_type": "markdown",
   "metadata": {},
   "source": [
    "<img src=\"triang_sem1.png\" align=\"middle\" width=\"400\">"
   ]
  },
  {
   "cell_type": "markdown",
   "metadata": {},
   "source": [
    "Los separo:"
   ]
  },
  {
   "cell_type": "markdown",
   "metadata": {},
   "source": [
    "<img src=\"triang_sem2.png\" align=\"middle\" width=\"550\">"
   ]
  },
  {
   "cell_type": "markdown",
   "metadata": {},
   "source": [
    "**¿Qué podemos decir?**"
   ]
  },
  {
   "cell_type": "markdown",
   "metadata": {},
   "source": [
    "*Los catetos opuestos a los ángulos iguales son proporcionales.*"
   ]
  },
  {
   "cell_type": "markdown",
   "metadata": {},
   "source": [
    "$$ \\dfrac{\\overline{AB}}{\\overline{BD}}=\\dfrac{\\overline{BC}}{\\overline{BE}}=\\dfrac{\\overline{AC}}{\\overline{DE}} $$"
   ]
  },
  {
   "cell_type": "markdown",
   "metadata": {},
   "source": [
    "**¿Qué podemos decir también?**"
   ]
  },
  {
   "cell_type": "markdown",
   "metadata": {},
   "source": [
    "$$ \\dfrac{\\overline{AC}}{\\overline{AB}}=\\dfrac{\\overline{DE}}{\\overline{BD}} $$"
   ]
  },
  {
   "cell_type": "markdown",
   "metadata": {},
   "source": [
    "***Ejemplo:*** Pensemos que los triángulos semejantes son:"
   ]
  },
  {
   "cell_type": "markdown",
   "metadata": {},
   "source": [
    "<img src=\"semejanza1.png\" align=\"middle\" width=\"500\">"
   ]
  },
  {
   "cell_type": "markdown",
   "metadata": {},
   "source": [
    "Entonces cuánto vale $x$ y $y$."
   ]
  },
  {
   "cell_type": "markdown",
   "metadata": {},
   "source": [
    "Primero encontramos $x$:"
   ]
  },
  {
   "cell_type": "markdown",
   "metadata": {},
   "source": [
    "$$ \\dfrac{x+1}{4}=\\dfrac{12}{6} $$"
   ]
  },
  {
   "cell_type": "markdown",
   "metadata": {},
   "source": [
    "$$ \\dfrac{x+1}{4}=2 $$"
   ]
  },
  {
   "cell_type": "markdown",
   "metadata": {},
   "source": [
    "$$ x+1=2\\cdot4=8 $$"
   ]
  },
  {
   "cell_type": "markdown",
   "metadata": {},
   "source": [
    "$$ x=8-1=7 $$"
   ]
  },
  {
   "cell_type": "markdown",
   "metadata": {},
   "source": [
    "Ahora encontramos $y$:"
   ]
  },
  {
   "cell_type": "markdown",
   "metadata": {},
   "source": [
    "$$ \\dfrac{8}{y-1}=\\dfrac{12}{6}  $$"
   ]
  },
  {
   "cell_type": "markdown",
   "metadata": {},
   "source": [
    "$$ \\dfrac{8}{y-1}=2  $$"
   ]
  },
  {
   "cell_type": "markdown",
   "metadata": {},
   "source": [
    "$$ 8=2(y-1) $$"
   ]
  },
  {
   "cell_type": "markdown",
   "metadata": {},
   "source": [
    "$$ \\dfrac{8}{2}=y-1 $$"
   ]
  },
  {
   "cell_type": "markdown",
   "metadata": {},
   "source": [
    "$$ 4=y-1 $$"
   ]
  },
  {
   "cell_type": "markdown",
   "metadata": {},
   "source": [
    "$$ 5=y $$"
   ]
  },
  {
   "cell_type": "markdown",
   "metadata": {},
   "source": [
    "$$ \\dfrac{8}{y-1}=\\dfrac{12}{6}  $$"
   ]
  },
  {
   "cell_type": "markdown",
   "metadata": {},
   "source": [
    "$$ \\dfrac{8}{y-1}=2  $$"
   ]
  },
  {
   "cell_type": "markdown",
   "metadata": {},
   "source": [
    "$$ 8=2(y-1) $$"
   ]
  },
  {
   "cell_type": "markdown",
   "metadata": {},
   "source": [
    "$$ 8=2y-2 $$"
   ]
  },
  {
   "cell_type": "markdown",
   "metadata": {},
   "source": [
    "$$ 8+2=2y $$"
   ]
  },
  {
   "cell_type": "markdown",
   "metadata": {},
   "source": [
    "$$ 10=2y $$"
   ]
  },
  {
   "cell_type": "markdown",
   "metadata": {},
   "source": [
    "$$ \\dfrac{10}{2}=y $$"
   ]
  },
  {
   "cell_type": "markdown",
   "metadata": {},
   "source": [
    "$$ y=5 $$"
   ]
  },
  {
   "cell_type": "markdown",
   "metadata": {},
   "source": [
    "***Ejemplo:*** El gato de Leticia subió a la parte superior de un poste. Leticia puede ver a su gato reflejado en un charco, que se encuentra a $1.6\\ \\rm{m}$ de ella. Si la altura de sus ojos es de $1.44\\ \\rm{m}$ y el poste se encuentra a $5.6\\ \\rm{m}$ de ella, ¿qué tan alto es el poste?"
   ]
  },
  {
   "cell_type": "markdown",
   "metadata": {},
   "source": [
    "$$\\dfrac{h_g}{h_\\ell}=\\dfrac{d_g}{d_\\ell}$$"
   ]
  },
  {
   "cell_type": "markdown",
   "metadata": {},
   "source": [
    "$$h_g=\\dfrac{d_g}{d_\\ell}\\cdot h_\\ell$$"
   ]
  },
  {
   "cell_type": "markdown",
   "metadata": {},
   "source": [
    "$$h_g=\\dfrac{4}{1.6}\\cdot 1.44=3.6$$"
   ]
  },
  {
   "cell_type": "code",
   "execution_count": 1,
   "metadata": {},
   "outputs": [
    {
     "data": {
      "text/plain": [
       "3.5999999999999996"
      ]
     },
     "execution_count": 1,
     "metadata": {},
     "output_type": "execute_result"
    }
   ],
   "source": [
    "4*1.44/1.6"
   ]
  },
  {
   "cell_type": "markdown",
   "metadata": {},
   "source": [
    "* ***Ejemplo:***"
   ]
  },
  {
   "cell_type": "markdown",
   "metadata": {},
   "source": [
    "<img src=\"triang_sem3.png\" align=\"middle\" width=\"450\">"
   ]
  },
  {
   "cell_type": "markdown",
   "metadata": {},
   "source": [
    "Los separo:"
   ]
  },
  {
   "cell_type": "markdown",
   "metadata": {},
   "source": [
    "<img src=\"triang_sem4.png\" align=\"middle\" width=\"500\">"
   ]
  },
  {
   "cell_type": "markdown",
   "metadata": {},
   "source": [
    "## Triángulos rectángulos"
   ]
  },
  {
   "cell_type": "markdown",
   "metadata": {},
   "source": [
    "<img src=\"triangulo_rect.png\" align=\"middle\" width=\"200\">"
   ]
  },
  {
   "cell_type": "markdown",
   "metadata": {},
   "source": [
    "Triángulo que tiene un ángulo de $90^\\circ$, y el cateto opuesto a este ángulo se conoce como *hipotenusa*. En un triángulo rectángulo, la hipotenusa siempre es el lado más largo."
   ]
  },
  {
   "cell_type": "markdown",
   "metadata": {},
   "source": [
    "### Teorema de Pitágoras"
   ]
  },
  {
   "cell_type": "markdown",
   "metadata": {},
   "source": [
    "*La suma de los catetos al cuadrado es igual a la hipotenusa al cuadrado.*\n",
    "$$ a^2+b^2=c^2 $$"
   ]
  },
  {
   "cell_type": "markdown",
   "metadata": {},
   "source": [
    "## Funciones trigonométricas"
   ]
  },
  {
   "cell_type": "markdown",
   "metadata": {},
   "source": [
    "Las *funciones trigonométricas* se definen (sólo para triángulos rectángulos) en términos de los catetos y la hipotenusa.\n",
    "\n",
    "$$ \\sin x=\\dfrac{\\text{c.o.}}{\\text{hip.}} $$\n",
    "\n",
    "$$ \\cos x=\\dfrac{\\text{c.a.}}{\\text{hip.}} $$\n",
    "\n",
    "$$ \\tan x=\\dfrac{\\text{c.o.}}{\\text{c.a.}} $$\n",
    "\n",
    "* c.o.: cateto opuesto\n",
    "* c.a.: cateto adyacente\n",
    "* hip.: hipotenusa"
   ]
  },
  {
   "cell_type": "markdown",
   "metadata": {},
   "source": [
    "El *cateto adyacente* es el cateto que se encuentra de lado al ángulo en el que nos fijemos."
   ]
  },
  {
   "cell_type": "markdown",
   "metadata": {},
   "source": [
    "<img src=\"triangulo_rect.png\" align=\"middle\" width=\"200\">"
   ]
  },
  {
   "cell_type": "markdown",
   "metadata": {},
   "source": [
    "* ***Ejemplo:*** Obtener las funciones trigonométricas para un triángulo general"
   ]
  },
  {
   "cell_type": "markdown",
   "metadata": {},
   "source": [
    "Para el ángulo $A$\n",
    "* c.o.: $a$\n",
    "* c.a.: $b$\n",
    "* hip.: $c$\n",
    "\n",
    "Para el ángulo $B$\n",
    "* c.o.: $b$\n",
    "* c.a.: $a$\n",
    "* hip.: $c$\n",
    "\n",
    "Entonces:"
   ]
  },
  {
   "cell_type": "markdown",
   "metadata": {},
   "source": [
    "$$ \\sin A=\\dfrac{a}{c}\\qquad\\qquad\\sin B=\\dfrac{b}{c} $$\n",
    "\n",
    "$$ \\cos A=\\dfrac{b}{c}\\qquad\\qquad \\cos B=\\dfrac{a}{c}  $$\n",
    "\n",
    "$$ \\tan A=\\dfrac{a}{b}\\qquad\\qquad \\tan B=\\dfrac{b}{a} $$"
   ]
  },
  {
   "cell_type": "markdown",
   "metadata": {},
   "source": [
    "**¿Cómo \"resolver\" un triángulo rectángulo?**"
   ]
  },
  {
   "cell_type": "markdown",
   "metadata": {},
   "source": [
    "**Caso #0:** Si me dan dos lados, y me piden encontrar otro lado:\n",
    "1. Necesitamos tener a la mano los datos que nos dan y el dato que piden calcular.\n",
    "2. Necesitamos usar el teorema de Pitágoras.\n",
    "3. Despejamos el dato a calcular en la fórmula.\n",
    "4. Sustituir para terminar el cálculo."
   ]
  },
  {
   "cell_type": "markdown",
   "metadata": {},
   "source": [
    "* ***Ejemplo:*** Tenemos un TR que tiene catetos $3\\ \\rm{cm}$ y $4\\ \\rm{cm}$. ¿Cuál es la hipotenusa?"
   ]
  },
  {
   "cell_type": "markdown",
   "metadata": {},
   "source": [
    "* Datos:\n",
    "    * $b=3$\n",
    "    * $a=4$\n",
    "    * $c=?$"
   ]
  },
  {
   "cell_type": "markdown",
   "metadata": {},
   "source": [
    "* Fórmula:"
   ]
  },
  {
   "cell_type": "markdown",
   "metadata": {},
   "source": [
    "$$ a^2+b^2=c^2 $$"
   ]
  },
  {
   "cell_type": "markdown",
   "metadata": {},
   "source": [
    "$$ \\sqrt{a^2+b^2}=c $$"
   ]
  },
  {
   "cell_type": "markdown",
   "metadata": {},
   "source": [
    "$$ c=\\sqrt{a^2+b^2} $$"
   ]
  },
  {
   "cell_type": "markdown",
   "metadata": {},
   "source": [
    "* Sustitución:"
   ]
  },
  {
   "cell_type": "markdown",
   "metadata": {},
   "source": [
    "$$ c=\\sqrt{4^2+3^2}=5 $$"
   ]
  },
  {
   "cell_type": "markdown",
   "metadata": {},
   "source": [
    "* ***Ejemplo:*** Tenemos un TR que tiene un cateto de $5\\ \\rm{in}$ y su hipotenusa vale $13\\ \\rm{in}$. ¿Cuál es el valor del otro cateto?"
   ]
  },
  {
   "cell_type": "markdown",
   "metadata": {},
   "source": [
    "<img src=\"triangulo_rect.png\" align=\"middle\" width=\"200\">"
   ]
  },
  {
   "cell_type": "markdown",
   "metadata": {},
   "source": [
    "* Datos:\n",
    "    * $a=5$\n",
    "    * $b=?$\n",
    "    * $c=13$"
   ]
  },
  {
   "cell_type": "markdown",
   "metadata": {},
   "source": [
    "* Fórmula:"
   ]
  },
  {
   "cell_type": "markdown",
   "metadata": {},
   "source": [
    "$$ a^2+b^2=c^2 $$"
   ]
  },
  {
   "cell_type": "markdown",
   "metadata": {},
   "source": [
    "$$ b^2=c^2-a^2 $$"
   ]
  },
  {
   "cell_type": "markdown",
   "metadata": {},
   "source": [
    "$$ b=\\sqrt{c^2-a^2} $$"
   ]
  },
  {
   "cell_type": "markdown",
   "metadata": {},
   "source": [
    "* Sustitución:"
   ]
  },
  {
   "cell_type": "markdown",
   "metadata": {},
   "source": [
    "$$ b=\\sqrt{13^2-5^2}=\\sqrt{144}=12 $$"
   ]
  },
  {
   "cell_type": "markdown",
   "metadata": {},
   "source": [
    "**Caso #1:** Si me dan un lado y un ángulo, y me piden encontrar otro lado:\n",
    "1. Necesitamos tener a la mano los datos que nos dan y el dato que piden calcular.\n",
    "2. Necesitamos identificar cuál de las funciones trigonométricas incluyen todos estos datos.\n",
    "3. Despejamos el dato a calcular en la fórmula.\n",
    "4. Sustituir para terminar el cálculo."
   ]
  },
  {
   "cell_type": "markdown",
   "metadata": {},
   "source": [
    "* ***Ejemplo:*** Tenemos un TR que tiene su cateto opuesto de $5\\ \\rm{cm}$ a un ángulo de $35^\\circ$. ¿Cuál es la hipotenusa?"
   ]
  },
  {
   "cell_type": "markdown",
   "metadata": {},
   "source": [
    "<img src=\"triangulo_rect.png\" align=\"middle\" width=\"200\">"
   ]
  },
  {
   "cell_type": "code",
   "execution_count": 2,
   "metadata": {},
   "outputs": [
    {
     "data": {
      "text/plain": [
       "0.573576436351046"
      ]
     },
     "execution_count": 2,
     "metadata": {},
     "output_type": "execute_result"
    }
   ],
   "source": [
    "sind(35)"
   ]
  },
  {
   "cell_type": "markdown",
   "metadata": {},
   "source": [
    "* Datos:\n",
    "    * $A=35^\\circ$\n",
    "    * $a=5$\n",
    "    * $c=?$"
   ]
  },
  {
   "cell_type": "markdown",
   "metadata": {},
   "source": [
    "* Fórmula:"
   ]
  },
  {
   "cell_type": "markdown",
   "metadata": {},
   "source": [
    "$$ \\sin A=\\dfrac{a}{c} $$"
   ]
  },
  {
   "cell_type": "markdown",
   "metadata": {},
   "source": [
    "$$ c\\,\\sin A=a $$"
   ]
  },
  {
   "cell_type": "markdown",
   "metadata": {},
   "source": [
    "$$ c=\\dfrac{a}{\\sin A} $$"
   ]
  },
  {
   "cell_type": "markdown",
   "metadata": {},
   "source": [
    "* Sustitución:"
   ]
  },
  {
   "cell_type": "markdown",
   "metadata": {},
   "source": [
    "$$ c=\\dfrac{5}{\\sin 35^\\circ}\\approx8.7172 $$"
   ]
  },
  {
   "cell_type": "code",
   "execution_count": 3,
   "metadata": {},
   "outputs": [
    {
     "data": {
      "text/plain": [
       "8.71723397810549"
      ]
     },
     "execution_count": 3,
     "metadata": {},
     "output_type": "execute_result"
    }
   ],
   "source": [
    "5/sind(35)"
   ]
  },
  {
   "cell_type": "markdown",
   "metadata": {},
   "source": [
    "* ***Ejemplo:*** Tenemos un TR que tiene su hipotenusa de $7\\ \\rm{cm}$ y un ángulo de $43^\\circ$."
   ]
  },
  {
   "cell_type": "markdown",
   "metadata": {},
   "source": [
    "a) ¿Cuál es el cateto adyacente a ese ángulo?"
   ]
  },
  {
   "cell_type": "markdown",
   "metadata": {},
   "source": [
    "* Datos:\n",
    "    * $B=43^\\circ$\n",
    "    * $c=7$\n",
    "    * $a=?$"
   ]
  },
  {
   "cell_type": "markdown",
   "metadata": {},
   "source": [
    "* Fórmula:"
   ]
  },
  {
   "cell_type": "markdown",
   "metadata": {},
   "source": [
    "$$ \\cos B=\\dfrac{a}{c} $$"
   ]
  },
  {
   "cell_type": "markdown",
   "metadata": {},
   "source": [
    "$$ c\\,\\cos B=a $$"
   ]
  },
  {
   "cell_type": "markdown",
   "metadata": {},
   "source": [
    "$$ a=c\\,\\cos B $$"
   ]
  },
  {
   "cell_type": "markdown",
   "metadata": {},
   "source": [
    "* Sustitución:"
   ]
  },
  {
   "cell_type": "markdown",
   "metadata": {},
   "source": [
    "$$ a=7\\,\\cos 43^\\circ\\approx5.12 $$"
   ]
  },
  {
   "cell_type": "code",
   "execution_count": 4,
   "metadata": {},
   "outputs": [
    {
     "data": {
      "text/plain": [
       "5.119475911334193"
      ]
     },
     "execution_count": 4,
     "metadata": {},
     "output_type": "execute_result"
    }
   ],
   "source": [
    "7*cosd(43)"
   ]
  },
  {
   "cell_type": "markdown",
   "metadata": {},
   "source": [
    "b) ¿Cuál es el cateto opuesto?"
   ]
  },
  {
   "cell_type": "markdown",
   "metadata": {},
   "source": [
    "* Datos:\n",
    "    * $B=43^\\circ$\n",
    "    * $c=7$\n",
    "    * $a=5.12$\n",
    "    * $b=?$"
   ]
  },
  {
   "cell_type": "markdown",
   "metadata": {},
   "source": [
    "* Fórmula:"
   ]
  },
  {
   "cell_type": "markdown",
   "metadata": {},
   "source": [
    "1ra manera:"
   ]
  },
  {
   "cell_type": "markdown",
   "metadata": {},
   "source": [
    "$$ \\sin B=\\dfrac{b}{c} $$"
   ]
  },
  {
   "cell_type": "markdown",
   "metadata": {},
   "source": [
    "$$ b=c\\,\\sin B $$"
   ]
  },
  {
   "cell_type": "markdown",
   "metadata": {},
   "source": [
    "2da manera:"
   ]
  },
  {
   "cell_type": "markdown",
   "metadata": {},
   "source": [
    "$$ \\tan B =\\dfrac{b}{a} $$"
   ]
  },
  {
   "cell_type": "markdown",
   "metadata": {},
   "source": [
    "$$ b=a\\tan B $$"
   ]
  },
  {
   "cell_type": "markdown",
   "metadata": {},
   "source": [
    "3ra manera:"
   ]
  },
  {
   "cell_type": "markdown",
   "metadata": {},
   "source": [
    "$$ a^2+b^2=c^2 $$"
   ]
  },
  {
   "cell_type": "markdown",
   "metadata": {},
   "source": [
    "$$ b=\\sqrt{c^2-a^2} $$"
   ]
  },
  {
   "cell_type": "markdown",
   "metadata": {},
   "source": [
    "* Sustitución:"
   ]
  },
  {
   "cell_type": "markdown",
   "metadata": {},
   "source": [
    "$$ b=7\\,\\sin 43^\\circ\\approx4.78 $$"
   ]
  },
  {
   "cell_type": "markdown",
   "metadata": {},
   "source": [
    "$$ b=5.12\\,\\tan 43^\\circ\\approx4.78 $$"
   ]
  },
  {
   "cell_type": "markdown",
   "metadata": {},
   "source": [
    "$$ b=\\sqrt{7^2-5.12^2}\\approx4.77 $$"
   ]
  },
  {
   "cell_type": "code",
   "execution_count": 5,
   "metadata": {},
   "outputs": [
    {
     "data": {
      "text/plain": [
       "4.773426442294885"
      ]
     },
     "execution_count": 5,
     "metadata": {},
     "output_type": "execute_result"
    }
   ],
   "source": [
    "√(7^2-5.12^2)"
   ]
  },
  {
   "cell_type": "markdown",
   "metadata": {},
   "source": [
    "* Datos:\n",
    "    * $B=43^\\circ$\n",
    "    * $c=7$\n",
    "    * $a=5.12$\n",
    "    * $b=4.78$\n",
    "    * $C=90^\\circ$\n",
    "    * $A=47^\\circ$"
   ]
  },
  {
   "cell_type": "markdown",
   "metadata": {},
   "source": [
    "# Tarea moral"
   ]
  },
  {
   "cell_type": "markdown",
   "metadata": {},
   "source": [
    "<img src=\"triangulo_rect.png\" align=\"middle\" width=\"250\">"
   ]
  },
  {
   "cell_type": "markdown",
   "metadata": {},
   "source": [
    "* ***Ejemplo:*** Tenemos un TR que tiene su cateto opuesto de $3\\ \\rm{cm}$ a un ángulo de $70^\\circ$. ¿Cuál es el otro cateto y la hipotenusa?"
   ]
  },
  {
   "cell_type": "markdown",
   "metadata": {},
   "source": [
    "* Datos:"
   ]
  },
  {
   "cell_type": "markdown",
   "metadata": {},
   "source": [
    "* Fórmula:"
   ]
  },
  {
   "cell_type": "markdown",
   "metadata": {},
   "source": [
    "* Sustitución:"
   ]
  },
  {
   "cell_type": "markdown",
   "metadata": {},
   "source": [
    "**Caso #2:** Si me dan dos lados y me piden un ángulo\n",
    "1. Necesitamos tener a la mano los datos que nos dan y el dato que piden calcular.\n",
    "2. Necesitamos identificar cuál de las funciones trigonométricas incluyen todos estos datos.\n",
    "3. Despejamos el dato a calcular en la fórmula usando las funciones trigonométicas inversas.\n",
    "4. Sustituir para terminar el cálculo."
   ]
  },
  {
   "cell_type": "markdown",
   "metadata": {},
   "source": [
    "* ***Ejemplo:*** Tenemos un TR que tiene catetos con valores de $4$ y $5\\ \\rm{cm}$. ¿Cuáles son los ángulos del triángulo?"
   ]
  },
  {
   "cell_type": "markdown",
   "metadata": {},
   "source": [
    "<img src=\"triangulo_rect.png\" align=\"middle\" width=\"250\">"
   ]
  },
  {
   "cell_type": "markdown",
   "metadata": {},
   "source": [
    "* Datos:\n",
    "    * $a=5$\n",
    "    * $b=4$\n",
    "    * $C=90^\\circ$\n",
    "    * $A=?$"
   ]
  },
  {
   "cell_type": "markdown",
   "metadata": {},
   "source": [
    "* Fórmula:"
   ]
  },
  {
   "cell_type": "markdown",
   "metadata": {},
   "source": [
    "$$ \\tan A=\\dfrac{a}{b} $$"
   ]
  },
  {
   "cell_type": "markdown",
   "metadata": {},
   "source": [
    "$$ A=\\tan^{-1}\\left(\\dfrac{a}{b}\\right) $$"
   ]
  },
  {
   "cell_type": "markdown",
   "metadata": {},
   "source": [
    "* Sustitución:"
   ]
  },
  {
   "cell_type": "markdown",
   "metadata": {},
   "source": [
    "$$ A=\\tan^{-1}\\left(\\dfrac{5}{4}\\right)\\approx51.34^\\circ $$"
   ]
  },
  {
   "cell_type": "markdown",
   "metadata": {},
   "source": [
    "$$ B=38.66^\\circ $$"
   ]
  },
  {
   "cell_type": "markdown",
   "metadata": {},
   "source": [
    "# Tarea moral"
   ]
  },
  {
   "cell_type": "markdown",
   "metadata": {},
   "source": [
    "* ***Ejemplo:*** Tenemos un TR que tiene un cateto $6$ e hipotenusa $6\\sqrt{2}\\ \\rm{cm}$. ¿Cuáles son los ángulos del triángulo?"
   ]
  },
  {
   "cell_type": "markdown",
   "metadata": {},
   "source": [
    "* Datos:"
   ]
  },
  {
   "cell_type": "markdown",
   "metadata": {},
   "source": [
    "* Fórmula:"
   ]
  },
  {
   "cell_type": "markdown",
   "metadata": {},
   "source": [
    "* Sustitución:"
   ]
  },
  {
   "cell_type": "markdown",
   "metadata": {},
   "source": [
    "* ***Ejemplo:*** Tenemos un TR que tienen catetos con valores de $5$ y $12\\ \\rm{cm}$. ¿Cuáles son los ángulos del triángulo?"
   ]
  },
  {
   "cell_type": "markdown",
   "metadata": {},
   "source": [
    "* Datos:"
   ]
  },
  {
   "cell_type": "markdown",
   "metadata": {},
   "source": [
    "* Fórmula:"
   ]
  },
  {
   "cell_type": "markdown",
   "metadata": {},
   "source": [
    "* Sustitución:"
   ]
  },
  {
   "cell_type": "markdown",
   "metadata": {},
   "source": [
    "**Caso #3:** Es un problema donde sólo nos dan un dato explícitamente, y otro dato no explícitamente."
   ]
  },
  {
   "cell_type": "markdown",
   "metadata": {},
   "source": [
    "* ***Ejemplo:*** Una persona ve la cima de una montaña cuando le apunta con un telescopio que forma $30^\\circ$ con el piso. Se aleja $2\\ \\rm{km}$ y ahora apunta el telescopio de tal manera que mantenga un ángulo de $25^\\circ$ con el piso. Si la altura del telescopio respecto del piso es de $0.5\\ \\rm{m}$, ¿podemos saber la altura de la montaña?"
   ]
  },
  {
   "cell_type": "markdown",
   "metadata": {},
   "source": [
    "<img src=\"montana.png\" align=\"middle\" width=\"900\">"
   ]
  },
  {
   "cell_type": "markdown",
   "metadata": {},
   "source": [
    "### La altura de cualquier triángulo"
   ]
  },
  {
   "cell_type": "markdown",
   "metadata": {},
   "source": [
    "<img src=\"triangulo.png\" align=\"middle\" width=\"300\">"
   ]
  },
  {
   "cell_type": "markdown",
   "metadata": {},
   "source": [
    "La altura de un triángulo se mide con una recta perpendicular a un lado de dicho triángulo."
   ]
  },
  {
   "cell_type": "markdown",
   "metadata": {},
   "source": [
    "### El área altura de cualquier triángulo"
   ]
  },
  {
   "cell_type": "markdown",
   "metadata": {},
   "source": [
    "<img src=\"triangulo.png\" align=\"middle\" width=\"300\">"
   ]
  },
  {
   "cell_type": "markdown",
   "metadata": {},
   "source": [
    "*\"El área de cualquier triángulo se puede escribir como la mitad del producto de dos catetos y el seno del ángulo entre estos.\"*"
   ]
  },
  {
   "cell_type": "markdown",
   "metadata": {},
   "source": [
    "$$\\text{Área}=\\dfrac{ab\\sin C}{2}=\\dfrac{bc\\sin A}{2}=\\dfrac{ac\\sin B}{2}$$"
   ]
  },
  {
   "cell_type": "markdown",
   "metadata": {},
   "source": [
    "### El área altura de cualquier triángulo rectángulo"
   ]
  },
  {
   "cell_type": "markdown",
   "metadata": {},
   "source": [
    "$$ \\text{Área}=\\dfrac{b\\cdot h\\sin 90^\\circ}{2}=\\dfrac{b\\cdot h}{2} $$"
   ]
  }
 ],
 "metadata": {
  "kernelspec": {
   "display_name": "Julia 1.1.0",
   "language": "julia",
   "name": "julia-1.1"
  },
  "language_info": {
   "file_extension": ".jl",
   "mimetype": "application/julia",
   "name": "julia",
   "version": "1.1.0"
  }
 },
 "nbformat": 4,
 "nbformat_minor": 4
}
