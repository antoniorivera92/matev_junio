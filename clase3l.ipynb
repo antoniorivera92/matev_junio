{
 "cells": [
  {
   "cell_type": "markdown",
   "metadata": {},
   "source": [
    "# Geometría analítica"
   ]
  },
  {
   "cell_type": "markdown",
   "metadata": {},
   "source": [
    "# Clase 3"
   ]
  },
  {
   "cell_type": "markdown",
   "metadata": {},
   "source": [
    "### ¿Cómo obtener la ecuación de la recta conociendo dos puntos?"
   ]
  },
  {
   "cell_type": "markdown",
   "metadata": {},
   "source": [
    "1. Encontramos la pendiente\n",
    "2. Despejamos $b$ de la ecuación de la recta\n",
    "3. Sustituimos la pendiente que encontramos y uno de los puntos que conocemos (no importa cuál de los dos) en la ecuación despejada: la abcisa en $x$ y la ordenada en $y$. Al calcular esto, se encuentra $b$."
   ]
  },
  {
   "cell_type": "markdown",
   "metadata": {},
   "source": [
    "* ***Ejemplo:*** Encuentra la ecuación de la recta que pasa por los puntos $A(1,6)$ y $B(5,-2)$"
   ]
  },
  {
   "cell_type": "markdown",
   "metadata": {},
   "source": [
    "$$ m=\\dfrac{y_1-y_2}{x_1-x_2}=\\dfrac{6+2}{1-5}=\\dfrac{8}{-4}=-2 $$"
   ]
  },
  {
   "cell_type": "markdown",
   "metadata": {},
   "source": [
    "La ecuación de una recta es"
   ]
  },
  {
   "cell_type": "markdown",
   "metadata": {},
   "source": [
    "$$ y=mx+b $$"
   ]
  },
  {
   "cell_type": "markdown",
   "metadata": {},
   "source": [
    "Despejamos $b$:"
   ]
  },
  {
   "cell_type": "markdown",
   "metadata": {},
   "source": [
    "$$ b=y-mx $$"
   ]
  },
  {
   "cell_type": "markdown",
   "metadata": {},
   "source": [
    "Escogemos el punto $A(1,6)$"
   ]
  },
  {
   "cell_type": "markdown",
   "metadata": {},
   "source": [
    "$$ b=(6)-(-2)(1)=8 $$"
   ]
  },
  {
   "cell_type": "markdown",
   "metadata": {},
   "source": [
    "Escogemos el punto $B(5,-2)$"
   ]
  },
  {
   "cell_type": "markdown",
   "metadata": {},
   "source": [
    "$$ b=(-2)-(-2)(5)=8 $$"
   ]
  },
  {
   "cell_type": "markdown",
   "metadata": {},
   "source": [
    "Por lo tanto, la ecuación de la recta que pasa por los puntos $A(1,6)$ y $B(5,-2)$ es"
   ]
  },
  {
   "cell_type": "markdown",
   "metadata": {},
   "source": [
    "$$ y=-2x+8 $$"
   ]
  },
  {
   "cell_type": "markdown",
   "metadata": {},
   "source": [
    "$$ \\circledast $$"
   ]
  },
  {
   "cell_type": "markdown",
   "metadata": {},
   "source": [
    "* ***Ejemplo:*** Encuentra la ecuación de la recta que pasa por los puntos $A(5,-1)$ y $B(-4,-2)$."
   ]
  },
  {
   "cell_type": "markdown",
   "metadata": {},
   "source": [
    "$$ m=\\dfrac{y_1-y_2}{x_1-x_2}=\\dfrac{(-1)-(-2)}{(5)-(-4)}=\\dfrac{1}{9} $$"
   ]
  },
  {
   "cell_type": "markdown",
   "metadata": {},
   "source": [
    "$$ y=mx+b $$"
   ]
  },
  {
   "cell_type": "markdown",
   "metadata": {},
   "source": [
    "$$ b=y-mx $$"
   ]
  },
  {
   "cell_type": "markdown",
   "metadata": {},
   "source": [
    "$$ b=(-2)-\\left(\\dfrac{1}{9}\\right)(-4)=-\\dfrac{14}{9} $$"
   ]
  },
  {
   "cell_type": "markdown",
   "metadata": {},
   "source": [
    "Por lo tanto, la ecuación de la recta que pasa por los puntos $A(5,-1)$ y $B(-4,-2)$ es"
   ]
  },
  {
   "cell_type": "markdown",
   "metadata": {},
   "source": [
    "$$ y=\\dfrac{1}{9}x-\\dfrac{14}{9} $$"
   ]
  },
  {
   "cell_type": "markdown",
   "metadata": {},
   "source": [
    "$$ \\circledast $$"
   ]
  },
  {
   "cell_type": "markdown",
   "metadata": {},
   "source": [
    "* ***Ejemplo:*** Encuentra la ecuación de la recta que pasa por los puntos $P(-6,3)$ y $Q(9,0)$."
   ]
  },
  {
   "cell_type": "markdown",
   "metadata": {},
   "source": [
    "$$ y=-\\dfrac{1}{5}x+\\dfrac{9}{5} $$"
   ]
  },
  {
   "cell_type": "markdown",
   "metadata": {},
   "source": [
    "### ¿Cómo obtener la ecuación de la recta conociendo un punto y la pendiente?"
   ]
  },
  {
   "cell_type": "markdown",
   "metadata": {},
   "source": [
    "1. Despejamos $b$ de la ecuación de la recta\n",
    "2. Sustituimos la pendiente y el punto que conocemos en la ecuación despejada: la abcisa en $x$ y la ordenada en $y$. Al calcular esto, se encuentra $b$."
   ]
  },
  {
   "cell_type": "markdown",
   "metadata": {},
   "source": [
    "* ***Ejemplo:*** Encuentra la ecuación de la recta que pasa por el punto $A(19,-1)$ y tiene como pendiente $m =-2$"
   ]
  },
  {
   "cell_type": "markdown",
   "metadata": {},
   "source": [
    "La ecuación de la recta en la forma ordenada-pendiente:"
   ]
  },
  {
   "cell_type": "markdown",
   "metadata": {},
   "source": [
    "$$ y=mx+b $$"
   ]
  },
  {
   "cell_type": "markdown",
   "metadata": {},
   "source": [
    "La ecuación despejada para $b$:"
   ]
  },
  {
   "cell_type": "markdown",
   "metadata": {},
   "source": [
    "$$ b=y-mx $$"
   ]
  },
  {
   "cell_type": "markdown",
   "metadata": {},
   "source": [
    "$$ b=(-1)-(-2)(19)=37 $$"
   ]
  },
  {
   "cell_type": "markdown",
   "metadata": {},
   "source": [
    "Por lo tanto, la ecuación de la recta es"
   ]
  },
  {
   "cell_type": "markdown",
   "metadata": {},
   "source": [
    "$$ y=-2x+37 $$"
   ]
  },
  {
   "cell_type": "markdown",
   "metadata": {},
   "source": [
    "$$ \\circledast $$"
   ]
  },
  {
   "cell_type": "markdown",
   "metadata": {},
   "source": [
    "### ¿Cómo obtener la ecuación de la recta conociendo un punto y la ordenada al origen?"
   ]
  },
  {
   "cell_type": "markdown",
   "metadata": {},
   "source": [
    "1. Con la ordenada al origen encontramos un segundo punto: $(0,b)$.\n",
    "2. Encontramos la pendiente entre dos puntos. Al calcular esto, se encuentra $m$."
   ]
  },
  {
   "cell_type": "markdown",
   "metadata": {},
   "source": [
    "* ***Ejemplo:*** Encuentra la ecuación de la recta que pasa por el punto $A=(-1,-2)$ y cuya ordenada al origen es $b=-5$."
   ]
  },
  {
   "cell_type": "markdown",
   "metadata": {},
   "source": [
    "El segundo punto es $P(0,-5)$."
   ]
  },
  {
   "cell_type": "markdown",
   "metadata": {},
   "source": [
    "$$ m=\\dfrac{y_1-y_2}{x_1-x_2}=\\dfrac{(-2)-(-5)}{(-1)-(0)}=-3 $$"
   ]
  },
  {
   "cell_type": "markdown",
   "metadata": {},
   "source": [
    "Por lo tanto, la ecuación de la recta es"
   ]
  },
  {
   "cell_type": "markdown",
   "metadata": {},
   "source": [
    "$$ y=-3x-5 $$"
   ]
  },
  {
   "cell_type": "markdown",
   "metadata": {},
   "source": [
    "$$ \\circledast $$"
   ]
  },
  {
   "cell_type": "markdown",
   "metadata": {},
   "source": [
    "* ***Ejemplo:*** Encuentra la ecuación de la recta que pasa por el punto $A=(6,0)$ y cuya ordenada al origen es $b=-7$."
   ]
  },
  {
   "cell_type": "markdown",
   "metadata": {},
   "source": [
    "El segundo punto es $P(0,-7)$."
   ]
  },
  {
   "cell_type": "markdown",
   "metadata": {},
   "source": [
    "$$ m=\\dfrac{y_1-y_2}{x_1-x_2}=\\dfrac{(0)-(-7)}{(6)-(0)}=\\dfrac{7}{6} $$"
   ]
  },
  {
   "cell_type": "markdown",
   "metadata": {},
   "source": [
    "$$ y=\\dfrac{7}{6}x-7 $$"
   ]
  },
  {
   "cell_type": "markdown",
   "metadata": {},
   "source": [
    "### Forma general de la ecuación de la recta"
   ]
  },
  {
   "cell_type": "markdown",
   "metadata": {},
   "source": [
    "$$ Ax+By+C=0 $$"
   ]
  },
  {
   "cell_type": "markdown",
   "metadata": {},
   "source": [
    "Es una ecuación donde todos los términos están del mismo lado."
   ]
  },
  {
   "cell_type": "markdown",
   "metadata": {},
   "source": [
    "**¿Cómo pasamos de una forma a la otra?**"
   ]
  },
  {
   "cell_type": "markdown",
   "metadata": {},
   "source": [
    "**Ordenada-pendiente $\\rightarrow$ General:**\n",
    "\n",
    "Pasamos todos los términos del mismo lado de la ecuación hasta que la ecuación quede igualada a cero."
   ]
  },
  {
   "cell_type": "markdown",
   "metadata": {},
   "source": [
    "* ***Ejemplo:*** Convierte la ecuación de la recta en la forma ordenada-pendiente\n",
    "$$ y=-4x-5 $$\n",
    "    a la forma general."
   ]
  },
  {
   "cell_type": "markdown",
   "metadata": {},
   "source": [
    "$$ 4x+y+5=0 $$"
   ]
  },
  {
   "cell_type": "markdown",
   "metadata": {},
   "source": [
    "$A=4$, $B=1$, $C=5$"
   ]
  },
  {
   "cell_type": "markdown",
   "metadata": {},
   "source": [
    "$$ \\circledast $$"
   ]
  },
  {
   "cell_type": "markdown",
   "metadata": {},
   "source": [
    "* ***Ejemplo:*** Convierte la ecuación de la recta\n",
    "$$ y=-7.5 $$\n",
    "a la forma general."
   ]
  },
  {
   "cell_type": "markdown",
   "metadata": {},
   "source": [
    "$$ y+7.5=0 $$"
   ]
  },
  {
   "cell_type": "markdown",
   "metadata": {},
   "source": [
    "$A=0$, $B=1$, $C=7.5$"
   ]
  },
  {
   "cell_type": "markdown",
   "metadata": {},
   "source": [
    "$$ \\circledast $$"
   ]
  },
  {
   "cell_type": "markdown",
   "metadata": {},
   "source": [
    "* ***Ejemplo:*** Convierte la ecuación de la recta en la forma ordenada-pendiente\n",
    "$$ y=\\dfrac{1}{9}x-\\dfrac{14}{9} $$\n",
    "    a la forma general."
   ]
  },
  {
   "cell_type": "markdown",
   "metadata": {},
   "source": [
    "$$ -\\dfrac{1}{9}x+y+\\dfrac{14}{9}=0 $$"
   ]
  },
  {
   "cell_type": "markdown",
   "metadata": {},
   "source": [
    "$A=-1/9$, $B=1$, $C=14/9$"
   ]
  },
  {
   "cell_type": "markdown",
   "metadata": {},
   "source": [
    "*Es convención que, en la ecuación general de la recta, el coeficiente que acompaña a la $x$ sea positivo y que ninguno de los coeficientes sea fracción.*"
   ]
  },
  {
   "cell_type": "markdown",
   "metadata": {},
   "source": [
    "$$ \\dfrac{1}{9}x-y-\\dfrac{14}{9}=0 $$"
   ]
  },
  {
   "cell_type": "markdown",
   "metadata": {},
   "source": [
    "$$ x-9y-14=0 $$"
   ]
  },
  {
   "cell_type": "markdown",
   "metadata": {},
   "source": [
    "$A=1$, $B=-9$, $C=-14$"
   ]
  },
  {
   "cell_type": "markdown",
   "metadata": {},
   "source": [
    "$$ \\circledast $$"
   ]
  },
  {
   "cell_type": "markdown",
   "metadata": {},
   "source": [
    "**General $\\rightarrow$ Ordenada-pendiente:**\n",
    "\n",
    "Despejamos $y$."
   ]
  },
  {
   "cell_type": "markdown",
   "metadata": {},
   "source": [
    "* ***Ejemplo:*** Convierte la ecuación de la recta en la forma general\n",
    "$$ 4x-7y+10=0 $$\n",
    "    a la forma ordenada-pendiente."
   ]
  },
  {
   "cell_type": "markdown",
   "metadata": {},
   "source": [
    "$$-7y=-4x-10$$"
   ]
  },
  {
   "cell_type": "markdown",
   "metadata": {},
   "source": [
    "$$y=\\dfrac{-4x-10}{-7}$$"
   ]
  },
  {
   "cell_type": "markdown",
   "metadata": {},
   "source": [
    "$$ y=\\dfrac{4}{7}x+\\dfrac{10}{7} $$"
   ]
  },
  {
   "cell_type": "markdown",
   "metadata": {},
   "source": [
    "$$ \\circledast $$"
   ]
  },
  {
   "cell_type": "markdown",
   "metadata": {},
   "source": [
    "### Tarea:"
   ]
  },
  {
   "cell_type": "markdown",
   "metadata": {},
   "source": [
    "1. Encuentra la ecuación de la recta que pasa por los puntos $P(-2,3)$ y $Q(1,0)$"
   ]
  },
  {
   "cell_type": "markdown",
   "metadata": {},
   "source": [
    "2. Encuentra la ecuación de la recta que pasa por los puntos $R(-2/3,3/5)$ y $S(2/7,3/4)$"
   ]
  },
  {
   "cell_type": "markdown",
   "metadata": {},
   "source": [
    "3. Encuentra la ecuación de la recta que pasa por el punto $T(5/3,-2/7)$ y tiene como pendiente $m =1/10$"
   ]
  },
  {
   "cell_type": "markdown",
   "metadata": {},
   "source": [
    "4. Encuentra la ecuación de la recta que pasa por el punto $V(-6/5,10)$ y cuya ordenada al origen es $b=-9/8$."
   ]
  },
  {
   "cell_type": "markdown",
   "metadata": {},
   "source": [
    "5. Convierte la ecuación de la recta en la forma ordenada-pendiente\n",
    "$$ y=\\dfrac{1}{2}x $$\n",
    "    a la forma general."
   ]
  },
  {
   "cell_type": "markdown",
   "metadata": {},
   "source": [
    "6. Convierte la ecuación de la recta en la forma ordenada-pendiente\n",
    "$$ x=1 $$\n",
    "    a la forma general."
   ]
  },
  {
   "cell_type": "markdown",
   "metadata": {},
   "source": [
    "7. Convierte la ecuación de la recta en la forma ordenada-pendiente\n",
    "$$ y=\\dfrac{3}{7}x-\\dfrac{25}{7} $$\n",
    "    a la forma general."
   ]
  },
  {
   "cell_type": "markdown",
   "metadata": {},
   "source": [
    "8. Convierte la ecuación de la recta en la forma general\n",
    "$$ 3x-7y+15=0 $$\n",
    "    a la forma ordenada-pendiente."
   ]
  },
  {
   "cell_type": "markdown",
   "metadata": {},
   "source": [
    "9. Convierte la ecuación de la recta en la forma general\n",
    "$$ 5y-20=0 $$\n",
    "    a la forma ordenada-pendiente."
   ]
  }
 ],
 "metadata": {
  "kernelspec": {
   "display_name": "Julia 1.5.0",
   "language": "julia",
   "name": "julia-1.5"
  },
  "language_info": {
   "file_extension": ".jl",
   "mimetype": "application/julia",
   "name": "julia",
   "version": "1.5.0"
  }
 },
 "nbformat": 4,
 "nbformat_minor": 4
}
