{
 "cells": [
  {
   "cell_type": "markdown",
   "metadata": {},
   "source": [
    "# Funciones para modelar la relación entre variables"
   ]
  },
  {
   "cell_type": "markdown",
   "metadata": {},
   "source": [
    "# Clase 5"
   ]
  },
  {
   "cell_type": "markdown",
   "metadata": {},
   "source": [
    "## Asíntota"
   ]
  },
  {
   "cell_type": "markdown",
   "metadata": {},
   "source": [
    "*Recta a la cual una función se aproxima pero nunca toca.*"
   ]
  },
  {
   "cell_type": "markdown",
   "metadata": {},
   "source": [
    "## Función racional"
   ]
  },
  {
   "cell_type": "markdown",
   "metadata": {},
   "source": [
    "$$ f(x)=\\dfrac{\\text{polinomio}}{\\text{polinomio}} $$"
   ]
  },
  {
   "cell_type": "markdown",
   "metadata": {},
   "source": [
    "Los puntos donde el denominador se hace cero **NO** están en el dominio de la función."
   ]
  },
  {
   "cell_type": "markdown",
   "metadata": {},
   "source": [
    "La asíntota vertical es $x=a$, donde $a$ es un valor para el cual el denominador se hace cero."
   ]
  },
  {
   "cell_type": "markdown",
   "metadata": {},
   "source": [
    "Si los polinomios del numerador y del denominador son del mismo grado, tendremos una asíntota horizontal con ecuación $y=b$, donde $b$ es el cociente de los coeficientes de los términos de mayor grado para cada polinomio."
   ]
  },
  {
   "cell_type": "markdown",
   "metadata": {},
   "source": [
    "* ***Ejemplo:*** $f(x)=\\dfrac{2x-3}{3x-12}$"
   ]
  },
  {
   "cell_type": "markdown",
   "metadata": {},
   "source": [
    "¿Cuándo el denominador se hace cero?"
   ]
  },
  {
   "cell_type": "markdown",
   "metadata": {},
   "source": [
    "$$ 3x-12=0 $$"
   ]
  },
  {
   "cell_type": "markdown",
   "metadata": {},
   "source": [
    "$$ x=\\dfrac{12}{3}=4 $$"
   ]
  },
  {
   "cell_type": "markdown",
   "metadata": {},
   "source": [
    "$$f(4)=\\dfrac{2(4)-3}{3(4)-12}=\\dfrac{5}{0}$$"
   ]
  },
  {
   "cell_type": "markdown",
   "metadata": {},
   "source": [
    "$$ \\text{Dominio máximo}=(-\\infty,4)\\cup(4,\\infty) $$"
   ]
  },
  {
   "cell_type": "markdown",
   "metadata": {},
   "source": [
    "La función tiene una asíntota vertical con ecuación $x=4$"
   ]
  },
  {
   "cell_type": "markdown",
   "metadata": {},
   "source": [
    "$$\\text{Rango}=(-\\infty,\\frac{2}{3})\\cup(\\frac{2}{3},\\infty) $$"
   ]
  },
  {
   "cell_type": "markdown",
   "metadata": {},
   "source": [
    "La función tiene una asíntota horizontal en $y=\\dfrac{2}{3}$."
   ]
  },
  {
   "cell_type": "markdown",
   "metadata": {},
   "source": [
    "$$ \\text{Codominio}=(-\\infty,\\infty) $$"
   ]
  },
  {
   "cell_type": "markdown",
   "metadata": {},
   "source": [
    "## Leyes de logaritmos"
   ]
  },
  {
   "cell_type": "markdown",
   "metadata": {},
   "source": [
    "* $ \\log_a(1)=0 $"
   ]
  },
  {
   "cell_type": "markdown",
   "metadata": {},
   "source": [
    "* $ \\log_a(a)=1 $"
   ]
  },
  {
   "cell_type": "markdown",
   "metadata": {},
   "source": [
    "* $ \\log_a(bc)=\\log_a(b)+\\log_a(c) $"
   ]
  },
  {
   "cell_type": "markdown",
   "metadata": {},
   "source": [
    "* $ \\log_a\\left(\\dfrac{b}{c}\\right)=\\log_a(b)-\\log_a(c) $"
   ]
  },
  {
   "cell_type": "markdown",
   "metadata": {},
   "source": [
    "* $ \\log_a(b^n)=n\\log_a(b) $"
   ]
  },
  {
   "cell_type": "markdown",
   "metadata": {},
   "source": [
    "* $ \\log_a(b)=\\dfrac{\\log_c(b)}{\\log_c(a)} $"
   ]
  },
  {
   "cell_type": "markdown",
   "metadata": {},
   "source": [
    "* ***Ejemplo:*** Calculemos $\\log_3(97628)$"
   ]
  },
  {
   "cell_type": "markdown",
   "metadata": {},
   "source": [
    "$$ \\log_3(97628)=10.457665\\dots $$"
   ]
  },
  {
   "cell_type": "markdown",
   "metadata": {},
   "source": [
    "* $ \\log_a(b)=\\dfrac{\\log_c(b)}{\\log_c(a)} $"
   ]
  },
  {
   "cell_type": "markdown",
   "metadata": {},
   "source": [
    "$a=3$, $b=97628$, $c=10$"
   ]
  },
  {
   "cell_type": "markdown",
   "metadata": {},
   "source": [
    "$$ \\log_3(97628)=\\dfrac{\\log_{10}(97628)}{\\log_{10}(3)} $$"
   ]
  },
  {
   "cell_type": "markdown",
   "metadata": {},
   "source": [
    "$$ \\circledast $$"
   ]
  },
  {
   "cell_type": "markdown",
   "metadata": {},
   "source": [
    "**¿Cómo se despeja un logaritmo?**"
   ]
  },
  {
   "cell_type": "markdown",
   "metadata": {},
   "source": [
    "$$y=\\log_a(x)\\quad \\leftrightarrow\\quad a^y=x $$"
   ]
  },
  {
   "cell_type": "markdown",
   "metadata": {},
   "source": [
    "## Funciones exponenciales"
   ]
  },
  {
   "cell_type": "markdown",
   "metadata": {},
   "source": [
    "$$ f(x)=a\\cdot b^x+c $$"
   ]
  },
  {
   "cell_type": "markdown",
   "metadata": {},
   "source": [
    "* Si $b>1$, decimos que se trata de un crecimiento exponencial.\n",
    "* Si $0<b<1$, decimos que se trata de un decaimiento exponencial.\n",
    "* Si $b=1$, línea horizontal (función constante)"
   ]
  },
  {
   "cell_type": "markdown",
   "metadata": {},
   "source": [
    "El dominio máximo de estas funciones es $\\mathbb{R}=(-\\infty,\\infty)$."
   ]
  },
  {
   "cell_type": "markdown",
   "metadata": {},
   "source": [
    "Si $a>0$, el rango de la función es $(c,\\infty)$.\n",
    "\n",
    "Si $a<0$, el rango de la función es $(-\\infty,c)$."
   ]
  },
  {
   "cell_type": "markdown",
   "metadata": {},
   "source": [
    "Las funciones exponenciales presentan una asíntota horizontal en $y=c$."
   ]
  },
  {
   "cell_type": "markdown",
   "metadata": {},
   "source": [
    "* ***Ejemplo:*** **El ajedrez**\n",
    "\n",
    "\"Si se colocase sobre un tablero de ajedrez (lo suficientemente grande) un grano de trigo en el primer casilla, dos en el segundo, cuatro en el tercero y así sucesivamente, doblando la cantidad de granos en cada casilla, ¿cuántos granos de trigo habría en el tablero al final?\" https://es.wikipedia.org/wiki/Problema_del_trigo_y_del_tablero_de_ajedrez"
   ]
  },
  {
   "cell_type": "markdown",
   "metadata": {},
   "source": [
    "$$ f(x)=2^x $$"
   ]
  },
  {
   "cell_type": "markdown",
   "metadata": {},
   "source": [
    "Para la primera casilla:"
   ]
  },
  {
   "cell_type": "markdown",
   "metadata": {},
   "source": [
    "$$ f(0)=2^0=1 $$"
   ]
  },
  {
   "cell_type": "markdown",
   "metadata": {},
   "source": [
    "Para la segunda casilla:"
   ]
  },
  {
   "cell_type": "markdown",
   "metadata": {},
   "source": [
    "$$ f(1)=2^1=2 $$"
   ]
  },
  {
   "cell_type": "markdown",
   "metadata": {},
   "source": [
    "Para la tercera casilla:"
   ]
  },
  {
   "cell_type": "markdown",
   "metadata": {},
   "source": [
    "$$ f(2)=2^2=4 $$"
   ]
  },
  {
   "cell_type": "markdown",
   "metadata": {},
   "source": [
    "Para la cuarta casilla:"
   ]
  },
  {
   "cell_type": "markdown",
   "metadata": {},
   "source": [
    "$$ f(3)=2^3=8 $$"
   ]
  },
  {
   "cell_type": "markdown",
   "metadata": {},
   "source": [
    "Para la décima casilla:"
   ]
  },
  {
   "cell_type": "markdown",
   "metadata": {},
   "source": [
    "$$ f(10)=2^{10}=1024 $$"
   ]
  },
  {
   "cell_type": "code",
   "execution_count": 1,
   "metadata": {},
   "outputs": [
    {
     "data": {
      "text/plain": [
       "1024"
      ]
     },
     "execution_count": 1,
     "metadata": {},
     "output_type": "execute_result"
    }
   ],
   "source": [
    "2^10"
   ]
  },
  {
   "cell_type": "markdown",
   "metadata": {},
   "source": [
    "Para la sexagésima tercera casilla:"
   ]
  },
  {
   "cell_type": "markdown",
   "metadata": {},
   "source": [
    "$$ f(63)=2^{63}=9223372036854775808 $$"
   ]
  },
  {
   "cell_type": "code",
   "execution_count": 1,
   "metadata": {},
   "outputs": [
    {
     "data": {
      "text/plain": [
       "9223372036854775808"
      ]
     },
     "execution_count": 1,
     "metadata": {},
     "output_type": "execute_result"
    }
   ],
   "source": [
    "big(2)^63"
   ]
  },
  {
   "cell_type": "markdown",
   "metadata": {},
   "source": [
    "O sea que el valor final es más grande que la cantidad de trigo que hay en todo el mundo."
   ]
  },
  {
   "cell_type": "markdown",
   "metadata": {},
   "source": [
    "### Forma alternativa de las funciones exponenciales"
   ]
  },
  {
   "cell_type": "markdown",
   "metadata": {},
   "source": [
    "$$ f(x)=A\\,e^{kx}+c $$"
   ]
  },
  {
   "cell_type": "markdown",
   "metadata": {},
   "source": [
    "* Si $k>0$, decimos que se trata de un crecimiento exponencial.\n",
    "* Si $k<0$, decimos que se trata de un decaimiento exponencial.\n",
    "* Si $k=0$, línea horizontal"
   ]
  },
  {
   "cell_type": "markdown",
   "metadata": {},
   "source": [
    "$$ \\log_e=\\ln $$"
   ]
  },
  {
   "cell_type": "markdown",
   "metadata": {},
   "source": [
    "## Funciones logarítmicas"
   ]
  },
  {
   "cell_type": "markdown",
   "metadata": {},
   "source": [
    "$$ f(x)=a\\cdot\\log(x+b)+c$$"
   ]
  },
  {
   "cell_type": "markdown",
   "metadata": {},
   "source": [
    "El dominio máximo de estas funciones es $(-b,\\infty)$."
   ]
  },
  {
   "cell_type": "markdown",
   "metadata": {},
   "source": [
    "$$ f(x)=a\\cdot\\log(x)+c$$"
   ]
  },
  {
   "cell_type": "markdown",
   "metadata": {},
   "source": [
    "El dominio máximo de estas funciones es $(0,\\infty)$."
   ]
  },
  {
   "cell_type": "markdown",
   "metadata": {},
   "source": [
    "El rango para este dominio máximo es $\\mathbb{R}=(-\\infty,\\infty)$."
   ]
  },
  {
   "cell_type": "markdown",
   "metadata": {},
   "source": [
    "Las funciones logarítmicas presentan una asíntota vertical en $x=-b$."
   ]
  },
  {
   "cell_type": "markdown",
   "metadata": {},
   "source": [
    "## ¿Quién gana?"
   ]
  },
  {
   "cell_type": "markdown",
   "metadata": {},
   "source": [
    "Si te ofrecen una chamba diciéndote que te ofrecerán un sueldo como función del tiempo trabajado, y te dan a escoger entre las siguientes opciones, ¿cuál te conviene elegir?"
   ]
  },
  {
   "cell_type": "markdown",
   "metadata": {},
   "source": [
    "* $ S_1(t)=100t $"
   ]
  },
  {
   "cell_type": "markdown",
   "metadata": {},
   "source": [
    "$$ S_1(8)=100(8)=800 $$"
   ]
  },
  {
   "cell_type": "markdown",
   "metadata": {},
   "source": [
    "* $ S_2(t)=100t^2 $"
   ]
  },
  {
   "cell_type": "markdown",
   "metadata": {},
   "source": [
    "$$ S_2(8)=100(8)^2=6400 $$"
   ]
  },
  {
   "cell_type": "markdown",
   "metadata": {},
   "source": [
    "* $ S_3(t)=100\\ln(t) $"
   ]
  },
  {
   "cell_type": "markdown",
   "metadata": {},
   "source": [
    "$$ S_3(8)=100\\ln(8)=207.94 $$"
   ]
  },
  {
   "cell_type": "code",
   "execution_count": null,
   "metadata": {},
   "outputs": [],
   "source": [
    "100*log(8)"
   ]
  },
  {
   "cell_type": "markdown",
   "metadata": {},
   "source": [
    "* $ S_4(t)=100\\,e^t $"
   ]
  },
  {
   "cell_type": "markdown",
   "metadata": {},
   "source": [
    "$$ S_4(8)=100\\,e^8=298095.80 $$"
   ]
  },
  {
   "cell_type": "code",
   "execution_count": null,
   "metadata": {},
   "outputs": [],
   "source": [
    "100*exp(8)"
   ]
  },
  {
   "cell_type": "markdown",
   "metadata": {},
   "source": [
    "https://www.desmos.com/calculator/vse1cmyayl"
   ]
  },
  {
   "cell_type": "markdown",
   "metadata": {},
   "source": [
    "* ***Ejemplo:*** Pensemos que tenemos una función exponencial de la forma $f(x)=a\\cdot b^x$. Si $f(20)=88.2$ y $f(23)=91.4$, encuentra \n",
    "\n",
    "(a) la base, \n",
    "\n",
    "(b) $f(25)$ y, \n",
    "\n",
    "(c) la tasa media de cambio entre los puntos del principio."
   ]
  },
  {
   "cell_type": "markdown",
   "metadata": {},
   "source": [
    "**(a) la base**"
   ]
  },
  {
   "cell_type": "markdown",
   "metadata": {},
   "source": [
    "$$ f(x)=a\\cdot b^x $$"
   ]
  },
  {
   "cell_type": "markdown",
   "metadata": {},
   "source": [
    "$$ f(20)=a\\cdot b^{20}=88.2 $$"
   ]
  },
  {
   "cell_type": "markdown",
   "metadata": {},
   "source": [
    "$$ f(23)=a\\cdot b^{23}=91.4 $$"
   ]
  },
  {
   "cell_type": "markdown",
   "metadata": {},
   "source": [
    "$$\\begin{cases}a\\cdot b^{20}=88.2\\\\a\\cdot b^{23}=91.4\\\\\\end{cases}$$"
   ]
  },
  {
   "cell_type": "markdown",
   "metadata": {},
   "source": [
    "De la primera ecuación despejamos $a$"
   ]
  },
  {
   "cell_type": "markdown",
   "metadata": {},
   "source": [
    "$$ a\\cdot b^{20}=88.2 $$"
   ]
  },
  {
   "cell_type": "markdown",
   "metadata": {},
   "source": [
    "$$ a=\\dfrac{88.2}{b^{20}} $$"
   ]
  },
  {
   "cell_type": "markdown",
   "metadata": {},
   "source": [
    "El despeje lo sustituimos en la segunda ecuación:"
   ]
  },
  {
   "cell_type": "markdown",
   "metadata": {},
   "source": [
    "$$a\\cdot b^{23}=91.4$$"
   ]
  },
  {
   "cell_type": "markdown",
   "metadata": {},
   "source": [
    "$$\\left(\\dfrac{88.2}{b^{20}}\\right)\\cdot b^{23}=91.4$$"
   ]
  },
  {
   "cell_type": "markdown",
   "metadata": {},
   "source": [
    "$$88.2\\,\\cdot\\dfrac{b^{23}}{b^{20}}=91.4$$"
   ]
  },
  {
   "cell_type": "markdown",
   "metadata": {},
   "source": [
    "$$88.2\\,\\cdot b^3=91.4$$"
   ]
  },
  {
   "cell_type": "markdown",
   "metadata": {},
   "source": [
    "$$ b^3=\\dfrac{91.4}{88.2}$$"
   ]
  },
  {
   "cell_type": "markdown",
   "metadata": {},
   "source": [
    "$$ b=\\sqrt[3]{\\dfrac{91.4}{88.2}}\\approx1.012$$"
   ]
  },
  {
   "cell_type": "code",
   "execution_count": 3,
   "metadata": {},
   "outputs": [
    {
     "data": {
      "text/plain": [
       "1.0119503467133988"
      ]
     },
     "execution_count": 3,
     "metadata": {},
     "output_type": "execute_result"
    }
   ],
   "source": [
    "∛(91.4/88.2)"
   ]
  },
  {
   "cell_type": "markdown",
   "metadata": {},
   "source": [
    "**(b) $f(25)$** "
   ]
  },
  {
   "cell_type": "markdown",
   "metadata": {},
   "source": [
    "$$ a=\\dfrac{88.2}{b^{20}}=\\dfrac{88.2}{(1.012)^{20}}\\approx69.48 $$"
   ]
  },
  {
   "cell_type": "code",
   "execution_count": 5,
   "metadata": {},
   "outputs": [
    {
     "data": {
      "text/plain": [
       "69.47976406955226"
      ]
     },
     "execution_count": 5,
     "metadata": {},
     "output_type": "execute_result"
    }
   ],
   "source": [
    "88.2/1.012^20"
   ]
  },
  {
   "cell_type": "markdown",
   "metadata": {},
   "source": [
    "$$ f(x)=(69.48)\\cdot (1.012)^x $$"
   ]
  },
  {
   "cell_type": "markdown",
   "metadata": {},
   "source": [
    "$$ f(25)=(69.48)\\cdot (1.012)^{25}\\approx93.62 $$"
   ]
  },
  {
   "cell_type": "code",
   "execution_count": 6,
   "metadata": {},
   "outputs": [
    {
     "data": {
      "text/plain": [
       "93.62085916711743"
      ]
     },
     "execution_count": 6,
     "metadata": {},
     "output_type": "execute_result"
    }
   ],
   "source": [
    "69.48*1.012^25"
   ]
  },
  {
   "cell_type": "markdown",
   "metadata": {},
   "source": [
    "**(c) la tasa media de cambio entre los puntos del principio.**"
   ]
  },
  {
   "cell_type": "markdown",
   "metadata": {},
   "source": [
    "$$ \\text{Tasa media de cambio}=\\dfrac{y_2-y_1}{x_2-x_1}=\\dfrac{f(x_2)-f(x_1)}{x_2-x_1} $$"
   ]
  },
  {
   "cell_type": "markdown",
   "metadata": {},
   "source": [
    "$$ f(20)=88.2 $$"
   ]
  },
  {
   "cell_type": "markdown",
   "metadata": {},
   "source": [
    "$$ f(23)=91.4 $$"
   ]
  },
  {
   "cell_type": "markdown",
   "metadata": {},
   "source": [
    "$$ \\text{Tasa media de cambio}=\\dfrac{f(x_2)-f(x_1)}{x_2-x_1} $$"
   ]
  },
  {
   "cell_type": "markdown",
   "metadata": {},
   "source": [
    "$$ \\text{Tasa media de cambio}=\\dfrac{f(23)-f(20)}{23-20}=\\dfrac{91.4-88.2}{23-20}=1.06 $$"
   ]
  },
  {
   "cell_type": "markdown",
   "metadata": {},
   "source": [
    "## Situación: Población de Michoacán"
   ]
  },
  {
   "cell_type": "markdown",
   "metadata": {},
   "source": [
    "En la Tabla se muestra la relación de la población de Michoacán de 1880 a 2010. La tercera columna nos indica la proporción, la cual fue obtenida de dividir la población de determinada década entre la población de la década precedente."
   ]
  },
  {
   "cell_type": "markdown",
   "metadata": {},
   "source": [
    "| Año  | Población (millones) | Proporción |\n",
    "|------|----------------------|------------|\n",
    "| 1880 | 1.48                 |        |\n",
    "| 1890 | 1.84                 | 1.24       |\n",
    "| 1900 | 2.28                 | 1.24       |\n",
    "| 1910 | 2.82                 | 1.24       |\n",
    "| 1920 | 3.49                 | 1.24       |\n",
    "| 1930 | 4.33                 | 1.24       |\n",
    "| 1940 | 5.36                 | 1.24       |\n",
    "| 1950 | 6.64                 | 1.24       |\n",
    "| 1960 | 8.22                 | 1.24       |\n",
    "| 1970 | 10.18                | 1.24       |\n",
    "| 1980 | 12.62                | 1.24       |\n",
    "| 1990 | 15.63                | 1.24       |\n",
    "| 2000 | 19.35                | 1.24       |\n",
    "| 2010 | 23.97                | 1.24       |"
   ]
  },
  {
   "cell_type": "markdown",
   "metadata": {},
   "source": [
    "**1. ¿Cuál de las siguientes afirmaciones es verdadera? [1 punto]**"
   ]
  },
  {
   "cell_type": "markdown",
   "metadata": {},
   "source": [
    "A) El año es el dominio y la proporción el codominio de la relación.\n",
    "\n",
    "B) La población es el dominio y la proporción el codominio de la relación.\n",
    "\n",
    "C) El año es el dominio y la población el codominio de la relación.\n",
    "\n",
    "D) La población es el dominio y el año el codominio de la relación."
   ]
  },
  {
   "cell_type": "markdown",
   "metadata": {},
   "source": [
    "Como la proporción no cambia nos centraremos en la primera y segunda columna. Notamos que la forma en la que cambia la población depende del año.\n",
    "\n",
    "*\"depende de\"* $=$ *\"en función de\"*"
   ]
  },
  {
   "cell_type": "markdown",
   "metadata": {},
   "source": [
    "Población $=$ variable dependiente (porque depende del año)"
   ]
  },
  {
   "cell_type": "markdown",
   "metadata": {},
   "source": [
    "Año $=$ variable independiente"
   ]
  },
  {
   "cell_type": "markdown",
   "metadata": {},
   "source": [
    "La variable independiente se relaciona con el dominio."
   ]
  },
  {
   "cell_type": "markdown",
   "metadata": {},
   "source": [
    "La variable dependiente se relaciona con el rango o codominio."
   ]
  },
  {
   "cell_type": "markdown",
   "metadata": {},
   "source": [
    "A) El año es el dominio y la proporción el codominio de la relación.\n",
    "\n",
    "B) La población es el dominio y la proporción el codominio de la relación.\n",
    "\n",
    "C) El año es el dominio y la población el codominio de la relación.\n",
    "\n",
    "D) La población es el dominio y el año el codominio de la relación."
   ]
  },
  {
   "cell_type": "markdown",
   "metadata": {},
   "source": [
    "**Solución:** C)"
   ]
  },
  {
   "cell_type": "markdown",
   "metadata": {},
   "source": [
    "**2.  La tasa de crecimiento de 1990 al 2010 de la población de Michoacán es: [2 puntos]**"
   ]
  },
  {
   "cell_type": "markdown",
   "metadata": {},
   "source": [
    "A) $1.24$\n",
    "\n",
    "B) $0.417$\n",
    "\n",
    "C) $2.4$\n",
    "\n",
    "D) $0.24$"
   ]
  },
  {
   "cell_type": "markdown",
   "metadata": {},
   "source": [
    "$$ \\text{Tasa media de cambio}=\\dfrac{y_2-y_1}{x_2-x_1}=\\dfrac{f(x_2)-f(x_1)}{x_2-x_1} $$"
   ]
  },
  {
   "cell_type": "markdown",
   "metadata": {},
   "source": [
    "$$ \\text{Tasa media de cambio}=\\dfrac{y_2-y_1}{x_2-x_1}=\\dfrac{23.97-15.63}{2010-1990}=0.417$$"
   ]
  },
  {
   "cell_type": "markdown",
   "metadata": {},
   "source": [
    "| Año  | Población (millones) | Proporción |\n",
    "|------|----------------------|------------|\n",
    "| 1990 | 15.63                | 1.24       |\n",
    "| 2010 | 23.97                | 1.24       |"
   ]
  },
  {
   "cell_type": "markdown",
   "metadata": {},
   "source": [
    "$$ \\text{Tasa de crecimiento}=\\dfrac{y_2-y_1}{x_2-x_1}=\\dfrac{f(x_2)-f(x_1)}{x_2-x_1} $$"
   ]
  },
  {
   "cell_type": "markdown",
   "metadata": {},
   "source": [
    "$$ \\text{Tasa de crecimiento}=\\dfrac{\\text{Cambio en la variable dependiente}}{\\text{Cambio en la variable independiente}} $$"
   ]
  },
  {
   "cell_type": "markdown",
   "metadata": {},
   "source": [
    "$$ \\text{Tasa de crecimiento}=\\dfrac{y_2-y_1}{x_2-x_1}=\\dfrac{23.97-15.63}{2010-1990}=0.417 $$"
   ]
  },
  {
   "cell_type": "code",
   "execution_count": 7,
   "metadata": {},
   "outputs": [
    {
     "data": {
      "text/plain": [
       "0.4169999999999999"
      ]
     },
     "execution_count": 7,
     "metadata": {},
     "output_type": "execute_result"
    }
   ],
   "source": [
    "(23.97-15.63)/(2010-1990)"
   ]
  },
  {
   "cell_type": "markdown",
   "metadata": {},
   "source": [
    "A) $1.24$\n",
    "\n",
    "B) $0.417$\n",
    "\n",
    "C) $2.4$\n",
    "\n",
    "D) $0.24$"
   ]
  },
  {
   "cell_type": "markdown",
   "metadata": {},
   "source": [
    "**Solución:** B)"
   ]
  },
  {
   "cell_type": "markdown",
   "metadata": {},
   "source": [
    "**3. Los datos de la tabla 1 se encuentran modelados por una función del tipo $f(x)=Aa^{Bx}$ donde $A$ y $B$ son constantes, la función es: [1 punto]**"
   ]
  },
  {
   "cell_type": "markdown",
   "metadata": {},
   "source": [
    "A) Lineal\n",
    "\n",
    "B) Polinomial\n",
    "\n",
    "C) Exponencial\n",
    "\n",
    "D) Logarítmica"
   ]
  },
  {
   "cell_type": "markdown",
   "metadata": {},
   "source": [
    "Como la variable independiente se encuentra como un exponente, debe tratarse de una función exponencial."
   ]
  },
  {
   "cell_type": "markdown",
   "metadata": {},
   "source": [
    "A) Lineal\n",
    "\n",
    "B) Polinomial\n",
    "\n",
    "C) Exponencial\n",
    "\n",
    "D) Logarítmica"
   ]
  },
  {
   "cell_type": "markdown",
   "metadata": {},
   "source": [
    "**Solución:** C)"
   ]
  },
  {
   "cell_type": "markdown",
   "metadata": {},
   "source": [
    "## Situación. Decaimiento del plomo"
   ]
  },
  {
   "cell_type": "markdown",
   "metadata": {},
   "source": [
    "**La radiactividad es un fenómeno químico en el que el núcleo de un elemento poco estable se modifica en otro núcleo más estable de otro elemento químico. En un laboratorio, una muestra de $250$ gramos de plomo ${}^{210}\\rm{Pb}$ radiactivo se convierte en polonio ${}^{210}\\rm{Po}$. La función $A(t)=250(2^{-0.125\\,t})$ permite determinar la cantidad $A(t)$ de plomo radiactivo restante (en gramos) en función del tiempo $t$, en años.**"
   ]
  },
  {
   "cell_type": "markdown",
   "metadata": {},
   "source": [
    "**1. Si el tiempo $t$ se representa en el eje de las abscisas y $A(t)$ en el eje de las ordenadas, la gráfica que describe con mayor exactitud el fenómeno descrito es [1 punto]**"
   ]
  },
  {
   "cell_type": "markdown",
   "metadata": {},
   "source": [
    "<img src=\"graficas_decaimiento.jpeg\" align=\"middle\" width=\"500\">"
   ]
  },
  {
   "cell_type": "markdown",
   "metadata": {},
   "source": [
    "$$ A(t)=250(2^{-0.125\\,t}) $$"
   ]
  },
  {
   "cell_type": "markdown",
   "metadata": {},
   "source": [
    "$$ A(0)=250(2^{-0.125(0)})=250 $$"
   ]
  },
  {
   "cell_type": "markdown",
   "metadata": {},
   "source": [
    "$$ A(1)=250(2^{-0.125(1)})=229.25 $$"
   ]
  },
  {
   "cell_type": "markdown",
   "metadata": {},
   "source": [
    "$$ A(2)=250(2^{-0.125(2)})=210.22 $$"
   ]
  },
  {
   "cell_type": "markdown",
   "metadata": {},
   "source": [
    "**Solución:** C)"
   ]
  },
  {
   "cell_type": "markdown",
   "metadata": {},
   "source": [
    "**2. Después de $16$ años, ¿cuántos gramos quedarán de la sustancia radiactiva?**"
   ]
  },
  {
   "cell_type": "markdown",
   "metadata": {},
   "source": [
    "A) 62.5 g\n",
    "\n",
    "B) 125 g\n",
    "\n",
    "C) 0.002 g\n",
    "\n",
    "D) 1000 g"
   ]
  },
  {
   "cell_type": "markdown",
   "metadata": {},
   "source": [
    "$$ A(t)=250(2^{-0.125\\,t}) $$"
   ]
  },
  {
   "cell_type": "markdown",
   "metadata": {},
   "source": [
    "$$ A(16)=250(2^{-0.125(16)})=62.5 $$"
   ]
  },
  {
   "cell_type": "markdown",
   "metadata": {},
   "source": [
    "A) 62.5 g\n",
    "\n",
    "B) 125 g\n",
    "\n",
    "C) 0.002 g\n",
    "\n",
    "D) 1000 g"
   ]
  },
  {
   "cell_type": "markdown",
   "metadata": {},
   "source": [
    "**Solución:** A) "
   ]
  },
  {
   "cell_type": "markdown",
   "metadata": {},
   "source": [
    "**3. Un parámetro importante para clasificar la velocidad de decaimiento de un elemento radiactivo es la vida media, que es el tiempo que tiene que transcurrir para que la masa inicial decaiga la mitad. La vida media del plomo 210, en años, es**"
   ]
  },
  {
   "cell_type": "markdown",
   "metadata": {},
   "source": [
    "A) 2\n",
    "\n",
    "B) 4\n",
    "\n",
    "C) 8\n",
    "\n",
    "D) 16"
   ]
  },
  {
   "cell_type": "markdown",
   "metadata": {},
   "source": [
    "**1ra. manera:**"
   ]
  },
  {
   "cell_type": "markdown",
   "metadata": {},
   "source": [
    "$$ A(t)=250(2^{-0.125\\,t}) $$"
   ]
  },
  {
   "cell_type": "markdown",
   "metadata": {},
   "source": [
    "$$ A(2)=210.224 $$"
   ]
  },
  {
   "cell_type": "markdown",
   "metadata": {},
   "source": [
    "$$ A(4)=176.777 $$"
   ]
  },
  {
   "cell_type": "markdown",
   "metadata": {},
   "source": [
    "$$ A(8)=125 $$"
   ]
  },
  {
   "cell_type": "markdown",
   "metadata": {},
   "source": [
    "$$ A(16)=62.5 $$"
   ]
  },
  {
   "cell_type": "markdown",
   "metadata": {},
   "source": [
    "**2da. manera:**"
   ]
  },
  {
   "cell_type": "markdown",
   "metadata": {},
   "source": [
    "$$ A(t)=250(2^{-0.125\\,t}) $$"
   ]
  },
  {
   "cell_type": "markdown",
   "metadata": {},
   "source": [
    "$$ A(0)=250 $$"
   ]
  },
  {
   "cell_type": "markdown",
   "metadata": {},
   "source": [
    "$$ 125=250(2^{-0.125\\,t}) $$"
   ]
  },
  {
   "cell_type": "markdown",
   "metadata": {},
   "source": [
    "$$ \\dfrac{125}{250}=(2^{-0.125\\,t}) $$"
   ]
  },
  {
   "cell_type": "markdown",
   "metadata": {},
   "source": [
    "$$ \\dfrac{1}{2}=2^{-0.125\\,t} $$"
   ]
  },
  {
   "cell_type": "markdown",
   "metadata": {},
   "source": [
    "$$ \\log_2\\left(\\dfrac{1}{2}\\right)={-0.125\\,t} $$"
   ]
  },
  {
   "cell_type": "markdown",
   "metadata": {},
   "source": [
    "$$ -1={-0.125\\,t} $$"
   ]
  },
  {
   "cell_type": "markdown",
   "metadata": {},
   "source": [
    "$$ t=\\dfrac{-1}{-0.125}=8 $$"
   ]
  },
  {
   "cell_type": "markdown",
   "metadata": {},
   "source": [
    "$$ A(8)=250(2^{-0.125(8)}) $$"
   ]
  },
  {
   "cell_type": "markdown",
   "metadata": {},
   "source": [
    "A) 2\n",
    "\n",
    "B) 4\n",
    "\n",
    "C) 8\n",
    "\n",
    "D) 16"
   ]
  },
  {
   "cell_type": "markdown",
   "metadata": {},
   "source": [
    "**Solución:** C)"
   ]
  },
  {
   "cell_type": "markdown",
   "metadata": {},
   "source": [
    "**4. En el laboratorio, con frecuencia se requiere determinar el tiempo que debe transcurrir para que reste una cantidad conocida de material radiactivo. La expresión que permite calcular dicho tiempo para la muestra del plomo 210 es**"
   ]
  },
  {
   "cell_type": "markdown",
   "metadata": {},
   "source": [
    "A) $t=\\dfrac{\\ln\\dfrac{A(t)}{250}}{0.125\\ln2}$\n",
    "\n",
    "B) $t=-\\dfrac{\\ln\\left(\\dfrac{A(t)}{250}\\right)}{0.125\\ln(2)}$\n",
    "\n",
    "C) $t=-\\dfrac{\\sqrt{250A(t)}}{0.125}$\n",
    "\n",
    "D) $t=\\dfrac{1}{0.125}\\sqrt{\\dfrac{A(t)}{250}}$"
   ]
  },
  {
   "cell_type": "markdown",
   "metadata": {},
   "source": [
    "$$ A(t)=250(2^{-0.125\\,t}) $$"
   ]
  },
  {
   "cell_type": "markdown",
   "metadata": {},
   "source": [
    "$$ \\dfrac{A(t)}{250}=2^{-0.125\\,t} $$"
   ]
  },
  {
   "cell_type": "markdown",
   "metadata": {},
   "source": [
    "$$ \\log_2\\left(\\dfrac{A(t)}{250}\\right)=-0.125\\,t $$"
   ]
  },
  {
   "cell_type": "markdown",
   "metadata": {},
   "source": [
    "$$ \\dfrac{\\log_2\\left(\\dfrac{A(t)}{250}\\right)}{-0.125}=t $$"
   ]
  },
  {
   "cell_type": "markdown",
   "metadata": {},
   "source": [
    "$$ t=\\dfrac{\\log_2\\left(\\dfrac{A(t)}{250}\\right)}{-0.125} $$"
   ]
  },
  {
   "cell_type": "markdown",
   "metadata": {},
   "source": [
    "$$ t=\\dfrac{\\dfrac{\\ln\\left(\\dfrac{A(t)}{250}\\right)}{\\ln(2)}}{-0.125} $$"
   ]
  },
  {
   "cell_type": "markdown",
   "metadata": {},
   "source": [
    "$$ t=-\\dfrac{\\ln\\left(\\dfrac{A(t)}{250}\\right)}{0.125{\\ln(2)}} $$"
   ]
  },
  {
   "cell_type": "markdown",
   "metadata": {},
   "source": [
    "A) $t=\\dfrac{\\ln\\dfrac{A(t)}{250}}{0.125\\ln2}$\n",
    "\n",
    "B) $t=-\\dfrac{\\ln\\left(\\dfrac{A(t)}{250}\\right)}{0.125\\ln(2)}$\n",
    "\n",
    "C) $t=-\\dfrac{\\sqrt{250A(t)}}{0.125}$\n",
    "\n",
    "D) $t=\\dfrac{1}{0.125}\\sqrt{\\dfrac{A(t)}{250}}$"
   ]
  },
  {
   "cell_type": "markdown",
   "metadata": {},
   "source": [
    "**Solución:** B)"
   ]
  },
  {
   "cell_type": "markdown",
   "metadata": {},
   "source": [
    "# Situación: ¿Cuánto aumentó la población en México?"
   ]
  },
  {
   "cell_type": "markdown",
   "metadata": {},
   "source": [
    "**Durante los últimos 65 años, la población en México ha crecido poco más de cuatro veces. En 1950 había 25.8 millones de personas, en 2015 hay 119.5 millones. De 2010 a 2015, la población se incrementó en 7 millones de habitantes, lo que representa un crecimiento promedio anual de 1.4 por ciento *(Tomado de http://cuentame.inegi.org.mx/poblacion/habitantes.aspx?tema=P)***\n"
   ]
  },
  {
   "cell_type": "markdown",
   "metadata": {},
   "source": [
    "<img src=\"poblacion.jpeg\" align=\"middle\" width=\"800\">"
   ]
  },
  {
   "cell_type": "markdown",
   "metadata": {},
   "source": [
    "**9. Con base en la gráfica, para modelar una función que describa el comportamiento de la población mexicana, la variable independiente es [1 punto]**"
   ]
  },
  {
   "cell_type": "markdown",
   "metadata": {},
   "source": [
    "A. Número de personas\n",
    "\n",
    "B. Población total\n",
    "\n",
    "C. Tiempo\n",
    "\n",
    "D. Índice de crecimiento"
   ]
  },
  {
   "cell_type": "markdown",
   "metadata": {},
   "source": [
    "**Solución:** "
   ]
  },
  {
   "cell_type": "markdown",
   "metadata": {},
   "source": [
    "**10. Si se considera que el crecimiento es constante en la población meixcana, la razón de cambio entre los años 2000 y 2010 es [2 puntos]**"
   ]
  },
  {
   "cell_type": "markdown",
   "metadata": {},
   "source": [
    "A. $1.48\\times10^6\\ \\dfrac{\\text{personas}}{\\text{año}}$\n",
    "\n",
    "B. $1.48\\%$\n",
    "\n",
    "C. $14.8\\%$\n",
    "\n",
    "D. $14.8\\ \\dfrac{\\text{millones de personas}}{\\text{año}}$"
   ]
  },
  {
   "cell_type": "markdown",
   "metadata": {},
   "source": [
    "**Solución:** "
   ]
  },
  {
   "cell_type": "markdown",
   "metadata": {},
   "source": [
    "**11. Suponiendo que el crecimiento de la población es constante, y considerando que el año 1950 corresponde a $t=0$, la función que modela la población en función del tiempo $P(t)$, en millones de personas, entre 1950 y 2015, es**"
   ]
  },
  {
   "cell_type": "markdown",
   "metadata": {},
   "source": [
    "A. $P(t)=25.8t-0.69$\n",
    "\n",
    "B. $P(t)=119.5t-1.44$\n",
    "\n",
    "C. $P(t)=0.69t+119.5$\n",
    "\n",
    "D. $P(t)=1.44t+25.8$"
   ]
  },
  {
   "cell_type": "markdown",
   "metadata": {},
   "source": [
    "**Solución:** "
   ]
  },
  {
   "cell_type": "markdown",
   "metadata": {},
   "source": [
    "**12. Si se utiliza el siguiente modelo de crecimiento poblacional:\n",
    "$$ P(t)=P_0(1+r)^t $$\n",
    "donde $P_0$ es la población inicial, $r$ es la tasa de crecimiento, $t$ es el tiempo y $t=0$ corresponde a 1950, la expresión que permite determinar el tiempo que tardará la población mexicanaen alcanzar los 150 millones de habitantes, con una tasa de crecimiento del $2.38\\%$ anual, y para una población inicial de 25.8 millones de habitantes, es**"
   ]
  },
  {
   "cell_type": "markdown",
   "metadata": {},
   "source": [
    "A. $t=\\ln\\dfrac{(1.238)(25.8)}{150}$\n",
    "\n",
    "B. $t=\\dfrac{\\ln\\left(\\dfrac{150}{25.8}\\right)}{\\ln(1.0238)}$\n",
    "\n",
    "C. $t=\\ln\\dfrac{150}{(3.38)(25.8)}$\n",
    "\n",
    "D. $t=\\dfrac{150}{25.8\\ln(2.38)}$"
   ]
  },
  {
   "cell_type": "markdown",
   "metadata": {},
   "source": [
    "**Solución:** "
   ]
  },
  {
   "cell_type": "markdown",
   "metadata": {},
   "source": [
    "## Situación: Fragmentos de Bosque y Hormigas"
   ]
  },
  {
   "cell_type": "markdown",
   "metadata": {},
   "source": [
    "Como parte de un análisis del efecto de la fragmentación sobre las relaciones especies-área, se registró el número de especies de hormigas para ciertos\n",
    "fragmentos de bosque seco tropical. En el siguiente gráfico se presenta la relación\n",
    "entre el área de los fragmentos de bosque seco tropical en la cuenca media del río\n",
    "Cauca, Colombia, medida en hectáreas (h) , con el número de especies de hormigas\n",
    "encontradas en cada fragmento N (h) .\n"
   ]
  },
  {
   "cell_type": "markdown",
   "metadata": {},
   "source": [
    "**1. Es el tipo de función que mejor describe la asociación entre el área y el número\n",
    "de especies que se representa en la figura.**"
   ]
  },
  {
   "cell_type": "markdown",
   "metadata": {},
   "source": [
    "A) $N(h)=13e^h+76$\n",
    "\n",
    "B) $N(h)=76e^h+13$\n",
    "\n",
    "C) $N(h)=13\\log(h)+76$\n",
    "\n",
    "D) $N(h)=76\\log(h)+13$"
   ]
  },
  {
   "cell_type": "markdown",
   "metadata": {},
   "source": [
    "<img src=\"bosque1.png\" align=\"middle\" width=\"500\">"
   ]
  },
  {
   "cell_type": "markdown",
   "metadata": {},
   "source": [
    "Podemos darnos cuenta de que se trata de una función logarítmica (por la forma que tiene)."
   ]
  },
  {
   "cell_type": "markdown",
   "metadata": {},
   "source": [
    "$$ N(h)=A\\log(h)+c $$"
   ]
  },
  {
   "cell_type": "markdown",
   "metadata": {},
   "source": [
    "Nos dan una coordenada por la que pasa: $(1,76)$"
   ]
  },
  {
   "cell_type": "markdown",
   "metadata": {},
   "source": [
    "$$ N(1)=A\\log(1)+c=A\\cdot0+c=c=76 $$"
   ]
  },
  {
   "cell_type": "markdown",
   "metadata": {},
   "source": [
    "Entonces,"
   ]
  },
  {
   "cell_type": "markdown",
   "metadata": {},
   "source": [
    "$$ N(h)=A\\log(h)+76 $$"
   ]
  },
  {
   "cell_type": "markdown",
   "metadata": {},
   "source": [
    "A) $N(h)=13e^h+76$\n",
    "\n",
    "B) $N(h)=76e^h+13$\n",
    "\n",
    "C) $N(h)=13\\log(h)+76$\n",
    "\n",
    "D) $N(h)=76\\log(h)+13$"
   ]
  },
  {
   "cell_type": "markdown",
   "metadata": {},
   "source": [
    "**Solución:** C)"
   ]
  },
  {
   "cell_type": "markdown",
   "metadata": {},
   "source": [
    "**2. Si el modelo que ajusta a los datos planteados en la situación para otra zona de\n",
    "bosque es $N(h)=7.9\\cdot\\ln(h)+100$, ¿cuál es el dominio máximo de la función?**"
   ]
  },
  {
   "cell_type": "markdown",
   "metadata": {},
   "source": [
    "A) $(0,\\infty)$\n",
    "\n",
    "B) $(-\\infty,\\infty)$\n",
    "\n",
    "C) $[7.9, 100]$\n",
    "\n",
    "D) $[100, \\infty)$"
   ]
  },
  {
   "cell_type": "markdown",
   "metadata": {},
   "source": [
    "**Solución:** A)"
   ]
  },
  {
   "cell_type": "markdown",
   "metadata": {},
   "source": [
    "**3. Si para una zona especial la relación descrita en la situación está dada por $N (h) = 11.37\\cdot\\ln(h ) + 75.9$, ¿cuál es el despeje para poder determinar el número de hectáreas de un fragmento de bosque donde se encuentran $89$ especies de hormigas?**"
   ]
  },
  {
   "cell_type": "markdown",
   "metadata": {},
   "source": [
    "A) $h=e^{\\dfrac{89-75.9}{11.37}}$\n",
    "\n",
    "B) $h=\\ln\\left(\\dfrac{89-75.9}{11.37}\\right)$\n",
    "\n",
    "C) $h=\\ln\\left(\\dfrac{11.37}{89-75.9}\\right)$\n",
    "\n",
    "D) $h=e^{\\dfrac{11.37}{89-75.9}}$"
   ]
  },
  {
   "cell_type": "markdown",
   "metadata": {},
   "source": [
    "$N$: número de hormigas\n",
    "\n",
    "$h$: número de hectáreas$$ \\dfrac{89-75.9}{11.37}=\\ln(h )$$"
   ]
  },
  {
   "cell_type": "markdown",
   "metadata": {},
   "source": [
    "$N (h) = 11.37\\cdot\\ln(h ) + 75.9$"
   ]
  },
  {
   "cell_type": "markdown",
   "metadata": {},
   "source": [
    "$$ 89 = 11.37\\cdot\\ln(h ) + 75.9$$"
   ]
  },
  {
   "cell_type": "markdown",
   "metadata": {},
   "source": [
    "$$ 89-75.9 = 11.37\\cdot\\ln(h )$$"
   ]
  },
  {
   "cell_type": "markdown",
   "metadata": {},
   "source": [
    "$$ \\dfrac{89-75.9}{11.37}=\\ln(h )$$"
   ]
  },
  {
   "cell_type": "markdown",
   "metadata": {},
   "source": [
    "$$ e^{\\dfrac{89-75.9}{11.37}}=h$$"
   ]
  },
  {
   "cell_type": "markdown",
   "metadata": {},
   "source": [
    "A) $h=e^{\\dfrac{89-75.9}{11.37}}$\n",
    "\n",
    "B) $h=\\ln\\left(\\dfrac{89-75.9}{11.37}\\right)$\n",
    "\n",
    "C) $h=\\ln\\left(\\dfrac{11.37}{89-75.9}\\right)$\n",
    "\n",
    "D) $h=e^{\\dfrac{11.37}{89-75.9}}$"
   ]
  },
  {
   "cell_type": "markdown",
   "metadata": {},
   "source": [
    "**Solución:** D)"
   ]
  }
 ],
 "metadata": {
  "kernelspec": {
   "display_name": "Julia 1.1.0",
   "language": "julia",
   "name": "julia-1.1"
  },
  "language_info": {
   "file_extension": ".jl",
   "mimetype": "application/julia",
   "name": "julia",
   "version": "1.1.0"
  }
 },
 "nbformat": 4,
 "nbformat_minor": 4
}
