{
 "cells": [
  {
   "cell_type": "markdown",
   "metadata": {},
   "source": [
    "# Clase 2"
   ]
  },
  {
   "cell_type": "markdown",
   "metadata": {},
   "source": [
    "## Fracciones"
   ]
  },
  {
   "cell_type": "markdown",
   "metadata": {},
   "source": [
    "### Fracciones propias"
   ]
  },
  {
   "cell_type": "markdown",
   "metadata": {},
   "source": [
    "Son las fracciones cuyo numerador es menor que el denominador; p. ej. $\\dfrac{3}{5}$"
   ]
  },
  {
   "cell_type": "markdown",
   "metadata": {},
   "source": [
    "### Fracciones impropias"
   ]
  },
  {
   "cell_type": "markdown",
   "metadata": {},
   "source": [
    "Son las fracciones cuyo numerador es mayor que el denominador; p. ej. $\\dfrac{76}{11}$"
   ]
  },
  {
   "cell_type": "markdown",
   "metadata": {},
   "source": [
    "### Fracciones mixtas"
   ]
  },
  {
   "cell_type": "markdown",
   "metadata": {},
   "source": [
    "Son las fracciones que tienen una parte entera; p. ej. $4+\\frac{3}{4}$"
   ]
  },
  {
   "cell_type": "markdown",
   "metadata": {},
   "source": [
    "### Cómo convertir una fracción mixta en impropia"
   ]
  },
  {
   "cell_type": "markdown",
   "metadata": {},
   "source": [
    "Sólo multiplicamos el entero por el denominador de la fracción que le acompaña y lo sumamos al numerador."
   ]
  },
  {
   "cell_type": "markdown",
   "metadata": {},
   "source": [
    "* ***Ejemplo:***"
   ]
  },
  {
   "cell_type": "markdown",
   "metadata": {},
   "source": [
    "$$ 4+\\dfrac{3}{4}=\\dfrac{16+3}{4}=\\dfrac{19}{4} $$"
   ]
  },
  {
   "cell_type": "markdown",
   "metadata": {},
   "source": [
    "### Cómo convertir una fracción impropia en mixta"
   ]
  },
  {
   "cell_type": "markdown",
   "metadata": {},
   "source": [
    "Hacemos la división: el cociente es la parte entera, el residuo, la parte fraccionaria."
   ]
  },
  {
   "cell_type": "markdown",
   "metadata": {},
   "source": [
    "* ***Ejemplo:***"
   ]
  },
  {
   "cell_type": "markdown",
   "metadata": {},
   "source": [
    "$$ \\dfrac{76}{11}=6+\\dfrac{10}{11} $$"
   ]
  },
  {
   "cell_type": "markdown",
   "metadata": {},
   "source": [
    "## Proporción"
   ]
  },
  {
   "cell_type": "markdown",
   "metadata": {},
   "source": [
    "Una *proporción* es una relación entre dos números que definen la cantidad de una cosa con respecto a la cantidad de otra."
   ]
  },
  {
   "cell_type": "markdown",
   "metadata": {},
   "source": [
    "* ***Ejemplo:***"
   ]
  },
  {
   "cell_type": "markdown",
   "metadata": {},
   "source": [
    "La proporción de narices con respecto a piernas (en un humano) es de $1:2$ (1 a 2).\n",
    "\n",
    "La proporción de ojos con respecto a piernas (en un humano) es de $2:2$."
   ]
  },
  {
   "cell_type": "markdown",
   "metadata": {},
   "source": [
    "Las proporciones se pueden escribir como fracción:"
   ]
  },
  {
   "cell_type": "markdown",
   "metadata": {},
   "source": [
    "$$ \\dfrac{2}{2}=\\dfrac{1}{1} $$"
   ]
  },
  {
   "cell_type": "markdown",
   "metadata": {},
   "source": [
    "La proporción de ojos con respecto a piernas (en un humano) es de $1:1$."
   ]
  },
  {
   "cell_type": "markdown",
   "metadata": {},
   "source": [
    "* ***Ejemplo:***"
   ]
  },
  {
   "cell_type": "markdown",
   "metadata": {},
   "source": [
    "En una tienda de mascotas en la CDMX hay $50$ animales: $15$ de estos son perros. Entonces, la proporción de perros respecto al resto de los animales es $15:50$"
   ]
  },
  {
   "cell_type": "markdown",
   "metadata": {},
   "source": [
    "$$ \\dfrac{15}{50}=\\dfrac{3}{10} $$"
   ]
  },
  {
   "cell_type": "markdown",
   "metadata": {},
   "source": [
    "Entonces, la proporción de perros respecto al resto de los animales también es $3:10$."
   ]
  },
  {
   "cell_type": "markdown",
   "metadata": {},
   "source": [
    "Imaginemos que la CDMX exige que la proporción se mantenga. Si metemos otros 30 animales a la tienda de mascotas, ¿cuántos deben ser perros?"
   ]
  },
  {
   "cell_type": "markdown",
   "metadata": {},
   "source": [
    "Si tengo 10 animales, 3 deben ser perros."
   ]
  },
  {
   "cell_type": "markdown",
   "metadata": {},
   "source": [
    "Si tengo 20 animales, 6 deben ser perros."
   ]
  },
  {
   "cell_type": "markdown",
   "metadata": {},
   "source": [
    "Si tengo 30 animales, 9 deben ser perros."
   ]
  },
  {
   "cell_type": "markdown",
   "metadata": {},
   "source": [
    "*En las proporciones, cada cantidad debe de crecer igual para mantener la proporción.*"
   ]
  },
  {
   "cell_type": "markdown",
   "metadata": {},
   "source": [
    "* ***Ejemplo:*** ¿Cuánto debe de valer $x$ si deseamos que se cumpla que $6:5=10:x$?"
   ]
  },
  {
   "cell_type": "markdown",
   "metadata": {},
   "source": [
    "$$ \\dfrac{6}{5}=\\dfrac{10}{x} $$"
   ]
  },
  {
   "cell_type": "markdown",
   "metadata": {},
   "source": [
    "*Cuando quieras hacer un despeje, y la variable que quieres despejar está en el denominador de una fracción, ¡pásala del otro lado!*"
   ]
  },
  {
   "cell_type": "markdown",
   "metadata": {},
   "source": [
    "$$ x\\;\\dfrac{6}{5}=10 $$"
   ]
  },
  {
   "cell_type": "markdown",
   "metadata": {},
   "source": [
    "$$ \\dfrac{6x}{5}=10 $$"
   ]
  },
  {
   "cell_type": "markdown",
   "metadata": {},
   "source": [
    "$$ 6x=50 $$"
   ]
  },
  {
   "cell_type": "markdown",
   "metadata": {},
   "source": [
    "$$ x=\\dfrac{50}{6}=\\dfrac{25}{3} $$"
   ]
  },
  {
   "cell_type": "markdown",
   "metadata": {},
   "source": [
    "* ***Ejemplo:*** La proporción del pago de Ana respecto del de Beto es de $\\dfrac{5}{4}$. La proporción del pago de Beto respecto del de Carlos es de $10:9$. Si Ana recibe un pago de $\\$7500$, ¿de cuánto es el pago de Carlos? "
   ]
  },
  {
   "cell_type": "markdown",
   "metadata": {},
   "source": [
    "Ana, Beto, Carlos"
   ]
  },
  {
   "cell_type": "markdown",
   "metadata": {},
   "source": [
    "Si a Ana $\\$5$, entonces a Beto le pagarán $\\$4$."
   ]
  },
  {
   "cell_type": "markdown",
   "metadata": {},
   "source": [
    "Si a Ana $\\$10$, entonces a Beto le pagarán $\\$8$."
   ]
  },
  {
   "cell_type": "markdown",
   "metadata": {},
   "source": [
    "$$ \\left(\\dfrac{7500\\cdot4}{5}\\right)=6000 $$"
   ]
  },
  {
   "cell_type": "markdown",
   "metadata": {},
   "source": [
    "Beto gana $\\$6000$."
   ]
  },
  {
   "cell_type": "markdown",
   "metadata": {},
   "source": [
    "$$ \\left(\\dfrac{6000\\cdot9}{10}\\right)=6000 $$"
   ]
  },
  {
   "cell_type": "markdown",
   "metadata": {},
   "source": [
    "Carlos gana $\\$5400$."
   ]
  },
  {
   "cell_type": "markdown",
   "metadata": {},
   "source": [
    "* ***Ejemplo:*** Si Ana le gana a Beto por $20\\ \\rm{m}$ en una carrera de $100\\ \\rm{m}$, y Beto le gana a Carlos por $20\\ \\rm{m}$ en la misma carrera, ¿por cuánta distancia le gana Ana a Carlos?"
   ]
  },
  {
   "cell_type": "markdown",
   "metadata": {},
   "source": [
    "La proporción entre lo que ha avanzado Ana respecto de lo que ha avanzado Beto es $\\dfrac{100}{80}=\\dfrac{5}{4}$"
   ]
  },
  {
   "cell_type": "markdown",
   "metadata": {},
   "source": [
    "La proporción entre lo que ha avanzado Beto respecto de lo que ha avanzado Carlos es $\\dfrac{100}{80}=\\dfrac{5}{4}$"
   ]
  },
  {
   "cell_type": "markdown",
   "metadata": {},
   "source": [
    "Cuando Ana llega a los 100 m, Beto está en los 80 m."
   ]
  },
  {
   "cell_type": "markdown",
   "metadata": {},
   "source": [
    "Cuando Beto está en los 80 m, ¿dónde está Carlos? En los 64 m."
   ]
  },
  {
   "cell_type": "markdown",
   "metadata": {},
   "source": [
    "¿Por cuánta distancia le gana Ana a Carlos? Le gana por 36 m."
   ]
  },
  {
   "cell_type": "markdown",
   "metadata": {},
   "source": [
    "Cuando Ana llega a la mitad de la carrera, Beto está en los 40 m."
   ]
  },
  {
   "cell_type": "markdown",
   "metadata": {},
   "source": [
    "Cuando Beto está en los 40 m , ¿dónde está Carlos? En los 32 m."
   ]
  },
  {
   "cell_type": "markdown",
   "metadata": {},
   "source": [
    "¿Por cuánta distancia le gana Ana a Carlos? Le gana por 18 m."
   ]
  },
  {
   "cell_type": "markdown",
   "metadata": {},
   "source": [
    "## Álgebra"
   ]
  },
  {
   "cell_type": "markdown",
   "metadata": {},
   "source": [
    "*Recomposición o la recolocación de los trozos en los que se partió una cosa.*"
   ]
  },
  {
   "cell_type": "markdown",
   "metadata": {},
   "source": [
    "### Términos algebraicos\n",
    "$$ -4x^3 $$"
   ]
  },
  {
   "cell_type": "markdown",
   "metadata": {},
   "source": [
    "$ -4 $: el coeficiente (con todo y signo)\n",
    "\n",
    "$ x $: variable, incógnita, literal\n",
    "\n",
    "$ {}^3 $: exponente"
   ]
  },
  {
   "cell_type": "markdown",
   "metadata": {},
   "source": [
    "### Expresiones algebraicas"
   ]
  },
  {
   "cell_type": "markdown",
   "metadata": {},
   "source": [
    "Varios términos sumándose entre sí:"
   ]
  },
  {
   "cell_type": "markdown",
   "metadata": {},
   "source": [
    "$$ 3x^2-7a^3x+4ay-1 $$ "
   ]
  },
  {
   "cell_type": "markdown",
   "metadata": {},
   "source": [
    "El coeficiente de\n",
    "$$ x $$\n",
    "es $1$."
   ]
  },
  {
   "cell_type": "markdown",
   "metadata": {},
   "source": [
    "El coeficiente de\n",
    "$$ -x $$\n",
    "es $-1$."
   ]
  },
  {
   "cell_type": "markdown",
   "metadata": {},
   "source": [
    "### Ecuación"
   ]
  },
  {
   "cell_type": "markdown",
   "metadata": {},
   "source": [
    "$$ 3x^2-7a^3x+4ay-1=10 $$"
   ]
  },
  {
   "cell_type": "markdown",
   "metadata": {},
   "source": [
    "## Operaciones sobre expresiones algebraicas"
   ]
  },
  {
   "cell_type": "markdown",
   "metadata": {},
   "source": [
    "### Suma y resta"
   ]
  },
  {
   "cell_type": "markdown",
   "metadata": {},
   "source": [
    "*Nota: Cuando dos (o más) términos tienen **exactamente** las mismas variables con el mismo exponente en cada variable, sumamos sus coeficientes.*"
   ]
  },
  {
   "cell_type": "markdown",
   "metadata": {},
   "source": [
    "* ***Ejemplo:***"
   ]
  },
  {
   "cell_type": "markdown",
   "metadata": {},
   "source": [
    "$$ 3x^3+4x^2+5x^2y+x^2-9y^2+5x^2 $$"
   ]
  },
  {
   "cell_type": "markdown",
   "metadata": {},
   "source": [
    "$$ =(4x^2+x^2+5x^2)+3x^3+5x^2y-9y^2 $$"
   ]
  },
  {
   "cell_type": "markdown",
   "metadata": {},
   "source": [
    "$$ =10x^2+3x^3+5x^2y-9y^2 $$"
   ]
  },
  {
   "cell_type": "markdown",
   "metadata": {},
   "source": [
    "* ***Ejemplo:***"
   ]
  },
  {
   "cell_type": "markdown",
   "metadata": {},
   "source": [
    "$$ (4a+3x+2y^2)+(3a+5x+7y^2)+(a+2x+4y^2)+(2x+3y^2+7z^2) $$"
   ]
  },
  {
   "cell_type": "markdown",
   "metadata": {},
   "source": [
    "$$ =(2y^2+7y^2+4y^2+3y^2)+(3x+5x+2x+2x)+(4a+3a+a)+7z^2 $$"
   ]
  },
  {
   "cell_type": "markdown",
   "metadata": {},
   "source": [
    "$$ =16y^2+12x+8a+7z^2 $$"
   ]
  },
  {
   "cell_type": "markdown",
   "metadata": {},
   "source": [
    "* ***Ejemplo:***"
   ]
  },
  {
   "cell_type": "markdown",
   "metadata": {},
   "source": [
    "$$ (a^3-4a^2b+6abc)+(a^2b-10abc+2a^3)+(b^3+3a^2b+abc)= $$"
   ]
  },
  {
   "cell_type": "markdown",
   "metadata": {},
   "source": [
    "$$ =3a^3+b^3-3abc $$"
   ]
  },
  {
   "cell_type": "markdown",
   "metadata": {},
   "source": [
    "* ***Ejemplo:***"
   ]
  },
  {
   "cell_type": "markdown",
   "metadata": {},
   "source": [
    "$$ (3x+5y)+(2x-y)-(5x-4y) $$"
   ]
  },
  {
   "cell_type": "markdown",
   "metadata": {},
   "source": [
    "$$ =3x+5y+2x-y-5x+4y $$"
   ]
  },
  {
   "cell_type": "markdown",
   "metadata": {},
   "source": [
    "$$ =(3x+2x-5x)+(5y-y+4y) $$"
   ]
  },
  {
   "cell_type": "markdown",
   "metadata": {},
   "source": [
    "$$ =8y $$"
   ]
  },
  {
   "cell_type": "markdown",
   "metadata": {},
   "source": [
    "### Multiplicación"
   ]
  },
  {
   "cell_type": "markdown",
   "metadata": {},
   "source": [
    "*Cuando multipliquen, si les quedan muchas variables multiplicándose entre sí, será necesario acomodarlas alfabéticamente.*"
   ]
  },
  {
   "cell_type": "markdown",
   "metadata": {},
   "source": [
    "* ***Ejemplo:***"
   ]
  },
  {
   "cell_type": "markdown",
   "metadata": {},
   "source": [
    "$$ a(2x^2-3ay)= $$"
   ]
  },
  {
   "cell_type": "markdown",
   "metadata": {},
   "source": [
    "$$ =2ax^2-3a^2y $$"
   ]
  },
  {
   "cell_type": "markdown",
   "metadata": {},
   "source": [
    "* ***Ejemplo:***"
   ]
  },
  {
   "cell_type": "markdown",
   "metadata": {},
   "source": [
    "$$ (2x^2+y^3)(3x^3-4y^2+z) $$"
   ]
  },
  {
   "cell_type": "markdown",
   "metadata": {},
   "source": [
    "$$ =6x^5-8x^2y^2+2x^2z+3x^3y^3-4y^5+y^3z $$"
   ]
  },
  {
   "cell_type": "markdown",
   "metadata": {},
   "source": [
    "* ***Ejemplo:***"
   ]
  },
  {
   "cell_type": "markdown",
   "metadata": {},
   "source": [
    "$$ (4a^4+3a^2b-2b^2)(2a^2-3b) $$"
   ]
  },
  {
   "cell_type": "markdown",
   "metadata": {},
   "source": [
    "$$ =8a^6-12a^4b+6a^4b-9a^2b^2-4a^2b^2+6b^3 $$"
   ]
  },
  {
   "cell_type": "markdown",
   "metadata": {},
   "source": [
    "$$ =8a^6-6a^4b-13a^2b^2+6b^3 $$"
   ]
  },
  {
   "cell_type": "markdown",
   "metadata": {},
   "source": [
    "## Productos notables"
   ]
  },
  {
   "cell_type": "markdown",
   "metadata": {},
   "source": [
    "### Binomio al cuadrado"
   ]
  },
  {
   "cell_type": "markdown",
   "metadata": {},
   "source": [
    "$$ (x+y)^2=(x+y)(x+y)=x^2+2xy+y^2 $$"
   ]
  },
  {
   "cell_type": "markdown",
   "metadata": {},
   "source": [
    "*El resultado del binomio al cuadrado es el trinomio al cuadrado perfecto y es el primer término elevado al cuadrado más el doble del primer término por el segundo término más el segundo término al cuadrado.*"
   ]
  },
  {
   "cell_type": "markdown",
   "metadata": {},
   "source": [
    "* ***Ejemplo:***"
   ]
  },
  {
   "cell_type": "markdown",
   "metadata": {},
   "source": [
    "Multiplicando:"
   ]
  },
  {
   "cell_type": "markdown",
   "metadata": {},
   "source": [
    "$$ (3a^2+5b^3)^2=(3a^2+5b^3)(3a^2+5b^3) $$"
   ]
  },
  {
   "cell_type": "markdown",
   "metadata": {},
   "source": [
    "$$ =9a^4+15a^2b^3+15a^2b^3+25b^6 $$"
   ]
  },
  {
   "cell_type": "markdown",
   "metadata": {},
   "source": [
    "$$ =9a^4+30a^2b^3+25b^6 $$"
   ]
  },
  {
   "cell_type": "markdown",
   "metadata": {},
   "source": [
    "Con receta:"
   ]
  },
  {
   "cell_type": "markdown",
   "metadata": {},
   "source": [
    "$$ (3a^2+5b^3)^2 $$"
   ]
  },
  {
   "cell_type": "markdown",
   "metadata": {},
   "source": [
    "$$ =(3a^2)^2+2(3a^2)(5b^3)+(5b^3)^2 $$"
   ]
  },
  {
   "cell_type": "markdown",
   "metadata": {},
   "source": [
    "$$ =9a^4+30a^2b^3+25b^6 $$"
   ]
  },
  {
   "cell_type": "markdown",
   "metadata": {},
   "source": [
    "*El resultado del binomio al cuadrado es el trinomio al cuadrado perfecto y es el primer término elevado al cuadrado más el doble del primer término por el segundo término más el segundo término al cuadrado.*"
   ]
  },
  {
   "cell_type": "markdown",
   "metadata": {},
   "source": [
    "* ***Ejemplo:***"
   ]
  },
  {
   "cell_type": "markdown",
   "metadata": {},
   "source": [
    "$$ (4x^3y^4+10ax^2y^6)^2 $$"
   ]
  },
  {
   "cell_type": "markdown",
   "metadata": {},
   "source": [
    "$$ =(4x^3y^4)^2+2(4x^3y^4)(10ax^2y^6)+(10ax^2y^6)^2 $$"
   ]
  },
  {
   "cell_type": "markdown",
   "metadata": {},
   "source": [
    "$$ =(4)^2(x^3)^2(y^4)^2+(8x^3y^4)(10ax^2y^6)+(10ax^2y^6)^2 $$"
   ]
  },
  {
   "cell_type": "markdown",
   "metadata": {},
   "source": [
    "$$ =16x^6y^8+80ax^5y^{10}+100a^2x^4y^{12} $$"
   ]
  },
  {
   "cell_type": "markdown",
   "metadata": {},
   "source": [
    "* ***Ejemplo:***"
   ]
  },
  {
   "cell_type": "markdown",
   "metadata": {},
   "source": [
    "$$ (2x-5y)^2 $$"
   ]
  },
  {
   "cell_type": "markdown",
   "metadata": {},
   "source": [
    "$$ =(2x)^2+2(2x)(-5y)+(-5y)^2 $$"
   ]
  },
  {
   "cell_type": "markdown",
   "metadata": {},
   "source": [
    "$$ =4x^2-20xy+25y^2 $$"
   ]
  },
  {
   "cell_type": "markdown",
   "metadata": {},
   "source": [
    "* ***Ejemplo:***"
   ]
  },
  {
   "cell_type": "markdown",
   "metadata": {},
   "source": [
    "$$ \\left(\\dfrac{3}{10}a^{3/4}x^7y^2+\\dfrac{144}{9}a^{5}x^{5/2}y\\right)^2 $$"
   ]
  },
  {
   "cell_type": "markdown",
   "metadata": {},
   "source": [
    "$$ =\\left(\\dfrac{3}{10}a^{3/4}x^7y^2\\right)^2+2\\left(\\dfrac{3}{10}a^{3/4}x^7y^2\\right)\\left(16a^{5}x^{5/2}y\\right)+\\left(16a^{5}x^{5/2}y\\right)^2 $$"
   ]
  },
  {
   "cell_type": "markdown",
   "metadata": {},
   "source": [
    "$$ =\\dfrac{9}{100}a^{3/2}x^{14}y^4+2\\left(\\dfrac{3}{10}a^{3/4}x^7y^2\\right)\\left(\\dfrac{144}{9}a^{5}x^{5/2}y\\right)+\\left(\\dfrac{144}{9}a^{5}x^{5/2}y\\right)^2 $$"
   ]
  }
 ],
 "metadata": {
  "@webio": {
   "lastCommId": null,
   "lastKernelId": null
  },
  "kernelspec": {
   "display_name": "Julia 1.1.0",
   "language": "julia",
   "name": "julia-1.1"
  },
  "language_info": {
   "file_extension": ".jl",
   "mimetype": "application/julia",
   "name": "julia",
   "version": "1.1.0"
  }
 },
 "nbformat": 4,
 "nbformat_minor": 4
}
