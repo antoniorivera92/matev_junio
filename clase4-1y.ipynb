{
 "cells": [
  {
   "cell_type": "markdown",
   "metadata": {},
   "source": [
    "# Funciones para modelar la relación entre variables"
   ]
  },
  {
   "cell_type": "markdown",
   "metadata": {},
   "source": [
    "# Clase 1"
   ]
  },
  {
   "cell_type": "markdown",
   "metadata": {},
   "source": [
    "## Conjuntos"
   ]
  },
  {
   "cell_type": "markdown",
   "metadata": {},
   "source": [
    "Cuando quiero hablar de ciertos números utilizamos *conjuntos*. Los conjuntos son como bolsitas donde sus progenitores suelen guardar cosas."
   ]
  },
  {
   "cell_type": "markdown",
   "metadata": {},
   "source": [
    "Las cosas que están \"dentro de la bolsa\" son los elementos del conjunto."
   ]
  },
  {
   "cell_type": "markdown",
   "metadata": {},
   "source": [
    "Cuando metemos en la bolsita elementos, uno por uno, usamos llaves $\\{\\quad\\}$ y separamos cada elemento por una coma."
   ]
  },
  {
   "cell_type": "markdown",
   "metadata": {},
   "source": [
    "Cuando queremos referirnos a todos los elementos que están entre dos números, usamos paréntesis o corchetes: \n",
    "* $(\\quad)$, se utilizan cuando tengo todos los números que están entre esos dos, sin contar los extremos (a esto también la llamaremos \"abierto\").\n",
    "* $[\\quad]$, se utilizan cuando tengo todos los números que están entre esos dos, incluyendo los extremos (a esto también la llamaremos \"cerrado\")."
   ]
  },
  {
   "cell_type": "markdown",
   "metadata": {},
   "source": [
    "* ***Ejemplo:***"
   ]
  },
  {
   "cell_type": "markdown",
   "metadata": {},
   "source": [
    "$$\\{1,6,8,1000\\}$$"
   ]
  },
  {
   "cell_type": "markdown",
   "metadata": {},
   "source": [
    "*El conjunto de los números que contiene al uno, al seis, al ocho y al mil.*"
   ]
  },
  {
   "cell_type": "markdown",
   "metadata": {},
   "source": [
    "$$ \\circledast $$"
   ]
  },
  {
   "cell_type": "markdown",
   "metadata": {},
   "source": [
    "* ***Ejemplo:***"
   ]
  },
  {
   "cell_type": "markdown",
   "metadata": {},
   "source": [
    "$$(2,4)$$"
   ]
  },
  {
   "cell_type": "markdown",
   "metadata": {},
   "source": [
    "<img src=\"recta1.png\" align=\"middle\" width=\"1000\">"
   ]
  },
  {
   "cell_type": "markdown",
   "metadata": {},
   "source": [
    "*El conjunto de los números después del dos hasta antes del cuatro.*"
   ]
  },
  {
   "cell_type": "markdown",
   "metadata": {},
   "source": [
    "Y dentro del $(2,4)$ se encuentran los números $2.00000001$, $2.5$, $2.75$, $3$, $\\pi$, $3.999999999999$, entre otros."
   ]
  },
  {
   "cell_type": "markdown",
   "metadata": {},
   "source": [
    "Dentro del $(2,4)$ **NO** se encuentran los números $-5$, $-1.75$, $0$, $2$, $4$, entre otros."
   ]
  },
  {
   "cell_type": "markdown",
   "metadata": {},
   "source": [
    "$$ \\circledast $$"
   ]
  },
  {
   "cell_type": "markdown",
   "metadata": {},
   "source": [
    "* ***Ejemplo:***"
   ]
  },
  {
   "cell_type": "markdown",
   "metadata": {},
   "source": [
    "$$[2,4]$$"
   ]
  },
  {
   "cell_type": "markdown",
   "metadata": {},
   "source": [
    "<img src=\"recta1.png\" align=\"middle\" width=\"1000\">"
   ]
  },
  {
   "cell_type": "markdown",
   "metadata": {},
   "source": [
    "*El conjunto de los números desde el dos hasta el cuatro.*"
   ]
  },
  {
   "cell_type": "markdown",
   "metadata": {},
   "source": [
    "Y dentro del $[2,4]$ se encuentran los números $2$, $2.00000001$, $2.5$, $2.75$, $3$, $\\pi$, $3.999999999999$, $4$, entre otros."
   ]
  },
  {
   "cell_type": "markdown",
   "metadata": {},
   "source": [
    "Dentro del $[2,4]$ **NO** se encuentran los números $-5$, $-1.75$, $0$, entre otros."
   ]
  },
  {
   "cell_type": "markdown",
   "metadata": {},
   "source": [
    "$$ \\circledast $$"
   ]
  },
  {
   "cell_type": "markdown",
   "metadata": {},
   "source": [
    "* ***Ejemplo:***"
   ]
  },
  {
   "cell_type": "markdown",
   "metadata": {},
   "source": [
    "$$ \\{2,4\\} $$"
   ]
  },
  {
   "cell_type": "markdown",
   "metadata": {},
   "source": [
    "<img src=\"recta1.png\" align=\"middle\" width=\"1000\">"
   ]
  },
  {
   "cell_type": "markdown",
   "metadata": {},
   "source": [
    "*El conjunto de los números que consiste del dos y del cuatro.*"
   ]
  },
  {
   "cell_type": "markdown",
   "metadata": {},
   "source": [
    "En el conjunto $\\{2,4\\}$ solamente se encuentran el $2$ y el $4$."
   ]
  },
  {
   "cell_type": "markdown",
   "metadata": {},
   "source": [
    "En el conjunto $\\{2,4\\}$ **NO** se encuentra el $3$."
   ]
  },
  {
   "cell_type": "markdown",
   "metadata": {},
   "source": [
    "$$ \\circledast $$"
   ]
  },
  {
   "cell_type": "markdown",
   "metadata": {},
   "source": [
    "Los paréntesis y corchetes se pueden mezclar para un mismo conjunto, manteniendo su significado. Las llaves **NO** las mezlaremos con un paréntesis o un corchete."
   ]
  },
  {
   "cell_type": "markdown",
   "metadata": {},
   "source": [
    "* ***Ejemplo:***"
   ]
  },
  {
   "cell_type": "markdown",
   "metadata": {},
   "source": [
    "$$ (2,4] $$"
   ]
  },
  {
   "cell_type": "markdown",
   "metadata": {},
   "source": [
    "<img src=\"recta1.png\" align=\"middle\" width=\"1000\">"
   ]
  },
  {
   "cell_type": "markdown",
   "metadata": {},
   "source": [
    "*El conjunto de los números después del dos hasta el cuatro.*"
   ]
  },
  {
   "cell_type": "markdown",
   "metadata": {},
   "source": [
    "Y dentro del $(2,4]$ se encuentran los números $2.00000001$, $2.5$, $2.75$, $3$, $\\pi$, $3.999999999999$, $4$, entre otros."
   ]
  },
  {
   "cell_type": "markdown",
   "metadata": {},
   "source": [
    "Dentro del $(2,4]$ **NO** se encuentran los números $-5$, $-1.75$, $0$, $2$, entre otros."
   ]
  },
  {
   "cell_type": "markdown",
   "metadata": {},
   "source": [
    "### Conjuntos importantes"
   ]
  },
  {
   "cell_type": "markdown",
   "metadata": {},
   "source": [
    "Los **naturales** son los números 1, 2, 3, 4, ... :"
   ]
  },
  {
   "cell_type": "markdown",
   "metadata": {},
   "source": [
    "$$ \\mathbb{N}=\\{1,2,3,4,...\\} $$"
   ]
  },
  {
   "cell_type": "markdown",
   "metadata": {},
   "source": [
    "Los **enteros** son los números positivos (1, 2, 3, 4, ...) , también los negativos (-1, -2, -3, -4, ...) y además el cero."
   ]
  },
  {
   "cell_type": "markdown",
   "metadata": {},
   "source": [
    "$$ \\mathbb{Z}=\\{\\dots,-4,-3,-2,-1,0,+1,+2,+3,+4,...\\} $$"
   ]
  },
  {
   "cell_type": "markdown",
   "metadata": {},
   "source": [
    "Los **racionales** son los números que se pueden expresar como fracciones."
   ]
  },
  {
   "cell_type": "markdown",
   "metadata": {},
   "source": [
    "$$ \\mathbb{Q}=\\{...,-\\dfrac{1}{2},\\dfrac{5}{7},\\dfrac{5}{1},...\\} $$"
   ]
  },
  {
   "cell_type": "markdown",
   "metadata": {},
   "source": [
    "Los **reales** son todos los números."
   ]
  },
  {
   "cell_type": "markdown",
   "metadata": {},
   "source": [
    "$$ \\mathbb{R}=\\{...,-1000,1000000,\\dfrac{6}{19},\\pi,\\sqrt{15},...\\} $$"
   ]
  },
  {
   "cell_type": "markdown",
   "metadata": {},
   "source": [
    "$$ \\mathbb{R}=(-\\infty,\\infty)$$"
   ]
  },
  {
   "cell_type": "markdown",
   "metadata": {},
   "source": [
    "Los números reales son *todos los números que se encuentran entre menos infinito e infinito.*"
   ]
  },
  {
   "cell_type": "markdown",
   "metadata": {},
   "source": [
    "### Resta de conjuntos, $-$"
   ]
  },
  {
   "cell_type": "markdown",
   "metadata": {},
   "source": [
    "* ***Ejemplo:*** Mi hermana y su pareja tendrán una hija. Quieren buscar nombres:"
   ]
  },
  {
   "cell_type": "markdown",
   "metadata": {},
   "source": [
    "Mi hermana le quiere poner los siguientes nombres:"
   ]
  },
  {
   "cell_type": "markdown",
   "metadata": {},
   "source": [
    "* Dana\n",
    "* Lizeth\n",
    "* Ana\n",
    "* Tania"
   ]
  },
  {
   "cell_type": "markdown",
   "metadata": {},
   "source": [
    "La pareja de mi hermana le dice a mi hermana que no le gustan los nombres de:"
   ]
  },
  {
   "cell_type": "markdown",
   "metadata": {},
   "source": [
    "* Ana\n",
    "* Tania"
   ]
  },
  {
   "cell_type": "markdown",
   "metadata": {},
   "source": [
    "Esto lo podemos expresar como:"
   ]
  },
  {
   "cell_type": "markdown",
   "metadata": {},
   "source": [
    "$$ \\{\\text{Dana},\\text{Lizeth},\\text{Ana},\\text{Tania}\\}-\\{\\text{Ana},\\text{Tania}\\}=\\{\\text{Dana},\\text{Lizeth}\\} $$"
   ]
  },
  {
   "cell_type": "markdown",
   "metadata": {},
   "source": [
    "* ***Ejemplo:***"
   ]
  },
  {
   "cell_type": "markdown",
   "metadata": {},
   "source": [
    "$$ \\{2,4\\}-\\{4\\}=\\{2\\} $$"
   ]
  },
  {
   "cell_type": "markdown",
   "metadata": {},
   "source": [
    "### Unión de conjuntos, $\\cup$"
   ]
  },
  {
   "cell_type": "markdown",
   "metadata": {},
   "source": [
    "La *unión* de dos conjuntos significa pegar un conjunto con otro. Si un elemento se repite, sólo se deja uno de los dos."
   ]
  },
  {
   "cell_type": "markdown",
   "metadata": {},
   "source": [
    "* ***Ejemplo:*** Expresa la unión de los conjuntos $\\{1,3,4\\}$ y $\\{1,6,7,15\\}$"
   ]
  },
  {
   "cell_type": "markdown",
   "metadata": {},
   "source": [
    "$$ \\{1,3,4\\}\\cup\\{1,6,7,15\\}=\\{1,3,4,6,7,15\\} $$"
   ]
  },
  {
   "cell_type": "markdown",
   "metadata": {},
   "source": [
    "* ***Ejemplo:***"
   ]
  },
  {
   "cell_type": "markdown",
   "metadata": {},
   "source": [
    "$$ (1,4)-\\{3\\}=(1,3)\\cup(3,4) $$"
   ]
  },
  {
   "cell_type": "markdown",
   "metadata": {},
   "source": [
    "<img src=\"recta1.png\" align=\"middle\" width=\"1000\">"
   ]
  },
  {
   "cell_type": "markdown",
   "metadata": {},
   "source": [
    "* ***Ejemplo:***"
   ]
  },
  {
   "cell_type": "markdown",
   "metadata": {},
   "source": [
    "$$ (-3,3)-\\{5\\}=(-3,3) $$"
   ]
  },
  {
   "cell_type": "markdown",
   "metadata": {},
   "source": [
    "<img src=\"recta1.png\" align=\"middle\" width=\"1000\">"
   ]
  },
  {
   "cell_type": "markdown",
   "metadata": {},
   "source": [
    "* ***Ejemplo:***"
   ]
  },
  {
   "cell_type": "markdown",
   "metadata": {},
   "source": [
    "$$ [-1,6]-\\{0\\}=[-1,0)\\cup(0,6] $$"
   ]
  },
  {
   "cell_type": "markdown",
   "metadata": {},
   "source": [
    "<img src=\"recta1.png\" align=\"middle\" width=\"1000\">"
   ]
  },
  {
   "cell_type": "markdown",
   "metadata": {},
   "source": [
    "* ***Ejemplo:*** Expresa la unión de los conjuntos $(-2,1)$ y $[1,3)$"
   ]
  },
  {
   "cell_type": "markdown",
   "metadata": {},
   "source": [
    "<img src=\"recta1.png\" align=\"middle\" width=\"1000\">"
   ]
  },
  {
   "cell_type": "markdown",
   "metadata": {},
   "source": [
    "$$ (-2,1)\\cup[1,3)=(-2,3) $$"
   ]
  },
  {
   "cell_type": "markdown",
   "metadata": {},
   "source": [
    "Todos los números que se encuentran entre el $-2$ y el $3$, sin considerar al $-2$ y al $3$, el $1$ sí."
   ]
  },
  {
   "cell_type": "markdown",
   "metadata": {},
   "source": [
    "* ***Ejemplo:***"
   ]
  },
  {
   "cell_type": "markdown",
   "metadata": {},
   "source": [
    "$$\\{-2,3,5\\}\\cup(-2,3)=\\{5\\}\\cup[-2,3]$$"
   ]
  },
  {
   "cell_type": "markdown",
   "metadata": {},
   "source": [
    "* ***Ejemplo:*** Expresa la unión de los conjuntos $[-2,1]$ y $[1,3]$"
   ]
  },
  {
   "cell_type": "markdown",
   "metadata": {},
   "source": [
    "<img src=\"recta1.png\" align=\"middle\" width=\"1000\">"
   ]
  },
  {
   "cell_type": "markdown",
   "metadata": {},
   "source": [
    "$$ [-2,1]\\cup[1,3]=[-2,3] $$"
   ]
  },
  {
   "cell_type": "markdown",
   "metadata": {},
   "source": [
    "Todos los números que se encuentran entre el $-2$ y el $3$, incluyendo $-2$ y al $3$."
   ]
  },
  {
   "cell_type": "markdown",
   "metadata": {},
   "source": [
    "* ***Ejemplo:*** Expresa la unión de los conjuntos $(-2,1)$ y $(1,3)$"
   ]
  },
  {
   "cell_type": "markdown",
   "metadata": {},
   "source": [
    "<img src=\"recta1.png\" align=\"middle\" width=\"1000\">"
   ]
  },
  {
   "cell_type": "markdown",
   "metadata": {},
   "source": [
    "$$ (-2,1)\\cup(1,3)=(-2,3)-\\{1\\} $$"
   ]
  },
  {
   "cell_type": "markdown",
   "metadata": {},
   "source": [
    "Todos los números que se encuentran entre el $-2$ y el $3$, sin considerar al $-2$ y al $3$, ni el $1$."
   ]
  },
  {
   "cell_type": "markdown",
   "metadata": {},
   "source": [
    "* ***Ejemplo:*** ¿Cómo expresaríamos a todos los números excepto el cero?"
   ]
  },
  {
   "cell_type": "markdown",
   "metadata": {},
   "source": [
    "Todos los números son los reales:"
   ]
  },
  {
   "cell_type": "markdown",
   "metadata": {},
   "source": [
    "$$ \\mathbb{R}=(-\\infty,\\infty) $$"
   ]
  },
  {
   "cell_type": "markdown",
   "metadata": {},
   "source": [
    "A los reales les quito el cero:"
   ]
  },
  {
   "cell_type": "markdown",
   "metadata": {},
   "source": [
    "$$ \\mathbb{R}-\\{0\\}=(-\\infty,0)\\cup(0,\\infty) $$"
   ]
  },
  {
   "cell_type": "markdown",
   "metadata": {},
   "source": [
    "* ***Ejemplo:*** Expresa la unión de los conjuntos $(-2,3)$ y $(0,2)$"
   ]
  },
  {
   "cell_type": "markdown",
   "metadata": {},
   "source": [
    "<img src=\"recta1.png\" align=\"middle\" width=\"1000\">"
   ]
  },
  {
   "cell_type": "markdown",
   "metadata": {},
   "source": [
    "$$ (-2,3)\\cup(0,2)=(-2,3)$$"
   ]
  },
  {
   "cell_type": "markdown",
   "metadata": {},
   "source": [
    "## Desigualdades"
   ]
  },
  {
   "cell_type": "markdown",
   "metadata": {},
   "source": [
    "* \"$<$\" : menor que\n",
    "* \"$>$\" : mayor que"
   ]
  },
  {
   "cell_type": "markdown",
   "metadata": {},
   "source": [
    "*Una primera cosa es mayor que una segunda cosa si esta más a la derecha que la segunda cosa en la recta numérica.*"
   ]
  },
  {
   "cell_type": "markdown",
   "metadata": {},
   "source": [
    "*Una primera cosa es menor que una segunda cosa si esta más a la izquierda que la segunda cosa en la recta numérica.*"
   ]
  },
  {
   "cell_type": "markdown",
   "metadata": {},
   "source": [
    "<img src=\"recta1.png\" align=\"middle\" width=\"1000\">"
   ]
  },
  {
   "cell_type": "markdown",
   "metadata": {},
   "source": [
    "Leeremos de izquierda a derecha:"
   ]
  },
  {
   "cell_type": "markdown",
   "metadata": {},
   "source": [
    "$$ 5>1 $$"
   ]
  },
  {
   "cell_type": "markdown",
   "metadata": {},
   "source": [
    "$$ 2<4 $$"
   ]
  },
  {
   "cell_type": "markdown",
   "metadata": {},
   "source": [
    "$$-5< -1 $$"
   ]
  },
  {
   "cell_type": "markdown",
   "metadata": {},
   "source": [
    "Con variables la situación es muy parecida."
   ]
  },
  {
   "cell_type": "markdown",
   "metadata": {},
   "source": [
    "* ***Ejemplo:*** $$ x<4 $$"
   ]
  },
  {
   "cell_type": "markdown",
   "metadata": {},
   "source": [
    "*\"Todos los números que son menores que el $4$.\"*"
   ]
  },
  {
   "cell_type": "markdown",
   "metadata": {},
   "source": [
    "*\"Todos los números que se encuentren a la izquierda del $4$.\"*"
   ]
  },
  {
   "cell_type": "markdown",
   "metadata": {},
   "source": [
    "*\"Todos los números que se encuentren antes del $4$.\"*"
   ]
  },
  {
   "cell_type": "markdown",
   "metadata": {},
   "source": [
    "$$ (-\\infty,4) $$"
   ]
  },
  {
   "cell_type": "markdown",
   "metadata": {},
   "source": [
    "<img src=\"recta1.png\" align=\"middle\" width=\"1000\">"
   ]
  },
  {
   "cell_type": "markdown",
   "metadata": {},
   "source": [
    "* \"$\\leq$\" : menor o igual que\n",
    "* \"$\\geq$\" : mayor o igual que"
   ]
  },
  {
   "cell_type": "markdown",
   "metadata": {},
   "source": [
    "* ***Ejemplo:*** $$ x\\leq4 $$"
   ]
  },
  {
   "cell_type": "markdown",
   "metadata": {},
   "source": [
    "*\"Todos los números que se encuentren a la izquierda del $4$ o el $4$\"*"
   ]
  },
  {
   "cell_type": "markdown",
   "metadata": {},
   "source": [
    "*\"Todos los números que son menores o iguales a $4$.\"*"
   ]
  },
  {
   "cell_type": "markdown",
   "metadata": {},
   "source": [
    "$$ (-\\infty,4] $$"
   ]
  }
 ],
 "metadata": {
  "kernelspec": {
   "display_name": "Julia 1.1.0",
   "language": "julia",
   "name": "julia-1.1"
  },
  "language_info": {
   "file_extension": ".jl",
   "mimetype": "application/julia",
   "name": "julia",
   "version": "1.1.0"
  }
 },
 "nbformat": 4,
 "nbformat_minor": 4
}
