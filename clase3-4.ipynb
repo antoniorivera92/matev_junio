{
 "cells": [
  {
   "cell_type": "markdown",
   "metadata": {},
   "source": [
    "# Álgebra para analizar objetos geométricos"
   ]
  },
  {
   "cell_type": "markdown",
   "metadata": {},
   "source": [
    "# Clase 4"
   ]
  },
  {
   "cell_type": "markdown",
   "metadata": {},
   "source": [
    "## Paralelismo y perpendicularidad"
   ]
  },
  {
   "cell_type": "markdown",
   "metadata": {},
   "source": [
    "Pensemos que tenemos dos rectas:\n",
    "\n",
    "* Primera recta, $y=m_1x+b_1$\n",
    "* Segunda recta, $y=m_2x+b_2$"
   ]
  },
  {
   "cell_type": "markdown",
   "metadata": {},
   "source": [
    "Estas rectas son paralelas si\n",
    "\n",
    "$$ m_1=m_2 $$"
   ]
  },
  {
   "cell_type": "markdown",
   "metadata": {},
   "source": [
    "Estas rectas son perpendiculares si\n",
    "\n",
    "$$ m_1m_2=-1 $$"
   ]
  },
  {
   "cell_type": "markdown",
   "metadata": {},
   "source": [
    "* ***Ejemplo*** Tenemos la ecuación de la recta $y=6x-2$. Construye otra recta que sea paralela."
   ]
  },
  {
   "cell_type": "markdown",
   "metadata": {},
   "source": [
    "Si quiero otra recta que sea paralela, entonces la ecuación de esta recta tiene que tener pendiente $m=6$."
   ]
  },
  {
   "cell_type": "markdown",
   "metadata": {},
   "source": [
    "$$ y=6x+b $$"
   ]
  },
  {
   "cell_type": "markdown",
   "metadata": {},
   "source": [
    "Puedo tomar cualquier $b$ y seguirá siendo paralela a la ecuación del ejemplo."
   ]
  },
  {
   "cell_type": "markdown",
   "metadata": {},
   "source": [
    "* ***Ejemplo*** Tenemos la ecuación de la recta $y=\\dfrac{3}{2}x-2$. Construye otra recta que sea perpendicular."
   ]
  },
  {
   "cell_type": "markdown",
   "metadata": {},
   "source": [
    "Si quiero otra recta que sea perpendicular, entonces la ecuación de esta recta tiene que tener pendiente $m=-\\dfrac{2}{3}$."
   ]
  },
  {
   "cell_type": "markdown",
   "metadata": {},
   "source": [
    "$$ y=-\\dfrac{2}{3}x+b $$"
   ]
  },
  {
   "cell_type": "markdown",
   "metadata": {},
   "source": [
    "Puedo tomar cualquier $b$ y seguirá siendo paralela a la ecuación del ejemplo."
   ]
  },
  {
   "cell_type": "markdown",
   "metadata": {},
   "source": [
    "*(Básicamente, si queremos la pendiente perpendicular basta con que volteemos la fracción de nuestra pendiente y su signo.)*"
   ]
  },
  {
   "cell_type": "markdown",
   "metadata": {},
   "source": [
    "* ***Ejemplo*** Tenemos la ecuación de la recta $y=6x-2$. Construye otra recta que sea perpendicular."
   ]
  },
  {
   "cell_type": "markdown",
   "metadata": {},
   "source": [
    "Si quiero otra recta que sea perpendicular, entonces la ecuación de esta recta tiene que tener pendiente $m=-\\dfrac{1}{6}$."
   ]
  },
  {
   "cell_type": "markdown",
   "metadata": {},
   "source": [
    "$$ y=-\\dfrac{1}{6}x+b $$"
   ]
  },
  {
   "cell_type": "markdown",
   "metadata": {},
   "source": [
    "Puedo tomar cualquier $b$ y seguirá siendo paralela a la ecuación del ejemplo."
   ]
  },
  {
   "cell_type": "markdown",
   "metadata": {},
   "source": [
    "*(Básicamente, si queremos la pendiente perpendicular basta con que volteemos la fracción de nuestra pendiente y su signo.)*"
   ]
  },
  {
   "cell_type": "markdown",
   "metadata": {},
   "source": [
    "* ***Ejemplo (de excepción):*** Tenemos la ecuación de la recta $y=0$ (recta horizontal). Construye otra recta que sea perpendicular."
   ]
  },
  {
   "cell_type": "markdown",
   "metadata": {},
   "source": [
    "$$ x=0\\ \\text{(recta vertical)} $$"
   ]
  },
  {
   "cell_type": "markdown",
   "metadata": {},
   "source": [
    "* ***Ejemplo (de excepción):*** Tenemos la ecuación de la recta $y=b$ (recta horizontal) con constante. Construye otra recta que sea perpendicular."
   ]
  },
  {
   "cell_type": "markdown",
   "metadata": {},
   "source": [
    "$$ x=a\\ \\text{(recta vertical)} $$"
   ]
  },
  {
   "cell_type": "markdown",
   "metadata": {},
   "source": [
    "### Ángulo entre dos rectas conociendo sus pendientes"
   ]
  },
  {
   "cell_type": "markdown",
   "metadata": {},
   "source": [
    "Para encontrar el ángulo entre dos rectas\n",
    "\n",
    "* primera recta, $y=m_1x+b_1$\n",
    "* segunda recta, $y=m_2x+b_2$\n",
    "\n",
    "utilizamos la fórmula"
   ]
  },
  {
   "cell_type": "markdown",
   "metadata": {},
   "source": [
    "$$ \\theta =\\tan^{-1}\\left(\\dfrac{m_2-m_1}{1+m_2m_1}\\right) $$"
   ]
  },
  {
   "cell_type": "markdown",
   "metadata": {},
   "source": [
    "* ***Ejemplo*** Tenemos dos rectas:\n",
    "    * La primera recta es $x+2y-1=0$\n",
    "    * La segunda recta es $9x-3y+21=0$\n",
    "    \n",
    "    ¿Cuál es el ángulo que se forma entre mis dos rectas?"
   ]
  },
  {
   "cell_type": "markdown",
   "metadata": {},
   "source": [
    "Primero pasamos las rectas a la forma ordenada-pendiente"
   ]
  },
  {
   "cell_type": "markdown",
   "metadata": {},
   "source": [
    "$$x+2y-1=0$$"
   ]
  },
  {
   "cell_type": "markdown",
   "metadata": {},
   "source": [
    "$$ 2y=1-x $$"
   ]
  },
  {
   "cell_type": "markdown",
   "metadata": {},
   "source": [
    "$$ y=\\dfrac{1-x}{2} $$"
   ]
  },
  {
   "cell_type": "markdown",
   "metadata": {},
   "source": [
    "$$ y=\\dfrac{1}{2}-\\dfrac{x}{2} $$"
   ]
  },
  {
   "cell_type": "markdown",
   "metadata": {},
   "source": [
    "$m_1=-\\dfrac{1}{2}$, $b_1=\\dfrac{1}{2}$"
   ]
  },
  {
   "cell_type": "markdown",
   "metadata": {},
   "source": [
    "$$9x-3y+21=0$$"
   ]
  },
  {
   "cell_type": "markdown",
   "metadata": {},
   "source": [
    "$$-3y=-9x-21$$"
   ]
  },
  {
   "cell_type": "markdown",
   "metadata": {},
   "source": [
    "$$y=\\dfrac{-9x-21}{-3}$$"
   ]
  },
  {
   "cell_type": "markdown",
   "metadata": {},
   "source": [
    "$$y=\\dfrac{9x}{3}+\\dfrac{21}{3}$$"
   ]
  },
  {
   "cell_type": "markdown",
   "metadata": {},
   "source": [
    "$$y=3x+7$$"
   ]
  },
  {
   "cell_type": "markdown",
   "metadata": {},
   "source": [
    "$m_2=3$, $b_2=7$"
   ]
  },
  {
   "cell_type": "markdown",
   "metadata": {},
   "source": [
    "$$ \\theta =\\tan^{-1}\\left(\\dfrac{m_2-m_1}{1+m_2m_1}\\right) $$"
   ]
  },
  {
   "cell_type": "markdown",
   "metadata": {},
   "source": [
    "$$ =\\tan^{-1}\\left(\\dfrac{(3)-\\left(-\\dfrac{1}{2}\\right)}{1+(3)\\left(-\\dfrac{1}{2}\\right)}\\right) $$"
   ]
  },
  {
   "cell_type": "code",
   "execution_count": 1,
   "metadata": {},
   "outputs": [
    {
     "data": {
      "text/plain": [
       "3.5"
      ]
     },
     "execution_count": 1,
     "metadata": {},
     "output_type": "execute_result"
    }
   ],
   "source": [
    "3-(-1/2)"
   ]
  },
  {
   "cell_type": "code",
   "execution_count": 2,
   "metadata": {},
   "outputs": [
    {
     "data": {
      "text/plain": [
       "-0.5"
      ]
     },
     "execution_count": 2,
     "metadata": {},
     "output_type": "execute_result"
    }
   ],
   "source": [
    "1+(3)(-1/2)"
   ]
  },
  {
   "cell_type": "code",
   "execution_count": 3,
   "metadata": {},
   "outputs": [
    {
     "data": {
      "text/plain": [
       "-7.0"
      ]
     },
     "execution_count": 3,
     "metadata": {},
     "output_type": "execute_result"
    }
   ],
   "source": [
    "3.5/(-0.5)"
   ]
  },
  {
   "cell_type": "code",
   "execution_count": 6,
   "metadata": {},
   "outputs": [
    {
     "data": {
      "text/plain": [
       "-81.86989764584403"
      ]
     },
     "execution_count": 6,
     "metadata": {},
     "output_type": "execute_result"
    }
   ],
   "source": [
    "atand(-7)"
   ]
  },
  {
   "cell_type": "markdown",
   "metadata": {},
   "source": [
    "Entonces, el ángulo agudo entre las dos rectas es $81.87^\\circ$"
   ]
  },
  {
   "cell_type": "markdown",
   "metadata": {},
   "source": [
    "Entonces, el ángulo obtuso entre las dos rectas es $98.13^\\circ$"
   ]
  },
  {
   "cell_type": "markdown",
   "metadata": {},
   "source": [
    "## Distancia de un punto a una recta"
   ]
  },
  {
   "cell_type": "markdown",
   "metadata": {},
   "source": [
    "Supongamos que tenemos una recta en su forma general\n",
    "$$ Ax+By+C=0 $$"
   ]
  },
  {
   "cell_type": "markdown",
   "metadata": {},
   "source": [
    "Pensemos que tenemos un punto $P(x_0,y_0)$"
   ]
  },
  {
   "cell_type": "markdown",
   "metadata": {},
   "source": [
    "La distancia entre el punto y la recta es"
   ]
  },
  {
   "cell_type": "markdown",
   "metadata": {},
   "source": [
    "$$ d=\\dfrac{|Ax_0+By_0+C|}{\\sqrt{A^2+B^2}} $$"
   ]
  },
  {
   "cell_type": "markdown",
   "metadata": {},
   "source": [
    "**Reglas:**\n",
    "1. Si me dan la ecuación de la recta en la forma ordenada-pendiente tengo que pasarla a su forma general. Si me la dan en la forma general vamos al siguiente paso\n",
    "2. Señalamos cuánto valen los coeficientes de la recta en su forma general\n",
    "3. Sustituimos las coordenadas del punto $P(x_0,y_0)$ en la forma general de la ecuación de la recta y evaluamos.\n",
    "\n",
    "    Nota: Las líneas verticales en la fórmula significa *valor absoluto*, es decir, el valor que obtengamos lo mantemos positivo."
   ]
  },
  {
   "cell_type": "markdown",
   "metadata": {},
   "source": [
    "* ***Ejemplo:*** Tenemos la recta $y=x+2$ y los puntos $P(1,1)$ y $Q(2,4)$. \n",
    "    \n",
    "    (a) ¿Cuál es la distancia entre la recta y el punto $P$?\n",
    "    \n",
    "    (b) ¿Cuál es la distancia entre la recta y el punto $Q$?"
   ]
  },
  {
   "cell_type": "markdown",
   "metadata": {},
   "source": [
    "$$ y=x+2 $$"
   ]
  },
  {
   "cell_type": "markdown",
   "metadata": {},
   "source": [
    "$$ -x+y-2=0 $$"
   ]
  },
  {
   "cell_type": "markdown",
   "metadata": {},
   "source": [
    "$A=-1$, $B=1$, $C=-2$"
   ]
  },
  {
   "cell_type": "markdown",
   "metadata": {},
   "source": [
    "Para la distancia respecto al punto $P$ tendremos"
   ]
  },
  {
   "cell_type": "markdown",
   "metadata": {},
   "source": [
    "$$ d=\\dfrac{|Ax_0+By_0+C|}{\\sqrt{A^2+B^2}} $$"
   ]
  },
  {
   "cell_type": "markdown",
   "metadata": {},
   "source": [
    "$$ =\\dfrac{|(-1)(1)+(1)(1)+(-2)|}{\\sqrt{(-1)^2+(1)^2}} $$"
   ]
  },
  {
   "cell_type": "markdown",
   "metadata": {},
   "source": [
    "$$ =\\dfrac{|-1+1-2|}{\\sqrt{1+1}} $$"
   ]
  },
  {
   "cell_type": "markdown",
   "metadata": {},
   "source": [
    "$$ =\\dfrac{|-2|}{\\sqrt{2}} $$"
   ]
  },
  {
   "cell_type": "markdown",
   "metadata": {},
   "source": [
    "$$ =\\dfrac{2}{\\sqrt{2}}=\\sqrt{2} $$"
   ]
  },
  {
   "cell_type": "markdown",
   "metadata": {},
   "source": [
    "Para la distancia respecto al punto $Q$ tendremos"
   ]
  },
  {
   "cell_type": "markdown",
   "metadata": {},
   "source": [
    "$$ d=\\dfrac{|Ax_0+By_0+C|}{\\sqrt{A^2+B^2}} $$"
   ]
  },
  {
   "cell_type": "markdown",
   "metadata": {},
   "source": [
    "$$ =\\dfrac{|(-1)(2)+(1)(4)+(-2)|}{\\sqrt{(-1)^2+(1)^2}} $$"
   ]
  },
  {
   "cell_type": "markdown",
   "metadata": {},
   "source": [
    "$$ =\\dfrac{|-2+4-2|}{\\sqrt{1+1}} $$"
   ]
  },
  {
   "cell_type": "markdown",
   "metadata": {},
   "source": [
    "$$ =\\dfrac{|0|}{\\sqrt{2}}=0 $$"
   ]
  },
  {
   "cell_type": "markdown",
   "metadata": {},
   "source": [
    "*\"Cualquier punto que se encuentre sobre mi recta, tiene una distancia cero a esa recta.\"*"
   ]
  },
  {
   "cell_type": "markdown",
   "metadata": {},
   "source": [
    "## El área de cualquier triángulo"
   ]
  },
  {
   "cell_type": "markdown",
   "metadata": {},
   "source": [
    "### El área conociendo tres lados (Fórmula de Herón)"
   ]
  },
  {
   "cell_type": "markdown",
   "metadata": {},
   "source": [
    "<img src=\"triangulo.png\" align=\"middle\" width=\"300\">"
   ]
  },
  {
   "cell_type": "markdown",
   "metadata": {},
   "source": [
    "$$ \\text{Area}=\\sqrt {s\\left(s-a\\right)\\left(s-b\\right)\\left(s-c\\right)}\\ ,$$"
   ]
  },
  {
   "cell_type": "markdown",
   "metadata": {},
   "source": [
    "donde $s=\\dfrac{a+b+c}{2}=\\dfrac{P}{2}$ es el semiperímetro (la mitad del perímetro)."
   ]
  },
  {
   "cell_type": "markdown",
   "metadata": {},
   "source": [
    "## Rectas importantes en un triángulo"
   ]
  },
  {
   "cell_type": "markdown",
   "metadata": {},
   "source": [
    "* *Mediana*: la recta que va del vértice al punto medio del cateto opuesto. El punto donde se unen las medianas se conoce como *baricentro*."
   ]
  },
  {
   "cell_type": "markdown",
   "metadata": {},
   "source": [
    "<img src=\"baricentro.png\" align=\"middle\" width=\"400\">"
   ]
  },
  {
   "cell_type": "markdown",
   "metadata": {},
   "source": [
    "* *Mediatriz*: la recta perpendicular al cateto y que pasa por el punto medio de éste. El punto donde se unen las mediatrices se conoce como *circuncentro*."
   ]
  },
  {
   "cell_type": "markdown",
   "metadata": {},
   "source": [
    "<img src=\"circuncentro.png\" align=\"middle\" width=\"400\">"
   ]
  },
  {
   "cell_type": "markdown",
   "metadata": {},
   "source": [
    "* *Altura*: la recta perpendicular que pasa por el vértice. El punto donde se unen las alturas se conoce como *ortocentro*."
   ]
  },
  {
   "cell_type": "markdown",
   "metadata": {},
   "source": [
    "<img src=\"ortocentro.png\" align=\"middle\" width=\"400\">"
   ]
  },
  {
   "cell_type": "markdown",
   "metadata": {},
   "source": [
    "* *Recta de Euler*: es una recta que, sin importar el triángulo del que se trate, pasa por el baricentro, circuncentro y ortocentro de dicho triángulo."
   ]
  },
  {
   "cell_type": "markdown",
   "metadata": {},
   "source": [
    "<img src=\"euler.png\" align=\"middle\" width=\"400\">"
   ]
  },
  {
   "cell_type": "markdown",
   "metadata": {},
   "source": [
    "**Propiedades:**\n",
    "* En un triángulo equilátero el baricentro, el circuncentro y el ortocentro coinciden en el mismo punto."
   ]
  },
  {
   "cell_type": "markdown",
   "metadata": {},
   "source": [
    "Si tenemos un triángulo con vértices $A(x_1,y_1)$, $B(x_2,y_2)$, y $C(x_3,y_3)$, las coordenadas del"
   ]
  },
  {
   "cell_type": "markdown",
   "metadata": {},
   "source": [
    "* baricentro son $(x_b,y_b)$, donde"
   ]
  },
  {
   "cell_type": "markdown",
   "metadata": {},
   "source": [
    "\\begin{align*}\n",
    "x_b=\\dfrac{x_1+x_2+x_3}{3}\\\\\n",
    "y_b=\\dfrac{y_1+y_2+y_3}{3}\n",
    "\\end{align*}"
   ]
  },
  {
   "cell_type": "markdown",
   "metadata": {},
   "source": [
    "* circuncentro son $(x_c,y_c)$, donde"
   ]
  },
  {
   "cell_type": "markdown",
   "metadata": {},
   "source": [
    "$$ x_c=\\frac{x_1 \\sin(2A)+ x_2 \\sin(2B) + x_3 \\sin(2C)}{\\sin(2A)+\\sin(2B)+ \\sin (2C)} $$"
   ]
  },
  {
   "cell_type": "markdown",
   "metadata": {},
   "source": [
    "$$ y_c=\\frac{y_1 \\sin(2A)+ y_2 \\sin(2B) + y_3 \\sin(2C)}{\\sin(2A)+\\sin(2B)+ \\sin (2C)} $$"
   ]
  },
  {
   "cell_type": "markdown",
   "metadata": {},
   "source": [
    "y $A$, $B$, y $C$ son los ángulos en los vértices."
   ]
  },
  {
   "cell_type": "markdown",
   "metadata": {},
   "source": [
    "* ortocentro son $(x_o,y_o)$, donde"
   ]
  },
  {
   "cell_type": "markdown",
   "metadata": {},
   "source": [
    "\\begin{align*}\n",
    "x_o=\\dfrac{[x_2(x_1-x_3)+y_2(y_1-y_3)](y_3-y_2)-(y_3-y_1)[x_1(x_2-x_3)+y_1(y_2-y_3)]}{(x_3-x_2)(y_3-y_1)-(y_3-y_2)(x_3-x_1)}\\\\\n",
    "y_o=\\dfrac{[x_2(x_1-x_3)+y_2(y_1-y_3)](x_3-x_2)-(x_3-x_1)[x_1(x_2-x_3)+y_1(y_2-y_3)]}{(y_3-y_2)(x_3-x_1)-(x_3-x_2)(y_3-y_1)}\n",
    "\\end{align*}"
   ]
  },
  {
   "cell_type": "markdown",
   "metadata": {},
   "source": [
    "* ***Ejemplo:*** Consideremos un triángulo con vértices $A(-6,10)$, $B(8,6)$, y $C(8,-1)$.\n",
    "  * Encuentra la ecuación de la recta que pasa por cada lado del triángulo.\n",
    "  * Calcula el perímetro del triángulo.\n",
    "  * Encuentra los ángulos internos del triángulo mediante ángulo entre pendientes.\n",
    "  * Calcula el área del triángulo.\n",
    "  * Encuentra la ecuación de todas las medianas del triángulo.\n",
    "  * Obtén las coordenadas del baricentro (usando intersección de medianas).\n",
    "  * Encuentra la ecuación de todas las mediatrices del triángulo.\n",
    "  * Obtén las coordenadas del circuncentro (usando intersección de mediatrices).\n",
    "  * Encuentra la ecuación de todas las alturas del triángulo.\n",
    "  * Obtén las coordenadas del ortocentro (usando intersección de alturas).\n",
    "  * Encuentra la ecuación de la recta de Euler.\n",
    "  * Corrobora tus resultados con `Desmos`."
   ]
  },
  {
   "cell_type": "markdown",
   "metadata": {},
   "source": [
    "<img src=\"triangulo_euler.png\" align=\"middle\" width=\"500\">"
   ]
  },
  {
   "cell_type": "markdown",
   "metadata": {},
   "source": [
    "* Encuentra la ecuación de la recta que pasa por cada lado del triángulo."
   ]
  },
  {
   "cell_type": "markdown",
   "metadata": {},
   "source": [
    " $A(-6,10)$, $B(8,6)$, y $C(8,-1)$"
   ]
  },
  {
   "cell_type": "markdown",
   "metadata": {},
   "source": [
    "Ecuación de la recta que pasa por $A$ y $B$"
   ]
  },
  {
   "cell_type": "markdown",
   "metadata": {},
   "source": [
    "$$ y=mx+b $$"
   ]
  },
  {
   "cell_type": "markdown",
   "metadata": {},
   "source": [
    "$$ m=\\dfrac{y_2-y_1}{x_2-x_1} $$"
   ]
  },
  {
   "cell_type": "markdown",
   "metadata": {},
   "source": [
    "$$ =\\dfrac{(6)-(10)}{(8)-(-6)}=\\dfrac{-4}{14}=-\\dfrac{2}{7} $$"
   ]
  },
  {
   "cell_type": "markdown",
   "metadata": {},
   "source": [
    "$$ b=y-mx=(10)-\\left(-\\dfrac{2}{7}\\right)(-6)=10-\\dfrac{12}{7}=\\dfrac{58}{7} $$"
   ]
  },
  {
   "cell_type": "markdown",
   "metadata": {},
   "source": [
    "$$ y=-\\dfrac{2}{7}x+\\dfrac{58}{7} $$"
   ]
  },
  {
   "cell_type": "markdown",
   "metadata": {},
   "source": [
    "https://www.desmos.com/calculator/ydpjmd53ik"
   ]
  },
  {
   "cell_type": "markdown",
   "metadata": {},
   "source": [
    "$ $"
   ]
  },
  {
   "cell_type": "markdown",
   "metadata": {},
   "source": [
    "$ $"
   ]
  },
  {
   "cell_type": "markdown",
   "metadata": {},
   "source": [
    "$ $"
   ]
  },
  {
   "cell_type": "markdown",
   "metadata": {},
   "source": [
    "$ $"
   ]
  },
  {
   "cell_type": "markdown",
   "metadata": {},
   "source": [
    "$ $"
   ]
  },
  {
   "cell_type": "markdown",
   "metadata": {},
   "source": [
    "$ $"
   ]
  },
  {
   "cell_type": "markdown",
   "metadata": {},
   "source": [
    "$ $"
   ]
  },
  {
   "cell_type": "markdown",
   "metadata": {},
   "source": [
    "$ $"
   ]
  },
  {
   "cell_type": "markdown",
   "metadata": {},
   "source": [
    "$ $"
   ]
  },
  {
   "cell_type": "markdown",
   "metadata": {},
   "source": [
    "$ $"
   ]
  },
  {
   "cell_type": "markdown",
   "metadata": {},
   "source": [
    "$ $"
   ]
  },
  {
   "cell_type": "markdown",
   "metadata": {},
   "source": [
    "$ $"
   ]
  },
  {
   "cell_type": "markdown",
   "metadata": {},
   "source": [
    "$ $"
   ]
  },
  {
   "cell_type": "markdown",
   "metadata": {},
   "source": [
    "$ $"
   ]
  },
  {
   "cell_type": "markdown",
   "metadata": {},
   "source": [
    "$ $"
   ]
  },
  {
   "cell_type": "markdown",
   "metadata": {},
   "source": [
    "$ $"
   ]
  },
  {
   "cell_type": "markdown",
   "metadata": {},
   "source": [
    "https://www.desmos.com/calculator/wtivsqoik1"
   ]
  },
  {
   "cell_type": "markdown",
   "metadata": {},
   "source": [
    "## Cónicas"
   ]
  },
  {
   "cell_type": "markdown",
   "metadata": {},
   "source": [
    "Las cónicas son:\n",
    "* circunferencia\n",
    "* elipse\n",
    "* parábola\n",
    "* hipérbola"
   ]
  },
  {
   "cell_type": "markdown",
   "metadata": {},
   "source": [
    "<img src=\"conicas.png\" align=\"middle\" width=\"700\">"
   ]
  },
  {
   "cell_type": "markdown",
   "metadata": {},
   "source": [
    "<img src=\"conic_sections.gif\" align=\"middle\" width=\"700\">"
   ]
  },
  {
   "cell_type": "markdown",
   "metadata": {},
   "source": [
    "<img src=\"conics_wolfram.gif\" align=\"middle\" width=\"500\">"
   ]
  },
  {
   "cell_type": "markdown",
   "metadata": {},
   "source": [
    "### Ecuación general de segundo grado"
   ]
  },
  {
   "cell_type": "markdown",
   "metadata": {},
   "source": [
    "La ecuación general de las cónicas es:"
   ]
  },
  {
   "cell_type": "markdown",
   "metadata": {},
   "source": [
    "$$ Ax^2+Bxy+Cy^2+Dx+Ey+F=0 $$"
   ]
  },
  {
   "cell_type": "markdown",
   "metadata": {},
   "source": [
    "### Criterios para distinguir la cónica a partir de la ecuación de segundo grado"
   ]
  },
  {
   "cell_type": "markdown",
   "metadata": {},
   "source": [
    "Cuando $B=0$ tendremos una:\n",
    "* circunferencia si $A=C$\n",
    "* parábola si $A=0$ ó $C=0$\n",
    "* elipse si $A\\neq C$ pero del mismo signo\n",
    "* hiperbola si $A$ y $C$ tienen signos contrarios"
   ]
  },
  {
   "cell_type": "markdown",
   "metadata": {},
   "source": [
    "$$ Ax^2+Cy^2+Dx+Ey+F=0 $$"
   ]
  },
  {
   "cell_type": "markdown",
   "metadata": {},
   "source": [
    "$ $"
   ]
  },
  {
   "cell_type": "markdown",
   "metadata": {},
   "source": [
    "$ $"
   ]
  },
  {
   "cell_type": "markdown",
   "metadata": {},
   "source": [
    "$ $"
   ]
  },
  {
   "cell_type": "markdown",
   "metadata": {},
   "source": [
    "$ $"
   ]
  },
  {
   "cell_type": "markdown",
   "metadata": {},
   "source": [
    "$ $"
   ]
  },
  {
   "cell_type": "markdown",
   "metadata": {},
   "source": [
    "$ $"
   ]
  },
  {
   "cell_type": "markdown",
   "metadata": {},
   "source": [
    "$ $"
   ]
  },
  {
   "cell_type": "markdown",
   "metadata": {},
   "source": [
    "$ $"
   ]
  },
  {
   "cell_type": "markdown",
   "metadata": {},
   "source": [
    "$ $"
   ]
  },
  {
   "cell_type": "markdown",
   "metadata": {},
   "source": [
    "$ $"
   ]
  },
  {
   "cell_type": "markdown",
   "metadata": {},
   "source": [
    "$ $"
   ]
  },
  {
   "cell_type": "markdown",
   "metadata": {},
   "source": [
    "$ $"
   ]
  },
  {
   "cell_type": "markdown",
   "metadata": {},
   "source": [
    "$ $"
   ]
  },
  {
   "cell_type": "markdown",
   "metadata": {},
   "source": [
    "$ $"
   ]
  },
  {
   "cell_type": "markdown",
   "metadata": {},
   "source": [
    "$ $"
   ]
  },
  {
   "cell_type": "markdown",
   "metadata": {},
   "source": [
    "$ $"
   ]
  },
  {
   "cell_type": "markdown",
   "metadata": {},
   "source": [
    "$ $"
   ]
  },
  {
   "cell_type": "markdown",
   "metadata": {},
   "source": [
    "* ***Ejemplo:*** ¿Cuál cónica representa la ecuación $2x^2+2y^2=7$?"
   ]
  },
  {
   "cell_type": "markdown",
   "metadata": {},
   "source": [
    "$$  2x^2+2y^2-7=0 $$"
   ]
  },
  {
   "cell_type": "markdown",
   "metadata": {},
   "source": [
    "$$ Ax^2+Bxy+Cy^2+Dx+Ey+F=0 $$"
   ]
  },
  {
   "cell_type": "markdown",
   "metadata": {},
   "source": [
    "$A=$, $B=$, $C=$, $D=$, $E=$, $F=$"
   ]
  },
  {
   "cell_type": "markdown",
   "metadata": {},
   "source": [
    "Como $A$ y $C$"
   ]
  },
  {
   "cell_type": "markdown",
   "metadata": {},
   "source": [
    "* ***Ejemplo:*** ¿Cuál cónica representa la ecuación $y^2=1+x^2$?"
   ]
  },
  {
   "cell_type": "markdown",
   "metadata": {},
   "source": [
    "$A=$, $B=$, $C=$, $D=$, $E=$, $F=$"
   ]
  },
  {
   "cell_type": "markdown",
   "metadata": {},
   "source": [
    "* ***Ejemplo:*** ¿Cuál cónica representa la ecuación $x^2=8y$?"
   ]
  },
  {
   "cell_type": "markdown",
   "metadata": {},
   "source": [
    "$$  x^2-8y=0 $$"
   ]
  },
  {
   "cell_type": "markdown",
   "metadata": {},
   "source": [
    "$$ Ax^2+Bxy+Cy^2+Dx+Ey+F=0 $$"
   ]
  },
  {
   "cell_type": "markdown",
   "metadata": {},
   "source": [
    "$A=$, $B=$, $C=$, $D=$, $E=$, $F=$"
   ]
  },
  {
   "cell_type": "markdown",
   "metadata": {},
   "source": [
    "Como $C=$..."
   ]
  },
  {
   "cell_type": "markdown",
   "metadata": {},
   "source": [
    "* ***Ejemplo:*** ¿Cuál cónica representa la ecuación $1=\\dfrac{12-4y^2}{3x^2}$?"
   ]
  },
  {
   "cell_type": "markdown",
   "metadata": {},
   "source": [
    "$ $"
   ]
  },
  {
   "cell_type": "markdown",
   "metadata": {},
   "source": [
    "$$ Ax^2+Bxy+Cy^2+Dx+Ey+F=0 $$"
   ]
  },
  {
   "cell_type": "markdown",
   "metadata": {},
   "source": [
    "$A=$, $B=$, $C=$"
   ]
  },
  {
   "cell_type": "markdown",
   "metadata": {},
   "source": [
    "Como $A$ y $C$ ..."
   ]
  },
  {
   "cell_type": "markdown",
   "metadata": {},
   "source": [
    "**¿Qué pasa cuando $B$ no es cero?**\n",
    "\n",
    "Llamamos a $I=B^2-4AC$ el indicador.\n",
    "\n",
    "Entonces, cuando $B\\neq0$ ($B$ significa que la figura está rotada) tendremos una:\n",
    "* parábola si $I=0$\n",
    "* elipse si $I<0$\n",
    "* hiperbola si $I>0$"
   ]
  },
  {
   "cell_type": "markdown",
   "metadata": {},
   "source": [
    "$ $"
   ]
  },
  {
   "cell_type": "markdown",
   "metadata": {},
   "source": [
    "$ $"
   ]
  },
  {
   "cell_type": "markdown",
   "metadata": {},
   "source": [
    "$ $"
   ]
  },
  {
   "cell_type": "markdown",
   "metadata": {},
   "source": [
    "$ $"
   ]
  },
  {
   "cell_type": "markdown",
   "metadata": {},
   "source": [
    "$ $"
   ]
  },
  {
   "cell_type": "markdown",
   "metadata": {},
   "source": [
    "$ $"
   ]
  },
  {
   "cell_type": "markdown",
   "metadata": {},
   "source": [
    "$ $"
   ]
  },
  {
   "cell_type": "markdown",
   "metadata": {},
   "source": [
    "$ $"
   ]
  },
  {
   "cell_type": "markdown",
   "metadata": {},
   "source": [
    "$ $"
   ]
  },
  {
   "cell_type": "markdown",
   "metadata": {},
   "source": [
    "$ $"
   ]
  },
  {
   "cell_type": "markdown",
   "metadata": {},
   "source": [
    "$ $"
   ]
  },
  {
   "cell_type": "markdown",
   "metadata": {},
   "source": [
    "$ $"
   ]
  },
  {
   "cell_type": "markdown",
   "metadata": {},
   "source": [
    "$ $"
   ]
  },
  {
   "cell_type": "markdown",
   "metadata": {},
   "source": [
    "$ $"
   ]
  },
  {
   "cell_type": "markdown",
   "metadata": {},
   "source": [
    "$ $"
   ]
  },
  {
   "cell_type": "markdown",
   "metadata": {},
   "source": [
    "$ $"
   ]
  },
  {
   "cell_type": "markdown",
   "metadata": {},
   "source": [
    "$ $"
   ]
  },
  {
   "cell_type": "markdown",
   "metadata": {},
   "source": [
    "* ***Ejemplo:*** ¿Cuál cónica representa la ecuación $2x^2-4xy+2y^2-40x+20y=0$?"
   ]
  },
  {
   "cell_type": "markdown",
   "metadata": {},
   "source": [
    "$$ Ax^2+Bxy+Cy^2+Dx+Ey+F=0 $$"
   ]
  },
  {
   "cell_type": "markdown",
   "metadata": {},
   "source": [
    "$A=$, $B=$ ,$C=$"
   ]
  },
  {
   "cell_type": "markdown",
   "metadata": {},
   "source": [
    "$$ I= $$"
   ]
  },
  {
   "cell_type": "markdown",
   "metadata": {},
   "source": [
    "Como el indicador es ______, se trata de una ______."
   ]
  },
  {
   "cell_type": "markdown",
   "metadata": {},
   "source": [
    "* ***Ejemplo:*** ¿Cuál cónica representa la ecuación $3x^2+2xy+3y^2-8y-2=0$?"
   ]
  },
  {
   "cell_type": "markdown",
   "metadata": {},
   "source": [
    "$$ Ax^2+Bxy+Cy^2+Dx+Ey+F=0 $$"
   ]
  },
  {
   "cell_type": "markdown",
   "metadata": {},
   "source": [
    "$A=$, $B=$, $C=$"
   ]
  },
  {
   "cell_type": "markdown",
   "metadata": {},
   "source": [
    "$$ I= $$"
   ]
  },
  {
   "cell_type": "markdown",
   "metadata": {},
   "source": [
    "Como el indicador es ______, se trata de una ______."
   ]
  }
 ],
 "metadata": {
  "kernelspec": {
   "display_name": "Julia 1.1.0",
   "language": "julia",
   "name": "julia-1.1"
  },
  "language_info": {
   "file_extension": ".jl",
   "mimetype": "application/julia",
   "name": "julia",
   "version": "1.1.0"
  }
 },
 "nbformat": 4,
 "nbformat_minor": 4
}
