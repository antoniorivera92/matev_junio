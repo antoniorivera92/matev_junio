{
 "cells": [
  {
   "cell_type": "markdown",
   "metadata": {},
   "source": [
    "# Estadística para interpretar grandes cantidades de datos"
   ]
  },
  {
   "cell_type": "markdown",
   "metadata": {},
   "source": [
    "# Clase 3"
   ]
  },
  {
   "cell_type": "code",
   "execution_count": 1,
   "metadata": {},
   "outputs": [],
   "source": [
    "using Plots\n",
    "pyplot()\n",
    "using Statistics\n",
    "plot([1, 2], [1, 2]);"
   ]
  },
  {
   "cell_type": "markdown",
   "metadata": {},
   "source": [
    "* ***Ejemplo:*** En el equipo varonil de fútbol americano de la UNAM se obtuvieron las estaturas de 16 miembros (en metros):"
   ]
  },
  {
   "cell_type": "markdown",
   "metadata": {},
   "source": [
    "Obtengamos las medidas de tendencia central."
   ]
  },
  {
   "cell_type": "markdown",
   "metadata": {},
   "source": [
    "| $x_i$ | $f_i$ | $p_i$  | $F_i$ | $P_i$  |\n",
    "|-------|-------|--------|-------|--------|\n",
    "| 1.52  | 2     | 0.1250 | 2     | 0.1250 |\n",
    "| 1.53  | 2     | 0.1250 | 4     | 0.2500 |\n",
    "| 1.57  | 1     | 0.0625 | 5     | 0.3125 |\n",
    "| 1.58  | 2     | 0.1250 | 7     | 0.4375 |\n",
    "| 1.64  | 3     | 0.1875 | 10    | 0.6250 |\n",
    "| 1.66  | 2     | 0.1250 | 12    | 0.7500 |\n",
    "| 1.70  | 1     | 0.0625 | 13    | 0.8125 |\n",
    "| 1.74  | 1     | 0.0625 | 14    | 0.8750 |\n",
    "| 1.76  | 1     | 0.0625 | 15    | 0.9375 |\n",
    "| 1.79  | 1     | 0.0625 | 16    | 1.0000 |\n",
    "| Total | 16    | 1.0000 | $ $   | $ $    |"
   ]
  },
  {
   "cell_type": "markdown",
   "metadata": {},
   "source": [
    "La moda es"
   ]
  },
  {
   "cell_type": "markdown",
   "metadata": {},
   "source": [
    "$$ {\\rm{Mo}}=1.64\\ \\rm{m} $$"
   ]
  },
  {
   "cell_type": "markdown",
   "metadata": {},
   "source": [
    "Para obtener la mediana me tengo que fijar en los datos de en medio. Como el número de datos es par, tengo que fijarme en los datos que se encuentran en las posiciones:\n",
    "* $\\dfrac{n}{2}=\\dfrac{16}{2}=8\\ ,$ y\n",
    "* $\\dfrac{n}{2}+1=\\dfrac{16}{2}+1=9$"
   ]
  },
  {
   "cell_type": "markdown",
   "metadata": {},
   "source": [
    "Gracias a mi distribución de frecuencias, reconozco rápidamente (de la columna de frecuencias acumuladas $F_i$) que el octavo y noveno dato son 1.64 m"
   ]
  },
  {
   "cell_type": "markdown",
   "metadata": {},
   "source": [
    "La mediana es"
   ]
  },
  {
   "cell_type": "markdown",
   "metadata": {},
   "source": [
    "$$ \\tilde{x}=\\dfrac{1.64+1.64}{2}=1.64 $$"
   ]
  },
  {
   "cell_type": "markdown",
   "metadata": {},
   "source": [
    "$$ \\circledast $$"
   ]
  },
  {
   "cell_type": "markdown",
   "metadata": {},
   "source": [
    "### Media aritmética (otra vez)"
   ]
  },
  {
   "cell_type": "markdown",
   "metadata": {},
   "source": [
    "Obtener la media arimética, cuando se tiene una distribución de frecuencias, puede ser más simple:"
   ]
  },
  {
   "cell_type": "markdown",
   "metadata": {},
   "source": [
    "$$ \\bar{x}=\\frac{\\sum_{i=1}^{m}f_i\\cdot x_i}{n} $$"
   ]
  },
  {
   "cell_type": "markdown",
   "metadata": {},
   "source": [
    "donde $m$ es el número de frecuencias que hay y $n$ es la suma de las frecuencias (número total de datos)."
   ]
  },
  {
   "cell_type": "markdown",
   "metadata": {},
   "source": [
    "Incluso, de forma más sencilla, esto lo podemos escribir como"
   ]
  },
  {
   "cell_type": "markdown",
   "metadata": {},
   "source": [
    "$$ \\bar{x}=\\sum_{i=1}^{m}p_i\\cdot x_i $$"
   ]
  },
  {
   "cell_type": "markdown",
   "metadata": {},
   "source": [
    "En ese sentido puede resultar conveniente hacer dos columnas extra donde escribimos los productos de $f_i\\cdot x_i$ y $p_i\\cdot x_i$"
   ]
  },
  {
   "cell_type": "markdown",
   "metadata": {},
   "source": [
    "* ***Ejemplo:*** Equipo de fútbol americano (continuación)"
   ]
  },
  {
   "cell_type": "markdown",
   "metadata": {},
   "source": [
    "Obtengamos las medidas de tendencia central."
   ]
  },
  {
   "cell_type": "markdown",
   "metadata": {},
   "source": [
    "Podemos escribir ahora la media aritmética con la fórmula"
   ]
  },
  {
   "cell_type": "markdown",
   "metadata": {},
   "source": [
    "$$ \\bar{x}=\\frac{\\sum_{i=1}^{m}f_i\\cdot x_i}{n} $$"
   ]
  },
  {
   "cell_type": "markdown",
   "metadata": {},
   "source": [
    "Primero nos encargamos de la suma"
   ]
  },
  {
   "cell_type": "markdown",
   "metadata": {},
   "source": [
    "$$ \\sum_{i=1}^{10}f_i\\cdot x_i=2\\cdot1.52+2\\cdot1.53+1\\cdot1.57+2\\cdot1.58+3\\cdot1.64+\\cdots=26.06 $$"
   ]
  },
  {
   "cell_type": "markdown",
   "metadata": {},
   "source": [
    "$$ \\sum_{i=1}^{16} x_i=1.52+1.52+1.53+1.53+1.57+1.58+1.58+1.64+1.64+1.64+\\cdots=26.06 $$"
   ]
  },
  {
   "cell_type": "markdown",
   "metadata": {},
   "source": [
    "Ahora sí, la media aritmética es"
   ]
  },
  {
   "cell_type": "markdown",
   "metadata": {},
   "source": [
    "$$ \\bar{x}=\\frac{\\sum_{i=1}^{m}f_i\\cdot x_i}{n}=\\dfrac{26.06}{16}=1.62785 $$"
   ]
  },
  {
   "cell_type": "markdown",
   "metadata": {},
   "source": [
    "Luego, agregamos otra columna que se lea $x_i\\cdot f_i$ ó $x_i\\cdot p_i$"
   ]
  },
  {
   "cell_type": "markdown",
   "metadata": {},
   "source": [
    "| $x_i$ | $f_i$ | $p_i$  | $x_i\\cdot f_i$ | $x_i\\cdot p_i$ | $F_i$ | $P_i$  |\n",
    "|-------|-------|--------|----------------|----------------|-------|--------|\n",
    "| 1.52  | 2     | 0.1250 | 3.04            | 0.190000 | 2     | 0.1250 |\n",
    "| 1.53  | 2     | 0.1250 | 3.06            | 0.191250 | 4     | 0.2500 |\n",
    "| 1.57  | 1     | 0.0625 | 1.57            | 0.098125 | 5     | 0.3125 |\n",
    "| 1.58  | 2     | 0.1250 | 3.16            | 0.197500 | 7     | 0.4375 |\n",
    "| 1.64  | 3     | 0.1875 | 4.92            | 0.307500 | 10    | 0.6250 |\n",
    "| 1.66  | 2     | 0.1250 | 3.32            | 0.207500 | 12    | 0.7500 |\n",
    "| 1.70  | 1     | 0.0625 | 1.70            | 0.106250 | 13    | 0.8125 |\n",
    "| 1.74  | 1     | 0.0625 | 1.74            | 0.108750 | 14    | 0.8750 |\n",
    "| 1.76  | 1     | 0.0625 | 1.76            | 0.110000 | 15    | 0.9375 |\n",
    "| 1.79  | 1     | 0.0625 | 1.79            | 0.111875 | 16    | 1.0000 |\n",
    "| Total | 16    | 1.0000 | $\\bar{x}=1.62875 $| $ $    | $ $   | $ $    |"
   ]
  },
  {
   "cell_type": "markdown",
   "metadata": {},
   "source": [
    "La suma de toda la columna $x_i\\cdot f_i$ me da 26.06"
   ]
  },
  {
   "cell_type": "markdown",
   "metadata": {},
   "source": [
    "$$ \\bar{x}=\\frac{\\sum_{i=1}^{m}f_i\\cdot x_i}{n}=\\dfrac{26.06}{16}=1.62785 $$"
   ]
  },
  {
   "cell_type": "markdown",
   "metadata": {},
   "source": [
    "* $\\text{Mo}=1.64$"
   ]
  },
  {
   "cell_type": "markdown",
   "metadata": {},
   "source": [
    "* $\\tilde{x}=1.64$"
   ]
  },
  {
   "cell_type": "markdown",
   "metadata": {},
   "source": [
    "* $\\bar{x}=1.62875\\ (1.63)$"
   ]
  },
  {
   "cell_type": "markdown",
   "metadata": {},
   "source": [
    "Esto se lee como:\n",
    "* \"La estatura más común (frecuente) entre los estudiantes es de 1.64”\n",
    "* \"Aproximadamente el 50% de los estudiantes miden menos de 1.64 y el otro 50% mide más de 1.64\"\n",
    "* \"Los estudiantes tienen una estatura promedio de 1.63\""
   ]
  },
  {
   "cell_type": "markdown",
   "metadata": {},
   "source": [
    "$$ \\circledast $$"
   ]
  },
  {
   "cell_type": "markdown",
   "metadata": {},
   "source": [
    "## Medidas de dispersión o de variación (otra vez)"
   ]
  },
  {
   "cell_type": "markdown",
   "metadata": {},
   "source": [
    "### Rango, $R$"
   ]
  },
  {
   "cell_type": "markdown",
   "metadata": {},
   "source": [
    "$$ R=x_\\text{max}-x_\\text{min} $$"
   ]
  },
  {
   "cell_type": "markdown",
   "metadata": {},
   "source": [
    "$$ R=x_n-x_1 $$"
   ]
  },
  {
   "cell_type": "markdown",
   "metadata": {},
   "source": [
    "donde $n$ es el último de los datos."
   ]
  },
  {
   "cell_type": "markdown",
   "metadata": {},
   "source": [
    "$$ R=x_m-x_1 $$"
   ]
  },
  {
   "cell_type": "markdown",
   "metadata": {},
   "source": [
    "donde $m$ es el último de los datos diferentes."
   ]
  },
  {
   "cell_type": "markdown",
   "metadata": {},
   "source": [
    "### Varianza muestral, $s^2$"
   ]
  },
  {
   "cell_type": "markdown",
   "metadata": {},
   "source": [
    "$$ s^2=\\dfrac{\\sum_{i=1}^n(x_i-\\bar{x})^2}{n-1} $$"
   ]
  },
  {
   "cell_type": "markdown",
   "metadata": {},
   "source": [
    "$$ s^2=\\dfrac{\\sum_{i=1}^m(x_i-\\bar{x})^2\\cdot f_i}{n-1} $$"
   ]
  },
  {
   "cell_type": "markdown",
   "metadata": {},
   "source": [
    "### Varianza poblacional, $\\sigma^2$"
   ]
  },
  {
   "cell_type": "markdown",
   "metadata": {},
   "source": [
    "$$ s^2=\\dfrac{\\sum_{i=1}^n(x_i-\\bar{x})^2}{n} $$"
   ]
  },
  {
   "cell_type": "markdown",
   "metadata": {},
   "source": [
    "$$ s^2=\\dfrac{\\sum_{i=1}^m(x_i-\\bar{x})^2\\cdot f_i}{n} $$"
   ]
  },
  {
   "cell_type": "markdown",
   "metadata": {},
   "source": [
    "* ***Ejemplo:*** Equipo de fútbol americano (continuación)"
   ]
  },
  {
   "cell_type": "markdown",
   "metadata": {},
   "source": [
    "| $x_i$ | $f_i$ | $p_i$  | $x_i\\cdot p_i$     | $F_i$ | $P_i$  |\n",
    "|-------|-------|--------|--------------------|-------|--------|\n",
    "| 1.52  | 2     | 0.1250 | 0.190000           | 2     | 0.1250 |\n",
    "| 1.53  | 2     | 0.1250 | 0.191250           | 4     | 0.2500 |\n",
    "| 1.57  | 1     | 0.0625 | 0.098125           | 5     | 0.3125 |\n",
    "| 1.58  | 2     | 0.1250 | 0.197500           | 7     | 0.4375 |\n",
    "| 1.64  | 3     | 0.1875 | 0.307500           | 10    | 0.6250 |\n",
    "| 1.66  | 2     | 0.1250 | 0.207500           | 12    | 0.7500 |\n",
    "| 1.70  | 1     | 0.0625 | 0.106250           | 13    | 0.8125 |\n",
    "| 1.74  | 1     | 0.0625 | 0.108750           | 14    | 0.8750 |\n",
    "| 1.76  | 1     | 0.0625 | 0.110000           | 15    | 0.9375 |\n",
    "| 1.79  | 1     | 0.0625 | 0.111875           | 16    | 1.0000 |\n",
    "| Total | 16    | 1.0000 | $\\bar{x}=$1.628750 | $ $   | $ $    |"
   ]
  },
  {
   "cell_type": "markdown",
   "metadata": {},
   "source": [
    "El rango es"
   ]
  },
  {
   "cell_type": "markdown",
   "metadata": {},
   "source": [
    "$$R = x_\\text{max} – x_\\text{min}=1.79 – 1.52=0.27$$"
   ]
  },
  {
   "cell_type": "markdown",
   "metadata": {},
   "source": [
    "* Varianza muestral"
   ]
  },
  {
   "cell_type": "markdown",
   "metadata": {},
   "source": [
    "Vamos a pensar que lo que tomamos fue una muestra representativa. La varianza muestral tiene la forma"
   ]
  },
  {
   "cell_type": "markdown",
   "metadata": {},
   "source": [
    "$$ s^2=\\dfrac{\\sum_{i=1}^n(x_i-\\bar{x})^2}{n-1} $$"
   ]
  },
  {
   "cell_type": "markdown",
   "metadata": {},
   "source": [
    "$$ =\\frac{(1.52-1.62875)^2+(1.52-1.62875)^2+(1.53-1.62875)^2+(1.53-1.62875)^2\\dots}{16-1} $$"
   ]
  },
  {
   "cell_type": "markdown",
   "metadata": {},
   "source": [
    "$$ s^2=\\dfrac{\\sum_{i=1}^m(x_i-\\bar{x})^2f_i}{n-1} $$"
   ]
  },
  {
   "cell_type": "markdown",
   "metadata": {},
   "source": [
    "La única diferencia es que la suma de la primera fórmula va hasta el último de los datos ($n=16$), mientras que la suma de la segunda va hasta el último dato diferente ($m=10$)."
   ]
  },
  {
   "cell_type": "markdown",
   "metadata": {},
   "source": [
    "Para obtener de manera más fácil la varianza agregamos otra columna que se lea $(x_i-\\bar{x})$"
   ]
  },
  {
   "cell_type": "markdown",
   "metadata": {},
   "source": [
    "| $x_i$ | $f_i$ | $(x_i-\\bar{x}) $ |\n",
    "|-------|-------|-----|\n",
    "| 1.52  | 2     | -0.10875    |\n",
    "| 1.53  | 2     | -0.09875    |\n",
    "| 1.57  | 1     | -0.05875    |\n",
    "| 1.58  | 2     | -0.04875    |\n",
    "| 1.64  | 3     | 0.01125    |\n",
    "| 1.66  | 2     | 0.03125    |\n",
    "| 1.70  | 1     | 0.07125    |\n",
    "| 1.74  | 1     | 0.11125    |\n",
    "| 1.76  | 1     | 0.13125    |\n",
    "| 1.79  | 1     | 0.16125    |\n",
    "| Total | 16    | $ $   |"
   ]
  },
  {
   "cell_type": "markdown",
   "metadata": {},
   "source": [
    "Agregamos otra columna que se lea $(x_i-\\bar{x})^2$"
   ]
  },
  {
   "cell_type": "markdown",
   "metadata": {},
   "source": [
    "| $x_i$ | $f_i$ | $(x_i-\\bar{x}) $ | $(x_i-\\bar{x})^2$ |\n",
    "|-------|-------|------------------|-------------------|\n",
    "| 1.52  | 2     | -0.10875         | 0.0118265625                  |\n",
    "| 1.53  | 2     | -0.09875         | 0.0097515625                  |\n",
    "| 1.57  | 1     | -0.05875         | 0.0034515625                  |\n",
    "| 1.58  | 2     | -0.04875         | 0.0023765625                  |\n",
    "| 1.64  | 3     | 0.01125          | 0.0001265625                  |\n",
    "| 1.66  | 2     | 0.03125          | 0.0009765625                  |\n",
    "| 1.70  | 1     | 0.07125          | 0.0050765625                  |\n",
    "| 1.74  | 1     | 0.11125          | 0.0123765625                  |\n",
    "| 1.76  | 1     | 0.13125          | 0.0172265625                  |\n",
    "| 1.79  | 1     | 0.16125          | 0.0260015625                  |\n",
    "| Total | 16    | $ $              | $ $                  |"
   ]
  },
  {
   "cell_type": "markdown",
   "metadata": {},
   "source": [
    "Agregamos otra columna que se lea $(x_i-\\bar{x})^2\\cdot f_i$"
   ]
  },
  {
   "cell_type": "markdown",
   "metadata": {},
   "source": [
    "| $x_i$ | $f_i$ | $(x_i-\\bar{x}) $ | $(x_i-\\bar{x})^2$ | $(x_i-\\bar{x})^2\\cdot f_i$  |\n",
    "|-------|-------|------------------|-------------------|---|\n",
    "| 1.52  | 2     | -0.10875         | 0.0118265625      | 0.0236531250  |\n",
    "| 1.53  | 2     | -0.09875         | 0.0097515625      | 0.0195031250  |\n",
    "| 1.57  | 1     | -0.05875         | 0.0034515625      | 0.0034515625  |\n",
    "| 1.58  | 2     | -0.04875         | 0.0023765625      | 0.0047531250  |\n",
    "| 1.64  | 3     | 0.01125          | 0.0001265625      | 0.0003796875  |\n",
    "| 1.66  | 2     | 0.03125          | 0.0009765625      | 0.0019531250  |\n",
    "| 1.70  | 1     | 0.07125          | 0.0050765625      | 0.0050765625  |\n",
    "| 1.74  | 1     | 0.11125          | 0.0123765625      | 0.0123765625  |\n",
    "| 1.76  | 1     | 0.13125          | 0.0172265625      | 0.0172265625  |\n",
    "| 1.79  | 1     | 0.16125          | 0.0260015625      | 0.0260015625  |\n",
    "| Total | 16    | $ $              | $ $               | $ $  |"
   ]
  },
  {
   "cell_type": "markdown",
   "metadata": {},
   "source": [
    "Si sumamos toda la columna de $(x_i-\\bar{x})^2\\cdot f_i$ es equivalente a hacer la suma"
   ]
  },
  {
   "cell_type": "markdown",
   "metadata": {},
   "source": [
    "$$ \\sum_{i=1}^m(x_i-\\bar{x})^2\\cdot f_i $$"
   ]
  },
  {
   "cell_type": "markdown",
   "metadata": {},
   "source": [
    "Entonces la varianza (muestral) es"
   ]
  },
  {
   "cell_type": "markdown",
   "metadata": {},
   "source": [
    "$$ s^2=\\frac{\\sum_{i=1}^m(x_i-\\bar{x})^2\\cdot f_i}{n-1}=\\dfrac{0.114375}{16-1}=0.007625 $$"
   ]
  },
  {
   "cell_type": "markdown",
   "metadata": {},
   "source": [
    "La desviación estándar muestral es"
   ]
  },
  {
   "cell_type": "markdown",
   "metadata": {},
   "source": [
    "$$ s=\\sqrt{s^2}=\\sqrt{0.007625}=0.087321245 $$"
   ]
  },
  {
   "cell_type": "markdown",
   "metadata": {},
   "source": [
    "EL coeficiente de variación muestral es"
   ]
  },
  {
   "cell_type": "markdown",
   "metadata": {},
   "source": [
    "$$ \\text{C.V.}=\\dfrac{s}{\\bar{x}}\\cdot100=\\dfrac{0.087321245}{1.62875}\\cdot100=5.36\\ \\% $$"
   ]
  },
  {
   "cell_type": "markdown",
   "metadata": {},
   "source": [
    "Si el análisis es **muestral**, las medidas de dispersión se pueden interpretar como:"
   ]
  },
  {
   "cell_type": "markdown",
   "metadata": {},
   "source": [
    "* $R=0.27\\ \\rm{m}\\ :$\n",
    "\n",
    "\"La máxima diferencia de estaturas entre los estudiantes es de 27 cm (equivalente a 0.27 m).\"\n",
    "\n",
    "* $s=0.0873\\ \\rm{m}\\ :$ \n",
    "\n",
    "\"Las estaturas de los jugadores se desvían en promedio 8.73 cm de la media arimética (equivalente a 0.0873 m).\"\n",
    "\n",
    "* ${\\rm{CV}}=5.36\\%\\ :$:\n",
    "\n",
    "\"Las estaturas varían 5.36% con respecto a su media.\"\n"
   ]
  },
  {
   "cell_type": "markdown",
   "metadata": {},
   "source": [
    "$$ \\circledast $$"
   ]
  },
  {
   "cell_type": "markdown",
   "metadata": {},
   "source": [
    "## Tipos de gráficas I"
   ]
  },
  {
   "cell_type": "markdown",
   "metadata": {},
   "source": [
    "Los elementos que deben integrar una gráfica de manera que se pueda interpretar correctamente son: título, rótulo de ejes (nombre de los ejes) o sectores (acotaciones), unidades, escala, simbología."
   ]
  },
  {
   "cell_type": "markdown",
   "metadata": {},
   "source": [
    "### Gráfica circular o de sectores o de pastel"
   ]
  },
  {
   "cell_type": "markdown",
   "metadata": {},
   "source": [
    "Se utiliza para visualizar las frecuencias de las diferentes categorías o valores. El ángulo que representa cada sector circular es proporcional a la frecuencia o frecuencia relativa de cada categoría."
   ]
  },
  {
   "cell_type": "markdown",
   "metadata": {},
   "source": [
    "* ***Ejemplo:*** Equipo de fútbol americano (continuación)"
   ]
  },
  {
   "cell_type": "markdown",
   "metadata": {},
   "source": [
    "<img src=\"pastel1.png\" align=\"middle\" width=\"600\">"
   ]
  },
  {
   "cell_type": "raw",
   "metadata": {},
   "source": [
    "x1 = [\"1.52m\", \"1.53m\",\"1.57m\",\"1.58m\",\"1.64m\",\"1.66m\",\"1.70m\",\"1.74m\",\"1.76m\",\"1.79m\"]\n",
    "y1 = [0.125,0.125,0.0625,0.125,0.1875,0.125,0.0625,0.0625,0.0625,0.0625]\n",
    "pie(x1, y1, title = \"Alturas de jugadores de fútbol americano en la UNAM\",leg=:outertopright, l = 0.5,dpi=300)"
   ]
  },
  {
   "cell_type": "markdown",
   "metadata": {},
   "source": [
    "$$ \\circledast $$"
   ]
  },
  {
   "cell_type": "markdown",
   "metadata": {},
   "source": [
    "### Gráfica de barras"
   ]
  },
  {
   "cell_type": "markdown",
   "metadata": {},
   "source": [
    "Consiste en una serie de columnas separadas cuya altura representa la frecuencia o frecuencia relativa de cada una de las categorías o valores."
   ]
  },
  {
   "cell_type": "markdown",
   "metadata": {},
   "source": [
    "* ***Ejemplo:*** Equipo de fútbol americano (continuación)"
   ]
  },
  {
   "cell_type": "markdown",
   "metadata": {},
   "source": [
    "<img src=\"barras1.png\" align=\"middle\" width=\"600\">"
   ]
  },
  {
   "cell_type": "markdown",
   "metadata": {},
   "source": [
    "<img src=\"barras2.png\" align=\"middle\" width=\"600\">"
   ]
  },
  {
   "cell_type": "raw",
   "metadata": {
    "scrolled": false
   },
   "source": [
    "z1 = 100*[0.125,0.125,0.0625,0.125,0.1875,0.125,0.0625,0.0625,0.0625,0.0625]\n",
    "bar(x1, z1, title = \"Alturas de jugadores de fútbol americano en la UNAM\", l = 0.5, xlabel=\"Alturas (metros)\", ylabel=\"Porcentajes\", leg=:false,dpi=300)"
   ]
  },
  {
   "cell_type": "raw",
   "metadata": {
    "scrolled": false
   },
   "source": [
    "w1 = [2,2,1,2,3,2,1,1,1,1]\n",
    "bar(x1, w1, title = \"Alturas de jugadores de fútbol americano en la UNAM\", l = 0.5, xlabel=\"Alturas (metros)\", ylabel=\"Frecuencias absolutas\", leg=:false,dpi=300)"
   ]
  },
  {
   "cell_type": "markdown",
   "metadata": {},
   "source": [
    "$$ \\circledast $$"
   ]
  },
  {
   "cell_type": "markdown",
   "metadata": {},
   "source": [
    "## ¿Cómo obtener resultados estadísticos con la calculadora?"
   ]
  },
  {
   "cell_type": "markdown",
   "metadata": {},
   "source": [
    "### `CASIO fx-82MS`"
   ]
  },
  {
   "cell_type": "markdown",
   "metadata": {},
   "source": [
    "### Datos sin frecuencias"
   ]
  },
  {
   "cell_type": "markdown",
   "metadata": {},
   "source": [
    "1. Cambiamos a modo estadístico (`SD`) usando:\n",
    "\n",
    "    `MODE`+`2`"
   ]
  },
  {
   "cell_type": "markdown",
   "metadata": {},
   "source": [
    "2. Borramos cualquier dato estadístico que haya quedado en la memoria de la calculadora con (`Mcl`) usando:\n",
    "\n",
    "    `SHIFT`+`MODE`+`1`+`=`"
   ]
  },
  {
   "cell_type": "markdown",
   "metadata": {},
   "source": [
    "3. Volvemos al menú principal usando:\n",
    "\n",
    "    `AC`"
   ]
  },
  {
   "cell_type": "markdown",
   "metadata": {},
   "source": [
    "4. Para ingresar cada dato, escribimos el valor del dato y, posteriormente, oprimimos la tecla `M+`. Nos aparecerá `n=1` en el *display*, refiriéndose a la cantidad de datos que hemos ingresado. Para ingresar más datos repetimos este paso."
   ]
  },
  {
   "cell_type": "markdown",
   "metadata": {},
   "source": [
    "5. Para que la calculadora nos dé:\n",
    "    * el número de datos, $n$, usamos `SHIFT`+`1`+`3`+`=`\n",
    "    * el promedio, $\\bar{x}$, usamos `SHIFT`+`2`+`1`+`=`\n",
    "    * la desviación estándar poblacional, $\\sigma$, usamos `SHIFT`+`2`+`2`+`=`\n",
    "    * la desviación estándar muestral, $s$, usamos `SHIFT`+`2`+`3`+`=`"
   ]
  },
  {
   "cell_type": "markdown",
   "metadata": {},
   "source": [
    "6. Para volver al modo normal (`COMP`) usamos:\n",
    "\n",
    "    `MODE`+`1`"
   ]
  },
  {
   "cell_type": "markdown",
   "metadata": {},
   "source": [
    "### Datos con frecuencias"
   ]
  },
  {
   "cell_type": "markdown",
   "metadata": {},
   "source": [
    "1. Cambiamos a modo estadístico (`SD`) usando:\n",
    "\n",
    "    `MODE`+`2`"
   ]
  },
  {
   "cell_type": "markdown",
   "metadata": {},
   "source": [
    "2. Borramos cualquier dato estadístico que haya quedado en la memoria de la calculadora con (`Mcl`) usando:\n",
    "\n",
    "    `SHIFT`+`MODE`+`1`+`=`"
   ]
  },
  {
   "cell_type": "markdown",
   "metadata": {},
   "source": [
    "3. Volvemos al menú principal usando:\n",
    "\n",
    "    `AC`"
   ]
  },
  {
   "cell_type": "markdown",
   "metadata": {},
   "source": [
    "4. Para ingresar cada dato con su respectiva frecuencia, escribimos el valor del dato,después `SHIFT`+`,` seguido del valor de la frecuencia absoluta y, posteriormente, oprimimos la tecla `M+`. Nos aparecerá `n=(valor de la frecuancia ingresada)` en el *display*, refiriéndose a la cantidad de datos que hemos ingresado. Para ingresar más datos repetimos este paso."
   ]
  },
  {
   "cell_type": "markdown",
   "metadata": {},
   "source": [
    "5. Para que la calculadora nos dé:\n",
    "    * el número de datos, $n$, usamos `SHIFT`+`1`+`3`+`=`\n",
    "    * el promedio, $\\bar{x}$, usamos `SHIFT`+`2`+`1`+`=`\n",
    "    * la desviación estándar poblacional, $\\sigma$, usamos `SHIFT`+`2`+`2`+`=`\n",
    "    * la desviación estándar muestral, $s$, usamos `SHIFT`+`2`+`3`+`=`"
   ]
  },
  {
   "cell_type": "markdown",
   "metadata": {},
   "source": [
    "6. Para volver al modo normal (`COMP`) usamos:\n",
    "    \n",
    "    `MODE`+`1`"
   ]
  },
  {
   "cell_type": "markdown",
   "metadata": {},
   "source": [
    "### `CASIO fx-991ES PLUS`"
   ]
  },
  {
   "cell_type": "markdown",
   "metadata": {},
   "source": [
    "### Datos sin frecuencias"
   ]
  },
  {
   "cell_type": "markdown",
   "metadata": {},
   "source": [
    "1. Borramos la memoria de la calculadora (`Setup`) usando:\n",
    "\n",
    "    `SHIFT`+`9`+`1`+`=`+`AC`"
   ]
  },
  {
   "cell_type": "markdown",
   "metadata": {},
   "source": [
    "2. Ingresamos al modo de ingresar datos sin frecuencias (`Frequency? OFF`):\n",
    "\n",
    "    `SHIFT`+`MODE`+ $\\downarrow$ +`4`+`2`"
   ]
  },
  {
   "cell_type": "markdown",
   "metadata": {},
   "source": [
    "3. Cambiamos a modo estadístico (`STAT`) usando:\n",
    "\n",
    "    `MODE`+`3`+`1`"
   ]
  },
  {
   "cell_type": "markdown",
   "metadata": {},
   "source": [
    "4. Para ingresar cada dato, escribimos el valor del dato en la columna `x` y oprimimos `=`."
   ]
  },
  {
   "cell_type": "markdown",
   "metadata": {},
   "source": [
    "5. Para que la calculadora nos dé resultados estadíticos de interés vamos a `SHIFT`+`1`+`4` (la opción que dice `Var`). En este menú podemos escoger entre:\n",
    "    * el número de datos, $n$\n",
    "    * el promedio, $\\bar{x}$\n",
    "    * la desviación estándar poblacional, $\\sigma$\n",
    "    * la desviación estándar muestral, $s$\n",
    "    Para obtener el valor oprimimos el valor correspondiente y, después, oprimimos `=`."
   ]
  },
  {
   "cell_type": "markdown",
   "metadata": {},
   "source": [
    "6. Para volver al modo normal (`COMP`) usamos:\n",
    "\n",
    "    `MODE`+`1`\n",
    "    \n",
    "    o borramos la memoria de la calculadora (`Setup`) usando:\n",
    "\n",
    "    `SHIFT`+`9`+`1`+`=`+`AC`"
   ]
  },
  {
   "cell_type": "markdown",
   "metadata": {},
   "source": [
    "### Datos con frecuencias"
   ]
  },
  {
   "cell_type": "markdown",
   "metadata": {},
   "source": [
    "1. Borramos la memoria de la calculadora (`Setup`) usando:\n",
    "\n",
    "    `SHIFT`+`9`+`1`+`=`+`AC`"
   ]
  },
  {
   "cell_type": "markdown",
   "metadata": {},
   "source": [
    "2. Ingresamos al modo de ingresar datos sin frecuencias (`Frequency? ON`):\n",
    "\n",
    "    `SHIFT`+`MODE`+ $\\downarrow$ +`4`+`1`"
   ]
  },
  {
   "cell_type": "markdown",
   "metadata": {},
   "source": [
    "3. Cambiamos a modo estadístico (`STAT`) usando:\n",
    "\n",
    "    `MODE`+`3`+`1`"
   ]
  },
  {
   "cell_type": "markdown",
   "metadata": {},
   "source": [
    "4. Para ingresar cada dato, escribimos el valor del dato en la columna `x` y oprimimos `=`; despues escribimos la frecuencia absoluta en la columna `FREQ` y, posteriormente, oprimimos la tecla `=`."
   ]
  },
  {
   "cell_type": "markdown",
   "metadata": {},
   "source": [
    "5. Para que la calculadora nos dé resultados estadíticos de interés, salimos de la tabla con `AC` y  usamos `SHIFT`+`1`+`4` (la opción que dice `Var`). En este menú podemos escoger entre:\n",
    "    * el número de datos, $n$\n",
    "    * el promedio, $\\bar{x}$\n",
    "    * la desviación estándar poblacional, $\\sigma$\n",
    "    * la desviación estándar muestral, $s$\n",
    "    Para obtener el valor oprimimos el valor correspondiente y, después, oprimimos `=`."
   ]
  },
  {
   "cell_type": "markdown",
   "metadata": {},
   "source": [
    "6. Para volver al modo normal (`COMP`) usamos:\n",
    "\n",
    "    `MODE`+`1`\n",
    "    \n",
    "    o borramos la memoria de la calculadora (`Setup`) usando:\n",
    "\n",
    "    `SHIFT`+`9`+`1`+`=`+`AC`"
   ]
  },
  {
   "cell_type": "markdown",
   "metadata": {},
   "source": [
    "### Ejemplos anteriores usando la calculadora"
   ]
  },
  {
   "cell_type": "markdown",
   "metadata": {},
   "source": [
    "* ***Ejemplo:*** Tenemos las calificaciones redondeadas de una estudiante de la ENP:"
   ]
  },
  {
   "cell_type": "markdown",
   "metadata": {},
   "source": [
    "$C_1=8$, $C_2=9$, $C_3=7$, $C_4=9$, $C_5=9$, $C_6=8$, $C_7=9$"
   ]
  },
  {
   "cell_type": "markdown",
   "metadata": {},
   "source": [
    "| No de calificación | Valor de calificación |\n",
    "|--------------------|-----------------------|\n",
    "| 1                  | 7                     |\n",
    "| 2                  | 8                     |\n",
    "| 3                  | 8                     |\n",
    "| 4                  | 9                     |\n",
    "| 5                  | 9                     |\n",
    "| 6                  | 9                     |\n",
    "| 7                  | 9                     |"
   ]
  },
  {
   "cell_type": "markdown",
   "metadata": {},
   "source": [
    "La media aritmética es"
   ]
  },
  {
   "cell_type": "markdown",
   "metadata": {},
   "source": [
    "$$ \\bar{C}=\\dfrac{\\sum_{i=1}^7C_i}{7}=\\dfrac{59}{7}=8.42 $$"
   ]
  },
  {
   "cell_type": "markdown",
   "metadata": {},
   "source": [
    "La mediana es $\\tilde{C}=9$."
   ]
  },
  {
   "cell_type": "markdown",
   "metadata": {},
   "source": [
    "La moda es $ \\rm{Mo}=9 $"
   ]
  },
  {
   "cell_type": "markdown",
   "metadata": {},
   "source": [
    "El rango es"
   ]
  },
  {
   "cell_type": "markdown",
   "metadata": {},
   "source": [
    "$$R = C_7 – C_1=9-7=2$$"
   ]
  },
  {
   "cell_type": "markdown",
   "metadata": {},
   "source": [
    "La varianza poblacional es"
   ]
  },
  {
   "cell_type": "markdown",
   "metadata": {},
   "source": [
    "$$ \\sigma^2=\\dfrac{3.7148}{7}\\approx0.5307 $$"
   ]
  },
  {
   "cell_type": "markdown",
   "metadata": {},
   "source": [
    "La desviación estándar poblacional es"
   ]
  },
  {
   "cell_type": "markdown",
   "metadata": {},
   "source": [
    "$$ \\sigma=\\sqrt{\\sigma^2}=\\sqrt{0.5307}\\approx0.73 $$"
   ]
  },
  {
   "cell_type": "markdown",
   "metadata": {},
   "source": [
    "El coeficiente de variación (poblacional) es"
   ]
  },
  {
   "cell_type": "markdown",
   "metadata": {},
   "source": [
    "$$ {\\rm{CV}}=\\frac{\\sigma}{\\bar{x}}\\cdot100=\\frac{0.73}{8.42}\\cdot100=8.65\\ \\% $$"
   ]
  },
  {
   "cell_type": "markdown",
   "metadata": {},
   "source": [
    "$$ \\circledast $$"
   ]
  },
  {
   "cell_type": "markdown",
   "metadata": {},
   "source": [
    "* ***Ejemplo:*** (Equipo de fútbol americano) Ahora reunimos a una muestra representativa de 30 varones que juegan fútbol americano en la CDMX. Medimos sus alturas:"
   ]
  },
  {
   "cell_type": "markdown",
   "metadata": {},
   "source": [
    "| Estatura, $x_i$ | Frecuencia, $f_i$ |\n",
    "|-----------------|-----------------|\n",
    "| 1.52            | 2                |\n",
    "| 1.53            | 2                |\n",
    "| 1.57            | 1                |\n",
    "| 1.58            | 2                |\n",
    "| 1.64            | 3                |\n",
    "| 1.66            | 2                |\n",
    "| 1.70            | 1                |\n",
    "| 1.74            | 1                |\n",
    "| 1.76            | 1                |\n",
    "| 1.79            | 1                |\n",
    "| Total           | 16                |"
   ]
  },
  {
   "cell_type": "markdown",
   "metadata": {},
   "source": [
    "* $\\bar{x}=1.62875\\ (1.63)$"
   ]
  },
  {
   "cell_type": "markdown",
   "metadata": {},
   "source": [
    "$$ s^2=\\dfrac{\\sum_{i=1}^m(x_i-\\bar{x})^2f_i}{n-1}=\\dfrac{0.114369}{15}=0.007625 $$"
   ]
  },
  {
   "cell_type": "markdown",
   "metadata": {},
   "source": [
    "$$ \\sigma^2=\\dfrac{\\sum_{i=1}^k(x_i-\\bar{x})^2f_i}{n}=\\dfrac{0.114369}{16}=0.007148 $$"
   ]
  },
  {
   "cell_type": "markdown",
   "metadata": {},
   "source": [
    "Las desviaciones estándar son:"
   ]
  },
  {
   "cell_type": "markdown",
   "metadata": {},
   "source": [
    "$$ s=\\sqrt{s^2}=\\sqrt{0.007625}=0.08732 $$"
   ]
  },
  {
   "cell_type": "markdown",
   "metadata": {},
   "source": [
    "$$ \\sigma=\\sqrt{\\sigma^2}=\\sqrt{0.007148}=0.08455 $$"
   ]
  },
  {
   "cell_type": "markdown",
   "metadata": {},
   "source": [
    "Los coeficientes de variación son:"
   ]
  },
  {
   "cell_type": "markdown",
   "metadata": {},
   "source": [
    "$$ {\\rm{CV}}=\\dfrac{s}{\\bar{x}}\\cdot100=\\dfrac{0.08732}{1.62875}\\cdot100=5.36\\% $$"
   ]
  },
  {
   "cell_type": "markdown",
   "metadata": {},
   "source": [
    "$$ {\\rm{CV}}=\\dfrac{\\sigma}{\\bar{x}}\\cdot100=\\dfrac{0.08455}{1.628750}\\cdot100=5.19\\% $$"
   ]
  },
  {
   "cell_type": "markdown",
   "metadata": {},
   "source": [
    "Si el análisis es **muestral**, las medidas de dispersión se pueden interpretar como:"
   ]
  },
  {
   "cell_type": "markdown",
   "metadata": {},
   "source": [
    "* $R=1.79-1.52=0.27\\ \\rm{m}\\ :$\n",
    "\n",
    "\"La máxima diferencia de estaturas entre los estudiantes es de 27 cm (equivalente a 0.27 m).\"\n",
    "\n",
    "* $\\sigma=0.08732\\ \\rm{m}\\ :$ \n",
    "\n",
    "\"Las estaturas de los jugadores se desvían en promedio 8.73 cm de su media (equivalente a 0.08732 m).\"\n",
    "\n",
    "* ${\\rm{CV}}=5.36\\%\\ :$:\n",
    "\n",
    "\"Las estaturas varían 5.36% con respecto a su media.\"\n"
   ]
  },
  {
   "cell_type": "markdown",
   "metadata": {},
   "source": [
    "Si el análisis es **poblacional**, las medidas de dispersión se pueden interpretar como:"
   ]
  },
  {
   "cell_type": "markdown",
   "metadata": {},
   "source": [
    "* $R=1.79-1.52=0.27\\ \\rm{m}\\ :$\n",
    "\n",
    "\"La máxima diferencia de estaturas entre los estudiantes es de 27 cm (equivalente a 0.27 m).\"\n",
    "\n",
    "* $\\sigma=0.08455\\ \\rm{m}\\ :$ \n",
    "\n",
    "\"Las estaturas de los jugadores se desvían en promedio 8.45 cm de su media (equivalente a 0.08455 m).\"\n",
    "\n",
    "* ${\\rm{CV}}=5.19\\%\\ :$:\n",
    "\n",
    "\"Las estaturas varían 5.19% con respecto a su media.\"\n"
   ]
  },
  {
   "cell_type": "markdown",
   "metadata": {},
   "source": [
    "$$ \\circledast $$"
   ]
  }
 ],
 "metadata": {
  "@webio": {
   "lastCommId": null,
   "lastKernelId": null
  },
  "kernelspec": {
   "display_name": "Julia 1.1.0",
   "language": "julia",
   "name": "julia-1.1"
  },
  "language_info": {
   "file_extension": ".jl",
   "mimetype": "application/julia",
   "name": "julia",
   "version": "1.1.0"
  }
 },
 "nbformat": 4,
 "nbformat_minor": 4
}
