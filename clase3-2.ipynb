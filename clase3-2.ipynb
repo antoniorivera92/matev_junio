{
 "cells": [
  {
   "cell_type": "markdown",
   "metadata": {},
   "source": [
    "# Álgebra para analizar objetos geométricos"
   ]
  },
  {
   "cell_type": "markdown",
   "metadata": {},
   "source": [
    "# Clase 2"
   ]
  },
  {
   "cell_type": "markdown",
   "metadata": {},
   "source": [
    "## Distancia"
   ]
  },
  {
   "cell_type": "markdown",
   "metadata": {},
   "source": [
    "* ***Ejemplo:*** Determine el punto equidistante a los puntos $A(-2,3)$, $B(4,1)$, y $C(1,7)$"
   ]
  },
  {
   "cell_type": "markdown",
   "metadata": {},
   "source": [
    "Lo que queremos encontrar es un punto que a cada uno de los tres puntos anteriores les quede a la misma distancia. Vamos a pensar que ese cuarto punto es $D(x_D,y_D)$"
   ]
  },
  {
   "cell_type": "markdown",
   "metadata": {},
   "source": [
    "Necesitamos que se cumpla que"
   ]
  },
  {
   "cell_type": "markdown",
   "metadata": {},
   "source": [
    "$$ \\overline{AD}=\\overline{BD}=\\overline{CD} $$"
   ]
  },
  {
   "cell_type": "markdown",
   "metadata": {},
   "source": [
    "Primero veremos qué significa cada una de estas distancias:"
   ]
  },
  {
   "cell_type": "markdown",
   "metadata": {},
   "source": [
    "$$ \\overline{AD}=\\sqrt{(x_A-x_D)^2+(y_A-y_D)^2}=\\sqrt{[(-2)-x_D]^2+[(3)-y_D]^2}=\\sqrt{(-2-x_D)^2+(3-y_D)^2} $$"
   ]
  },
  {
   "cell_type": "markdown",
   "metadata": {},
   "source": [
    "$$ \\overline{BD}=\\sqrt{(x_B-x_D)^2+(y_B-y_D)^2}=\\sqrt{(4-x_D)^2+(1-y_D)^2} $$"
   ]
  },
  {
   "cell_type": "markdown",
   "metadata": {},
   "source": [
    "$$ \\overline{CD}=\\sqrt{(x_C-x_D)^2+(y_C-y_D)^2}=\\sqrt{(1-x_D)^2+(7-y_D)^2} $$"
   ]
  },
  {
   "cell_type": "markdown",
   "metadata": {},
   "source": [
    "* **1ra ecuación lineal:**"
   ]
  },
  {
   "cell_type": "markdown",
   "metadata": {},
   "source": [
    "$$ \\overline{AD}=\\overline{BD} $$"
   ]
  },
  {
   "cell_type": "markdown",
   "metadata": {},
   "source": [
    "$$ \\sqrt{(-2-x_D)^2+(3-y_D)^2}=\\sqrt{(4-x_D)^2+(1-y_D)^2} $$"
   ]
  },
  {
   "cell_type": "markdown",
   "metadata": {},
   "source": [
    "$$ (-2-x_D)^2+(3-y_D)^2=(4-x_D)^2+(1-y_D)^2 $$"
   ]
  },
  {
   "cell_type": "markdown",
   "metadata": {},
   "source": [
    "$$ [(-2)^2+2(-2)(-x_D)+(-x_D)^2]+[(3)^2+2(3)(-y_D)+(-y_D)^2]=[(4)^2+2(4)(-x_D)+(-x_D)^2]+[(1)^2+2(1)(-y_D)+(-y_D)^2] $$"
   ]
  },
  {
   "cell_type": "markdown",
   "metadata": {},
   "source": [
    "$$ [4+4x_D+{x_D}^2]+[9-6y_D+{y_D}^2]=[16-8x_D+{x_D}^2]+[1-2y_D+{y_D}^2] $$"
   ]
  },
  {
   "cell_type": "markdown",
   "metadata": {},
   "source": [
    "$$ 4+4x_D+{x_D}^2+9-6y_D+{y_D}^2=16-8x_D+{x_D}^2+1-2y_D+{y_D}^2 $$"
   ]
  },
  {
   "cell_type": "markdown",
   "metadata": {},
   "source": [
    "$$ 4+4x_D+{x_D}^2+9-6y_D+{y_D}^2+8x_D-{x_D}^2+2y_D-{y_D}^2=16+1 $$"
   ]
  },
  {
   "cell_type": "markdown",
   "metadata": {},
   "source": [
    "$$ 4x_D+{x_D}^2-6y_D+{y_D}^2+8x_D-{x_D}^2+2y_D-{y_D}^2=16+1-4-9 $$"
   ]
  },
  {
   "cell_type": "markdown",
   "metadata": {},
   "source": [
    "$$ 12x_D-4y_D=4 $$"
   ]
  },
  {
   "cell_type": "markdown",
   "metadata": {},
   "source": [
    "* **2da ecuación lineal:**"
   ]
  },
  {
   "cell_type": "markdown",
   "metadata": {},
   "source": [
    "$$ \\overline{BD}=\\overline{CD} $$"
   ]
  },
  {
   "cell_type": "markdown",
   "metadata": {},
   "source": [
    "* **3ra ecuación lineal:**"
   ]
  },
  {
   "cell_type": "markdown",
   "metadata": {},
   "source": [
    "$$ \\overline{AD}=\\overline{CD} $$"
   ]
  },
  {
   "cell_type": "markdown",
   "metadata": {},
   "source": [
    "$$ \\sqrt{(-2-x_D)^2+(3-y_D)^2}=\\sqrt{(1-x_D)^2+(7-y_D)^2} $$"
   ]
  },
  {
   "cell_type": "markdown",
   "metadata": {},
   "source": [
    "$$ (-2-x_D)^2+(3-y_D)^2=(1-x_D)^2+(7-y_D)^2 $$"
   ]
  },
  {
   "cell_type": "markdown",
   "metadata": {},
   "source": [
    "$$ 4+4x_D+{x_D}^2+9-6y_D+{y_D}^2=1-2x_D+{x_D}^2+49-14y_D+{y_D}^2 $$"
   ]
  },
  {
   "cell_type": "markdown",
   "metadata": {},
   "source": [
    "$$ 4x_D-6y_D+2x_D+14y_D=1+49-4-9 $$"
   ]
  },
  {
   "cell_type": "markdown",
   "metadata": {},
   "source": [
    "$$ 6x_D+8y_D=37 $$"
   ]
  },
  {
   "cell_type": "markdown",
   "metadata": {},
   "source": [
    "Nuestro sistema de ecuaciones es\n",
    "\\begin{equation}\n",
    "\\begin{cases}\n",
    "12x_D-4y_D=4\\\\\n",
    "6x_D+8y_D=37\n",
    "\\end{cases}\n",
    "\\end{equation}"
   ]
  },
  {
   "cell_type": "markdown",
   "metadata": {},
   "source": [
    "El punto es $D\\left(\\dfrac{3}{2},\\dfrac{7}{2}\\right)$."
   ]
  },
  {
   "cell_type": "markdown",
   "metadata": {},
   "source": [
    "## División de un segmento en una razón dada"
   ]
  },
  {
   "cell_type": "markdown",
   "metadata": {},
   "source": [
    "### Punto medio"
   ]
  },
  {
   "cell_type": "markdown",
   "metadata": {},
   "source": [
    "Si tenemos dos puntos, $P_1(x_1,y_1)$ y $P_2(x_2,y_2)$, el punto medio $P(x,y)$ tiene coordenadas"
   ]
  },
  {
   "cell_type": "markdown",
   "metadata": {},
   "source": [
    "$$x=\\dfrac{x_1+x_2}{2}$$"
   ]
  },
  {
   "cell_type": "markdown",
   "metadata": {},
   "source": [
    "$$y=\\dfrac{y_1+y_2}{2}$$"
   ]
  },
  {
   "cell_type": "markdown",
   "metadata": {},
   "source": [
    "### Razón"
   ]
  },
  {
   "cell_type": "markdown",
   "metadata": {},
   "source": [
    "Nuevamente tenemos dos puntos, $P_1(x_1,y_1)$ y $P_2(x_2,y_2)$. Llamaremos *razón* a una cantidad escrita como fracción $r=\\dfrac{a}{b}.$ Esta fracción nos dice que el  segmento $\\overline{P_1P_2}$ se tiene que dividir en $a+b$ partes."
   ]
  },
  {
   "cell_type": "markdown",
   "metadata": {},
   "source": [
    "Entonces, el punto $P(x,y)$ que aparece en esa razón dada, tiene coordenadas"
   ]
  },
  {
   "cell_type": "markdown",
   "metadata": {},
   "source": [
    "$$x=\\dfrac{x_1+rx_2}{1+r}$$"
   ]
  },
  {
   "cell_type": "markdown",
   "metadata": {},
   "source": [
    "$$y=\\dfrac{y_1+ry_2}{1+r}$$"
   ]
  },
  {
   "cell_type": "markdown",
   "metadata": {},
   "source": [
    "* ***Ejemplo:*** Tenemos los puntos $A(-2,4)$ y $B(4, -8)$. Encuentra el punto que divide al segmento con la razón $r=2=\\dfrac{2}{1}$."
   ]
  },
  {
   "cell_type": "markdown",
   "metadata": {},
   "source": [
    "$$x=\\dfrac{x_1+rx_2}{1+r}=\\dfrac{(-2)+2(4)}{1+2}=\\dfrac{-2+8}{3}=\\dfrac{6}{3}=2$$"
   ]
  },
  {
   "cell_type": "markdown",
   "metadata": {},
   "source": [
    "$$y=\\dfrac{y_1+ry_2}{1+r}=\\dfrac{(4)+2(-8)}{1+2}=\\dfrac{4-16}{3}=\\dfrac{-12}{3}=-4$$"
   ]
  },
  {
   "cell_type": "markdown",
   "metadata": {},
   "source": [
    "$$ C(2,-4) $$"
   ]
  },
  {
   "cell_type": "markdown",
   "metadata": {},
   "source": [
    "Este punto me divide al segmento en $2+1=3$ partes: $2$ partes desde A hasta $C$ y una parte desde $C$ hasta $B$."
   ]
  },
  {
   "cell_type": "markdown",
   "metadata": {},
   "source": [
    "### ¿Cómo partir un segmento en $n$ partes?"
   ]
  },
  {
   "cell_type": "markdown",
   "metadata": {},
   "source": [
    "1. Necesitamos tener las coordenadas de los extremos: $P_1(x_1,y_1)$ y $P_2(x_2,y_2)$.\n",
    "2. Buscaremos dos números enteros positivos cuya suma sea el número de partes en que queremos dividir el segmento.\n",
    "3. Los números los dividimos entre sí, obteniendo la razón $r$. Tenemos que obtener $n-1$ razones.\n",
    "4. Con las fórmulas\n",
    "\\begin{align*}\n",
    "x=\\dfrac{x_1+rx_2}{1+r}\\\\\n",
    "y=\\dfrac{y_1+ry_2}{1+r}\n",
    "\\end{align*}\n",
    "    obtenemos las coordenadas para cada razón."
   ]
  },
  {
   "cell_type": "markdown",
   "metadata": {},
   "source": [
    "* ***Ejemplo:*** Si tuviéramos los puntos $A(1,1)$ y $B(5,9)$, ¿cómo partimos esto en tres partes?"
   ]
  },
  {
   "cell_type": "markdown",
   "metadata": {},
   "source": [
    "Como queremos separar en exactemente tres partes, necesitamos introducir don puntos en medio del segmento. Para encontrar las coordenadas de ambos puntos primero tengo que encontrar las razones. Vamos a buscar números enteros positivos cuya suma sea 3."
   ]
  },
  {
   "cell_type": "markdown",
   "metadata": {},
   "source": [
    "**Primer punto:** $a=1$, $b=2$, $r=\\dfrac{a}{b}=\\dfrac{1}{2}$"
   ]
  },
  {
   "cell_type": "markdown",
   "metadata": {},
   "source": [
    "$$x=\\dfrac{x_1+rx_2}{1+r}=\\dfrac{(1)+\\dfrac{1}{2}(5)}{1+\\dfrac{1}{2}}=\\dfrac{\\dfrac{7}{2}}{\\dfrac{3}{2}}=\\dfrac{7}{3}$$"
   ]
  },
  {
   "cell_type": "markdown",
   "metadata": {},
   "source": [
    "$$y=\\dfrac{y_1+ry_2}{1+r}=\\dfrac{(1)+\\dfrac{1}{2}(9)}{1+\\dfrac{1}{2}}=\\dfrac{\\dfrac{11}{2}}{\\dfrac{3}{2}}=\\dfrac{11}{3}$$"
   ]
  },
  {
   "cell_type": "markdown",
   "metadata": {},
   "source": [
    "El primer punto que separará al segmento en tres partes es $P_1\\left(\\dfrac{7}{3},\\dfrac{11}{3}\\right).$"
   ]
  },
  {
   "cell_type": "markdown",
   "metadata": {},
   "source": [
    "**Segundo punto:** $a=2$, $b=1$, $r=\\dfrac{a}{b}=\\dfrac{2}{1}=2$"
   ]
  },
  {
   "cell_type": "markdown",
   "metadata": {},
   "source": [
    "$$x=\\dfrac{x_1+rx_2}{1+r}=\\dfrac{(1)+2(5)}{1+2}=\\dfrac{11}{3}$$"
   ]
  },
  {
   "cell_type": "markdown",
   "metadata": {},
   "source": [
    "$$y=\\dfrac{y_1+ry_2}{1+r}=\\dfrac{(1)+2(9)}{1+2}=\\dfrac{19}{3}$$"
   ]
  },
  {
   "cell_type": "markdown",
   "metadata": {},
   "source": [
    "El segundo punto que separará al segmento en tres partes es $P_2\\left(\\dfrac{11}{3},\\dfrac{19}{3}\\right).$"
   ]
  },
  {
   "cell_type": "markdown",
   "metadata": {},
   "source": [
    "# Tarea moral"
   ]
  },
  {
   "cell_type": "markdown",
   "metadata": {},
   "source": [
    "* ***Ejemplo:*** Hallar el punto medio y los puntos que dividen en $4$ partes al segmento cuyos extremos son los puntos $A(-2,3)$ y $B(6,-3)$."
   ]
  },
  {
   "cell_type": "markdown",
   "metadata": {},
   "source": [
    "**Mediante punto medio:**"
   ]
  },
  {
   "cell_type": "markdown",
   "metadata": {},
   "source": [
    "**Mediante razón:**"
   ]
  },
  {
   "cell_type": "markdown",
   "metadata": {},
   "source": [
    "* 1, 3\n",
    "* 2, 2\n",
    "* 3, 1"
   ]
  },
  {
   "cell_type": "markdown",
   "metadata": {},
   "source": [
    "## Lugar geométrico"
   ]
  },
  {
   "cell_type": "markdown",
   "metadata": {},
   "source": [
    "*Conjunto de puntos en el plano cartesiano que cumplen cierta condición.*"
   ]
  },
  {
   "cell_type": "markdown",
   "metadata": {},
   "source": [
    "* $y=0$ : todos los puntos cuya ordenada vale cero."
   ]
  },
  {
   "cell_type": "markdown",
   "metadata": {},
   "source": [
    "* $x=-3$ : todos los puntos cuya abscisa vale tres negativo."
   ]
  },
  {
   "cell_type": "markdown",
   "metadata": {},
   "source": [
    "## Ecuación de la recta"
   ]
  },
  {
   "cell_type": "markdown",
   "metadata": {},
   "source": [
    "### Forma ordenada-pendiente de la ecuación de la recta"
   ]
  },
  {
   "cell_type": "markdown",
   "metadata": {},
   "source": [
    "La ecuación de la recta tiene la forma:"
   ]
  },
  {
   "cell_type": "markdown",
   "metadata": {},
   "source": [
    "$$ y=mx+b $$"
   ]
  },
  {
   "cell_type": "markdown",
   "metadata": {},
   "source": [
    "* $m$ : pendiente\n",
    "* $b$ : ordenada al origen (el valor en el cual la recta corta el eje $y$)"
   ]
  },
  {
   "cell_type": "markdown",
   "metadata": {},
   "source": [
    "### Tabulación"
   ]
  },
  {
   "cell_type": "markdown",
   "metadata": {},
   "source": [
    "Tenemos la ecuación de la recta:"
   ]
  },
  {
   "cell_type": "markdown",
   "metadata": {},
   "source": [
    "$$ y=2x+1 $$"
   ]
  },
  {
   "cell_type": "markdown",
   "metadata": {},
   "source": [
    "| $x$  | $y$ |\n",
    "|------|-----|\n",
    "| $-3$ |$-5$ |\n",
    "| $-2$ |$-3$ |\n",
    "| $-1$ |$-1$ |\n",
    "| $0$  |$1$  |\n",
    "| $1$  |$3$  |\n",
    "| $2$  |$5$  |\n",
    "| $3$  |$7$  |"
   ]
  },
  {
   "cell_type": "markdown",
   "metadata": {},
   "source": [
    "Cuando $x=-3$\n",
    "$$ y=2(-3)+1=-5 $$"
   ]
  },
  {
   "cell_type": "markdown",
   "metadata": {},
   "source": [
    "Cuando $x=-2$\n",
    "$$ y=2(-2)+1=-4+1=-3 $$"
   ]
  },
  {
   "cell_type": "markdown",
   "metadata": {},
   "source": [
    "### ¿Qué significa que un punto pertenezca a una recta?"
   ]
  },
  {
   "cell_type": "markdown",
   "metadata": {},
   "source": [
    "Un punto $P(x_0,y_0)$ pertenece a una recta\n",
    "\n",
    "$$ y=mx+b $$\n",
    "\n",
    "si al reemplazar $x_0$ en la ecuación de la recta, obtenemos $y_0$:\n",
    "\n",
    "$$ y=mx_0+b=y_0 $$"
   ]
  },
  {
   "cell_type": "markdown",
   "metadata": {},
   "source": [
    "Si dos o más puntos están sobre una recta, los puntos son colineales."
   ]
  },
  {
   "cell_type": "markdown",
   "metadata": {},
   "source": [
    "* ***Ejemplo:*** ¿$P(1,7)$ pertenece a la recta $y=3x+4$?"
   ]
  },
  {
   "cell_type": "markdown",
   "metadata": {},
   "source": [
    "$$ y=3x+4$$"
   ]
  },
  {
   "cell_type": "markdown",
   "metadata": {},
   "source": [
    "$$ y=3(1)+4=3+4=7$$"
   ]
  },
  {
   "cell_type": "markdown",
   "metadata": {},
   "source": [
    "Al remplazar la abscisa del punto en cuestión en la ecuación de la recta **SÍ** obtuvimos la ordenada del punto en cuestión. Entonces, el punto **SÍ** pertenece a la recta."
   ]
  },
  {
   "cell_type": "markdown",
   "metadata": {},
   "source": [
    "* ***Ejemplo:*** ¿$Q(-1,4)$ pertenece a la recta $y=3x+4$?"
   ]
  },
  {
   "cell_type": "markdown",
   "metadata": {},
   "source": [
    "$$ y=3x+4$$"
   ]
  },
  {
   "cell_type": "markdown",
   "metadata": {},
   "source": [
    "$$ y=3(-1)+4=-3+4=1\\neq4$$"
   ]
  },
  {
   "cell_type": "markdown",
   "metadata": {},
   "source": [
    "Al remplazar la abscisa del punto en cuestión en la ecuación de la recta **NO** obtuvimos la ordenada del punto en cuestión. Entonces, el punto **NO** pertenece a la recta."
   ]
  },
  {
   "cell_type": "markdown",
   "metadata": {},
   "source": [
    "### Ángulo de inclinación y pendiente"
   ]
  },
  {
   "cell_type": "markdown",
   "metadata": {},
   "source": [
    "Si tenemos dos puntos $A(-1,3)$ y $B(3,-3)$, hay un sola recta que pasa por ambos puntos. Esta recta tiene una cierta inclinación. Dicha inclinación se mantiene a lo largo de toda la recta."
   ]
  },
  {
   "cell_type": "markdown",
   "metadata": {},
   "source": [
    "**¿Cómo obtenemos la inclinación?**"
   ]
  },
  {
   "cell_type": "markdown",
   "metadata": {},
   "source": [
    "Podemos obtener el ángulo podemos resolver el triángulo que se dibuja con las coordenadas y las rectas verticales y horizantales a dichos puntos."
   ]
  },
  {
   "cell_type": "markdown",
   "metadata": {},
   "source": [
    "Definimos la *pendiente* como"
   ]
  },
  {
   "cell_type": "markdown",
   "metadata": {},
   "source": [
    "$$ m=\\dfrac{y_2-y_1}{x_2-x_1} $$"
   ]
  },
  {
   "cell_type": "markdown",
   "metadata": {},
   "source": [
    "La manera en que esto se relaciona con el ángulo obtenido anteriormente es"
   ]
  },
  {
   "cell_type": "markdown",
   "metadata": {},
   "source": [
    "$$m=\\tan\\theta$$"
   ]
  },
  {
   "cell_type": "markdown",
   "metadata": {},
   "source": [
    "$$\\theta=\\tan^{-1}(m)$$"
   ]
  },
  {
   "cell_type": "markdown",
   "metadata": {},
   "source": [
    "* ***Ejemplo:*** Si tenemos los puntos $A(-1,3)$ y $B(3,-3)$, obtén la pendiente y el ángulo de inclinación."
   ]
  },
  {
   "cell_type": "markdown",
   "metadata": {},
   "source": [
    "$$ m=\\dfrac{y_2-y_1}{x_2-x_1}=\\dfrac{(-3)-(3)}{(3)-(-1)}=\\dfrac{-3-3}{3+1}=\\dfrac{-6}{4}=-\\dfrac{3}{2}=-1.5 $$"
   ]
  },
  {
   "cell_type": "markdown",
   "metadata": {},
   "source": [
    "$$\\theta=\\tan^{-1}(-1.5)\\approx-56.31^\\circ$$"
   ]
  },
  {
   "cell_type": "code",
   "execution_count": 1,
   "metadata": {},
   "outputs": [
    {
     "data": {
      "text/plain": [
       "-56.309932474020215"
      ]
     },
     "execution_count": 1,
     "metadata": {},
     "output_type": "execute_result"
    }
   ],
   "source": [
    "atand(-1.5)"
   ]
  },
  {
   "cell_type": "markdown",
   "metadata": {},
   "source": [
    "**¿Qué significa la pendiente?**"
   ]
  },
  {
   "cell_type": "markdown",
   "metadata": {},
   "source": [
    "Si avanzamos una unidad en $x$, avanzamos $m$ unidades en $y$."
   ]
  },
  {
   "cell_type": "markdown",
   "metadata": {},
   "source": [
    "El coeficiente que acompaña a $x$ en la ecuación de una recta es la pendiente."
   ]
  },
  {
   "cell_type": "markdown",
   "metadata": {},
   "source": [
    "* ***Ejemplo:***"
   ]
  },
  {
   "cell_type": "markdown",
   "metadata": {},
   "source": [
    "$$ y=3x-5 $$"
   ]
  },
  {
   "cell_type": "markdown",
   "metadata": {},
   "source": [
    "La pendiente de la recta es 3."
   ]
  },
  {
   "cell_type": "markdown",
   "metadata": {},
   "source": [
    "Cuando $x=-3$\n",
    "$$ y=3(-3)-5=-9-5=-14$$"
   ]
  },
  {
   "cell_type": "markdown",
   "metadata": {},
   "source": [
    "| $x$  | $y$ |\n",
    "|------|-----|\n",
    "| $-3$ | $-14$    |\n",
    "| $-2$ | $-11$    |\n",
    "| $-1$ | $-8$    |\n",
    "| $0$  | $-5$    |\n",
    "| $1$  | $-2$    |\n",
    "| $2$  | $1$    |\n",
    "| $3$  | $4$    |"
   ]
  },
  {
   "cell_type": "markdown",
   "metadata": {},
   "source": [
    "# Tarea moral:"
   ]
  },
  {
   "cell_type": "markdown",
   "metadata": {},
   "source": [
    "* ***Ejemplo:***"
   ]
  },
  {
   "cell_type": "markdown",
   "metadata": {},
   "source": [
    "$$ y=-x+4 $$"
   ]
  },
  {
   "cell_type": "markdown",
   "metadata": {},
   "source": [
    "| $x$  | $y$ |\n",
    "|------|-----|\n",
    "| $-3$ |     |\n",
    "| $-2$ |     |\n",
    "| $-1$ |     |\n",
    "| $0$  |     |\n",
    "| $1$  |     |\n",
    "| $2$  |     |\n",
    "| $3$  |     |"
   ]
  },
  {
   "cell_type": "markdown",
   "metadata": {},
   "source": [
    "* ***Ejemplo:***"
   ]
  },
  {
   "cell_type": "markdown",
   "metadata": {},
   "source": [
    "$$ y=\\dfrac{3}{2}x-\\dfrac{1}{2} $$"
   ]
  },
  {
   "cell_type": "markdown",
   "metadata": {},
   "source": [
    "| $x$  | $y$ |\n",
    "|------|-----|\n",
    "| $-3$ |     |\n",
    "| $-2$ |     |\n",
    "| $-1$ |     |\n",
    "| $0$  |     |\n",
    "| $1$  |     |\n",
    "| $2$  |     |\n",
    "| $3$  |     |"
   ]
  },
  {
   "cell_type": "markdown",
   "metadata": {},
   "source": [
    "### Recordatorio: Forma ordenada-pendiente de la ecuación de la recta"
   ]
  },
  {
   "cell_type": "markdown",
   "metadata": {},
   "source": [
    "La ecuación de la recta tiene la forma:"
   ]
  },
  {
   "cell_type": "markdown",
   "metadata": {},
   "source": [
    "$$ y=mx+b $$"
   ]
  },
  {
   "cell_type": "markdown",
   "metadata": {},
   "source": [
    "* $m$ : pendiente\n",
    "* $b$ : ordenada al origen (el valor en el cual la recta corta el eje $y$)"
   ]
  },
  {
   "cell_type": "markdown",
   "metadata": {},
   "source": [
    "Quieres decir que la recta para por el punto $(0,b)$"
   ]
  },
  {
   "cell_type": "markdown",
   "metadata": {},
   "source": [
    "### Rectas especiales"
   ]
  },
  {
   "cell_type": "markdown",
   "metadata": {},
   "source": [
    "Si $y=b$, tendremos una recta horizontal que pasa por la ordenada $b$."
   ]
  },
  {
   "cell_type": "markdown",
   "metadata": {},
   "source": [
    "* ***Ejemplo:***"
   ]
  },
  {
   "cell_type": "markdown",
   "metadata": {},
   "source": [
    "$$ y=0 $$"
   ]
  },
  {
   "cell_type": "markdown",
   "metadata": {},
   "source": [
    "$m=0$, $b=0$"
   ]
  },
  {
   "cell_type": "markdown",
   "metadata": {},
   "source": [
    "* ***Ejemplo:***"
   ]
  },
  {
   "cell_type": "markdown",
   "metadata": {},
   "source": [
    "$$ y=5 $$"
   ]
  },
  {
   "cell_type": "markdown",
   "metadata": {},
   "source": [
    "$m=0$, $b=5$"
   ]
  },
  {
   "cell_type": "markdown",
   "metadata": {},
   "source": [
    "Si $x=a$, tendremos una recta vertical que pasa por la abscisa $a$."
   ]
  },
  {
   "cell_type": "markdown",
   "metadata": {},
   "source": [
    "* ***Ejemplo:***"
   ]
  },
  {
   "cell_type": "markdown",
   "metadata": {},
   "source": [
    "$$ x=0 $$"
   ]
  },
  {
   "cell_type": "markdown",
   "metadata": {},
   "source": [
    "$m=\\infty$, $a=0$"
   ]
  },
  {
   "cell_type": "markdown",
   "metadata": {},
   "source": [
    "* ***Ejemplo:***"
   ]
  },
  {
   "cell_type": "markdown",
   "metadata": {},
   "source": [
    "$$ x=-2 $$"
   ]
  },
  {
   "cell_type": "markdown",
   "metadata": {},
   "source": [
    "$m=\\infty$, $a=-2$"
   ]
  },
  {
   "cell_type": "markdown",
   "metadata": {},
   "source": [
    "* ***Ejemplo:***"
   ]
  },
  {
   "cell_type": "markdown",
   "metadata": {},
   "source": [
    "$$ x=y $$"
   ]
  },
  {
   "cell_type": "markdown",
   "metadata": {},
   "source": [
    "$m=1$, $b=0$"
   ]
  }
 ],
 "metadata": {
  "kernelspec": {
   "display_name": "Julia 1.1.0",
   "language": "julia",
   "name": "julia-1.1"
  },
  "language_info": {
   "file_extension": ".jl",
   "mimetype": "application/julia",
   "name": "julia",
   "version": "1.1.0"
  }
 },
 "nbformat": 4,
 "nbformat_minor": 4
}
