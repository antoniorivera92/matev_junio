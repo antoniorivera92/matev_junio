{
 "cells": [
  {
   "cell_type": "markdown",
   "metadata": {},
   "source": [
    "# GUIA\tFISICA\tI\t(Extraordinario)"
   ]
  },
  {
   "cell_type": "markdown",
   "metadata": {},
   "source": [
    "# Clase 9 (2+1)"
   ]
  },
  {
   "cell_type": "markdown",
   "metadata": {},
   "source": [
    "## (Bloque 1)"
   ]
  },
  {
   "cell_type": "markdown",
   "metadata": {},
   "source": [
    "### TEMA I (Introducción a la Física)"
   ]
  },
  {
   "cell_type": "markdown",
   "metadata": {},
   "source": [
    "#### Define:"
   ]
  },
  {
   "cell_type": "markdown",
   "metadata": {},
   "source": [
    "#### 1) Ciencia:"
   ]
  },
  {
   "cell_type": "markdown",
   "metadata": {},
   "source": [
    "Es un sistema que construye y organiza el conocimiento en forma de explicaciones y predicciones experimentales sobre el Universo.\n",
    "\n",
    "https://en.wikipedia.org/wiki/Science\n",
    "\n",
    "Rama del saber humano constituida por el conjunto del conocimiento objetivo y verificables sobre materias determinadas."
   ]
  },
  {
   "cell_type": "markdown",
   "metadata": {},
   "source": [
    "#### 2) Tecnología:"
   ]
  },
  {
   "cell_type": "markdown",
   "metadata": {},
   "source": [
    "Es el conjunto de técnicas, habilidades, métodos y procesos usados en la producción de bienes o servicios o en la realización de ciertas metas, tales como la investigación científica.\n",
    "\n",
    "https://en.wikipedia.org/wiki/Technology"
   ]
  },
  {
   "cell_type": "markdown",
   "metadata": {},
   "source": [
    "#### 3) Los\tpasos\tdel\tmétodo\tcientífico:"
   ]
  },
  {
   "cell_type": "markdown",
   "metadata": {},
   "source": [
    "1. Observar\n",
    "2. Planteamiento del problema o pregunta\n",
    "3. Hipótesis\n",
    "4. Experimentación\n",
    "5. Análisis de resultados\n",
    "6. Conclusiones\n",
    "\n",
    "https://en.wikipedia.org/wiki/Scientific_method"
   ]
  },
  {
   "cell_type": "markdown",
   "metadata": {},
   "source": [
    "#### 4) Física:"
   ]
  },
  {
   "cell_type": "markdown",
   "metadata": {},
   "source": [
    "Es la ciencia natural que estudia la materia, su movimiento y el comportamiento a través del espacio y el tiempo, además de la energía y la fuerza, conceptos muy relacionados.\n",
    "\n",
    "https://en.wikipedia.org/wiki/Physics"
   ]
  },
  {
   "cell_type": "markdown",
   "metadata": {},
   "source": [
    "#### 5)\tElabora\tun\tmapa\tconceptual\tde\tlas\tramas\tde\tla\tFísica:"
   ]
  },
  {
   "cell_type": "markdown",
   "metadata": {},
   "source": [
    "<img src=\"mapa.png\" align=\"middle\" width=\"700\">"
   ]
  },
  {
   "cell_type": "markdown",
   "metadata": {},
   "source": [
    "\\begin{equation}\n",
    "\\text{Física}\\begin{cases}\\text{Clásica}\\begin{cases}\\text{Mecánica}\\\\ \\text{Óptica}\\\\ \\text{Acústica}\\\\ \\text{Termodinámica}\\\\  \\text{Electromagnetismo} \\\\ \\text{* Astrofísica}\\end{cases}\\\\ \\text{Moderna}\\begin{cases}\\text{Nuclear}\\\\ \\text{Atómica}\\\\ \\text{Plasma}\\\\ \\text{Partículas elementales}\\\\ \\text{* Cosmología}\\end{cases}\\end{cases}\n",
    "\\end{equation}"
   ]
  },
  {
   "cell_type": "markdown",
   "metadata": {},
   "source": [
    "### TEMA\tII\t(Magnitudes\tFísicas\ty\tsu\tmedición)"
   ]
  },
  {
   "cell_type": "markdown",
   "metadata": {},
   "source": [
    "#### Define:"
   ]
  },
  {
   "cell_type": "markdown",
   "metadata": {},
   "source": [
    "#### 8) Cantidad Física:"
   ]
  },
  {
   "cell_type": "markdown",
   "metadata": {},
   "source": [
    "Es una propiedad de un material o sistema que puede ser cuantificada a partir de una medición.\n",
    "\n",
    "https://en.wikipedia.org/wiki/Physical_quantity"
   ]
  },
  {
   "cell_type": "markdown",
   "metadata": {},
   "source": [
    "#### 9) Unidad\tfísica:"
   ]
  },
  {
   "cell_type": "markdown",
   "metadata": {},
   "source": [
    "Es aquello que usado como patrón para medir (comparar)."
   ]
  },
  {
   "cell_type": "markdown",
   "metadata": {},
   "source": [
    "#### 10) Medir:"
   ]
  },
  {
   "cell_type": "markdown",
   "metadata": {},
   "source": [
    "Determinar la proporción (**comparar**) entre la magnitud o dimensión de un objeto (**cantidad física**) y una determinada unidad de medida o unidad de medición (**unidad física**).\n",
    "    \n",
    "https://es.wiktionary.org/wiki/medir"
   ]
  },
  {
   "cell_type": "markdown",
   "metadata": {},
   "source": [
    "#### 11) Precisión:"
   ]
  },
  {
   "cell_type": "markdown",
   "metadata": {},
   "source": [
    "En mediciones, \"exactitud\" está relacionado con qué tan cercano es una medición a un valor específico, mientras que \"precisión\" está relacionada con qué tan cercanas se encuentran una medición con otra.\n",
    "\n",
    "https://en.wikipedia.org/wiki/Accuracy_and_precision"
   ]
  },
  {
   "cell_type": "markdown",
   "metadata": {},
   "source": [
    "#### 12) Incertidumbre o error absoluto:\t"
   ]
  },
  {
   "cell_type": "markdown",
   "metadata": {},
   "source": [
    "Es la diferencia entre un valor (real) y una medición, donde ambas deben de tener las mismas unidades.\n",
    "\n",
    "http://www.owlnet.rice.edu/~labgroup/pdf/Error_analysis.htm\n",
    "\n",
    "$$ \\text{Error absoluto}=|\\text{Valor real}-\\text{Medición}| $$"
   ]
  },
  {
   "cell_type": "markdown",
   "metadata": {},
   "source": [
    "#### 13) Error\trelativo:"
   ]
  },
  {
   "cell_type": "markdown",
   "metadata": {},
   "source": [
    "Se obtiene dividiendo el error absoluto entre el valor (real). \n",
    "\n",
    "http://www.owlnet.rice.edu/~labgroup/pdf/Error_analysis.htm\n",
    "\n",
    "$$ \\text{Error relativo}=\\dfrac{\\text{Error absoluto}}{\\text{Valor real}}=\\dfrac{|\\text{Valor real}-\\text{Medición}|}{\\text{Valor real}} $$"
   ]
  },
  {
   "cell_type": "markdown",
   "metadata": {},
   "source": [
    "#### 14) Elabora\tuna\ttabla\tcon\tlas\t7\tUnidades\tfundamentales\tdel\tSistema\tInternacional\tde\tMedidas. (Deberá\tincluir\t3\tcolumnas:\tcantidad\tque\tse\tmide,\tnombre\tde\tla\tunidad\ty\tsímbolo\tde\tla\tunidad)\t\n"
   ]
  },
  {
   "cell_type": "markdown",
   "metadata": {},
   "source": [
    "| Cantidad que se mide | Nombre de la unidad | Símbolo de la unidad |\n",
    "|----------------------|---------------------|----------------------|\n",
    "| Longitud                     | metro               | m                     |\n",
    "| Masa                     | kilogramo                    | kg                     |\n",
    "| Tiempo                     | segundo                    | s                     |\n",
    "| Temperatura                     | kelvin                    | K                     |\n",
    "| Intensidad de corriente eléctrica                     | ampere                    | A                     |\n",
    "| Cantidad de objetos                     | mol                    | mol                     |\n",
    "| Intensidad luminosa                     | candela                    | cd                     |"
   ]
  },
  {
   "cell_type": "markdown",
   "metadata": {},
   "source": [
    "#### 15) Elabora\tdos\ttablas\tcon\tlos\tprefijos\tde\tmayor\tuso\ten\tel\tS.I.\tde\tmedidas\t(una\tpara\tlos\tmayores\tque\t1\ty\totra\tpara\tlos\tmenores\tque\t1).\tCada\ttabla\tdeberá\tincluir\t4\tcolumnas:\tnombre\tdel\tprefijo,\tsímbolo,\tsignificado,\texpresión\ten\tnotación\tcientífica."
   ]
  },
  {
   "cell_type": "markdown",
   "metadata": {},
   "source": [
    "| Nombre del prefijo | Símbolo | Significado | Expresión en notación científica |\n",
    "|:-------------------|:--------|:------------|:---------------------------------|\n",
    "| Tera                   | T        | Billones            | $10^{12}$                                 |\n",
    "| Giga                   | G        | Mil millones            | $10^{9}$                                 |\n",
    "| Mega                   | M        | Millones            | $10^{6}$                                 |\n",
    "| Kilo                   | k        | Miles            | $10^{3}$                                 |\n",
    "| Hecto                   | H        | Centenas            | $10^{2}$                                 |\n",
    "| Deca                   | D        | Decenas            | $10^{1}$                                 |\n",
    "| Unidad                   | $1$        | Unidad            | $10^{0}$                                 |\n",
    "| Deci                   | d        | Décimos            | $10^{-1}$                                 |\n",
    "| Centi                   | c        | Centésimos            | $10^{-2}$                                 |\n",
    "| Mili                   | m        | Milésimos            | $10^{-3}$                                 |\n",
    "| Micro                   | $\\mu$        | Millonésimos            | $10^{-6}$                                 |\n",
    "| Nano                   | n        | Milmillonésimos            | $10^{-9}$                                 |\n",
    "| Pico                   | p        | Billonésimos            | $10^{-12}$                                 |"
   ]
  },
  {
   "cell_type": "markdown",
   "metadata": {},
   "source": [
    "#### 16) \tUtilizando\tfactores\tde\tconversión\trealiza\tlas\tsiguientes\tconversiones:"
   ]
  },
  {
   "cell_type": "markdown",
   "metadata": {},
   "source": [
    "1250 mm = ________________________________m"
   ]
  },
  {
   "cell_type": "markdown",
   "metadata": {},
   "source": [
    "$$ 1250\\ \\text{mm}\\times\\left(\\dfrac{1\\ \\text{m}}{1000\\ \\text{mm}}\\right)=1.25\\ \\text{m} $$"
   ]
  },
  {
   "cell_type": "markdown",
   "metadata": {},
   "source": [
    "8600 g\t=\t\t\t___________________________________ kg"
   ]
  },
  {
   "cell_type": "markdown",
   "metadata": {},
   "source": [
    "$$ 8600\\ \\text{g}\\times\\left(\\dfrac{1\\ \\text{kg}}{1000\\ \\text{g}}\\right)=8.6\\ \\text{kg} $$"
   ]
  },
  {
   "cell_type": "markdown",
   "metadata": {},
   "source": [
    "12\tminutos\t= ___________________________________ s"
   ]
  },
  {
   "cell_type": "markdown",
   "metadata": {},
   "source": [
    "$$ 12\\ \\text{min}\\times\\left(\\dfrac{60\\ \\text{s}}{1\\ \\text{min}}\\right)=720\\ \\text{s} $$"
   ]
  },
  {
   "cell_type": "markdown",
   "metadata": {},
   "source": [
    "72 km/h = ______________________________________ m/s"
   ]
  },
  {
   "cell_type": "markdown",
   "metadata": {},
   "source": [
    "$$ 72\\ \\dfrac{\\text{km}}{\\text{h}}\\times\\left(\\dfrac{1000\\ \\text{m}}{1\\ \\text{km}}\\right)\\times\\left(\\dfrac{1\\ \\text{h}}{3600\\ \\text{s}}\\right)=20\\ \\dfrac{\\text{m}}{\\text{s}} $$"
   ]
  },
  {
   "cell_type": "markdown",
   "metadata": {},
   "source": [
    "* Para pasar de km/h a m/s divides entre 3.6\n",
    "* Para pasar de m/s a km/h multiplicas por 3.6"
   ]
  },
  {
   "cell_type": "markdown",
   "metadata": {},
   "source": [
    "#### 17) \tRealiza\tlas\tsiguientes\toperaciones\ten\tnotación\tcientífica:\t"
   ]
  },
  {
   "cell_type": "markdown",
   "metadata": {},
   "source": [
    "a) $8.6\\times10^7-2.4\\times10^6=$"
   ]
  },
  {
   "cell_type": "markdown",
   "metadata": {},
   "source": [
    "$$8.6\\times10^7-2.4\\times10^6=8.6\\times10^7-0.24\\times10^7=(8.6-0.24)\\times10^7$$"
   ]
  },
  {
   "cell_type": "markdown",
   "metadata": {},
   "source": [
    "$$=8.36\\times10^7$$"
   ]
  },
  {
   "cell_type": "markdown",
   "metadata": {},
   "source": [
    "b) $\\dfrac{[(9\\times10^{-6})(2\\times10^8)]}{3\\times10^4}=$"
   ]
  },
  {
   "cell_type": "markdown",
   "metadata": {},
   "source": [
    "$$\\dfrac{[(9\\times10^{-6})(2\\times10^8)]}{3\\times10^4}=\\dfrac{[(9)(2)]}{3}\\times\\dfrac{[(10^{-6})(10^8)]}{10^4}$$"
   ]
  },
  {
   "cell_type": "markdown",
   "metadata": {},
   "source": [
    "$$=6\\times10^{(-6)+(8)-(4)}=6\\times10^{-2}$$"
   ]
  },
  {
   "cell_type": "markdown",
   "metadata": {},
   "source": [
    "#### 11)\tAl\tmedir\tseis\tveces\tla\tlongitud\tde\tuna\tvarilla\tse\tobtuvieron\tlos\tsiguientes\tresultados:\t\n",
    "24.96\tcm,\t24.92\tcm,\t24.97\tcm,\t24.90\tcm,\t24.98\tcm,\t24.91\tcm."
   ]
  },
  {
   "cell_type": "markdown",
   "metadata": {},
   "source": [
    "#### a)\tDetermina\tel\tvalor\tmás\tprobable\tde\tla\tlongitud\tde\tla\tvarilla."
   ]
  },
  {
   "cell_type": "markdown",
   "metadata": {},
   "source": [
    "El valor más probable de una medición es el promedio."
   ]
  },
  {
   "cell_type": "markdown",
   "metadata": {},
   "source": [
    "$$\\bar{x}=\\dfrac{24.96\t\\ \\text{cm}+\t24.92\t\\ \\text{cm}+\t24.97\t\\ \\text{cm}+\t24.90\t\\ \\text{cm}+\t24.98\t\\ \\text{cm}+\t24.91\t\\text{cm}}{6}=24.94\\ \\text{cm} $$"
   ]
  },
  {
   "cell_type": "code",
   "execution_count": 2,
   "metadata": {},
   "outputs": [
    {
     "data": {
      "text/plain": [
       "24.94"
      ]
     },
     "execution_count": 2,
     "metadata": {},
     "output_type": "execute_result"
    }
   ],
   "source": [
    "(24.96+24.92+24.97+24.90+24.98+24.91)/6"
   ]
  },
  {
   "cell_type": "markdown",
   "metadata": {},
   "source": [
    "#### b)\tEl\terror\tabsoluto\tde\tla\tmedida.\t"
   ]
  },
  {
   "cell_type": "markdown",
   "metadata": {},
   "source": [
    "| Medición, $x_i$ | Error absoluto, $|\\bar{x}-x_i|$ |\n",
    "|-----------------|-----------------------------------|\n",
    "| 24.96                | 0.02                                  |\n",
    "| 24.92                | 0.02                                  |\n",
    "| 24.97                | 0.03                                  |\n",
    "| 24.90                | 0.04                                  |\n",
    "| 24.98                | 0.04                                  |\n",
    "| 24.91                | 0.03                                  |"
   ]
  },
  {
   "cell_type": "markdown",
   "metadata": {},
   "source": [
    "$$\\bar{\\varepsilon}=\\dfrac{0.02\t\\ \\text{cm}+\t0.02\t\\ \\text{cm}+\t0.03\t\\ \\text{cm}+\t0.04\t\\ \\text{cm}+\t0.04\t\\ \\text{cm}+\t0.03\t\\text{cm}}{6}=0.03\\ \\text{cm}$$"
   ]
  },
  {
   "cell_type": "markdown",
   "metadata": {},
   "source": [
    "#### c)\tEl\tintervalo\tdentro\tdel\tcual\testá\tla\tmedida\texacta\tde\tla\tvarilla,\testo\tes\tla\tmanera\tcorrecta\tde\treportar la\tlongitud\tde\tla\tvarilla:\t\n"
   ]
  },
  {
   "cell_type": "markdown",
   "metadata": {},
   "source": [
    "$$ \\bar{x}\\pm\\bar{\\varepsilon}=[\\bar{x}-\\bar{\\varepsilon},\\bar{x}+\\bar{\\varepsilon}] $$"
   ]
  },
  {
   "cell_type": "markdown",
   "metadata": {},
   "source": [
    "$$ [24.94\\ \\text{cm}-0.03\\ \\text{cm},24.94\\ \\text{cm}+0.03\\ \\text{cm}] $$"
   ]
  },
  {
   "cell_type": "markdown",
   "metadata": {},
   "source": [
    "$$ 24.94\\pm0.03\\ \\text{cm}=[24.91\\ \\text{cm},24.97\\ \\text{cm}] $$"
   ]
  },
  {
   "cell_type": "markdown",
   "metadata": {},
   "source": [
    "https://www.fisicalab.com/apartado/errores-absoluto-relativos"
   ]
  },
  {
   "cell_type": "markdown",
   "metadata": {},
   "source": [
    "#### d)\tEl\terror\trelativo."
   ]
  },
  {
   "cell_type": "markdown",
   "metadata": {},
   "source": [
    "Sólo se toman dos cifras significativas (dos números considerando el primer número que no es cero):"
   ]
  },
  {
   "cell_type": "markdown",
   "metadata": {},
   "source": [
    "$$ \\varepsilon_r=\\dfrac{\\bar{\\varepsilon}}{\\bar{x}}=\\dfrac{0.03\\ \\text{cm}}{29.94\\ \\text{cm}}=0.0010 $$"
   ]
  },
  {
   "cell_type": "markdown",
   "metadata": {},
   "source": [
    "El error relativo porcentual en las mediciones es del $0.0010\\times100=0.1\\%$."
   ]
  },
  {
   "cell_type": "markdown",
   "metadata": {},
   "source": [
    "### TEMA III (Vectores)"
   ]
  },
  {
   "cell_type": "markdown",
   "metadata": {},
   "source": [
    "#### Define:"
   ]
  },
  {
   "cell_type": "markdown",
   "metadata": {},
   "source": [
    "#### 1) Escalar\t(da\t3\tejemplos)"
   ]
  },
  {
   "cell_type": "markdown",
   "metadata": {},
   "source": [
    "Es una cantidad física que tiene magnitud pero no dirección.\n",
    "\n",
    "https://en.wikipedia.org/wiki/Physical_quantity"
   ]
  },
  {
   "cell_type": "markdown",
   "metadata": {},
   "source": [
    "Ejemplos más populares:\n",
    "\n",
    "* Tiempo (2 horas)\n",
    "* Temperatura ($30^\\circ\\ \\text{C}$)\n",
    "* Energía ($50\\ \\text{J}$)"
   ]
  },
  {
   "cell_type": "markdown",
   "metadata": {},
   "source": [
    "Ejemplos menos populares:\n",
    "\n",
    "* Masa\n",
    "* Distancia o longitud\n",
    "* Intensidad de corriente eléctrica\n",
    "* Cantidad de objetos\n",
    "* Intensidad luminosa\n",
    "* Rapidez\n",
    "* Área\n",
    "* Volumen"
   ]
  },
  {
   "cell_type": "markdown",
   "metadata": {},
   "source": [
    "#### 2) Vector\t(da\t3\tejemplos)\t\n"
   ]
  },
  {
   "cell_type": "markdown",
   "metadata": {},
   "source": [
    "Es una cantidad física que posee magnitud, dirección y sentido.\n",
    "\n",
    "https://en.wikipedia.org/wiki/Physical_quantity"
   ]
  },
  {
   "cell_type": "markdown",
   "metadata": {},
   "source": [
    "Ejemplos más populares:\n",
    "\n",
    "* Fuerza ($100\\ \\text{N}, 30^\\circ\\text{NE}$)\n",
    "* Desplazamiento\n",
    "* Velocidad"
   ]
  },
  {
   "cell_type": "markdown",
   "metadata": {},
   "source": [
    "Ejemplos menos populares:\n",
    "\n",
    "* Aceleración"
   ]
  },
  {
   "cell_type": "markdown",
   "metadata": {},
   "source": [
    "#### Obtén\tla\tsuma\tvectorial\ten\tlos\tsiguientes\tproblemas.\tElabora\tun\tdiagrama.\tEscribe\tla\tresultante\ten\tforma\tcartesiana\ty\tpolar.\t(No\tolvides\tponer\tunidades):"
   ]
  },
  {
   "cell_type": "markdown",
   "metadata": {},
   "source": [
    "#### 3) Un\tautomóvil\tcuyo\tdesplazamiento\tfue\tde\t500\tkm.\tal\tNorte\ty\tdespués\t200\tkm.\tal\tSur."
   ]
  },
  {
   "cell_type": "markdown",
   "metadata": {},
   "source": [
    "$$ \\vec{d}=(300\\ \\text{km},\\text{Norte})=(300\\ \\text{km},90^\\circ)$$"
   ]
  },
  {
   "cell_type": "markdown",
   "metadata": {},
   "source": [
    "Esto es la forma polar."
   ]
  },
  {
   "cell_type": "markdown",
   "metadata": {},
   "source": [
    "$$ \\vec{d}=(0\\ \\text{km},300\\ \\text{km})$$"
   ]
  },
  {
   "cell_type": "markdown",
   "metadata": {},
   "source": [
    "Esto es la forma cartesiana."
   ]
  },
  {
   "cell_type": "markdown",
   "metadata": {},
   "source": [
    "<img src=\"vector1.png\" align=\"middle\" width=\"600\">"
   ]
  },
  {
   "cell_type": "markdown",
   "metadata": {},
   "source": [
    "#### 4) Una\thormiga\tque\tcamina\t20\tcm.\tal\t\tEste\ty\tluego\t15\tcm.\tal\tNorte."
   ]
  },
  {
   "cell_type": "markdown",
   "metadata": {},
   "source": [
    "$$ \\vec{d}=(d_x,d_y)=(20\\ \\text{cm},15\\ \\text{cm})$$"
   ]
  },
  {
   "cell_type": "markdown",
   "metadata": {},
   "source": [
    "Esto es la forma cartesiana."
   ]
  },
  {
   "cell_type": "markdown",
   "metadata": {},
   "source": [
    "La magnitud del vector es"
   ]
  },
  {
   "cell_type": "markdown",
   "metadata": {},
   "source": [
    "$$ d=\\sqrt{{d_x}^2+{d_y}^2}=\\sqrt{20^2+15^2}=\\sqrt{625}=25 $$"
   ]
  },
  {
   "cell_type": "markdown",
   "metadata": {},
   "source": [
    "(Es como distancia entre dos puntos.)"
   ]
  },
  {
   "cell_type": "markdown",
   "metadata": {},
   "source": [
    "La dirección del vector"
   ]
  },
  {
   "cell_type": "markdown",
   "metadata": {},
   "source": [
    "$$ \\theta=\\tan^{-1}\\left(\\dfrac{d_y}{d_x}\\right)=\\tan^{-1}\\left(\\dfrac{15}{20}\\right)=36.86^\\circ$$"
   ]
  },
  {
   "cell_type": "markdown",
   "metadata": {},
   "source": [
    "Entonces,"
   ]
  },
  {
   "cell_type": "markdown",
   "metadata": {},
   "source": [
    "$$ \\vec{d}=(d,\\theta)=(25\\ \\text{cm},36.86^\\circ)$$"
   ]
  },
  {
   "cell_type": "markdown",
   "metadata": {},
   "source": [
    "Esto es la forma polar."
   ]
  },
  {
   "cell_type": "markdown",
   "metadata": {},
   "source": [
    "<img src=\"vector2.png\" align=\"middle\" width=\"600\">"
   ]
  },
  {
   "cell_type": "markdown",
   "metadata": {},
   "source": [
    "#### 5) Resuelve\tel\tsiguiente\tsistema\tde\tfuerzas:"
   ]
  },
  {
   "cell_type": "markdown",
   "metadata": {},
   "source": [
    "<img src=\"sist_de_fuerzas.png\" align=\"middle\" width=\"300\">"
   ]
  },
  {
   "cell_type": "markdown",
   "metadata": {},
   "source": [
    "$$ F_x=F\\cos\\theta $$"
   ]
  },
  {
   "cell_type": "markdown",
   "metadata": {},
   "source": [
    "$$ F_y=F\\sin\\theta $$"
   ]
  },
  {
   "cell_type": "markdown",
   "metadata": {},
   "source": [
    "**IMPORTANTE:** Recuerda que el ángulo lo mediremos desde el eje $x$ más cercano y debemos considerar el cuadrante en el que se encuentra el vector."
   ]
  },
  {
   "cell_type": "markdown",
   "metadata": {},
   "source": [
    "$$ {F_1}_x=F_1\\cos\\theta_1=-60\\ \\text{N}\\cos(15^\\circ)=-57.95\\ \\text{N} $$"
   ]
  },
  {
   "cell_type": "markdown",
   "metadata": {},
   "source": [
    "$$ {F_1}_y=F_1\\sin\\theta_1=60\\ \\text{N}\\sin(15^\\circ)=15.52\\ \\text{N} $$"
   ]
  },
  {
   "cell_type": "markdown",
   "metadata": {},
   "source": [
    "$$ {F_2}_x=F_2\\cos\\theta_2=100\\ \\text{N}\\cos(60^\\circ)=50\\ \\text{N} $$"
   ]
  },
  {
   "cell_type": "markdown",
   "metadata": {},
   "source": [
    "$$ {F_2}_y=F_2\\sin\\theta_2=100\\ \\text{N}\\sin(60^\\circ)=86.60\\ \\text{N} $$"
   ]
  },
  {
   "cell_type": "markdown",
   "metadata": {},
   "source": [
    "$$ {F_3}_x=F_3\\cos\\theta_3=150\\ \\text{N}\\cos(30^\\circ)=129.90\\ \\text{N} $$"
   ]
  },
  {
   "cell_type": "markdown",
   "metadata": {},
   "source": [
    "$$ {F_3}_y=F_3\\sin\\theta_3=-150\\ \\text{N}\\sin(30^\\circ)=-75\\ \\text{N} $$"
   ]
  },
  {
   "cell_type": "markdown",
   "metadata": {},
   "source": [
    "$$ {F_4}_x=F_4\\cos\\theta_4=80\\ \\text{N}\\cos(90^\\circ)=0\\ \\text{N} $$"
   ]
  },
  {
   "cell_type": "markdown",
   "metadata": {},
   "source": [
    "$$ {F_4}_y=F_4\\sin\\theta_4=-80\\ \\text{N}\\sin(90^\\circ)=-80\\ \\text{N} $$"
   ]
  },
  {
   "cell_type": "markdown",
   "metadata": {},
   "source": [
    "<img src=\"sist_de_fuerzas.png\" align=\"middle\" width=\"300\">"
   ]
  },
  {
   "cell_type": "markdown",
   "metadata": {},
   "source": [
    "$$ {F_R}_x= {F_1}_x+{F_2}_x+{F_3}_x+{F_4}_x=(-57.95\\ \\text{N})+(50\\ \\text{N} )+(129.90\\ \\text{N})+(0\\ \\text{N})=121.95\\ \\text{N} $$"
   ]
  },
  {
   "cell_type": "markdown",
   "metadata": {},
   "source": [
    "$$ {F_R}_y= {F_1}_y+{F_2}_y+{F_3}_y+{F_4}_y=(15.52\\ \\text{N})+(86.60\\ \\text{N})+(-75\\ \\text{N})+(-80\\ \\text{N})=-52.88\\ \\text{N} $$"
   ]
  },
  {
   "cell_type": "markdown",
   "metadata": {},
   "source": [
    "$$ F_R=\\sqrt{{{F_R}_x}^2+{{F_R}_y}^2}=\\sqrt{(121.95\\ \\text{N})^2+(-52.88\\ \\text{N})^2}=132.92\\ \\text{N}$$"
   ]
  },
  {
   "cell_type": "markdown",
   "metadata": {},
   "source": [
    "$$ \\theta=\\tan^{-1}\\left(\\dfrac{{F_R}_y}{{F_R}_x}\\right)=\\tan^{-1}\\left(\\dfrac{-52.88\\ \\text{N}}{121.95\\ \\text{N}}\\right)=-23.44^\\circ$$"
   ]
  },
  {
   "cell_type": "markdown",
   "metadata": {},
   "source": [
    "Por lo tanto,"
   ]
  },
  {
   "cell_type": "markdown",
   "metadata": {},
   "source": [
    "$$ \\vec{F}_R=(F_R,\\theta)=(132.92\\ \\text{N},23.44^\\circ\\text{ en el IV cuadrante})=(132.92\\ \\text{N},336.56^\\circ) $$ "
   ]
  },
  {
   "cell_type": "markdown",
   "metadata": {},
   "source": [
    "en la forma polar; y"
   ]
  },
  {
   "cell_type": "markdown",
   "metadata": {},
   "source": [
    "$$ \\vec{F}_R=({F_R}_x,{F_R}_y)=(121.95\\ \\text{N},-52.88\\ \\text{N}) $$ "
   ]
  },
  {
   "cell_type": "markdown",
   "metadata": {},
   "source": [
    "en la forma cartesiana."
   ]
  },
  {
   "cell_type": "markdown",
   "metadata": {},
   "source": [
    "## (Bloque 2)"
   ]
  },
  {
   "cell_type": "markdown",
   "metadata": {},
   "source": [
    "### TEMA\tI\t(Movimiento\ten\tuna\tdimensión)"
   ]
  },
  {
   "cell_type": "markdown",
   "metadata": {},
   "source": [
    "#### 1) Cinemática:"
   ]
  },
  {
   "cell_type": "markdown",
   "metadata": {},
   "source": [
    "Es la rama de la mecánica que describe el movimiento de los objetos sólidos sin considerar las causas (**fuerzas**) que lo originan dicho movimiento."
   ]
  },
  {
   "cell_type": "markdown",
   "metadata": {},
   "source": [
    "#### 2) Escribe\tlas\tdiferencias\tentre:"
   ]
  },
  {
   "cell_type": "markdown",
   "metadata": {},
   "source": [
    "#### a)\tDistancia\ty\tdesplazamiento:"
   ]
  },
  {
   "cell_type": "markdown",
   "metadata": {},
   "source": [
    "La distancia es un escalar (no nos importa la dirección) mientras que el desplazamiento es un vector (sí nos importa la dirección)."
   ]
  },
  {
   "cell_type": "markdown",
   "metadata": {},
   "source": [
    "####  b)\tRapidez\ty\tvelocidad:"
   ]
  },
  {
   "cell_type": "markdown",
   "metadata": {},
   "source": [
    "La rapidez es un escalar (no nos importa la dirección) mientras que la velocidad es un vector (sí nos importa la dirección)."
   ]
  },
  {
   "cell_type": "markdown",
   "metadata": {},
   "source": [
    "#### Resuelve\tlos\tsiguientes\tproblemas:"
   ]
  },
  {
   "cell_type": "markdown",
   "metadata": {},
   "source": [
    "#### 3) Una\tpersona\tcamina\t200\tm\thacia\tel\tNorte\ty\tluego\t140\tm.\thacia\tel Sur.\tSi\tel\ttiempo\ttotal\tde\tsu\trecorrido\tfue\tde\t4\tmin.\tCalcula:"
   ]
  },
  {
   "cell_type": "markdown",
   "metadata": {},
   "source": [
    "#### a) La\tdistancia\trecorrida\tpor\tla\tpersona"
   ]
  },
  {
   "cell_type": "markdown",
   "metadata": {},
   "source": [
    "$$ d_\\text{total}=200\\ \\text{m} +140\\ \\text{m} =340\\ \\text{m} $$"
   ]
  },
  {
   "cell_type": "markdown",
   "metadata": {},
   "source": [
    "#### b) Su\tdesplazamiento\t(magnitud\ty\tdirección)"
   ]
  },
  {
   "cell_type": "markdown",
   "metadata": {},
   "source": [
    "$$ \\vec{d}=(60\\ \\text{m},\\text{Norte})=(60\\ \\text{m},90^\\circ) $$"
   ]
  },
  {
   "cell_type": "markdown",
   "metadata": {},
   "source": [
    "#### c) Su\trapidez"
   ]
  },
  {
   "cell_type": "markdown",
   "metadata": {},
   "source": [
    "$$ v=\\dfrac{d_\\text{total}}{t}=\\dfrac{340\\ \\text{m}}{240\\ \\text{s}}=1.42\\ \\dfrac{\\text{m}}{\\text{s}} $$"
   ]
  },
  {
   "cell_type": "markdown",
   "metadata": {},
   "source": [
    "#### d) Su\tvelocidad\t(magnitud\ty\tdirección)"
   ]
  },
  {
   "cell_type": "markdown",
   "metadata": {},
   "source": [
    "$$ \\vec{v}=\\dfrac{\\vec{d}}{t}=\\left(\\dfrac{60\\ \\text{m}}{240\\ \\text{s}},90^\\circ\\right)=\\left(0.25\\ \\dfrac{\\text{m}}{\\text{s}},90^\\circ\\right) $$"
   ]
  },
  {
   "cell_type": "markdown",
   "metadata": {},
   "source": [
    "#### 4) Un\tcorredor\tda\tuna\tvuelta\ty\tmedia\talrededor\tde\tuna\tpista\tcircular\tde\t80\tm.\tde\tdiámetro\ten\t2\tminutos.\tDetermina:\ta) la\trapidez\tdel\tcorredor\ten\tm/s\ty\tkm/h b) la\tvelocidad\tdel\tcorredor\ten\tm/s\ty\tkm/h.\t\n",
    "\n"
   ]
  },
  {
   "cell_type": "markdown",
   "metadata": {},
   "source": [
    "### TEMA\tII\t(MRU)"
   ]
  },
  {
   "cell_type": "markdown",
   "metadata": {},
   "source": [
    "#### 1) ¿Qué\tsignifica\tMRU?\t¿Cuál\tes\tsu\tfórmula?\tRealiza\ttodos\tlos\tdespejes\tde\testa\tfórmula."
   ]
  },
  {
   "cell_type": "markdown",
   "metadata": {},
   "source": [
    "#### 2) De\tlas\tsiguientes\tgráficas\tde\tun\tMRU\tcalcula\tlo\tsiguiente:\t\tDe\tla\tgráfica\tde\tposición vs.\ttiempo\tcalcula\tla\tvelocidad.\t\tDe\tla\tgráfica\tde\tvelocidad\tvs.\ttiempo\tcalcula\tla\tdistancia\tque\trecorre\tel\tobjeto\ten\tlos\t2\tprimeros segundos.\t\n"
   ]
  },
  {
   "cell_type": "markdown",
   "metadata": {},
   "source": [
    "<img src=\"posvstiempo2.png\" align=\"middle\" width=\"300\">"
   ]
  },
  {
   "cell_type": "markdown",
   "metadata": {},
   "source": [
    "<img src=\"velvstiempo2.png\" align=\"middle\" width=\"300\">"
   ]
  },
  {
   "cell_type": "markdown",
   "metadata": {},
   "source": [
    "#### 3) Resuelve\tel\tsiguiente\tproblema:\tUn\ttren\tse\tmueve\ta\tuna\tvelocidad\tconstante\tde\t30\tm/s.\t¿Qué distancia\trecorrerá\ten\t20\ts?\t\n",
    "\t\n"
   ]
  },
  {
   "cell_type": "markdown",
   "metadata": {},
   "source": [
    "### TEMA\tIII\t(MRUA)"
   ]
  },
  {
   "cell_type": "markdown",
   "metadata": {},
   "source": [
    "#### 1) ¿Qué\tsignifica\tMRUA?\tEscribe\tsus\tformulas."
   ]
  },
  {
   "cell_type": "markdown",
   "metadata": {},
   "source": [
    "\\begin{align}\n",
    "v_f=&v_0+at\\\\\n",
    "d=&\\left(\\dfrac{v_0+v_f}{2}\\right)t\\\\\n",
    "d=&v_0t+\\dfrac{1}{2}at^2\\\\\n",
    "d=&v_ft-\\dfrac{1}{2}at^2\\\\\n",
    "v_f^2=&v_0^2+2ad\n",
    "\\end{align}"
   ]
  },
  {
   "cell_type": "markdown",
   "metadata": {},
   "source": [
    "#### 2) Define\taceleración:"
   ]
  },
  {
   "cell_type": "markdown",
   "metadata": {},
   "source": [
    "#### 3) La\tsiguiente\tgráfica\trepresenta\tun\tMRUA\tcalcula\tla\taceleración\ty\tla\tdistancia\trecorrida\ta\tlos\t6\ts:"
   ]
  },
  {
   "cell_type": "markdown",
   "metadata": {},
   "source": [
    "<img src=\"velvstiempo3.png\" align=\"middle\" width=\"300\">"
   ]
  },
  {
   "cell_type": "markdown",
   "metadata": {},
   "source": [
    "#### Resuelve\tlos\tsiguientes\tproblemas:"
   ]
  },
  {
   "cell_type": "markdown",
   "metadata": {},
   "source": [
    "#### 4) Una\tmoto\tcon\tuna\tvelocidad\tinicial\tde\t6\tm/s\tse\tacelera\tuniformemente\ta\trazón\tde\t1.5\tm/s2\tdurante\t8 segundos.\ta)\tCalcula\tla\tdistancia\tque\trecorre\tla\tmoto\tdurante\tese\ttiempo.\tb)\t¿Qué\tvelocidad\tlleva la\tmoto\ta\tlos\t8\tsegundos?\t\n"
   ]
  },
  {
   "cell_type": "markdown",
   "metadata": {},
   "source": [
    "#### 5) Si\tun\tavión\tque\taterriza\ta\t216\tkm/h\tse\tdetiene\tdespués\tde\trecorrer\t1200\tm.\tCalcula\ta)\tla\taceleración\tdel\tavión,\tb)\tel\ttiempo\tque\ttarda\ten\tdetenerse."
   ]
  },
  {
   "cell_type": "markdown",
   "metadata": {},
   "source": [
    "### TEMA\tIV\t(Caida\tLibre\ty\tTiro\tVertical)"
   ]
  },
  {
   "cell_type": "markdown",
   "metadata": {},
   "source": [
    "#### 1) ¿Cómo\tsabes\tsi\tun\tcuerpo\testá\ten\tcaída\tlibre?\tEscribe\tsus\tformulas\tconsiderando\tlo\tque\tacabas\tde\tescribir."
   ]
  },
  {
   "cell_type": "markdown",
   "metadata": {},
   "source": [
    "#### 2) Escribe\tel\tvalor\tde\t$g=$"
   ]
  },
  {
   "cell_type": "markdown",
   "metadata": {},
   "source": [
    "#### 3) Escribe\tun\tejemplo\tde\ttiro\tvertical.\t¿Qué\tvalor\ttiene\tla\tvelocidad\tdel\tobjeto\tcuando\tllega\ta\tsu\taltura\tmáxima?\t¿Cómo\tes\tel\ttiempo\tde\tsubida\tcon\trespecto\tal\tde\tbajada?\t\n"
   ]
  },
  {
   "cell_type": "markdown",
   "metadata": {},
   "source": [
    "#### Resuelve\tlos\tsiguientes\tproblemas:"
   ]
  },
  {
   "cell_type": "markdown",
   "metadata": {},
   "source": [
    "#### 4) Romina\tdeja\tcaer\tun\tdesarmador\tdesde\tla\tazotea\tde\tsu\tcasa.\tSi el\tdesarmador\tllega\tal\tsuelo\tdespués\tde\t2\ts,\tcalcula:\ta)\tla\taltura\tde\tla\tcasa\tde\tRomina\ty\tb)\tla\tvelocidad\tcon\tla\tque\tel\tdesarmador\tllega\tal\tsuelo.\n"
   ]
  },
  {
   "cell_type": "markdown",
   "metadata": {},
   "source": [
    "#### 5) Raúl\tlanza\tun\tbalón\tde\tbasquetbol\tverticalmente\thacia\tarriba\ty\tregresa\ta\tsu\tpunto\tde\tpartida\t3.2\ts después.\tCalcula\ta)\tla\tvelocidad\tdel\tlanzamiento,\tb)\tla\taltura\tmáxima\tque\talcanza\tla\tpelota,\tc)\tel\ttiempo\tde\tsubida\ty\td)\tla\tvelocidad\tcon\tla\tque\tregresa\ta\tlas\tmanos\tde\tRaúl."
   ]
  },
  {
   "cell_type": "markdown",
   "metadata": {},
   "source": [
    "### TEMA\tV\t(Tiro\tHorizontal\ty\tParabólico)"
   ]
  },
  {
   "cell_type": "markdown",
   "metadata": {},
   "source": [
    "#### 1) ¿Cómo\tsabes\tsi\tun\tcuerpo\tfue\tlanzado\ten\tTiro\thorizontal\t(media\tparábola)?\t¿Cómo\tes\tsu\ttrayectoria?\t¿Cómo\tse\tcomporta\tla\t$V_X$ \t\ta\tlo\tlargo\tde\ttodo\tsu\trecorrido?\t¿Cómo\tes\tla\t$V_Y$\t\tinicial? ¿Y\tel\tvalor\tde\tla\tgravedad?\tHaz\tun\tdiagrama\tdel\ttiro\ty\tcoloca\ttoda\tla\tinformación\tanterior\ten\tél.\tConsiderando\tlo\tanterior\tescribe\tsus\tformulas.\t\n"
   ]
  },
  {
   "cell_type": "markdown",
   "metadata": {},
   "source": [
    "Las fórmulas horizontales son\n",
    "\\begin{align}\n",
    "d=v_0\\cdot t\n",
    "\\end{align}"
   ]
  },
  {
   "cell_type": "markdown",
   "metadata": {},
   "source": [
    "Las fórmulas verticales son\n",
    "\\begin{align}\n",
    "{v_f}_y=&-gt\\\\\n",
    "h=&\\dfrac{{v_f}_yt}{2}\\\\\n",
    "h=&-\\dfrac{1}{2}gt^2\\\\\n",
    "h=&{v_f}_yt+\\dfrac{1}{2}gt^2\\\\\n",
    "{{v_f}_y}^2=&-2gh\\\\\n",
    "{v_0}_y=&0\n",
    "\\end{align}"
   ]
  },
  {
   "cell_type": "markdown",
   "metadata": {},
   "source": [
    "#### 2) Haz\tun\tdiagrama\tde\tla\ttrayectoria\tde\tun\tproyectil\tlanzado\tpor\tun\tcañón\tcolocado\ta\tnivel\tdel\tsuelo.\tMarca\ten\teste\tdiagrama\tla\taltura\tmáxima\ty\tel\talcance\tmáximo.\tMarca\tel\tángulo\tde\ttiro\ty\tla\t$V_X$\ty\t\t$V_Y$ iniciales.\tEscribe\tel\tvalor\tde\tla\tvelocidad\tvertical\t($V_Y$)\ty\tla\taceleración\ten\tel\tpunto\tmás\talto\tde\tla\ttrayectoria.\t¿Cómo\tse\tcomporta la\taceleración\ta\tlo\tlargo\tdel\trecorrido?\t\n"
   ]
  },
  {
   "cell_type": "markdown",
   "metadata": {},
   "source": [
    "* En la horizontal hay M.R.U.\n",
    "* En la vertical hay M.R.U.A."
   ]
  },
  {
   "cell_type": "markdown",
   "metadata": {},
   "source": [
    "\\begin{align}\n",
    "v_f=&v_0+at\\\\\n",
    "d=&\\left(\\dfrac{v_0+v_f}{2}\\right)t\\\\\n",
    "d=&v_0t+\\dfrac{1}{2}at^2\\\\\n",
    "d=&v_ft-\\dfrac{1}{2}at^2\\\\\n",
    "v_f^2=&v_0^2+2ad\n",
    "\\end{align}"
   ]
  },
  {
   "cell_type": "markdown",
   "metadata": {},
   "source": [
    "Las fórmulas horizontales son\n",
    "\\begin{align}\n",
    "d=v_0\\cos(\\theta)\\cdot t\n",
    "\\end{align}"
   ]
  },
  {
   "cell_type": "markdown",
   "metadata": {},
   "source": [
    "Las fórmulas verticales son\n",
    "\\begin{align}\n",
    "{v_f}_y=&{v_0}_y-gt\\\\\n",
    "h=&\\left(\\dfrac{{v_0}_y+{v_f}_y}{2}\\right)t\\\\\n",
    "h=&{v_0}_yt-\\dfrac{1}{2}gt^2\\\\\n",
    "h=&{v_f}_yt+\\dfrac{1}{2}gt^2\\\\\n",
    "{{v_f}_y}^2=&{{v_0}_y}^2-2gh\\\\\n",
    "{v_0}_y=&v_0\\sin(\\theta)\n",
    "\\end{align}"
   ]
  },
  {
   "cell_type": "markdown",
   "metadata": {},
   "source": [
    "Despejada\n",
    "\\begin{align}\n",
    "t=&\\dfrac{{v_0}_y-{v_f}_y}{g}\\\\\n",
    "h=&\\left(\\dfrac{{v_0}_y+{v_f}_y}{2}\\right)t\\\\\n",
    "h=&{v_0}_yt-\\dfrac{1}{2}gt^2\\\\\n",
    "h=&{v_f}_yt+\\dfrac{1}{2}gt^2\\\\\n",
    "{{v_f}_y}^2=&{{v_0}_y}^2-2gh\n",
    "\\end{align}"
   ]
  },
  {
   "cell_type": "markdown",
   "metadata": {},
   "source": [
    "#### Resuelve\tlos\tsiguientes\tproblemas:"
   ]
  },
  {
   "cell_type": "markdown",
   "metadata": {},
   "source": [
    "#### 3) Desde\tun\tavión\tque\tvuela\thorizontalmente\ta\t1400\tm\tde\taltura\tcon\tuna\tvelocidad\tde\t140\tm/s\tse\tdeja caer\tun\tbulto\tde\talimentos.\tHallar:\ta) el\ttiempo\tque\ttarda\tel\tbulto\ten\tllegar\tal\tsuelo,\tb)\tel\talcance\tdel\tbulto,\tc) la\tmagnitud\tde\tla\tvelocidad\tdel\tbulto\tcuando\tchoca\tcon\tel\tsuelo."
   ]
  },
  {
   "cell_type": "markdown",
   "metadata": {},
   "source": [
    "* Datos:\n",
    "    * $v_0=140 m/s$\n",
    "    * $h=-1400 m$ (porque estamos midiendo de arriba hacia abajo)\n",
    "    * $g=9.81m/s^2$ (implícito)\n",
    "    * $t=16.89s$\n",
    "    * $d=2364.6m$\n",
    "    * $v_f=?$"
   ]
  },
  {
   "cell_type": "markdown",
   "metadata": {},
   "source": [
    "* Fórmulas\n",
    "\\begin{align}\n",
    "d=&\\ v_0\\cdot t\\\\\n",
    "{v_f}_y=&\\ -gt\\\\\n",
    "h=&\\ \\dfrac{{v_f}_yt}{2}\\\\\n",
    "h=&\\ -\\dfrac{1}{2}gt^2\\\\\n",
    "h=&\\ {v_f}_yt+\\dfrac{1}{2}gt^2\\\\\n",
    "{{v_f}_y}^2=&\\ -2gh\\\\\n",
    "{v_0}_y=&\\ 0\\\\\n",
    "{v_f}_x=&\\ {v_0}_x\\\\\n",
    "v_f=&\\ \\sqrt{{{v_f}_x}^2+{{v_f}_y}^2}\n",
    "\\end{align}"
   ]
  },
  {
   "cell_type": "markdown",
   "metadata": {},
   "source": [
    "* Sustitución:"
   ]
  },
  {
   "cell_type": "markdown",
   "metadata": {},
   "source": [
    "El tiempo que tarda en llegar al piso (el tiempo de vuelo) lo obtenemos así:"
   ]
  },
  {
   "cell_type": "markdown",
   "metadata": {},
   "source": [
    "$$ h=-\\dfrac{1}{2}gt^2$$"
   ]
  },
  {
   "cell_type": "markdown",
   "metadata": {},
   "source": [
    "$$ -\\dfrac{2h}{g}=t^2$$"
   ]
  },
  {
   "cell_type": "markdown",
   "metadata": {},
   "source": [
    "$$ t=\\sqrt{-\\dfrac{2h}{g}}=\\sqrt{-\\dfrac{2(-1400\\ \\text{m})}{9.81\\ \\text{m}/\\text{s}^2}}=16.89\\ \\text{s}$$"
   ]
  },
  {
   "cell_type": "code",
   "execution_count": 3,
   "metadata": {},
   "outputs": [
    {
     "data": {
      "text/plain": [
       "16.894467665973252"
      ]
     },
     "execution_count": 3,
     "metadata": {},
     "output_type": "execute_result"
    }
   ],
   "source": [
    "√(2*1400/9.81)"
   ]
  },
  {
   "cell_type": "markdown",
   "metadata": {},
   "source": [
    "El alcance (distancia horizontal) lo obtenemos así:"
   ]
  },
  {
   "cell_type": "markdown",
   "metadata": {},
   "source": [
    "$$d=v_0\\cdot t=(140\\ \\text{m}/\\text{s})(16.89\\ \\text{s})=2364.6\\ \\text{m}$$"
   ]
  },
  {
   "cell_type": "markdown",
   "metadata": {},
   "source": [
    "La\tmagnitud de la velocidad al chocar con el suelo (velocidad final) lo obtenemos así:"
   ]
  },
  {
   "cell_type": "markdown",
   "metadata": {},
   "source": [
    "$$ {v_f}_x=v_0=140\\ \\text{m}/\\text{s} $$"
   ]
  },
  {
   "cell_type": "markdown",
   "metadata": {},
   "source": [
    "$$ {v_f}_y=-gt=-(9.81\\ \\text{m}/\\text{s}^2)(16.89\\ \\text{s})=-165.69\\ \\text{m}/\\text{s} $$"
   ]
  },
  {
   "cell_type": "markdown",
   "metadata": {},
   "source": [
    "$$ v_f=\\sqrt{{{v_f}_x}^2+{{v_f}_y}^2}=\\sqrt{(140\\ \\text{m}/\\text{s})^2+(-165.69\\ \\text{m}/\\text{s})^2}=216.92\\ \\text{m}/\\text{s} $$"
   ]
  },
  {
   "cell_type": "code",
   "execution_count": 4,
   "metadata": {},
   "outputs": [
    {
     "data": {
      "text/plain": [
       "216.91744074647386"
      ]
     },
     "execution_count": 4,
     "metadata": {},
     "output_type": "execute_result"
    }
   ],
   "source": [
    "√(140^2+165.69^2)"
   ]
  },
  {
   "cell_type": "markdown",
   "metadata": {},
   "source": [
    "#### 4) Se\tlanza\tuna\tpelota\tde\tgolf\tcon\tuna\tvelocidad\t(resultante)\tde\t40\tm/s\tcon\tun\tángulo\tde\t$45^\\circ$\tcon\trespecto\ta\tla\thorizontal.\tDetermina\ta)\tel\ttiempo\ttotal\tde\tvuelo\tde\tla\tpelota,\tb)\tel\ttiempo\tque\ttarda\tla\tpelota\ten\talcanzar\tsu\taltura\tmáxima,\tc)\tla\taltura\tmáxima\tque\talcanza\tla\tpelota\ty d)\tsu\talcance\thorizontal."
   ]
  },
  {
   "cell_type": "markdown",
   "metadata": {},
   "source": [
    "# Formulario"
   ]
  },
  {
   "cell_type": "markdown",
   "metadata": {},
   "source": [
    "## M.R.U."
   ]
  },
  {
   "cell_type": "markdown",
   "metadata": {},
   "source": [
    "$$ v=\\dfrac{d}{t} $$"
   ]
  },
  {
   "cell_type": "markdown",
   "metadata": {},
   "source": [
    "$$ d=vt $$"
   ]
  },
  {
   "cell_type": "markdown",
   "metadata": {},
   "source": [
    "$$ t=\\dfrac{d}{v} $$"
   ]
  },
  {
   "cell_type": "markdown",
   "metadata": {},
   "source": [
    "## M.R.U.A."
   ]
  },
  {
   "cell_type": "markdown",
   "metadata": {},
   "source": [
    "\\begin{align}\n",
    "v_f=&\\ v_0+at\\\\\n",
    "v_0=&\\ v_f-at\\\\\n",
    "a=&\\ \\dfrac{v_f-v_0}{t}\\\\\n",
    "t=&\\ \\dfrac{v_f-v_0}{a}\n",
    "\\end{align}"
   ]
  },
  {
   "cell_type": "markdown",
   "metadata": {},
   "source": [
    "\\begin{align}\n",
    "d=&\\ \\left(\\dfrac{v_0+v_f}{2}\\right)t\\\\\n",
    "t=&\\ \\dfrac{2d}{v_0+v_f}\\\\\n",
    "v_0=&\\ \\dfrac{2d}{t}-v_f\\\\\n",
    "v_f=&\\ \\dfrac{2d}{t}-v_0\n",
    "\\end{align}"
   ]
  },
  {
   "cell_type": "markdown",
   "metadata": {},
   "source": [
    "\\begin{align}\n",
    "d=&\\ v_0t+\\dfrac{1}{2}at^2\\\\\n",
    "v_0=&\\dfrac{d}{t}-\\dfrac{1}{2}at\\\\\n",
    "a=&2\\dfrac{d-v_0t}{t^2}\\\\\n",
    "t=&\\ \\dfrac{-v_0\\pm\\sqrt{{v_0}^2+2ad}}{a}\\\\\n",
    "\\end{align}"
   ]
  },
  {
   "cell_type": "markdown",
   "metadata": {},
   "source": [
    "\\begin{align}\n",
    "d=&\\ v_ft-\\dfrac{1}{2}at^2\\\\\n",
    "v_f=&\\dfrac{d}{t}+\\dfrac{1}{2}at\\\\\n",
    "a=&2\\dfrac{v_ft-d}{t^2}\\\\\n",
    "t=&\\ \\dfrac{v_f\\pm\\sqrt{{v_f}^2-2ad}}{a}\\\\\n",
    "\\end{align}"
   ]
  },
  {
   "cell_type": "markdown",
   "metadata": {},
   "source": [
    "\\begin{align}\n",
    "v_f=&\\ \\pm\\sqrt{{v_0}^2+2ad}\\\\\n",
    "v_0=&\\ \\pm\\sqrt{{v_f}^2-2ad}\\\\\n",
    "d=&\\ \\dfrac{{v_f}^2-{v_0}^2}{2a}\\\\\n",
    "a=&\\ \\dfrac{{v_f}^2-{v_0}^2}{2d}\n",
    "\\end{align}"
   ]
  },
  {
   "cell_type": "markdown",
   "metadata": {},
   "source": [
    "## Tiro vertical"
   ]
  },
  {
   "cell_type": "markdown",
   "metadata": {},
   "source": [
    "* La altura $h$ es positiva si el objeto va de abajo hacia arriba.\n",
    "* La altura $h$ es negativa si el objeto va de arriba hacia abajo.\n",
    "* El tiempo de vuelo sucede cuando $h=0$, $v_f=-v_0$.\n",
    "* La altura máxima sucede cuando $v_f=0$."
   ]
  },
  {
   "cell_type": "markdown",
   "metadata": {},
   "source": [
    "$$ g=9.81\\ \\text{m}/\\text{s}^2 $$"
   ]
  },
  {
   "cell_type": "markdown",
   "metadata": {},
   "source": [
    "\\begin{align}\n",
    "v_f=&\\ v_0-gt\\\\\n",
    "v_0=&\\ v_f+gt\\\\\n",
    "g=&\\ \\dfrac{v_0-v_f}{t}\\\\\n",
    "t=&\\ \\dfrac{v_0-v_f}{g}\n",
    "\\end{align}"
   ]
  },
  {
   "cell_type": "markdown",
   "metadata": {},
   "source": [
    "\\begin{align}\n",
    "h=&\\ \\left(\\dfrac{v_0+v_f}{2}\\right)t\\\\\n",
    "t=&\\ \\dfrac{2h}{v_0+v_f}\\\\\n",
    "v_0=&\\ \\dfrac{2h}{t}-v_f\\\\\n",
    "v_f=&\\ \\dfrac{2h}{t}-v_0\n",
    "\\end{align}"
   ]
  },
  {
   "cell_type": "markdown",
   "metadata": {},
   "source": [
    "\\begin{align}\n",
    "h=&\\ v_0t-\\dfrac{1}{2}gt^2\\\\\n",
    "v_0=&\\dfrac{h}{t}+\\dfrac{1}{2}gt\\\\\n",
    "g=&2\\dfrac{v_0t-h}{t^2}\\\\\n",
    "t=&\\ \\dfrac{v_0\\pm\\sqrt{{v_0}^2-2gh}}{g}\\\\\n",
    "\\end{align}"
   ]
  },
  {
   "cell_type": "markdown",
   "metadata": {},
   "source": [
    "\\begin{align}\n",
    "h=&\\ v_ft+\\dfrac{1}{2}gt^2\\\\\n",
    "v_f=&\\ \\dfrac{h}{t}-\\dfrac{1}{2}gt\\\\\n",
    "g=&\\ 2\\dfrac{h-v_ft}{t^2}\\\\\n",
    "t=&\\ \\dfrac{-v_f\\pm\\sqrt{{v_f}^2+2gh}}{g}\\\\\n",
    "\\end{align}"
   ]
  },
  {
   "cell_type": "markdown",
   "metadata": {},
   "source": [
    "\\begin{align}\n",
    "v_f=&\\ \\pm\\sqrt{{v_0}^2-2gh}\\\\\n",
    "v_0=&\\ \\pm\\sqrt{{v_f}^2+2gh}\\\\\n",
    "h=&\\ \\dfrac{{v_0}^2-{v_f}^2}{2g}\\\\\n",
    "g=&\\ \\dfrac{{v_0}^2-{v_f}^2}{2h}\n",
    "\\end{align}"
   ]
  },
  {
   "cell_type": "markdown",
   "metadata": {},
   "source": [
    "## Caída libre"
   ]
  },
  {
   "cell_type": "markdown",
   "metadata": {},
   "source": [
    "* La altura $h$ es negativa.\n",
    "* El tiempo de vuelo sucede cuando llega al piso (bajó toda la altura)."
   ]
  },
  {
   "cell_type": "markdown",
   "metadata": {},
   "source": [
    "$$ g=9.81\\ \\text{m}/\\text{s}^2 $$"
   ]
  },
  {
   "cell_type": "markdown",
   "metadata": {},
   "source": [
    "$$ v_0=0\\ \\text{m}/\\text{s} $$"
   ]
  },
  {
   "cell_type": "markdown",
   "metadata": {},
   "source": [
    "\\begin{align}\n",
    "v_f=&\\ v_0-gt\\\\\n",
    "v_0=&\\ v_f+gt\\\\\n",
    "g=&\\ \\dfrac{v_0-v_f}{t}\\\\\n",
    "t=&\\ \\dfrac{v_0-v_f}{g}\n",
    "\\end{align}"
   ]
  },
  {
   "cell_type": "markdown",
   "metadata": {},
   "source": [
    "\\begin{align}\n",
    "h=&\\ \\left(\\dfrac{v_0+v_f}{2}\\right)t\\\\\n",
    "t=&\\ \\dfrac{2h}{v_0+v_f}\\\\\n",
    "v_0=&\\ \\dfrac{2h}{t}-v_f\\\\\n",
    "v_f=&\\ \\dfrac{2h}{t}-v_0\n",
    "\\end{align}"
   ]
  },
  {
   "cell_type": "markdown",
   "metadata": {},
   "source": [
    "\\begin{align}\n",
    "h=&\\ v_0t-\\dfrac{1}{2}gt^2\\\\\n",
    "v_0=&\\dfrac{h}{t}+\\dfrac{1}{2}gt\\\\\n",
    "g=&2\\dfrac{v_0t-h}{t^2}\\\\\n",
    "t=&\\ \\dfrac{v_0\\pm\\sqrt{{v_0}^2-2gh}}{g}\\\\\n",
    "\\end{align}"
   ]
  },
  {
   "cell_type": "markdown",
   "metadata": {},
   "source": [
    "\\begin{align}\n",
    "h=&\\ v_ft+\\dfrac{1}{2}gt^2\\\\\n",
    "v_f=&\\ \\dfrac{h}{t}-\\dfrac{1}{2}gt\\\\\n",
    "g=&\\ 2\\dfrac{h-v_ft}{t^2}\\\\\n",
    "t=&\\ \\dfrac{-v_f\\pm\\sqrt{{v_f}^2+2gh}}{g}\\\\\n",
    "\\end{align}"
   ]
  },
  {
   "cell_type": "markdown",
   "metadata": {},
   "source": [
    "\\begin{align}\n",
    "v_f=&\\ \\pm\\sqrt{{v_0}^2-2gh}\\\\\n",
    "v_0=&\\ \\pm\\sqrt{{v_f}^2+2gh}\\\\\n",
    "h=&\\ \\dfrac{{v_0}^2-{v_f}^2}{2g}\\\\\n",
    "g=&\\ \\dfrac{{v_0}^2-{v_f}^2}{2h}\n",
    "\\end{align}"
   ]
  },
  {
   "cell_type": "markdown",
   "metadata": {},
   "source": [
    "## Tiro parabólico"
   ]
  },
  {
   "cell_type": "markdown",
   "metadata": {},
   "source": [
    "* Tiro parabólico es una mezcla de M.R.U. y tiro vertical\n",
    "* $d$ es el alcance\n",
    "* La altura $h$ es positiva si el objeto va de abajo hacia arriba.\n",
    "* La altura $h$ es negativa si el objeto va de arriba hacia abajo.\n",
    "* El tiempo de vuelo sucede cuando $h=0$, ${v_f}_y=-{v_0}_y$.\n",
    "* La altura máxima sucede cuando ${v_f}_y=0$.\n",
    "* El alcance máximo sucede cuando el tiempo es el tiempo de vuelo.\n",
    "* El tiempo para alcanzar la altura máxima sucede cuando la altura es la altura máxima."
   ]
  },
  {
   "cell_type": "markdown",
   "metadata": {},
   "source": [
    "$$ g=9.81\\ \\text{m}/\\text{s}^2 $$"
   ]
  },
  {
   "cell_type": "markdown",
   "metadata": {},
   "source": [
    "$$ {v_0}_x=v_0\\cos\\theta $$"
   ]
  },
  {
   "cell_type": "markdown",
   "metadata": {},
   "source": [
    "$$ {v_0}=\\dfrac{{v_0}_x}{\\cos\\theta} $$"
   ]
  },
  {
   "cell_type": "markdown",
   "metadata": {},
   "source": [
    "$$ \\theta=\\cos^{-1}\\left(\\dfrac{{v_0}_x}{v_0}\\right) $$"
   ]
  },
  {
   "cell_type": "markdown",
   "metadata": {},
   "source": [
    "$$ {v_0}_x=\\dfrac{d}{t} $$"
   ]
  },
  {
   "cell_type": "markdown",
   "metadata": {},
   "source": [
    "$$ d={v_0}_xt $$"
   ]
  },
  {
   "cell_type": "markdown",
   "metadata": {},
   "source": [
    "$$ t=\\dfrac{d}{{v_0}_x} $$"
   ]
  },
  {
   "cell_type": "markdown",
   "metadata": {},
   "source": [
    "$$ {v_f}_x={v_0}_x $$"
   ]
  },
  {
   "cell_type": "markdown",
   "metadata": {},
   "source": [
    "$$ {v_0}_y=v_0\\sin\\theta $$"
   ]
  },
  {
   "cell_type": "markdown",
   "metadata": {},
   "source": [
    "$$ {v_0}=\\dfrac{{v_0}_y}{\\sin\\theta} $$"
   ]
  },
  {
   "cell_type": "markdown",
   "metadata": {},
   "source": [
    "$$ \\theta=\\sin^{-1}\\left(\\dfrac{{v_0}_y}{v_0}\\right) $$"
   ]
  },
  {
   "cell_type": "markdown",
   "metadata": {},
   "source": [
    "\\begin{align}\n",
    "{{v_f}_y}=&\\ {{v_0}_y}-gt\\\\\n",
    "{{v_0}_y}=&\\ {{v_f}_y}+gt\\\\\n",
    "g=&\\ \\dfrac{{{v_0}_y}-{{v_f}_y}}{t}\\\\\n",
    "t=&\\ \\dfrac{{{v_0}_y}-{{v_f}_y}}{g}\n",
    "\\end{align}"
   ]
  },
  {
   "cell_type": "markdown",
   "metadata": {},
   "source": [
    "\\begin{align}\n",
    "h=&\\ \\left(\\dfrac{{{v_0}_y}+{{v_f}_y}}{2}\\right)t\\\\\n",
    "t=&\\ \\dfrac{2h}{{{v_0}_y}+{{v_f}_y}}\\\\\n",
    "{{v_0}_y}=&\\ \\dfrac{2h}{t}-{{v_f}_y}\\\\\n",
    "{{v_f}_y}=&\\ \\dfrac{2h}{t}-{{v_0}_y}\n",
    "\\end{align}"
   ]
  },
  {
   "cell_type": "markdown",
   "metadata": {},
   "source": [
    "\\begin{align}\n",
    "h=&\\ {{v_0}_y}t-\\dfrac{1}{2}gt^2\\\\\n",
    "{{v_0}_y}=&\\dfrac{h}{t}+\\dfrac{1}{2}gt\\\\\n",
    "g=&2\\dfrac{{{v_0}_y}t-h}{t^2}\\\\\n",
    "t=&\\ \\dfrac{{{v_0}_y}\\pm\\sqrt{{{{v_0}_y}}^2-2gh}}{g}\\\\\n",
    "\\end{align}"
   ]
  },
  {
   "cell_type": "markdown",
   "metadata": {},
   "source": [
    "\\begin{align}\n",
    "h=&\\ {{v_f}_y}t+\\dfrac{1}{2}gt^2\\\\\n",
    "{{v_f}_y}=&\\ \\dfrac{h}{t}-\\dfrac{1}{2}gt\\\\\n",
    "g=&\\ 2\\dfrac{h-{{v_f}_y}t}{t^2}\\\\\n",
    "t=&\\ \\dfrac{-{{v_f}_y}\\pm\\sqrt{{{{v_f}_y}}^2+2gh}}{g}\\\\\n",
    "\\end{align}"
   ]
  },
  {
   "cell_type": "markdown",
   "metadata": {},
   "source": [
    "\\begin{align}\n",
    "{{v_f}_y}=&\\ \\pm\\sqrt{{{{v_0}_y}}^2-2gh}\\\\\n",
    "{{v_0}_y}=&\\ \\pm\\sqrt{{{{v_f}_y}}^2+2gh}\\\\\n",
    "h=&\\ \\dfrac{{{{v_0}_y}}^2-{{{v_f}_y}}^2}{2g}\\\\\n",
    "g=&\\ \\dfrac{{{{v_0}_y}}^2-{{{v_f}_y}}^2}{2h}\n",
    "\\end{align}"
   ]
  },
  {
   "cell_type": "markdown",
   "metadata": {},
   "source": [
    "$$ v_0=\\sqrt{{{v_0}_x}^2+{{v_0}_y}^2} $$"
   ]
  },
  {
   "cell_type": "markdown",
   "metadata": {},
   "source": [
    "$$ \\theta=\\tan^{-1}\\left(\\dfrac{{v_0}_y}{{v_0}_x}\\right) $$"
   ]
  },
  {
   "cell_type": "markdown",
   "metadata": {},
   "source": [
    "$$ v_f=\\sqrt{{{v_f}_x}^2+{{v_f}_y}^2} $$"
   ]
  },
  {
   "cell_type": "markdown",
   "metadata": {},
   "source": [
    "$$ \\theta_f=\\tan^{-1}\\left(\\dfrac{{v_f}_y}{{v_f}_x}\\right) $$"
   ]
  },
  {
   "cell_type": "markdown",
   "metadata": {},
   "source": [
    "## Tiro horizontal"
   ]
  },
  {
   "cell_type": "markdown",
   "metadata": {},
   "source": [
    "* Tiro horizontal es una mezcla de M.R.U. y caída libre\n",
    "* $d$ es el alcance.\n",
    "* La altura $h$ es negativa.\n",
    "* La velocidad final vertical ${v_f}_y$ es negativa.\n",
    "* El tiempo de vuelo sucede cuando llega al piso (bajó toda la altura).\n",
    "* El alcance máximo sucede cuando llega al piso (bajó toda la altura)."
   ]
  },
  {
   "cell_type": "markdown",
   "metadata": {},
   "source": [
    "$$ g=9.81\\ \\text{m}/\\text{s}^2 $$"
   ]
  },
  {
   "cell_type": "markdown",
   "metadata": {},
   "source": [
    "$$ {v_0}_x=\\dfrac{d}{t} $$"
   ]
  },
  {
   "cell_type": "markdown",
   "metadata": {},
   "source": [
    "$$ d={v_0}_xt $$"
   ]
  },
  {
   "cell_type": "markdown",
   "metadata": {},
   "source": [
    "$$ t=\\dfrac{d}{{v_0}_x} $$"
   ]
  },
  {
   "cell_type": "markdown",
   "metadata": {},
   "source": [
    "$$ {v_f}_x={v_0}_x=v_0 $$"
   ]
  },
  {
   "cell_type": "markdown",
   "metadata": {},
   "source": [
    "$$ {v_0}_y=0 $$"
   ]
  },
  {
   "cell_type": "markdown",
   "metadata": {},
   "source": [
    "\\begin{align}\n",
    "{{v_f}_y}=&\\ -gt\\\\\n",
    "g=&\\ -\\dfrac{{{v_f}_y}}{t}\\\\\n",
    "t=&\\ -\\dfrac{{{v_f}_y}}{g}\n",
    "\\end{align}"
   ]
  },
  {
   "cell_type": "markdown",
   "metadata": {},
   "source": [
    "\\begin{align}\n",
    "h=&\\ \\left(\\dfrac{{{v_f}_y}}{2}\\right)t\\\\\n",
    "t=&\\ \\dfrac{2h}{{{v_f}_y}}\\\\\n",
    "{{v_f}_y}=&\\ \\dfrac{2h}{t}\n",
    "\\end{align}"
   ]
  },
  {
   "cell_type": "markdown",
   "metadata": {},
   "source": [
    "\\begin{align}\n",
    "h=&\\ -\\dfrac{1}{2}gt^2\\\\\n",
    "g=&-\\dfrac{2h}{t^2}\\\\\n",
    "t=&\\ \\sqrt{\\dfrac{-2h}{g}}\\\\\n",
    "\\end{align}"
   ]
  },
  {
   "cell_type": "markdown",
   "metadata": {},
   "source": [
    "\\begin{align}\n",
    "h=&\\ {{v_f}_y}t+\\dfrac{1}{2}gt^2\\\\\n",
    "{{v_f}_y}=&\\ \\dfrac{h}{t}-\\dfrac{1}{2}gt\\\\\n",
    "g=&\\ 2\\dfrac{h-{{v_f}_y}t}{t^2}\\\\\n",
    "t=&\\ \\dfrac{-{{v_f}_y}\\pm\\sqrt{{{{v_f}_y}}^2+2gh}}{g}\\\\\n",
    "\\end{align}"
   ]
  },
  {
   "cell_type": "markdown",
   "metadata": {},
   "source": [
    "\\begin{align}\n",
    "{{v_f}_y}=&\\ -\\sqrt{-2gh}\\\\\n",
    "h=&\\ \\dfrac{-{{{v_f}_y}}^2}{2g}\\\\\n",
    "g=&\\ \\dfrac{-{{{v_f}_y}}^2}{2h}\n",
    "\\end{align}"
   ]
  },
  {
   "cell_type": "markdown",
   "metadata": {},
   "source": [
    "$$ v_f=\\sqrt{{{v_f}_x}^2+{{v_f}_y}^2} $$"
   ]
  },
  {
   "cell_type": "markdown",
   "metadata": {},
   "source": [
    "$$ \\theta_f=\\tan^{-1}\\left(\\dfrac{{v_f}_y}{{v_f}_x}\\right) $$"
   ]
  },
  {
   "cell_type": "markdown",
   "metadata": {},
   "source": [
    "### TEMA\tVI\t(LEYES\tDE\tNEWTON)"
   ]
  },
  {
   "cell_type": "markdown",
   "metadata": {},
   "source": [
    "#### 1) Define\tqué\tes\tla\tDinámica:"
   ]
  },
  {
   "cell_type": "markdown",
   "metadata": {},
   "source": [
    "#### 2) Define\tque\tes\tFuerza:"
   ]
  },
  {
   "cell_type": "markdown",
   "metadata": {},
   "source": [
    "#### Unidad\ten\tel\tS.I.:"
   ]
  },
  {
   "cell_type": "markdown",
   "metadata": {},
   "source": [
    "#### 3) Tipos\tde\tFuerzas:"
   ]
  },
  {
   "cell_type": "markdown",
   "metadata": {},
   "source": [
    "#### F.\tinterna:"
   ]
  },
  {
   "cell_type": "markdown",
   "metadata": {},
   "source": [
    "#### F.\texterna:"
   ]
  },
  {
   "cell_type": "markdown",
   "metadata": {},
   "source": [
    "#### F.\tde\tcontacto:"
   ]
  },
  {
   "cell_type": "markdown",
   "metadata": {},
   "source": [
    "#### F.\tde\tacción\ta\tdistancia:"
   ]
  },
  {
   "cell_type": "markdown",
   "metadata": {},
   "source": [
    "#### 4) Escribe\tlas\t3\tleyes\tde\tNewton\ty\tproporciona\tun\tejemplo\tde\tcada\tuna:\t\t\n",
    "1a\tley:\t\t\n",
    "\t\n",
    "\t\n",
    "\t\n",
    "\t\n",
    "2a\tley:\t\n",
    "\t\n",
    "\t\n",
    "\t\n",
    "\t\n",
    "\t\n",
    "3a\tley:"
   ]
  },
  {
   "cell_type": "markdown",
   "metadata": {},
   "source": [
    "#### Resuelve\tlos\tsiguientes\tproblemas:"
   ]
  },
  {
   "cell_type": "markdown",
   "metadata": {},
   "source": [
    "#### 5) Se\taplica\tuna\tfuerza\tde\t550\tN\tpara\tmover\tun\tobjeto\tde\t22\tKg,\t¿cuál\tserá\tla\taceleración\tproducida?"
   ]
  },
  {
   "cell_type": "markdown",
   "metadata": {},
   "source": [
    "#### 6) ¿Cuál\tes\tel\tpeso\tde\tun\tautomóvil\tcuya\tmasa\tes\tde\t1.2\ttoneladas?"
   ]
  },
  {
   "cell_type": "markdown",
   "metadata": {},
   "source": [
    "#### 7) Explica\tcuál\tes\tla\tdiferencia\tentre\tpeso\ty\tmasa:"
   ]
  },
  {
   "cell_type": "markdown",
   "metadata": {},
   "source": [
    "#### Define:"
   ]
  },
  {
   "cell_type": "markdown",
   "metadata": {},
   "source": [
    "#### 8) Fuerza\tde\tfricción:"
   ]
  },
  {
   "cell_type": "markdown",
   "metadata": {},
   "source": [
    "#### 9) Tipos\tde\tfuerza\tde\tfricción:\t(y\tsus\tfórmulas)"
   ]
  },
  {
   "cell_type": "markdown",
   "metadata": {},
   "source": [
    "#### Fricción\testática:"
   ]
  },
  {
   "cell_type": "markdown",
   "metadata": {},
   "source": [
    "#### Fricción\tcinética:"
   ]
  },
  {
   "cell_type": "markdown",
   "metadata": {},
   "source": [
    "#### 10) Fuerza\tNormal:"
   ]
  },
  {
   "cell_type": "markdown",
   "metadata": {},
   "source": [
    "#### 11) Elabora\tel\tdiagrama\tde\tfuerzas\tdel\tsiguiente\tbloque.\tSupón\tque\texiste\tfricción\tcinética\tentre el\tpiso\ty\tel\tbloque:"
   ]
  },
  {
   "cell_type": "markdown",
   "metadata": {},
   "source": [
    "<img src=\"friccion.png\" align=\"middle\" width=\"300\">"
   ]
  }
 ],
 "metadata": {
  "kernelspec": {
   "display_name": "Julia 1.5.0",
   "language": "julia",
   "name": "julia-1.5"
  },
  "language_info": {
   "file_extension": ".jl",
   "mimetype": "application/julia",
   "name": "julia",
   "version": "1.5.0"
  }
 },
 "nbformat": 4,
 "nbformat_minor": 4
}
