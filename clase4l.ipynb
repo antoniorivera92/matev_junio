{
 "cells": [
  {
   "cell_type": "markdown",
   "metadata": {},
   "source": [
    "# Geometría analítica"
   ]
  },
  {
   "cell_type": "markdown",
   "metadata": {},
   "source": [
    "# Clase 4"
   ]
  },
  {
   "cell_type": "markdown",
   "metadata": {},
   "source": [
    "### Forma canónica (o simétrica) de la ecuación de la recta"
   ]
  },
  {
   "cell_type": "markdown",
   "metadata": {},
   "source": [
    "La ecuación de la recta en la forma *canónica* es:"
   ]
  },
  {
   "cell_type": "markdown",
   "metadata": {},
   "source": [
    "$$ \\dfrac{x}{a}+\\dfrac{y}{b}=1 $$"
   ]
  },
  {
   "cell_type": "markdown",
   "metadata": {},
   "source": [
    "* $a$ : abscisa al origen (el valor en el cual la recta corta el eje $x$)\n",
    "* $b$ : ordenada al origen (el valor en el cual la recta corta el eje $y$)"
   ]
  },
  {
   "cell_type": "markdown",
   "metadata": {},
   "source": [
    "### ¿Cómo obtener la ecuación canónica de la recta?"
   ]
  },
  {
   "cell_type": "markdown",
   "metadata": {},
   "source": [
    "1. Obtenemos la ecuación de la recta en la forma ordenada-pendiente.\n",
    "2. Identificamos la ordenada al origen y la pendiente para encontrar la abscisa al origen mediante la fórmula $$a=-\\dfrac{b}{m}$$\n",
    "3. Sustuimos ambos valores en la forma canónica de la recta."
   ]
  },
  {
   "cell_type": "markdown",
   "metadata": {},
   "source": [
    "* ***Ejemplo:*** Convierte la ecuación de la recta en la forma ordenada-pendiente\n",
    "$$ y=-2x+8 $$\n",
    "a la forma canónica."
   ]
  },
  {
   "cell_type": "markdown",
   "metadata": {},
   "source": [
    "$$ y=-2x+8 $$"
   ]
  },
  {
   "cell_type": "markdown",
   "metadata": {},
   "source": [
    "$$ 2x+y=8 $$"
   ]
  },
  {
   "cell_type": "markdown",
   "metadata": {},
   "source": [
    "$$ \\dfrac{x}{4}+\\dfrac{y}{8}=1 $$"
   ]
  },
  {
   "cell_type": "markdown",
   "metadata": {},
   "source": [
    "$$ \\circledast $$"
   ]
  },
  {
   "cell_type": "markdown",
   "metadata": {},
   "source": [
    "* ***Ejemplo:*** Convierte la ecuación de la recta en la forma ordenada-pendiente\n",
    "$$ y=-\\dfrac{1}{5}x+\\dfrac{9}{5} $$\n",
    "a la forma canónica."
   ]
  },
  {
   "cell_type": "markdown",
   "metadata": {},
   "source": [
    "$$ y=-\\dfrac{1}{5}x+\\dfrac{9}{5} $$"
   ]
  },
  {
   "cell_type": "markdown",
   "metadata": {},
   "source": [
    "$$ \\dfrac{1}{5}x+y=\\dfrac{9}{5} $$"
   ]
  },
  {
   "cell_type": "markdown",
   "metadata": {},
   "source": [
    "$$ \\dfrac{1}{9}x+\\dfrac{y}{9/5}=1 $$"
   ]
  },
  {
   "cell_type": "markdown",
   "metadata": {},
   "source": [
    "$$ \\dfrac{x}{9}+\\dfrac{y}{9/5}=1 $$"
   ]
  },
  {
   "cell_type": "markdown",
   "metadata": {},
   "source": [
    "$$ \\circledast $$"
   ]
  },
  {
   "cell_type": "markdown",
   "metadata": {},
   "source": [
    "* ***Ejemplo:*** Convierte la ecuación de la recta en la forma ordenada-pendiente\n",
    "$$ y=\\dfrac{3}{7}x-\\dfrac{25}{7} $$\n",
    "a la forma canónica."
   ]
  },
  {
   "cell_type": "markdown",
   "metadata": {},
   "source": [
    "Notamos que $b=-25/7$ y $m=3/7$ por lo que la abscisa al origen es"
   ]
  },
  {
   "cell_type": "markdown",
   "metadata": {},
   "source": [
    "$$ a=-\\dfrac{b}{m}=-\\dfrac{-25/7}{3/7}=\\dfrac{25}{3} $$"
   ]
  },
  {
   "cell_type": "markdown",
   "metadata": {},
   "source": [
    "La ecuación de la recta en la forma canónica es"
   ]
  },
  {
   "cell_type": "markdown",
   "metadata": {},
   "source": [
    "$$ \\dfrac{x}{a}+\\dfrac{y}{b}=1 $$"
   ]
  },
  {
   "cell_type": "markdown",
   "metadata": {},
   "source": [
    "por lo que, al sustituir la abscisa y la ordenada al origen, obtenemos"
   ]
  },
  {
   "cell_type": "markdown",
   "metadata": {},
   "source": [
    "$$ \\dfrac{x}{25/3}+\\dfrac{y}{-25/7}=1 $$"
   ]
  },
  {
   "cell_type": "markdown",
   "metadata": {},
   "source": [
    "$$ \\circledast $$"
   ]
  },
  {
   "cell_type": "markdown",
   "metadata": {},
   "source": [
    "### Tema extra para ver intersección: Sistemas de ecuaciones"
   ]
  },
  {
   "cell_type": "markdown",
   "metadata": {},
   "source": [
    "Para resolver un sistema de ecuaciones de la forma\n",
    "\\begin{equation}\n",
    "\\begin{cases}\n",
    "Ax+By=E \\\\\n",
    "Cx+Dy=F\n",
    "\\end{cases}\n",
    "\\end{equation}\n",
    "usamos determinantes. Esto es"
   ]
  },
  {
   "cell_type": "markdown",
   "metadata": {},
   "source": [
    "\\begin{equation}\n",
    "\\Delta=\n",
    "\\begin{pmatrix}\n",
    "A & B\\\\\n",
    "C & D\n",
    "\\end{pmatrix}\n",
    "=+AD-BC\n",
    "\\end{equation}"
   ]
  },
  {
   "cell_type": "markdown",
   "metadata": {},
   "source": [
    "\\begin{equation}\n",
    "\\Delta_x=\n",
    "\\begin{pmatrix}\n",
    "E & B\\\\\n",
    "F & D\n",
    "\\end{pmatrix}\n",
    "=+ED-FB\n",
    "\\end{equation}"
   ]
  },
  {
   "cell_type": "markdown",
   "metadata": {},
   "source": [
    "\\begin{equation}\n",
    "\\Delta_y=\n",
    "\\begin{pmatrix}\n",
    "A & E\\\\\n",
    "C & F\n",
    "\\end{pmatrix}\n",
    "=+AF-CE\n",
    "\\end{equation}"
   ]
  },
  {
   "cell_type": "markdown",
   "metadata": {},
   "source": [
    "Las soluciones son"
   ]
  },
  {
   "cell_type": "markdown",
   "metadata": {},
   "source": [
    "$$ x=\\dfrac{\\Delta_x}{\\Delta} $$"
   ]
  },
  {
   "cell_type": "markdown",
   "metadata": {},
   "source": [
    "$$ y=\\dfrac{\\Delta_y}{\\Delta} $$"
   ]
  },
  {
   "cell_type": "markdown",
   "metadata": {},
   "source": [
    "* ***Ejemplo:*** Tenemos el sistema de ecuaciones\n",
    "\\begin{equation}\n",
    "\\begin{cases}\n",
    "x+y=5 \\\\\n",
    "x-y=1\n",
    "\\end{cases}\n",
    "\\end{equation}\n",
    "¿Cuál es la solución?"
   ]
  },
  {
   "cell_type": "markdown",
   "metadata": {},
   "source": [
    "\\begin{equation}\n",
    "\\Delta=\n",
    "\\begin{pmatrix}\n",
    "1 & 1\\\\\n",
    "1 & -1\n",
    "\\end{pmatrix}\n",
    "=+(1)(-1)-(1)(1)=-2\n",
    "\\end{equation}"
   ]
  },
  {
   "cell_type": "markdown",
   "metadata": {},
   "source": [
    "\\begin{equation}\n",
    "\\Delta_x=\n",
    "\\begin{pmatrix}\n",
    "5 & 1\\\\\n",
    "1 & -1\n",
    "\\end{pmatrix}\n",
    "=+(5)(-1)-(1)(1)=-6\n",
    "\\end{equation}"
   ]
  },
  {
   "cell_type": "markdown",
   "metadata": {},
   "source": [
    "\\begin{equation}\n",
    "\\Delta_y=\n",
    "\\begin{pmatrix}\n",
    "1 & 5\\\\\n",
    "1 & 1\n",
    "\\end{pmatrix}\n",
    "=+(1)(1)-(1)(5)=-4\n",
    "\\end{equation}"
   ]
  },
  {
   "cell_type": "markdown",
   "metadata": {},
   "source": [
    "Las soluciones son"
   ]
  },
  {
   "cell_type": "markdown",
   "metadata": {},
   "source": [
    "$$ x=\\dfrac{\\Delta_x}{\\Delta}=\\dfrac{-6}{-2}=3 $$"
   ]
  },
  {
   "cell_type": "markdown",
   "metadata": {},
   "source": [
    "$$ y=\\dfrac{\\Delta_y}{\\Delta}=\\dfrac{-4}{-2}=2 $$"
   ]
  },
  {
   "cell_type": "markdown",
   "metadata": {},
   "source": [
    "$$ \\circledast $$"
   ]
  },
  {
   "cell_type": "markdown",
   "metadata": {},
   "source": [
    "* ***Ejemplo:*** Tenemos el sistema de ecuaciones\n",
    "\\begin{equation}\n",
    "\\begin{cases}\n",
    "4x+3y=18 \\\\\n",
    "5x-6y=3\n",
    "\\end{cases}\n",
    "\\end{equation}\n",
    "¿Cuál es la solución?"
   ]
  },
  {
   "cell_type": "markdown",
   "metadata": {},
   "source": [
    "\\begin{equation}\n",
    "\\Delta=\n",
    "\\begin{pmatrix}\n",
    "4 & 3\\\\\n",
    "5 & -6\n",
    "\\end{pmatrix}\n",
    "=+(4)(-6)-(5)(3)=-24-15=-39\n",
    "\\end{equation}"
   ]
  },
  {
   "cell_type": "markdown",
   "metadata": {},
   "source": [
    "\\begin{equation}\n",
    "\\Delta_x=\n",
    "\\begin{pmatrix}\n",
    "18 & 3\\\\\n",
    "3 & -6\n",
    "\\end{pmatrix}\n",
    "=+(18)(-6)-(3)(3)=-108-9=-117\n",
    "\\end{equation}"
   ]
  },
  {
   "cell_type": "markdown",
   "metadata": {},
   "source": [
    "\\begin{equation}\n",
    "\\Delta_y=\n",
    "\\begin{pmatrix}\n",
    "4 & 18\\\\\n",
    "5 & 3\n",
    "\\end{pmatrix}\n",
    "=+(4)(3)-(5)(18)=12-90=-78\n",
    "\\end{equation}"
   ]
  },
  {
   "cell_type": "markdown",
   "metadata": {},
   "source": [
    "Las soluciones son"
   ]
  },
  {
   "cell_type": "markdown",
   "metadata": {},
   "source": [
    "$$ x=\\dfrac{\\Delta_x}{\\Delta}=\\dfrac{-117}{-39}=3 $$"
   ]
  },
  {
   "cell_type": "markdown",
   "metadata": {},
   "source": [
    "$$ y=\\dfrac{\\Delta_y}{\\Delta}=\\dfrac{-78}{-39}=2 $$"
   ]
  },
  {
   "cell_type": "markdown",
   "metadata": {},
   "source": [
    "$$ \\circledast $$"
   ]
  },
  {
   "cell_type": "markdown",
   "metadata": {},
   "source": [
    "### Intersección"
   ]
  },
  {
   "cell_type": "markdown",
   "metadata": {},
   "source": [
    "La intersección de dos rectas es el punto donde estas se tocan."
   ]
  },
  {
   "cell_type": "markdown",
   "metadata": {},
   "source": [
    "* ***Ejemplo:***"
   ]
  },
  {
   "cell_type": "markdown",
   "metadata": {},
   "source": [
    "Vamos a pensar que tenemos las rectas\n",
    "\\begin{equation}\n",
    "\\begin{cases}\n",
    "y=6x-2 \\\\\n",
    "y=-9x+14\n",
    "\\end{cases}\n",
    "\\end{equation}\n",
    "¿Dónde se intersectan?"
   ]
  },
  {
   "cell_type": "markdown",
   "metadata": {},
   "source": [
    "\\begin{equation}\n",
    "\\begin{cases}\n",
    "-6x+y=-2 \\\\\n",
    "9x+y=14\n",
    "\\end{cases}\n",
    "\\end{equation}\n"
   ]
  },
  {
   "cell_type": "markdown",
   "metadata": {},
   "source": [
    "\\begin{equation}\n",
    "\\Delta=\n",
    "\\begin{pmatrix}\n",
    "-6 & 1\\\\\n",
    "9 & 1\n",
    "\\end{pmatrix}\n",
    "=+(-6)(1)-(9)(1)=-6-9=-15\n",
    "\\end{equation}"
   ]
  },
  {
   "cell_type": "markdown",
   "metadata": {},
   "source": [
    "\\begin{equation}\n",
    "\\Delta_x=\n",
    "\\begin{pmatrix}\n",
    "-2 & 1\\\\\n",
    "14 & 1\n",
    "\\end{pmatrix}\n",
    "=+(-2)(1)-(14)(1)=-2-14=-16\n",
    "\\end{equation}"
   ]
  },
  {
   "cell_type": "markdown",
   "metadata": {},
   "source": [
    "\\begin{equation}\n",
    "\\Delta_y=\n",
    "\\begin{pmatrix}\n",
    "-6 & -2\\\\\n",
    "9 & 14\n",
    "\\end{pmatrix}\n",
    "=+(-6)(14)-(9)(-2)=-84+18=-66\n",
    "\\end{equation}"
   ]
  },
  {
   "cell_type": "markdown",
   "metadata": {},
   "source": [
    "$$ x=\\dfrac{\\Delta_x}{\\Delta}=\\dfrac{-16}{-15}=\\dfrac{16}{15}=1.0666... $$"
   ]
  },
  {
   "cell_type": "markdown",
   "metadata": {},
   "source": [
    "$$ y=\\dfrac{\\Delta_y}{\\Delta}=\\dfrac{-66}{-15}=\\dfrac{22}{5}=4.4 $$"
   ]
  },
  {
   "cell_type": "markdown",
   "metadata": {},
   "source": [
    "Las coordenadas de la intersección son $\\left(\\dfrac{16}{15},\\dfrac{22}{5}\\right)$."
   ]
  },
  {
   "cell_type": "markdown",
   "metadata": {},
   "source": [
    "$$ \\circledast $$"
   ]
  },
  {
   "cell_type": "markdown",
   "metadata": {},
   "source": [
    "### Tarea:"
   ]
  },
  {
   "cell_type": "markdown",
   "metadata": {},
   "source": [
    "1. Encuentra la ecuación de la recta que pasa por los puntos $P(-2,3)$ y $Q(1,0)$"
   ]
  },
  {
   "cell_type": "markdown",
   "metadata": {},
   "source": [
    "2. Encuentra la ecuación de la recta que pasa por los puntos $R(-2/3,3/5)$ y $S(2/7,3/4)$"
   ]
  },
  {
   "cell_type": "markdown",
   "metadata": {},
   "source": [
    "3. Encuentra la ecuación de la recta que pasa por el punto $T(5/3,-2/7)$ y tiene como pendiente $m =1/10$"
   ]
  },
  {
   "cell_type": "markdown",
   "metadata": {},
   "source": [
    "4. Encuentra la ecuación de la recta que pasa por el punto $V(-6/5,10)$ y cuya ordenada al origen es $b=-9/8$."
   ]
  },
  {
   "cell_type": "markdown",
   "metadata": {},
   "source": [
    "5. Convierte la ecuación de la recta en la forma ordenada-pendiente\n",
    "$$ y=\\dfrac{1}{2}x $$\n",
    "    a la forma general y a la forma canónica."
   ]
  },
  {
   "cell_type": "markdown",
   "metadata": {},
   "source": [
    "6. Convierte la ecuación de la recta en la forma ordenada-pendiente\n",
    "$$ x=1 $$\n",
    "    a la forma general y a la forma canónica."
   ]
  },
  {
   "cell_type": "markdown",
   "metadata": {},
   "source": [
    "7. Convierte la ecuación de la recta en la forma ordenada-pendiente\n",
    "$$ y=\\dfrac{3}{7}x-\\dfrac{25}{7} $$\n",
    "    a la forma general y a la forma canónica."
   ]
  },
  {
   "cell_type": "markdown",
   "metadata": {},
   "source": [
    "8. Convierte la ecuación de la recta en la forma general\n",
    "$$ 3x-7y+15=0 $$\n",
    "    a la forma ordenada-pendiente y a la forma canónica."
   ]
  },
  {
   "cell_type": "markdown",
   "metadata": {},
   "source": [
    "9. Convierte la ecuación de la recta en la forma general\n",
    "$$ 5y-20=0 $$\n",
    "    a la forma ordenada-pendiente y a la forma canónica."
   ]
  },
  {
   "cell_type": "markdown",
   "metadata": {},
   "source": [
    "10. Convierte la ecuación de la recta en la forma general\n",
    "$$ \\dfrac{x}{5}+\\dfrac{y}{2}=1 $$\n",
    "    a la forma ordenada-pendiente y a la forma canónica."
   ]
  },
  {
   "cell_type": "markdown",
   "metadata": {},
   "source": [
    "11. Encuentra el punto de intersección para las rectas\n",
    "\\begin{equation}\n",
    "\\begin{cases}\n",
    "y=\\dfrac{2}{5}x-3 \\\\\n",
    "y=-3x+31\n",
    "\\end{cases}\n",
    "\\end{equation}\n",
    "Comprueba tu resultado de manera gráfica."
   ]
  },
  {
   "cell_type": "markdown",
   "metadata": {},
   "source": [
    "12. Encuentra el punto de intersección para las rectas\n",
    "\\begin{equation}\n",
    "\\begin{cases}\n",
    "\\dfrac{x}{32/5}+\\dfrac{y}{16}=1 \\\\\n",
    "\\dfrac{x}{7}+\\dfrac{y}{7}=1\n",
    "\\end{cases}\n",
    "\\end{equation}\n",
    "Comprueba tu resultado de manera gráfica."
   ]
  }
 ],
 "metadata": {
  "kernelspec": {
   "display_name": "Julia 1.5.0",
   "language": "julia",
   "name": "julia-1.5"
  },
  "language_info": {
   "file_extension": ".jl",
   "mimetype": "application/julia",
   "name": "julia",
   "version": "1.5.0"
  }
 },
 "nbformat": 4,
 "nbformat_minor": 4
}
