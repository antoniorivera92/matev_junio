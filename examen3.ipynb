{
 "cells": [
  {
   "cell_type": "markdown",
   "metadata": {},
   "source": [
    "# Examen 3"
   ]
  },
  {
   "cell_type": "markdown",
   "metadata": {},
   "source": [
    "## Situación 1: Barco fujimorista"
   ]
  },
  {
   "cell_type": "markdown",
   "metadata": {},
   "source": [
    "**En el 2000, el presidente peruano Alberto Fujimori se exilió hacia Japón ($J$) evadiendo cargos legales tras diversos escándalos de corrupción durante su mandato. Supongamos que Fujimori escapa desde Perú en barco. Un submarino peruano ($S$) busca atacar el barco para evitar que escape de la justicia. En el radar del submarino se ve la siguiente imagen con una escala de 1:1336 km.**"
   ]
  },
  {
   "cell_type": "markdown",
   "metadata": {},
   "source": [
    "Tal vez la visualización ayude:\n",
    "https://www.desmos.com/calculator/ovevygsvwz"
   ]
  },
  {
   "cell_type": "markdown",
   "metadata": {},
   "source": [
    "<img src=\"mapa_fujimorita.png\" align=\"middle\" width=\"800\">"
   ]
  },
  {
   "cell_type": "markdown",
   "metadata": {},
   "source": [
    "**1. ¿Cuál es la distancia inicial entre el barco y el submarino?**\n",
    "\n",
    "**(2 puntos)**"
   ]
  },
  {
   "cell_type": "markdown",
   "metadata": {},
   "source": [
    "A. $10688$ km\n",
    "\n",
    "B. $5344\\sqrt{10}$ km\n",
    "\n",
    "C. $13360$ km\n",
    "\n",
    "D. $2672\\sqrt{5}$ km"
   ]
  },
  {
   "cell_type": "markdown",
   "metadata": {},
   "source": [
    "Primero escribiremos las coordenadas de los puntos:\n",
    "* submarino, $S(14,3)$\n",
    "* Perú, $P(18,5)$"
   ]
  },
  {
   "cell_type": "markdown",
   "metadata": {},
   "source": [
    "$$ d(S,P)=\\sqrt{(x_2-x_1)^2+(y_2-y_1)^2}=\\sqrt{(18-14)^2+(5-3)^2}=\\sqrt{(4)^2+(2)^2} $$"
   ]
  },
  {
   "cell_type": "markdown",
   "metadata": {},
   "source": [
    "$$ =\\sqrt{16+4}=\\sqrt{20}=\\sqrt{4}\\sqrt{5}=2\\sqrt{5} $$"
   ]
  },
  {
   "cell_type": "markdown",
   "metadata": {},
   "source": [
    "Entonces la distancia real es"
   ]
  },
  {
   "cell_type": "markdown",
   "metadata": {},
   "source": [
    "$$ 2\\sqrt{5}\\left(\\dfrac{1336\\ \\rm{km}}{1}\\right)=2672\\sqrt{5}\\ \\rm{km} $$"
   ]
  },
  {
   "cell_type": "markdown",
   "metadata": {},
   "source": [
    "A. $10688$ km\n",
    "\n",
    "B. $5344\\sqrt{10}$ km\n",
    "\n",
    "C. $13360$ km\n",
    "\n",
    "D. $2672\\sqrt{5}$ km"
   ]
  },
  {
   "cell_type": "markdown",
   "metadata": {},
   "source": [
    "**Solución:** D."
   ]
  },
  {
   "cell_type": "markdown",
   "metadata": {},
   "source": [
    "**2. A lo largo de la trayectoria del barco, ¿cuál es la distancia más corta entre éste y el submarino?**\n",
    "\n",
    "**(3 puntos)**"
   ]
  },
  {
   "cell_type": "markdown",
   "metadata": {},
   "source": [
    "A. $10688$ km\n",
    "\n",
    "B. $5344\\sqrt{5}$ km\n",
    "\n",
    "C. $5464$ km\n",
    "\n",
    "D. $1336\\sqrt{10}$ km"
   ]
  },
  {
   "cell_type": "markdown",
   "metadata": {},
   "source": [
    "Recordemos que la distancia entre una recta\n",
    "$$ Ax+By+C=0 $$\n",
    "y un punto $Q(x_0,y_0)$ es"
   ]
  },
  {
   "cell_type": "markdown",
   "metadata": {},
   "source": [
    "$$ d=\\dfrac{|Ax_0+By_0+C|}{\\sqrt{A^2+B^2}} $$"
   ]
  },
  {
   "cell_type": "markdown",
   "metadata": {},
   "source": [
    "Entonces necesitamos escribir la ecuación de la recta entre $P$ y $J$ es"
   ]
  },
  {
   "cell_type": "markdown",
   "metadata": {},
   "source": [
    "$$ y=-\\frac{1}{3}x+11 $$"
   ]
  },
  {
   "cell_type": "markdown",
   "metadata": {},
   "source": [
    "Escrito en forma general tendremos"
   ]
  },
  {
   "cell_type": "markdown",
   "metadata": {},
   "source": [
    "$$ x+3y-33=0 $$"
   ]
  },
  {
   "cell_type": "markdown",
   "metadata": {},
   "source": [
    "El punto con respecto al cual queremos medir la distancia es $S(14,3)$"
   ]
  },
  {
   "cell_type": "markdown",
   "metadata": {},
   "source": [
    "$$ d=\\dfrac{|(14)+3(3)-33|}{\\sqrt{(1)^2+(3)^2}}=\\dfrac{|-10|}{\\sqrt{10}}=\\sqrt{10} $$"
   ]
  },
  {
   "cell_type": "markdown",
   "metadata": {},
   "source": [
    "Entonces la distancia real es"
   ]
  },
  {
   "cell_type": "markdown",
   "metadata": {},
   "source": [
    "$$ \\sqrt{10}\\left(\\dfrac{1336\\ \\rm{km}}{1}\\right)=1336\\sqrt{10}\\ \\rm{km} $$"
   ]
  },
  {
   "cell_type": "markdown",
   "metadata": {},
   "source": [
    "A. $10688$ km\n",
    "\n",
    "B. $5344\\sqrt{5}$ km\n",
    "\n",
    "C. $5464$ km\n",
    "\n",
    "D. $1336\\sqrt{10}$ km"
   ]
  },
  {
   "cell_type": "markdown",
   "metadata": {},
   "source": [
    "**Solución:** D."
   ]
  },
  {
   "cell_type": "markdown",
   "metadata": {},
   "source": [
    "**3. Cuando el barco avanza $1336\\sqrt{40}$ km hacia Japón desde Perú, ¿cuál es su distancia al submarino?**\n",
    "\n",
    "**(3 puntos)**"
   ]
  },
  {
   "cell_type": "markdown",
   "metadata": {},
   "source": [
    "A. $5344\\sqrt{10}$ km\n",
    "\n",
    "B. $1336\\sqrt{20}$ km\n",
    "\n",
    "C. $1336$ km\n",
    "\n",
    "D. $1336\\sqrt{40}$ km"
   ]
  },
  {
   "cell_type": "markdown",
   "metadata": {},
   "source": [
    "Pensemos que las nuevas coordenadas del barco son $B_1(x_1,y_1)$. Entonces, la distancia de Perú a la nueva posición del barco debe ser:"
   ]
  },
  {
   "cell_type": "markdown",
   "metadata": {},
   "source": [
    "$$ d(P,B_1)=\\sqrt{(x_1-18)^2+(y_1-5)^2}=\\sqrt{40} $$"
   ]
  },
  {
   "cell_type": "markdown",
   "metadata": {},
   "source": [
    "Pero el punto $B_1$ pertenece a la recta que se forma entre $P$ y $J$ por lo que"
   ]
  },
  {
   "cell_type": "markdown",
   "metadata": {},
   "source": [
    "$$ y_1=-\\dfrac{1}{3}x_1+11 $$"
   ]
  },
  {
   "cell_type": "markdown",
   "metadata": {},
   "source": [
    "Podemos sustituir esto en la distancia"
   ]
  },
  {
   "cell_type": "markdown",
   "metadata": {},
   "source": [
    "$$ \\sqrt{(x_1-18)^2+\\left[\\left(-\\dfrac{1}{3}x_1+11\\right)-5\\right]^2}=\\sqrt{40} $$"
   ]
  },
  {
   "cell_type": "markdown",
   "metadata": {},
   "source": [
    "$$ (x_1-18)^2+\\left(-\\dfrac{1}{3}x_1+6\\right)^2=\\left(\\sqrt{40}\\right)^2 $$"
   ]
  },
  {
   "cell_type": "markdown",
   "metadata": {},
   "source": [
    "$$ {x_1}^2-36x_1+324+\\dfrac{{x_1}^2}{9}-4x_1+36=40 $$"
   ]
  },
  {
   "cell_type": "markdown",
   "metadata": {},
   "source": [
    "$$ 9{x_1}^2-324x_1+2916+{x_1}^2-36x_1+324=360 $$"
   ]
  },
  {
   "cell_type": "markdown",
   "metadata": {},
   "source": [
    "$$ 10{x_1}^2-360x_1+2880=0 $$"
   ]
  },
  {
   "cell_type": "markdown",
   "metadata": {},
   "source": [
    "$$ {x_1}^2-36x_1+288=0 $$"
   ]
  },
  {
   "cell_type": "markdown",
   "metadata": {},
   "source": [
    "Obtenemos una ecuación cuadrática. La solución de esta ecuación es"
   ]
  },
  {
   "cell_type": "markdown",
   "metadata": {},
   "source": [
    "$$ x_1=\\dfrac{-(-36)\\pm\\sqrt{(-36)^2-4(1)(288)}}{2(1)}=\\dfrac{36\\pm\\sqrt{144}}{2}=\\dfrac{36\\pm12}{2}=18\\pm6 $$"
   ]
  },
  {
   "cell_type": "markdown",
   "metadata": {},
   "source": [
    "Si tomamos el signo negativo $x_1=12$ con lo que\n",
    "$$ y_1=-\\dfrac{1}{3}x_1+11=-\\dfrac{12}{3}+11=-4+11=7 $$"
   ]
  },
  {
   "cell_type": "markdown",
   "metadata": {},
   "source": [
    "Si tomamos el signo positivo $x_1=24$ con lo que\n",
    "$$ y_1=-\\dfrac{1}{3}x_1+11=-\\dfrac{24}{3}+11=-8+11=3 $$"
   ]
  },
  {
   "cell_type": "markdown",
   "metadata": {},
   "source": [
    "El punto correcto es $B_1(12,7)$ ya que es un punto que se acerca hacia Japón."
   ]
  },
  {
   "cell_type": "markdown",
   "metadata": {},
   "source": [
    "La distancia entre $S$ y $B_1$ es"
   ]
  },
  {
   "cell_type": "markdown",
   "metadata": {},
   "source": [
    "$$ d(S,B_1)=\\sqrt{(12-14)^2+(7-3)^2}=\\sqrt{(-2)^2+(4)^2}=\\sqrt{4+16}=\\sqrt{20} $$"
   ]
  },
  {
   "cell_type": "markdown",
   "metadata": {},
   "source": [
    "A. $5344\\sqrt{10}$ km\n",
    "\n",
    "B. $1336\\sqrt{20}$ km\n",
    "\n",
    "C. $1336$ km\n",
    "\n",
    "D. $1336\\sqrt{40}$ km"
   ]
  },
  {
   "cell_type": "markdown",
   "metadata": {},
   "source": [
    "**Solución:** B."
   ]
  },
  {
   "cell_type": "markdown",
   "metadata": {},
   "source": [
    "**4. El submarino envía un ultimátum al barco: \"si no se detienen a la mitad de la distancia entre Perú y Japón, dispararemos un misil en esa dirección.\" En caso de que disparasen, ¿cuál sería la ecuación de la recta que describiría+ la trayectoria de este misil?**\n",
    "\n",
    "**(2 puntos)**"
   ]
  },
  {
   "cell_type": "markdown",
   "metadata": {},
   "source": [
    "A. $y=-\\dfrac{1}{3}x+11$\n",
    "\n",
    "B. $y=-2x+31$\n",
    "\n",
    "C. $y=\\dfrac{1}{2}x+1$\n",
    "\n",
    "D. $y=3x+24$"
   ]
  },
  {
   "cell_type": "markdown",
   "metadata": {},
   "source": [
    "Llamemos a $B_2(x_2,y_2)$ la posición del barco en el punto medio entre $P$ y $J$. Sus coordenadas son"
   ]
  },
  {
   "cell_type": "markdown",
   "metadata": {},
   "source": [
    "$$ x_2=\\dfrac{18+6}{2}=12 $$"
   ]
  },
  {
   "cell_type": "markdown",
   "metadata": {},
   "source": [
    "$$ y_2=\\dfrac{5+9}{2}=7 $$"
   ]
  },
  {
   "cell_type": "markdown",
   "metadata": {},
   "source": [
    "Entonces el punto es $B_2(12,7)$."
   ]
  },
  {
   "cell_type": "markdown",
   "metadata": {},
   "source": [
    "Buscamos la ecuación de la recta que pasa por esa posición y la de $S$"
   ]
  },
  {
   "cell_type": "markdown",
   "metadata": {},
   "source": [
    "$$ m=\\dfrac{3-7}{14-12}=-2 $$"
   ]
  },
  {
   "cell_type": "markdown",
   "metadata": {},
   "source": [
    "$$ b=y-mx=(7)-(-2)(12)=31 $$"
   ]
  },
  {
   "cell_type": "markdown",
   "metadata": {},
   "source": [
    "La ecuación de la recta es"
   ]
  },
  {
   "cell_type": "markdown",
   "metadata": {},
   "source": [
    "$$ y=-2x+31 $$"
   ]
  },
  {
   "cell_type": "markdown",
   "metadata": {},
   "source": [
    "A. $y=-\\dfrac{1}{3}x+11$\n",
    "\n",
    "B. $y=-2x+31$\n",
    "\n",
    "C. $y=\\dfrac{1}{2}x+1$\n",
    "\n",
    "D. $y=3x+24$"
   ]
  },
  {
   "cell_type": "markdown",
   "metadata": {},
   "source": [
    "**Solución:** B."
   ]
  },
  {
   "cell_type": "markdown",
   "metadata": {},
   "source": [
    "**5. Un segundo barco pasa cerca del barco fujimorista. ¿Cuál ecuación corresponde a una trayectoria para la cual los barcos nunca choquen entre sí y bloquee la \"vista\" del submarino?**\n",
    "\n",
    "**(1 punto)**"
   ]
  },
  {
   "cell_type": "markdown",
   "metadata": {},
   "source": [
    "A. $y=-\\dfrac{1}{3}x+9$\n",
    "\n",
    "B. $y=3x-39$\n",
    "\n",
    "C. $y=-\\dfrac{3}{4}x+\\dfrac{27}{2}$\n",
    "\n",
    "D. $y=\\dfrac{1}{2}x-4$"
   ]
  },
  {
   "cell_type": "markdown",
   "metadata": {},
   "source": [
    "Sabemos que para que nunca se crucen, las rectas tienen que ser paralelas y, por lo tanto, sus pendientes deben ser iguales. La ecuación de la recta que pasa por $P$ y $J$ es"
   ]
  },
  {
   "cell_type": "markdown",
   "metadata": {},
   "source": [
    "$$ y=-\\dfrac{1}{3}x+11 $$"
   ]
  },
  {
   "cell_type": "markdown",
   "metadata": {},
   "source": [
    "La pendiente de esta recta es $-\\dfrac{1}{3}$."
   ]
  },
  {
   "cell_type": "markdown",
   "metadata": {},
   "source": [
    "A. $y=-\\dfrac{1}{3}x+9$\n",
    "\n",
    "B. $y=3x-39$\n",
    "\n",
    "C. $y=-\\dfrac{3}{4}x+\\dfrac{27}{2}$\n",
    "\n",
    "D. $y=\\dfrac{1}{2}x-4$"
   ]
  },
  {
   "cell_type": "markdown",
   "metadata": {},
   "source": [
    "**Solución:** B."
   ]
  },
  {
   "cell_type": "markdown",
   "metadata": {},
   "source": [
    "## Situación 2: Triángulo"
   ]
  },
  {
   "cell_type": "markdown",
   "metadata": {},
   "source": [
    "**Consideremos un triángulo con vértices $A(-1,4)$, $B(8,5)$, y $C(-1,-3)$.**"
   ]
  },
  {
   "cell_type": "markdown",
   "metadata": {},
   "source": [
    "Tal vez la visualización ayude:\n",
    "https://www.desmos.com/calculator/jaa6oczqni"
   ]
  },
  {
   "cell_type": "markdown",
   "metadata": {},
   "source": [
    "**6. Calcula la longitud de la altura que pasa por el vértice $A$.**\n",
    "\n",
    "**(3 puntos)**"
   ]
  },
  {
   "cell_type": "markdown",
   "metadata": {},
   "source": [
    "A. $\\sqrt{145}\\ \\text{unidades}$\n",
    "\n",
    "B. $\\dfrac{63}{\\sqrt{82}}\\ \\text{unidades}$\n",
    "\n",
    "C. $9\\ \\text{unidades}$\n",
    "\n",
    "D. $\\dfrac{63}{\\sqrt{145}}\\ \\text{unidades}$"
   ]
  },
  {
   "cell_type": "markdown",
   "metadata": {},
   "source": [
    "Para encontrar esto es conveniente encontrar ecuación de la recta que pasa por el cateto opuesto, es decir, que pasa por los vértices $B$ y $C$, para obtener la distancia del vértice a la recta."
   ]
  },
  {
   "cell_type": "markdown",
   "metadata": {},
   "source": [
    "Para esto encontramos la pendiente"
   ]
  },
  {
   "cell_type": "markdown",
   "metadata": {},
   "source": [
    "$$ m_{BC}=\\dfrac{(-3)-(5)}{(-1)-(8)}=\\dfrac{8}{9} $$"
   ]
  },
  {
   "cell_type": "markdown",
   "metadata": {},
   "source": [
    "y la ordenada al origen"
   ]
  },
  {
   "cell_type": "markdown",
   "metadata": {},
   "source": [
    "$$ b=y-m_{BC}x=(5)-\\left(\\dfrac{8}{9}\\right)(8)=-\\dfrac{19}{9} $$"
   ]
  },
  {
   "cell_type": "markdown",
   "metadata": {},
   "source": [
    "Por lo tanto, la ecuación de la recta en su forma de ordenada-pendiente es"
   ]
  },
  {
   "cell_type": "markdown",
   "metadata": {},
   "source": [
    "$$ y=\\dfrac{8}{9}x-\\dfrac{19}{9} $$"
   ]
  },
  {
   "cell_type": "markdown",
   "metadata": {},
   "source": [
    "En su forma general es"
   ]
  },
  {
   "cell_type": "markdown",
   "metadata": {},
   "source": [
    "$$ \\dfrac{8}{9}x-y-\\dfrac{19}{9}=0 $$"
   ]
  },
  {
   "cell_type": "markdown",
   "metadata": {},
   "source": [
    "$$ 8x-9y-19=0 $$"
   ]
  },
  {
   "cell_type": "markdown",
   "metadata": {},
   "source": [
    "Ahora usamos la fórmula de distancia entre un punto y una recta"
   ]
  },
  {
   "cell_type": "markdown",
   "metadata": {},
   "source": [
    "$$ d=\\dfrac{|A_0x_0+B_0y_0+C_0|}{\\sqrt{\\left.{A_0}^2+{B_0}^2\\right.}}=\\dfrac{|(8)(-1)+(-9)(4)+(-19)|}{\\sqrt{(8)^2+(-9)^2}}=\\dfrac{63}{\\sqrt{145}} $$"
   ]
  },
  {
   "cell_type": "markdown",
   "metadata": {},
   "source": [
    "A. $\\sqrt{145}\\ \\text{unidades}$\n",
    "\n",
    "B. $\\dfrac{63}{\\sqrt{82}}\\ \\text{unidades}$\n",
    "\n",
    "C. $9\\ \\text{unidades}$\n",
    "\n",
    "D. $\\dfrac{63}{\\sqrt{145}}\\ \\text{unidades}$"
   ]
  },
  {
   "cell_type": "markdown",
   "metadata": {},
   "source": [
    "**Solución:** D."
   ]
  },
  {
   "cell_type": "markdown",
   "metadata": {},
   "source": [
    "**7. Obtén el ángulo que se forma en el vértice $B$, redondeado a dos décimas.**\n",
    "\n",
    "**(2 puntos)**"
   ]
  },
  {
   "cell_type": "markdown",
   "metadata": {},
   "source": [
    "A. $95.34^\\circ$\n",
    "\n",
    "B. $41.63^\\circ$\n",
    "\n",
    "C. $35.29^\\circ$\n",
    "\n",
    "D. $49.37^\\circ$"
   ]
  },
  {
   "cell_type": "markdown",
   "metadata": {},
   "source": [
    "Para esto usaremos la fórmula de ángulo entre pendientes:"
   ]
  },
  {
   "cell_type": "markdown",
   "metadata": {},
   "source": [
    "$$ \\theta=\\tan^{-1}\\left(\\dfrac{m_2-m_1}{1+m_2m_1}\\right) $$"
   ]
  },
  {
   "cell_type": "markdown",
   "metadata": {},
   "source": [
    "Las pendientes que usaremos son"
   ]
  },
  {
   "cell_type": "markdown",
   "metadata": {},
   "source": [
    "$$ m_{AB}=\\dfrac{(5)-(4)}{(8)-(-1)}=\\dfrac{1}{9} $$"
   ]
  },
  {
   "cell_type": "markdown",
   "metadata": {},
   "source": [
    "$$ m_{BC}=\\dfrac{(-3)-(5)}{(-1)-(8)}=\\dfrac{8}{9} $$"
   ]
  },
  {
   "cell_type": "markdown",
   "metadata": {},
   "source": [
    "porque son las pendientes de las rectas que se unen en el vértice $B$."
   ]
  },
  {
   "cell_type": "markdown",
   "metadata": {},
   "source": [
    "$$ B=\\tan^{-1}\\left(\\dfrac{m_{BC}-m_{AB}}{1+m_{BC}m_{AB}}\\right)=\\tan^{-1}\\left[\\dfrac{\\left(\\dfrac{8}{9}\\right)-\\left(\\dfrac{1}{9}\\right)}{1+\\left(\\dfrac{8}{9}\\right)\\left(\\dfrac{1}{9}\\right)}\\right]\\approx35.29^\\circ $$"
   ]
  },
  {
   "cell_type": "code",
   "execution_count": 1,
   "metadata": {},
   "outputs": [
    {
     "data": {
      "text/plain": [
       "35.29334759066029"
      ]
     },
     "execution_count": 1,
     "metadata": {},
     "output_type": "execute_result"
    }
   ],
   "source": [
    "atand((8/9-1/9)/(1+(8/9)*(1/9)))"
   ]
  },
  {
   "cell_type": "markdown",
   "metadata": {},
   "source": [
    "A. $95.34^\\circ$\n",
    "\n",
    "B. $41.63^\\circ$\n",
    "\n",
    "C. $35.29^\\circ$\n",
    "\n",
    "D. $49.37^\\circ$"
   ]
  },
  {
   "cell_type": "markdown",
   "metadata": {},
   "source": [
    "**Solución:** C."
   ]
  },
  {
   "cell_type": "markdown",
   "metadata": {},
   "source": [
    "**8. Obtén el ángulo que se forma en el vértice $C$, redondeado a dos décimas.**\n",
    "\n",
    "**(2 puntos)**"
   ]
  },
  {
   "cell_type": "markdown",
   "metadata": {},
   "source": [
    "A. $95.34^\\circ$\n",
    "\n",
    "B. $41.63^\\circ$\n",
    "\n",
    "C. $35.29^\\circ$\n",
    "\n",
    "D. $49.37^\\circ$"
   ]
  },
  {
   "cell_type": "markdown",
   "metadata": {},
   "source": [
    "Aquí no podemos usar la fórmula de ángulo entre dos pendientes porque una de las pendientes se indefine. Nos fijamos en la gráfica."
   ]
  },
  {
   "cell_type": "markdown",
   "metadata": {},
   "source": [
    "<img src=\"triangulo.png\" align=\"middle\" width=\"400\">"
   ]
  },
  {
   "cell_type": "markdown",
   "metadata": {},
   "source": [
    "Si obtenemos el ángulo que forma la pendiente de la recta que pasa por $B$ y $C$, el ángulo complementario será el ángulo interno sobre el vértice $C$."
   ]
  },
  {
   "cell_type": "markdown",
   "metadata": {},
   "source": [
    "Para esto usamos"
   ]
  },
  {
   "cell_type": "markdown",
   "metadata": {},
   "source": [
    "$$ \\theta=\\tan^{-1}(m_{BC})=\\tan^{-1}\\left(\\dfrac{8}{9}\\right)\\approx41.63^\\circ $$"
   ]
  },
  {
   "cell_type": "code",
   "execution_count": 6,
   "metadata": {},
   "outputs": [
    {
     "data": {
      "text/plain": [
       "41.6335393365702"
      ]
     },
     "execution_count": 6,
     "metadata": {},
     "output_type": "execute_result"
    }
   ],
   "source": [
    "atand(8/9)"
   ]
  },
  {
   "cell_type": "markdown",
   "metadata": {},
   "source": [
    "Entonces,"
   ]
  },
  {
   "cell_type": "markdown",
   "metadata": {},
   "source": [
    "$$ C=90^\\circ-\\theta\\approx48.37^\\circ $$"
   ]
  },
  {
   "cell_type": "code",
   "execution_count": 8,
   "metadata": {},
   "outputs": [
    {
     "data": {
      "text/plain": [
       "48.37"
      ]
     },
     "execution_count": 8,
     "metadata": {},
     "output_type": "execute_result"
    }
   ],
   "source": [
    "90-41.63"
   ]
  },
  {
   "cell_type": "markdown",
   "metadata": {},
   "source": [
    "A. $95.34^\\circ$\n",
    "\n",
    "B. $41.63^\\circ$\n",
    "\n",
    "C. $35.29^\\circ$\n",
    "\n",
    "D. $49.37^\\circ$"
   ]
  },
  {
   "cell_type": "markdown",
   "metadata": {},
   "source": [
    "**Solución:** D."
   ]
  },
  {
   "cell_type": "markdown",
   "metadata": {},
   "source": [
    "**9. Calcula el área del triángulo.**\n",
    "\n",
    "**(2 puntos)**"
   ]
  },
  {
   "cell_type": "markdown",
   "metadata": {},
   "source": [
    "A. $63\\ \\text{unidades}^2$\n",
    "\n",
    "B. $126\\ \\text{unidades}^2$\n",
    "\n",
    "C. $31.5\\ \\text{unidades}^2$\n",
    "\n",
    "D. $15.75\\ \\text{unidades}^2$"
   ]
  },
  {
   "cell_type": "markdown",
   "metadata": {},
   "source": [
    "**1ra manera: Fórmula de primaria**"
   ]
  },
  {
   "cell_type": "markdown",
   "metadata": {},
   "source": [
    "Como ya tenemos la altura que pasa por el lado $\\overline{BC}$, ahora obtenemos el valor de este lado para tratarlo como base."
   ]
  },
  {
   "cell_type": "markdown",
   "metadata": {},
   "source": [
    "$$ a=\\overline{BC}=d(B,C)=\\sqrt{[(8)-(-1)]^2+[(5)-(-3)]^2}=\\sqrt{(9)^2+(8)^2}=\\sqrt{145} $$"
   ]
  },
  {
   "cell_type": "markdown",
   "metadata": {},
   "source": [
    "Entonces,"
   ]
  },
  {
   "cell_type": "markdown",
   "metadata": {},
   "source": [
    "$$ \\text{Area}=\\ \\dfrac{\\text{base}\\cdot\\text{altura}}{2}=\\dfrac{(\\sqrt{145})\\cdot\\left(\\frac{63}{\\sqrt{145}}\\right)}{2}=\\dfrac{63}{2}=31.5 $$"
   ]
  },
  {
   "cell_type": "markdown",
   "metadata": {},
   "source": [
    "**2da manera: Fórmula de Herón**"
   ]
  },
  {
   "cell_type": "markdown",
   "metadata": {},
   "source": [
    "$$ b=\\overline{CA}=d(C,A)=\\sqrt{[(-1)-(-1)]^2+[(-3)-(4)]^2}=\\sqrt{(0)^2+(-7)^2}=7 $$"
   ]
  },
  {
   "cell_type": "markdown",
   "metadata": {},
   "source": [
    "$$ c=\\overline{AB}=d(A,B)=\\sqrt{[(-1)-(8)]^2+[(4)-(5)]^2}=\\sqrt{(-9)^2+(-1)^2}=\\sqrt{82} $$"
   ]
  },
  {
   "cell_type": "markdown",
   "metadata": {},
   "source": [
    "$$ s=\\dfrac{a+b+c}{2}=\\dfrac{\\sqrt{145}+7+\\sqrt{82}}{2}\\approx14.05 $$"
   ]
  },
  {
   "cell_type": "code",
   "execution_count": 9,
   "metadata": {},
   "outputs": [
    {
     "data": {
      "text/plain": [
       "14.048489858464857"
      ]
     },
     "execution_count": 9,
     "metadata": {},
     "output_type": "execute_result"
    }
   ],
   "source": [
    "((√145)+7+(√82))/2"
   ]
  },
  {
   "cell_type": "markdown",
   "metadata": {},
   "source": [
    "$$ \\text{Area}=\\sqrt{s(s-a)(s-b)(s-c)}\\approx31.5 $$"
   ]
  },
  {
   "cell_type": "code",
   "execution_count": 11,
   "metadata": {},
   "outputs": [
    {
     "data": {
      "text/plain": [
       "31.500000000000004"
      ]
     },
     "execution_count": 11,
     "metadata": {},
     "output_type": "execute_result"
    }
   ],
   "source": [
    "√(14.048489858464857*(14.048489858464857-√145)*(14.048489858464857-7)*(14.048489858464857-√82))"
   ]
  },
  {
   "cell_type": "markdown",
   "metadata": {},
   "source": [
    "**3ra manera: Dos catetos y ángulo entre estos**"
   ]
  },
  {
   "cell_type": "markdown",
   "metadata": {},
   "source": [
    "$$ \\text{Area}=\\dfrac{ac\\sin B}{2}\\approx31.5 $$"
   ]
  },
  {
   "cell_type": "code",
   "execution_count": 13,
   "metadata": {},
   "outputs": [
    {
     "data": {
      "text/plain": [
       "31.497399967919556"
      ]
     },
     "execution_count": 13,
     "metadata": {},
     "output_type": "execute_result"
    }
   ],
   "source": [
    "(√145)*(√82)*sind(35.29)/2"
   ]
  },
  {
   "cell_type": "markdown",
   "metadata": {},
   "source": [
    "$$ \\text{Area}=\\dfrac{ab\\sin C}{2}\\approx31.5 $$"
   ]
  },
  {
   "cell_type": "code",
   "execution_count": 14,
   "metadata": {
    "scrolled": true
   },
   "outputs": [
    {
     "data": {
      "text/plain": [
       "31.501729586039882"
      ]
     },
     "execution_count": 14,
     "metadata": {},
     "output_type": "execute_result"
    }
   ],
   "source": [
    "(√145)*(7)*sind(48.37)/2"
   ]
  },
  {
   "cell_type": "markdown",
   "metadata": {},
   "source": [
    "A. $63\\ \\text{unidades}^2$\n",
    "\n",
    "B. $126\\ \\text{unidades}^2$\n",
    "\n",
    "C. $31.5\\ \\text{unidades}^2$\n",
    "\n",
    "D. $15.75\\ \\text{unidades}^2$"
   ]
  },
  {
   "cell_type": "markdown",
   "metadata": {},
   "source": [
    "**Solución:** C."
   ]
  },
  {
   "cell_type": "markdown",
   "metadata": {},
   "source": [
    "**10. Encuentra las coordenadas del circuncentro.**\n",
    "\n",
    "**(3 puntos)**"
   ]
  },
  {
   "cell_type": "markdown",
   "metadata": {},
   "source": [
    "A. $\\left(-\\dfrac{17}{9},5\\right)$\n",
    "\n",
    "B. $\\left(\\dfrac{7}{2},\\dfrac{9}{2}\\right)$\n",
    "\n",
    "C. $\\left(\\dfrac{71}{18},\\dfrac{1}{2}\\right)$\n",
    "\n",
    "D. $\\left(2,2\\right)$\n"
   ]
  },
  {
   "cell_type": "markdown",
   "metadata": {},
   "source": [
    "Para encontrar esto necesitamos escribir las ecuaciones de las mediatrices que pasan por cada cateto del triángulo. Lo primero que hacemos es obtener las coordenadas de los puntos medios:"
   ]
  },
  {
   "cell_type": "markdown",
   "metadata": {},
   "source": [
    "* Punto de medio al lado $\\overline{AB}$, $M_{AB}\\left(\\dfrac{7}{2},\\dfrac{9}{2}\\right)$\n",
    "* Punto de medio al lado $\\overline{BC}$, $M_{BC}\\left(\\dfrac{7}{2},1\\right)$\n",
    "* Punto de medio al lado $\\overline{CA}$, $M_{CA}\\left(-1,\\dfrac{1}{2}\\right)$"
   ]
  },
  {
   "cell_type": "markdown",
   "metadata": {},
   "source": [
    "Ahora buscamos la ecuación de la recta perpendicular a un cateto y que pase por el punto medio de ese cateto (mediatriz):"
   ]
  },
  {
   "cell_type": "markdown",
   "metadata": {},
   "source": [
    "**Mediatriz del lado $\\overline{AB}$:**"
   ]
  },
  {
   "cell_type": "markdown",
   "metadata": {},
   "source": [
    "$$ m_{AB}=\\dfrac{(5)-(4)}{(8)-(-1)}=\\dfrac{1}{9} $$"
   ]
  },
  {
   "cell_type": "markdown",
   "metadata": {},
   "source": [
    "La pendiente perpendicular es $-9$. La ordenada al origen es"
   ]
  },
  {
   "cell_type": "markdown",
   "metadata": {},
   "source": [
    "$$ b=y-mx=\\left(\\dfrac{9}{2}\\right)-(-9)\\left(\\dfrac{7}{2}\\right)=36 $$"
   ]
  },
  {
   "cell_type": "markdown",
   "metadata": {},
   "source": [
    "La ecuación de la mediatriz en su forma ordenada-pendiente es"
   ]
  },
  {
   "cell_type": "markdown",
   "metadata": {},
   "source": [
    "$$ y=-9x+36 $$"
   ]
  },
  {
   "cell_type": "markdown",
   "metadata": {},
   "source": [
    "La ecuación de la mediatriz en su forma general es"
   ]
  },
  {
   "cell_type": "markdown",
   "metadata": {},
   "source": [
    "$$ 9x+y-36=0 $$"
   ]
  },
  {
   "cell_type": "markdown",
   "metadata": {},
   "source": [
    "**Mediatriz del lado $\\overline{BC}$:**"
   ]
  },
  {
   "cell_type": "markdown",
   "metadata": {},
   "source": [
    "$$ m_{BC}=\\dfrac{(-3)-(5)}{(-1)-(8)}=\\dfrac{8}{9} $$"
   ]
  },
  {
   "cell_type": "markdown",
   "metadata": {},
   "source": [
    "La pendiente perpendicular es $-\\dfrac{9}{8}$. La ordenada al origen es"
   ]
  },
  {
   "cell_type": "markdown",
   "metadata": {},
   "source": [
    "$$ b=y-mx=\\left(1\\right)-\\left(-\\dfrac{9}{8}\\right)\\left(\\dfrac{7}{2}\\right)=\\dfrac{79}{16} $$"
   ]
  },
  {
   "cell_type": "markdown",
   "metadata": {},
   "source": [
    "La ecuación de la mediatriz en su forma ordenada-pendiente es"
   ]
  },
  {
   "cell_type": "markdown",
   "metadata": {},
   "source": [
    "$$ y=-\\dfrac{9}{8}x+\\dfrac{79}{16} $$"
   ]
  },
  {
   "cell_type": "markdown",
   "metadata": {},
   "source": [
    "La ecuación de la mediatriz en su forma general es"
   ]
  },
  {
   "cell_type": "markdown",
   "metadata": {},
   "source": [
    "$$ \\dfrac{9}{8}x+y-\\dfrac{79}{16}=0 $$"
   ]
  },
  {
   "cell_type": "markdown",
   "metadata": {},
   "source": [
    "$$ 18x+16y-79=0 $$"
   ]
  },
  {
   "cell_type": "markdown",
   "metadata": {},
   "source": [
    "**Mediatriz del lado $\\overline{CA}$:**"
   ]
  },
  {
   "cell_type": "markdown",
   "metadata": {},
   "source": [
    "Como el cateto $\\overline{CA}$ es una segemento de una recta vertical, su perpendicular es una recta horizontal, es decir, la pendiente perperdicular es $0$. La ordenada al origen es"
   ]
  },
  {
   "cell_type": "markdown",
   "metadata": {},
   "source": [
    "$$ b=y-mx=\\left(\\dfrac{1}{2}\\right)-\\left(0\\right)(-1)=\\dfrac{1}{2} $$"
   ]
  },
  {
   "cell_type": "markdown",
   "metadata": {},
   "source": [
    "La ecuación de la mediatriz en su forma ordenada-pendiente es"
   ]
  },
  {
   "cell_type": "markdown",
   "metadata": {},
   "source": [
    "$$ y=\\dfrac{1}{2} $$"
   ]
  },
  {
   "cell_type": "markdown",
   "metadata": {},
   "source": [
    "La ecuación de la mediatriz en su forma general es"
   ]
  },
  {
   "cell_type": "markdown",
   "metadata": {},
   "source": [
    "$$ 2y-1=0 $$"
   ]
  },
  {
   "cell_type": "markdown",
   "metadata": {},
   "source": [
    "Podemos formar un sistema de ecuaciones con cualesquiera dos de las tres ecuaciones que obtuvimos. Al resolver el sistema de ecuaciones se obtienen las coordenadas de la intersección de las mediatrices (el circuncentro)."
   ]
  },
  {
   "cell_type": "markdown",
   "metadata": {},
   "source": [
    "Por ejemplo,"
   ]
  },
  {
   "cell_type": "markdown",
   "metadata": {},
   "source": [
    "\\begin{equation}\n",
    "\\begin{cases}\n",
    "9x+y-36=0\\\\\n",
    "18x+16y-79=0\n",
    "\\end{cases}\n",
    "\\end{equation}"
   ]
  },
  {
   "cell_type": "markdown",
   "metadata": {},
   "source": [
    "\\begin{equation}\n",
    "\\begin{cases}\n",
    "9x+y=36\\\\\n",
    "18x+16y=79\n",
    "\\end{cases}\n",
    "\\end{equation}"
   ]
  },
  {
   "cell_type": "markdown",
   "metadata": {},
   "source": [
    "\\begin{equation}\n",
    "\\Delta=\\begin{pmatrix}\n",
    "9&1\\\\\n",
    "18&16\n",
    "\\end{pmatrix}\n",
    "=+(9)(16)-(18)(1)=144-18=126\n",
    "\\end{equation}"
   ]
  },
  {
   "cell_type": "markdown",
   "metadata": {},
   "source": [
    "\\begin{equation}\n",
    "\\Delta_x=\\begin{pmatrix}\n",
    "36&1\\\\\n",
    "79&16\n",
    "\\end{pmatrix}\n",
    "=+(36)(16)-(79)(1)=576-79=497\n",
    "\\end{equation}"
   ]
  },
  {
   "cell_type": "markdown",
   "metadata": {},
   "source": [
    "$$ x=\\dfrac{\\Delta_x}{\\Delta}=\\dfrac{497}{126}=\\dfrac{71}{18} $$"
   ]
  },
  {
   "cell_type": "markdown",
   "metadata": {},
   "source": [
    "\\begin{equation}\n",
    "\\Delta_y=\\begin{pmatrix}\n",
    "9&36\\\\\n",
    "18&79\n",
    "\\end{pmatrix}\n",
    "=+(9)(79)-(18)(36)=711-648=63\n",
    "\\end{equation}"
   ]
  },
  {
   "cell_type": "markdown",
   "metadata": {},
   "source": [
    "$$ y=\\dfrac{\\Delta_y}{\\Delta}=\\dfrac{63}{126}=\\dfrac{1}{2} $$"
   ]
  },
  {
   "cell_type": "markdown",
   "metadata": {},
   "source": [
    "A. $\\left(-\\dfrac{17}{9},5\\right)$\n",
    "\n",
    "B. $\\left(\\dfrac{7}{2},\\dfrac{9}{2}\\right)$\n",
    "\n",
    "C. $\\left(\\dfrac{71}{18},\\dfrac{1}{2}\\right)$\n",
    "\n",
    "D. $\\left(2,2\\right)$\n"
   ]
  },
  {
   "cell_type": "markdown",
   "metadata": {},
   "source": [
    "**Solución:** C."
   ]
  },
  {
   "cell_type": "markdown",
   "metadata": {},
   "source": [
    "| Problema | Respuesta | Puntaje | Problema | Respuesta | Puntaje |\n",
    "|----------|-----------|---------|----------|-----------|---------|\n",
    "| 1        | D         | 2       | 6        | D         | 3       |\n",
    "| 2        | D         | 3       | 7        | C         | 2       |\n",
    "| 3        | B         | 3       | 8        | D         | 2       |\n",
    "| 4        | B         | 2       | 9        | C         | 2       |\n",
    "| 5        | B         | 1       | 10       | C         | 3       |\n",
    "\n",
    " "
   ]
  }
 ],
 "metadata": {
  "@webio": {
   "lastCommId": null,
   "lastKernelId": null
  },
  "kernelspec": {
   "display_name": "Julia 1.1.0",
   "language": "julia",
   "name": "julia-1.1"
  },
  "language_info": {
   "file_extension": ".jl",
   "mimetype": "application/julia",
   "name": "julia",
   "version": "1.1.0"
  }
 },
 "nbformat": 4,
 "nbformat_minor": 2
}
