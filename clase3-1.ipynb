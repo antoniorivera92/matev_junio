{
 "cells": [
  {
   "cell_type": "markdown",
   "metadata": {},
   "source": [
    "# Álgebra para analizar objetos geométricos"
   ]
  },
  {
   "cell_type": "markdown",
   "metadata": {},
   "source": [
    "# Clase 1"
   ]
  },
  {
   "cell_type": "markdown",
   "metadata": {},
   "source": [
    "## Plano cartesiano"
   ]
  },
  {
   "cell_type": "markdown",
   "metadata": {},
   "source": [
    "Abran el graficador para que vayan viendo de qué trata:"
   ]
  },
  {
   "cell_type": "markdown",
   "metadata": {},
   "source": [
    "https://www.desmos.com/calculator"
   ]
  },
  {
   "cell_type": "markdown",
   "metadata": {},
   "source": [
    "### Ejes coordenados"
   ]
  },
  {
   "cell_type": "markdown",
   "metadata": {},
   "source": [
    "Eje $x$ (eje de las abscisas): es una línea horizontal que toma valores desde $-\\infty$ hasta $\\infty$\n",
    "\n",
    "Eje $y$ (eje de las ordenadas): es una línea vertical que toma valores desde $-\\infty$ hasta $\\infty$"
   ]
  },
  {
   "cell_type": "markdown",
   "metadata": {},
   "source": [
    "**¿Cómo nos movemos en el plano cartesiano?**"
   ]
  },
  {
   "cell_type": "markdown",
   "metadata": {},
   "source": [
    "Para empezar a movernos en el plano cartesiano tenemos que partir del origen $O(0,0)$"
   ]
  },
  {
   "cell_type": "markdown",
   "metadata": {},
   "source": [
    "Si las coordenadas son $(x,y)$, la primera coordenada (la abscisa $x$) nos indica cuántas unidades movernos sobre el eje de las $x$ (si es positivo nos movemos hacia la derecha; si es negativo, hacia la izquierda)."
   ]
  },
  {
   "cell_type": "markdown",
   "metadata": {},
   "source": [
    "La segunda coordenada (la ordenada $y$) nos indica cuántas unidades movernos sobre el eje de las $y$ (si es positivo nos movemos hacia arriba; si es negativo, hacia abajo)."
   ]
  },
  {
   "cell_type": "markdown",
   "metadata": {},
   "source": [
    "$P_1(1,3)$, $P_2(-2,2)$, $P_3(-4,-3)$, $P_4(2,-4)$"
   ]
  },
  {
   "cell_type": "markdown",
   "metadata": {},
   "source": [
    "$Q_1(1,0)$, $Q_2(-2,0)$, $Q_3(0,-3)$, $Q_4(0,4)$"
   ]
  },
  {
   "cell_type": "markdown",
   "metadata": {},
   "source": [
    "<img src=\"plano_cartesiano.png\" align=\"middle\" width=\"1000\">"
   ]
  },
  {
   "cell_type": "markdown",
   "metadata": {},
   "source": [
    "Cuadrantes:\n",
    "* Primer cuadrante $(+,+)$\n",
    "* Segundo cuadrante $(-,+)$\n",
    "* Tercer cuadrante $(-,-)$\n",
    "* Cuarto cuadrante $(+,-)$\n"
   ]
  },
  {
   "cell_type": "markdown",
   "metadata": {},
   "source": [
    "## Distancia"
   ]
  },
  {
   "cell_type": "markdown",
   "metadata": {},
   "source": [
    "Si tenemos dos puntos $P(x_1,y_1)$ y $Q(x_2,y_2)$, la longitud del segmento entre estos puntos es\n",
    "\n",
    "$$ \\overline{PQ}=\\sqrt{(x_1-x_2)^2+(y_1-y_2)^2} $$"
   ]
  },
  {
   "cell_type": "markdown",
   "metadata": {},
   "source": [
    "* ***Ejemplo:*** Determine la distancia entre los puntos $A(-2,1)$, y $B(1,5)$"
   ]
  },
  {
   "cell_type": "markdown",
   "metadata": {},
   "source": [
    "$$ \\overline{AB}=\\sqrt{(x_1-x_2)^2+(y_1-y_2)^2} $$"
   ]
  },
  {
   "cell_type": "markdown",
   "metadata": {},
   "source": [
    "$$ =\\sqrt{[(-2)-(1)]^2+[(1)-(5)]^2} $$"
   ]
  },
  {
   "cell_type": "markdown",
   "metadata": {},
   "source": [
    "$$ =\\sqrt{[-2-1]^2+[1-5]^2} $$"
   ]
  },
  {
   "cell_type": "markdown",
   "metadata": {},
   "source": [
    "$$ =\\sqrt{[-3]^2+[-4]^2} $$"
   ]
  },
  {
   "cell_type": "markdown",
   "metadata": {},
   "source": [
    "$$ =\\sqrt{9+16} $$"
   ]
  },
  {
   "cell_type": "markdown",
   "metadata": {},
   "source": [
    "$$ =\\sqrt{25} $$"
   ]
  },
  {
   "cell_type": "markdown",
   "metadata": {},
   "source": [
    "$$ =5 $$"
   ]
  },
  {
   "cell_type": "markdown",
   "metadata": {},
   "source": [
    "* ***Ejemplo:*** Determina si el triángulo formado por los puntos $A(0,0)$, $B(6,5)$, y $C(1,6)$ es escaleno, isósceles o equilátero."
   ]
  },
  {
   "cell_type": "markdown",
   "metadata": {},
   "source": [
    "$$ \\overline{AB}=\\sqrt{[(0)-(6)]^2+[(0)-(5)]^2}=\\sqrt{[-6]^2+[-5]^2}=\\sqrt{36+25}=\\sqrt{61}\\approx7.81 $$"
   ]
  },
  {
   "cell_type": "markdown",
   "metadata": {},
   "source": [
    "$$ \\overline{BC}=\\sqrt{(x_B-x_C)^2+(y_B-y_C)^2}=\\sqrt{[(6)-(1)]^2+[(5)-(6)]^2}=\\sqrt{[5]^2+[-1]^2}=\\sqrt{26}\\approx5.09 $$"
   ]
  },
  {
   "cell_type": "markdown",
   "metadata": {},
   "source": [
    "$$ \\overline{CA}=\\sqrt{(x_C-x_A)^2+(y_C-y_A)^2}=\\sqrt{[(1)-(0)]^2+[(6)-(0)]^2}=\\sqrt{1+36}=\\sqrt{37}\\approx6.08 $$"
   ]
  },
  {
   "cell_type": "markdown",
   "metadata": {},
   "source": [
    "Ninguno de los lados es igual por lo que se trata de un triángulo escaleno."
   ]
  },
  {
   "cell_type": "markdown",
   "metadata": {},
   "source": [
    "* ***Ejemplo:*** Determine el punto equidistante a los puntos $A(-2,3)$, $B(4,1)$, y $C(1,7)$"
   ]
  },
  {
   "cell_type": "markdown",
   "metadata": {},
   "source": [
    "Lo que queremos encontrar es un punto que a cada uno de los tres puntos anteriores les quede a la misma distancia. Vamos a pensar que ese cuarto punto es $D(x_D,y_D)$"
   ]
  },
  {
   "cell_type": "markdown",
   "metadata": {},
   "source": [
    "Necesitamos que se cumpla que"
   ]
  },
  {
   "cell_type": "markdown",
   "metadata": {},
   "source": [
    "$$ \\overline{AD}=\\overline{BD}=\\overline{CD} $$"
   ]
  },
  {
   "cell_type": "markdown",
   "metadata": {},
   "source": [
    "Primero veremos qué significa cada una de estas distancias:"
   ]
  },
  {
   "cell_type": "markdown",
   "metadata": {},
   "source": [
    "$$ \\overline{AD}=\\sqrt{(x_A-x_D)^2+(y_A-y_D)^2}=\\sqrt{[(-2)-x_D]^2+[(3)-y_D]^2}=\\sqrt{(-2-x_D)^2+(3-y_D)^2} $$"
   ]
  },
  {
   "cell_type": "markdown",
   "metadata": {},
   "source": [
    "$$ \\overline{BD}=\\sqrt{(x_B-x_D)^2+(y_B-y_D)^2}=\\sqrt{(4-x_D)^2+(1-y_D)^2} $$"
   ]
  },
  {
   "cell_type": "markdown",
   "metadata": {},
   "source": [
    "$$ \\overline{CD}=\\sqrt{(x_C-x_D)^2+(y_C-y_D)^2}=\\sqrt{(1-x_D)^2+(7-y_D)^2} $$"
   ]
  },
  {
   "cell_type": "markdown",
   "metadata": {},
   "source": [
    "* **1ra ecuación lineal:**"
   ]
  },
  {
   "cell_type": "markdown",
   "metadata": {},
   "source": [
    "$$ \\overline{AD}=\\overline{BD} $$"
   ]
  },
  {
   "cell_type": "markdown",
   "metadata": {},
   "source": [
    "$$ \\sqrt{(-2-x_D)^2+(3-y_D)^2}=\\sqrt{(4-x_D)^2+(1-y_D)^2} $$"
   ]
  },
  {
   "cell_type": "markdown",
   "metadata": {},
   "source": [
    "$$ (-2-x_D)^2+(3-y_D)^2=(4-x_D)^2+(1-y_D)^2 $$"
   ]
  },
  {
   "cell_type": "markdown",
   "metadata": {},
   "source": [
    "$$ [(-2)^2+2(-2)(-x_D)+(-x_D)^2]+[(3)^2+2(3)(-y_D)+(-y_D)^2]=[(4)^2+2(4)(-x_D)+(-x_D)^2]+[(1)^2+2(1)(-y_D)+(-y_D)^2] $$"
   ]
  },
  {
   "cell_type": "markdown",
   "metadata": {},
   "source": [
    "$$ [4+4x_D+{x_D}^2]+[9-6y_D+{y_D}^2]=[16-8x_D+{x_D}^2]+[1-2y_D+{y_D}^2] $$"
   ]
  },
  {
   "cell_type": "markdown",
   "metadata": {},
   "source": [
    "$$ 4+4x_D+{x_D}^2+9-6y_D+{y_D}^2=16-8x_D+{x_D}^2+1-2y_D+{y_D}^2 $$"
   ]
  },
  {
   "cell_type": "markdown",
   "metadata": {},
   "source": [
    "$$ 4+4x_D+{x_D}^2+9-6y_D+{y_D}^2+8x_D-{x_D}^2+2y_D-{y_D}^2=16+1 $$"
   ]
  },
  {
   "cell_type": "markdown",
   "metadata": {},
   "source": [
    "$$ 4x_D+{x_D}^2-6y_D+{y_D}^2+8x_D-{x_D}^2+2y_D-{y_D}^2=16+1-4-9 $$"
   ]
  },
  {
   "cell_type": "markdown",
   "metadata": {},
   "source": [
    "$$ 12x_D-4y_D=4 $$"
   ]
  },
  {
   "cell_type": "markdown",
   "metadata": {},
   "source": [
    "* **2da ecuación lineal:**"
   ]
  },
  {
   "cell_type": "markdown",
   "metadata": {},
   "source": [
    "$$ \\overline{BD}=\\overline{CD} $$"
   ]
  },
  {
   "cell_type": "markdown",
   "metadata": {},
   "source": [
    "**Tarea moral:** Encontrar la segunda ecuación y resolver el sistema de ecuaciones."
   ]
  },
  {
   "cell_type": "markdown",
   "metadata": {},
   "source": [
    "Nuestro sistema de ecuaciones es\n",
    "\\begin{equation}\n",
    "\\begin{cases}\n",
    "12x-4y=4\\\\\n",
    "-6x+12y=33\\\\\n",
    "\\end{cases}\n",
    "\\end{equation}"
   ]
  },
  {
   "cell_type": "markdown",
   "metadata": {},
   "source": [
    "\\begin{equation}\n",
    "\\Delta=\n",
    "\\begin{pmatrix}\n",
    "12 & -4\\\\\n",
    "-6 & 12\\\\\n",
    "\\end{pmatrix}\n",
    "\\end{equation}"
   ]
  },
  {
   "cell_type": "markdown",
   "metadata": {},
   "source": [
    "$$ x=\\dfrac{180}{120}=\\dfrac{18}{12}=\\dfrac{3}{2} $$"
   ]
  },
  {
   "cell_type": "markdown",
   "metadata": {},
   "source": [
    "$$ y=\\dfrac{420}{120}=\\dfrac{42}{12}=\\dfrac{7}{2} $$"
   ]
  },
  {
   "cell_type": "markdown",
   "metadata": {},
   "source": [
    "El punto es $D\\left(\\dfrac{3}{2},\\dfrac{7}{2}\\right)$."
   ]
  },
  {
   "cell_type": "markdown",
   "metadata": {},
   "source": [
    "## División de un segmento en una razón dada"
   ]
  },
  {
   "cell_type": "markdown",
   "metadata": {},
   "source": [
    "### Punto medio"
   ]
  },
  {
   "cell_type": "markdown",
   "metadata": {},
   "source": [
    "Si tenemos dos puntos, $P_1(x_1,y_1)$ y $P_2(x_2,y_2)$, el punto medio $P(x,y)$ tiene coordenadas"
   ]
  },
  {
   "cell_type": "markdown",
   "metadata": {},
   "source": [
    "$$x=\\dfrac{x_1+x_2}{2}$$"
   ]
  },
  {
   "cell_type": "markdown",
   "metadata": {},
   "source": [
    "$$y=\\dfrac{y_1+y_2}{2}$$"
   ]
  },
  {
   "cell_type": "markdown",
   "metadata": {},
   "source": [
    "* ***Ejemplo:*** Si tuviéramos los puntos $A(-3,-1)$ y $B(5,-1)$, ¿cuáles son las coordenadas del punto que está a la mitad?"
   ]
  },
  {
   "cell_type": "markdown",
   "metadata": {},
   "source": [
    "$$x_0=\\dfrac{x_1+x_2}{2}=\\dfrac{(-3)+(5)}{2}=\\dfrac{2}{2}=1$$"
   ]
  },
  {
   "cell_type": "markdown",
   "metadata": {},
   "source": [
    "$$y_0=\\dfrac{y_1+y_2}{2}=\\dfrac{(-1)+(-1)}{2}=\\dfrac{-2}{2}=-1$$"
   ]
  },
  {
   "cell_type": "markdown",
   "metadata": {},
   "source": [
    "El punto medio $M(x_0,y_0)=M(1,-1)$."
   ]
  },
  {
   "cell_type": "markdown",
   "metadata": {},
   "source": [
    "* ***Ejemplo:*** Si tuviéramos los puntos $A(-3,-4)$ y $B(5,-6)$, ¿cuáles son las coordenadas del punto que está a la mitad?"
   ]
  },
  {
   "cell_type": "markdown",
   "metadata": {},
   "source": [
    "$$x_0=\\dfrac{x_1+x_2}{2}=\\dfrac{(-3)+(5)}{2}=\\dfrac{2}{2}=1$$"
   ]
  },
  {
   "cell_type": "markdown",
   "metadata": {},
   "source": [
    "$$y_0=\\dfrac{y_1+y_2}{2}=\\dfrac{(-4)+(-6)}{2}=\\dfrac{-10}{2}=-5$$"
   ]
  },
  {
   "cell_type": "markdown",
   "metadata": {},
   "source": [
    "### Razón"
   ]
  },
  {
   "cell_type": "markdown",
   "metadata": {},
   "source": [
    "Nuevamente tenemos dos puntos, $P_1(x_1,y_1)$ y $P_2(x_2,y_2)$. Llamaremos *razón* a una cantidad escrita como fracción $r=\\dfrac{a}{b}.$ Esta fracción nos dice que el  segmento $\\overline{P_1P_2}$ se tiene que dividir en $a+b$ partes."
   ]
  },
  {
   "cell_type": "markdown",
   "metadata": {},
   "source": [
    "Entonces, el punto $P(x,y)$ que aparece en esa razón dada, tiene coordenadas"
   ]
  },
  {
   "cell_type": "markdown",
   "metadata": {},
   "source": [
    "$$x=\\dfrac{x_1+rx_2}{1+r}$$"
   ]
  },
  {
   "cell_type": "markdown",
   "metadata": {},
   "source": [
    "$$y=\\dfrac{y_1+ry_2}{1+r}$$"
   ]
  },
  {
   "cell_type": "markdown",
   "metadata": {},
   "source": [
    "* ***Ejemplo:*** Tenemos los puntos $A(-2,4)$ y $B(4, -8)$. Encuentra el punto que divide al segmento con la razón $r=2=\\dfrac{2}{1}$."
   ]
  },
  {
   "cell_type": "markdown",
   "metadata": {},
   "source": [
    "$$x=\\dfrac{x_1+rx_2}{1+r}=\\dfrac{(-2)+2(4)}{1+2}=\\dfrac{-2+8}{3}=\\dfrac{6}{3}=2$$"
   ]
  },
  {
   "cell_type": "markdown",
   "metadata": {},
   "source": [
    "$$y=\\dfrac{y_1+ry_2}{1+r}=\\dfrac{(4)+2(-8)}{1+2}=\\dfrac{4-16}{3}=\\dfrac{-12}{3}=-4$$"
   ]
  },
  {
   "cell_type": "markdown",
   "metadata": {},
   "source": [
    "$$ C(2,-4) $$"
   ]
  },
  {
   "cell_type": "markdown",
   "metadata": {},
   "source": [
    "Este punto me divide al segmento en $2+1=3$ partes: $2$ partes desde A hasta $C$ y una parte desde $C$ hasta $B$."
   ]
  }
 ],
 "metadata": {
  "kernelspec": {
   "display_name": "Julia 1.1.0",
   "language": "julia",
   "name": "julia-1.1"
  },
  "language_info": {
   "file_extension": ".jl",
   "mimetype": "application/julia",
   "name": "julia",
   "version": "1.1.0"
  }
 },
 "nbformat": 4,
 "nbformat_minor": 4
}
