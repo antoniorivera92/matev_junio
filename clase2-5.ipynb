{
 "cells": [
  {
   "cell_type": "markdown",
   "metadata": {},
   "source": [
    "# Pensamiento geométrico para visualizar y argumentar"
   ]
  },
  {
   "cell_type": "markdown",
   "metadata": {},
   "source": [
    "# Clase 5"
   ]
  },
  {
   "cell_type": "markdown",
   "metadata": {},
   "source": [
    "## Círculos II"
   ]
  },
  {
   "cell_type": "markdown",
   "metadata": {},
   "source": [
    "### Longitud de cuerda"
   ]
  },
  {
   "cell_type": "markdown",
   "metadata": {},
   "source": [
    "<img src=\"cuerda.png\" align=\"middle\" width=\"300\">"
   ]
  },
  {
   "cell_type": "markdown",
   "metadata": {},
   "source": [
    "$$ \\ell=2R\\sin\\left(\\dfrac{\\theta}{2}\\right) $$"
   ]
  },
  {
   "cell_type": "markdown",
   "metadata": {},
   "source": [
    "$$ \\ell=\\sqrt{2R^2(1-\\cos\\theta)} $$"
   ]
  },
  {
   "cell_type": "markdown",
   "metadata": {},
   "source": [
    "$$ \\ell=2R\\sin\\left(\\dfrac{\\pi t}{360}\\right) $$"
   ]
  },
  {
   "cell_type": "markdown",
   "metadata": {},
   "source": [
    "$$ \\ell=\\sqrt{2R^2\\left[1-\\cos\\left(\\dfrac{\\pi t}{180}\\right)\\right]} $$"
   ]
  },
  {
   "cell_type": "markdown",
   "metadata": {},
   "source": [
    "* $\\ell$ : longitud de cuerda\n",
    "* $R$ : radio\n",
    "* $\\theta$ : ángulo (radianes)\n",
    "* $t$ : ángulo (grados)"
   ]
  },
  {
   "cell_type": "markdown",
   "metadata": {},
   "source": [
    "### Segmento circular"
   ]
  },
  {
   "cell_type": "markdown",
   "metadata": {},
   "source": [
    "<img src=\"segmento.png\" align=\"middle\" width=\"300\">"
   ]
  },
  {
   "cell_type": "markdown",
   "metadata": {},
   "source": [
    "$$ A=\\dfrac{R^2}{2}(\\theta-\\sin\\theta) $$"
   ]
  },
  {
   "cell_type": "markdown",
   "metadata": {},
   "source": [
    "$$ A=\\dfrac{R^2}{2}\\left[\\dfrac{\\pi t}{180}-\\sin\\left(\\dfrac{\\pi t}{180}\\right)\\right] $$"
   ]
  },
  {
   "cell_type": "markdown",
   "metadata": {},
   "source": [
    "## Situación: El arte Burkina"
   ]
  },
  {
   "cell_type": "markdown",
   "metadata": {},
   "source": [
    "**En un pueblo africano llamado Tiebele en Burkina Faso la corte real se aloja en pequeñas estructuras de adobe (arcilla y arena), que están decoradas con pinturas naturales que forman patrones geométricos. El propósito, además de estético, es para diferenciarlas de las casas de la gente común.**\n",
    "\n",
    "**Tlahuilmalitzin es una artesana mexicana la cual admira el arte de cualquier región. Y quiere pintar una pared con un diseño parecido al de Burkina Faso. Pero ha notado que el tipo de figuras que adornan las paredes en Burkina son sencillas. Lo único que tiene que hacer es decidir su diseño de acuerdo con su presupuesto.**"
   ]
  },
  {
   "cell_type": "markdown",
   "metadata": {},
   "source": [
    "<img src=\"extra1-1.png\" align=\"middle\" width=\"300\">"
   ]
  },
  {
   "cell_type": "markdown",
   "metadata": {},
   "source": [
    "**1. Dado que los anillos están separados a la misma distancia, Tlahuilmalitzin se pregunta si el área gris que se muestra en la siguiente figura, es: [1 punto]**"
   ]
  },
  {
   "cell_type": "markdown",
   "metadata": {},
   "source": [
    "a)  $\\dfrac{1}{2}$ de área del círculo mayor\n",
    "\n",
    "b)  $\\dfrac{3}{4}$ de área del círculo mayor\n",
    "\n",
    "c)  $\\dfrac{3}{8}$ de área del círculo mayor\n",
    "\n",
    "d)  $\\dfrac{5}{8}$ de área del círculo mayor"
   ]
  },
  {
   "cell_type": "markdown",
   "metadata": {},
   "source": [
    "$ R_1 $ para el primer círculo"
   ]
  },
  {
   "cell_type": "markdown",
   "metadata": {},
   "source": [
    "$ R_2=2R_1 $ para el segundo círculo"
   ]
  },
  {
   "cell_type": "markdown",
   "metadata": {},
   "source": [
    "$ R_3=3R_1 $ para el tercer círculo"
   ]
  },
  {
   "cell_type": "markdown",
   "metadata": {},
   "source": [
    "$ R_4=4R_1 $ para el tercer círculo"
   ]
  },
  {
   "cell_type": "markdown",
   "metadata": {},
   "source": [
    "$$ A_1=\\pi {R_1}^2 $$"
   ]
  },
  {
   "cell_type": "markdown",
   "metadata": {},
   "source": [
    "$$ A_2=\\pi {R_2}^2=\\pi(2R_1)^2=\\pi(4{R_1}^2)=4\\pi {R_1}^2=4A_1 $$"
   ]
  },
  {
   "cell_type": "markdown",
   "metadata": {},
   "source": [
    "$$ A_3=\\pi {R_3}^2=\\pi(3R_1)^2=\\pi(9{R_1}^2)=9\\pi {R_1}^2=9A_1 $$"
   ]
  },
  {
   "cell_type": "markdown",
   "metadata": {},
   "source": [
    "$$ A_4=\\pi{R_4}^2=\\pi(4R_1)^2=16\\pi{R_1}^2=16A_1 $$"
   ]
  },
  {
   "cell_type": "markdown",
   "metadata": {},
   "source": [
    "$$ A_S=A_4-A_3+A_2-A_1 $$"
   ]
  },
  {
   "cell_type": "markdown",
   "metadata": {},
   "source": [
    "$$ A_S=(16A_1)-(9A_1)+(4A_1)-A_1=10A_1 $$"
   ]
  },
  {
   "cell_type": "markdown",
   "metadata": {},
   "source": [
    "Vamos a comparar el área sombreada con el área del circulo mayor:"
   ]
  },
  {
   "cell_type": "markdown",
   "metadata": {},
   "source": [
    "$$ \\dfrac{A_S}{A_4}=\\dfrac{10A_1}{16A_1}=\\dfrac{5}{8} $$"
   ]
  },
  {
   "cell_type": "markdown",
   "metadata": {},
   "source": [
    "a)  $\\dfrac{1}{2}$ de área del círculo mayor\n",
    "\n",
    "b)  $\\dfrac{3}{4}$ de área del círculo mayor\n",
    "\n",
    "c)  $\\dfrac{3}{8}$ de área del círculo mayor\n",
    "\n",
    "d)  $\\dfrac{5}{8}$ de área del círculo mayor"
   ]
  },
  {
   "cell_type": "markdown",
   "metadata": {},
   "source": [
    "**Solución:** d)"
   ]
  },
  {
   "cell_type": "markdown",
   "metadata": {},
   "source": [
    "**2. Tlahuilmalitzin hizo otro diseño con las mismas circunferencias del modelo anterior, donde el punto $A$ está sobre la bisectriz del $\\angle CBE$ , si $BC$ mide $1\\ \\rm{dm}$, el área de la estrella es: [2 puntos]**"
   ]
  },
  {
   "cell_type": "markdown",
   "metadata": {},
   "source": [
    "<img src=\"extra1-2.png\" align=\"middle\" width=\"300\">"
   ]
  },
  {
   "cell_type": "markdown",
   "metadata": {},
   "source": [
    "Triángulo $ABC$:"
   ]
  },
  {
   "cell_type": "markdown",
   "metadata": {},
   "source": [
    "* Datos:\n",
    "    * $\\overline{AB}=\\dfrac{1}{2}\\ dm$\n",
    "    * $\\overline{BC}=1\\ dm$\n",
    "    * $\\angle ABC=45^\\circ$\n",
    "    * $A=?$"
   ]
  },
  {
   "cell_type": "markdown",
   "metadata": {},
   "source": [
    "* Fórmula:"
   ]
  },
  {
   "cell_type": "markdown",
   "metadata": {},
   "source": [
    "<img src=\"triangulo.png\" align=\"middle\" width=\"300\">"
   ]
  },
  {
   "cell_type": "markdown",
   "metadata": {},
   "source": [
    "*\"Para cualquier triángulo el área es la mitad del producto de dos catetos y el seno del ángulo entre estos dos catetos.\"*"
   ]
  },
  {
   "cell_type": "markdown",
   "metadata": {},
   "source": [
    "$$ \\text{Area}=\\dfrac{ab\\sin C}{2}=\\dfrac{bc\\sin A}{2}=\\dfrac{ac\\sin B}{2} $$"
   ]
  },
  {
   "cell_type": "markdown",
   "metadata": {},
   "source": [
    "$$ A_\\Delta=\\dfrac{\\left(\\dfrac{1}{2}dm\\right)(1dm)\\sin{45^\\circ}}{2} $$"
   ]
  },
  {
   "cell_type": "code",
   "execution_count": 1,
   "metadata": {},
   "outputs": [
    {
     "data": {
      "text/plain": [
       "0.1767766952966369"
      ]
     },
     "execution_count": 1,
     "metadata": {},
     "output_type": "execute_result"
    }
   ],
   "source": [
    "((1/2)*(1)*sind(45))/2"
   ]
  },
  {
   "cell_type": "markdown",
   "metadata": {},
   "source": [
    "$$ =\\dfrac{\\left(\\dfrac{1}{2}dm\\right)(1dm)\\dfrac{\\sqrt{2}}{2}}{2}=\\dfrac{\\dfrac{\\sqrt{2}}{4}}{2} dm^2=\\dfrac{\\sqrt{2}}{8} dm^2 $$"
   ]
  },
  {
   "cell_type": "markdown",
   "metadata": {},
   "source": [
    "$$ A_S=\\sqrt{2}dm^2 $$"
   ]
  },
  {
   "cell_type": "code",
   "execution_count": 2,
   "metadata": {},
   "outputs": [
    {
     "data": {
      "text/plain": [
       "1.4142135623730951"
      ]
     },
     "execution_count": 2,
     "metadata": {},
     "output_type": "execute_result"
    }
   ],
   "source": [
    "8*0.1767766952966369"
   ]
  },
  {
   "cell_type": "markdown",
   "metadata": {},
   "source": [
    "a)  $\\dfrac{\\sqrt{2}}{2}\\ \\rm{dm}^2$\n",
    "\n",
    "b)  $\\sqrt{2}\\ \\rm{dm}^2$\n",
    "\n",
    "c)  $2\\sqrt{2}\\ \\rm{dm}^2$\n",
    "\n",
    "d)  $\\dfrac{\\sqrt{2}}{4}\\ \\rm{dm}^2$"
   ]
  },
  {
   "cell_type": "markdown",
   "metadata": {},
   "source": [
    "**Solución:** b)"
   ]
  },
  {
   "cell_type": "markdown",
   "metadata": {},
   "source": [
    "**3. Tlahuilmalitzin se pregunta ¿cómo son las áreas grises de ambas figuras? [2 puntos]**"
   ]
  },
  {
   "cell_type": "markdown",
   "metadata": {},
   "source": [
    "<img src=\"extra1-3.png\" align=\"middle\" width=\"300\">"
   ]
  },
  {
   "cell_type": "markdown",
   "metadata": {},
   "source": [
    "$$ A_1=\\pi {R_1}^2=\\pi\\left(0.025\\ m\\right)^2=\\dfrac{\\pi}{1600}\\ m^2 $$"
   ]
  },
  {
   "cell_type": "markdown",
   "metadata": {},
   "source": [
    "$$ A_\\text{anillos}=10A_1=\\frac{\\pi}{160}\\ m^2 $$"
   ]
  },
  {
   "cell_type": "code",
   "execution_count": 5,
   "metadata": {},
   "outputs": [
    {
     "data": {
      "text/plain": [
       "1.9634954084936207"
      ]
     },
     "execution_count": 5,
     "metadata": {},
     "output_type": "execute_result"
    }
   ],
   "source": [
    "5π/8"
   ]
  },
  {
   "cell_type": "markdown",
   "metadata": {},
   "source": [
    "$A_\\text{estrella}=\\sqrt{2}=1.4142$\n",
    "\n",
    "$A_\\text{anillos}=1.9635$"
   ]
  },
  {
   "cell_type": "markdown",
   "metadata": {},
   "source": [
    "a)  El área de los anillos es la mitad que el área de la estrella.\n",
    "\n",
    "b)  El área de los anillos es mayor que la mitad del área de la estrella.\n",
    "\n",
    "c)  El área de los anillos es igual que el área de la estrella.\n",
    "\n",
    "d)  El área de los anillos es menor que la mitad del área de la estrella."
   ]
  },
  {
   "cell_type": "markdown",
   "metadata": {},
   "source": [
    "**Solución:** b) "
   ]
  },
  {
   "cell_type": "markdown",
   "metadata": {},
   "source": [
    "**4. Tlahuilmalitzin quiere adornar las paredes exteriores de su casa que construirá en Cuernavaca al estilo de las casas de Burkina Faso, ella tiene dos diseños combinando el de los anillos y las estrellas. ¿Cuál es el área en $\\rm{m}^2$ que ocupan todos los anillos de ambos diseños? [3 puntos]**"
   ]
  },
  {
   "cell_type": "markdown",
   "metadata": {},
   "source": [
    "<img src=\"extra1-4.png\" align=\"middle\" width=\"500\">"
   ]
  },
  {
   "cell_type": "markdown",
   "metadata": {},
   "source": [
    "<img src=\"extra1-5.png\" align=\"middle\" width=\"500\">"
   ]
  },
  {
   "cell_type": "markdown",
   "metadata": {},
   "source": [
    "$$ A_1=\\pi {R_1}^2=\\pi\\left(0.025\\ m\\right)^2=\\dfrac{\\pi}{1600}\\ m^2 $$"
   ]
  },
  {
   "cell_type": "markdown",
   "metadata": {},
   "source": [
    "$$ A_\\text{anillos}=(16A_1)-(9A_1)+(4A_1)-A_1=10A_1=\\frac{\\pi}{160}\\ m^2 $$"
   ]
  },
  {
   "cell_type": "markdown",
   "metadata": {},
   "source": [
    "El área total debida a los anillos es"
   ]
  },
  {
   "cell_type": "markdown",
   "metadata": {},
   "source": [
    "$$ 20A_\\text{anillos}=\\dfrac{20}{160}\\pi\\ m^2=\\dfrac{2}{16}\\pi\\ m^2=\\dfrac{1}{8}\\pi\\ m^2 $$"
   ]
  },
  {
   "cell_type": "markdown",
   "metadata": {},
   "source": [
    "a)  $\\dfrac{5\\pi}{4}\\ \\rm{m}^2$\n",
    "\n",
    "b)  $\\dfrac{13\\pi}{80}\\ \\rm{m}^2$\n",
    "\n",
    "c)  $\\dfrac{13\\pi}{5}\\ \\rm{m}^2$\n",
    "\n",
    "d)  $\\dfrac{\\pi}{8}\\ \\rm{m}^2$"
   ]
  },
  {
   "cell_type": "markdown",
   "metadata": {},
   "source": [
    "**Solución:** d)"
   ]
  },
  {
   "cell_type": "markdown",
   "metadata": {},
   "source": [
    "## Situación: Satélites artificiales"
   ]
  },
  {
   "cell_type": "markdown",
   "metadata": {},
   "source": [
    "**Un satélite artificial es un ingenio enviado en una lanzadera espacial que se mantiene en órbita alrededor de cuerpos del espacio. Los satélites artificiales orbitan alrededor de satélites naturales, asteroides o planetas. Tras su vida útil, pueden quedar orbitando como basura espacial, o pueden desintegrarse reingresando en la atmósfera (cosa que ocurre solamente si su órbita es de poca altura).**\n",
    "\n",
    "**Fuente: https://es.wikipedia.org/wiki/Sat%C3%A9lite_artificial**"
   ]
  },
  {
   "cell_type": "markdown",
   "metadata": {},
   "source": [
    "a)  $\\dfrac{40000}{\\pi}$\n",
    "\n",
    "b)  $\\dfrac{20000}{\\pi}$\n",
    "\n",
    "c)  $40000\\pi$\n",
    "\n",
    "d)  $20000\\pi$"
   ]
  },
  {
   "cell_type": "markdown",
   "metadata": {},
   "source": [
    "**2. Si un satélite orbita circularmente a $2000\\ \\rm{km}$ de la superficie terrestre, ¿cuántos kilómetros mide la circunferencia de su órbita? [2 puntos]**\n"
   ]
  },
  {
   "cell_type": "markdown",
   "metadata": {},
   "source": [
    "a)  $40000+4000\\pi$\n",
    "\n",
    "b)  $40000-4000\\pi$\n",
    "\n",
    "c)  $\\dfrac{20000+2000\\pi}{\\pi}$\n",
    "\n",
    "d)  $\\dfrac{20000-2000\\pi}{\\pi}$"
   ]
  },
  {
   "cell_type": "markdown",
   "metadata": {},
   "source": [
    "***Solución:***\n"
   ]
  },
  {
   "cell_type": "markdown",
   "metadata": {},
   "source": [
    "**3. Si cada día un satélite recorre un ángulo de $\\dfrac{\\pi}{12}\\ \\rm{rad}$ , ¿cuántos días transcurren para que de una vuelta completa a la Tierra? [2 puntos]**"
   ]
  },
  {
   "cell_type": "markdown",
   "metadata": {},
   "source": [
    "a)  $24$\n",
    "\n",
    "b)  $12$\n",
    "\n",
    "c)  $\\dfrac{1}{24}$\n",
    "\n",
    "d)  $\\dfrac{1}{12}$"
   ]
  },
  {
   "cell_type": "markdown",
   "metadata": {},
   "source": [
    "***Solución:***\n"
   ]
  },
  {
   "cell_type": "markdown",
   "metadata": {},
   "source": [
    "**4.  Se planea lanzar un satélite a una altura de $1,000\\ \\rm{km}$ sobre la superficie terrestre, si este da una vuelta a la Tierra en $10$ días, ¿cuántos kilómetros sobre la superficie terrestre recorrerá cada día el satélite? [3 puntos]**"
   ]
  },
  {
   "cell_type": "markdown",
   "metadata": {},
   "source": [
    "a)  $4000+200\\pi$\n",
    "\n",
    "b)  $200\\pi$\n",
    "\n",
    "c)  $\\dfrac{720000+36000\\pi}{\\pi}$\n",
    "\n",
    "d)  $36000$"
   ]
  },
  {
   "cell_type": "markdown",
   "metadata": {},
   "source": [
    "***Solución:***\n"
   ]
  },
  {
   "cell_type": "markdown",
   "metadata": {},
   "source": [
    "## Situación: Funámbulo"
   ]
  },
  {
   "cell_type": "markdown",
   "metadata": {},
   "source": [
    "Un funámbulo o funambulista es un equilibrista que camina sobre un alambre o cuerda tensada.\n",
    "\n",
    "Paul, que es uno de estos acróbatas, realiza un espectáculo de equilibrio a una altura de $5$ metros sobre el nivel del suelo, caminando sobre un cable de acero tenso entre los puntos $B$ y $C$ de las paredes de dos edificios separadas por $10$ metros, como se puede ver en la figura. Mientras camina del punto $B$ al punto $C$, lo sigue un reflector que se encuentra a $15$ metros de altura, en el punto $R$ de la figura, que provoca que genere una sombra en el piso."
   ]
  },
  {
   "cell_type": "markdown",
   "metadata": {},
   "source": [
    "#### Ojo: Las figuras bonitas no vienen en el extra. Yo las hice para que entendieran mejor el problema. Eso deben hacer cuando se enfrenten a un problema."
   ]
  },
  {
   "cell_type": "markdown",
   "metadata": {},
   "source": [
    "<img src=\"extra4-1.png\" align=\"middle\" width=\"200\">"
   ]
  },
  {
   "cell_type": "markdown",
   "metadata": {},
   "source": [
    "<img src=\"extra_sol1.png\" align=\"middle\" width=\"200\">"
   ]
  },
  {
   "cell_type": "markdown",
   "metadata": {},
   "source": [
    "**1. Cuando Paul ha recorrido la mitad del cable, la distancia $\\overline{AS}$ que ha recorrido su sombra, redondeada a una décima, es**"
   ]
  },
  {
   "cell_type": "markdown",
   "metadata": {},
   "source": [
    "<img src=\"extra_sol2.png\" align=\"middle\" width=\"200\">"
   ]
  },
  {
   "cell_type": "markdown",
   "metadata": {},
   "source": [
    "Semejante: $\\Delta RAS$ y $\\Delta RBP$"
   ]
  },
  {
   "cell_type": "markdown",
   "metadata": {},
   "source": [
    "$$ \\dfrac{15}{20}=\\dfrac{5}{x} $$"
   ]
  },
  {
   "cell_type": "markdown",
   "metadata": {},
   "source": [
    "$$ \\dfrac{x}{5}=\\dfrac{20}{15} $$"
   ]
  },
  {
   "cell_type": "markdown",
   "metadata": {},
   "source": [
    "$$ x=\\dfrac{20}{15}5 $$"
   ]
  },
  {
   "cell_type": "code",
   "execution_count": 6,
   "metadata": {},
   "outputs": [
    {
     "data": {
      "text/plain": [
       "6.666666666666666"
      ]
     },
     "execution_count": 6,
     "metadata": {},
     "output_type": "execute_result"
    }
   ],
   "source": [
    "(20/15)*5"
   ]
  },
  {
   "cell_type": "markdown",
   "metadata": {},
   "source": [
    "La longitud del segmente $\\overline{AS}$, redondeada a una décima, es 6.7 m"
   ]
  },
  {
   "cell_type": "markdown",
   "metadata": {},
   "source": [
    "**2. Cuando el punto sombra $S$ del piso, alcanza la base del edificio en el punto $D$, la distancia que Paul ha recorrido desde el punto $B$ es**"
   ]
  },
  {
   "cell_type": "markdown",
   "metadata": {},
   "source": [
    "<img src=\"extra_sol3.png\" align=\"middle\" width=\"200\">"
   ]
  },
  {
   "cell_type": "markdown",
   "metadata": {},
   "source": [
    "**3. Cuando el punto sombra $S$ del piso llega al punto $D$, en ese instante se apaga el proyector que está en el punto $R$ y se prende otro proyector en el punto $A$ del piso y también provoca el punto $P$ de apoyo de Paul un punto sombra $S^{\\prime}$, pero ahora sobre la pared $DG$ ¿A qué altura de la pared $DG$ (medida desde el piso), se encuentra el punto sombra en el instante en que se prende el proyector que se encuentra en $A$?**"
   ]
  },
  {
   "cell_type": "markdown",
   "metadata": {},
   "source": [
    "<img src=\"extra_sol4.png\" align=\"middle\" width=\"300\">"
   ]
  },
  {
   "cell_type": "markdown",
   "metadata": {},
   "source": [
    "## Situación: Estrellas\n",
    "\n",
    "**1. El lado de un triángulo equilátero mide $x$ unidades. Su área, en unidades cuadradas, es (2 puntos)**"
   ]
  },
  {
   "cell_type": "markdown",
   "metadata": {},
   "source": [
    "<img src=\"equi.png\" align=\"middle\" width=\"200\">"
   ]
  },
  {
   "cell_type": "markdown",
   "metadata": {},
   "source": [
    "a)  $\\dfrac{3x^2}{2}$\n",
    "\n",
    "b)  $\\dfrac{\\sqrt{3}x^2}{4}$\n",
    "\n",
    "c)  $\\dfrac{x^2}{2}$\n",
    "\n",
    "d)  $\\dfrac{\\sqrt{3}x^2}{2}$"
   ]
  },
  {
   "cell_type": "markdown",
   "metadata": {},
   "source": [
    "***Solución:***"
   ]
  },
  {
   "cell_type": "markdown",
   "metadata": {},
   "source": [
    "<img src=\"extra2-1.png\" align=\"middle\" width=\"200\">"
   ]
  },
  {
   "cell_type": "markdown",
   "metadata": {},
   "source": [
    "a)  $\\dfrac{1}{3}$\n",
    "\n",
    "b)  $\\dfrac{1}{8}$\n",
    "\n",
    "c)  $\\dfrac{1}{4}$\n",
    "\n",
    "d)  $\\dfrac{1}{9}$"
   ]
  },
  {
   "cell_type": "markdown",
   "metadata": {},
   "source": [
    "***Solución:***"
   ]
  },
  {
   "cell_type": "markdown",
   "metadata": {},
   "source": [
    "**3. En la siguiente figura se muestra un segmento $AB$, cuya longitud vale $a$ unidades. El área sombreada, en unidades cuadradas, es (2 puntos)**"
   ]
  },
  {
   "cell_type": "markdown",
   "metadata": {},
   "source": [
    "<img src=\"extra2-2.png\" align=\"middle\" width=\"200\">"
   ]
  },
  {
   "cell_type": "markdown",
   "metadata": {},
   "source": [
    "a)  $\\dfrac{\\sqrt{3}a^2}{3}$\n",
    "\n",
    "b)  $\\dfrac{2\\sqrt{3}a^2}{3}$\n",
    "\n",
    "c)  $\\dfrac{\\sqrt{3}a^2}{4}$\n",
    "\n",
    "d)  $\\dfrac{3\\sqrt{3}a^2}{4}$"
   ]
  },
  {
   "cell_type": "markdown",
   "metadata": {},
   "source": [
    "***Solución:***"
   ]
  },
  {
   "cell_type": "markdown",
   "metadata": {},
   "source": [
    "**4. El segmento $AB$ de la siguiente figura tiene una longitud $a$. Entonces el área de la figura sombreada es (2 puntos)**"
   ]
  },
  {
   "cell_type": "markdown",
   "metadata": {},
   "source": [
    "<img src=\"extra2-3.png\" align=\"middle\" width=\"200\">"
   ]
  },
  {
   "cell_type": "markdown",
   "metadata": {},
   "source": [
    "a)  $\\dfrac{10\\sqrt{3}a^2}{27}$\n",
    "\n",
    "b)  $\\dfrac{14\\sqrt{3}a^2}{27}$\n",
    "\n",
    "c)  $\\dfrac{5\\sqrt{3}a^2}{9}$\n",
    "\n",
    "d)  $\\dfrac{7\\sqrt{3}a^2}{9}$"
   ]
  },
  {
   "cell_type": "markdown",
   "metadata": {},
   "source": [
    "***Solución:***"
   ]
  }
 ],
 "metadata": {
  "kernelspec": {
   "display_name": "Julia 1.1.0",
   "language": "julia",
   "name": "julia-1.1"
  },
  "language_info": {
   "file_extension": ".jl",
   "mimetype": "application/julia",
   "name": "julia",
   "version": "1.1.0"
  }
 },
 "nbformat": 4,
 "nbformat_minor": 4
}
