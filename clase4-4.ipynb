{
 "cells": [
  {
   "cell_type": "markdown",
   "metadata": {},
   "source": [
    "# Funciones para modelar la relación entre variables"
   ]
  },
  {
   "cell_type": "markdown",
   "metadata": {},
   "source": [
    "# Clase 4"
   ]
  },
  {
   "cell_type": "markdown",
   "metadata": {},
   "source": [
    "## ¿Qué significa que una función *\"esté bien definida\"*?"
   ]
  },
  {
   "cell_type": "markdown",
   "metadata": {},
   "source": [
    "Significa que al momento de evaluar una función sea posible definir su valor."
   ]
  },
  {
   "cell_type": "markdown",
   "metadata": {},
   "source": [
    "Que una función no esté bien definida significa que, al evaluar en algún valor, hemos llegado a una operación aritmética que **no** sabemos hacer. Pero no se sientan mal. **Nadie** sabe cómo hacer estas operaciones."
   ]
  },
  {
   "cell_type": "markdown",
   "metadata": {},
   "source": [
    "Operaciones aritméticas que nadie sabe cómo hacer:\n",
    "\n",
    "* Dividir entre cero\n",
    "* Obtener la raíz cuadrada de un número negativo\n",
    "* Obtener la tangente de $90^\\circ$ y $270^\\circ$\n",
    "* Obtener el logaritmo de cero o de un número negativo"
   ]
  },
  {
   "cell_type": "markdown",
   "metadata": {},
   "source": [
    "## Conjuntos en los que se define una función"
   ]
  },
  {
   "cell_type": "markdown",
   "metadata": {},
   "source": [
    "Imaginemos que cada función es una línea curva que se extiende por todo el plano cartesiano. Imaginemos que colocamos linternas al \"final\" de cada lado del eje horizontal y vertical."
   ]
  },
  {
   "cell_type": "markdown",
   "metadata": {},
   "source": [
    "<img src=\"dominio3.png\" align=\"middle\" width=\"700\">"
   ]
  },
  {
   "cell_type": "markdown",
   "metadata": {},
   "source": [
    "### Dominio máximo"
   ]
  },
  {
   "cell_type": "markdown",
   "metadata": {},
   "source": [
    "El profe: \"Las sombras que se forman en el eje horizontal.\""
   ]
  },
  {
   "cell_type": "markdown",
   "metadata": {},
   "source": [
    "*Son los valores de la variable independiente para los que la función está bien definida.*"
   ]
  },
  {
   "cell_type": "markdown",
   "metadata": {},
   "source": [
    "### Rango o imagen (recorrido)"
   ]
  },
  {
   "cell_type": "markdown",
   "metadata": {},
   "source": [
    "El profe: \"Las sombras que se forman en el eje vertical.\""
   ]
  },
  {
   "cell_type": "markdown",
   "metadata": {},
   "source": [
    "*Son los valores que la variable dependiente puede tomar para el dominio que le damos.*"
   ]
  },
  {
   "cell_type": "markdown",
   "metadata": {},
   "source": [
    "### Contradominio o codominio"
   ]
  },
  {
   "cell_type": "markdown",
   "metadata": {},
   "source": [
    "*Son los valores posibles que puede tomar la función.*"
   ]
  },
  {
   "cell_type": "markdown",
   "metadata": {},
   "source": [
    "### ¿Cómo encontrar el dominio de una función?"
   ]
  },
  {
   "cell_type": "markdown",
   "metadata": {},
   "source": [
    "Si sabemos que $x_0$ es un punto en el cual $f(x_0)$ no está definido pero en el resto de los puntos sí esta definida la función, el dominio de la función será "
   ]
  },
  {
   "cell_type": "markdown",
   "metadata": {},
   "source": [
    "$$\\text{Dominio}=(-\\infty,x_0)\\cup(x_0,\\infty) $$"
   ]
  },
  {
   "cell_type": "markdown",
   "metadata": {},
   "source": [
    "* ***Ejemplo:***"
   ]
  },
  {
   "cell_type": "markdown",
   "metadata": {},
   "source": [
    "$$ f(x)=\\dfrac{x-3}{x+3} $$"
   ]
  },
  {
   "cell_type": "markdown",
   "metadata": {},
   "source": [
    "$$ f(-3)=\\dfrac{(-3)-3}{(-3)+3}=\\dfrac{-6}{0}=\\text{N.D.} $$"
   ]
  },
  {
   "cell_type": "markdown",
   "metadata": {},
   "source": [
    "$$\\text{Dominio}=(-\\infty,-3)\\cup(-3,\\infty) $$"
   ]
  },
  {
   "cell_type": "markdown",
   "metadata": {},
   "source": [
    "* ***Ejemplo:*** Encuentra el dominio y el rango de\n",
    "$$f(x)=x^2$$\n",
    "a partir de su gráfica."
   ]
  },
  {
   "cell_type": "markdown",
   "metadata": {},
   "source": [
    "$$\\text{Dominio}=(-\\infty,\\infty)=\\mathbb{R} $$"
   ]
  },
  {
   "cell_type": "markdown",
   "metadata": {},
   "source": [
    "$$\\text{Rango}=[0,\\infty) $$"
   ]
  },
  {
   "cell_type": "markdown",
   "metadata": {},
   "source": [
    "$$ \\circledast $$"
   ]
  },
  {
   "cell_type": "markdown",
   "metadata": {},
   "source": [
    "* ***Ejemplo:*** Encuentra el rango de\n",
    "$$f(x)=x^2$$\n",
    "para  el\n",
    "$$\\text{Dominio}=\\{-2,-1,0,1,2\\}$$"
   ]
  },
  {
   "cell_type": "markdown",
   "metadata": {},
   "source": [
    "$$ f(-2)=(-2)^2=4 $$"
   ]
  },
  {
   "cell_type": "markdown",
   "metadata": {},
   "source": [
    "$$ f(-1)=(-1)^2=1 $$"
   ]
  },
  {
   "cell_type": "markdown",
   "metadata": {},
   "source": [
    "$$ f(0)=(0)^2=0 $$"
   ]
  },
  {
   "cell_type": "markdown",
   "metadata": {},
   "source": [
    "$$ f(1)=(1)^2=1 $$"
   ]
  },
  {
   "cell_type": "markdown",
   "metadata": {},
   "source": [
    "$$ f(2)=(2)^2=4 $$"
   ]
  },
  {
   "cell_type": "markdown",
   "metadata": {},
   "source": [
    "$$\\text{Rango}=\\{0,1,4\\}$$"
   ]
  },
  {
   "cell_type": "markdown",
   "metadata": {},
   "source": [
    "$$ \\circledast $$"
   ]
  },
  {
   "cell_type": "markdown",
   "metadata": {},
   "source": [
    "* ***Ejemplo:*** Encuentra el dominio y el rango de\n",
    "$$g(x)=\\sin(x)$$\n",
    "a partir de su gráfica."
   ]
  },
  {
   "cell_type": "markdown",
   "metadata": {},
   "source": [
    "$$\\text{Dominio}=(-\\infty,\\infty)$$"
   ]
  },
  {
   "cell_type": "markdown",
   "metadata": {},
   "source": [
    "$$\\text{Rango}=[-1,1] $$"
   ]
  },
  {
   "cell_type": "markdown",
   "metadata": {},
   "source": [
    "$$ \\circledast $$"
   ]
  },
  {
   "cell_type": "markdown",
   "metadata": {},
   "source": [
    "* ***Ejemplo:*** Encuentra el dominio y el rango de\n",
    "$$h(x)=\\tan(x)$$\n",
    "a partir de su gráfica."
   ]
  },
  {
   "cell_type": "markdown",
   "metadata": {},
   "source": [
    "$$\\text{Dominio}=(-\\infty\\cdots\\cup(-270,-90)\\cup(-90,90)\\cup(90,270)\\cup\\cdots\\infty)$$"
   ]
  },
  {
   "cell_type": "markdown",
   "metadata": {},
   "source": [
    "$$\\text{Rango}=(-\\infty,\\infty)$$"
   ]
  },
  {
   "cell_type": "markdown",
   "metadata": {},
   "source": [
    "* ***Ejemplo:*** Encuentra el dominio y el rango de\n",
    "$$f(z)=z^{2}-2z+1$$\n",
    "a partir de su gráfica."
   ]
  },
  {
   "cell_type": "markdown",
   "metadata": {},
   "source": [
    "$$\\text{Dominio}=(-\\infty,\\infty)$$"
   ]
  },
  {
   "cell_type": "markdown",
   "metadata": {},
   "source": [
    "$$\\text{Rango}=[0,\\infty) $$"
   ]
  },
  {
   "cell_type": "markdown",
   "metadata": {},
   "source": [
    "$$ \\circledast $$"
   ]
  },
  {
   "cell_type": "markdown",
   "metadata": {},
   "source": [
    "* ***Ejemplo:*** Encuentra el dominio y el rango de\n",
    "$$f(t)=\\dfrac{2+t}{t}$$\n",
    "a partir de su gráfica."
   ]
  },
  {
   "cell_type": "markdown",
   "metadata": {},
   "source": [
    "$$\\text{Dominio}=(-\\infty,0)\\cup(0,\\infty)$$"
   ]
  },
  {
   "cell_type": "markdown",
   "metadata": {},
   "source": [
    "$$\\text{Rango}=(-\\infty,1)\\cup(1,\\infty) $$"
   ]
  },
  {
   "cell_type": "markdown",
   "metadata": {},
   "source": [
    "$$ \\circledast $$"
   ]
  },
  {
   "cell_type": "markdown",
   "metadata": {},
   "source": [
    "### Dominio natural"
   ]
  },
  {
   "cell_type": "markdown",
   "metadata": {},
   "source": [
    "*Son los valores de la variable independiente para los que la función está bien definida y tienen sentido.*"
   ]
  },
  {
   "cell_type": "markdown",
   "metadata": {},
   "source": [
    "* ***Ejemplo:***"
   ]
  },
  {
   "cell_type": "markdown",
   "metadata": {},
   "source": [
    "La diagonal de un cuadrado mide $x$ unidades. Su área, en unidades cuadradas, es"
   ]
  },
  {
   "cell_type": "markdown",
   "metadata": {},
   "source": [
    "$$ A(x)=\\dfrac{x^2}{2} $$"
   ]
  },
  {
   "cell_type": "markdown",
   "metadata": {},
   "source": [
    "<img src=\"fractal1.png\" align=\"middle\" width=\"160\">"
   ]
  },
  {
   "cell_type": "markdown",
   "metadata": {},
   "source": [
    "¿Cuál es el dominio máximo y el dominio natural de la función $A(x)$?"
   ]
  },
  {
   "cell_type": "markdown",
   "metadata": {},
   "source": [
    "$$\\text{Dominio máximo}=(-\\infty,\\infty)$$"
   ]
  },
  {
   "cell_type": "markdown",
   "metadata": {},
   "source": [
    "$$\\text{Dominio natural}=[0,\\infty)$$"
   ]
  },
  {
   "cell_type": "markdown",
   "metadata": {},
   "source": [
    "$$ \\circledast $$"
   ]
  },
  {
   "cell_type": "markdown",
   "metadata": {},
   "source": [
    "## Tipos de funciones"
   ]
  },
  {
   "cell_type": "markdown",
   "metadata": {},
   "source": [
    "* Lineal, $f(x)=mx+b$\n",
    "* Cuadrática, $f(x)=ax^2+bx+c$\n",
    "* Racional, $f(x)=\\dfrac{\\text{polinomio}}{\\text{polinomio}}$\n",
    "* Exponencial, $f(x)=Ab^x+c$\n",
    "* Logarítmica, $f(x)=A\\log(x)+b$"
   ]
  },
  {
   "cell_type": "markdown",
   "metadata": {},
   "source": [
    "## Función polinomial"
   ]
  },
  {
   "cell_type": "markdown",
   "metadata": {},
   "source": [
    "Recordemos que un polinomio es la suma de términos de que tiene una variable elevada a una potencia entera positiva."
   ]
  },
  {
   "cell_type": "markdown",
   "metadata": {},
   "source": [
    "$$ x^5-6x^4+19x^2-x+109 $$"
   ]
  },
  {
   "cell_type": "markdown",
   "metadata": {},
   "source": [
    "Una función polinomial tiene la forma"
   ]
  },
  {
   "cell_type": "markdown",
   "metadata": {},
   "source": [
    "$$ f(x)=ax^4+bx^3+cx^2+dx+e $$"
   ]
  },
  {
   "cell_type": "markdown",
   "metadata": {},
   "source": [
    "El dominio máximo de cualquier función polinomial es $\\mathbb{R}$."
   ]
  },
  {
   "cell_type": "markdown",
   "metadata": {},
   "source": [
    "## Función lineal o polinomial de primer grado"
   ]
  },
  {
   "cell_type": "markdown",
   "metadata": {},
   "source": [
    "$$ f(x)=mx+b $$"
   ]
  },
  {
   "cell_type": "markdown",
   "metadata": {},
   "source": [
    "$$ y=mx+b $$"
   ]
  },
  {
   "cell_type": "markdown",
   "metadata": {},
   "source": [
    "**¿A qué se parece?** A la ecuación de la recta."
   ]
  },
  {
   "cell_type": "markdown",
   "metadata": {},
   "source": [
    "### Gráfica de una función lineal"
   ]
  },
  {
   "cell_type": "markdown",
   "metadata": {},
   "source": [
    "*Para encontrar el valor de la ordenada al origen de la función lineal, necesito preguntarme cuánto vale la función cuando la variable independiente se hace cero.*"
   ]
  },
  {
   "cell_type": "markdown",
   "metadata": {},
   "source": [
    "Las relaciones entre funciones lineales y líneas rectas\n",
    "1. La fórmula para funciones lineales es\n",
    "$$ y=\\text{(pendiente)}\\cdot x+\\text{(Valor inicial)} $$\n",
    "2. La gráfica de una función lineal en una línea recta\n",
    "3. La pendiente de la función lineal es la misma que la pendiente de su gráfica.\n",
    "4. La ordenada al origen de la gráfica corresponde con el valor inicial $b$ de la función lineal, esto es, el valor de la función cuando la variables es cero.\n",
    "5. La abscisa al origen de la gráfica es el valor de la variable cuando la función lineal es cero. Ésta es la solución de la ecuación\n",
    "$$ \\text{función lineal}=0 $$\n"
   ]
  },
  {
   "cell_type": "markdown",
   "metadata": {},
   "source": [
    "Si conocemos dos puntos de la función lineal, usamos la fórmula\n",
    "$$ m=\\dfrac{\\text{Cambio en la función}}{\\text{Cambio en la variable independiente}}=\\dfrac{y_2-y_1}{x_2-x_1}=\\dfrac{f(x_2)-f(x_1)}{x_2-x_1} $$"
   ]
  },
  {
   "cell_type": "markdown",
   "metadata": {},
   "source": [
    "* ***Ejemplo:*** $f(x)=-4x+7$"
   ]
  },
  {
   "cell_type": "markdown",
   "metadata": {},
   "source": [
    "* ***Ejemplo:*** $g(t)=\\dfrac{3}{2}-\\dfrac{5}{2}t$"
   ]
  },
  {
   "cell_type": "markdown",
   "metadata": {},
   "source": [
    "El dominio máximo de una función lineal es $\\mathbb{R}$."
   ]
  },
  {
   "cell_type": "markdown",
   "metadata": {},
   "source": [
    "**¿Cuándo usar funciones lineales?**"
   ]
  },
  {
   "cell_type": "markdown",
   "metadata": {},
   "source": [
    "Cuando, desde un cierto valor, algo parece aumentar en la misma proporción."
   ]
  },
  {
   "cell_type": "markdown",
   "metadata": {},
   "source": [
    "* ***Ejemplo:*** Si por cada kilo de tortilla me cobran 14 pesos y siempre me cobran 50 centavos por el papel, modela una función de costo que dependa de la cantidad de tortillas compradas."
   ]
  },
  {
   "cell_type": "markdown",
   "metadata": {},
   "source": [
    "* $C$ : costo\n",
    "* $k$ : kilos"
   ]
  },
  {
   "cell_type": "markdown",
   "metadata": {},
   "source": [
    "$$ C(k)=14k+0.5 $$"
   ]
  },
  {
   "cell_type": "markdown",
   "metadata": {},
   "source": [
    "* ***Ejemplo:*** El precio de una camioneta nueva es de $\\$240,000$ y su valor se deprecia $5\\%$ de su valor original al año.\n",
    "\n",
    "a) Escribir un modelo de su valor, $V$, en función de los años transcurridos, $t$.\n",
    "\n",
    "b) Si se compró en el $2001$, ¿cuál será su valor presente ($2020$)?\n",
    "\n",
    "c) Si el dueño la quiere vender y la ofrece en $\\$120000$, ¿cuántos años han pasado desde su compra?\n",
    "\n",
    "d) ¿Cuál es el dominio máximo y natural de la función?\n",
    "\n",
    "e) ¿Cuál es el rango para el dominio máximo y natural de la función, respectivamente?"
   ]
  },
  {
   "cell_type": "markdown",
   "metadata": {},
   "source": [
    "**a) Escribir un modelo de su valor, $V$, en función de los años transcurridos, $t$.**"
   ]
  },
  {
   "cell_type": "markdown",
   "metadata": {},
   "source": [
    "Nos gustaría expresar este comportamiento como una función:"
   ]
  },
  {
   "cell_type": "markdown",
   "metadata": {},
   "source": [
    "$$ V(t)=mt+b $$"
   ]
  },
  {
   "cell_type": "markdown",
   "metadata": {},
   "source": [
    "¿Cuánto se deprecia en un año?"
   ]
  },
  {
   "cell_type": "markdown",
   "metadata": {},
   "source": [
    "$$ 240000\\cdot\\dfrac{5}{100}=12000 $$"
   ]
  },
  {
   "cell_type": "markdown",
   "metadata": {},
   "source": [
    "¿Cuánto vale la camioneta en el momento que se adquirió?"
   ]
  },
  {
   "cell_type": "markdown",
   "metadata": {},
   "source": [
    "$$ V(0)=240000\\qquad\\Rightarrow\\qquad(0,240000) $$"
   ]
  },
  {
   "cell_type": "markdown",
   "metadata": {},
   "source": [
    "¿Cuánto vale la camioneta un año después de adquirirla?"
   ]
  },
  {
   "cell_type": "markdown",
   "metadata": {},
   "source": [
    "$$ V(1)=228000\\qquad\\Rightarrow\\qquad(1,228000)  $$"
   ]
  },
  {
   "cell_type": "markdown",
   "metadata": {},
   "source": [
    "$$ m=\\dfrac{y_2-y_1}{x_2-x_1}=\\dfrac{f(x_2)-f(x_1)}{x_2-x_1} $$"
   ]
  },
  {
   "cell_type": "markdown",
   "metadata": {},
   "source": [
    "$$ m=\\dfrac{V(1)-V(0)}{1-0}=\\dfrac{(228000)-(240000)}{1-0}=\\dfrac{-12000}{1}=-12000 $$"
   ]
  },
  {
   "cell_type": "markdown",
   "metadata": {},
   "source": [
    "$$ V(t)=-12000t+240000 $$"
   ]
  },
  {
   "cell_type": "markdown",
   "metadata": {},
   "source": [
    "**b) Si se compró en el $2001$, ¿cuál será su valor presente ($2020$)?**"
   ]
  },
  {
   "cell_type": "markdown",
   "metadata": {},
   "source": [
    "Han transcurrido $t=19$."
   ]
  },
  {
   "cell_type": "markdown",
   "metadata": {},
   "source": [
    "$$ V(19)=-12000(19)+240000=12000 $$"
   ]
  },
  {
   "cell_type": "markdown",
   "metadata": {},
   "source": [
    "La camioneta en el $2020$ tiene el valor de 12000."
   ]
  },
  {
   "cell_type": "markdown",
   "metadata": {},
   "source": [
    "**c) Si el dueño la quiere vender y la ofrece en $\\$120000$, ¿cuántos años han pasado desde su compra?**"
   ]
  },
  {
   "cell_type": "markdown",
   "metadata": {},
   "source": [
    "Tenemos que igualar la función al valor de la ordenada que nos dan."
   ]
  },
  {
   "cell_type": "markdown",
   "metadata": {},
   "source": [
    "$$ V(t)=-12000t+240000 $$"
   ]
  },
  {
   "cell_type": "markdown",
   "metadata": {},
   "source": [
    "$$ 120000=-12000t+240000 $$"
   ]
  },
  {
   "cell_type": "markdown",
   "metadata": {},
   "source": [
    "$$ 120000-240000=-12000t $$"
   ]
  },
  {
   "cell_type": "markdown",
   "metadata": {},
   "source": [
    "$$ \\dfrac{120000-240000}{-12000}=t $$"
   ]
  },
  {
   "cell_type": "markdown",
   "metadata": {},
   "source": [
    "$$ t=10 $$"
   ]
  },
  {
   "cell_type": "markdown",
   "metadata": {},
   "source": [
    "$$ V(10)=120000 $$"
   ]
  },
  {
   "cell_type": "markdown",
   "metadata": {},
   "source": [
    "**d) ¿Cuál es el dominio máximo y natural de la función?**"
   ]
  },
  {
   "cell_type": "markdown",
   "metadata": {},
   "source": [
    "$$ V(t)=-12000t+240000 $$"
   ]
  },
  {
   "cell_type": "markdown",
   "metadata": {},
   "source": [
    "$$ V(0)=240000 $$"
   ]
  },
  {
   "cell_type": "markdown",
   "metadata": {},
   "source": [
    "$$ V(20)=0 $$"
   ]
  },
  {
   "cell_type": "markdown",
   "metadata": {},
   "source": [
    "Para el dominio natural nos conviene preguntar: \n",
    "* \"¿cuál es el mínimo tiempo transcurrido que podemos tener?\"\n",
    "* \"¿Cuál es el mínimo valor que la camioneta puede llegar a tener?\"\n",
    "* \"¿Cuánto tiempo tendrá que pasar para que la camioneta baje su valor a cero?\""
   ]
  },
  {
   "cell_type": "markdown",
   "metadata": {},
   "source": [
    "$$ \\text{Dominio máximo}=(-\\infty,\\infty) $$"
   ]
  },
  {
   "cell_type": "markdown",
   "metadata": {},
   "source": [
    "$$ \\text{Dominio natural}=[0,20] $$"
   ]
  },
  {
   "cell_type": "markdown",
   "metadata": {},
   "source": [
    "Para corroborar que nuestro dominio natural y el rango asociado con éste son correctos nos conviene hacer la gráfica:"
   ]
  },
  {
   "cell_type": "markdown",
   "metadata": {},
   "source": [
    "<img src=\"grafica_valor.png\" align=\"middle\" width=\"1000\">"
   ]
  },
  {
   "cell_type": "markdown",
   "metadata": {},
   "source": [
    "**e) ¿Cuál es el rango (recorrido) para el dominio máximo y natural de la función, respectivamente?**"
   ]
  },
  {
   "cell_type": "markdown",
   "metadata": {},
   "source": [
    "$$ \\text{Rango máximo}=(-\\infty,\\infty) $$"
   ]
  },
  {
   "cell_type": "markdown",
   "metadata": {},
   "source": [
    "$$ \\text{Rango natural}=[0,24000] $$"
   ]
  },
  {
   "cell_type": "markdown",
   "metadata": {},
   "source": [
    "$$ \\circledast $$"
   ]
  },
  {
   "cell_type": "markdown",
   "metadata": {},
   "source": [
    "* ***Ejemplo:*** En Estados Unidos se suele usar la escala Fahrenheit para medir la temperatura. En esta escala, el punto de congelación del agua se alcanza a los $32^\\circ F$ y el de ebullición a los $212^\\circ F$. El resto del mundo usa la escala Celsius en la que esos puntos se alcanzan a los $0^\\circ C$ y $100^\\circ C$, respectivamente.\n",
    "\n",
    "**a) Expresa la temperatura en grados Fahrenheit en función de la temperatura en grados Celsius.**"
   ]
  },
  {
   "cell_type": "markdown",
   "metadata": {},
   "source": [
    "* Datos:\n",
    "    * $F$ : temperatura en grados Fahrenheit, variable dependiente, ordenadas\n",
    "    * $C$ : temperatura en grados Celsius, variable independiente, abscisas\n",
    "    * $(0,32)$\n",
    "    * $(100,212)$"
   ]
  },
  {
   "cell_type": "markdown",
   "metadata": {},
   "source": [
    "# Tarea moral"
   ]
  },
  {
   "cell_type": "markdown",
   "metadata": {},
   "source": [
    "$$ F(C)=mC+b $$"
   ]
  },
  {
   "cell_type": "markdown",
   "metadata": {},
   "source": [
    "**b) Expresa la temperatura en grados Celsius en función de la temperatura en grados Fahrenheit.**"
   ]
  },
  {
   "cell_type": "markdown",
   "metadata": {},
   "source": [
    "# Tarea moral"
   ]
  },
  {
   "cell_type": "markdown",
   "metadata": {},
   "source": [
    "Despejar a $C$."
   ]
  },
  {
   "cell_type": "markdown",
   "metadata": {},
   "source": [
    "**c) Dominio natural de ambas funciones y el respectivo rango (recorrido).**"
   ]
  },
  {
   "cell_type": "markdown",
   "metadata": {},
   "source": [
    "No cualquier temperatura se puede obtener."
   ]
  },
  {
   "cell_type": "markdown",
   "metadata": {},
   "source": [
    "$$ \\circledast $$"
   ]
  },
  {
   "cell_type": "markdown",
   "metadata": {},
   "source": [
    "# Situación: Cantidad de combustible en una moto"
   ]
  },
  {
   "cell_type": "markdown",
   "metadata": {},
   "source": [
    "**El rendimiento de un vehículo expresado como la cantidad de litros de gasolina que consume por kilómetro es una medida útil para saber el gasto necesario derivado del uso de éste. Mientras mayor es el rendimiento se obtiene un ahorro mayor de combustible, en consecuencia, su uso resulta menos costoso y puede tener un\n",
    "impacto menor en el ambiente. En general, las motocicletas presentan un rendimiento mayor en relación con un automóvil cuando se trata de transportar a uno o dos pasajeros. Existe un modelo de motocicleta con un tanque con capacidad de 15 litros, que cuenta con un rendimiento de 24 kilómetros por litro.**"
   ]
  },
  {
   "cell_type": "markdown",
   "metadata": {},
   "source": [
    "**Se desea conocer la cantidad de gasolina en el tanque, a partir de la distancia en kilómetros recorrida, indicada por la variable $k$, al iniciar un viaje con tanque lleno y sin recargar éste.**"
   ]
  },
  {
   "cell_type": "markdown",
   "metadata": {},
   "source": [
    "**1. A partir de la información de la cantidad de gasolina en el tanque y los kilómetros recorridos mostrada en la siguiente tabla. ¿Cuál es la función que relaciona ambas variables?**\n"
   ]
  },
  {
   "cell_type": "markdown",
   "metadata": {},
   "source": [
    "| Kilómetros | Cantidad de gasolina consumida | Cantidad de gasolina en el tanque |\n",
    "|------------|--------------------------------|-----------------------------------|\n",
    "| $ 0 $      | $ 0 $                          | $ 15 $                            |\n",
    "| $ 12 $     | $ 0.5 $                        | $ 14.5 $                          |\n",
    "| $ 30.6 $   | $ 1.275 $                      | $ 13.725 $                        |\n",
    "| $ 60 $     | $ 2.5 $                        | $ 12.5 $                          |\n",
    "| $ 250.2 $  | $ 10.425 $                     | $ 4.575 $                         |\n",
    "| $ 360 $    | $ 15 $                         | $ 0 $                             |"
   ]
  },
  {
   "cell_type": "markdown",
   "metadata": {},
   "source": [
    "A) $G(k)=15+\\dfrac{1}{24}k$\n",
    "\n",
    "B) $G(k)=15+24k$\n",
    "\n",
    "C) $G(k)=15-\\dfrac{1}{24}k$\n",
    "\n",
    "D) $G(k)=15-24k$"
   ]
  },
  {
   "cell_type": "markdown",
   "metadata": {},
   "source": [
    "**Solución:** "
   ]
  },
  {
   "cell_type": "markdown",
   "metadata": {},
   "source": [
    "**2. Es la cantidad en litros que quedan en el tanque cuando la moto ha recorrido 48\n",
    "kilómetros:**"
   ]
  },
  {
   "cell_type": "markdown",
   "metadata": {},
   "source": [
    "A) $17$\n",
    "\n",
    "B) $2$\n",
    "\n",
    "C) $13$\n",
    "\n",
    "D) $6$"
   ]
  },
  {
   "cell_type": "markdown",
   "metadata": {},
   "source": [
    "**Solución:** "
   ]
  },
  {
   "cell_type": "markdown",
   "metadata": {},
   "source": [
    "**3. ¿Cuántos kilómetros ha recorrido la motocicleta si hay 7 litros de gasolina restantes en el tanque?**\n"
   ]
  },
  {
   "cell_type": "markdown",
   "metadata": {},
   "source": [
    "A) $14.9$\n",
    "\n",
    "B) $360$\n",
    "\n",
    "C) $192$\n",
    "\n",
    "D) $353$"
   ]
  },
  {
   "cell_type": "markdown",
   "metadata": {},
   "source": [
    "**Solución:** "
   ]
  },
  {
   "cell_type": "markdown",
   "metadata": {},
   "source": [
    "**4. ¿Cuál es el máximo dominio de la función?**"
   ]
  },
  {
   "cell_type": "markdown",
   "metadata": {},
   "source": [
    "A) $(-\\infty, \\infty)$\n",
    "\n",
    "B) $[0,15)$\n",
    "\n",
    "C) $(0, \\infty)$\n",
    "\n",
    "D) $[0, 360)$\n"
   ]
  },
  {
   "cell_type": "markdown",
   "metadata": {},
   "source": [
    "**Solución:** "
   ]
  },
  {
   "cell_type": "markdown",
   "metadata": {},
   "source": [
    "**5. ¿Cuál es el dominio natural de la función?**"
   ]
  },
  {
   "cell_type": "markdown",
   "metadata": {},
   "source": [
    "A) $(-\\infty, \\infty)$\n",
    "\n",
    "B) $[0,15)$\n",
    "\n",
    "C) $(0, \\infty)$\n",
    "\n",
    "D) $[0, 360)$\n"
   ]
  },
  {
   "cell_type": "markdown",
   "metadata": {},
   "source": [
    "**Solución:** "
   ]
  },
  {
   "cell_type": "markdown",
   "metadata": {},
   "source": [
    "**6. ¿Cuál es el recorrido (rango) para el máximo dominio de la función?**"
   ]
  },
  {
   "cell_type": "markdown",
   "metadata": {},
   "source": [
    "A) $(-\\infty, \\infty)$\n",
    "\n",
    "B) $[0,15)$\n",
    "\n",
    "C) $(0, \\infty)$\n",
    "\n",
    "D) $[0, 360)$\n"
   ]
  },
  {
   "cell_type": "markdown",
   "metadata": {},
   "source": [
    "**Solución:** "
   ]
  },
  {
   "cell_type": "markdown",
   "metadata": {},
   "source": [
    "**7. ¿Cuál es el recorrido (rango) para el dominio natural de la función?**"
   ]
  },
  {
   "cell_type": "markdown",
   "metadata": {},
   "source": [
    "A) $(-\\infty, \\infty)$\n",
    "\n",
    "B) $[0,15)$\n",
    "\n",
    "C) $(0, \\infty)$\n",
    "\n",
    "D) $[0, 360)$\n"
   ]
  },
  {
   "cell_type": "markdown",
   "metadata": {},
   "source": [
    "**Solución:** "
   ]
  },
  {
   "cell_type": "markdown",
   "metadata": {},
   "source": [
    "## Función cuadrática o polinomial de segundo grado"
   ]
  },
  {
   "cell_type": "markdown",
   "metadata": {},
   "source": [
    "$$ f(x)=ax^2+bx+c $$"
   ]
  },
  {
   "cell_type": "markdown",
   "metadata": {},
   "source": [
    "Al igual que en las funciones lineales, el valor de $c$ lo podemos conocer al saber qué sucede en $x=0$. Si no tenemos este conocimiento, extrapolamos de los datos que tengamos."
   ]
  },
  {
   "cell_type": "markdown",
   "metadata": {},
   "source": [
    "Para una función polinomial (lineal, cuadrática, cúbica,...) el dominio máximo de la función $(-\\infty,\\infty).$"
   ]
  },
  {
   "cell_type": "markdown",
   "metadata": {},
   "source": [
    "### Gráfica de una función cuadrática"
   ]
  },
  {
   "cell_type": "markdown",
   "metadata": {},
   "source": [
    "Para las funciones cuadráticas\n",
    "\n",
    "$$ f(x)=ax^2+bx+c $$\n",
    "\n",
    "tendremos un punto importante conocido como vértice y que tiene coordenadas"
   ]
  },
  {
   "cell_type": "markdown",
   "metadata": {},
   "source": [
    "$$ V\\left(-\\dfrac{b}{2a},-\\dfrac{b^2-4ac}{4a}\\right) $$"
   ]
  },
  {
   "cell_type": "markdown",
   "metadata": {},
   "source": [
    "**1er caso:** $a>0$: parábola que abre hacia arriba (tiene un valor mínimo)"
   ]
  },
  {
   "cell_type": "markdown",
   "metadata": {},
   "source": [
    "Entonces el rango de la función es"
   ]
  },
  {
   "cell_type": "markdown",
   "metadata": {},
   "source": [
    "$$ \\left[-\\dfrac{b^2-4ac}{4a},\\infty\\right) $$"
   ]
  },
  {
   "cell_type": "markdown",
   "metadata": {},
   "source": [
    "**2do caso:** $a<0$: parábola que abre hacia abajo (tiene un valor máximo)"
   ]
  },
  {
   "cell_type": "markdown",
   "metadata": {},
   "source": [
    "Entonces el rango de la función es"
   ]
  },
  {
   "cell_type": "markdown",
   "metadata": {},
   "source": [
    "$$ \\left(-\\infty,-\\dfrac{b^2-4ac}{4a}\\right] $$"
   ]
  },
  {
   "cell_type": "markdown",
   "metadata": {},
   "source": [
    "### Forma de la función cuadrática"
   ]
  },
  {
   "cell_type": "markdown",
   "metadata": {},
   "source": [
    "Si sabemos que la función cuadrática pasa por el eje de horizontal en dos puntos ($B$ y $C$), podemos decir que la forma de la función cuadrática es"
   ]
  },
  {
   "cell_type": "markdown",
   "metadata": {},
   "source": [
    "$$ f(x)=A(x-B)(x-C) $$"
   ]
  },
  {
   "cell_type": "markdown",
   "metadata": {},
   "source": [
    "## Situación. Ventana triangular"
   ]
  },
  {
   "cell_type": "markdown",
   "metadata": {},
   "source": [
    "Para un nuevo centro comercial se diseñan ventanas con forma de triángulo isósceles, cuya altura es el doble de la base menos un metro."
   ]
  },
  {
   "cell_type": "markdown",
   "metadata": {},
   "source": [
    "**1. El área del vidrio de cada ventana, expresado en función de la longitud $x$ de la base es**"
   ]
  },
  {
   "cell_type": "markdown",
   "metadata": {},
   "source": [
    "A) $A(x)=\\dfrac{x(x-1)}{2}$\n",
    "\n",
    "B) $A(x)=\\dfrac{x(1-2x)}{2}$\n",
    "\n",
    "C) $A(x)=\\dfrac{x(1-x)}{2}$\n",
    "\n",
    "D) $A(x)=\\dfrac{x(2x-1)}{2}$"
   ]
  },
  {
   "cell_type": "markdown",
   "metadata": {},
   "source": [
    "**Solución:** "
   ]
  },
  {
   "cell_type": "markdown",
   "metadata": {},
   "source": [
    "**2. Al determinar $A(2)$, se obtiene**"
   ]
  },
  {
   "cell_type": "markdown",
   "metadata": {},
   "source": [
    "A) El doble del área de la ventana\n",
    "\n",
    "B) La base de la ventana para un área de $2$ metros cuadrados\n",
    "\n",
    "C) La altura de la ventana para una base de $2$ metros\n",
    "\n",
    "D) El área de la ventana para una base de $2$ metros"
   ]
  },
  {
   "cell_type": "markdown",
   "metadata": {},
   "source": [
    "**Solución:** "
   ]
  },
  {
   "cell_type": "markdown",
   "metadata": {},
   "source": [
    "**3. El valor de $A(2)$ es**"
   ]
  },
  {
   "cell_type": "markdown",
   "metadata": {},
   "source": [
    "A) $3\\ \\rm{m}^2$\n",
    "\n",
    "B) $1\\ \\rm{m}$\n",
    "\n",
    "C) $3\\ \\rm{m}$\n",
    "\n",
    "D) $4\\ \\rm{m}^2$"
   ]
  },
  {
   "cell_type": "markdown",
   "metadata": {},
   "source": [
    "**Solución:** "
   ]
  },
  {
   "cell_type": "markdown",
   "metadata": {},
   "source": [
    "**4. El dominio de la función es**"
   ]
  },
  {
   "cell_type": "markdown",
   "metadata": {},
   "source": [
    "A) $x\\in(-\\infty,\\infty)$\n",
    "\n",
    "B) $x\\in\\mathbb{R},\\ x\\neq0$\n",
    "\n",
    "C) $x\\in[0,\\infty)$\n",
    "\n",
    "D) $x\\in[2,\\infty)$"
   ]
  },
  {
   "cell_type": "markdown",
   "metadata": {},
   "source": [
    "**Solución:** "
   ]
  },
  {
   "cell_type": "markdown",
   "metadata": {},
   "source": [
    "**5. La función $A(x)=\\dfrac{x(2x-1)}{2}$ también se puede expresar como $A(x)=\\left(x-\\dfrac{1}{4}\\right)^2-\\dfrac{1}{16}$. La gráfica de la función es una parábola vertical cuyas características son**"
   ]
  },
  {
   "cell_type": "markdown",
   "metadata": {},
   "source": [
    "A) $V\\left(\\dfrac{1}{4},\\dfrac{1}{16}\\right)$, abre hacia abajo.\n",
    "\n",
    "B) $V\\left(\\dfrac{1}{4},-\\dfrac{1}{16}\\right)$, abre hacia arriba.\n",
    "\n",
    "C) $V\\left(-\\dfrac{1}{4},-\\dfrac{1}{16}\\right)$, abre hacia abajo.\n",
    "\n",
    "D) $V\\left(-\\dfrac{1}{4},\\dfrac{1}{16}\\right)$, abre hacia arriba."
   ]
  },
  {
   "cell_type": "markdown",
   "metadata": {},
   "source": [
    "**Solución:** "
   ]
  },
  {
   "cell_type": "markdown",
   "metadata": {},
   "source": [
    "## Situación. Gravedad en Marte"
   ]
  },
  {
   "cell_type": "markdown",
   "metadata": {},
   "source": [
    "La exploración de Marte ha requerido del uso de nuevas estrategias a fin de superar\n",
    "obstáculos con los que se han enfrentado los vehículos destinados a navegar por el\n",
    "planeta. Algunos de los retos son: el conseguir que los vehículos exploradores\n",
    "recorran más terreno en menos tiempo, evitando el problema de corrosión de las\n",
    "ruedas, las tormentas de arena que bloquean los paneles solares y el cambio en las\n",
    "estaciones del clima en Marte que modifican la incidencia de rayos solares sobre\n",
    "los paneles.\n",
    "\n",
    "Para resolver el problema de cubrir más área explorada en menos tiempo, se han\n",
    "propuesto nuevas ideas como el uso de helicópteros en este planeta o robots\n",
    "denominados PUH (por sus siglas en inglés) que significa \"Saltador Urbano de\n",
    "Precisión\", robots que son capaces de saltar, ahorrando energía en comparación\n",
    "con volar.\n",
    "\n",
    "La función que describe el lanzamiento vertical de un objeto como función del\n",
    "tiempo, es de gran utilidad al momento de determinar la posición del robot PUH\n",
    "dada su altura inicial, en cualquier cuerpo celeste del que se conoce su gravedad.\n",
    "Cuando un objeto se lanza hacia arriba desde una altura inicial $h_0$, con una\n",
    "velocidad inicial $v_0$, la función para determinar su altura es $H(t)$ en el tiempo $t$ está dada por\n",
    "\n",
    "$$H(t)=h_0+ v_0t −\\dfrac{1}{2}gt^2$$\n",
    "\n",
    "donde $g$ es el valor de la aceleración gravitacional de Marte.\n",
    "\n",
    "En el esquema de la figura se ilustra el salto en vertical de un robot desde\n",
    "una altura inicial $h_0$, con una velocidad inicial $v_0$, que alcanza una altura máxima $H(t_\\text{max})=\\text{max}$, en el tiempo $t_\\text{max}$ , para después caer a la superficie del planeta, alcanzando así una altura final $H(t_f)=0$, en el tiempo final $t_f$.\n"
   ]
  },
  {
   "cell_type": "markdown",
   "metadata": {},
   "source": [
    "<img src=\"marte1.png\" align=\"middle\" width=\"400\">"
   ]
  },
  {
   "cell_type": "markdown",
   "metadata": {},
   "source": [
    "**1. El modelo que describe la altura del objeto en lanzamiento vertical como función\n",
    "del tiempo es una:**"
   ]
  },
  {
   "cell_type": "markdown",
   "metadata": {},
   "source": [
    "A) Función de primer grado\n",
    "\n",
    "B) Función de segundo grado\n",
    "\n",
    "C) Función trigonométrica\n",
    "\n",
    "D) Función exponencial"
   ]
  },
  {
   "cell_type": "markdown",
   "metadata": {},
   "source": [
    "**Solución:** "
   ]
  },
  {
   "cell_type": "markdown",
   "metadata": {},
   "source": [
    "**2. ¿Cuál es el dominio máximo de definición de la función?**"
   ]
  },
  {
   "cell_type": "markdown",
   "metadata": {},
   "source": [
    "A) $(-\\infty,\\infty)$\n",
    "\n",
    "B) $[0,15)$\n",
    "\n",
    "C) $(0,\\infty)$\n",
    "\n",
    "D) $[0, 360)$"
   ]
  },
  {
   "cell_type": "markdown",
   "metadata": {},
   "source": [
    "**Solución:** "
   ]
  },
  {
   "cell_type": "markdown",
   "metadata": {},
   "source": [
    "**3. Si en el planeta Marte, desde una plataforma situada a una altura $h_0=1.5\\ \\rm{m}$ un robot salta verticalmente con una velocidad inicial $v_0=20\\ \\dfrac{\\rm{m}}{\\rm{s}}$ y al considerar que la aceleración gravitacional en Marte es de $g=3.71\\ \\dfrac{\\rm{m}}{\\rm{s}^2}$.**\n",
    "\n",
    "**¿Cuál es la altura en metros, que el robot alcanza a los dos segundos de su lanzamiento hacia arriba?**"
   ]
  },
  {
   "cell_type": "markdown",
   "metadata": {},
   "source": [
    "A) 45.92\n",
    "\n",
    "B) 34.08\n",
    "\n",
    "C) 31.08\n",
    "\n",
    "D) 48.92"
   ]
  },
  {
   "cell_type": "markdown",
   "metadata": {},
   "source": [
    "**Solución:** "
   ]
  },
  {
   "cell_type": "markdown",
   "metadata": {},
   "source": [
    "**4. Considerando las circunstancias en la pregunta anterior ¿Cuál es el tiempo\n",
    "aproximado, en segundos en el que el robot toca la superficie del planeta después\n",
    "de su salto vertical desde la plataforma?**"
   ]
  },
  {
   "cell_type": "markdown",
   "metadata": {},
   "source": [
    "A) 5.46\n",
    "\n",
    "B) 5.31\n",
    "\n",
    "C) 10.70\n",
    "\n",
    "D) 10.856"
   ]
  },
  {
   "cell_type": "markdown",
   "metadata": {},
   "source": [
    "**Solución:** "
   ]
  },
  {
   "cell_type": "markdown",
   "metadata": {},
   "source": [
    "**5. De las siguientes gráficas, ¿cuál representa un esbozo de la gráfica de la función correspondiente al lanzamiento vertical descrito en la pregunta 3?**"
   ]
  },
  {
   "cell_type": "markdown",
   "metadata": {},
   "source": [
    "A)\n",
    "<img src=\"cuadratica5A.png\" align=\"middle\" width=\"400\">"
   ]
  },
  {
   "cell_type": "markdown",
   "metadata": {},
   "source": [
    "B)\n",
    "<img src=\"cuadratica5B.png\" align=\"middle\" width=\"400\">"
   ]
  },
  {
   "cell_type": "markdown",
   "metadata": {},
   "source": [
    "C)\n",
    "<img src=\"cuadratica5C.png\" align=\"middle\" width=\"400\">"
   ]
  },
  {
   "cell_type": "markdown",
   "metadata": {},
   "source": [
    "D)\n",
    "<img src=\"cuadratica5D.png\" align=\"middle\" width=\"400\">"
   ]
  },
  {
   "cell_type": "markdown",
   "metadata": {},
   "source": [
    "**Solución:** "
   ]
  },
  {
   "cell_type": "markdown",
   "metadata": {},
   "source": [
    "**6. La figura muestra la gráfica de la expresión matemática que describe la altura del robot en función del tiempo, cuando éste realiza un salto vertical desde la luna, donde hay una aceleración gravitacional $g=1.6\\ \\dfrac{\\rm{m}}{\\rm{s}^2}$ , inicia dicho salto a nivel del suelo y a una velocidad inicial de $v_0=40\\ \\dfrac{\\rm{m}}{\\rm{s}}$.**\n",
    "\n",
    "**¿Cuáles son los puntos A y B de dicha gráfica?**\n"
   ]
  },
  {
   "cell_type": "markdown",
   "metadata": {},
   "source": [
    "<img src=\"marte2.png\" align=\"middle\" width=\"500\">"
   ]
  },
  {
   "cell_type": "markdown",
   "metadata": {},
   "source": [
    "A) $A(0,0),\\ B(0,50)$\n",
    "\n",
    "B) $A(0,0),\\ B(50,0)$\n",
    "\n",
    "C) $A(0,0),\\ B(25,0)$\n",
    "\n",
    "D) $A(0,0), B(0,25)$"
   ]
  },
  {
   "cell_type": "markdown",
   "metadata": {},
   "source": [
    "**Solución:** "
   ]
  },
  {
   "cell_type": "markdown",
   "metadata": {},
   "source": [
    "**7. De acuerdo con la información de la gráfica asociada con la gráfica de la figura anterior, ¿cuál es el dominio natural de la función?**"
   ]
  },
  {
   "cell_type": "markdown",
   "metadata": {},
   "source": [
    "A) $[0, 25]$\n",
    "\n",
    "B) $[25, 0]$\n",
    "\n",
    "C) $[0, 50]$\n",
    "\n",
    "D) $[50, 0]$"
   ]
  },
  {
   "cell_type": "markdown",
   "metadata": {},
   "source": [
    "**Solución:** "
   ]
  },
  {
   "cell_type": "markdown",
   "metadata": {},
   "source": [
    "**8. La siguiente figura muestra la gráfica de la expresión matemática que describe la\n",
    "altura del robot en función del tiempo, cuando éste realiza un salto vertical desde la\n",
    "luna, e inicia dicho salto a nivel del suelo.**\n",
    "\n",
    "**¿Cuál es la expresión matemática que modela la gráfica de la figura?**"
   ]
  },
  {
   "cell_type": "markdown",
   "metadata": {},
   "source": [
    "<img src=\"marte3.png\" align=\"middle\" width=\"500\">"
   ]
  },
  {
   "cell_type": "markdown",
   "metadata": {},
   "source": [
    "A) $H (t) = 0.8(t − 0)(t − 62.5)$\n",
    "\n",
    "B) $H (t) = − 0.8(t − 0)(t − 62.5)$\n",
    "\n",
    "C) $H (t) = − 0.8(t + 0)(t + 62.5)$\n",
    "\n",
    "D) C) $H (t) = 0.8(t + 0)(t + 62.5)$"
   ]
  },
  {
   "cell_type": "markdown",
   "metadata": {},
   "source": [
    "**Solución:** "
   ]
  },
  {
   "cell_type": "markdown",
   "metadata": {},
   "source": [
    "**9. La siguiente figura corresponde a la gráfica de la altura de un robot lanzado en la luna, desde una altura de $1.2\\ \\rm{m}$, como función del tiempo ¿Cuál es la expresión que corresponde a dicha gráfica?**"
   ]
  },
  {
   "cell_type": "markdown",
   "metadata": {},
   "source": [
    "<img src=\"marte3.png\" align=\"middle\" width=\"500\">"
   ]
  },
  {
   "cell_type": "markdown",
   "metadata": {},
   "source": [
    "A) $H ( t ) = −0.8(t + 2.58)2 + 1.2$\n",
    "\n",
    "B) $H ( t ) = − 0.8( t +1)2 + 2$\n",
    "\n",
    "C) $H ( t ) = −0.8(t − 2.58)2 + 1.2$\n",
    "\n",
    "D) $H ( t ) = − 0.8( t −1)2 + 2$"
   ]
  },
  {
   "cell_type": "markdown",
   "metadata": {},
   "source": [
    "**Solución:** "
   ]
  },
  {
   "cell_type": "markdown",
   "metadata": {},
   "source": [
    "**10. ¿Cuál es el recorrido (rango) de la función asociado con el lanzamiento vertical de un robot en el planeta Marte a una altura inicial de $2.145\\ \\rm{m}$, con una velocidad inicial de $3.71\\ \\dfrac{\\rm{m}}{\\rm{s}}$, al considerar el dominio máximo de la misma?**"
   ]
  },
  {
   "cell_type": "markdown",
   "metadata": {},
   "source": [
    "A) $(-\\infty, 4]$\n",
    "\n",
    "B) $(1, \\infty)$\n",
    "\n",
    "C) $[1, \\infty)$\n",
    "\n",
    "D) $(-\\infty, 4)$"
   ]
  },
  {
   "cell_type": "markdown",
   "metadata": {},
   "source": [
    "**Solución:** "
   ]
  },
  {
   "cell_type": "markdown",
   "metadata": {},
   "source": [
    "**11. ¿Cuál es el recorrido (rango) de la función considerando el dominio natural de la misma, para la situación planteada en la pregunta anterior?**"
   ]
  },
  {
   "cell_type": "markdown",
   "metadata": {},
   "source": [
    "A) $[4,\\infty)$\n",
    "\n",
    "B) $[-\\infty,4)$\n",
    "\n",
    "C) $(0,4)$\n",
    "\n",
    "D) $[0,4]$"
   ]
  },
  {
   "cell_type": "markdown",
   "metadata": {},
   "source": [
    "**Solución:** "
   ]
  },
  {
   "cell_type": "markdown",
   "metadata": {},
   "source": [
    "**12. ¿Cuál es la ecuación del eje de simetría de la parábola en la figura de la pregunta 8 que describe la altura del robot en función del tiempo, cuando éste realiza un salto vertical desde la luna, e inicia dicho salto a nivel del suelo?**"
   ]
  },
  {
   "cell_type": "markdown",
   "metadata": {},
   "source": [
    "<img src=\"marte4.png\" align=\"middle\" width=\"500\">"
   ]
  },
  {
   "cell_type": "markdown",
   "metadata": {},
   "source": [
    "A) $H (t ) = 62.5$\n",
    "\n",
    "B) $t = 62.5$\n",
    "\n",
    "C) $t = 31.25$\n",
    "\n",
    "D) $H (t ) = 31.25$"
   ]
  },
  {
   "cell_type": "markdown",
   "metadata": {},
   "source": [
    "**Solución:** "
   ]
  },
  {
   "cell_type": "markdown",
   "metadata": {},
   "source": [
    "**13. Al considerar el valor de la aceleración gravitacional en Marte y en la luna, selecciona el planteamiento que se puede resolver mediante la siguiente igualdad**\n",
    "\n",
    "$$ H(t_a)=40t_a-\\dfrac{1.6}{2}{t_a}^2=10 $$"
   ]
  },
  {
   "cell_type": "markdown",
   "metadata": {},
   "source": [
    "A) La altura $H(t_a)$ que alcanza un robot al ser lanzado hacia arriba, en vertical, desde la luna, a una altura inicial de $10\\ \\rm{m}$.\n",
    "\n",
    "B) El tiempo $t_a$ en que un robot alcanza la altura de $10\\ \\rm{m}$, al ser lanzado hacia arriba, en vertical, desde la superficie lunar a una altura inicial de $0\\ \\rm{m}$\n",
    "\n",
    "C) La altura $H(t_a)$ que alcanza un robot al ser lanzado hacia arriba, en vertical, desde el planeta Marte, a una altura inicial de $10\\ \\rm{m}$.\n",
    "\n",
    "D) El tiempo $t_a$ en que un robot alcanza la altura de $10\\ \\rm{m}$, al ser lanzado hacia arriba, en vertical, desde la superficie marciana a una altura inicial de $0\\ \\rm{m}$"
   ]
  },
  {
   "cell_type": "markdown",
   "metadata": {},
   "source": [
    "**Solución:** "
   ]
  }
 ],
 "metadata": {
  "kernelspec": {
   "display_name": "Julia 1.1.0",
   "language": "julia",
   "name": "julia-1.1"
  },
  "language_info": {
   "file_extension": ".jl",
   "mimetype": "application/julia",
   "name": "julia",
   "version": "1.1.0"
  }
 },
 "nbformat": 4,
 "nbformat_minor": 4
}
