{
 "cells": [
  {
   "cell_type": "markdown",
   "metadata": {},
   "source": [
    "# Estadística para interpretar grandes cantidades de datos"
   ]
  },
  {
   "cell_type": "raw",
   "metadata": {},
   "source": [
    "using Plots\n",
    "pyplot()\n",
    "using Statistics\n",
    "plot([1, 2], [1, 2]);"
   ]
  },
  {
   "cell_type": "markdown",
   "metadata": {},
   "source": [
    "# Clase 4"
   ]
  },
  {
   "cell_type": "markdown",
   "metadata": {},
   "source": [
    "## ¿Cómo obtener resultados estadísticos con la calculadora?"
   ]
  },
  {
   "cell_type": "markdown",
   "metadata": {},
   "source": [
    "### `CASIO fx-82MS`"
   ]
  },
  {
   "cell_type": "markdown",
   "metadata": {},
   "source": [
    "### Datos sin frecuencias"
   ]
  },
  {
   "cell_type": "markdown",
   "metadata": {},
   "source": [
    "1. Cambiamos a modo estadístico (`SD`) usando:\n",
    "\n",
    "    `MODE`+`2`\n",
    "    \n",
    "2. Borramos cualquier dato estadístico que haya quedado en la memoria de la calculadora (`Mcl` ó `Scl`) usando:\n",
    "\n",
    "    `SHIFT`+`MODE`+`1`+`=`\n",
    "    \n",
    "3. Volvemos al menú principal usando:\n",
    "\n",
    "    `AC`\n",
    "    \n",
    "4. Para ingresar cada dato, escribimos el valor del dato y, posteriormente, oprimimos la tecla `M+`. Nos aparecerá `n=1` en el *display*, refiriéndose a la cantidad de datos que hemos ingresado. Para ingresar más datos repetimos este paso.\n",
    "\n",
    "5. Para que la calculadora nos dé:\n",
    "    * el número de datos, $n$, usamos `SHIFT`+`1`+`3`+`=`\n",
    "    * el promedio, $\\bar{x}$, usamos `SHIFT`+`2`+`1`+`=`\n",
    "    * la desviación estándar poblacional, $\\sigma$, usamos `SHIFT`+`2`+`2`+`=`\n",
    "    * la desviación estándar muestral, $s$, usamos `SHIFT`+`2`+`3`+`=`\n",
    "    \n",
    "6. Para volver al modo normal (`COMP`) usamos:\n",
    "\n",
    "    `MODE`+`1`"
   ]
  },
  {
   "cell_type": "markdown",
   "metadata": {},
   "source": [
    "### Datos con frecuencias"
   ]
  },
  {
   "cell_type": "markdown",
   "metadata": {},
   "source": [
    "1. Cambiamos a modo estadístico (`SD`) usando:\n",
    "\n",
    "    `MODE`+`2`\n",
    "    \n",
    "2. Borramos cualquier dato estadístico que haya quedado en la memoria de la calculadora (`Mcl` ó `Scl`) usando:\n",
    "\n",
    "    `SHIFT`+`MODE`+`1`+`=`\n",
    "    \n",
    "3. Volvemos al menú principal usando:\n",
    "\n",
    "    `AC`\n",
    "    \n",
    "4. Para ingresar cada dato con su respectiva frecuencia, escribimos el valor del dato,después `SHIFT`+`,` seguido del valor de la frecuencia absoluta y, posteriormente, oprimimos la tecla `M+`. Nos aparecerá `n=(valor de la frecuancia ingresada)` en el *display*, refiriéndose a la cantidad de datos que hemos ingresado. Para ingresar más datos repetimos este paso.\n",
    "\n",
    "5. Para que la calculadora nos dé:\n",
    "    * el número de datos, $n$, usamos `SHIFT`+`1`+`3`+`=`\n",
    "    * el promedio, $\\bar{x}$, usamos `SHIFT`+`2`+`1`+`=`\n",
    "    * la desviación estándar poblacional, $\\sigma$, usamos `SHIFT`+`2`+`2`+`=`\n",
    "    * la desviación estándar muestral, $s$, usamos `SHIFT`+`2`+`3`+`=`\n",
    "    \n",
    "6. Para volver al modo normal (`COMP`) usamos:\n",
    "    \n",
    "    `MODE`+`1`"
   ]
  },
  {
   "cell_type": "markdown",
   "metadata": {},
   "source": [
    "### `CASIO fx-991ES PLUS`"
   ]
  },
  {
   "cell_type": "markdown",
   "metadata": {},
   "source": [
    "### Datos sin frecuencias"
   ]
  },
  {
   "cell_type": "markdown",
   "metadata": {},
   "source": [
    "1. Borramos la memoria de la calculadora (`Setup`) usando:\n",
    "\n",
    "    `SHIFT`+`9`+`1`+`=`+`AC`\n",
    "    \n",
    "2. Ingresamos al modo de ingresar datos sin frecuencias (`Frequency? OFF`):\n",
    "\n",
    "    `SHIFT`+`MODE`+ $\\downarrow$ +`4`+`2`\n",
    "    \n",
    "3. Cambiamos a modo estadístico (`STAT`) usando:\n",
    "\n",
    "    `MODE`+`3`+`1`\n",
    "    \n",
    "4. Para ingresar cada dato, escribimos el valor del dato en la columna `x` y oprimimos `=`.\n",
    "\n",
    "5. Para que la calculadora nos dé resultados estadíticos de interés vamos a `SHIFT`+`1`+`4` (la opción que dice `Var`). En este menú podemos escoger entre:\n",
    "    * el número de datos, $n$\n",
    "    * el promedio, $\\bar{x}$\n",
    "    * la desviación estándar poblacional, $\\sigma$\n",
    "    * la desviación estándar muestral, $s$\n",
    "    Para obtener el valor oprimimos el valor correspondiente y, después, oprimimos `=`.\n",
    "    \n",
    "6. Para volver al modo normal (`COMP`) usamos:\n",
    "\n",
    "    `MODE`+`1`\n",
    "    \n",
    "    o borramos la memoria de la calculadora (`Setup`) usando:\n",
    "\n",
    "    `SHIFT`+`9`+`1`+`=`+`AC`"
   ]
  },
  {
   "cell_type": "markdown",
   "metadata": {},
   "source": [
    "### Datos con frecuencias"
   ]
  },
  {
   "cell_type": "markdown",
   "metadata": {},
   "source": [
    "1. Borramos la memoria de la calculadora (`Setup`) usando:\n",
    "\n",
    "    `SHIFT`+`9`+`1`+`=`+`AC`\n",
    "    \n",
    "2. Ingresamos al modo de ingresar datos con frecuencias (`Frequency? ON`):\n",
    "\n",
    "    `SHIFT`+`MODE`+ $\\downarrow$ +`4`+`1`\n",
    "    \n",
    "3. Cambiamos a modo estadístico (`STAT`) usando:\n",
    "\n",
    "    `MODE`+`3`+`1`\n",
    "    \n",
    "4. Para ingresar cada dato, escribimos el valor del dato en la columna `x` y oprimimos `=`; despues escribimos la frecuencia absoluta en la columna `FREQ` y, posteriormente, oprimimos la tecla `=`.\n",
    "\n",
    "5. Para que la calculadora nos dé resultados estadíticos de interés, salimos de la tabla con `AC` y  usamos `SHIFT`+`1`+`4` (la opción que dice `Var`). En este menú podemos escoger entre:\n",
    "    * el número de datos, $n$\n",
    "    * el promedio, $\\bar{x}$\n",
    "    * la desviación estándar poblacional, $\\sigma$\n",
    "    * la desviación estándar muestral, $s$\n",
    "    Para obtener el valor oprimimos el valor correspondiente y, después, oprimimos `=`.\n",
    "    \n",
    "6. Para volver al modo normal (`COMP`) usamos:\n",
    "\n",
    "    `MODE`+`1`\n",
    "    \n",
    "    o borramos la memoria de la calculadora (`Setup`) usando:\n",
    "\n",
    "    `SHIFT`+`9`+`1`+`=`+`AC`"
   ]
  },
  {
   "cell_type": "markdown",
   "metadata": {},
   "source": [
    "## Datos agrupados"
   ]
  },
  {
   "cell_type": "markdown",
   "metadata": {},
   "source": [
    "Es una manera más rápida de tratar con gran cantidad de datos. La manera en la que se agrupan los datos es por *clases*."
   ]
  },
  {
   "cell_type": "markdown",
   "metadata": {},
   "source": [
    "Se suele usar entre 5 y 20 clases y se sugiere que todas tengan el mismo tamaño; sin embargo, no siempre es el caso y hay que tener esto en cuenta. Usaremos la letra $k$ para refererirnos al número de clases. Entre más clases haya, más cercano es el valor del promedio y la desviación estándar a como si tratásemos los valores como datos no agrupados."
   ]
  },
  {
   "cell_type": "markdown",
   "metadata": {},
   "source": [
    "Los valores que limitan a cada una de las clases se conocen como *límites de clases*."
   ]
  },
  {
   "cell_type": "markdown",
   "metadata": {},
   "source": [
    "El *ancho de clase* es la diferencia entre los límites de cada clase:"
   ]
  },
  {
   "cell_type": "markdown",
   "metadata": {},
   "source": [
    "$$ \\text{ancho de clase}=\\text{límite superior}-\\text{límite inferior} $$"
   ]
  },
  {
   "cell_type": "markdown",
   "metadata": {},
   "source": [
    "Si queremos que el ancho de clase sea igual para cada clase"
   ]
  },
  {
   "cell_type": "markdown",
   "metadata": {},
   "source": [
    "$$ \\text{ancho de clase}=\\frac{x_\\text{max}-x_\\text{min}}{k} $$"
   ]
  },
  {
   "cell_type": "markdown",
   "metadata": {},
   "source": [
    "La *marca de clase* es el valor que representa a los datos que se encuentran en cada clase y se obtiene mediante el promedio de los límites de cada clase:"
   ]
  },
  {
   "cell_type": "markdown",
   "metadata": {},
   "source": [
    "$$ m_i=\\frac{\\text{límite superior}+\\text{límite inferior}}{2} $$"
   ]
  },
  {
   "cell_type": "markdown",
   "metadata": {},
   "source": [
    "La **frecuencia absoluta** de clase es el total de los datos que pertenecen a cada clase."
   ]
  },
  {
   "cell_type": "markdown",
   "metadata": {},
   "source": [
    "La **frecuencia relativa** indica la proporción de los datos que pertenecen a cada clase."
   ]
  },
  {
   "cell_type": "markdown",
   "metadata": {},
   "source": [
    "La **frecuencia acumulada** es la cantidad de datos que indica cuántos de ellos tienen un valor numérico menor o igual que el límite superior hasta una clase determinada."
   ]
  },
  {
   "cell_type": "markdown",
   "metadata": {},
   "source": [
    "* ***Ejemplo:*** Ahora reunimos a una muestra representativa de 30 varones que juegan fútbol americano en la CDMX. Medimos sus alturas:"
   ]
  },
  {
   "cell_type": "code",
   "execution_count": null,
   "metadata": {},
   "outputs": [],
   "source": [
    "x_2 = rand(1.50:0.01:2.00,28)\n",
    "push!(x_2, 1.5,2)\n",
    "show(x_2)"
   ]
  },
  {
   "cell_type": "markdown",
   "metadata": {},
   "source": [
    "Son treinta datos ($n=30$). El valor más pequeño de los datos es $x_\\text{min}=1.5$ y $x_\\text{max}=2.0$"
   ]
  },
  {
   "cell_type": "markdown",
   "metadata": {},
   "source": [
    "El rango de la muestra es"
   ]
  },
  {
   "cell_type": "markdown",
   "metadata": {},
   "source": [
    "$$ R=x_\\text{max}-x_\\text{min}=0.5 $$"
   ]
  },
  {
   "cell_type": "markdown",
   "metadata": {},
   "source": [
    "Pensemos que queremos cinco clases del mismo tamaño ($k=5$), por lo que"
   ]
  },
  {
   "cell_type": "markdown",
   "metadata": {},
   "source": [
    "$$ \\text{ancho de clase}=\\frac{x_\\text{max}-x_\\text{min}}{k}=\\dfrac{0.5}{5}=0.1 $$"
   ]
  },
  {
   "cell_type": "markdown",
   "metadata": {},
   "source": [
    "Para la primera clase, el límite inferior es $x_\\text{min}=1.5$, por lo que el límite superior lo obtenemos mediante"
   ]
  },
  {
   "cell_type": "markdown",
   "metadata": {},
   "source": [
    "$$ \\text{límite superior}=\\text{ancho de clase}+\\text{límite inferior}=1.6 $$"
   ]
  },
  {
   "cell_type": "markdown",
   "metadata": {},
   "source": [
    "Entonces, el primer intervalo de clase es"
   ]
  },
  {
   "cell_type": "markdown",
   "metadata": {},
   "source": [
    "$$ [1.5,1.6) $$"
   ]
  },
  {
   "cell_type": "markdown",
   "metadata": {},
   "source": [
    "Para la segunda clase, el límite inferior es $1.6$, por lo que el límite superior lo obtenemos mediante"
   ]
  },
  {
   "cell_type": "markdown",
   "metadata": {},
   "source": [
    "$$ \\text{límite superior}=\\text{ancho de clase}+\\text{límite inferior}=1.7 $$"
   ]
  },
  {
   "cell_type": "markdown",
   "metadata": {},
   "source": [
    "Entonces, el seugndo intervalo de clase es"
   ]
  },
  {
   "cell_type": "markdown",
   "metadata": {},
   "source": [
    "$$ [1.6,1.7) $$"
   ]
  },
  {
   "cell_type": "markdown",
   "metadata": {},
   "source": [
    "| Número de clase | Intervalo de clase | $m_i$ | $f_i$ | $p_i$ | $F_i$ | $P_i$ |\n",
    "|-----------------|--------------------|-------|-------|-------|-------|-------|\n",
    "| 1 | $[1.5,1.6)$| $1.55$   | $8$ | $\\frac{8}{30}$| $8$   | $\\frac{8}{30}$   |\n",
    "| 2 | $[1.6,1.7)$| $1.65$   | $7$ | $\\frac{7}{30}$| $15$   | $\\frac{15}{30}$   |\n",
    "| 3 | $[1.7,1.8)$| $1.75$   | $8$ | $\\frac{8}{30}$| $23$   | $\\frac{23}{30}$   |\n",
    "| 4 | $[1.8,1.9)$| $1.85$   | $2$ | $\\frac{2}{30}$| $25$   | $\\frac{25}{30} $   |\n",
    "| 5 | $[1.9,2.0]$| $1.95$   | $5$ | $\\frac{5}{30}$| $30$   | $\\frac{30}{30}$   |\n",
    "| Total | $ $ | $ $   | $30$   | $1$   | $ $   | $ $   |"
   ]
  },
  {
   "cell_type": "markdown",
   "metadata": {},
   "source": [
    "$$ \\circledast $$"
   ]
  },
  {
   "cell_type": "markdown",
   "metadata": {},
   "source": [
    "## Medidas de tendencia central y de dispersión (para datos agrupados)"
   ]
  },
  {
   "cell_type": "markdown",
   "metadata": {},
   "source": [
    "### Media aritmética, $\\bar{x}$"
   ]
  },
  {
   "cell_type": "markdown",
   "metadata": {},
   "source": [
    "$$\\bar{x}=\\frac{\\sum_{i=1}^km_if_i}{\\sum_{i=1}^kf_i}=\\frac{\\sum_{i=1}^km_if_i}{n}$$"
   ]
  },
  {
   "cell_type": "markdown",
   "metadata": {},
   "source": [
    "donde $m_i$ son las marcas de clase, $f_i$ la frecuencia absoluta, y $k$ es el número de clases."
   ]
  },
  {
   "cell_type": "markdown",
   "metadata": {},
   "source": [
    "### Varianza muestral, $s^2$"
   ]
  },
  {
   "cell_type": "markdown",
   "metadata": {},
   "source": [
    "$$ s^2=\\dfrac{\\sum_{i=1}^k(m_i-\\bar{x})^2f_i}{n-1} $$"
   ]
  },
  {
   "cell_type": "markdown",
   "metadata": {},
   "source": [
    "donde $m_i$ son las marcas de clase, $\\bar{x}$ la media aritmética, $f_i$ la frecuencia absoluta, $k$ es el número de clases, y $n$ es el número total de datos."
   ]
  },
  {
   "cell_type": "markdown",
   "metadata": {},
   "source": [
    "### Varianza poblacional, $\\sigma^2$"
   ]
  },
  {
   "cell_type": "markdown",
   "metadata": {},
   "source": [
    "$$ \\sigma^2=\\dfrac{\\sum_{i=1}^k(m_i-\\bar{x})^2f_i}{n} $$"
   ]
  },
  {
   "cell_type": "markdown",
   "metadata": {},
   "source": [
    "donde $m_i$ son las marcas de clase, $\\bar{x}$ la media aritmética, $f_i$ la frecuencia absoluta, $k$ es el número de clases, y $n$ es el número total de datos."
   ]
  },
  {
   "cell_type": "markdown",
   "metadata": {},
   "source": [
    "### Desviación estándar muestral, $s$"
   ]
  },
  {
   "cell_type": "markdown",
   "metadata": {},
   "source": [
    "$$ s=\\sqrt{s^2} $$"
   ]
  },
  {
   "cell_type": "markdown",
   "metadata": {},
   "source": [
    "### Desviación estándar muestral, $\\sigma$"
   ]
  },
  {
   "cell_type": "markdown",
   "metadata": {},
   "source": [
    "$$ \\sigma=\\sqrt{\\sigma^2} $$"
   ]
  },
  {
   "cell_type": "markdown",
   "metadata": {},
   "source": [
    "### Coeficiente de variación"
   ]
  },
  {
   "cell_type": "markdown",
   "metadata": {},
   "source": [
    "Qué tanto varían nuestros datos en forma porcentual:"
   ]
  },
  {
   "cell_type": "markdown",
   "metadata": {},
   "source": [
    "* Muestral:"
   ]
  },
  {
   "cell_type": "markdown",
   "metadata": {},
   "source": [
    "$$ {\\rm{CV}}=\\frac{s}{\\bar{x}}\\cdot100 $$"
   ]
  },
  {
   "cell_type": "markdown",
   "metadata": {},
   "source": [
    "* Poblacional:"
   ]
  },
  {
   "cell_type": "markdown",
   "metadata": {},
   "source": [
    "$$ {\\rm{CV}}=\\frac{\\sigma}{\\bar{x}}\\cdot100 $$"
   ]
  },
  {
   "cell_type": "markdown",
   "metadata": {},
   "source": [
    "* ***Ejemplo:*** Muestra representativa de jugadores de fútbol americano (continuación)"
   ]
  },
  {
   "cell_type": "markdown",
   "metadata": {},
   "source": [
    "| Número de clase | Intervalo de clase | $m_i$ | $f_i$ | $m_i\\cdot f_i$ | $(m_i-\\bar{x})$ | $(m_i-\\bar{x})^2$ | $(m_i-\\bar{x})^2\\cdot f_i$ |\n",
    "|-----------------|--------------------|-------|-------|----------------|-----------------|-------------------|----------------------------|\n",
    "| 1| $[1.5,1.6)$ | $1.55$   | $8$   | $12.40$| $-0.163$| $0.026569$| $0.212552$                        |\n",
    "| 2| $[1.6,1.7)$ | $1.65$   | $7$   | $11.55$| $-0.063$| $0.003969$| $0.027783$|\n",
    "| 3| $[1.7,1.8)$ | $1.75$   | $8$   | $14.00$| $0.037$| $0.001369$| $0.010952$|\n",
    "| 4| $[1.8,1.9)$ | $1.85$   | $2$   | $3.70$| $0.137$| $0.018769$| $0.037538$|\n",
    "| 5| $[1.9,2.0)$ | $1.95$   | $5$   | $9.75$| $0.237$| $0.056169$| $0.280845$                        |\n",
    "| Total           | $ $                | $ $   | $30$   | $\\bar{x}=1.713\\dots$| $ $             | $ $               | $ $                        |"
   ]
  },
  {
   "cell_type": "markdown",
   "metadata": {},
   "source": [
    "La suma de columna $m_i\\cdot f_i$ es 51.40. Entonces, la media aritmética es"
   ]
  },
  {
   "cell_type": "markdown",
   "metadata": {},
   "source": [
    "$$ \\bar{x}=\\dfrac{\\sum_{i=1}^5 m_i\\cdot f_i}{\\sum_{i=1}^5f_i}=\\dfrac{51.40}{30}=1.713\\dots. $$"
   ]
  },
  {
   "cell_type": "markdown",
   "metadata": {},
   "source": [
    "La suma de columna $(m_i-\\bar{x})^2\\cdot f_i$ es 0.56967. Entonces, la varianza muestral es"
   ]
  },
  {
   "cell_type": "markdown",
   "metadata": {},
   "source": [
    "$$ s^2=\\dfrac{\\sum_{i=1}^5 (m_i-\\bar{x})^2\\cdot f_i}{n-1}=\\dfrac{0.56967}{30-1}=0.0196437931\\dots. $$"
   ]
  },
  {
   "cell_type": "markdown",
   "metadata": {},
   "source": [
    "La desviación estándar muestral es"
   ]
  },
  {
   "cell_type": "markdown",
   "metadata": {},
   "source": [
    "$$ s=\\sqrt{s^2}=\\sqrt{0.0196437931\\dots}\\approx0.14 $$"
   ]
  },
  {
   "cell_type": "markdown",
   "metadata": {},
   "source": [
    "El coeficiente de variación es"
   ]
  },
  {
   "cell_type": "markdown",
   "metadata": {},
   "source": [
    "$$ \\text{C.V.}=\\dfrac{s}{\\bar{x}}\\cdot100=\\dfrac{0.14}{1.713}\\cdot100\\approx8.18\\ \\% $$"
   ]
  },
  {
   "cell_type": "markdown",
   "metadata": {},
   "source": [
    "$$ \\circledast $$"
   ]
  },
  {
   "cell_type": "markdown",
   "metadata": {},
   "source": [
    "## Tipos de gráficas"
   ]
  },
  {
   "cell_type": "markdown",
   "metadata": {},
   "source": [
    "Los elementos que deben integrar una gráfica de manera que se pueda interpretar correctamente son: título, rótulo de ejes o sectores, unidades, escala, simbología."
   ]
  },
  {
   "cell_type": "markdown",
   "metadata": {},
   "source": [
    "### Histograma"
   ]
  },
  {
   "cell_type": "markdown",
   "metadata": {},
   "source": [
    "Es una representación gráfica que se usa expecialmente para datos agurpados. Es como una gráfica de barras, donde la base de cada barra es proporcional a la frecuencia absoluta de cada clase, donde las barras no están separadas. Se dibuja escribiendo en el eje de las ordenadas las frecuencias absolutas o relativas y en el eje de las abscisas los límites de clase."
   ]
  },
  {
   "cell_type": "markdown",
   "metadata": {},
   "source": [
    "<img src=\"histo1.png\" align=\"middle\" width=\"600\">"
   ]
  },
  {
   "cell_type": "raw",
   "metadata": {},
   "source": [
    "histogram(x_2,bins=[1.5,1.6,1.7,1.8,1.9,2.001],leg=:false,xlabel=\"Altura (metros)\",ylabel=\"Frecuencia absoluta\",title=\"Histograma de alturas para muestra de jugadores\",dpi=300)"
   ]
  },
  {
   "cell_type": "markdown",
   "metadata": {},
   "source": [
    "$$ \\circledast $$"
   ]
  },
  {
   "cell_type": "markdown",
   "metadata": {},
   "source": [
    "### Polígono de frecuencias"
   ]
  },
  {
   "cell_type": "markdown",
   "metadata": {},
   "source": [
    "Es una gráfica que se genera con la unión de puntos $(x,y)$, donde $x$ es la marca de clase y $y$ es la frecuencia absoluta o relativa de esa clase."
   ]
  },
  {
   "cell_type": "markdown",
   "metadata": {},
   "source": [
    "<img src=\"poli1.png\" align=\"middle\" width=\"600\">"
   ]
  },
  {
   "cell_type": "raw",
   "metadata": {},
   "source": [
    "f_2 = [8,7,8,2,5]\n",
    "m_2 = [1.55,1.65,1.75,1.85,1.95]\n",
    "plot(m_2,f_2,m=:circle,lw=3,ms=5,leg=:false,xlabel=\"Altura (metros)\",ylabel=\"Frecuencia absoluta\",title=\"Polígono de frecuencias de alturas para muestra de jugadores\",xlim=[1.49,2.01], ylim=[0,10],dpi=300)"
   ]
  },
  {
   "cell_type": "markdown",
   "metadata": {},
   "source": [
    "<img src=\"poli2.png\" align=\"middle\" width=\"600\">"
   ]
  },
  {
   "cell_type": "raw",
   "metadata": {},
   "source": [
    "p_2 = f_2/30\n",
    "plot(m_2,p_2,m=:circle,lw=3,ms=5,leg=:false,xlabel=\"Altura (metros)\",ylabel=\"Frecuencia relativa\",title=\"Polígono de frecuencias de alturas para muestra de jugadores\",xlim=[1.49,2.01], ylim=[0,1],dpi=300)"
   ]
  },
  {
   "cell_type": "markdown",
   "metadata": {},
   "source": [
    "<img src=\"poli3.png\" align=\"middle\" width=\"600\">"
   ]
  },
  {
   "cell_type": "raw",
   "metadata": {},
   "source": [
    "histogram(x_2,bins=[1.5,1.6,1.7,1.8,1.9,2.001],leg=:false,xlabel=\"Altura (metros)\",ylabel=\"Frecuencia absoluta\",title=\"Histograma y polígono de frecuencias\",dpi=300)\n",
    "plot!(m_2,f_2,m=:circle,lw=3,ms=5)"
   ]
  },
  {
   "cell_type": "markdown",
   "metadata": {},
   "source": [
    "$$ \\circledast $$"
   ]
  },
  {
   "cell_type": "markdown",
   "metadata": {},
   "source": [
    "### Ojiva (polígono de frecuencias acumuladas)"
   ]
  },
  {
   "cell_type": "markdown",
   "metadata": {},
   "source": [
    "Es un polígono de frecuencias acumuladas que se genera con la unión de puntos $(x,y)$ donde $x$ es el límite superior de la clase y $y$ la frecuencia (absoluta o relativa) acumulada hasta esa clase."
   ]
  },
  {
   "cell_type": "markdown",
   "metadata": {},
   "source": [
    "<img src=\"ojiva1.png\" align=\"middle\" width=\"600\">"
   ]
  },
  {
   "cell_type": "raw",
   "metadata": {},
   "source": [
    "F_2 = [8,15,23,25,30]\n",
    "M_2 = [1.6,1.7,1.8,1.9,2.0]\n",
    "plot(M_2,F_2,m=:circle,lw=3,ms=5,leg=:false,xlabel=\"Altura (metros)\",ylabel=\"Frecuencia absoluta acumulada\",title=\"Ojiva de alturas para muestra de jugadores\",xlim=[1.49,2.01], ylim=[0,30],dpi=300)"
   ]
  },
  {
   "cell_type": "markdown",
   "metadata": {},
   "source": [
    "<img src=\"ojiva2.png\" align=\"middle\" width=\"600\">"
   ]
  },
  {
   "cell_type": "raw",
   "metadata": {},
   "source": [
    "P_2 = F_2/30\n",
    "plot(M_2,P_2,m=:circle,lw=3,ms=5,leg=:false,xlabel=\"Altura (metros)\",ylabel=\"Frecuencia relativa\",title=\"Ojiva de alturas para muestra de jugadores\",xlim=[1.49,2.01], ylim=[0,1],dpi=300)"
   ]
  },
  {
   "cell_type": "markdown",
   "metadata": {},
   "source": [
    "<img src=\"ojiva3.png\" align=\"middle\" width=\"600\">"
   ]
  },
  {
   "cell_type": "raw",
   "metadata": {},
   "source": [
    "histogram(x_2,bins=[1.5,1.6,1.7,1.8,1.9,2.001],leg=:false,xlabel=\"Altura (metros)\",ylabel=\"Frecuencia absoluta\",title=\"Histograma, polígono de frecuencias y ojiva\",dpi=300)\n",
    "plot!(m_2,f_2,m=:circle,lw=3,ms=5)\n",
    "plot!(M_2,F_2,m=:circle,lw=3,ms=5)"
   ]
  },
  {
   "cell_type": "markdown",
   "metadata": {},
   "source": [
    "$$ \\circledast $$"
   ]
  },
  {
   "cell_type": "markdown",
   "metadata": {},
   "source": [
    "### Diagrama de dispersión"
   ]
  },
  {
   "cell_type": "markdown",
   "metadata": {},
   "source": [
    "Es un diagrama que utiliza las coordenadas cartesianas para mostrar los valores de dos variables para un conjunto de datos. Se utiliza para observar la relación entre dos variables cuantitativas y consiste en puntos que corresponden a dos mediciones de cada elemento de la población o muestra.\n",
    "\n",
    "El modelo más simple de relación entre dos variables cuantitativas es el lineal."
   ]
  },
  {
   "cell_type": "markdown",
   "metadata": {},
   "source": [
    "## Correlación y causalidad"
   ]
  },
  {
   "cell_type": "markdown",
   "metadata": {},
   "source": [
    "En muchas ocasiones tendremos dos conjuntos de variables estadísticas que podría parecer que dependen entre sí (funciones). A esta aparente dependencia se le conoce como *correlación*. Si en la \"realidad\" notamos que sí hay una relación entre dos fenómenos, decimos que existe *causalidad* (una cosa causa que otra suceda)."
   ]
  },
  {
   "cell_type": "markdown",
   "metadata": {},
   "source": [
    "Sin embargo, hay mucha ocasiones donde existe una correlación y no hay causalidad."
   ]
  },
  {
   "cell_type": "markdown",
   "metadata": {},
   "source": [
    "https://www.tylervigen.com/spurious-correlations"
   ]
  },
  {
   "cell_type": "markdown",
   "metadata": {},
   "source": [
    "## Correlación lineal"
   ]
  },
  {
   "cell_type": "markdown",
   "metadata": {},
   "source": [
    "La manera más fácil de identificar correlaciones es mediante gráficas donde se busca generar algún tipo de comportamiento lineal."
   ]
  },
  {
   "cell_type": "markdown",
   "metadata": {},
   "source": [
    "* **Correlación fuerte**: si intentamos ajustar una recta a los puntos del diagrama de dispersión, estos puntos quedarán muy cerca de la recta."
   ]
  },
  {
   "cell_type": "markdown",
   "metadata": {},
   "source": [
    "<img src=\"corr1.png\" align=\"middle\" width=\"600\">"
   ]
  },
  {
   "cell_type": "raw",
   "metadata": {},
   "source": [
    "x_corr1=rand(0.:0.01:10.,30)\n",
    "y_corr1=3x_corr1.+2+rand(-0.5:0.01:0.5,30)\n",
    "plot(x_corr1,y_corr1,line=:false,marker=:circle,leg=:false,dpi=300)"
   ]
  },
  {
   "cell_type": "markdown",
   "metadata": {},
   "source": [
    "* **Correlación débil:** si intentamos ajustar una recta a los puntos del diagrama de dispersión, estos puntos quedarán muy lejos de la recta."
   ]
  },
  {
   "cell_type": "markdown",
   "metadata": {},
   "source": [
    "<img src=\"corr2.png\" align=\"middle\" width=\"600\">"
   ]
  },
  {
   "cell_type": "raw",
   "metadata": {},
   "source": [
    "x_corr2=rand(0.:0.01:10.,30)\n",
    "y_corr2=rand(0.:0.01:10.,30)\n",
    "plot(x_corr2,y_corr2,line=:false,marker=:circle,leg=:false,dpi=300)"
   ]
  },
  {
   "cell_type": "markdown",
   "metadata": {},
   "source": [
    "* **Correlación positiva:** la recta, que tratamos de ajustar a los puntos en el diagrama de dispersión, tiene pendiente positiva."
   ]
  },
  {
   "cell_type": "markdown",
   "metadata": {},
   "source": [
    "<img src=\"corr3.png\" align=\"middle\" width=\"600\">"
   ]
  },
  {
   "cell_type": "raw",
   "metadata": {},
   "source": [
    "x_corr3=rand(0.:0.01:10.,30)\n",
    "y_corr3=2x_corr3.+5+rand(-4.:0.01:4.,30)\n",
    "plot(x_corr3,y_corr3,line=:false,marker=:circle,leg=:false,dpi=300)"
   ]
  },
  {
   "cell_type": "markdown",
   "metadata": {},
   "source": [
    "* **Correlación negativa:** la recta, que tratamos de ajustar a los puntos en el diagrama de dispersión, tiene pendiente negativa."
   ]
  },
  {
   "cell_type": "markdown",
   "metadata": {},
   "source": [
    "<img src=\"corr4.png\" align=\"middle\" width=\"600\">"
   ]
  },
  {
   "cell_type": "raw",
   "metadata": {},
   "source": [
    "x_corr4=rand(0.:0.01:10.,30)\n",
    "y_corr4=-x_corr4.+2+rand(-4.:0.01:4.,30)\n",
    "plot(x_corr4,y_corr4,line=:false,marker=:circle,leg=:false,dpi=300)"
   ]
  },
  {
   "cell_type": "markdown",
   "metadata": {},
   "source": [
    "## Situación: Análisis de datos no agrupados"
   ]
  },
  {
   "cell_type": "markdown",
   "metadata": {},
   "source": [
    "Ana y su equipo recabaron la información y la organizaron como se muestra en la\n",
    "tabla"
   ]
  },
  {
   "cell_type": "markdown",
   "metadata": {},
   "source": [
    "<img src=\"tabla4-1.png\" align=\"middle\" width=\"500\">"
   ]
  },
  {
   "cell_type": "markdown",
   "metadata": {},
   "source": [
    "**1. Es la distribución de frecuencias de la variable sexo**"
   ]
  },
  {
   "cell_type": "markdown",
   "metadata": {},
   "source": [
    "<img src=\"tablas4-1.png\" align=\"middle\" width=\"500\">"
   ]
  },
  {
   "cell_type": "markdown",
   "metadata": {},
   "source": [
    "**Solución:** B)"
   ]
  },
  {
   "cell_type": "markdown",
   "metadata": {},
   "source": [
    "**2. Es la distribución de frecuencias de la variable estatura**"
   ]
  },
  {
   "cell_type": "markdown",
   "metadata": {},
   "source": [
    "A) <img src=\"tabla3-2a.png\" align=\"middle\" width=\"350\">"
   ]
  },
  {
   "cell_type": "markdown",
   "metadata": {},
   "source": [
    "B) <img src=\"tabla3-2b.png\" align=\"middle\" width=\"350\">"
   ]
  },
  {
   "cell_type": "markdown",
   "metadata": {},
   "source": [
    "C) <img src=\"tabla3-2c.png\" align=\"middle\" width=\"350\">"
   ]
  },
  {
   "cell_type": "markdown",
   "metadata": {},
   "source": [
    "D) <img src=\"tabla3-2d.png\" align=\"middle\" width=\"350\">"
   ]
  },
  {
   "cell_type": "markdown",
   "metadata": {},
   "source": [
    "**Solución:** B)"
   ]
  },
  {
   "cell_type": "markdown",
   "metadata": {},
   "source": [
    "**3.  Es la gráfica que resume de mejor manera la información sobre el sexo de los\n",
    "estudiantes de la muestra**"
   ]
  },
  {
   "cell_type": "markdown",
   "metadata": {},
   "source": [
    "A) <img src=\"fig3-3a.png\" align=\"middle\" width=\"350\">"
   ]
  },
  {
   "cell_type": "markdown",
   "metadata": {},
   "source": [
    "B) <img src=\"fig3-3b.png\" align=\"middle\" width=\"350\">"
   ]
  },
  {
   "cell_type": "markdown",
   "metadata": {},
   "source": [
    "C) <img src=\"fig3-3c.png\" align=\"middle\" width=\"350\">"
   ]
  },
  {
   "cell_type": "markdown",
   "metadata": {},
   "source": [
    "D) <img src=\"fig3-3d.png\" align=\"middle\" width=\"350\">"
   ]
  },
  {
   "cell_type": "markdown",
   "metadata": {},
   "source": [
    "**Solución:** C)"
   ]
  },
  {
   "cell_type": "markdown",
   "metadata": {},
   "source": [
    "**4. Es la gráfica en la que se representa mejor la información de las estaturas de los estudiantes**"
   ]
  },
  {
   "cell_type": "markdown",
   "metadata": {},
   "source": [
    "A) <img src=\"fig3-4a.png\" align=\"middle\" width=\"350\">"
   ]
  },
  {
   "cell_type": "markdown",
   "metadata": {},
   "source": [
    "B) <img src=\"fig3-4b.png\" align=\"middle\" width=\"350\">"
   ]
  },
  {
   "cell_type": "markdown",
   "metadata": {},
   "source": [
    "C) <img src=\"fig3-4c.png\" align=\"middle\" width=\"350\">"
   ]
  },
  {
   "cell_type": "markdown",
   "metadata": {},
   "source": [
    "D) <img src=\"fig3-4d.png\" align=\"middle\" width=\"350\">"
   ]
  },
  {
   "cell_type": "markdown",
   "metadata": {},
   "source": [
    "**Solución:** B)"
   ]
  },
  {
   "cell_type": "markdown",
   "metadata": {},
   "source": [
    "## Situación: Medidas de tendencia central para un conjunto de datos no agrupados"
   ]
  },
  {
   "cell_type": "markdown",
   "metadata": {},
   "source": [
    "La distribución de frecuencias y las gráficas permitieron a Ana tener una idea global del comportamiento del conjunto de datos, sin embargo, ella investigó que existen valores que permiten resumir la información de dicho conjunto de datos.\n",
    "\n",
    "La distribución de frecuencias de la estatura de los 10 alumnos del grupo 501 es:\n"
   ]
  },
  {
   "cell_type": "markdown",
   "metadata": {},
   "source": [
    "<img src=\"tabla4-2.png\" align=\"middle\" width=\"400\">"
   ]
  },
  {
   "cell_type": "markdown",
   "metadata": {},
   "source": [
    "| Estatura | Frecuencia | Frecuencia<br>relativa | Frecuencia<br>acumulada | Frecuencia<br>relativa<br>acumulada |\n",
    "|:--------:|:----------:|:----------------------:|:-----------------------:|:-----------------------------------:|\n",
    "|   $x_i$  |    $f_i$   |          $p_i$         |          $F_i$          |                $P_i$                |\n",
    "|    150   |      2     |           0.2          |            2            |                 0.2                 |\n",
    "|    154   |      1     |           0.1          |            3            |                 0.3                 |\n",
    "|    162   |      1     |           0.1          |            4            |                 0.4                 |\n",
    "|    170   |      3     |           0.3          |            7            |                 0.7                 |\n",
    "|    174   |      1     |           0.1          |            8            |                 0.8                 |\n",
    "|    178   |      1     |           0.1          |            9            |                 0.9                 |\n",
    "|    182   |      1     |           0.1          |            10           |                  1.0                  |\n",
    "|   Total  |     10     |            1.0           |           $ $           |                 $ $                 |"
   ]
  },
  {
   "cell_type": "markdown",
   "metadata": {},
   "source": [
    "| Estatura | Frecuencia | Frecuencia<br>relativa | $ $             | $ $            |\n",
    "|----------|------------|------------------------|-----------------|----------------|\n",
    "| $x_i$    | $f_i$      | $p_i$                  | $x_i\\cdot f_i$  | $x_i\\cdot p_i$ |\n",
    "| 150      | 2          | 0.2                    | 300             | 30.0           |\n",
    "| 154      | 1          | 0.1                    | 154             | 15.4           |\n",
    "| 162      | 1          | 0.1                    | 162             | 16.2           |\n",
    "| 170      | 3          | 0.3                    | 510             | 51.0           |\n",
    "| 174      | 1          | 0.1                    | 174             | 17.4           |\n",
    "| 178      | 1          | 0.1                    | 178             | 17.8           |\n",
    "| 182      | 1          | 0.1                    | 182             | 18.2           |\n",
    "| Total    | 10         | 1.0                    | $ \\bar{x}=166 $ | 166            |"
   ]
  },
  {
   "cell_type": "code",
   "execution_count": null,
   "metadata": {
    "scrolled": true
   },
   "outputs": [],
   "source": [
    "(150*2+154+162+170*3+174+178+182)"
   ]
  },
  {
   "cell_type": "code",
   "execution_count": null,
   "metadata": {},
   "outputs": [],
   "source": [
    "1660/10"
   ]
  },
  {
   "cell_type": "markdown",
   "metadata": {},
   "source": [
    "**1. Calcula la media aritmética.**"
   ]
  },
  {
   "cell_type": "markdown",
   "metadata": {},
   "source": [
    "A) 130\n",
    "\n",
    "B) 166\n",
    "\n",
    "C) 170\n",
    "\n",
    "D) 184"
   ]
  },
  {
   "cell_type": "markdown",
   "metadata": {},
   "source": [
    "**Solución:** B)"
   ]
  },
  {
   "cell_type": "markdown",
   "metadata": {},
   "source": [
    "**2.  Calcula la mediana.**"
   ]
  },
  {
   "cell_type": "markdown",
   "metadata": {},
   "source": [
    "* $\\dfrac{n}{2}=\\dfrac{10}{2}=5$"
   ]
  },
  {
   "cell_type": "markdown",
   "metadata": {},
   "source": [
    "* $\\dfrac{n}{2}+1=\\dfrac{10}{2}+1=6$"
   ]
  },
  {
   "cell_type": "markdown",
   "metadata": {},
   "source": [
    "Los datos que están en medio de los diez datos (el quinto y el sexto) son 170 y 170. La mediana es el promedio de estos valores."
   ]
  },
  {
   "cell_type": "markdown",
   "metadata": {},
   "source": [
    "A) 130\n",
    "\n",
    "B) 166\n",
    "\n",
    "C) 170\n",
    "\n",
    "D) 184"
   ]
  },
  {
   "cell_type": "markdown",
   "metadata": {},
   "source": [
    "**Solución:** C)"
   ]
  },
  {
   "cell_type": "markdown",
   "metadata": {},
   "source": [
    "**3.   Calcula la moda.**"
   ]
  },
  {
   "cell_type": "markdown",
   "metadata": {},
   "source": [
    "A) 130\n",
    "\n",
    "B) 166\n",
    "\n",
    "C) 170\n",
    "\n",
    "D) No hay moda"
   ]
  },
  {
   "cell_type": "markdown",
   "metadata": {},
   "source": [
    "**Solución:** C)"
   ]
  },
  {
   "cell_type": "markdown",
   "metadata": {},
   "source": [
    "## Situación: Medidas de dispersión para un conjunto de datos no agrupados"
   ]
  },
  {
   "cell_type": "markdown",
   "metadata": {},
   "source": [
    "Ana y su equipo tomaron otra muestra de 10 estudiantes del grupo 501, para analizar la estatura de los alumnos. Observaron que ambas muestras tenían la misma media aritmética, 166 cm; la misma mediana, 170 cm y la misma moda, 170 cm. Sin embargo, se trataba de conjuntos de datos diferentes. Esto los llevó a plantear otras preguntas como son. ¿En qué intervalo varían los datos? ¿Qué tan dispersos están? Esto se puede contestar al analizar las medidas de dispersión."
   ]
  },
  {
   "cell_type": "markdown",
   "metadata": {},
   "source": [
    "<img src=\"tabla4-1.png\" align=\"middle\" width=\"500\">"
   ]
  },
  {
   "cell_type": "markdown",
   "metadata": {},
   "source": [
    "**1. El rango del IMC redondeado de la muestra del grupo 501 es**"
   ]
  },
  {
   "cell_type": "markdown",
   "metadata": {},
   "source": [
    "$y_i$: IMC redondeado"
   ]
  },
  {
   "cell_type": "markdown",
   "metadata": {},
   "source": [
    "$$ {\\rm{Rango}}=y_{\\rm{max}}-y_{\\rm{min}} $$"
   ]
  },
  {
   "cell_type": "markdown",
   "metadata": {},
   "source": [
    "$$ {\\rm{Rango}}=(26)-(18)=8 $$"
   ]
  },
  {
   "cell_type": "markdown",
   "metadata": {},
   "source": [
    "A) 8\n",
    "\n",
    "B) 18\n",
    "\n",
    "C) 22\n",
    "\n",
    "D) 26"
   ]
  },
  {
   "cell_type": "markdown",
   "metadata": {},
   "source": [
    "**Solución:** A)"
   ]
  },
  {
   "cell_type": "markdown",
   "metadata": {},
   "source": [
    "**2.  Es la varianza del IMC redondeado de la muestra del grupo 501**"
   ]
  },
  {
   "cell_type": "markdown",
   "metadata": {},
   "source": [
    "| $y_i$ | $f_i$ | $y_i\\cdot f_i$ | $(y_i-\\bar{y})$  | $(y_i-\\bar{y})^2$  | $(y_i-\\bar{y})^2f_i$  |\n",
    "|-------|-------|----------------|---|---|---|\n",
    "| 18    | 1     | 18             | -3.6  | 12.96  | 12.96  |\n",
    "| 19    | 2     | 38             | -2.6  | 6.76  | 13.52  |\n",
    "| 20    | 2     | 40             | -1.6  | 2.56  | 5.12  |\n",
    "| 22    | 2     | 44             | +0.4  | 0.16  | 0.32  |\n",
    "| 24    | 1     | 24             | +2.4  | 5.76  | 5.76  |\n",
    "| 26    | 2     | 52             | +4.4  | 19.36  | 38.72  |\n",
    "| Total | 10    | $\\bar{y}=21.6$ | $ $  | $ $  | $ $  |"
   ]
  },
  {
   "cell_type": "markdown",
   "metadata": {},
   "source": [
    "La media aritmética es"
   ]
  },
  {
   "cell_type": "markdown",
   "metadata": {},
   "source": [
    "$$ \\bar{y}=21.6 $$"
   ]
  },
  {
   "cell_type": "markdown",
   "metadata": {},
   "source": [
    "La varianza es"
   ]
  },
  {
   "cell_type": "markdown",
   "metadata": {},
   "source": [
    "$$ s^2=\\dfrac{\\sum_{i=1}^{6}(y_i-\\bar{y})^2f_i}{10-1}=\\dfrac{(18-21.6)^2+(19-21.6)^2+(19-21.6)^2+(20-21.6)^2+(20-21.6)^2+\\dots}{10-1} $$"
   ]
  },
  {
   "cell_type": "markdown",
   "metadata": {},
   "source": [
    "La columna de $(y_i-\\bar{y})^2f_i$ da 76.4"
   ]
  },
  {
   "cell_type": "markdown",
   "metadata": {},
   "source": [
    "$$ s^2=\\dfrac{\\sum_{i=1}^{6}(y_i-\\bar{y})^2f_i}{10-1}=\\dfrac{76.4}{9}=8.4883\\dots $$"
   ]
  },
  {
   "cell_type": "markdown",
   "metadata": {},
   "source": [
    "A) 2.91\n",
    "\n",
    "B) 5.37\n",
    "\n",
    "C) 7.64\n",
    "\n",
    "D) 8.49"
   ]
  },
  {
   "cell_type": "markdown",
   "metadata": {},
   "source": [
    "**Solución:** D)"
   ]
  },
  {
   "cell_type": "markdown",
   "metadata": {},
   "source": [
    "**3. Es la desviación estándar del IMC redondeado de la muestra del grupo 501**"
   ]
  },
  {
   "cell_type": "markdown",
   "metadata": {},
   "source": [
    "$$ s=\\sqrt{s^2}=\\sqrt{8.4883\\dots}=2.91\\dots $$"
   ]
  },
  {
   "cell_type": "markdown",
   "metadata": {},
   "source": [
    "A) 2.91\n",
    "\n",
    "B) 2.76\n",
    "\n",
    "C) 2.31\n",
    "\n",
    "D) 1.7"
   ]
  },
  {
   "cell_type": "markdown",
   "metadata": {},
   "source": [
    "**Solución:** A"
   ]
  },
  {
   "cell_type": "markdown",
   "metadata": {},
   "source": [
    "## Situación: Análisis de datos agrupados"
   ]
  },
  {
   "cell_type": "markdown",
   "metadata": {},
   "source": [
    "Ana encontró resultados interesantes sobre la muestra del IMC, sin embargo se dio a la tarea de recabar los índices de masa corporal de 128 compañeros de quinto año de su plantel con el propósito de organizarlos en una tabla de frecuencias y analizarlos. Ana se dio cuenta que resultaba muy difícil ordenarv los datos como lo hizo cuando tenía 10 datos e investigó cómo podía hacerlo. La información la concentró en una tabla de distribución de frecuencias como se muestra en la siguiente tabla:"
   ]
  },
  {
   "cell_type": "markdown",
   "metadata": {},
   "source": [
    "<img src=\"tabla4-5.png\" align=\"middle\" width=\"500\">"
   ]
  },
  {
   "cell_type": "markdown",
   "metadata": {},
   "source": [
    "| No.<br>Clase |     Clases (intervalos)   | Valor<br>medio de<br>clase | Frecuencia<br>absoluta | Frecuencia<br>relativa | Frecuencia<br>acumulada<br>absoluta |\n",
    "|:------------:|:-------------:|:--------------------------:|------------------------|:----------------------:|:-----------------------------------:|\n",
    "|       1      | $(14.5,16.5]$ |            15.5            | 1                      |    $\\dfrac{1}{128}$    |                  1                  |\n",
    "|       2      | $(16.5,18.5]$ |            17.5            | 15                     |    $\\dfrac{15}{128}$   |                  16                 |\n",
    "|       3      | $(18.5,20.5]$ |            19.5            | 34                     |    $\\dfrac{34}{128}$   |                  50                 |\n",
    "|       4      |      $(20.5, 22.5]$      |            21.5            | 30                     |    $\\dfrac{30}{128}$   |                  80                 |\n",
    "|       5      | $(22.5,24.5]$ |            23.5            | 27                     |    $\\dfrac{27}{128}$   |                 107                 |\n",
    "|       6      | $(24.5,26.5]$ |            25.5            | 10                    |    $\\dfrac{10}{128}$   |                 117                 |\n",
    "|       7      | $(26.5,28.5]$ |            27.5            | 9                      |    $\\dfrac{9}{128}$    |                 126                 |\n",
    "|       8      | $(28.5,30.5]$ |            29.5            | 2                      |    $\\dfrac{2}{128}$    |                 128                 |"
   ]
  },
  {
   "cell_type": "markdown",
   "metadata": {},
   "source": [
    "**1. ¿Cuál es la clase que falta?**"
   ]
  },
  {
   "cell_type": "markdown",
   "metadata": {},
   "source": [
    "A) (20.5, 22.5]\n",
    "\n",
    "B) [20.5, 22.5)\n",
    "\n",
    "C) [20.6, 22.4]\n",
    "\n",
    "D) (20.6, 22.4]"
   ]
  },
  {
   "cell_type": "markdown",
   "metadata": {},
   "source": [
    "**Solución:** A)"
   ]
  },
  {
   "cell_type": "markdown",
   "metadata": {},
   "source": [
    "**2. ¿Cuál es el ancho de los intervalos?**"
   ]
  },
  {
   "cell_type": "markdown",
   "metadata": {},
   "source": [
    "$$ \\text{ancho de intervalo}=\\text{límite superior}-\\text{límite inferior} $$"
   ]
  },
  {
   "cell_type": "markdown",
   "metadata": {},
   "source": [
    "A) 1.999\n",
    "\n",
    "B) 2\n",
    "\n",
    "C) 14.999\n",
    "\n",
    "D) 16"
   ]
  },
  {
   "cell_type": "markdown",
   "metadata": {},
   "source": [
    "**Solución:** B)"
   ]
  },
  {
   "cell_type": "markdown",
   "metadata": {},
   "source": [
    "**3. ¿Cuál es la clase de mayor frecuencia?**"
   ]
  },
  {
   "cell_type": "markdown",
   "metadata": {},
   "source": [
    "A) (28.5, 30.5]\n",
    "\n",
    "B) (24.5, 26.5]\n",
    "\n",
    "C) (20.5, 22.5]\n",
    "\n",
    "D) (18.5, 20.5]"
   ]
  },
  {
   "cell_type": "markdown",
   "metadata": {},
   "source": [
    "**Solución:** D)"
   ]
  },
  {
   "cell_type": "markdown",
   "metadata": {},
   "source": [
    "**4. ¿Qué porcentaje de los jóvenes tienen un índice de masa corporal mayor que 18.5 y menor o igual que 24.5?**"
   ]
  },
  {
   "cell_type": "markdown",
   "metadata": {},
   "source": [
    "Sumamos las frecuencias absolutas de las 3, 4 y 5:"
   ]
  },
  {
   "cell_type": "markdown",
   "metadata": {},
   "source": [
    "$$ \\dfrac{34+30+27}{128}\\cdot100 $$"
   ]
  },
  {
   "cell_type": "markdown",
   "metadata": {},
   "source": [
    "A) 28.9 %\n",
    "\n",
    "B) 50%\n",
    "\n",
    "C) 54.4 %\n",
    "\n",
    "D) 71.09 %\n"
   ]
  },
  {
   "cell_type": "markdown",
   "metadata": {},
   "source": [
    "**Solución:** D)"
   ]
  },
  {
   "cell_type": "markdown",
   "metadata": {},
   "source": [
    "**5. ¿Cuál es el porcentaje acumulado hasta el quinto intervalo?**"
   ]
  },
  {
   "cell_type": "markdown",
   "metadata": {},
   "source": [
    "$$ \\dfrac{107}{128}\\cdot100 $$"
   ]
  },
  {
   "cell_type": "markdown",
   "metadata": {},
   "source": [
    "A) 21.09%\n",
    "\n",
    "B) 23.5%\n",
    "\n",
    "C) 78.90%\n",
    "\n",
    "D) 83.59%"
   ]
  },
  {
   "cell_type": "markdown",
   "metadata": {},
   "source": [
    "**Solución:** D)"
   ]
  },
  {
   "cell_type": "markdown",
   "metadata": {},
   "source": [
    "**6. Calcula la media aritmética.**"
   ]
  },
  {
   "cell_type": "markdown",
   "metadata": {},
   "source": [
    "A) 19.50\n",
    "\n",
    "B) 21.73\n",
    "\n",
    "C) 22.50\n",
    "\n",
    "D) 25.54"
   ]
  },
  {
   "cell_type": "markdown",
   "metadata": {},
   "source": [
    "**Solución:** "
   ]
  },
  {
   "cell_type": "markdown",
   "metadata": {},
   "source": [
    "**7. Calcula la desviación estándar de la muestra.**"
   ]
  },
  {
   "cell_type": "markdown",
   "metadata": {},
   "source": [
    "| No.<br>Clase | Clases (intervalos) | Valor medio de<br>clase ($m_i$) | Frecuencia<br>absoluta | $ m_i\\cdot f_i $ | $(m_i-\\bar{m})$ | $(m_i-\\bar{m})^2$ | $(m_i-\\bar{m})^2f_i$ |\n",
    "|--------------|---------------------|---------------------------------|------------------------|------------------|-----------------|-------------------|----------------------|\n",
    "| 1            | $(14.5,16.5]$       | 15.5                            | 1                      | 15.5                   | -6.234375       | 38.867431640625     | 38.867431640625      |\n",
    "| 2            | $(16.5,18.5]$       | 17.5                            | 15                     | 262.5                 | -4.234375       | 17.929931640625     | 268.948974609375     |\n",
    "| 3            | $(18.5,20.5]$       | 19.5                            | 34                     | 663.0                 | -2.234375       |  4.992431640625     | 169.742675781250     |\n",
    "| 4            | $(20.5, 22.5]$      | 21.5                            | 30                     | 645.0                 | -0.234375       |  0.054931640625     | 1.64794921875        |\n",
    "| 5            | $(22.5,24.5]$       | 23.5                            | 27                     | 634.5                 | +1.765625       |  3.117431640625     | 84.170654296875      |\n",
    "| 6            | $(24.5,26.5]$       | 25.5                            | 10                     | 255.0                 | +3.765625       | 14.179931640625     | 141.79931640625      |\n",
    "| 7            | $(26.5,28.5]$       | 27.5                            | 9                      | 247.5                 | +5.765625       | 33.242431640625     | 299.181884765625     |\n",
    "| 8            | $(28.5,30.5]$       | 29.5                            | 2                      | 59.0                   | +7.765625       | 60.304931640625     | 120.60986328125      |\n",
    "| Total        | $ $                 | $ $                             | 128                    | $\\bar{m} =21.734375$ | $ $           | $ $                 | $ $                  |"
   ]
  },
  {
   "cell_type": "code",
   "execution_count": null,
   "metadata": {},
   "outputs": [],
   "source": [
    "A = collect(15.5:2:29.5)\n",
    "f = [1, 15, 34, 30, 27, 10, 9, 2]\n",
    "sum((A.-21.734375).^2 .*f)"
   ]
  },
  {
   "cell_type": "markdown",
   "metadata": {},
   "source": [
    "La suma de la columna $m_i\\cdot f_i$ nos da 2782."
   ]
  },
  {
   "cell_type": "markdown",
   "metadata": {},
   "source": [
    "$$ \\bar{y}=\\dfrac{\\sum_{i=1}^8 m_i\\cdot f_i}{n}=\\dfrac{2782}{128}=21.734375$$"
   ]
  },
  {
   "cell_type": "markdown",
   "metadata": {},
   "source": [
    "La suma de la columna $(m_i-\\bar{m})^2f_i$ nos da 1124.96875. Entonces, la varianza es"
   ]
  },
  {
   "cell_type": "markdown",
   "metadata": {},
   "source": [
    "$$ s^2=\\dfrac{\\sum_{i=1}^8 (m_i-\\bar{y})^2 f_i}{n-1}=\\dfrac{2782}{128-1}=8.8580\\dots$$"
   ]
  },
  {
   "cell_type": "code",
   "execution_count": null,
   "metadata": {},
   "outputs": [],
   "source": [
    "1124.96875/127"
   ]
  },
  {
   "cell_type": "raw",
   "metadata": {},
   "source": [
    "Pero nos preguntan la desviación estándar, que es la raíz cuadrada de la varianza:"
   ]
  },
  {
   "cell_type": "markdown",
   "metadata": {},
   "source": [
    "$$ s=\\sqrt{s^2}=\\sqrt{8.8580\\dots}=2.9762\\dots$$"
   ]
  },
  {
   "cell_type": "code",
   "execution_count": null,
   "metadata": {},
   "outputs": [],
   "source": [
    "sqrt(8.858021653543307)"
   ]
  },
  {
   "cell_type": "markdown",
   "metadata": {},
   "source": [
    "A) 8.85\n",
    "\n",
    "B) 4.66\n",
    "\n",
    "C) 2.98\n",
    "\n",
    "D) 1.42"
   ]
  },
  {
   "cell_type": "markdown",
   "metadata": {},
   "source": [
    "**Solución:** C)"
   ]
  },
  {
   "cell_type": "markdown",
   "metadata": {},
   "source": [
    "**8.  Con base en la gráfica, es el enunciado que describe el comportamiento de los datos del IMC de los 128 alumnos encuestados.**"
   ]
  },
  {
   "cell_type": "markdown",
   "metadata": {},
   "source": [
    "<img src=\"graf4-1.png\" align=\"middle\" width=\"500\">"
   ]
  },
  {
   "cell_type": "markdown",
   "metadata": {},
   "source": [
    "A) La distribución es asimétrica hacia la derecha\n",
    "\n",
    "B) La distribución es bimodal\n",
    "\n",
    "C) El 15% de los estudiantes tiene un IMC en el intervalo (16.5, 18.5]\n",
    "\n",
    "D) La mayoría de los alumnos de la Preparatoria 10 tienen su IMC menor a 25"
   ]
  },
  {
   "cell_type": "markdown",
   "metadata": {},
   "source": [
    "B) no es ya que no es bimodal porque sólo hay un frecuencia más grande.\n",
    "\n",
    "C) no es ya que una frecuencia absoluta de 15 no es lo mismo que 15%. De hecho, para obtener el porcentaje tendríamos que realizar la operación $\\dfrac{15}{128}\\cdot100$, la cual no es 15%.\n",
    "\n",
    "D) podría tener sentido ya que, aproximadamente, 17 personas tienen un IMC mayor a 25. Pero estas 17 personas pertenecen a la muestra de 128 estudiantes. No podemos extender estas conclusiones a la población de toda la preparatoria.\n",
    "\n",
    "La más cercana a una respuesta correcta es A): no tenemos simetría respecto a la mitad de la gráfica."
   ]
  },
  {
   "cell_type": "markdown",
   "metadata": {},
   "source": [
    "**Solución:** A)"
   ]
  },
  {
   "cell_type": "markdown",
   "metadata": {},
   "source": [
    "**9. El enunciado que describe el gráfico de dispersión.**"
   ]
  },
  {
   "cell_type": "markdown",
   "metadata": {},
   "source": [
    "<img src=\"graf4-2.png\" align=\"middle\" width=\"500\">"
   ]
  },
  {
   "cell_type": "markdown",
   "metadata": {},
   "source": [
    "A) Las variables tienen una correlación lineal negativa fuerte\n",
    "\n",
    "B) La muestra de la que se obtuvo la información no es representativa\n",
    "\n",
    "C) Las variables tienen una correlación positiva débil\n",
    "\n",
    "D) Los individuos con mayor IMC tienden a acumular más grasa en su cuerpo"
   ]
  },
  {
   "cell_type": "markdown",
   "metadata": {},
   "source": [
    "A) no es ya que no es la pendiente de la recta que ajusta no es negativa ni es fuerte ya que los puntos no quedan cerca de una misma recta.\n",
    "\n",
    "B) no es ya que la muestra sí es representativa (es decir, 128 estudiantes seleccionados al azar implican un buen estudio de salud).\n",
    "\n",
    "D) No necesariamente ya que hay puntos muy a la derecha que tiene la misma altura que algunos puntos a la izquierda. Por ejemplo, los puntos con coordenadas $(25,35)$ y $(30,35)$. Quiere decir que hay dos personas que tiene el mismo porcentaje de grasa corporal pero distinto IMC.\n",
    "\n",
    "La más cercana a una respuesta correcta es C): la recta que podríamos ajusta tiene pendiente positiva pero los puntos no se acerca mucho a la recta (débil)."
   ]
  },
  {
   "cell_type": "markdown",
   "metadata": {},
   "source": [
    "**Solución:** C)"
   ]
  },
  {
   "cell_type": "markdown",
   "metadata": {},
   "source": [
    "## Situación: Internautas mexicanos"
   ]
  },
  {
   "cell_type": "markdown",
   "metadata": {},
   "source": [
    "Los últimos estuidos elaborados por la Asociación de Internet en México para el año 2017 muestran el perfil de los internautas mexicanos. El estudio de esta estadística se realizo con una muestra de 2000 usuarios. Dando por resultado los siguientes datos. (Asociación de Internet Mx, 2019). Nota: Los datos contienen pequeñas modificaciones para fines educativos."
   ]
  },
  {
   "cell_type": "markdown",
   "metadata": {},
   "source": [
    "<img src=\"tablaA1.png\" align=\"middle\" width=\"500\">"
   ]
  },
  {
   "cell_type": "markdown",
   "metadata": {},
   "source": [
    "**1. Según la gráfica correspondiente al Nivel Socio Económico (NSE) la variable que se utiliza es:**"
   ]
  },
  {
   "cell_type": "markdown",
   "metadata": {},
   "source": [
    "A) Cuantitativa Discreta\n",
    "\n",
    "B) Cuantitativa Continua\n",
    "\n",
    "C) Cualitativa Nominal\n",
    "\n",
    "D) Cualitativa Ordinal"
   ]
  },
  {
   "cell_type": "markdown",
   "metadata": {},
   "source": [
    "**Solución:**"
   ]
  },
  {
   "cell_type": "markdown",
   "metadata": {},
   "source": [
    "**2. Si el tamaño de la muestra es de 2000, ¿Cuáles la frecuencia absoluta para el grupo de edad de 25 a 34 años?**"
   ]
  },
  {
   "cell_type": "markdown",
   "metadata": {},
   "source": [
    "A) 280\n",
    "\n",
    "B) 340\n",
    "\n",
    "C) 360\n",
    "\n",
    "D) 380"
   ]
  },
  {
   "cell_type": "markdown",
   "metadata": {},
   "source": [
    "**Solución:**"
   ]
  },
  {
   "cell_type": "markdown",
   "metadata": {},
   "source": [
    "**3. La media aritmética de este grupo de datos es:**"
   ]
  },
  {
   "cell_type": "markdown",
   "metadata": {},
   "source": [
    "A) 23.73 años\n",
    "\n",
    "B) 27.75 años\n",
    "\n",
    "C) 29.25 años\n",
    "\n",
    "D) 31.77 años"
   ]
  },
  {
   "cell_type": "markdown",
   "metadata": {},
   "source": [
    "**Solución:** B)"
   ]
  },
  {
   "cell_type": "markdown",
   "metadata": {},
   "source": [
    "**4. La desviación estándar de este conjunto de datos es:**"
   ]
  },
  {
   "cell_type": "markdown",
   "metadata": {},
   "source": [
    "A) 14.42 años\n",
    "\n",
    "B) 16.23 años\n",
    "\n",
    "C) 208.12 años\n",
    "\n",
    "D) 263.53 años"
   ]
  },
  {
   "cell_type": "markdown",
   "metadata": {},
   "source": [
    "**Solución:** B)"
   ]
  },
  {
   "cell_type": "markdown",
   "metadata": {},
   "source": [
    "## Situación: Ingreso familiar mensual"
   ]
  },
  {
   "cell_type": "markdown",
   "metadata": {},
   "source": [
    "En la siguiente distribución de frecuencias se indica el ingreso familiar mensual de los alumnos de primer ingreso del plantel 5 “José Vasconcelos” de la ENP en el año 2017."
   ]
  },
  {
   "cell_type": "markdown",
   "metadata": {},
   "source": [
    "<img src=\"tablaB1.png\" align=\"middle\" width=\"500\">"
   ]
  },
  {
   "cell_type": "markdown",
   "metadata": {},
   "source": [
    "**1. El número de alumnos que ingresaron en 2017 a la prepa 5 es:**"
   ]
  },
  {
   "cell_type": "markdown",
   "metadata": {},
   "source": [
    "A) 2966\n",
    "\n",
    "B) 2967\n",
    "\n",
    "C) 2968\n",
    "\n",
    "D) 2969"
   ]
  },
  {
   "cell_type": "markdown",
   "metadata": {},
   "source": [
    "**Solución:**"
   ]
  },
  {
   "cell_type": "markdown",
   "metadata": {},
   "source": [
    "**2. El porcentaje de alumnos que tienen un ingreso familiar de menos de 6 salarios mínimos es:**"
   ]
  },
  {
   "cell_type": "markdown",
   "metadata": {},
   "source": [
    "A) 22.17%\n",
    "\n",
    "B) 49.75%\n",
    "\n",
    "C) 71.92%\n",
    "\n",
    "D) 84.36%"
   ]
  },
  {
   "cell_type": "markdown",
   "metadata": {},
   "source": [
    "**Solución:**"
   ]
  },
  {
   "cell_type": "markdown",
   "metadata": {},
   "source": [
    "**3. La variable involucrada en el estudio es:**"
   ]
  },
  {
   "cell_type": "markdown",
   "metadata": {},
   "source": [
    "A) Año de ingreso a la UNAM\n",
    "\n",
    "B) Alumnos de nuevo ingreso de la prepa 5\n",
    "\n",
    "C) Ingreso familiar mensual\n",
    "\n",
    "D) No. de salarios mínimos obtenidos mensualmente"
   ]
  },
  {
   "cell_type": "markdown",
   "metadata": {},
   "source": [
    "**Solución:**"
   ]
  },
  {
   "cell_type": "markdown",
   "metadata": {},
   "source": [
    "**4. La gráfica que representa la ojiva en porcentajes es:**"
   ]
  },
  {
   "cell_type": "markdown",
   "metadata": {},
   "source": [
    "A)\n",
    "\n",
    "<img src=\"grafBa.png\" align=\"middle\" width=\"500\">"
   ]
  },
  {
   "cell_type": "markdown",
   "metadata": {},
   "source": [
    "B)\n",
    "\n",
    "<img src=\"grafBb.png\" align=\"middle\" width=\"500\">"
   ]
  },
  {
   "cell_type": "markdown",
   "metadata": {},
   "source": [
    "C)\n",
    "\n",
    "<img src=\"grafBc.png\" align=\"middle\" width=\"500\">"
   ]
  },
  {
   "cell_type": "markdown",
   "metadata": {},
   "source": [
    "D)\n",
    "\n",
    "<img src=\"grafBd.png\" align=\"middle\" width=\"500\">"
   ]
  },
  {
   "cell_type": "markdown",
   "metadata": {},
   "source": [
    "**Solución:**"
   ]
  }
 ],
 "metadata": {
  "@webio": {
   "lastCommId": null,
   "lastKernelId": null
  },
  "kernelspec": {
   "display_name": "Julia 1.1.0",
   "language": "julia",
   "name": "julia-1.1"
  },
  "language_info": {
   "file_extension": ".jl",
   "mimetype": "application/julia",
   "name": "julia",
   "version": "1.1.0"
  }
 },
 "nbformat": 4,
 "nbformat_minor": 4
}
