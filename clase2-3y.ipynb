{
 "cells": [
  {
   "cell_type": "markdown",
   "metadata": {},
   "source": [
    "# Pensamiento geométrico para visualizar y argumentar"
   ]
  },
  {
   "cell_type": "markdown",
   "metadata": {},
   "source": [
    "# Clase 3"
   ]
  },
  {
   "cell_type": "markdown",
   "metadata": {},
   "source": [
    "**Caso #3:** Es un problema donde sólo nos dan un dato explícitamente, y otro dato no explícitamente."
   ]
  },
  {
   "cell_type": "markdown",
   "metadata": {},
   "source": [
    "* ***Ejemplo:*** Una persona ve la cima de una montaña cuando le apunta con un telescopio que forma $30^\\circ$ con el piso. Se aleja $2\\ \\rm{km}$ y ahora apunta el telescopio de tal manera que mantenga un ángulo de $25^\\circ$ con el piso. Si la altura del telescopio respecto del piso es de $0.5\\ \\rm{m}$, ¿podemos saber la altura de la montaña?"
   ]
  },
  {
   "cell_type": "markdown",
   "metadata": {},
   "source": [
    "<img src=\"montana.png\" align=\"middle\" width=\"900\">"
   ]
  },
  {
   "cell_type": "markdown",
   "metadata": {},
   "source": [
    "Nuestro propósito es calcular $x$."
   ]
  },
  {
   "cell_type": "markdown",
   "metadata": {},
   "source": [
    "$$ \\tan 30^\\circ=\\dfrac{x}{d} $$"
   ]
  },
  {
   "cell_type": "markdown",
   "metadata": {},
   "source": [
    "$$ \\tan 25^\\circ=\\dfrac{x}{d+2} $$"
   ]
  },
  {
   "cell_type": "code",
   "execution_count": 2,
   "metadata": {},
   "outputs": [
    {
     "data": {
      "text/plain": [
       "0.5773502691896258"
      ]
     },
     "execution_count": 2,
     "metadata": {},
     "output_type": "execute_result"
    }
   ],
   "source": [
    "tand(30)"
   ]
  },
  {
   "cell_type": "code",
   "execution_count": 3,
   "metadata": {},
   "outputs": [
    {
     "data": {
      "text/plain": [
       "0.46630765815499864"
      ]
     },
     "execution_count": 3,
     "metadata": {},
     "output_type": "execute_result"
    }
   ],
   "source": [
    "tand(25)"
   ]
  },
  {
   "cell_type": "markdown",
   "metadata": {},
   "source": [
    "$$ 0.577=\\dfrac{x}{d} $$"
   ]
  },
  {
   "cell_type": "markdown",
   "metadata": {},
   "source": [
    "$$ 0.577d=x $$"
   ]
  },
  {
   "cell_type": "markdown",
   "metadata": {},
   "source": [
    "$$ d=\\dfrac{x}{0.577} $$"
   ]
  },
  {
   "cell_type": "markdown",
   "metadata": {},
   "source": [
    "$$ 0.466=\\dfrac{x}{d+2} $$"
   ]
  },
  {
   "cell_type": "markdown",
   "metadata": {},
   "source": [
    "$$ 0.466=\\dfrac{x}{\\frac{x}{0.577}+2} $$"
   ]
  },
  {
   "cell_type": "markdown",
   "metadata": {},
   "source": [
    "$$ 0.466\\left(\\dfrac{x}{0.577}+2\\right)=x $$"
   ]
  },
  {
   "cell_type": "markdown",
   "metadata": {},
   "source": [
    "$$ \\dfrac{0.466x}{0.577}+2\\cdot0.466=x $$"
   ]
  },
  {
   "cell_type": "markdown",
   "metadata": {},
   "source": [
    "$$ \\dfrac{0.466x}{0.577}+2\\cdot0.466=x $$"
   ]
  },
  {
   "cell_type": "markdown",
   "metadata": {},
   "source": [
    "$$ 0.8076x+0.932=x $$"
   ]
  },
  {
   "cell_type": "markdown",
   "metadata": {},
   "source": [
    "$$ 0.8076x=x-0.932 $$"
   ]
  },
  {
   "cell_type": "markdown",
   "metadata": {},
   "source": [
    "$$ 0.8076x-x=-0.932 $$"
   ]
  },
  {
   "cell_type": "markdown",
   "metadata": {},
   "source": [
    "$$ -0.1924x=-0.932 $$"
   ]
  },
  {
   "cell_type": "markdown",
   "metadata": {},
   "source": [
    "$$ x=\\dfrac{-0.932}{-0.1924}=4.844 $$"
   ]
  },
  {
   "cell_type": "markdown",
   "metadata": {},
   "source": [
    "4.844 km=4844m"
   ]
  },
  {
   "cell_type": "markdown",
   "metadata": {},
   "source": [
    "Altura=4844.5 m"
   ]
  },
  {
   "cell_type": "markdown",
   "metadata": {},
   "source": [
    "## El área de cualquier triángulo"
   ]
  },
  {
   "cell_type": "markdown",
   "metadata": {},
   "source": [
    "### La altura de cualquier triángulo"
   ]
  },
  {
   "cell_type": "markdown",
   "metadata": {},
   "source": [
    "<img src=\"triangulo.png\" align=\"middle\" width=\"300\">"
   ]
  },
  {
   "cell_type": "markdown",
   "metadata": {},
   "source": [
    "<img src=\"triangulo_altura.png\" align=\"middle\" width=\"300\">"
   ]
  },
  {
   "cell_type": "markdown",
   "metadata": {},
   "source": [
    "*La altura siempre es perpendicular a la base.*"
   ]
  },
  {
   "cell_type": "markdown",
   "metadata": {},
   "source": [
    "**Para el triángulo (rectángulo) $ \\Delta ABD $:**"
   ]
  },
  {
   "cell_type": "markdown",
   "metadata": {},
   "source": [
    "$$ \\sin A=\\dfrac{h}{c} $$"
   ]
  },
  {
   "cell_type": "markdown",
   "metadata": {},
   "source": [
    "$$ h=c\\;\\sin A $$"
   ]
  },
  {
   "cell_type": "markdown",
   "metadata": {},
   "source": [
    "**Para el triángulo (rectángulo) $\\Delta BCD$:**"
   ]
  },
  {
   "cell_type": "markdown",
   "metadata": {},
   "source": [
    "$$ \\sin C=\\dfrac{h}{a} $$"
   ]
  },
  {
   "cell_type": "markdown",
   "metadata": {},
   "source": [
    "$$ h=a\\;\\sin C $$"
   ]
  },
  {
   "cell_type": "markdown",
   "metadata": {},
   "source": [
    "*En general tendremos que la altura de cualquier triángulo (perpendicular a algún cateto al que llamaremos \"base\") es el producto de un cateto (que no sea la base) y el seno del ángulo que forma dicho cateto con la base.*"
   ]
  },
  {
   "cell_type": "markdown",
   "metadata": {},
   "source": [
    "### El área  conociendo dos catetos y el ángulo entre ellos"
   ]
  },
  {
   "cell_type": "markdown",
   "metadata": {},
   "source": [
    "<img src=\"triangulo.png\" align=\"middle\" width=\"300\">"
   ]
  },
  {
   "cell_type": "markdown",
   "metadata": {},
   "source": [
    "*\"Para cualquier triángulo el área es la mitad del producto de dos catetos y el seno del ángulo entre estos dos catetos.\"*"
   ]
  },
  {
   "cell_type": "markdown",
   "metadata": {},
   "source": [
    "$$ \\text{Area}=\\dfrac{ab\\sin C}{2}=\\dfrac{bc\\sin A}{2}=\\dfrac{ac\\sin B}{2} $$"
   ]
  },
  {
   "cell_type": "markdown",
   "metadata": {},
   "source": [
    "### El área conociendo tres lados (Fórmula de Herón)"
   ]
  },
  {
   "cell_type": "markdown",
   "metadata": {},
   "source": [
    "<img src=\"triangulo.png\" align=\"middle\" width=\"300\">"
   ]
  },
  {
   "cell_type": "markdown",
   "metadata": {},
   "source": [
    "$$ \\text{Area}=\\sqrt {s\\left(s-a\\right)\\left(s-b\\right)\\left(s-c\\right)}\\ ,$$"
   ]
  },
  {
   "cell_type": "markdown",
   "metadata": {},
   "source": [
    "donde $s=\\dfrac{a+b+c}{2}=\\dfrac{P}{2}$ es el semiperímetro (la mitad del perímetro)."
   ]
  },
  {
   "cell_type": "markdown",
   "metadata": {},
   "source": [
    "* ***Ejemplo:*** Considera un triángulo oblicuángulo con $a=1200\\ mm$, $c=700\\ mm$, y $B=108^\\circ$. Calcula su área."
   ]
  },
  {
   "cell_type": "markdown",
   "metadata": {},
   "source": [
    "<img src=\"triangulo.png\" align=\"middle\" width=\"300\">"
   ]
  },
  {
   "cell_type": "markdown",
   "metadata": {},
   "source": [
    "* Datos:\n",
    "    * $a=1200\\ mm$ \n",
    "    * $c=700\\ mm$\n",
    "    * $B=108^\\circ$\n",
    "    * $\\text{Area}=?$"
   ]
  },
  {
   "cell_type": "markdown",
   "metadata": {},
   "source": [
    "* Fórmulas:"
   ]
  },
  {
   "cell_type": "markdown",
   "metadata": {},
   "source": [
    "$$ \\text{Area}=\\dfrac{ac\\sin B}{2} $$"
   ]
  },
  {
   "cell_type": "markdown",
   "metadata": {},
   "source": [
    "* Sustitución:"
   ]
  },
  {
   "cell_type": "markdown",
   "metadata": {},
   "source": [
    "$$ \\text{Area}=\\dfrac{(1200)(700)\\sin(108^\\circ)}{2}=399443.74\\ mm^2 $$"
   ]
  },
  {
   "cell_type": "code",
   "execution_count": 4,
   "metadata": {},
   "outputs": [
    {
     "data": {
      "text/plain": [
       "399443.7368439645"
      ]
     },
     "execution_count": 4,
     "metadata": {},
     "output_type": "execute_result"
    }
   ],
   "source": [
    "1200*700*sind(108)/2"
   ]
  },
  {
   "cell_type": "markdown",
   "metadata": {},
   "source": [
    "## Triángulos oblicuángulos"
   ]
  },
  {
   "cell_type": "markdown",
   "metadata": {},
   "source": [
    "### Ley de senos\n",
    "\n",
    "Ésta nos sirve cuando:\n",
    "* conocemos dos lados y un ángulo opuesto, y queremos conocer el otro ángulo opuesto\n",
    "* conocemos dos ángulos y un lado opuesto, y queremos conocer el otro lado opuesto"
   ]
  },
  {
   "cell_type": "markdown",
   "metadata": {},
   "source": [
    "$$ \\dfrac{\\sin A}{a}=\\dfrac{\\sin B}{b}=\\dfrac{\\sin C}{c} $$"
   ]
  },
  {
   "cell_type": "markdown",
   "metadata": {},
   "source": [
    "*\"La ley de senos me dice que el cociente del seno de un ángulo y su cateto opuesto es equivalente al seno de otro ángulo y su cateto opuesto\"*"
   ]
  },
  {
   "cell_type": "markdown",
   "metadata": {},
   "source": [
    "<img src=\"triangulo.png\" align=\"middle\" width=\"300\">"
   ]
  },
  {
   "cell_type": "markdown",
   "metadata": {},
   "source": [
    "### Ley de cosenos\n",
    "\n",
    "Ésta nos sirve cuando:\n",
    "* conocemos los tres lados y queremos conocer el ángulo opuesto a cualquiera de los lados\n",
    "* conocemos dos lados y el ángulo entre estos lados, y queremos conocer el lado opuesto a este ángulo."
   ]
  },
  {
   "cell_type": "markdown",
   "metadata": {},
   "source": [
    "*El cuadrado de un lado es igual a la diferencia de la suma de los cuadrados de los otros lados y el doble del producto de los otros lados con el coseno del ángulo opuesto al lado inicial.*"
   ]
  },
  {
   "cell_type": "markdown",
   "metadata": {},
   "source": [
    "$$ a^2=b^2+c^2-2bc\\cos A $$"
   ]
  },
  {
   "cell_type": "markdown",
   "metadata": {},
   "source": [
    "$$ b^2=a^2+c^2-2ac\\cos B $$"
   ]
  },
  {
   "cell_type": "markdown",
   "metadata": {},
   "source": [
    "$$ c^2=a^2+b^2-2ab\\cos C $$"
   ]
  },
  {
   "cell_type": "markdown",
   "metadata": {},
   "source": [
    "<img src=\"triangulo.png\" align=\"middle\" width=\"300\">"
   ]
  },
  {
   "cell_type": "markdown",
   "metadata": {},
   "source": [
    "* ***Ejemplo:*** Considera un triángulo oblicuángulo con $a=4$, $b=5$, y $B=30^\\circ$.\n",
    "    \n",
    "    a) Encuentra $c$."
   ]
  },
  {
   "cell_type": "markdown",
   "metadata": {},
   "source": [
    "<img src=\"triangulo.png\" align=\"middle\" width=\"300\">"
   ]
  },
  {
   "cell_type": "markdown",
   "metadata": {},
   "source": [
    "* Datos:\n",
    "     * $a=4$\n",
    "     * $b=5$\n",
    "     * $B=30^\\circ$\n",
    "     * $c=?$"
   ]
  },
  {
   "cell_type": "markdown",
   "metadata": {},
   "source": [
    "* Fórmulas:"
   ]
  },
  {
   "cell_type": "markdown",
   "metadata": {},
   "source": [
    "$$ c^2=a^2+b^2-2ab\\,\\cos C $$"
   ]
  },
  {
   "cell_type": "markdown",
   "metadata": {},
   "source": [
    "$$ c=\\sqrt{a^2+b^2-2ab\\,\\cos C} $$"
   ]
  },
  {
   "cell_type": "markdown",
   "metadata": {},
   "source": [
    "* Sustitución:"
   ]
  },
  {
   "cell_type": "markdown",
   "metadata": {},
   "source": [
    "$$ c=\\sqrt{4^2+5^2-2(4)(5)\\,\\cos(30^\\circ)} $$"
   ]
  },
  {
   "cell_type": "code",
   "execution_count": 5,
   "metadata": {},
   "outputs": [
    {
     "data": {
      "text/plain": [
       "2.5217025694206003"
      ]
     },
     "execution_count": 5,
     "metadata": {},
     "output_type": "execute_result"
    }
   ],
   "source": [
    "√(4^2+5^2-2*4*5*cosd(30))"
   ]
  },
  {
   "cell_type": "markdown",
   "metadata": {},
   "source": [
    "b) Encuentra $A$."
   ]
  },
  {
   "cell_type": "markdown",
   "metadata": {},
   "source": [
    "* Datos:\n",
    "     * $a=4$\n",
    "     * $b=5$\n",
    "     * $B=30^\\circ$\n",
    "     * $c=2.5217$\n",
    "     * $A=?$"
   ]
  },
  {
   "cell_type": "markdown",
   "metadata": {},
   "source": [
    "<img src=\"triangulo.png\" align=\"middle\" width=\"300\">"
   ]
  },
  {
   "cell_type": "markdown",
   "metadata": {},
   "source": [
    "* Fórmulas:"
   ]
  },
  {
   "cell_type": "markdown",
   "metadata": {},
   "source": [
    "$$ a^2=b^2+c^2-2bc\\cos A $$"
   ]
  },
  {
   "cell_type": "markdown",
   "metadata": {},
   "source": [
    "$$ a^2-b^2-c^2=-2bc\\cos A $$"
   ]
  },
  {
   "cell_type": "markdown",
   "metadata": {},
   "source": [
    "$$ \\dfrac{a^2-b^2-c^2}{-2bc}=\\cos A $$"
   ]
  },
  {
   "cell_type": "markdown",
   "metadata": {},
   "source": [
    "$$ \\cos^{-1}\\left(\\dfrac{a^2-b^2-c^2}{-2bc}\\right)= A $$"
   ]
  },
  {
   "cell_type": "markdown",
   "metadata": {},
   "source": [
    "$$ A=\\cos^{-1}\\left(\\dfrac{a^2-b^2-c^2}{-2bc}\\right) $$"
   ]
  },
  {
   "cell_type": "markdown",
   "metadata": {},
   "source": [
    "* Sustitución:"
   ]
  },
  {
   "cell_type": "markdown",
   "metadata": {},
   "source": [
    "$$ A=\\cos^{-1}\\left(\\dfrac{4^2-5^2-2.5217^2}{-2(5)(2.5217)}\\right)=52.48^\\circ $$"
   ]
  },
  {
   "cell_type": "code",
   "execution_count": 6,
   "metadata": {},
   "outputs": [
    {
     "data": {
      "text/plain": [
       "52.477560778904575"
      ]
     },
     "execution_count": 6,
     "metadata": {},
     "output_type": "execute_result"
    }
   ],
   "source": [
    "acosd((4^2-5^2-2.5217^2)/(-2*5*2.5217))"
   ]
  },
  {
   "cell_type": "markdown",
   "metadata": {},
   "source": [
    "c) Encuentra $C$."
   ]
  },
  {
   "cell_type": "markdown",
   "metadata": {},
   "source": [
    "* Datos:\n",
    "     * $a=4$\n",
    "     * $b=5$\n",
    "     * $B=30^\\circ$\n",
    "     * $c=2.5217$\n",
    "     * $A=52.48^\\circ$\n",
    "     * $C=97.52^\\circ$"
   ]
  },
  {
   "cell_type": "markdown",
   "metadata": {},
   "source": [
    "# Tarea moral"
   ]
  },
  {
   "cell_type": "markdown",
   "metadata": {},
   "source": [
    "* ***Ejemplo:*** Considera un triángulo oblicuángulo con $a=1200$, $c=700$, y $B=108^\\circ$.\n",
    "    \n",
    "a) Encuentra $b$."
   ]
  },
  {
   "cell_type": "markdown",
   "metadata": {},
   "source": [
    "* Fórmulas:"
   ]
  },
  {
   "cell_type": "markdown",
   "metadata": {},
   "source": [
    "* Sustitución:"
   ]
  },
  {
   "cell_type": "markdown",
   "metadata": {},
   "source": [
    "b) Encuentra $A$."
   ]
  },
  {
   "cell_type": "markdown",
   "metadata": {},
   "source": [
    "c) Encuentra $C$."
   ]
  },
  {
   "cell_type": "markdown",
   "metadata": {},
   "source": [
    "## Círculos II"
   ]
  },
  {
   "cell_type": "markdown",
   "metadata": {},
   "source": [
    "<img src=\"circ1.png\" align=\"middle\" width=\"300\">"
   ]
  },
  {
   "cell_type": "markdown",
   "metadata": {},
   "source": [
    "<img src=\"circ2.png\" align=\"middle\" width=\"300\">"
   ]
  },
  {
   "cell_type": "markdown",
   "metadata": {},
   "source": [
    "### Longitud de cuerda"
   ]
  },
  {
   "cell_type": "markdown",
   "metadata": {},
   "source": [
    "<img src=\"cuerda.png\" align=\"middle\" width=\"300\">"
   ]
  },
  {
   "cell_type": "markdown",
   "metadata": {},
   "source": [
    "$$ \\ell=2R\\sin\\left(\\dfrac{\\theta}{2}\\right) $$"
   ]
  },
  {
   "cell_type": "markdown",
   "metadata": {},
   "source": [
    "$$ \\ell=2R\\sin\\left(\\dfrac{\\pi t}{360}\\right) $$"
   ]
  },
  {
   "cell_type": "markdown",
   "metadata": {},
   "source": [
    "* $\\ell$ : longitud de cuerda\n",
    "* $R$ : radio\n",
    "* $\\theta$ : ángulo (radianes)\n",
    "* $t$ : ángulo (grados)"
   ]
  },
  {
   "cell_type": "markdown",
   "metadata": {},
   "source": [
    "### Segmento circular"
   ]
  },
  {
   "cell_type": "markdown",
   "metadata": {},
   "source": [
    "<img src=\"segmento.png\" align=\"middle\" width=\"300\">"
   ]
  },
  {
   "cell_type": "markdown",
   "metadata": {},
   "source": [
    "$$ A=\\dfrac{\\theta R^2}{2}-\\dfrac{R^2\\sin\\theta}{2} $$"
   ]
  },
  {
   "cell_type": "markdown",
   "metadata": {},
   "source": [
    "$$ A=\\dfrac{R^2}{2}(\\theta-\\sin\\theta) $$"
   ]
  },
  {
   "cell_type": "markdown",
   "metadata": {},
   "source": [
    "$$ A=\\dfrac{R^2}{2}\\left[\\dfrac{\\pi t}{180}-\\sin\\left(\\dfrac{\\pi t}{180}\\right)\\right] $$"
   ]
  },
  {
   "cell_type": "markdown",
   "metadata": {},
   "source": [
    "## Situación: El arte Burkina"
   ]
  },
  {
   "cell_type": "markdown",
   "metadata": {},
   "source": [
    "**En un pueblo africano llamado Tiebele en Burkina Faso la corte real se aloja en pequeñas estructuras de adobe (arcilla y arena), que están decoradas con pinturas naturales que forman patrones geométricos. El propósito, además de estético, es para diferenciarlas de las casas de la gente común.**\n",
    "\n",
    "**Tlahuilmalitzin es una artesana mexicana la cual admira el arte de cualquier región. Y quiere pintar una pared con un diseño parecido al de Burkina Faso. Pero ha notado que el tipo de figuras que adornan las paredes en Burkina son sencillas. Lo único que tiene que hacer es decidir su diseño de acuerdo con su presupuesto.**"
   ]
  },
  {
   "cell_type": "markdown",
   "metadata": {},
   "source": [
    "<img src=\"extra1-1.png\" align=\"middle\" width=\"300\">"
   ]
  },
  {
   "cell_type": "markdown",
   "metadata": {},
   "source": [
    "**1. Dado que los anillos están separados a la misma distancia, Tlahuilmalitzin se pregunta si el área gris que se muestra en la siguiente figura, es: [1 punto]**"
   ]
  },
  {
   "cell_type": "markdown",
   "metadata": {},
   "source": [
    "a)  $\\dfrac{1}{2}$ de área del círculo mayor\n",
    "\n",
    "b)  $\\dfrac{3}{4}$ de área del círculo mayor\n",
    "\n",
    "c)  $\\dfrac{3}{8}$ de área del círculo mayor\n",
    "\n",
    "d)  $\\dfrac{5}{8}$ de área del círculo mayor"
   ]
  },
  {
   "cell_type": "markdown",
   "metadata": {},
   "source": [
    "**Solución:** "
   ]
  },
  {
   "cell_type": "markdown",
   "metadata": {},
   "source": [
    "**2. Tlahuilmalitzin hizo otro diseño con las mismas circunferencias del modelo anterior, donde el punto $A$ está sobre la bisectriz del $\\angle CBE$ , si $BC$ mide $1\\ \\rm{dm}$, el área de la estrella es: [2 puntos]**"
   ]
  },
  {
   "cell_type": "markdown",
   "metadata": {},
   "source": [
    "<img src=\"extra1-2.png\" align=\"middle\" width=\"300\">"
   ]
  },
  {
   "cell_type": "markdown",
   "metadata": {},
   "source": [
    "a)  $\\dfrac{\\sqrt{2}}{2}\\ \\rm{dm}^2$\n",
    "\n",
    "b)  $\\sqrt{2}\\ \\rm{dm}^2$\n",
    "\n",
    "c)  $2\\sqrt{2}\\ \\rm{dm}^2$\n",
    "\n",
    "d)  $\\dfrac{\\sqrt{2}}{4}\\ \\rm{dm}^2$"
   ]
  },
  {
   "cell_type": "markdown",
   "metadata": {},
   "source": [
    "**Solución:** "
   ]
  },
  {
   "cell_type": "markdown",
   "metadata": {},
   "source": [
    "**3. Tlahuilmalitzin se pregunta ¿cómo son las áreas grises de ambas figuras? [2 puntos]**"
   ]
  },
  {
   "cell_type": "markdown",
   "metadata": {},
   "source": [
    "<img src=\"extra1-3.png\" align=\"middle\" width=\"300\">"
   ]
  },
  {
   "cell_type": "markdown",
   "metadata": {},
   "source": [
    "a)  El área de los anillos es la mitad que el área de la estrella.\n",
    "\n",
    "b)  El área de los anillos es mayor que la mitad del área de la estrella.\n",
    "\n",
    "c)  El área de los anillos es igual que el área de la estrella.\n",
    "\n",
    "d)  El área de los anillos es menor que la mitad del área de la estrella."
   ]
  },
  {
   "cell_type": "markdown",
   "metadata": {},
   "source": [
    "**Solución:** "
   ]
  },
  {
   "cell_type": "markdown",
   "metadata": {},
   "source": [
    "**4. Tlahuilmalitzin quiere adornar las paredes exteriores de su casa que construirá en Cuernavaca al estilo de las casas de Burkina Faso, ella tiene dos diseños combinando el de los anillos y las estrellas. ¿Cuál es el área en $\\rm{m}^2$ que ocupan todos los añillos de ambos diseños? [3 puntos]**"
   ]
  },
  {
   "cell_type": "markdown",
   "metadata": {},
   "source": [
    "<img src=\"extra1-4.png\" align=\"middle\" width=\"500\">"
   ]
  },
  {
   "cell_type": "markdown",
   "metadata": {},
   "source": [
    "<img src=\"extra1-5.png\" align=\"middle\" width=\"500\">"
   ]
  },
  {
   "cell_type": "markdown",
   "metadata": {},
   "source": [
    "a)  $\\dfrac{5\\pi}{4}\\ \\rm{m}^2$\n",
    "\n",
    "b)  $\\dfrac{13\\pi}{80}\\ \\rm{m}^2$\n",
    "\n",
    "c)  $\\dfrac{13\\pi}{5}\\ \\rm{m}^2$\n",
    "\n",
    "d)  $\\dfrac{\\pi}{8}\\ \\rm{m}^2$"
   ]
  },
  {
   "cell_type": "markdown",
   "metadata": {},
   "source": [
    "**Solución:** "
   ]
  },
  {
   "cell_type": "markdown",
   "metadata": {},
   "source": [
    "## Situación: Satélites artificiales"
   ]
  },
  {
   "cell_type": "markdown",
   "metadata": {},
   "source": [
    "**Un satélite artificial es un ingenio enviado en una lanzadera espacial que se mantiene en órbita alrededor de cuerpos del espacio. Los satélites artificiales orbitan alrededor de satélites naturales, asteroides o planetas. Tras su vida útil, pueden quedar orbitando como basura espacial, o pueden desintegrarse reingresando en la atmósfera (cosa que ocurre solamente si su órbita es de poca altura).**\n",
    "\n",
    "**Fuente: https://es.wikipedia.org/wiki/Sat%C3%A9lite_artificial**"
   ]
  },
  {
   "cell_type": "markdown",
   "metadata": {},
   "source": [
    "a)  $\\dfrac{40000}{\\pi}$\n",
    "\n",
    "b)  $\\dfrac{20000}{\\pi}$\n",
    "\n",
    "c)  $40000\\pi$\n",
    "\n",
    "d)  $20000\\pi$"
   ]
  },
  {
   "cell_type": "markdown",
   "metadata": {},
   "source": [
    "**Solución:** "
   ]
  },
  {
   "cell_type": "markdown",
   "metadata": {},
   "source": [
    "**2. Si un satélite orbita circularmente a $2000\\ \\rm{km}$ de la superficie terrestre, ¿cuántos kilómetros mide la circunferencia de su órbita? [2 puntos]**\n"
   ]
  },
  {
   "cell_type": "markdown",
   "metadata": {},
   "source": [
    "a)  $40000+4000\\pi$\n",
    "\n",
    "b)  $40000-4000\\pi$\n",
    "\n",
    "c)  $\\dfrac{20000+2000\\pi}{\\pi}$\n",
    "\n",
    "d)  $\\dfrac{20000-2000\\pi}{\\pi}$"
   ]
  },
  {
   "cell_type": "markdown",
   "metadata": {},
   "source": [
    "***Solución:***\n"
   ]
  },
  {
   "cell_type": "markdown",
   "metadata": {},
   "source": [
    "**3. Si cada día un satélite recorre un ángulo de $\\dfrac{\\pi}{12}\\ \\rm{rad}$ , ¿cuántos días transcurren para que de una vuelta completa a la Tierra? [2 puntos]**"
   ]
  },
  {
   "cell_type": "markdown",
   "metadata": {},
   "source": [
    "a)  $24$\n",
    "\n",
    "b)  $12$\n",
    "\n",
    "c)  $\\dfrac{1}{24}$\n",
    "\n",
    "d)  $\\dfrac{1}{12}$"
   ]
  },
  {
   "cell_type": "markdown",
   "metadata": {},
   "source": [
    "***Solución:***\n"
   ]
  },
  {
   "cell_type": "markdown",
   "metadata": {},
   "source": [
    "**4.  Se planea lanzar un satélite a una altura de $1,000\\ \\rm{km}$ sobre la superficie terrestre, si este da una vuelta a la Tierra en $10$ días, ¿cuántos kilómetros sobre la superficie terrestre recorrerá cada día el satélite? [3 puntos]**"
   ]
  },
  {
   "cell_type": "markdown",
   "metadata": {},
   "source": [
    "a)  $4000+200\\pi$\n",
    "\n",
    "b)  $200\\pi$\n",
    "\n",
    "c)  $\\dfrac{720000+36000\\pi}{\\pi}$\n",
    "\n",
    "d)  $36000$"
   ]
  },
  {
   "cell_type": "markdown",
   "metadata": {},
   "source": [
    "***Solución:***\n"
   ]
  },
  {
   "cell_type": "markdown",
   "metadata": {},
   "source": [
    "## Situación: Funámbulo"
   ]
  },
  {
   "cell_type": "markdown",
   "metadata": {},
   "source": [
    "Un funámbulo o funambulista es un equilibrista que camina sobre un alambre o cuerda tensada.\n",
    "\n",
    "Paul, que es uno de estos acróbatas, realiza un espectáculo de equilibrio a una altura de $5$ metros sobre el nivel del suelo, caminando sobre un cable de acero tenso entre los puntos $B$ y $C$ de las paredes de dos edificios separadas por $10$ metros, como se puede ver en la figura. Mientras camina del punto $B$ al punto $C$, lo sigue un reflector que se encuentra a $15$ metros de altura, en el punto $R$ de la figura, que provoca que genere una sombra en el piso."
   ]
  },
  {
   "cell_type": "markdown",
   "metadata": {},
   "source": [
    "<img src=\"extra4-1.png\" align=\"middle\" width=\"200\">"
   ]
  },
  {
   "cell_type": "markdown",
   "metadata": {},
   "source": [
    "<img src=\"extra_sol1.png\" align=\"middle\" width=\"300\">"
   ]
  },
  {
   "cell_type": "markdown",
   "metadata": {},
   "source": [
    "**1. Cuando Paul ha recorrido la mitad del cable, la distancia $\\overline{AS}$ que ha recorrido su sombra, redondeada a una décima, es**"
   ]
  },
  {
   "cell_type": "raw",
   "metadata": {},
   "source": [
    "<img src=\"extra_sol2.png\" align=\"middle\" width=\"300\">"
   ]
  },
  {
   "cell_type": "markdown",
   "metadata": {},
   "source": [
    "**Solución:** "
   ]
  },
  {
   "cell_type": "markdown",
   "metadata": {},
   "source": [
    "**2. Cuando el punto sombra $S$ del piso, alcanza la base del edificio en el punto $D$, la distancia que Paul ha recorrido desde el punto $B$ es**"
   ]
  },
  {
   "cell_type": "raw",
   "metadata": {},
   "source": [
    "<img src=\"extra_sol3.png\" align=\"middle\" width=\"300\">"
   ]
  },
  {
   "cell_type": "markdown",
   "metadata": {},
   "source": [
    "**Solución:** "
   ]
  },
  {
   "cell_type": "markdown",
   "metadata": {},
   "source": [
    "**3. Cuando el punto sombra $S$ del piso llega al punto $D$, en ese instante se apaga el proyector que está en el punto $R$ y se prende otro proyector en el punto $A$ del piso y también provoca el punto $P$ de apoyo de Paul un punto sombra $S^{\\prime}$, pero ahora sobre la pared $DG$ ¿A qué altura de la pared $DG$ (medida desde el piso), se encuentra el punto sombra en el instante en que se prende el proyector que se encuentra en $A$?**"
   ]
  },
  {
   "cell_type": "raw",
   "metadata": {},
   "source": [
    "<img src=\"extra_sol4.png\" align=\"middle\" width=\"300\">"
   ]
  },
  {
   "cell_type": "markdown",
   "metadata": {},
   "source": [
    "**Solución:** "
   ]
  },
  {
   "cell_type": "markdown",
   "metadata": {},
   "source": [
    "## Situación: Estrellas\n",
    "\n",
    "**1. El lado de un triángulo equilátero mide $x$ unidades. Su área, en unidades cuadradas, es (2 puntos)**"
   ]
  },
  {
   "cell_type": "markdown",
   "metadata": {},
   "source": [
    "<img src=\"equi.png\" align=\"middle\" width=\"200\">"
   ]
  },
  {
   "cell_type": "markdown",
   "metadata": {},
   "source": [
    "a)  $\\dfrac{3x^2}{2}$\n",
    "\n",
    "b)  $\\dfrac{\\sqrt{3}x^2}{4}$\n",
    "\n",
    "c)  $\\dfrac{x^2}{2}$\n",
    "\n",
    "d)  $\\dfrac{\\sqrt{3}x^2}{2}$"
   ]
  },
  {
   "cell_type": "markdown",
   "metadata": {},
   "source": [
    "**Solución:** "
   ]
  },
  {
   "cell_type": "markdown",
   "metadata": {},
   "source": [
    "<img src=\"extra2-1.png\" align=\"middle\" width=\"200\">"
   ]
  },
  {
   "cell_type": "markdown",
   "metadata": {},
   "source": [
    "a)  $\\dfrac{1}{3}$\n",
    "\n",
    "b)  $\\dfrac{1}{8}$\n",
    "\n",
    "c)  $\\dfrac{1}{4}$\n",
    "\n",
    "d)  $\\dfrac{1}{9}$"
   ]
  },
  {
   "cell_type": "markdown",
   "metadata": {},
   "source": [
    "**Solución:** "
   ]
  },
  {
   "cell_type": "markdown",
   "metadata": {},
   "source": [
    "**3. En la siguiente figura se muestra un segmento $AB$, cuya longitud vale $a$ unidades. El área sombreada, en unidades cuadradas, es (2 puntos)**"
   ]
  },
  {
   "cell_type": "markdown",
   "metadata": {},
   "source": [
    "<img src=\"extra2-2.png\" align=\"middle\" width=\"200\">"
   ]
  },
  {
   "cell_type": "markdown",
   "metadata": {},
   "source": [
    "a)  $\\dfrac{\\sqrt{3}a^2}{3}$\n",
    "\n",
    "b)  $\\dfrac{2\\sqrt{3}a^2}{3}$\n",
    "\n",
    "c)  $\\dfrac{\\sqrt{3}a^2}{4}$\n",
    "\n",
    "d)  $\\dfrac{3\\sqrt{3}a^2}{4}$"
   ]
  },
  {
   "cell_type": "markdown",
   "metadata": {},
   "source": [
    "**Solución:** "
   ]
  },
  {
   "cell_type": "markdown",
   "metadata": {},
   "source": [
    "**4. El segmento $AB$ de la siguiente figura tiene una longitud $a$. Entonces el área de la figura sombreada es (2 puntos)**"
   ]
  },
  {
   "cell_type": "markdown",
   "metadata": {},
   "source": [
    "<img src=\"extra2-3.png\" align=\"middle\" width=\"200\">"
   ]
  },
  {
   "cell_type": "markdown",
   "metadata": {},
   "source": [
    "a)  $\\dfrac{10\\sqrt{3}a^2}{27}$\n",
    "\n",
    "b)  $\\dfrac{14\\sqrt{3}a^2}{27}$\n",
    "\n",
    "c)  $\\dfrac{5\\sqrt{3}a^2}{9}$\n",
    "\n",
    "d)  $\\dfrac{7\\sqrt{3}a^2}{9}$"
   ]
  },
  {
   "cell_type": "markdown",
   "metadata": {},
   "source": [
    "**Solución:** "
   ]
  }
 ],
 "metadata": {
  "kernelspec": {
   "display_name": "Julia 1.1.0",
   "language": "julia",
   "name": "julia-1.1"
  },
  "language_info": {
   "file_extension": ".jl",
   "mimetype": "application/julia",
   "name": "julia",
   "version": "1.1.0"
  }
 },
 "nbformat": 4,
 "nbformat_minor": 4
}
