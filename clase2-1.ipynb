{
 "cells": [
  {
   "cell_type": "markdown",
   "metadata": {},
   "source": [
    "# Pensamiento geométrico para visualizar y argumentar"
   ]
  },
  {
   "cell_type": "markdown",
   "metadata": {},
   "source": [
    "# Clase 1"
   ]
  },
  {
   "cell_type": "markdown",
   "metadata": {},
   "source": [
    "## Los elementos geométricos"
   ]
  },
  {
   "cell_type": "markdown",
   "metadata": {},
   "source": [
    "* **El punto**\n",
    "\n",
    "Es la unidad mínima de la geometría y nos una posición."
   ]
  },
  {
   "cell_type": "markdown",
   "metadata": {},
   "source": [
    "* **La recta**\n",
    "\n",
    "Una línea que se extiende indefinidamente en una misma dirección."
   ]
  },
  {
   "cell_type": "markdown",
   "metadata": {},
   "source": [
    "* **El segmento**\n",
    "\n",
    "Es un pedazo de recta entre dos puntos."
   ]
  },
  {
   "cell_type": "markdown",
   "metadata": {},
   "source": [
    "Los puntos los designaremos mediante letras mayúsculas. Para hablar de un segmento tomaremos las letras de dos puntos que se encuentre en los extremos que delimitan a mi segmento. "
   ]
  },
  {
   "cell_type": "markdown",
   "metadata": {},
   "source": [
    "## Puntos, rectas y segmentos en una dimensión"
   ]
  },
  {
   "cell_type": "markdown",
   "metadata": {},
   "source": [
    "*Puntos colineales* son aquellos puntos que se encuentran sobre una misma recta."
   ]
  },
  {
   "cell_type": "markdown",
   "metadata": {},
   "source": [
    "**¿Cómo trabajamos con segmentos?**"
   ]
  },
  {
   "cell_type": "markdown",
   "metadata": {},
   "source": [
    "<img src=\"seg1.png\" align=\"middle\" width=\"380\">\n",
    "<img src=\"seg2.png\" align=\"middle\" width=\"400\">"
   ]
  },
  {
   "cell_type": "markdown",
   "metadata": {},
   "source": [
    "\\begin{equation}\n",
    "\\overline{AB}+\\overline{BC}=\\overline{AC}\n",
    "\\end{equation}"
   ]
  },
  {
   "cell_type": "markdown",
   "metadata": {},
   "source": [
    "* ***Ejemplo:*** Si $A$, $B$, $C$, y $D$ son puntos colineales consecutivos y  $\\overline{AB}=3x$, $\\overline{CD}=7x$, $\\overline{BC}=38$, y $\\overline{AD}=118$, calcula $\\overline{AB}$. Hallar cuánto vale $x$."
   ]
  },
  {
   "cell_type": "markdown",
   "metadata": {},
   "source": [
    "$$ \\overline{AB}+\\overline{BC}+\\overline{CD}=\\overline{AD} $$"
   ]
  },
  {
   "cell_type": "markdown",
   "metadata": {},
   "source": [
    "$$ (3x)+(38)+(7x)=(118) $$"
   ]
  },
  {
   "cell_type": "markdown",
   "metadata": {},
   "source": [
    "$$ 3x+7x=118-38 $$"
   ]
  },
  {
   "cell_type": "markdown",
   "metadata": {},
   "source": [
    "$$ 10x=80 $$"
   ]
  },
  {
   "cell_type": "markdown",
   "metadata": {},
   "source": [
    "$$ x=\\dfrac{80}{10}=8 $$"
   ]
  },
  {
   "cell_type": "markdown",
   "metadata": {},
   "source": [
    "* $\\overline{AB}=3x=3(8)=24$\n",
    "* $\\overline{CD}=7x=7(8)=56$\n",
    "* $\\overline{BC}=38$, y\n",
    "* $\\overline{AD}=118$"
   ]
  },
  {
   "cell_type": "markdown",
   "metadata": {},
   "source": [
    "### Segmentos proporcionales"
   ]
  },
  {
   "cell_type": "markdown",
   "metadata": {},
   "source": [
    "* ***Ejemplo:***"
   ]
  },
  {
   "cell_type": "markdown",
   "metadata": {},
   "source": [
    "$$ \\dfrac{\\overline{AB}}{\\overline{CD}}=\\dfrac{2}{1} $$"
   ]
  },
  {
   "cell_type": "markdown",
   "metadata": {},
   "source": [
    "$$ \\overline{AB}=2\\overline{CD} $$"
   ]
  },
  {
   "cell_type": "markdown",
   "metadata": {},
   "source": [
    "* ***Ejemplo:*** Sobre una recta se ubican los puntos colineales consecutivos $A$, $B$, $C$ y $D$. Tenemos las siguientes relaciones:\n",
    "    * $\\overline{CD}=4\\overline{BC}$\n",
    "    * $\\overline{AB}=7$\n",
    "    * $\\overline{AD}=22$\n",
    "    \n",
    "    Hallar $\\overline{AC}$."
   ]
  },
  {
   "cell_type": "markdown",
   "metadata": {},
   "source": [
    "$$ \\overline{AB}+\\overline{BC}+\\overline{CD}=\\overline{AD} $$"
   ]
  },
  {
   "cell_type": "markdown",
   "metadata": {},
   "source": [
    "$$ (7)+\\overline{BC}+(4\\overline{BC})=(22) $$"
   ]
  },
  {
   "cell_type": "markdown",
   "metadata": {},
   "source": [
    "$$ \\overline{BC}+4\\overline{BC}=22-7 $$"
   ]
  },
  {
   "cell_type": "markdown",
   "metadata": {},
   "source": [
    "$$ 5\\overline{BC}=15 $$"
   ]
  },
  {
   "cell_type": "markdown",
   "metadata": {},
   "source": [
    "$$ \\overline{BC}=\\dfrac{15}{5}=3 $$"
   ]
  },
  {
   "cell_type": "markdown",
   "metadata": {},
   "source": [
    "$$ \\overline{AB}+\\overline{BC}=\\overline{AC} $$"
   ]
  },
  {
   "cell_type": "markdown",
   "metadata": {},
   "source": [
    "$$ 7+3=\\overline{AC}=10 $$"
   ]
  },
  {
   "cell_type": "markdown",
   "metadata": {},
   "source": [
    "## Ángulos"
   ]
  },
  {
   "cell_type": "markdown",
   "metadata": {},
   "source": [
    "El *ángulo* es la apertura entre dos rectas, trazadas desde el mismo punto."
   ]
  },
  {
   "cell_type": "markdown",
   "metadata": {},
   "source": [
    "<img src=\"angulo.png\" align=\"middle\" width=\"300\">"
   ]
  },
  {
   "cell_type": "markdown",
   "metadata": {},
   "source": [
    "En la figura vemos dos segmentos, $\\overline{AB}$ y $\\overline{AC}$, los cuales se encuentran en el punto $A$, conocido como *vértice* (un pico, pues). Al ángulo que se forma entre estos segmentos también se le conoce como el ángulo $A$ ó $\\angle BAC$ ó $\\angle CAB$."
   ]
  },
  {
   "cell_type": "markdown",
   "metadata": {},
   "source": [
    "Una recta que parte exactamente a la mitad un ángulo se conoce como *bisectriz*."
   ]
  },
  {
   "cell_type": "markdown",
   "metadata": {},
   "source": [
    "Cuando una recta cruza con otra decimos que estas se han intersectado."
   ]
  },
  {
   "cell_type": "markdown",
   "metadata": {},
   "source": [
    "Para los ángulos se usa una *unidad* conocida como *grados*. Sabemos que dar una vuelta completa es equivalente a un ángulo de $360^\\circ$."
   ]
  },
  {
   "cell_type": "markdown",
   "metadata": {},
   "source": [
    "Cuando una recta divide a otra recta (es su bisectriz) decimos que estas rectas son perpendiculares y cada uno de los ángulos en los que se separa las rectas se conoce como *ángulo recto*."
   ]
  },
  {
   "cell_type": "markdown",
   "metadata": {},
   "source": [
    "<img src=\"perp.png\" align=\"middle\" width=\"500\">"
   ]
  },
  {
   "cell_type": "markdown",
   "metadata": {},
   "source": [
    "Como dividimos una vuelta completa en cuatro partes, un ángulo recto vale $90^\\circ$. Al doble de esto, $180^\\circ$, se le conoce como *ángulo llano*."
   ]
  },
  {
   "cell_type": "markdown",
   "metadata": {},
   "source": [
    "* Si un ángulo es menor que un ángulo recto se le llama *ángulo agudo*.\n",
    "* Si un ángulo es mayor que un ángulo recto pero menor que un ángulo llano se le llama *ángulo obtuso*.\n",
    "* Si la suma de dos ángulos es igual a un ángulo recto se dice los ángulos son *complementarios*.\n",
    "* Si la suma de dos ángulos es igual a un ángulo llano se dice los ángulos son *suplementarios*."
   ]
  },
  {
   "cell_type": "markdown",
   "metadata": {},
   "source": [
    "<img src=\"ang_opuestos.png\" align=\"middle\" width=\"350\">"
   ]
  },
  {
   "cell_type": "markdown",
   "metadata": {},
   "source": [
    "En la figura anterior, el segmento $\\overline{AD}$ se intersecta con el segmento $\\overline{BC}$ en el punto $E$ y nos forma los ángulos:\n",
    "* $\\angle AEB$ \n",
    "* $\\angle AEC$\n",
    "* $\\angle BED$\n",
    "* $\\angle CED$\n",
    "\n",
    "Un resultado muy importante es que ángulos que se encuentren en extremos contrarios de una intersección son iguales:\n",
    "\n",
    "$$\\angle AEB=\\angle CED$$\n",
    "\n",
    "$$\\angle AEC=\\angle BED$$"
   ]
  },
  {
   "cell_type": "markdown",
   "metadata": {},
   "source": [
    "Cuando se tiene dos rectas que nunca se cruzan decimos que estas son *paralelas*."
   ]
  },
  {
   "cell_type": "markdown",
   "metadata": {},
   "source": [
    "<img src=\"paralelas.png\" align=\"middle\" width=\"500\">"
   ]
  },
  {
   "cell_type": "markdown",
   "metadata": {},
   "source": [
    "Si dos rectas **NO** son paralelas, en algún punto se tienen que intersectar."
   ]
  },
  {
   "cell_type": "markdown",
   "metadata": {},
   "source": [
    "<img src=\"ang_paralelas.png\" align=\"middle\" width=\"500\">"
   ]
  },
  {
   "cell_type": "markdown",
   "metadata": {},
   "source": [
    "Otro resultado muy importante es que ángulos internos a rectas paralelas que se intersectan con un misma recta son iguales:\n",
    "\n",
    "$$\\angle BDC=\\angle AED$$\n",
    "\n",
    "$$\\angle CDH=\\angle DEG$$"
   ]
  },
  {
   "cell_type": "markdown",
   "metadata": {},
   "source": [
    "## Círculos I"
   ]
  },
  {
   "cell_type": "markdown",
   "metadata": {},
   "source": [
    "<img src=\"circ1.png\" align=\"middle\" width=\"300\">"
   ]
  },
  {
   "cell_type": "markdown",
   "metadata": {},
   "source": [
    "* El punto negro es el *centro* del círculo \n",
    "* La línea negra es la *circunferencia* (el perímetro de un círculo).\n",
    "* La línea roja es el *diámetro* (línea que va de un punto de la circunferencia a otro, pasando por el centro).\n",
    "* La línea verde es el *radio* (línea que va del dentro hasta un punto de la circunferencia).\n",
    "* La línea azul es la *cuerda* (línea que va de un punto de la circunferencia a otro sin pasar por el centro)."
   ]
  },
  {
   "cell_type": "markdown",
   "metadata": {},
   "source": [
    "<img src=\"circ2.png\" align=\"middle\" width=\"300\">"
   ]
  },
  {
   "cell_type": "markdown",
   "metadata": {},
   "source": [
    "* La línea roja representa un *arco*.\n",
    "* La sección de color verde se conoce como *sector circular*.\n",
    "* La sección de color azul se conoce como *segmento circular*."
   ]
  },
  {
   "cell_type": "markdown",
   "metadata": {},
   "source": [
    "<img src=\"circ3.png\" align=\"middle\" width=\"600\">"
   ]
  },
  {
   "cell_type": "markdown",
   "metadata": {},
   "source": [
    "* La recta morada representa una *recta secante* (una recta que toca dos puntos en la circunferencia).\n",
    "* La recta turquesa representa una *recta tangente* (una recta que toca un punto de la circunferencia)."
   ]
  },
  {
   "cell_type": "markdown",
   "metadata": {},
   "source": [
    "**¿Qué es $\\pi$?**\n",
    "\n",
    "$\\pi$ es la proporción entre circunferencia y el diámetro, o sea, las veces que cabe el diámetro en la circunferencia de un círculo:\n",
    "\n",
    "$$ \\pi=\\dfrac{\\text{circunferencia}}{\\text{diámetro}} $$"
   ]
  },
  {
   "cell_type": "markdown",
   "metadata": {},
   "source": [
    "### Perímetro"
   ]
  },
  {
   "cell_type": "markdown",
   "metadata": {},
   "source": [
    "* $D$ : diámetro\n",
    "* $R$ : radio\n",
    "* $C$ : circunferencia"
   ]
  },
  {
   "cell_type": "markdown",
   "metadata": {},
   "source": [
    "$$ C=\\pi D $$"
   ]
  },
  {
   "cell_type": "markdown",
   "metadata": {},
   "source": [
    "El diámetro es el doble del radio:"
   ]
  },
  {
   "cell_type": "markdown",
   "metadata": {},
   "source": [
    "$$ D=2R $$"
   ]
  },
  {
   "cell_type": "markdown",
   "metadata": {},
   "source": [
    "Entonces:"
   ]
  },
  {
   "cell_type": "markdown",
   "metadata": {},
   "source": [
    "$$ C=2\\pi R $$"
   ]
  },
  {
   "cell_type": "markdown",
   "metadata": {},
   "source": [
    "Para esto diremos que $1$ vuelta es $360^\\circ$ y es lo mismo que $2\\pi\\ \\rm{rad}$."
   ]
  },
  {
   "cell_type": "markdown",
   "metadata": {},
   "source": [
    "### Conversión de unidades"
   ]
  },
  {
   "cell_type": "markdown",
   "metadata": {},
   "source": [
    "Notemos que:"
   ]
  },
  {
   "cell_type": "markdown",
   "metadata": {},
   "source": [
    "$$ 180^\\circ=\\pi\\ \\rm{rad} $$"
   ]
  },
  {
   "cell_type": "markdown",
   "metadata": {},
   "source": [
    "* ***Ejemplo:*** $72\\,{}^\\circ$ a $\\rm{rad}$"
   ]
  },
  {
   "cell_type": "markdown",
   "metadata": {},
   "source": [
    "$$ 72^\\circ=\\dfrac{72\\cdot\\pi}{180}\\ \\rm{rad}=\\dfrac{2}{5}\\pi\\ \\rm{rad}\\approx 1.25\\ \\rm{rad} $$"
   ]
  },
  {
   "cell_type": "markdown",
   "metadata": {},
   "source": [
    "$$ \\dfrac{72}{180}=\\dfrac{36}{90}=\\dfrac{18}{45}=\\dfrac{6}{15}=\\dfrac{2}{5} $$"
   ]
  },
  {
   "cell_type": "code",
   "execution_count": 3,
   "metadata": {},
   "outputs": [
    {
     "data": {
      "text/plain": [
       "1.2566370614359172"
      ]
     },
     "execution_count": 3,
     "metadata": {},
     "output_type": "execute_result"
    }
   ],
   "source": [
    "2*π/5"
   ]
  },
  {
   "cell_type": "markdown",
   "metadata": {},
   "source": [
    "* ***Ejemplo:*** $144\\,{}^\\circ$ a $\\rm{rad}$"
   ]
  },
  {
   "cell_type": "markdown",
   "metadata": {},
   "source": [
    "$$ 144^\\circ=\\dfrac{144\\cdot\\pi}{180}\\ \\rm{rad}=\\dfrac{4}{5}\\pi\\ \\rm{rad}\\approx2.51\\ \\rm{rad} $$"
   ]
  },
  {
   "cell_type": "code",
   "execution_count": 5,
   "metadata": {},
   "outputs": [
    {
     "data": {
      "text/plain": [
       "π = 3.1415926535897..."
      ]
     },
     "execution_count": 5,
     "metadata": {},
     "output_type": "execute_result"
    }
   ],
   "source": [
    "π"
   ]
  },
  {
   "cell_type": "code",
   "execution_count": 4,
   "metadata": {},
   "outputs": [
    {
     "data": {
      "text/plain": [
       "2.5132741228718345"
      ]
     },
     "execution_count": 4,
     "metadata": {},
     "output_type": "execute_result"
    }
   ],
   "source": [
    "4*π/5"
   ]
  },
  {
   "cell_type": "markdown",
   "metadata": {},
   "source": [
    "* ***Ejemplo:*** $\\dfrac{2}{9}\\pi\\ {\\rm{rad}}$ a ${}^\\circ$"
   ]
  },
  {
   "cell_type": "markdown",
   "metadata": {},
   "source": [
    "$$ \\dfrac{2}{9}\\pi\\ \\rm{rad}=\\dfrac{\\frac{2}{9}\\pi\\cdot180}{\\pi}^\\circ=\\dfrac{2\\cdot180}{9}^\\circ=40^\\circ $$"
   ]
  },
  {
   "cell_type": "markdown",
   "metadata": {},
   "source": [
    "* ***Ejemplo:*** $\\dfrac{7}{4}\\pi\\ {\\rm{rad}}$ a ${}^\\circ$"
   ]
  },
  {
   "cell_type": "markdown",
   "metadata": {},
   "source": [
    "$$ \\dfrac{7}{4}\\pi\\ \\rm{rad}=\\dfrac{\\frac{7}{4}\\pi\\cdot180}{\\pi}^\\circ=\\dfrac{7\\cdot180}{4}^\\circ=315^\\circ $$"
   ]
  },
  {
   "cell_type": "markdown",
   "metadata": {},
   "source": [
    "#### Interesante"
   ]
  },
  {
   "cell_type": "markdown",
   "metadata": {},
   "source": [
    "$$ 2\\pi\\ \\rm{rad}=360^\\circ $$"
   ]
  },
  {
   "cell_type": "markdown",
   "metadata": {},
   "source": [
    "$$ \\pi\\ \\rm{rad}=180^\\circ $$"
   ]
  },
  {
   "cell_type": "markdown",
   "metadata": {},
   "source": [
    "$$ \\dfrac{\\pi}{2}\\ \\rm{rad}=90^\\circ $$"
   ]
  },
  {
   "cell_type": "markdown",
   "metadata": {},
   "source": [
    "$$ \\dfrac{\\pi}{3}\\ \\rm{rad}=60^\\circ $$"
   ]
  },
  {
   "cell_type": "markdown",
   "metadata": {},
   "source": [
    "$$ \\dfrac{\\pi}{4}\\ \\rm{rad}=45^\\circ $$"
   ]
  },
  {
   "cell_type": "markdown",
   "metadata": {},
   "source": [
    "$$ \\dfrac{\\pi}{6}\\ \\rm{rad}=30^\\circ $$"
   ]
  },
  {
   "cell_type": "markdown",
   "metadata": {},
   "source": [
    "### Arco"
   ]
  },
  {
   "cell_type": "markdown",
   "metadata": {},
   "source": [
    "<img src=\"circ2.png\" align=\"middle\" width=\"300\">"
   ]
  },
  {
   "cell_type": "markdown",
   "metadata": {},
   "source": [
    "**¿Cómo hacemos para obtener la longitud de cualquier arco?**"
   ]
  },
  {
   "cell_type": "markdown",
   "metadata": {},
   "source": [
    "* $s$ : longitud de arco\n",
    "* $\\theta$ : ángulo (medido en radianes)\n",
    "* $t$ : ángulo (medido en grados)"
   ]
  },
  {
   "cell_type": "markdown",
   "metadata": {},
   "source": [
    "$$ s=\\theta R $$"
   ]
  },
  {
   "cell_type": "markdown",
   "metadata": {},
   "source": [
    "$$ s=\\dfrac{t\\pi R}{180} $$"
   ]
  },
  {
   "cell_type": "markdown",
   "metadata": {},
   "source": [
    "### Área"
   ]
  },
  {
   "cell_type": "markdown",
   "metadata": {},
   "source": [
    "El área de un círculo es\n",
    "\n",
    "$$ A=\\pi R^2 $$"
   ]
  },
  {
   "cell_type": "markdown",
   "metadata": {},
   "source": [
    "<img src=\"circ2.png\" align=\"middle\" width=\"300\">"
   ]
  },
  {
   "cell_type": "markdown",
   "metadata": {},
   "source": [
    "### Sectores circulares"
   ]
  },
  {
   "cell_type": "markdown",
   "metadata": {},
   "source": [
    "El área de un sector circular es\n",
    "\n",
    "$$ A= \\dfrac{\\theta R^2}{2} $$"
   ]
  },
  {
   "cell_type": "markdown",
   "metadata": {},
   "source": [
    "El área de un sector circular es\n",
    "\n",
    "$$ A= \\dfrac{t\\pi R^2}{360} $$"
   ]
  },
  {
   "cell_type": "markdown",
   "metadata": {},
   "source": [
    "**Nota importante:** Aquí el ángulo $\\theta$ se mide en radianes y el ángulo $t$ se mide en grados."
   ]
  },
  {
   "cell_type": "markdown",
   "metadata": {},
   "source": [
    "El perímetro de un sector circular se mide como\n",
    "$$ P=R(\\theta+2) $$"
   ]
  },
  {
   "cell_type": "markdown",
   "metadata": {},
   "source": [
    "El perímetro de un sector circular se mide como\n",
    "$$ P=R\\left(\\dfrac{\\pi t}{180}+2\\right) $$"
   ]
  },
  {
   "cell_type": "markdown",
   "metadata": {},
   "source": [
    "* ***Ejemplo:*** Calcular el perímetro de un sector circular de radio 5 y ángulo de $\\dfrac{3}{4}\\pi\\ \\rm{rad}$."
   ]
  },
  {
   "cell_type": "markdown",
   "metadata": {},
   "source": [
    "<img src=\"seg_circular1.png\" align=\"middle\" width=\"200\">"
   ]
  },
  {
   "cell_type": "markdown",
   "metadata": {},
   "source": [
    "$$ $$"
   ]
  },
  {
   "cell_type": "markdown",
   "metadata": {},
   "source": [
    "**Calcular el perímetro es preguntarnos cuánto mide un estambre que cubra el entorno del segmento (la línea de color azul rey).**"
   ]
  },
  {
   "cell_type": "markdown",
   "metadata": {},
   "source": [
    "* ***Ejemplo:*** Calcular el perímetro de un sector circular de radio 3 y ángulo de $30\\,{}^\\circ$."
   ]
  },
  {
   "cell_type": "markdown",
   "metadata": {},
   "source": [
    "<img src=\"seg_circular1.png\" align=\"middle\" width=\"200\">"
   ]
  },
  {
   "cell_type": "markdown",
   "metadata": {},
   "source": [
    "* ***Ejemplo:*** Calcular el área de un sector circular de radio 3 y ángulo de $30\\,{}^\\circ$."
   ]
  },
  {
   "cell_type": "markdown",
   "metadata": {},
   "source": [
    "<img src=\"seg_circular1.png\" align=\"middle\" width=\"200\">"
   ]
  },
  {
   "cell_type": "markdown",
   "metadata": {},
   "source": [
    "* ***Ejemplo:*** Calcular el área y perímetro de un sector circular de radio 5 y ángulo de $\\dfrac{3}{4}\\pi\\ \\rm{rad}$."
   ]
  }
 ],
 "metadata": {
  "kernelspec": {
   "display_name": "Julia 1.1.0",
   "language": "julia",
   "name": "julia-1.1"
  },
  "language_info": {
   "file_extension": ".jl",
   "mimetype": "application/julia",
   "name": "julia",
   "version": "1.1.0"
  }
 },
 "nbformat": 4,
 "nbformat_minor": 4
}
