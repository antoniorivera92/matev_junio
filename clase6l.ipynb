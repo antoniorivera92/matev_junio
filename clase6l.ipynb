{
 "cells": [
  {
   "cell_type": "markdown",
   "metadata": {},
   "source": [
    "# Geometría analítica"
   ]
  },
  {
   "cell_type": "markdown",
   "metadata": {},
   "source": [
    "# Clase 6"
   ]
  },
  {
   "cell_type": "markdown",
   "metadata": {},
   "source": [
    "## Rectas importantes en un triángulo"
   ]
  },
  {
   "cell_type": "markdown",
   "metadata": {},
   "source": [
    "* *Mediana*: la recta que va del vértice al punto medio del cateto opuesto. El punto donde se unen las medianas se conoce como *baricentro*."
   ]
  },
  {
   "cell_type": "markdown",
   "metadata": {},
   "source": [
    "<img src=\"baricentro.png\" align=\"middle\" width=\"400\">"
   ]
  },
  {
   "cell_type": "markdown",
   "metadata": {},
   "source": [
    "* *Mediatriz*: la recta perpendicular al cateto y que pasa por el punto medio de éste. El punto donde se unen las mediatrices se conoce como *circuncentro*."
   ]
  },
  {
   "cell_type": "markdown",
   "metadata": {},
   "source": [
    "<img src=\"circuncentro.png\" align=\"middle\" width=\"400\">"
   ]
  },
  {
   "cell_type": "markdown",
   "metadata": {},
   "source": [
    "* *Altura*: la recta perpendicular a un cateto que pasa por el vértice opuesto. El punto donde se unen las alturas se conoce como *ortocentro*."
   ]
  },
  {
   "cell_type": "markdown",
   "metadata": {},
   "source": [
    "<img src=\"ortocentro.png\" align=\"middle\" width=\"400\">"
   ]
  },
  {
   "cell_type": "markdown",
   "metadata": {},
   "source": [
    "**Propiedades:**\n",
    "* En un triángulo equilátero el baricentro, el circuncentro y el ortocentro coinciden en el mismo punto."
   ]
  },
  {
   "cell_type": "markdown",
   "metadata": {},
   "source": [
    "Si tenemos un triángulo con vértices $A(x_1,y_1)$, $B(x_2,y_2)$, y $C(x_3,y_3)$, las coordenadas del"
   ]
  },
  {
   "cell_type": "markdown",
   "metadata": {},
   "source": [
    "* baricentro son $(x_b,y_b)$, donde"
   ]
  },
  {
   "cell_type": "markdown",
   "metadata": {},
   "source": [
    "\\begin{align*}\n",
    "x_b=\\dfrac{x_1+x_2+x_3}{3}\\\\\n",
    "y_b=\\dfrac{y_1+y_2+y_3}{3}\n",
    "\\end{align*}"
   ]
  },
  {
   "cell_type": "markdown",
   "metadata": {},
   "source": [
    "* ***Ejemplo:*** Consideremos un triángulo con vértices $A(-6,10)$, $B(8,6)$, y $C(8,-1)$.\n",
    "  * Encuentra la ecuación de la recta que pasa por cada lado del triángulo.\n",
    "  * Calcula el perímetro del triángulo.\n",
    "  * Encuentra los ángulos internos del triángulo mediante ángulo entre pendientes.\n",
    "  * Calcula el área del triángulo.\n",
    "  * Encuentra la ecuación de todas las medianas del triángulo.\n",
    "  * Obtén las coordenadas del baricentro (usando intersección de medianas).\n",
    "  * Encuentra la ecuación de todas las mediatrices del triángulo.\n",
    "  * Obtén las coordenadas del circuncentro (usando intersección de mediatrices).\n",
    "  * Encuentra la ecuación de todas las alturas del triángulo.\n",
    "  * Obtén las coordenadas del ortocentro (usando intersección de alturas).\n",
    "  * Corrobora tus resultados con `Desmos`."
   ]
  },
  {
   "cell_type": "markdown",
   "metadata": {},
   "source": [
    "<img src=\"triangulo_euler.png\" align=\"middle\" width=\"400\">"
   ]
  },
  {
   "cell_type": "markdown",
   "metadata": {},
   "source": [
    "* **Encuentra la ecuación de la recta que pasa por cada lado del triángulo.**"
   ]
  },
  {
   "cell_type": "markdown",
   "metadata": {},
   "source": [
    "$A(-6,10)$, $B(8,6)$, $C(8,-1)$"
   ]
  },
  {
   "cell_type": "markdown",
   "metadata": {},
   "source": [
    "* La ecuación de la recta que pasa por $A$ y $B$:"
   ]
  },
  {
   "cell_type": "markdown",
   "metadata": {},
   "source": [
    "$$ y=mx+b $$"
   ]
  },
  {
   "cell_type": "markdown",
   "metadata": {},
   "source": [
    "$$ m_{AB}=\\dfrac{y_2-y_1}{x_2-x_1}=\\dfrac{(6)-(10)}{(8)-(-6)}=\\dfrac{-4}{14}=-\\dfrac{2}{7} $$"
   ]
  },
  {
   "cell_type": "markdown",
   "metadata": {},
   "source": [
    "$$ b=y-mx=(6)-\\left(-\\dfrac{2}{7}\\right)(8)=\\dfrac{58}{7} $$"
   ]
  },
  {
   "cell_type": "markdown",
   "metadata": {},
   "source": [
    "$$ y=-\\dfrac{2}{7}x+\\dfrac{58}{7} $$"
   ]
  },
  {
   "cell_type": "markdown",
   "metadata": {},
   "source": [
    "* La ecuación de la recta que pasa por $A$ y $C$:"
   ]
  },
  {
   "cell_type": "markdown",
   "metadata": {},
   "source": [
    "$$ y=mx+b $$"
   ]
  },
  {
   "cell_type": "markdown",
   "metadata": {},
   "source": [
    "$$ m_{AC}=\\dfrac{y_2-y_1}{x_2-x_1}=\\dfrac{(-1)-(10)}{(8)-(-6)}=\\dfrac{-11}{14}=-\\dfrac{11}{14} $$"
   ]
  },
  {
   "cell_type": "markdown",
   "metadata": {},
   "source": [
    "$$ b=y-mx=(-1)-\\left(-\\dfrac{11}{14}\\right)(8)=\\dfrac{37}{7} $$"
   ]
  },
  {
   "cell_type": "markdown",
   "metadata": {},
   "source": [
    "$$ y=-\\dfrac{11}{14}x+\\dfrac{37}{7} $$"
   ]
  },
  {
   "cell_type": "markdown",
   "metadata": {},
   "source": [
    "* La ecuación de la recta que pasa por $B$ y $C$:"
   ]
  },
  {
   "cell_type": "markdown",
   "metadata": {},
   "source": [
    "$$ y=mx+b $$"
   ]
  },
  {
   "cell_type": "markdown",
   "metadata": {},
   "source": [
    "$$ m_{BC}=\\dfrac{y_2-y_1}{x_2-x_1}=\\dfrac{(-1)-(6)}{(8)-(8)}=\\dfrac{-7}{0}=\\text{N.D.} $$"
   ]
  },
  {
   "cell_type": "markdown",
   "metadata": {},
   "source": [
    "$$ x=8 $$"
   ]
  },
  {
   "cell_type": "markdown",
   "metadata": {},
   "source": [
    "* **Calcula el perímetro del triángulo.**"
   ]
  },
  {
   "cell_type": "markdown",
   "metadata": {},
   "source": [
    "$A(-6,10)$, $B(8,6)$, $C(8,-1)$"
   ]
  },
  {
   "cell_type": "markdown",
   "metadata": {},
   "source": [
    "$$ \\overline{AB}=\\sqrt{(y_1-y_2)^2+(x_1-x_2)^2} $$"
   ]
  },
  {
   "cell_type": "markdown",
   "metadata": {},
   "source": [
    "$$ =\\sqrt{[(10)-(6)]^2+[(-6)-(8)]^2}=\\sqrt{16+196}=\\sqrt{212} $$"
   ]
  },
  {
   "cell_type": "markdown",
   "metadata": {},
   "source": [
    "$$ \\overline{BC}=\\sqrt{(y_1-y_2)^2+(x_1-x_2)^2}  $$"
   ]
  },
  {
   "cell_type": "markdown",
   "metadata": {},
   "source": [
    "$$ =\\sqrt{[(6)-(-1)]^2+[(8)-(8)]^2}=\\sqrt{49}=7 $$"
   ]
  },
  {
   "cell_type": "markdown",
   "metadata": {},
   "source": [
    "$$ \\overline{AC}=\\sqrt{(y_1-y_2)^2+(x_1-x_2)^2}  $$"
   ]
  },
  {
   "cell_type": "markdown",
   "metadata": {},
   "source": [
    "$$ =\\sqrt{[(10)-(-1)]^2+[(-6)-(8)]^2}=\\sqrt{121+196}=\\sqrt{317} $$"
   ]
  },
  {
   "cell_type": "markdown",
   "metadata": {},
   "source": [
    "$$ \\text{Perímetro}=\\overline{AB}+\\overline{BC}+\\overline{AC}=\\sqrt{212}+7+\\sqrt{317} $$"
   ]
  },
  {
   "cell_type": "markdown",
   "metadata": {},
   "source": [
    "* **Encuentra los ángulos internos del triángulo mediante ángulo entre pendientes.**"
   ]
  },
  {
   "cell_type": "markdown",
   "metadata": {},
   "source": [
    "<img src=\"triangulo_euler.png\" align=\"middle\" width=\"400\">"
   ]
  },
  {
   "cell_type": "markdown",
   "metadata": {},
   "source": [
    "* Ángulo $A$:"
   ]
  },
  {
   "cell_type": "markdown",
   "metadata": {},
   "source": [
    "$$ m_{AB}=-\\dfrac{2}{7} $$"
   ]
  },
  {
   "cell_type": "markdown",
   "metadata": {},
   "source": [
    "$$ m_{AC}=-\\dfrac{11}{14} $$"
   ]
  },
  {
   "cell_type": "markdown",
   "metadata": {},
   "source": [
    "$$ \\theta =\\tan^{-1}\\left[\\dfrac{\\left(-\\dfrac{11}{14}\\right)-\\left(-\\dfrac{2}{7}\\right)}{1+\\left(-\\dfrac{11}{14}\\right)\\left(-\\dfrac{2}{7}\\right)}\\right]=\\tan^{-1}\\left(\\dfrac{-\\dfrac{1}{2}}{\\dfrac{60}{49}}\\right)=22.21^\\circ $$"
   ]
  },
  {
   "cell_type": "markdown",
   "metadata": {},
   "source": [
    "* Ángulo $B$:"
   ]
  },
  {
   "cell_type": "markdown",
   "metadata": {},
   "source": [
    "El ángulo que forma la recta que pasa por $A$ y $B$ con respecto a la horizontal es"
   ]
  },
  {
   "cell_type": "markdown",
   "metadata": {},
   "source": [
    "$$ \\theta=\\tan^{-1}(m_{AB})=\\tan^{-1}(-2/7)\\approx-15.94 $$"
   ]
  },
  {
   "cell_type": "markdown",
   "metadata": {},
   "source": [
    "De nuestro análisis vemos que el ángulo tiene que ser"
   ]
  },
  {
   "cell_type": "markdown",
   "metadata": {},
   "source": [
    "$$ B=90^\\circ+15.94^\\circ=105.94^\\circ $$"
   ]
  },
  {
   "cell_type": "markdown",
   "metadata": {},
   "source": [
    "* Ángulo $C$:"
   ]
  },
  {
   "cell_type": "markdown",
   "metadata": {},
   "source": [
    "Como la suma de los ángulos internos de cualquier triángulo debe ser $180^\\circ$ tenemos"
   ]
  },
  {
   "cell_type": "markdown",
   "metadata": {},
   "source": [
    "$$ A+B+C=180^\\circ $$"
   ]
  },
  {
   "cell_type": "markdown",
   "metadata": {},
   "source": [
    "$$ C=180^\\circ-A-B=51.84^\\circ $$"
   ]
  },
  {
   "cell_type": "markdown",
   "metadata": {},
   "source": [
    "* **Calcula el área del triángulo.**"
   ]
  },
  {
   "cell_type": "markdown",
   "metadata": {},
   "source": [
    "$$ \\text{Área}=\\dfrac{1}{2}\\overline{AB}\\cdot\\overline{AC}\\cdot\\sin(A)=\\sqrt{212}\\cdot\\sqrt{317}\\cdot\\sin(22.21^\\circ)=49\\ u^2 $$"
   ]
  },
  {
   "cell_type": "code",
   "execution_count": 1,
   "metadata": {},
   "outputs": [
    {
     "data": {
      "text/plain": [
       "48.996165794261685"
      ]
     },
     "execution_count": 1,
     "metadata": {},
     "output_type": "execute_result"
    }
   ],
   "source": [
    "(√212)*(√317)*sind(22.21)/2"
   ]
  },
  {
   "cell_type": "markdown",
   "metadata": {},
   "source": [
    "* **Encuentra la ecuación de todas las medianas del triángulo.**"
   ]
  },
  {
   "cell_type": "markdown",
   "metadata": {},
   "source": [
    "<img src=\"triangulo_euler.png\" align=\"middle\" width=\"400\">"
   ]
  },
  {
   "cell_type": "markdown",
   "metadata": {},
   "source": [
    "La mediana es la recta que va del vértice al punto medio del cateto opuesto:\n",
    "1. Obtener el punto medio del cateto opuesto.\n",
    "2. Obtener la ecuación de la recta entre dos puntos: punto medio y vértice."
   ]
  },
  {
   "cell_type": "markdown",
   "metadata": {},
   "source": [
    "* Mediana entre el vértice $A$ y el cateto opuesto $\\overline{BC}$"
   ]
  },
  {
   "cell_type": "markdown",
   "metadata": {},
   "source": [
    "$A(-6,10)$, $B(8,6)$, $C(8,-1)$"
   ]
  },
  {
   "cell_type": "markdown",
   "metadata": {},
   "source": [
    "El punto medio es $M_{BC}(x,y)$, con "
   ]
  },
  {
   "cell_type": "markdown",
   "metadata": {},
   "source": [
    "$$ x=\\dfrac{x_1+x_2}{2}=8 $$"
   ]
  },
  {
   "cell_type": "markdown",
   "metadata": {},
   "source": [
    "$$ y=\\dfrac{y_1+y_2}{2}=2.5 $$"
   ]
  },
  {
   "cell_type": "markdown",
   "metadata": {},
   "source": [
    "Por lo tanto, $M_{BC}\\left(8,2.5\\right)$"
   ]
  },
  {
   "cell_type": "markdown",
   "metadata": {},
   "source": [
    "$$ y=mx+b $$"
   ]
  },
  {
   "cell_type": "markdown",
   "metadata": {},
   "source": [
    "$$ m=\\dfrac{(10)-(2.5)}{(-6)-(8)}=-\\dfrac{15}{28} $$"
   ]
  },
  {
   "cell_type": "markdown",
   "metadata": {},
   "source": [
    "$$ b=y-mx=(2.5)-\\left(-\\dfrac{15}{28}\\right)(8)=\\dfrac{95}{14} $$"
   ]
  },
  {
   "cell_type": "markdown",
   "metadata": {},
   "source": [
    "$$ y=-\\dfrac{15}{28}x+\\dfrac{95}{14} $$"
   ]
  },
  {
   "cell_type": "markdown",
   "metadata": {},
   "source": [
    "* Mediana entre el vértice $B$ y el cateto opuesto $\\overline{AC}$"
   ]
  },
  {
   "cell_type": "markdown",
   "metadata": {},
   "source": [
    "$A(-6,10)$, $B(8,6)$, $C(8,-1)$"
   ]
  },
  {
   "cell_type": "markdown",
   "metadata": {},
   "source": [
    "El punto medio es $M_{AC}(x,y)$, con "
   ]
  },
  {
   "cell_type": "markdown",
   "metadata": {},
   "source": [
    "$$ x=\\dfrac{x_1+x_2}{2}=1 $$"
   ]
  },
  {
   "cell_type": "markdown",
   "metadata": {},
   "source": [
    "$$ y=\\dfrac{y_1+y_2}{2}=4.5 $$"
   ]
  },
  {
   "cell_type": "markdown",
   "metadata": {},
   "source": [
    "Por lo tanto, $M_{AC}\\left(1,4.5\\right)$"
   ]
  },
  {
   "cell_type": "markdown",
   "metadata": {},
   "source": [
    "$$ y=mx+b $$"
   ]
  },
  {
   "cell_type": "markdown",
   "metadata": {},
   "source": [
    "$$ m=\\dfrac{(4.5)-(6)}{(1)-(8)}=\\dfrac{3}{14} $$"
   ]
  },
  {
   "cell_type": "markdown",
   "metadata": {},
   "source": [
    "$$ b=y-mx=(4.5)-\\left(\\dfrac{3}{14}\\right)(1)=\\dfrac{30}{7} $$"
   ]
  },
  {
   "cell_type": "markdown",
   "metadata": {},
   "source": [
    "$$ y=\\dfrac{3}{14}x+\\dfrac{30}{7} $$"
   ]
  },
  {
   "cell_type": "markdown",
   "metadata": {},
   "source": [
    "* Mediana entre el vértice $C$ y el cateto opuesto $\\overline{AB}$"
   ]
  },
  {
   "cell_type": "markdown",
   "metadata": {},
   "source": [
    "$A(-6,10)$, $B(8,6)$, $C(8,-1)$"
   ]
  },
  {
   "cell_type": "markdown",
   "metadata": {},
   "source": [
    "El punto medio es $M_{AB}(x,y)$, con "
   ]
  },
  {
   "cell_type": "markdown",
   "metadata": {},
   "source": [
    "$$ x=\\dfrac{x_1+x_2}{2}=1 $$"
   ]
  },
  {
   "cell_type": "markdown",
   "metadata": {},
   "source": [
    "$$ y=\\dfrac{y_1+y_2}{2}=8 $$"
   ]
  },
  {
   "cell_type": "markdown",
   "metadata": {},
   "source": [
    "Por lo tanto, $M_{AB}\\left(1,8\\right)$"
   ]
  },
  {
   "cell_type": "markdown",
   "metadata": {},
   "source": [
    "$$  $$"
   ]
  },
  {
   "cell_type": "markdown",
   "metadata": {},
   "source": [
    "$$  $$"
   ]
  },
  {
   "cell_type": "markdown",
   "metadata": {},
   "source": [
    "* **Obtén las coordenadas del baricentro.**"
   ]
  },
  {
   "cell_type": "markdown",
   "metadata": {},
   "source": [
    "$A(-6,10)$, $B(8,6)$, $C(8,-1)$"
   ]
  },
  {
   "cell_type": "markdown",
   "metadata": {},
   "source": [
    "\\begin{align*}\n",
    "x_b=&\\dfrac{(-6)+(8)+(8)}{3}=\\dfrac{10}{3}\\approx3.333\\\\\n",
    "y_b=&\\dfrac{(10)+(6)+(-1)}{3}=5\n",
    "\\end{align*}"
   ]
  },
  {
   "cell_type": "markdown",
   "metadata": {},
   "source": [
    "Por lo tanto, las coordenadas del baricentro son $(3.333,5)$."
   ]
  },
  {
   "cell_type": "markdown",
   "metadata": {},
   "source": [
    "* **Encuentra la ecuación de todas las mediatrices del triángulo.**"
   ]
  },
  {
   "cell_type": "markdown",
   "metadata": {},
   "source": [
    "<img src=\"triangulo_euler.png\" align=\"middle\" width=\"400\">"
   ]
  },
  {
   "cell_type": "markdown",
   "metadata": {},
   "source": [
    "La mediatriz es la recta perpendicular al cateto y que pasa por el punto medio de éste:\n",
    "1. Obtener el punto medio del cateto opuesto.\n",
    "2. Obtener la pendiente perpendicular.\n",
    "3. Obtener la ecuación de la recta conociendo un punto (el punto medio) y la pendiente."
   ]
  },
  {
   "cell_type": "markdown",
   "metadata": {},
   "source": [
    "* La mediatriz del cateto $\\overline{AB}$"
   ]
  },
  {
   "cell_type": "markdown",
   "metadata": {},
   "source": [
    "$A(-6,10)$, $B(8,6)$, $C(8,-1)$"
   ]
  },
  {
   "cell_type": "markdown",
   "metadata": {},
   "source": [
    "$M_{AB}\\left(1,8\\right)$"
   ]
  },
  {
   "cell_type": "markdown",
   "metadata": {},
   "source": [
    "$$ m_{AB}=-\\dfrac{2}{7} $$"
   ]
  },
  {
   "cell_type": "markdown",
   "metadata": {},
   "source": [
    "Entonces, la pendiente perpendicular es\n",
    "$$ m=\\dfrac{7}{2} $$"
   ]
  },
  {
   "cell_type": "markdown",
   "metadata": {},
   "source": [
    "$$ b=y-mx=(8)-\\left(\\dfrac{7}{2}\\right)(1)=\\dfrac{9}{2} $$"
   ]
  },
  {
   "cell_type": "markdown",
   "metadata": {},
   "source": [
    "$$ y=\\dfrac{7}{2}x+\\dfrac{9}{2} $$"
   ]
  },
  {
   "cell_type": "markdown",
   "metadata": {},
   "source": [
    "* La mediatriz del cateto $\\overline{BC}$"
   ]
  },
  {
   "cell_type": "markdown",
   "metadata": {},
   "source": [
    "$A(-6,10)$, $B(8,6)$, $C(8,-1)$"
   ]
  },
  {
   "cell_type": "markdown",
   "metadata": {},
   "source": [
    "$M_{BC}\\left(8,2.5\\right)$"
   ]
  },
  {
   "cell_type": "markdown",
   "metadata": {},
   "source": [
    "$$ m_{BC}=\\text{N.D.} $$"
   ]
  },
  {
   "cell_type": "markdown",
   "metadata": {},
   "source": [
    "Entonces, la pendiente perpendicular es\n",
    "$$ m=0 $$"
   ]
  },
  {
   "cell_type": "markdown",
   "metadata": {},
   "source": [
    "$$ b=y-mx=(2.5)-\\left(0\\right)(8)=2.5 $$"
   ]
  },
  {
   "cell_type": "markdown",
   "metadata": {},
   "source": [
    "$$ y=2.5 $$"
   ]
  },
  {
   "cell_type": "markdown",
   "metadata": {},
   "source": [
    "* La mediatriz del cateto $\\overline{AC}$"
   ]
  },
  {
   "cell_type": "markdown",
   "metadata": {},
   "source": [
    "* **Obtén las coordenadas del circuncentro (usando intersección de mediatrices).**"
   ]
  },
  {
   "cell_type": "markdown",
   "metadata": {},
   "source": [
    "\\begin{equation}\n",
    "\\begin{cases}\n",
    "y=\\dfrac{7}{2}x+\\dfrac{9}{2}\\\\\n",
    "y=2.5\n",
    "\\end{cases}\n",
    "\\end{equation}"
   ]
  },
  {
   "cell_type": "markdown",
   "metadata": {},
   "source": [
    "$$ 2.5=\\dfrac{7}{2}x+\\dfrac{9}{2} $$"
   ]
  },
  {
   "cell_type": "markdown",
   "metadata": {},
   "source": [
    "$$\\dfrac{7}{2}x=2.5-\\dfrac{9}{2} $$"
   ]
  },
  {
   "cell_type": "markdown",
   "metadata": {},
   "source": [
    "$$x=\\dfrac{2.5-\\dfrac{9}{2}}{\\dfrac{7}{2}}=-\\dfrac{4}{7} $$"
   ]
  },
  {
   "cell_type": "markdown",
   "metadata": {},
   "source": [
    "Por lo tanto, las coordenadas del circuncentro son $(-4/7,2.5)$"
   ]
  },
  {
   "cell_type": "markdown",
   "metadata": {},
   "source": [
    "* **Encuentra la ecuación de todas las alturas del triángulo.**"
   ]
  },
  {
   "cell_type": "markdown",
   "metadata": {},
   "source": [
    "<img src=\"triangulo_euler.png\" align=\"middle\" width=\"400\">"
   ]
  },
  {
   "cell_type": "markdown",
   "metadata": {},
   "source": [
    "La altura es la recta perpendicular a un cateto que pasa por el vértice opuesto:\n",
    "1. Obtener la pendiente perpendicular.\n",
    "3. Obtener la ecuación de la recta conociendo un punto (el vértice opuesto) y la pendiente."
   ]
  },
  {
   "cell_type": "markdown",
   "metadata": {},
   "source": [
    "* La altura del cateto $\\overline{AB}$"
   ]
  },
  {
   "cell_type": "markdown",
   "metadata": {},
   "source": [
    "$A(-6,10)$, $B(8,6)$, $C(8,-1)$"
   ]
  },
  {
   "cell_type": "markdown",
   "metadata": {},
   "source": [
    "La pendiente perpendicular es\n",
    "$$ m=\\dfrac{7}{2} $$"
   ]
  },
  {
   "cell_type": "markdown",
   "metadata": {},
   "source": [
    "$$ b=y-mx=(-1)-\\left(\\dfrac{7}{2}\\right)(8)=-29 $$"
   ]
  },
  {
   "cell_type": "markdown",
   "metadata": {},
   "source": [
    "$$ y=\\dfrac{7}{2}x-29 $$"
   ]
  },
  {
   "cell_type": "markdown",
   "metadata": {},
   "source": [
    "* La altura del cateto $\\overline{BC}$"
   ]
  },
  {
   "cell_type": "markdown",
   "metadata": {},
   "source": [
    "* La altura del cateto $\\overline{AC}$"
   ]
  },
  {
   "cell_type": "markdown",
   "metadata": {},
   "source": [
    "* **Corrobora tus resultados con `Desmos`.**"
   ]
  },
  {
   "cell_type": "markdown",
   "metadata": {},
   "source": [
    "https://www.desmos.com/calculator/wtivsqoik1"
   ]
  }
 ],
 "metadata": {
  "kernelspec": {
   "display_name": "Julia 1.5.0",
   "language": "julia",
   "name": "julia-1.5"
  },
  "language_info": {
   "file_extension": ".jl",
   "mimetype": "application/julia",
   "name": "julia",
   "version": "1.5.0"
  }
 },
 "nbformat": 4,
 "nbformat_minor": 4
}
