{
 "cells": [
  {
   "cell_type": "markdown",
   "metadata": {},
   "source": [
    "# Funciones para modelar la relación entre variables"
   ]
  },
  {
   "cell_type": "markdown",
   "metadata": {},
   "source": [
    "# Clase 2"
   ]
  },
  {
   "cell_type": "markdown",
   "metadata": {},
   "source": [
    "## ¿Qué es una función?"
   ]
  },
  {
   "cell_type": "markdown",
   "metadata": {},
   "source": [
    "<img src=\"salchicha.jpg\" align=\"middle\" width=\"500\">"
   ]
  },
  {
   "cell_type": "markdown",
   "metadata": {},
   "source": [
    "Una *función* es la relación que asigna un elemento de un conjunto con un solo elemento de otro conjunto."
   ]
  },
  {
   "cell_type": "markdown",
   "metadata": {},
   "source": [
    "* ***Ejemplo:*** Seno es una función (trigonométrica):  \n",
    "$$f(x)=\\sin(x)$$"
   ]
  },
  {
   "cell_type": "markdown",
   "metadata": {},
   "source": [
    "$$ \\sin(30^\\circ)=\\dfrac{1}{2} $$"
   ]
  },
  {
   "cell_type": "code",
   "execution_count": 1,
   "metadata": {},
   "outputs": [
    {
     "data": {
      "text/plain": [
       "0.5"
      ]
     },
     "execution_count": 1,
     "metadata": {},
     "output_type": "execute_result"
    }
   ],
   "source": [
    "sind(30)"
   ]
  },
  {
   "cell_type": "markdown",
   "metadata": {},
   "source": [
    "$$ \\circledast $$"
   ]
  },
  {
   "cell_type": "markdown",
   "metadata": {},
   "source": [
    "* ***Ejemplo:*** Pensemos que tenemos una función $f$ que relaciona a los conjuntos de abajo."
   ]
  },
  {
   "cell_type": "markdown",
   "metadata": {},
   "source": [
    "$$ A=\\{1,2,3,4,5\\} $$"
   ]
  },
  {
   "cell_type": "markdown",
   "metadata": {},
   "source": [
    "$$ B=\\{5,30,61,170\\} $$"
   ]
  },
  {
   "cell_type": "markdown",
   "metadata": {},
   "source": [
    "La manera es que los relaciona es:"
   ]
  },
  {
   "cell_type": "markdown",
   "metadata": {},
   "source": [
    "$$ 1\\qquad\\qquad\\rightarrow\\qquad\\qquad 5 $$"
   ]
  },
  {
   "cell_type": "markdown",
   "metadata": {},
   "source": [
    "$$ 2\\qquad\\qquad\\rightarrow\\qquad\\qquad 61 $$"
   ]
  },
  {
   "cell_type": "markdown",
   "metadata": {},
   "source": [
    "$$ 3\\qquad\\qquad\\rightarrow\\qquad\\qquad 30 $$"
   ]
  },
  {
   "cell_type": "markdown",
   "metadata": {},
   "source": [
    "$$ 4\\qquad\\qquad\\rightarrow\\qquad\\qquad 30 $$"
   ]
  },
  {
   "cell_type": "markdown",
   "metadata": {},
   "source": [
    "$$ 5\\qquad\\qquad\\rightarrow\\qquad\\qquad 170 $$"
   ]
  },
  {
   "cell_type": "markdown",
   "metadata": {},
   "source": [
    "En el lenguaje de funciones esto se escribe como:"
   ]
  },
  {
   "cell_type": "markdown",
   "metadata": {},
   "source": [
    "$$f(1)=5 $$"
   ]
  },
  {
   "cell_type": "markdown",
   "metadata": {},
   "source": [
    "$$f(2)=61 $$"
   ]
  },
  {
   "cell_type": "markdown",
   "metadata": {},
   "source": [
    "$$f(3)=30 $$"
   ]
  },
  {
   "cell_type": "markdown",
   "metadata": {},
   "source": [
    "$$f(4)=30 $$"
   ]
  },
  {
   "cell_type": "markdown",
   "metadata": {},
   "source": [
    "$$f(5)=170 $$"
   ]
  },
  {
   "cell_type": "markdown",
   "metadata": {},
   "source": [
    "$$ \\circledast $$"
   ]
  },
  {
   "cell_type": "markdown",
   "metadata": {},
   "source": [
    "## Variable dependiente e independiente"
   ]
  },
  {
   "cell_type": "markdown",
   "metadata": {},
   "source": [
    "* ***Ejemplo:*** Recordemos el ejemplo de ecuaciones lineales:"
   ]
  },
  {
   "cell_type": "markdown",
   "metadata": {},
   "source": [
    "$$ x+y=5 $$"
   ]
  },
  {
   "cell_type": "markdown",
   "metadata": {},
   "source": [
    "$$ x=1\\quad,\\quad y=4 $$"
   ]
  },
  {
   "cell_type": "markdown",
   "metadata": {},
   "source": [
    "$$ x=2\\quad,\\quad y=3 $$"
   ]
  },
  {
   "cell_type": "markdown",
   "metadata": {},
   "source": [
    "$$ x=-8.72\\quad,\\quad y=? $$"
   ]
  },
  {
   "cell_type": "markdown",
   "metadata": {},
   "source": [
    "¿Cómo le hacemos?"
   ]
  },
  {
   "cell_type": "markdown",
   "metadata": {},
   "source": [
    "Lo más fácil es despejar la $y$ y encontrar el valor que tiene para esa $x$."
   ]
  },
  {
   "cell_type": "markdown",
   "metadata": {},
   "source": [
    "$$ y=5-x $$"
   ]
  },
  {
   "cell_type": "markdown",
   "metadata": {},
   "source": [
    "$$ y=5-(-8.72)=13.72 $$"
   ]
  },
  {
   "cell_type": "markdown",
   "metadata": {},
   "source": [
    "$$ x=-8.72\\quad,\\quad y=13.72 $$"
   ]
  },
  {
   "cell_type": "code",
   "execution_count": 2,
   "metadata": {},
   "outputs": [
    {
     "data": {
      "text/plain": [
       "5.0"
      ]
     },
     "execution_count": 2,
     "metadata": {},
     "output_type": "execute_result"
    }
   ],
   "source": [
    "(-8.72)+(13.72)"
   ]
  },
  {
   "cell_type": "markdown",
   "metadata": {},
   "source": [
    "$$ \\circledast $$"
   ]
  },
  {
   "cell_type": "markdown",
   "metadata": {},
   "source": [
    "Esto quiere decir que, en una ecuación que contenga $x$ y $y$, ninguna de estas dos variables puede tomar cualquier valor que se nos dé la gana. Una de ellas **sí**, la otra **no**."
   ]
  },
  {
   "cell_type": "markdown",
   "metadata": {},
   "source": [
    "Cuando en una ecuación hay una variable despejada, esta variable se conoce como la *variable dependiente*, mientras que a la variable que **NO** está despejada se le llama la *variable independiente*."
   ]
  },
  {
   "cell_type": "markdown",
   "metadata": {},
   "source": [
    "Cuando en una ecuación hay una variable despejada, decimos que es una *ecuación explícita* (porque de manera explícita podemos ver quién es la variable dependiente)."
   ]
  },
  {
   "cell_type": "markdown",
   "metadata": {},
   "source": [
    "En caso contrario, decimos que se trata de una *ecuación implícita*."
   ]
  },
  {
   "cell_type": "markdown",
   "metadata": {},
   "source": [
    "*\"$y$ depende del valor de $x$\" $\\leftrightarrow$ \"$y$ está en función de $x$\"*"
   ]
  },
  {
   "cell_type": "markdown",
   "metadata": {},
   "source": [
    "La manera en que la variable dependiente depende de la variable independiente le llamamos *regla de correspondencia*."
   ]
  },
  {
   "cell_type": "markdown",
   "metadata": {},
   "source": [
    "Tomaremos a la variable dependiente como la función."
   ]
  },
  {
   "cell_type": "markdown",
   "metadata": {},
   "source": [
    "* ***Ejemplo:***"
   ]
  },
  {
   "cell_type": "markdown",
   "metadata": {},
   "source": [
    "$$ x+y=5 $$"
   ]
  },
  {
   "cell_type": "markdown",
   "metadata": {},
   "source": [
    "$$ y=5-x $$"
   ]
  },
  {
   "cell_type": "markdown",
   "metadata": {},
   "source": [
    "$$ f(x)=5-x $$"
   ]
  },
  {
   "cell_type": "markdown",
   "metadata": {},
   "source": [
    "$$ \\circledast $$"
   ]
  },
  {
   "cell_type": "markdown",
   "metadata": {},
   "source": [
    "## ¿Cómo graficar funciones?"
   ]
  },
  {
   "cell_type": "markdown",
   "metadata": {},
   "source": [
    "Para graficar tenemos que irnos a un plano cartesiano."
   ]
  },
  {
   "cell_type": "markdown",
   "metadata": {},
   "source": [
    "Tenemos que evaluar la función en un cierto valor: \n",
    "\n",
    "* El valor que damos a la variable independiente será la abscisa\n",
    "* El valor que adquiere la variable dependiente será la ordenada"
   ]
  },
  {
   "cell_type": "markdown",
   "metadata": {},
   "source": [
    "La variable dependiente es como nuestra función. En ese sentido,\n",
    "\n",
    "$$ (x,y)=(x,f(x)) $$"
   ]
  },
  {
   "cell_type": "markdown",
   "metadata": {},
   "source": [
    "* ***Ejemplo:***"
   ]
  },
  {
   "cell_type": "markdown",
   "metadata": {},
   "source": [
    "$$ x+y=5 $$"
   ]
  },
  {
   "cell_type": "markdown",
   "metadata": {},
   "source": [
    "$$ y=5-x $$"
   ]
  },
  {
   "cell_type": "markdown",
   "metadata": {},
   "source": [
    "$$ f(x)=5-x $$"
   ]
  },
  {
   "cell_type": "markdown",
   "metadata": {},
   "source": [
    "$$ f(1)=5-(1)=4 $$"
   ]
  },
  {
   "cell_type": "markdown",
   "metadata": {},
   "source": [
    "$$ f(2)=5-(2)=3 $$"
   ]
  },
  {
   "cell_type": "markdown",
   "metadata": {},
   "source": [
    "* $(1,4)$\n",
    "* $(2,3)$\n",
    "* $\\dots$"
   ]
  },
  {
   "cell_type": "markdown",
   "metadata": {},
   "source": [
    "Veamos cómo es esto en Desmos."
   ]
  },
  {
   "cell_type": "markdown",
   "metadata": {},
   "source": [
    "$$ \\circledast $$"
   ]
  },
  {
   "cell_type": "markdown",
   "metadata": {},
   "source": [
    "* ***Ejemplo:***"
   ]
  },
  {
   "cell_type": "markdown",
   "metadata": {},
   "source": [
    "$$ y=\\dfrac{x^2-2}{2} $$"
   ]
  },
  {
   "cell_type": "markdown",
   "metadata": {},
   "source": [
    "Cuando $x=-3$"
   ]
  },
  {
   "cell_type": "markdown",
   "metadata": {},
   "source": [
    "$$ y=\\dfrac{(-3)^2-2}{2}=\\dfrac{9-2}{2}=\\dfrac{7}{2}=3.5 $$"
   ]
  },
  {
   "cell_type": "markdown",
   "metadata": {},
   "source": [
    "Esto nos da las coordenadas:"
   ]
  },
  {
   "cell_type": "markdown",
   "metadata": {},
   "source": [
    "$$ (-3,3.5) $$"
   ]
  },
  {
   "cell_type": "markdown",
   "metadata": {},
   "source": [
    "$$ y=f(x)=\\dfrac{x^2-2}{2} $$"
   ]
  },
  {
   "cell_type": "markdown",
   "metadata": {},
   "source": [
    "$$ f(-3)=\\dfrac{(-3)^2-2}{2}=3.5 $$"
   ]
  },
  {
   "cell_type": "markdown",
   "metadata": {},
   "source": [
    "|  $ x $ | $ f(x)=\\dfrac{x^2-2}{2} $ |\n",
    "|:------:|------------------------|\n",
    "| $ -3 $ | $ 3.5 $                   |\n",
    "| $ -2 $ | $ 1 $                   |\n",
    "| $ -1 $ | $ -0.5 $                   |\n",
    "|  $ 0 $ | $ -1 $                   |\n",
    "|  $ 1 $ | $ -0.5 $                   |\n",
    "|  $ 2 $ | $ 1 $                   |\n",
    "|  $ 3 $ | $ 3.5 $                   |"
   ]
  },
  {
   "cell_type": "markdown",
   "metadata": {},
   "source": [
    "Veamos cómo es esto en `Desmos`."
   ]
  },
  {
   "cell_type": "markdown",
   "metadata": {},
   "source": [
    "$$ \\circledast $$"
   ]
  },
  {
   "cell_type": "markdown",
   "metadata": {},
   "source": [
    "* ***Ejemplo:*** Despeja $x$ de la ecuación"
   ]
  },
  {
   "cell_type": "markdown",
   "metadata": {},
   "source": [
    "$$ y=\\dfrac{x^2-2}{2} $$"
   ]
  },
  {
   "cell_type": "markdown",
   "metadata": {},
   "source": [
    "$$ f(x)=\\dfrac{x^2-2}{2} $$"
   ]
  },
  {
   "cell_type": "markdown",
   "metadata": {},
   "source": [
    "Así como está escrita mi ecuación:\n",
    "* $y$ es la variable dependiente\n",
    "* $x$ es la variable independiente"
   ]
  },
  {
   "cell_type": "markdown",
   "metadata": {},
   "source": [
    "$$ 2y=x^2-2 $$"
   ]
  },
  {
   "cell_type": "markdown",
   "metadata": {},
   "source": [
    "$$ 2y+2=x^2 $$"
   ]
  },
  {
   "cell_type": "markdown",
   "metadata": {},
   "source": [
    "$$\\sqrt{2y+2}=x $$"
   ]
  },
  {
   "cell_type": "markdown",
   "metadata": {},
   "source": [
    "$$g(y)=\\sqrt{2y+2} $$"
   ]
  },
  {
   "cell_type": "markdown",
   "metadata": {},
   "source": [
    "Así como está escrita mi ecuación:\n",
    "* $x$ es la variable dependiente\n",
    "* $y$ es la variable independiente"
   ]
  },
  {
   "cell_type": "markdown",
   "metadata": {},
   "source": [
    "Veamos que"
   ]
  },
  {
   "cell_type": "markdown",
   "metadata": {},
   "source": [
    "$$g(-1)=0 $$"
   ]
  },
  {
   "cell_type": "markdown",
   "metadata": {},
   "source": [
    "$$ \\circledast $$"
   ]
  },
  {
   "cell_type": "markdown",
   "metadata": {},
   "source": [
    "## Modelación de funciones"
   ]
  },
  {
   "cell_type": "markdown",
   "metadata": {},
   "source": [
    "Me dan un problema y yo debo plantearlo en términos algebraicos para obtener una función."
   ]
  },
  {
   "cell_type": "markdown",
   "metadata": {},
   "source": [
    "### Pasos a seguir:"
   ]
  },
  {
   "cell_type": "markdown",
   "metadata": {},
   "source": [
    "1. Escribe todas las variables que tendrán importancia en el problema.\n",
    "2. Escribe todas relaciones que se te ocurran entre cada variable.\n",
    "3. La relación que tenga la variable dependiente (la función) la dejamos al final.\n",
    "4. Usaremos las demás relaciones, despejando la variable que **NO** sea la independiente, y sustituiremos una relación en otra."
   ]
  },
  {
   "cell_type": "markdown",
   "metadata": {},
   "source": [
    "* ***Ejemplo:*** ¿Cuál es el área de un círculo que tiene radio $R$? Escribe su área en función del radio."
   ]
  },
  {
   "cell_type": "markdown",
   "metadata": {},
   "source": [
    "* Datos:\n",
    "    * $A$, área: es la variable dependiente\n",
    "    * $R$, radio: es la variable independiente"
   ]
  },
  {
   "cell_type": "markdown",
   "metadata": {},
   "source": [
    "* Fórmulas:"
   ]
  },
  {
   "cell_type": "markdown",
   "metadata": {},
   "source": [
    "$$ A=\\pi R^2 $$"
   ]
  },
  {
   "cell_type": "markdown",
   "metadata": {},
   "source": [
    "$$ A(R)=\\pi R^2 $$"
   ]
  },
  {
   "cell_type": "markdown",
   "metadata": {},
   "source": [
    "$$ \\circledast $$"
   ]
  },
  {
   "cell_type": "markdown",
   "metadata": {},
   "source": [
    "* ***Ejemplo:*** ¿Cuál es el radio de un círculo que tiene área $A$? Escribe su radio en función del área."
   ]
  },
  {
   "cell_type": "markdown",
   "metadata": {},
   "source": [
    "* Datos:\n",
    "    * $R$, radio: es la variable dependiente\n",
    "    * $A$, área: es la variable independiente"
   ]
  },
  {
   "cell_type": "markdown",
   "metadata": {},
   "source": [
    "* Fórmulas:"
   ]
  },
  {
   "cell_type": "markdown",
   "metadata": {},
   "source": [
    "$$ A=\\pi R^2 $$"
   ]
  },
  {
   "cell_type": "markdown",
   "metadata": {},
   "source": [
    "$$ R^2=\\dfrac{A}{\\pi} $$"
   ]
  },
  {
   "cell_type": "markdown",
   "metadata": {},
   "source": [
    "$$ R=\\sqrt{\\dfrac{A}{\\pi}} $$"
   ]
  },
  {
   "cell_type": "markdown",
   "metadata": {},
   "source": [
    "$$ R(A)=\\sqrt{\\dfrac{A}{\\pi}} $$"
   ]
  },
  {
   "cell_type": "markdown",
   "metadata": {},
   "source": [
    "$$ \\circledast $$"
   ]
  },
  {
   "cell_type": "markdown",
   "metadata": {},
   "source": [
    "* ***Ejemplo:*** ¿Cuál es el área de un círculo que tiene perímetro $P$? Escribe su área en función del perímetro."
   ]
  },
  {
   "cell_type": "markdown",
   "metadata": {},
   "source": [
    "* Datos:\n",
    "    * $A$, área: es la variable dependiente\n",
    "    * $P$, perímetro es la variable independiente\n",
    "    * $R$, radio"
   ]
  },
  {
   "cell_type": "markdown",
   "metadata": {},
   "source": [
    "* Fórmulas:"
   ]
  },
  {
   "cell_type": "markdown",
   "metadata": {},
   "source": [
    "$$ A=\\pi R^2 $$"
   ]
  },
  {
   "cell_type": "markdown",
   "metadata": {},
   "source": [
    "$$ P=2\\pi R $$"
   ]
  },
  {
   "cell_type": "markdown",
   "metadata": {},
   "source": [
    "$$ R=\\dfrac{P}{2\\pi} $$"
   ]
  },
  {
   "cell_type": "markdown",
   "metadata": {},
   "source": [
    "$$ A=\\pi \\left(\\dfrac{P}{2\\pi}\\right)^2=\\pi\\dfrac{P^2}{4\\pi^2}=\\dfrac{P^2}{4\\pi} $$"
   ]
  },
  {
   "cell_type": "markdown",
   "metadata": {},
   "source": [
    "$$ A(P)=\\dfrac{P^2}{4\\pi} $$"
   ]
  },
  {
   "cell_type": "markdown",
   "metadata": {},
   "source": [
    "$$ \\circledast $$"
   ]
  },
  {
   "cell_type": "markdown",
   "metadata": {},
   "source": [
    "* ***Ejemplo:*** La diagonal de un cuadrado mide $x$ unidades. Escribe su área en función de la diagonal."
   ]
  },
  {
   "cell_type": "markdown",
   "metadata": {},
   "source": [
    "<img src=\"fractal1.png\" align=\"middle\" width=\"160\">"
   ]
  },
  {
   "cell_type": "markdown",
   "metadata": {},
   "source": [
    "* Datos:\n",
    "    * $A$, área: es la variable dependiente\n",
    "    * $x$, diagonal: es la variable independiente\n",
    "    * $\\ell$, lado del cuadrado"
   ]
  },
  {
   "cell_type": "markdown",
   "metadata": {},
   "source": [
    "* Fórmulas:"
   ]
  },
  {
   "cell_type": "markdown",
   "metadata": {},
   "source": [
    "$$ A=\\ell^2 $$"
   ]
  },
  {
   "cell_type": "markdown",
   "metadata": {},
   "source": [
    "Teorema de Pitágoras: $$ \\ell^2+\\ell^2=x^2 $$"
   ]
  },
  {
   "cell_type": "markdown",
   "metadata": {},
   "source": [
    "$$ 2\\ell^2=x^2 $$"
   ]
  },
  {
   "cell_type": "markdown",
   "metadata": {},
   "source": [
    "$$ \\ell^2=\\dfrac{x^2}{2} $$"
   ]
  },
  {
   "cell_type": "markdown",
   "metadata": {},
   "source": [
    "$$ \\ell=\\sqrt{\\dfrac{x^2}{2}} $$"
   ]
  },
  {
   "cell_type": "markdown",
   "metadata": {},
   "source": [
    "Al sustituir obtenemos la ecuación explícita"
   ]
  },
  {
   "cell_type": "markdown",
   "metadata": {},
   "source": [
    "$$ A=\\dfrac{x^2}{2} $$"
   ]
  },
  {
   "cell_type": "markdown",
   "metadata": {},
   "source": [
    "Nuestra función es"
   ]
  },
  {
   "cell_type": "markdown",
   "metadata": {},
   "source": [
    "$$ A(x)=\\dfrac{x^2}{2} $$"
   ]
  },
  {
   "cell_type": "markdown",
   "metadata": {},
   "source": [
    "$$ \\circledast $$"
   ]
  },
  {
   "cell_type": "markdown",
   "metadata": {},
   "source": [
    "* ***Ejemplo:*** Tenemos un triángulo isósceles que tiene 10 cm de perímetro y una base de 4 cm. ¿Cuál será su área?"
   ]
  },
  {
   "cell_type": "markdown",
   "metadata": {},
   "source": [
    "* Datos:\n",
    "    * $b=4$\n",
    "    * $P=10$\n",
    "    * $c=3$\n",
    "    * $A=?$"
   ]
  },
  {
   "cell_type": "markdown",
   "metadata": {},
   "source": [
    "* Fórmulas:"
   ]
  },
  {
   "cell_type": "markdown",
   "metadata": {},
   "source": [
    "$$ A=\\sqrt{s(s-a)(s-b)(s-c)} $$"
   ]
  },
  {
   "cell_type": "markdown",
   "metadata": {},
   "source": [
    "$a=c=3$, $b=4$"
   ]
  },
  {
   "cell_type": "markdown",
   "metadata": {},
   "source": [
    "$s=\\dfrac{P}{2}=5$"
   ]
  },
  {
   "cell_type": "markdown",
   "metadata": {},
   "source": [
    "$$ A=\\sqrt{5(5-3)(5-4)(5-3)} $$"
   ]
  },
  {
   "cell_type": "markdown",
   "metadata": {},
   "source": [
    "$$ =\\sqrt{5\\cdot2\\cdot1\\cdot2} $$"
   ]
  },
  {
   "cell_type": "markdown",
   "metadata": {},
   "source": [
    "$$ =\\sqrt{20}=\\sqrt{4\\cdot5}=\\sqrt{4}\\sqrt{5}=2\\sqrt{5} $$"
   ]
  },
  {
   "cell_type": "markdown",
   "metadata": {},
   "source": [
    "$$ \\circledast $$"
   ]
  },
  {
   "cell_type": "markdown",
   "metadata": {},
   "source": [
    "* ***Ejemplo:*** Tenemos un triángulo isósceles que tiene 10 cm de perímetro. Escribe su área en función de su base."
   ]
  },
  {
   "cell_type": "markdown",
   "metadata": {},
   "source": [
    "* Datos:\n",
    "    * $a$\n",
    "    * $b$, base: var. independiente\n",
    "    * $c$\n",
    "    * $P=10$\n",
    "    * $A$, área: var. dependiente"
   ]
  },
  {
   "cell_type": "markdown",
   "metadata": {},
   "source": [
    "* Fórmulas:"
   ]
  },
  {
   "cell_type": "markdown",
   "metadata": {},
   "source": [
    "Isósceles: \n",
    "$$a=c$$"
   ]
  },
  {
   "cell_type": "markdown",
   "metadata": {},
   "source": [
    "Perímetro: \n",
    "$$P=a+b+c$$"
   ]
  },
  {
   "cell_type": "markdown",
   "metadata": {},
   "source": [
    "Paso intermedio para Herón: \n",
    "$$s=\\dfrac{P}{2}$$"
   ]
  },
  {
   "cell_type": "markdown",
   "metadata": {},
   "source": [
    "Área: \n",
    "$$A=\\sqrt{s(s-a)(s-b)(s-c)}$$"
   ]
  },
  {
   "cell_type": "markdown",
   "metadata": {},
   "source": [
    "* Sustitución:"
   ]
  },
  {
   "cell_type": "markdown",
   "metadata": {},
   "source": [
    "$$P=c+b+c$$"
   ]
  },
  {
   "cell_type": "markdown",
   "metadata": {},
   "source": [
    "$$P=b+2c$$"
   ]
  },
  {
   "cell_type": "markdown",
   "metadata": {},
   "source": [
    "$$10=b+2c$$"
   ]
  },
  {
   "cell_type": "markdown",
   "metadata": {},
   "source": [
    "$$10-b=2c$$"
   ]
  },
  {
   "cell_type": "markdown",
   "metadata": {},
   "source": [
    "$$c=\\dfrac{10-b}{2}=\\dfrac{10}{2}-\\dfrac{b}{2}=5-\\dfrac{b}{2}$$"
   ]
  },
  {
   "cell_type": "markdown",
   "metadata": {},
   "source": [
    "$$s=\\dfrac{P}{2}=\\dfrac{10}{2}=5$$"
   ]
  },
  {
   "cell_type": "markdown",
   "metadata": {},
   "source": [
    "$$a=c$$"
   ]
  },
  {
   "cell_type": "markdown",
   "metadata": {},
   "source": [
    "$$A=\\sqrt{s(s-a)(s-b)(s-c)}$$"
   ]
  },
  {
   "cell_type": "markdown",
   "metadata": {},
   "source": [
    "$$A=\\sqrt{s(s-c)(s-b)(s-c)}$$"
   ]
  },
  {
   "cell_type": "markdown",
   "metadata": {},
   "source": [
    "$$A=\\sqrt{5(5-c)(5-b)(5-c)}$$"
   ]
  },
  {
   "cell_type": "markdown",
   "metadata": {},
   "source": [
    "$$A=\\sqrt{5\\left[5-\\left(5-\\dfrac{b}{2}\\right)\\right](5-b)\\left[5-\\left(5-\\dfrac{b}{2}\\right)\\right]}$$"
   ]
  },
  {
   "cell_type": "markdown",
   "metadata": {},
   "source": [
    "$$A=\\sqrt{5\\left(5-5+\\dfrac{b}{2}\\right)(5-b)\\left(5-5+\\dfrac{b}{2}\\right)}$$"
   ]
  },
  {
   "cell_type": "markdown",
   "metadata": {},
   "source": [
    "$$A=\\sqrt{5\\left(\\dfrac{b}{2}\\right)(5-b)\\left(\\dfrac{b}{2}\\right)}$$"
   ]
  },
  {
   "cell_type": "markdown",
   "metadata": {},
   "source": [
    "$$A=\\sqrt{\\left(\\dfrac{b}{2}\\right)^25(5-b)}$$"
   ]
  },
  {
   "cell_type": "markdown",
   "metadata": {},
   "source": [
    "$$A=\\sqrt{\\left(\\dfrac{b}{2}\\right)^2}\\sqrt{5(5-b)}$$"
   ]
  },
  {
   "cell_type": "markdown",
   "metadata": {},
   "source": [
    "$$A=\\dfrac{b}{2}\\sqrt{5(5-b)}$$"
   ]
  },
  {
   "cell_type": "markdown",
   "metadata": {},
   "source": [
    "$$A(b)=\\dfrac{b}{2}\\sqrt{5(5-b)}$$"
   ]
  },
  {
   "cell_type": "markdown",
   "metadata": {},
   "source": [
    "$$A(4)=\\dfrac{4}{2}\\sqrt{5(5-4)}=2\\sqrt{5}$$"
   ]
  },
  {
   "cell_type": "markdown",
   "metadata": {},
   "source": [
    "$$A(1)=\\dfrac{1}{2}\\sqrt{5(5-1)}=\\dfrac{1}{2}\\sqrt{20}$$"
   ]
  },
  {
   "cell_type": "markdown",
   "metadata": {},
   "source": [
    "$$ \\circledast $$"
   ]
  },
  {
   "cell_type": "markdown",
   "metadata": {},
   "source": [
    "* ***Ejemplo (curso anterior):*** Tenemos un triángulo isósceles que tiene 10 cm de perímetro. Escribe su área en función de su base."
   ]
  },
  {
   "cell_type": "markdown",
   "metadata": {},
   "source": [
    "* Datos:\n",
    "    * $h=10\\ \\rm{cm}$"
   ]
  },
  {
   "cell_type": "markdown",
   "metadata": {},
   "source": [
    "* Fórmulas:\n",
    "    * $A=\\dfrac{b\\cdot h}{2}$\n",
    "    * $P=d+d+b=2d+b$\n",
    "    * Teorema de Pitágoras $h^2+\\left(\\dfrac{b}{2}\\right)^2=d^2$"
   ]
  },
  {
   "cell_type": "markdown",
   "metadata": {},
   "source": [
    "* Sustitución"
   ]
  },
  {
   "cell_type": "markdown",
   "metadata": {},
   "source": [
    "$$ 10=2d+b $$"
   ]
  },
  {
   "cell_type": "markdown",
   "metadata": {},
   "source": [
    "La ecuación anterior es una ecuación implícita porque no tiene ninguna de las dos variables despejadas. Queremos despejar la variable que **NO** es la variable independiente ($b$)."
   ]
  },
  {
   "cell_type": "markdown",
   "metadata": {},
   "source": [
    "$$ 10-b=2d $$"
   ]
  },
  {
   "cell_type": "markdown",
   "metadata": {},
   "source": [
    "$$ \\dfrac{10-b}{2}=d $$"
   ]
  },
  {
   "cell_type": "markdown",
   "metadata": {},
   "source": [
    "Vamos a sustituir la variable despejada en otra fórmula para que ya no quede esa variable."
   ]
  },
  {
   "cell_type": "markdown",
   "metadata": {},
   "source": [
    "$$h^2+\\left(\\dfrac{b}{2}\\right)^2=\\left(\\dfrac{10-b}{2}\\right)^2$$"
   ]
  },
  {
   "cell_type": "markdown",
   "metadata": {},
   "source": [
    "La ecuación anterior es una ecuación implícita porque no tiene ninguna de las dos variables despejadas. Queremos despejar la variable que **NO** es la variable independiente ($b$)."
   ]
  },
  {
   "cell_type": "markdown",
   "metadata": {},
   "source": [
    "$$h^2=\\left(\\dfrac{10-b}{2}\\right)^2-\\left(\\dfrac{b}{2}\\right)^2$$"
   ]
  },
  {
   "cell_type": "markdown",
   "metadata": {},
   "source": [
    "$$h=\\sqrt{\\left(\\dfrac{10-b}{2}\\right)^2-\\left(\\dfrac{b}{2}\\right)^2}$$"
   ]
  },
  {
   "cell_type": "markdown",
   "metadata": {},
   "source": [
    "Finalmente sustituyo mi relación de la altura en la fórmula área:"
   ]
  },
  {
   "cell_type": "markdown",
   "metadata": {},
   "source": [
    "$$A=\\dfrac{b\\cdot h}{2}$$"
   ]
  },
  {
   "cell_type": "markdown",
   "metadata": {},
   "source": [
    "$$A(b)=\\dfrac{b}{2}\\sqrt{\\left(\\dfrac{10-b}{2}\\right)^2-\\left(\\dfrac{b}{2}\\right)^2}$$"
   ]
  },
  {
   "cell_type": "markdown",
   "metadata": {},
   "source": [
    "Ahora evaluamos la función en $b=4$:"
   ]
  },
  {
   "cell_type": "markdown",
   "metadata": {},
   "source": [
    "$$A(4)=\\dfrac{4}{2}\\sqrt{\\left(\\dfrac{10-4}{2}\\right)^2-\\left(\\dfrac{4}{2}\\right)^2}$$"
   ]
  },
  {
   "cell_type": "markdown",
   "metadata": {},
   "source": [
    "$$A(4)=2\\sqrt{\\left(\\dfrac{6}{2}\\right)^2-\\left(\\dfrac{4}{2}\\right)^2}$$"
   ]
  },
  {
   "cell_type": "markdown",
   "metadata": {},
   "source": [
    "$$A(4)=2\\sqrt{\\left(3\\right)^2-\\left(2\\right)^2}=2\\sqrt{5}$$"
   ]
  },
  {
   "cell_type": "markdown",
   "metadata": {},
   "source": [
    "$$ \\circledast $$"
   ]
  },
  {
   "cell_type": "markdown",
   "metadata": {},
   "source": [
    "# Situación: El área de un trapecio rectángulo con vértices en dos circunferencias"
   ]
  },
  {
   "cell_type": "markdown",
   "metadata": {},
   "source": [
    "**Si se tienen dos círculos tangentes en el punto $P_T$ con diámetros $\\overline{P_TD}=10\\ \\rm{cm}$ y $\\overline{P_TC}=5\\ \\rm{cm}$, respectivamente, como se muestra en la figura siguiente**"
   ]
  },
  {
   "cell_type": "markdown",
   "metadata": {},
   "source": [
    "<img src=\"situacion_circulos.png\" align=\"middle\" width=\"300\">"
   ]
  },
  {
   "cell_type": "markdown",
   "metadata": {},
   "source": [
    "Para ver esto más fácilmente revisen la siguiente animación:"
   ]
  },
  {
   "cell_type": "markdown",
   "metadata": {},
   "source": [
    "https://www.desmos.com/calculator/sjl82roclf"
   ]
  },
  {
   "cell_type": "markdown",
   "metadata": {},
   "source": [
    "**1. Expresar la altura $h$ en términos de la base mayor $x$ del trapecio [3 puntos]**"
   ]
  },
  {
   "cell_type": "markdown",
   "metadata": {},
   "source": [
    "A) $h(x)=\\dfrac{\\sqrt{100-x^2}}{4}$\n",
    "\n",
    "B) $h(x)=\\sqrt{\\dfrac{100-x^2}{4}}$\n",
    "\n",
    "C) $h(x)=\\dfrac{\\sqrt{100+x^2}}{4}$\n",
    "\n",
    "D) $h(x)=\\sqrt{\\dfrac{100+x^2}{4}}$"
   ]
  },
  {
   "cell_type": "markdown",
   "metadata": {},
   "source": [
    " **2. Expresar la base menor y en términos de la base mayor: [1 punto]**"
   ]
  },
  {
   "cell_type": "markdown",
   "metadata": {},
   "source": [
    "A) $y=\\sqrt{\\dfrac{x}{2}}$\n",
    "\n",
    "B) $y=\\dfrac{\\sqrt{x}}{2}$\n",
    "\n",
    "C) $y=\\dfrac{x}{2}$\n",
    "\n",
    "D) $y=\\dfrac{x}{4}$"
   ]
  },
  {
   "cell_type": "markdown",
   "metadata": {},
   "source": [
    "**3. El promedio de las dos bases de trapecio es: [1 punto]**"
   ]
  },
  {
   "cell_type": "markdown",
   "metadata": {},
   "source": [
    "A) $\\dfrac{2x+\\sqrt{x}}{4}$\n",
    "\n",
    "B) $\\dfrac{\\sqrt{2}x+\\sqrt{x}}{2\\sqrt{2}}$\n",
    "\n",
    "C) $\\dfrac{5}{4}x$\n",
    "\n",
    "D) $\\dfrac{3}{4}x$"
   ]
  },
  {
   "cell_type": "markdown",
   "metadata": {},
   "source": [
    "**4. El área del trapecio en términos de la base mayor es: [3 puntos]**"
   ]
  },
  {
   "cell_type": "markdown",
   "metadata": {},
   "source": [
    "A) $A_T(x)=\\dfrac{3x\\sqrt{100-x^2}}{16}$\n",
    "\n",
    "B) $A_T(x)=\\dfrac{3x\\sqrt{100+x^2}}{16}$\n",
    "\n",
    "C) $A_T(x)=\\dfrac{3x\\sqrt{100+x^2}}{4}$\n",
    "\n",
    "D) $A_T(x)=\\dfrac{3x\\sqrt{100-x^2}}{4}$"
   ]
  }
 ],
 "metadata": {
  "kernelspec": {
   "display_name": "Julia 1.1.0",
   "language": "julia",
   "name": "julia-1.1"
  },
  "language_info": {
   "file_extension": ".jl",
   "mimetype": "application/julia",
   "name": "julia",
   "version": "1.1.0"
  }
 },
 "nbformat": 4,
 "nbformat_minor": 4
}
